{
 "cells": [
  {
   "cell_type": "markdown",
   "metadata": {},
   "source": [
    "## Лабораторная работа 2"
   ]
  },
  {
   "cell_type": "code",
   "execution_count": 1,
   "metadata": {},
   "outputs": [],
   "source": [
    "import pandas as pd\n",
    "import numpy as np\n",
    "import itertools\n",
    "import math\n",
    "from IPython.display import display\n",
    "from cmath import isnan, nan\n",
    "from numpy import dot\n",
    "from numpy.linalg import norm\n",
    "\n",
    "from turtle import color\n",
    "from unicodedata import name\n",
    "import plotly.figure_factory as ff\n",
    "import matplotlib.pyplot as plt\n",
    "import plotly.express as px"
   ]
  },
  {
   "cell_type": "markdown",
   "metadata": {},
   "source": [
    "#### Получить исходные данные"
   ]
  },
  {
   "cell_type": "code",
   "execution_count": 2,
   "metadata": {},
   "outputs": [],
   "source": [
    "pd.set_option('display.max_columns', None)\n",
    "df0 = pd.read_csv('../lab_01/perfume/data.csv', delimiter=',', encoding=\"utf8\")\n",
    "df = df0.copy(deep=True)"
   ]
  },
  {
   "cell_type": "markdown",
   "metadata": {},
   "source": [
    "#### Получить характерные для семейств запахи"
   ]
  },
  {
   "cell_type": "code",
   "execution_count": 3,
   "metadata": {},
   "outputs": [
    {
     "data": {
      "text/html": [
       "<div>\n",
       "<style scoped>\n",
       "    .dataframe tbody tr th:only-of-type {\n",
       "        vertical-align: middle;\n",
       "    }\n",
       "\n",
       "    .dataframe tbody tr th {\n",
       "        vertical-align: top;\n",
       "    }\n",
       "\n",
       "    .dataframe thead th {\n",
       "        text-align: right;\n",
       "    }\n",
       "</style>\n",
       "<table border=\"1\" class=\"dataframe\">\n",
       "  <thead>\n",
       "    <tr style=\"text-align: right;\">\n",
       "      <th></th>\n",
       "      <th>семейство</th>\n",
       "      <th>активный</th>\n",
       "      <th>амбра</th>\n",
       "      <th>апельсин</th>\n",
       "      <th>белый чай</th>\n",
       "      <th>бергамот</th>\n",
       "      <th>благовоние</th>\n",
       "      <th>бодрящий</th>\n",
       "      <th>ваниль</th>\n",
       "      <th>виноград</th>\n",
       "      <th>гвоздика</th>\n",
       "      <th>герань</th>\n",
       "      <th>горный воздух</th>\n",
       "      <th>грейпфрут</th>\n",
       "      <th>древесный</th>\n",
       "      <th>дым</th>\n",
       "      <th>жизнерадостный</th>\n",
       "      <th>зеленое яблоко</th>\n",
       "      <th>зеленый чай</th>\n",
       "      <th>земля</th>\n",
       "      <th>игривый</th>\n",
       "      <th>имбирь</th>\n",
       "      <th>интенсивный</th>\n",
       "      <th>карамель</th>\n",
       "      <th>кедр</th>\n",
       "      <th>корица</th>\n",
       "      <th>кофе</th>\n",
       "      <th>куркума</th>\n",
       "      <th>лаванда</th>\n",
       "      <th>ладан</th>\n",
       "      <th>лайм</th>\n",
       "      <th>легкий</th>\n",
       "      <th>лимон</th>\n",
       "      <th>листья</th>\n",
       "      <th>массивный</th>\n",
       "      <th>металл</th>\n",
       "      <th>морозная свежесть</th>\n",
       "      <th>морской</th>\n",
       "      <th>мох</th>\n",
       "      <th>мускус</th>\n",
       "      <th>мягкий</th>\n",
       "      <th>насыщенный</th>\n",
       "      <th>ненавязчивый</th>\n",
       "      <th>необычный</th>\n",
       "      <th>огурец</th>\n",
       "      <th>орех</th>\n",
       "      <th>острый</th>\n",
       "      <th>папоротник</th>\n",
       "      <th>перец</th>\n",
       "      <th>персик</th>\n",
       "      <th>плотный</th>\n",
       "      <th>притягательный</th>\n",
       "      <th>пряно-горький</th>\n",
       "      <th>пряный</th>\n",
       "      <th>роза</th>\n",
       "      <th>роскошный</th>\n",
       "      <th>сандал</th>\n",
       "      <th>свежий</th>\n",
       "      <th>сладкий</th>\n",
       "      <th>сливочный</th>\n",
       "      <th>смола</th>\n",
       "      <th>согревающий</th>\n",
       "      <th>спокойный</th>\n",
       "      <th>спортивный</th>\n",
       "      <th>сухая трава</th>\n",
       "      <th>сухой</th>\n",
       "      <th>табак</th>\n",
       "      <th>таинственный</th>\n",
       "      <th>телесный</th>\n",
       "      <th>теплый</th>\n",
       "      <th>терпкий</th>\n",
       "      <th>томный</th>\n",
       "      <th>тонизирующий</th>\n",
       "      <th>тонкий</th>\n",
       "      <th>торжественный</th>\n",
       "      <th>трава</th>\n",
       "      <th>тяжелый</th>\n",
       "      <th>черный чай</th>\n",
       "      <th>чувственный</th>\n",
       "      <th>шоколад</th>\n",
       "      <th>энергичный</th>\n",
       "      <th>яркий</th>\n",
       "    </tr>\n",
       "  </thead>\n",
       "  <tbody>\n",
       "    <tr>\n",
       "      <th>0</th>\n",
       "      <td>восточные</td>\n",
       "      <td>0</td>\n",
       "      <td>1</td>\n",
       "      <td>0</td>\n",
       "      <td>0</td>\n",
       "      <td>0</td>\n",
       "      <td>1</td>\n",
       "      <td>0</td>\n",
       "      <td>1</td>\n",
       "      <td>0</td>\n",
       "      <td>0</td>\n",
       "      <td>0</td>\n",
       "      <td>0</td>\n",
       "      <td>0</td>\n",
       "      <td>1</td>\n",
       "      <td>1</td>\n",
       "      <td>0</td>\n",
       "      <td>0</td>\n",
       "      <td>0</td>\n",
       "      <td>0</td>\n",
       "      <td>0</td>\n",
       "      <td>0</td>\n",
       "      <td>1</td>\n",
       "      <td>1</td>\n",
       "      <td>0</td>\n",
       "      <td>0</td>\n",
       "      <td>1</td>\n",
       "      <td>0</td>\n",
       "      <td>0</td>\n",
       "      <td>1</td>\n",
       "      <td>0</td>\n",
       "      <td>0</td>\n",
       "      <td>0</td>\n",
       "      <td>0</td>\n",
       "      <td>0</td>\n",
       "      <td>0</td>\n",
       "      <td>0</td>\n",
       "      <td>0</td>\n",
       "      <td>0</td>\n",
       "      <td>1</td>\n",
       "      <td>0</td>\n",
       "      <td>1</td>\n",
       "      <td>0</td>\n",
       "      <td>0</td>\n",
       "      <td>0</td>\n",
       "      <td>0</td>\n",
       "      <td>0</td>\n",
       "      <td>0</td>\n",
       "      <td>0</td>\n",
       "      <td>0</td>\n",
       "      <td>1</td>\n",
       "      <td>0</td>\n",
       "      <td>0</td>\n",
       "      <td>1</td>\n",
       "      <td>1</td>\n",
       "      <td>1</td>\n",
       "      <td>0</td>\n",
       "      <td>0</td>\n",
       "      <td>0</td>\n",
       "      <td>0</td>\n",
       "      <td>1</td>\n",
       "      <td>0</td>\n",
       "      <td>0</td>\n",
       "      <td>0</td>\n",
       "      <td>0</td>\n",
       "      <td>1</td>\n",
       "      <td>1</td>\n",
       "      <td>0</td>\n",
       "      <td>0</td>\n",
       "      <td>0</td>\n",
       "      <td>0</td>\n",
       "      <td>1</td>\n",
       "      <td>0</td>\n",
       "      <td>0</td>\n",
       "      <td>1</td>\n",
       "      <td>0</td>\n",
       "      <td>1</td>\n",
       "      <td>1</td>\n",
       "      <td>1</td>\n",
       "      <td>1</td>\n",
       "      <td>0</td>\n",
       "      <td>0</td>\n",
       "    </tr>\n",
       "    <tr>\n",
       "      <th>1</th>\n",
       "      <td>древесные</td>\n",
       "      <td>0</td>\n",
       "      <td>0</td>\n",
       "      <td>0</td>\n",
       "      <td>0</td>\n",
       "      <td>0</td>\n",
       "      <td>0</td>\n",
       "      <td>0</td>\n",
       "      <td>0</td>\n",
       "      <td>0</td>\n",
       "      <td>0</td>\n",
       "      <td>0</td>\n",
       "      <td>0</td>\n",
       "      <td>0</td>\n",
       "      <td>1</td>\n",
       "      <td>1</td>\n",
       "      <td>0</td>\n",
       "      <td>0</td>\n",
       "      <td>0</td>\n",
       "      <td>1</td>\n",
       "      <td>0</td>\n",
       "      <td>0</td>\n",
       "      <td>0</td>\n",
       "      <td>0</td>\n",
       "      <td>1</td>\n",
       "      <td>0</td>\n",
       "      <td>0</td>\n",
       "      <td>0</td>\n",
       "      <td>0</td>\n",
       "      <td>0</td>\n",
       "      <td>0</td>\n",
       "      <td>0</td>\n",
       "      <td>0</td>\n",
       "      <td>0</td>\n",
       "      <td>0</td>\n",
       "      <td>1</td>\n",
       "      <td>0</td>\n",
       "      <td>0</td>\n",
       "      <td>1</td>\n",
       "      <td>0</td>\n",
       "      <td>0</td>\n",
       "      <td>0</td>\n",
       "      <td>0</td>\n",
       "      <td>0</td>\n",
       "      <td>0</td>\n",
       "      <td>0</td>\n",
       "      <td>0</td>\n",
       "      <td>1</td>\n",
       "      <td>0</td>\n",
       "      <td>0</td>\n",
       "      <td>0</td>\n",
       "      <td>0</td>\n",
       "      <td>0</td>\n",
       "      <td>0</td>\n",
       "      <td>0</td>\n",
       "      <td>0</td>\n",
       "      <td>1</td>\n",
       "      <td>0</td>\n",
       "      <td>1</td>\n",
       "      <td>1</td>\n",
       "      <td>1</td>\n",
       "      <td>1</td>\n",
       "      <td>0</td>\n",
       "      <td>0</td>\n",
       "      <td>0</td>\n",
       "      <td>0</td>\n",
       "      <td>0</td>\n",
       "      <td>1</td>\n",
       "      <td>0</td>\n",
       "      <td>1</td>\n",
       "      <td>0</td>\n",
       "      <td>0</td>\n",
       "      <td>0</td>\n",
       "      <td>0</td>\n",
       "      <td>0</td>\n",
       "      <td>0</td>\n",
       "      <td>0</td>\n",
       "      <td>0</td>\n",
       "      <td>1</td>\n",
       "      <td>0</td>\n",
       "      <td>0</td>\n",
       "      <td>0</td>\n",
       "    </tr>\n",
       "    <tr>\n",
       "      <th>2</th>\n",
       "      <td>цитрусовые</td>\n",
       "      <td>0</td>\n",
       "      <td>0</td>\n",
       "      <td>1</td>\n",
       "      <td>0</td>\n",
       "      <td>1</td>\n",
       "      <td>0</td>\n",
       "      <td>1</td>\n",
       "      <td>0</td>\n",
       "      <td>1</td>\n",
       "      <td>0</td>\n",
       "      <td>0</td>\n",
       "      <td>0</td>\n",
       "      <td>1</td>\n",
       "      <td>0</td>\n",
       "      <td>0</td>\n",
       "      <td>1</td>\n",
       "      <td>0</td>\n",
       "      <td>0</td>\n",
       "      <td>0</td>\n",
       "      <td>0</td>\n",
       "      <td>0</td>\n",
       "      <td>1</td>\n",
       "      <td>0</td>\n",
       "      <td>0</td>\n",
       "      <td>0</td>\n",
       "      <td>0</td>\n",
       "      <td>0</td>\n",
       "      <td>0</td>\n",
       "      <td>0</td>\n",
       "      <td>1</td>\n",
       "      <td>1</td>\n",
       "      <td>1</td>\n",
       "      <td>0</td>\n",
       "      <td>0</td>\n",
       "      <td>0</td>\n",
       "      <td>0</td>\n",
       "      <td>0</td>\n",
       "      <td>0</td>\n",
       "      <td>0</td>\n",
       "      <td>0</td>\n",
       "      <td>0</td>\n",
       "      <td>0</td>\n",
       "      <td>0</td>\n",
       "      <td>0</td>\n",
       "      <td>0</td>\n",
       "      <td>0</td>\n",
       "      <td>0</td>\n",
       "      <td>0</td>\n",
       "      <td>1</td>\n",
       "      <td>0</td>\n",
       "      <td>0</td>\n",
       "      <td>0</td>\n",
       "      <td>0</td>\n",
       "      <td>0</td>\n",
       "      <td>0</td>\n",
       "      <td>0</td>\n",
       "      <td>1</td>\n",
       "      <td>0</td>\n",
       "      <td>0</td>\n",
       "      <td>0</td>\n",
       "      <td>0</td>\n",
       "      <td>0</td>\n",
       "      <td>1</td>\n",
       "      <td>0</td>\n",
       "      <td>0</td>\n",
       "      <td>0</td>\n",
       "      <td>0</td>\n",
       "      <td>0</td>\n",
       "      <td>0</td>\n",
       "      <td>0</td>\n",
       "      <td>0</td>\n",
       "      <td>1</td>\n",
       "      <td>0</td>\n",
       "      <td>0</td>\n",
       "      <td>0</td>\n",
       "      <td>0</td>\n",
       "      <td>0</td>\n",
       "      <td>0</td>\n",
       "      <td>0</td>\n",
       "      <td>1</td>\n",
       "      <td>1</td>\n",
       "    </tr>\n",
       "    <tr>\n",
       "      <th>3</th>\n",
       "      <td>фруктовые</td>\n",
       "      <td>0</td>\n",
       "      <td>0</td>\n",
       "      <td>0</td>\n",
       "      <td>0</td>\n",
       "      <td>0</td>\n",
       "      <td>0</td>\n",
       "      <td>0</td>\n",
       "      <td>0</td>\n",
       "      <td>0</td>\n",
       "      <td>0</td>\n",
       "      <td>0</td>\n",
       "      <td>0</td>\n",
       "      <td>0</td>\n",
       "      <td>0</td>\n",
       "      <td>0</td>\n",
       "      <td>0</td>\n",
       "      <td>0</td>\n",
       "      <td>0</td>\n",
       "      <td>0</td>\n",
       "      <td>1</td>\n",
       "      <td>0</td>\n",
       "      <td>0</td>\n",
       "      <td>0</td>\n",
       "      <td>0</td>\n",
       "      <td>0</td>\n",
       "      <td>0</td>\n",
       "      <td>0</td>\n",
       "      <td>0</td>\n",
       "      <td>0</td>\n",
       "      <td>0</td>\n",
       "      <td>0</td>\n",
       "      <td>0</td>\n",
       "      <td>0</td>\n",
       "      <td>0</td>\n",
       "      <td>0</td>\n",
       "      <td>0</td>\n",
       "      <td>0</td>\n",
       "      <td>0</td>\n",
       "      <td>0</td>\n",
       "      <td>0</td>\n",
       "      <td>0</td>\n",
       "      <td>0</td>\n",
       "      <td>1</td>\n",
       "      <td>0</td>\n",
       "      <td>0</td>\n",
       "      <td>0</td>\n",
       "      <td>0</td>\n",
       "      <td>0</td>\n",
       "      <td>0</td>\n",
       "      <td>0</td>\n",
       "      <td>0</td>\n",
       "      <td>0</td>\n",
       "      <td>0</td>\n",
       "      <td>0</td>\n",
       "      <td>0</td>\n",
       "      <td>0</td>\n",
       "      <td>1</td>\n",
       "      <td>1</td>\n",
       "      <td>0</td>\n",
       "      <td>0</td>\n",
       "      <td>0</td>\n",
       "      <td>0</td>\n",
       "      <td>0</td>\n",
       "      <td>0</td>\n",
       "      <td>0</td>\n",
       "      <td>0</td>\n",
       "      <td>0</td>\n",
       "      <td>0</td>\n",
       "      <td>0</td>\n",
       "      <td>0</td>\n",
       "      <td>0</td>\n",
       "      <td>0</td>\n",
       "      <td>0</td>\n",
       "      <td>0</td>\n",
       "      <td>0</td>\n",
       "      <td>0</td>\n",
       "      <td>0</td>\n",
       "      <td>0</td>\n",
       "      <td>0</td>\n",
       "      <td>0</td>\n",
       "      <td>0</td>\n",
       "    </tr>\n",
       "    <tr>\n",
       "      <th>4</th>\n",
       "      <td>свежие</td>\n",
       "      <td>0</td>\n",
       "      <td>0</td>\n",
       "      <td>0</td>\n",
       "      <td>1</td>\n",
       "      <td>0</td>\n",
       "      <td>0</td>\n",
       "      <td>0</td>\n",
       "      <td>0</td>\n",
       "      <td>0</td>\n",
       "      <td>0</td>\n",
       "      <td>0</td>\n",
       "      <td>1</td>\n",
       "      <td>0</td>\n",
       "      <td>0</td>\n",
       "      <td>0</td>\n",
       "      <td>0</td>\n",
       "      <td>1</td>\n",
       "      <td>1</td>\n",
       "      <td>0</td>\n",
       "      <td>0</td>\n",
       "      <td>0</td>\n",
       "      <td>0</td>\n",
       "      <td>0</td>\n",
       "      <td>0</td>\n",
       "      <td>0</td>\n",
       "      <td>0</td>\n",
       "      <td>0</td>\n",
       "      <td>0</td>\n",
       "      <td>0</td>\n",
       "      <td>0</td>\n",
       "      <td>0</td>\n",
       "      <td>0</td>\n",
       "      <td>0</td>\n",
       "      <td>0</td>\n",
       "      <td>0</td>\n",
       "      <td>1</td>\n",
       "      <td>1</td>\n",
       "      <td>0</td>\n",
       "      <td>0</td>\n",
       "      <td>0</td>\n",
       "      <td>0</td>\n",
       "      <td>1</td>\n",
       "      <td>0</td>\n",
       "      <td>1</td>\n",
       "      <td>0</td>\n",
       "      <td>0</td>\n",
       "      <td>0</td>\n",
       "      <td>0</td>\n",
       "      <td>0</td>\n",
       "      <td>0</td>\n",
       "      <td>0</td>\n",
       "      <td>0</td>\n",
       "      <td>0</td>\n",
       "      <td>0</td>\n",
       "      <td>0</td>\n",
       "      <td>0</td>\n",
       "      <td>1</td>\n",
       "      <td>0</td>\n",
       "      <td>0</td>\n",
       "      <td>0</td>\n",
       "      <td>0</td>\n",
       "      <td>1</td>\n",
       "      <td>0</td>\n",
       "      <td>0</td>\n",
       "      <td>0</td>\n",
       "      <td>0</td>\n",
       "      <td>0</td>\n",
       "      <td>0</td>\n",
       "      <td>0</td>\n",
       "      <td>0</td>\n",
       "      <td>0</td>\n",
       "      <td>0</td>\n",
       "      <td>1</td>\n",
       "      <td>0</td>\n",
       "      <td>0</td>\n",
       "      <td>0</td>\n",
       "      <td>0</td>\n",
       "      <td>0</td>\n",
       "      <td>0</td>\n",
       "      <td>0</td>\n",
       "      <td>0</td>\n",
       "    </tr>\n",
       "    <tr>\n",
       "      <th>5</th>\n",
       "      <td>шипровые</td>\n",
       "      <td>0</td>\n",
       "      <td>0</td>\n",
       "      <td>0</td>\n",
       "      <td>0</td>\n",
       "      <td>1</td>\n",
       "      <td>0</td>\n",
       "      <td>0</td>\n",
       "      <td>0</td>\n",
       "      <td>0</td>\n",
       "      <td>0</td>\n",
       "      <td>0</td>\n",
       "      <td>0</td>\n",
       "      <td>0</td>\n",
       "      <td>0</td>\n",
       "      <td>0</td>\n",
       "      <td>0</td>\n",
       "      <td>0</td>\n",
       "      <td>0</td>\n",
       "      <td>0</td>\n",
       "      <td>0</td>\n",
       "      <td>0</td>\n",
       "      <td>0</td>\n",
       "      <td>0</td>\n",
       "      <td>0</td>\n",
       "      <td>0</td>\n",
       "      <td>0</td>\n",
       "      <td>0</td>\n",
       "      <td>0</td>\n",
       "      <td>0</td>\n",
       "      <td>0</td>\n",
       "      <td>0</td>\n",
       "      <td>0</td>\n",
       "      <td>0</td>\n",
       "      <td>0</td>\n",
       "      <td>0</td>\n",
       "      <td>0</td>\n",
       "      <td>0</td>\n",
       "      <td>1</td>\n",
       "      <td>0</td>\n",
       "      <td>0</td>\n",
       "      <td>0</td>\n",
       "      <td>0</td>\n",
       "      <td>0</td>\n",
       "      <td>0</td>\n",
       "      <td>0</td>\n",
       "      <td>0</td>\n",
       "      <td>0</td>\n",
       "      <td>0</td>\n",
       "      <td>0</td>\n",
       "      <td>0</td>\n",
       "      <td>0</td>\n",
       "      <td>0</td>\n",
       "      <td>0</td>\n",
       "      <td>0</td>\n",
       "      <td>0</td>\n",
       "      <td>0</td>\n",
       "      <td>0</td>\n",
       "      <td>0</td>\n",
       "      <td>0</td>\n",
       "      <td>0</td>\n",
       "      <td>1</td>\n",
       "      <td>0</td>\n",
       "      <td>0</td>\n",
       "      <td>0</td>\n",
       "      <td>0</td>\n",
       "      <td>0</td>\n",
       "      <td>1</td>\n",
       "      <td>0</td>\n",
       "      <td>0</td>\n",
       "      <td>0</td>\n",
       "      <td>0</td>\n",
       "      <td>0</td>\n",
       "      <td>0</td>\n",
       "      <td>0</td>\n",
       "      <td>0</td>\n",
       "      <td>0</td>\n",
       "      <td>0</td>\n",
       "      <td>1</td>\n",
       "      <td>0</td>\n",
       "      <td>0</td>\n",
       "      <td>0</td>\n",
       "    </tr>\n",
       "    <tr>\n",
       "      <th>6</th>\n",
       "      <td>пряные</td>\n",
       "      <td>1</td>\n",
       "      <td>0</td>\n",
       "      <td>0</td>\n",
       "      <td>0</td>\n",
       "      <td>0</td>\n",
       "      <td>0</td>\n",
       "      <td>0</td>\n",
       "      <td>0</td>\n",
       "      <td>0</td>\n",
       "      <td>1</td>\n",
       "      <td>0</td>\n",
       "      <td>0</td>\n",
       "      <td>0</td>\n",
       "      <td>0</td>\n",
       "      <td>0</td>\n",
       "      <td>0</td>\n",
       "      <td>0</td>\n",
       "      <td>0</td>\n",
       "      <td>0</td>\n",
       "      <td>0</td>\n",
       "      <td>1</td>\n",
       "      <td>0</td>\n",
       "      <td>0</td>\n",
       "      <td>0</td>\n",
       "      <td>1</td>\n",
       "      <td>0</td>\n",
       "      <td>1</td>\n",
       "      <td>0</td>\n",
       "      <td>0</td>\n",
       "      <td>0</td>\n",
       "      <td>0</td>\n",
       "      <td>0</td>\n",
       "      <td>0</td>\n",
       "      <td>0</td>\n",
       "      <td>0</td>\n",
       "      <td>0</td>\n",
       "      <td>0</td>\n",
       "      <td>0</td>\n",
       "      <td>0</td>\n",
       "      <td>0</td>\n",
       "      <td>0</td>\n",
       "      <td>0</td>\n",
       "      <td>0</td>\n",
       "      <td>0</td>\n",
       "      <td>1</td>\n",
       "      <td>1</td>\n",
       "      <td>0</td>\n",
       "      <td>1</td>\n",
       "      <td>0</td>\n",
       "      <td>0</td>\n",
       "      <td>0</td>\n",
       "      <td>0</td>\n",
       "      <td>0</td>\n",
       "      <td>0</td>\n",
       "      <td>0</td>\n",
       "      <td>0</td>\n",
       "      <td>0</td>\n",
       "      <td>0</td>\n",
       "      <td>0</td>\n",
       "      <td>0</td>\n",
       "      <td>1</td>\n",
       "      <td>0</td>\n",
       "      <td>0</td>\n",
       "      <td>0</td>\n",
       "      <td>0</td>\n",
       "      <td>0</td>\n",
       "      <td>0</td>\n",
       "      <td>0</td>\n",
       "      <td>0</td>\n",
       "      <td>0</td>\n",
       "      <td>0</td>\n",
       "      <td>0</td>\n",
       "      <td>0</td>\n",
       "      <td>0</td>\n",
       "      <td>0</td>\n",
       "      <td>0</td>\n",
       "      <td>0</td>\n",
       "      <td>0</td>\n",
       "      <td>0</td>\n",
       "      <td>0</td>\n",
       "      <td>0</td>\n",
       "    </tr>\n",
       "    <tr>\n",
       "      <th>7</th>\n",
       "      <td>цветочные</td>\n",
       "      <td>0</td>\n",
       "      <td>0</td>\n",
       "      <td>0</td>\n",
       "      <td>0</td>\n",
       "      <td>0</td>\n",
       "      <td>0</td>\n",
       "      <td>0</td>\n",
       "      <td>0</td>\n",
       "      <td>0</td>\n",
       "      <td>0</td>\n",
       "      <td>0</td>\n",
       "      <td>0</td>\n",
       "      <td>0</td>\n",
       "      <td>0</td>\n",
       "      <td>0</td>\n",
       "      <td>0</td>\n",
       "      <td>0</td>\n",
       "      <td>0</td>\n",
       "      <td>0</td>\n",
       "      <td>0</td>\n",
       "      <td>0</td>\n",
       "      <td>0</td>\n",
       "      <td>0</td>\n",
       "      <td>0</td>\n",
       "      <td>0</td>\n",
       "      <td>0</td>\n",
       "      <td>0</td>\n",
       "      <td>0</td>\n",
       "      <td>0</td>\n",
       "      <td>0</td>\n",
       "      <td>1</td>\n",
       "      <td>0</td>\n",
       "      <td>0</td>\n",
       "      <td>1</td>\n",
       "      <td>0</td>\n",
       "      <td>0</td>\n",
       "      <td>0</td>\n",
       "      <td>0</td>\n",
       "      <td>0</td>\n",
       "      <td>0</td>\n",
       "      <td>0</td>\n",
       "      <td>0</td>\n",
       "      <td>0</td>\n",
       "      <td>0</td>\n",
       "      <td>0</td>\n",
       "      <td>0</td>\n",
       "      <td>0</td>\n",
       "      <td>0</td>\n",
       "      <td>0</td>\n",
       "      <td>0</td>\n",
       "      <td>0</td>\n",
       "      <td>0</td>\n",
       "      <td>0</td>\n",
       "      <td>0</td>\n",
       "      <td>0</td>\n",
       "      <td>0</td>\n",
       "      <td>1</td>\n",
       "      <td>1</td>\n",
       "      <td>0</td>\n",
       "      <td>0</td>\n",
       "      <td>0</td>\n",
       "      <td>0</td>\n",
       "      <td>0</td>\n",
       "      <td>0</td>\n",
       "      <td>0</td>\n",
       "      <td>0</td>\n",
       "      <td>0</td>\n",
       "      <td>0</td>\n",
       "      <td>0</td>\n",
       "      <td>0</td>\n",
       "      <td>0</td>\n",
       "      <td>0</td>\n",
       "      <td>0</td>\n",
       "      <td>0</td>\n",
       "      <td>0</td>\n",
       "      <td>0</td>\n",
       "      <td>0</td>\n",
       "      <td>0</td>\n",
       "      <td>0</td>\n",
       "      <td>0</td>\n",
       "      <td>0</td>\n",
       "    </tr>\n",
       "    <tr>\n",
       "      <th>8</th>\n",
       "      <td>фужерные</td>\n",
       "      <td>0</td>\n",
       "      <td>0</td>\n",
       "      <td>0</td>\n",
       "      <td>0</td>\n",
       "      <td>1</td>\n",
       "      <td>0</td>\n",
       "      <td>0</td>\n",
       "      <td>0</td>\n",
       "      <td>0</td>\n",
       "      <td>0</td>\n",
       "      <td>1</td>\n",
       "      <td>0</td>\n",
       "      <td>0</td>\n",
       "      <td>0</td>\n",
       "      <td>0</td>\n",
       "      <td>0</td>\n",
       "      <td>0</td>\n",
       "      <td>0</td>\n",
       "      <td>0</td>\n",
       "      <td>0</td>\n",
       "      <td>0</td>\n",
       "      <td>0</td>\n",
       "      <td>0</td>\n",
       "      <td>0</td>\n",
       "      <td>0</td>\n",
       "      <td>0</td>\n",
       "      <td>0</td>\n",
       "      <td>1</td>\n",
       "      <td>0</td>\n",
       "      <td>0</td>\n",
       "      <td>0</td>\n",
       "      <td>0</td>\n",
       "      <td>1</td>\n",
       "      <td>0</td>\n",
       "      <td>0</td>\n",
       "      <td>0</td>\n",
       "      <td>0</td>\n",
       "      <td>1</td>\n",
       "      <td>0</td>\n",
       "      <td>0</td>\n",
       "      <td>0</td>\n",
       "      <td>0</td>\n",
       "      <td>0</td>\n",
       "      <td>0</td>\n",
       "      <td>0</td>\n",
       "      <td>0</td>\n",
       "      <td>1</td>\n",
       "      <td>0</td>\n",
       "      <td>0</td>\n",
       "      <td>0</td>\n",
       "      <td>0</td>\n",
       "      <td>1</td>\n",
       "      <td>0</td>\n",
       "      <td>0</td>\n",
       "      <td>0</td>\n",
       "      <td>0</td>\n",
       "      <td>0</td>\n",
       "      <td>0</td>\n",
       "      <td>0</td>\n",
       "      <td>0</td>\n",
       "      <td>0</td>\n",
       "      <td>0</td>\n",
       "      <td>0</td>\n",
       "      <td>1</td>\n",
       "      <td>0</td>\n",
       "      <td>0</td>\n",
       "      <td>0</td>\n",
       "      <td>0</td>\n",
       "      <td>0</td>\n",
       "      <td>1</td>\n",
       "      <td>0</td>\n",
       "      <td>0</td>\n",
       "      <td>0</td>\n",
       "      <td>0</td>\n",
       "      <td>1</td>\n",
       "      <td>0</td>\n",
       "      <td>0</td>\n",
       "      <td>0</td>\n",
       "      <td>0</td>\n",
       "      <td>0</td>\n",
       "      <td>0</td>\n",
       "    </tr>\n",
       "    <tr>\n",
       "      <th>9</th>\n",
       "      <td>мускусные</td>\n",
       "      <td>0</td>\n",
       "      <td>0</td>\n",
       "      <td>0</td>\n",
       "      <td>0</td>\n",
       "      <td>0</td>\n",
       "      <td>0</td>\n",
       "      <td>0</td>\n",
       "      <td>0</td>\n",
       "      <td>0</td>\n",
       "      <td>0</td>\n",
       "      <td>0</td>\n",
       "      <td>0</td>\n",
       "      <td>0</td>\n",
       "      <td>1</td>\n",
       "      <td>0</td>\n",
       "      <td>0</td>\n",
       "      <td>0</td>\n",
       "      <td>0</td>\n",
       "      <td>0</td>\n",
       "      <td>0</td>\n",
       "      <td>0</td>\n",
       "      <td>0</td>\n",
       "      <td>0</td>\n",
       "      <td>0</td>\n",
       "      <td>0</td>\n",
       "      <td>0</td>\n",
       "      <td>0</td>\n",
       "      <td>0</td>\n",
       "      <td>0</td>\n",
       "      <td>0</td>\n",
       "      <td>0</td>\n",
       "      <td>0</td>\n",
       "      <td>0</td>\n",
       "      <td>0</td>\n",
       "      <td>0</td>\n",
       "      <td>0</td>\n",
       "      <td>0</td>\n",
       "      <td>0</td>\n",
       "      <td>0</td>\n",
       "      <td>1</td>\n",
       "      <td>0</td>\n",
       "      <td>1</td>\n",
       "      <td>0</td>\n",
       "      <td>0</td>\n",
       "      <td>0</td>\n",
       "      <td>0</td>\n",
       "      <td>0</td>\n",
       "      <td>0</td>\n",
       "      <td>0</td>\n",
       "      <td>0</td>\n",
       "      <td>1</td>\n",
       "      <td>0</td>\n",
       "      <td>1</td>\n",
       "      <td>0</td>\n",
       "      <td>0</td>\n",
       "      <td>0</td>\n",
       "      <td>0</td>\n",
       "      <td>0</td>\n",
       "      <td>0</td>\n",
       "      <td>0</td>\n",
       "      <td>0</td>\n",
       "      <td>0</td>\n",
       "      <td>0</td>\n",
       "      <td>0</td>\n",
       "      <td>0</td>\n",
       "      <td>0</td>\n",
       "      <td>0</td>\n",
       "      <td>1</td>\n",
       "      <td>1</td>\n",
       "      <td>0</td>\n",
       "      <td>0</td>\n",
       "      <td>0</td>\n",
       "      <td>0</td>\n",
       "      <td>0</td>\n",
       "      <td>0</td>\n",
       "      <td>0</td>\n",
       "      <td>0</td>\n",
       "      <td>0</td>\n",
       "      <td>0</td>\n",
       "      <td>0</td>\n",
       "      <td>0</td>\n",
       "    </tr>\n",
       "  </tbody>\n",
       "</table>\n",
       "</div>"
      ],
      "text/plain": [
       "    семейство  активный  амбра  апельсин  белый чай  бергамот  благовоние  \\\n",
       "0   восточные         0      1         0          0         0           1   \n",
       "1   древесные         0      0         0          0         0           0   \n",
       "2  цитрусовые         0      0         1          0         1           0   \n",
       "3   фруктовые         0      0         0          0         0           0   \n",
       "4      свежие         0      0         0          1         0           0   \n",
       "5    шипровые         0      0         0          0         1           0   \n",
       "6      пряные         1      0         0          0         0           0   \n",
       "7   цветочные         0      0         0          0         0           0   \n",
       "8    фужерные         0      0         0          0         1           0   \n",
       "9   мускусные         0      0         0          0         0           0   \n",
       "\n",
       "   бодрящий  ваниль  виноград  гвоздика  герань  горный воздух  грейпфрут  \\\n",
       "0         0       1         0         0       0              0          0   \n",
       "1         0       0         0         0       0              0          0   \n",
       "2         1       0         1         0       0              0          1   \n",
       "3         0       0         0         0       0              0          0   \n",
       "4         0       0         0         0       0              1          0   \n",
       "5         0       0         0         0       0              0          0   \n",
       "6         0       0         0         1       0              0          0   \n",
       "7         0       0         0         0       0              0          0   \n",
       "8         0       0         0         0       1              0          0   \n",
       "9         0       0         0         0       0              0          0   \n",
       "\n",
       "   древесный  дым  жизнерадостный  зеленое яблоко  зеленый чай  земля  \\\n",
       "0          1    1               0               0            0      0   \n",
       "1          1    1               0               0            0      1   \n",
       "2          0    0               1               0            0      0   \n",
       "3          0    0               0               0            0      0   \n",
       "4          0    0               0               1            1      0   \n",
       "5          0    0               0               0            0      0   \n",
       "6          0    0               0               0            0      0   \n",
       "7          0    0               0               0            0      0   \n",
       "8          0    0               0               0            0      0   \n",
       "9          1    0               0               0            0      0   \n",
       "\n",
       "   игривый  имбирь  интенсивный  карамель  кедр  корица  кофе  куркума  \\\n",
       "0        0       0            1         1     0       0     1        0   \n",
       "1        0       0            0         0     1       0     0        0   \n",
       "2        0       0            1         0     0       0     0        0   \n",
       "3        1       0            0         0     0       0     0        0   \n",
       "4        0       0            0         0     0       0     0        0   \n",
       "5        0       0            0         0     0       0     0        0   \n",
       "6        0       1            0         0     0       1     0        1   \n",
       "7        0       0            0         0     0       0     0        0   \n",
       "8        0       0            0         0     0       0     0        0   \n",
       "9        0       0            0         0     0       0     0        0   \n",
       "\n",
       "   лаванда  ладан  лайм  легкий  лимон  листья  массивный  металл  \\\n",
       "0        0      1     0       0      0       0          0       0   \n",
       "1        0      0     0       0      0       0          0       1   \n",
       "2        0      0     1       1      1       0          0       0   \n",
       "3        0      0     0       0      0       0          0       0   \n",
       "4        0      0     0       0      0       0          0       0   \n",
       "5        0      0     0       0      0       0          0       0   \n",
       "6        0      0     0       0      0       0          0       0   \n",
       "7        0      0     0       1      0       0          1       0   \n",
       "8        1      0     0       0      0       1          0       0   \n",
       "9        0      0     0       0      0       0          0       0   \n",
       "\n",
       "   морозная свежесть  морской  мох  мускус  мягкий  насыщенный  ненавязчивый  \\\n",
       "0                  0        0    0       1       0           1             0   \n",
       "1                  0        0    1       0       0           0             0   \n",
       "2                  0        0    0       0       0           0             0   \n",
       "3                  0        0    0       0       0           0             0   \n",
       "4                  1        1    0       0       0           0             1   \n",
       "5                  0        0    1       0       0           0             0   \n",
       "6                  0        0    0       0       0           0             0   \n",
       "7                  0        0    0       0       0           0             0   \n",
       "8                  0        0    1       0       0           0             0   \n",
       "9                  0        0    0       0       1           0             1   \n",
       "\n",
       "   необычный  огурец  орех  острый  папоротник  перец  персик  плотный  \\\n",
       "0          0       0     0       0           0      0       0        1   \n",
       "1          0       0     0       0           1      0       0        0   \n",
       "2          0       0     0       0           0      0       1        0   \n",
       "3          1       0     0       0           0      0       0        0   \n",
       "4          0       1     0       0           0      0       0        0   \n",
       "5          0       0     0       0           0      0       0        0   \n",
       "6          0       0     1       1           0      1       0        0   \n",
       "7          0       0     0       0           0      0       0        0   \n",
       "8          0       0     0       0           1      0       0        0   \n",
       "9          0       0     0       0           0      0       0        0   \n",
       "\n",
       "   притягательный  пряно-горький  пряный  роза  роскошный  сандал  свежий  \\\n",
       "0               0              0       1     1          1       0       0   \n",
       "1               0              0       0     0          0       1       0   \n",
       "2               0              0       0     0          0       0       1   \n",
       "3               0              0       0     0          0       0       1   \n",
       "4               0              0       0     0          0       0       1   \n",
       "5               0              0       0     0          0       0       0   \n",
       "6               0              0       0     0          0       0       0   \n",
       "7               0              0       0     0          0       0       1   \n",
       "8               0              1       0     0          0       0       0   \n",
       "9               1              0       1     0          0       0       0   \n",
       "\n",
       "   сладкий  сливочный  смола  согревающий  спокойный  спортивный  сухая трава  \\\n",
       "0        0          0      1            0          0           0            0   \n",
       "1        1          1      1            1          0           0            0   \n",
       "2        0          0      0            0          0           1            0   \n",
       "3        1          0      0            0          0           0            0   \n",
       "4        0          0      0            0          1           0            0   \n",
       "5        0          0      0            1          0           0            0   \n",
       "6        0          0      0            1          0           0            0   \n",
       "7        1          0      0            0          0           0            0   \n",
       "8        0          0      0            0          0           0            1   \n",
       "9        0          0      0            0          0           0            0   \n",
       "\n",
       "   сухой  табак  таинственный  телесный  теплый  терпкий  томный  \\\n",
       "0      1      1             0         0       0        0       1   \n",
       "1      0      0             1         0       1        0       0   \n",
       "2      0      0             0         0       0        0       0   \n",
       "3      0      0             0         0       0        0       0   \n",
       "4      0      0             0         0       0        0       0   \n",
       "5      0      0             1         0       0        0       0   \n",
       "6      0      0             0         0       0        0       0   \n",
       "7      0      0             0         0       0        0       0   \n",
       "8      0      0             0         0       0        1       0   \n",
       "9      0      0             0         1       1        0       0   \n",
       "\n",
       "   тонизирующий  тонкий  торжественный  трава  тяжелый  черный чай  \\\n",
       "0             0       0              1      0        1           1   \n",
       "1             0       0              0      0        0           0   \n",
       "2             1       0              0      0        0           0   \n",
       "3             0       0              0      0        0           0   \n",
       "4             0       1              0      0        0           0   \n",
       "5             0       0              0      0        0           0   \n",
       "6             0       0              0      0        0           0   \n",
       "7             0       0              0      0        0           0   \n",
       "8             0       0              0      1        0           0   \n",
       "9             0       0              0      0        0           0   \n",
       "\n",
       "   чувственный  шоколад  энергичный  яркий  \n",
       "0            1        1           0      0  \n",
       "1            1        0           0      0  \n",
       "2            0        0           1      1  \n",
       "3            0        0           0      0  \n",
       "4            0        0           0      0  \n",
       "5            1        0           0      0  \n",
       "6            0        0           0      0  \n",
       "7            0        0           0      0  \n",
       "8            0        0           0      0  \n",
       "9            0        0           0      0  "
      ]
     },
     "execution_count": 3,
     "metadata": {},
     "output_type": "execute_result"
    }
   ],
   "source": [
    "smellLike = pd.read_csv('../lab_01/perfume/smells.csv', delimiter=',', encoding=\"utf8\")\n",
    "\n",
    "smellLike[\"семейство\"] = smellLike[\"семейство\"].map(lambda elem: str(elem).lower())\n",
    "smellLike[\"ассоциации\"] = smellLike[\"ассоциации\"].map(lambda elem: str(elem).lower().split(';')) + \\\n",
    "                          smellLike[\"характеристики\"].map(lambda elem: str(elem).lower().split(';'))\n",
    "\n",
    "itemAss = list(set(itertools.chain.from_iterable(smellLike[\"ассоциации\"].values)))\n",
    "itemAss.remove('nan')\n",
    "itemAss.sort()\n",
    "\n",
    "for item in itemAss:\n",
    "    smellLike[item] = smellLike[\"ассоциации\"].map(lambda elem: 1 if item in elem else 0)\n",
    "del smellLike[\"ассоциации\"]\n",
    "del smellLike[\"характеристики\"]\n",
    "smellLike\n"
   ]
  },
  {
   "cell_type": "markdown",
   "metadata": {},
   "source": [
    "#### Преобразовать параметры (пол, шлейф, концентрация, сегмент)"
   ]
  },
  {
   "cell_type": "code",
   "execution_count": 4,
   "metadata": {},
   "outputs": [],
   "source": [
    "sexDict = { \"м\": 0, \"у\": 0.5, \"ж\": 1 }\n",
    "df[\"пол\"] = df[\"пол\"].map(lambda elem: sexDict[elem])"
   ]
  },
  {
   "cell_type": "code",
   "execution_count": 5,
   "metadata": {},
   "outputs": [],
   "source": [
    "tailDict = { \"крайне незаметный\": 0, \"незаметный\": 0.25, \"средний\": 0.5, \"заметный\": 0.75, \"очень заметный\": 1}\n",
    "df[\"шлейф\"] = df[\"шлейф\"].map(lambda elem: tailDict[elem])"
   ]
  },
  {
   "cell_type": "code",
   "execution_count": 6,
   "metadata": {},
   "outputs": [],
   "source": [
    "conDict = {\"освежающая вода\": 0, \"одеколон\": 0.2, \"туалетная вода\": 0.4, \"парфюмерная вода\": 0.6, \"духи\": 0.8, \"масляные духи\": 1}\n",
    "df[\"концентрация\"] = df[\"концентрация\"].map(lambda elem: conDict[elem])"
   ]
  },
  {
   "cell_type": "code",
   "execution_count": 7,
   "metadata": {},
   "outputs": [],
   "source": [
    "segmentDict = {\"масс-маркет\": 0, \"люкс\": 0.5, \"нишевая парфюмерия\": 1}\n",
    "df[\"сегмент\"] = df[\"сегмент\"].map(lambda elem: segmentDict[elem])"
   ]
  },
  {
   "cell_type": "markdown",
   "metadata": {},
   "source": [
    "#### Задать матрицу смежности для парфюмерных школ"
   ]
  },
  {
   "cell_type": "code",
   "execution_count": 8,
   "metadata": {},
   "outputs": [],
   "source": [
    "countryDict = {\"Франция\": 0, \"Италия\": 1, \"ОАЭ\": 2, \"США\": 3, \"Россия\": 4, \"Германия\": 5}\n",
    "\n",
    "countryMatr = np.zeros((len(countryDict), len(countryDict)))\n",
    "countryMatr[countryDict[\"Франция\"]][countryDict[\"Италия\"]] = countryMatr[countryDict[\"Италия\"]][countryDict[\"Франция\"]] = 0.5\n",
    "countryMatr[countryDict[\"Франция\"]][countryDict[\"ОАЭ\"]] = countryMatr[countryDict[\"ОАЭ\"]][countryDict[\"Франция\"]] = 0.9\n",
    "countryMatr[countryDict[\"Франция\"]][countryDict[\"США\"]] = countryMatr[countryDict[\"США\"]][countryDict[\"Франция\"]] = 0.9\n",
    "countryMatr[countryDict[\"Франция\"]][countryDict[\"Россия\"]] = countryMatr[countryDict[\"Россия\"]][countryDict[\"Франция\"]] = 0.8\n",
    "countryMatr[countryDict[\"Франция\"]][countryDict[\"Германия\"]] = countryMatr[countryDict[\"Германия\"]][countryDict[\"Франция\"]] = 1\n",
    "\n",
    "countryMatr[countryDict[\"Италия\"]][countryDict[\"ОАЭ\"]] = countryMatr[countryDict[\"ОАЭ\"]][countryDict[\"Италия\"]] = 0.8\n",
    "countryMatr[countryDict[\"Италия\"]][countryDict[\"США\"]] = countryMatr[countryDict[\"США\"]][countryDict[\"Италия\"]] = 0.5\n",
    "countryMatr[countryDict[\"Италия\"]][countryDict[\"Россия\"]] = countryMatr[countryDict[\"Россия\"]][countryDict[\"Италия\"]] = 0.9\n",
    "countryMatr[countryDict[\"Италия\"]][countryDict[\"Германия\"]] = countryMatr[countryDict[\"Германия\"]][countryDict[\"Италия\"]] = 1\n",
    "\n",
    "countryMatr[countryDict[\"ОАЭ\"]][countryDict[\"США\"]] = countryMatr[countryDict[\"США\"]][countryDict[\"ОАЭ\"]] = 0.9\n",
    "countryMatr[countryDict[\"ОАЭ\"]][countryDict[\"Россия\"]] = countryMatr[countryDict[\"Россия\"]][countryDict[\"ОАЭ\"]] = 0.8\n",
    "countryMatr[countryDict[\"ОАЭ\"]][countryDict[\"Германия\"]] = countryMatr[countryDict[\"Германия\"]][countryDict[\"ОАЭ\"]] = 1\n",
    "\n",
    "countryMatr[countryDict[\"США\"]][countryDict[\"Россия\"]] = countryMatr[countryDict[\"Россия\"]][countryDict[\"США\"]] = 0.7\n",
    "countryMatr[countryDict[\"США\"]][countryDict[\"Германия\"]] = countryMatr[countryDict[\"Германия\"]][countryDict[\"США\"]] = 1\n",
    "\n",
    "countryMatr[countryDict[\"Россия\"]][countryDict[\"Германия\"]] = countryMatr[countryDict[\"Германия\"]][countryDict[\"Россия\"]] = 1"
   ]
  },
  {
   "cell_type": "markdown",
   "metadata": {},
   "source": [
    "#### Преобразование оставшихся данных"
   ]
  },
  {
   "cell_type": "code",
   "execution_count": 9,
   "metadata": {},
   "outputs": [],
   "source": [
    "df[\"верхние ноты\"] = df[\"верхние ноты\"].map(lambda elem: str(elem).lower().split(';'))\n",
    "df[\"ноты сердца\"] = df[\"ноты сердца\"].map(lambda elem: str(elem).lower().split(';'))\n",
    "df[\"базовые ноты\"] = df[\"базовые ноты\"].map(lambda elem: str(elem).lower().split(';'))\n",
    "df[\"запахи\"] = df[\"запахи\"].map(lambda elem: str(elem).lower().split(';'))\n",
    "df[\"семейства\"] = df[\"семейства\"].map(lambda elem: str(elem).lower().split(';'))\n",
    "df[\"время года\"] = df[\"время года\"].map(lambda elem: str(elem).lower().split(';'))\n",
    "df[\"характеристики аромата\"] = df[\"характеристики аромата\"].map(lambda elem: str(elem).lower().split(';'))"
   ]
  },
  {
   "cell_type": "code",
   "execution_count": 10,
   "metadata": {},
   "outputs": [],
   "source": [
    "df[\"возраст (до 18)\"] = df[\"возраст (до 18)\"].map(lambda elem: 1 if elem == '+' else 0)\n",
    "df[\"возраст (до 26)\"] = df[\"возраст (до 26)\"].map(lambda elem: 1 if elem == '+' else 0)\n",
    "df[\"возраст (до 35)\"] = df[\"возраст (до 35)\"].map(lambda elem: 1 if elem == '+' else 0)\n",
    "df[\"возраст (до 45)\"] = df[\"возраст (до 45)\"].map(lambda elem: 1 if elem == '+' else 0)\n",
    "df[\"возраст (после 45)\"] = df[\"возраст (после 45)\"].map(lambda elem: 1 if elem == '+' else 0)"
   ]
  },
  {
   "cell_type": "code",
   "execution_count": 11,
   "metadata": {},
   "outputs": [],
   "source": [
    "df[\"стойкость минимум (ч)\"] = df[\"стойкость минимум (ч)\"].values / max(df[\"стойкость минимум (ч)\"].values)\n",
    "df[\"стойкость максимум (ч)\"] = df[\"стойкость максимум (ч)\"].values / max(df[\"стойкость максимум (ч)\"].values)"
   ]
  },
  {
   "cell_type": "code",
   "execution_count": 12,
   "metadata": {},
   "outputs": [],
   "source": [
    "df[\"цена за 1 мл\"] = df[\"цена\"] / df[\"мл\"]\n",
    "df[\"цена за 1 мл\"] = (df[\"цена за 1 мл\"].values - min(df[\"цена за 1 мл\"].values)) / (max(df[\"цена за 1 мл\"].values) - min(df[\"цена за 1 мл\"].values))"
   ]
  },
  {
   "cell_type": "code",
   "execution_count": 13,
   "metadata": {},
   "outputs": [],
   "source": [
    "itemSeason = list(set(itertools.chain.from_iterable(df[\"время года\"].values)))\n",
    "itemSeason.remove('nan')\n",
    "for item in itemSeason:\n",
    "    df[item] = df[\"время года\"].map(lambda elem: 1 if item in elem else 0)"
   ]
  },
  {
   "cell_type": "code",
   "execution_count": 14,
   "metadata": {},
   "outputs": [],
   "source": [
    "itemSmells = list(set(itertools.chain.from_iterable(df[\"верхние ноты\"].values)) | \n",
    "             set(itertools.chain.from_iterable(df[\"ноты сердца\"].values))  |\n",
    "             set(itertools.chain.from_iterable(df[\"базовые ноты\"].values)) |\n",
    "             set(itertools.chain.from_iterable(df[\"запахи\"].values)) |\n",
    "             set(itertools.chain.from_iterable(df[\"характеристики аромата\"].values)))\n",
    "itemSmells.sort()\n",
    "itemSmells.remove('nan')\n",
    "for item in itemSmells:\n",
    "    df[item] = df[\"верхние ноты\"].map(lambda elem: 1 if item in elem else 0) | \\\n",
    "               df[\"ноты сердца\"].map(lambda elem: 1 if item in elem else 0) | \\\n",
    "               df[\"базовые ноты\"].map(lambda elem: 1 if item in elem else 0) | \\\n",
    "               df[\"запахи\"].map(lambda elem: 1 if item in elem else 0) | \\\n",
    "               df[\"характеристики аромата\"].map(lambda elem: 1 if item in elem else 0)\n",
    "\n",
    "itemFamily = list(set(itertools.chain.from_iterable(df[\"семейства\"].values)))\n",
    "for item in itemFamily:\n",
    "    df[item + \" семейства\"] = df[\"семейства\"].map(lambda elem: 1 if item in elem else 0)\n",
    "\n",
    "for smell in smellLike.keys().drop('семейство'):\n",
    "    df[smell] = df[\"семейства\"].map(lambda elem:\n",
    "        1 if sum(row[smell] for row in smellLike.iloc if row['семейство'] in elem) else 0)"
   ]
  },
  {
   "cell_type": "markdown",
   "metadata": {},
   "source": [
    "#### Некоторые параметры"
   ]
  },
  {
   "cell_type": "code",
   "execution_count": 15,
   "metadata": {},
   "outputs": [],
   "source": [
    "F_NAME = \"название\"\n",
    "F_DIST = \"расстояние\"\n",
    "\n",
    "nameArr = df[\"название\"]\n",
    "\n",
    "dfTree = pd.DataFrame(columns=[\"название\", \"семейства\"], data=df[[\"название\", \"семейства\"]].values)"
   ]
  },
  {
   "cell_type": "code",
   "execution_count": 16,
   "metadata": {},
   "outputs": [],
   "source": [
    "del df[\"верхние ноты\"]\n",
    "del df[\"ноты сердца\"]\n",
    "del df[\"базовые ноты\"]\n",
    "del df[\"запахи\"]\n",
    "del df[\"семейства\"]\n",
    "del df[\"время года\"]\n",
    "del df[\"характеристики аромата\"]\n",
    "del df[\"мл\"]\n",
    "del df[\"цена\"]"
   ]
  },
  {
   "cell_type": "code",
   "execution_count": 17,
   "metadata": {},
   "outputs": [
    {
     "data": {
      "text/html": [
       "<div>\n",
       "<style scoped>\n",
       "    .dataframe tbody tr th:only-of-type {\n",
       "        vertical-align: middle;\n",
       "    }\n",
       "\n",
       "    .dataframe tbody tr th {\n",
       "        vertical-align: top;\n",
       "    }\n",
       "\n",
       "    .dataframe thead th {\n",
       "        text-align: right;\n",
       "    }\n",
       "</style>\n",
       "<table border=\"1\" class=\"dataframe\">\n",
       "  <thead>\n",
       "    <tr style=\"text-align: right;\">\n",
       "      <th></th>\n",
       "      <th>название</th>\n",
       "      <th>пол</th>\n",
       "      <th>бренд</th>\n",
       "      <th>страна</th>\n",
       "      <th>сегмент</th>\n",
       "      <th>концентрация</th>\n",
       "      <th>стойкость минимум (ч)</th>\n",
       "      <th>стойкость максимум (ч)</th>\n",
       "      <th>шлейф</th>\n",
       "      <th>возраст (до 18)</th>\n",
       "      <th>возраст (до 26)</th>\n",
       "      <th>возраст (до 35)</th>\n",
       "      <th>возраст (до 45)</th>\n",
       "      <th>возраст (после 45)</th>\n",
       "      <th>цена за 1 мл</th>\n",
       "      <th>лето</th>\n",
       "      <th>весна</th>\n",
       "      <th>осень</th>\n",
       "      <th>зима</th>\n",
       "      <th>альдегиды</th>\n",
       "      <th>амбра</th>\n",
       "      <th>амброксан</th>\n",
       "      <th>ананас</th>\n",
       "      <th>апельсин</th>\n",
       "      <th>апельсиновый цвет</th>\n",
       "      <th>арбуз</th>\n",
       "      <th>белые цветы</th>\n",
       "      <th>белый перец</th>\n",
       "      <th>бензоин</th>\n",
       "      <th>бергамот</th>\n",
       "      <th>береза</th>\n",
       "      <th>бобы</th>\n",
       "      <th>бумага</th>\n",
       "      <th>ваниль</th>\n",
       "      <th>ветивер</th>\n",
       "      <th>вишня</th>\n",
       "      <th>гардения</th>\n",
       "      <th>гвоздика</th>\n",
       "      <th>герань</th>\n",
       "      <th>грейпфрут</th>\n",
       "      <th>груша</th>\n",
       "      <th>древесный аккорд</th>\n",
       "      <th>дубовый мох</th>\n",
       "      <th>дыня</th>\n",
       "      <th>жасмин</th>\n",
       "      <th>женственный</th>\n",
       "      <th>жженый сахар</th>\n",
       "      <th>замша</th>\n",
       "      <th>зеленое яблоко</th>\n",
       "      <th>зеленый аккорд</th>\n",
       "      <th>злаки</th>\n",
       "      <th>иланг-иланг</th>\n",
       "      <th>имбирь</th>\n",
       "      <th>ирис</th>\n",
       "      <th>какао</th>\n",
       "      <th>карамель</th>\n",
       "      <th>кардамон</th>\n",
       "      <th>кашмеран</th>\n",
       "      <th>кедр</th>\n",
       "      <th>киви</th>\n",
       "      <th>клубника</th>\n",
       "      <th>кожа</th>\n",
       "      <th>кожаный аккорд</th>\n",
       "      <th>корень фиалки</th>\n",
       "      <th>кориандр</th>\n",
       "      <th>корица</th>\n",
       "      <th>коричневый сахар</th>\n",
       "      <th>кофе</th>\n",
       "      <th>красное яблоко</th>\n",
       "      <th>лаванда</th>\n",
       "      <th>ладан</th>\n",
       "      <th>ландыш</th>\n",
       "      <th>лен</th>\n",
       "      <th>лилия</th>\n",
       "      <th>лимон</th>\n",
       "      <th>личи</th>\n",
       "      <th>магнолия</th>\n",
       "      <th>малина</th>\n",
       "      <th>мандарин</th>\n",
       "      <th>миндаль</th>\n",
       "      <th>можжевельник</th>\n",
       "      <th>мох</th>\n",
       "      <th>мускатный орех</th>\n",
       "      <th>мускус</th>\n",
       "      <th>нарцисс</th>\n",
       "      <th>нежный</th>\n",
       "      <th>нероли</th>\n",
       "      <th>опопанакс</th>\n",
       "      <th>орхидея</th>\n",
       "      <th>османтус</th>\n",
       "      <th>палисандр</th>\n",
       "      <th>пачули</th>\n",
       "      <th>пион</th>\n",
       "      <th>повседневный</th>\n",
       "      <th>полынь</th>\n",
       "      <th>праздничный</th>\n",
       "      <th>ревень</th>\n",
       "      <th>роза</th>\n",
       "      <th>розмарин</th>\n",
       "      <th>розовый перец</th>\n",
       "      <th>сандал</th>\n",
       "      <th>сахар</th>\n",
       "      <th>свежий</th>\n",
       "      <th>сексуальный</th>\n",
       "      <th>силколид</th>\n",
       "      <th>сирень</th>\n",
       "      <th>сладкая вата</th>\n",
       "      <th>сладкий</th>\n",
       "      <th>слива</th>\n",
       "      <th>специи</th>\n",
       "      <th>спортивный</th>\n",
       "      <th>стойкий</th>\n",
       "      <th>тиаре</th>\n",
       "      <th>тимьян</th>\n",
       "      <th>тмин</th>\n",
       "      <th>тропические фрукты</th>\n",
       "      <th>тубероза</th>\n",
       "      <th>уд</th>\n",
       "      <th>фиалка</th>\n",
       "      <th>франжипани</th>\n",
       "      <th>цвет персика</th>\n",
       "      <th>цибетин</th>\n",
       "      <th>цикламен</th>\n",
       "      <th>цитрусы</th>\n",
       "      <th>чай</th>\n",
       "      <th>черная смородина</th>\n",
       "      <th>черника</th>\n",
       "      <th>черный перец</th>\n",
       "      <th>чистый</th>\n",
       "      <th>шалфей</th>\n",
       "      <th>шафран</th>\n",
       "      <th>элеми</th>\n",
       "      <th>яблоко</th>\n",
       "      <th>янтарь</th>\n",
       "      <th>сладкие семейства</th>\n",
       "      <th>цитрусовые семейства</th>\n",
       "      <th>амбровые семейства</th>\n",
       "      <th>пряные семейства</th>\n",
       "      <th>водные семейства</th>\n",
       "      <th>восточные семейства</th>\n",
       "      <th>цветочные семейства</th>\n",
       "      <th>мускусные семейства</th>\n",
       "      <th>фужерные семейства</th>\n",
       "      <th>шипровые семейства</th>\n",
       "      <th>фруктовые семейства</th>\n",
       "      <th>древесные семейства</th>\n",
       "      <th>ароматические семейства</th>\n",
       "      <th>ванильные семейства</th>\n",
       "      <th>активный</th>\n",
       "      <th>белый чай</th>\n",
       "      <th>благовоние</th>\n",
       "      <th>бодрящий</th>\n",
       "      <th>виноград</th>\n",
       "      <th>горный воздух</th>\n",
       "      <th>древесный</th>\n",
       "      <th>дым</th>\n",
       "      <th>жизнерадостный</th>\n",
       "      <th>зеленый чай</th>\n",
       "      <th>земля</th>\n",
       "      <th>игривый</th>\n",
       "      <th>интенсивный</th>\n",
       "      <th>куркума</th>\n",
       "      <th>лайм</th>\n",
       "      <th>легкий</th>\n",
       "      <th>листья</th>\n",
       "      <th>массивный</th>\n",
       "      <th>металл</th>\n",
       "      <th>морозная свежесть</th>\n",
       "      <th>морской</th>\n",
       "      <th>мягкий</th>\n",
       "      <th>насыщенный</th>\n",
       "      <th>ненавязчивый</th>\n",
       "      <th>необычный</th>\n",
       "      <th>огурец</th>\n",
       "      <th>орех</th>\n",
       "      <th>острый</th>\n",
       "      <th>папоротник</th>\n",
       "      <th>перец</th>\n",
       "      <th>персик</th>\n",
       "      <th>плотный</th>\n",
       "      <th>притягательный</th>\n",
       "      <th>пряно-горький</th>\n",
       "      <th>пряный</th>\n",
       "      <th>роскошный</th>\n",
       "      <th>сливочный</th>\n",
       "      <th>смола</th>\n",
       "      <th>согревающий</th>\n",
       "      <th>спокойный</th>\n",
       "      <th>сухая трава</th>\n",
       "      <th>сухой</th>\n",
       "      <th>табак</th>\n",
       "      <th>таинственный</th>\n",
       "      <th>телесный</th>\n",
       "      <th>теплый</th>\n",
       "      <th>терпкий</th>\n",
       "      <th>томный</th>\n",
       "      <th>тонизирующий</th>\n",
       "      <th>тонкий</th>\n",
       "      <th>торжественный</th>\n",
       "      <th>трава</th>\n",
       "      <th>тяжелый</th>\n",
       "      <th>черный чай</th>\n",
       "      <th>чувственный</th>\n",
       "      <th>шоколад</th>\n",
       "      <th>энергичный</th>\n",
       "      <th>яркий</th>\n",
       "    </tr>\n",
       "  </thead>\n",
       "  <tbody>\n",
       "    <tr>\n",
       "      <th>0</th>\n",
       "      <td>Shalimar</td>\n",
       "      <td>1.0</td>\n",
       "      <td>Guerlain</td>\n",
       "      <td>Франция</td>\n",
       "      <td>0.5</td>\n",
       "      <td>0.8</td>\n",
       "      <td>0.166667</td>\n",
       "      <td>0.005</td>\n",
       "      <td>0.50</td>\n",
       "      <td>1</td>\n",
       "      <td>1</td>\n",
       "      <td>1</td>\n",
       "      <td>1</td>\n",
       "      <td>1</td>\n",
       "      <td>0.144143</td>\n",
       "      <td>0</td>\n",
       "      <td>0</td>\n",
       "      <td>1</td>\n",
       "      <td>1</td>\n",
       "      <td>0</td>\n",
       "      <td>1</td>\n",
       "      <td>0</td>\n",
       "      <td>0</td>\n",
       "      <td>0</td>\n",
       "      <td>0</td>\n",
       "      <td>0</td>\n",
       "      <td>0</td>\n",
       "      <td>0</td>\n",
       "      <td>0</td>\n",
       "      <td>0</td>\n",
       "      <td>0</td>\n",
       "      <td>1</td>\n",
       "      <td>0</td>\n",
       "      <td>1</td>\n",
       "      <td>1</td>\n",
       "      <td>0</td>\n",
       "      <td>0</td>\n",
       "      <td>1</td>\n",
       "      <td>0</td>\n",
       "      <td>0</td>\n",
       "      <td>0</td>\n",
       "      <td>0</td>\n",
       "      <td>0</td>\n",
       "      <td>0</td>\n",
       "      <td>1</td>\n",
       "      <td>0</td>\n",
       "      <td>0</td>\n",
       "      <td>0</td>\n",
       "      <td>0</td>\n",
       "      <td>0</td>\n",
       "      <td>0</td>\n",
       "      <td>0</td>\n",
       "      <td>1</td>\n",
       "      <td>1</td>\n",
       "      <td>0</td>\n",
       "      <td>1</td>\n",
       "      <td>0</td>\n",
       "      <td>0</td>\n",
       "      <td>0</td>\n",
       "      <td>0</td>\n",
       "      <td>0</td>\n",
       "      <td>0</td>\n",
       "      <td>1</td>\n",
       "      <td>0</td>\n",
       "      <td>0</td>\n",
       "      <td>1</td>\n",
       "      <td>0</td>\n",
       "      <td>1</td>\n",
       "      <td>0</td>\n",
       "      <td>0</td>\n",
       "      <td>1</td>\n",
       "      <td>0</td>\n",
       "      <td>0</td>\n",
       "      <td>0</td>\n",
       "      <td>0</td>\n",
       "      <td>0</td>\n",
       "      <td>0</td>\n",
       "      <td>0</td>\n",
       "      <td>1</td>\n",
       "      <td>0</td>\n",
       "      <td>0</td>\n",
       "      <td>0</td>\n",
       "      <td>0</td>\n",
       "      <td>1</td>\n",
       "      <td>0</td>\n",
       "      <td>0</td>\n",
       "      <td>0</td>\n",
       "      <td>1</td>\n",
       "      <td>0</td>\n",
       "      <td>0</td>\n",
       "      <td>0</td>\n",
       "      <td>1</td>\n",
       "      <td>0</td>\n",
       "      <td>0</td>\n",
       "      <td>0</td>\n",
       "      <td>0</td>\n",
       "      <td>0</td>\n",
       "      <td>1</td>\n",
       "      <td>0</td>\n",
       "      <td>0</td>\n",
       "      <td>0</td>\n",
       "      <td>0</td>\n",
       "      <td>0</td>\n",
       "      <td>0</td>\n",
       "      <td>0</td>\n",
       "      <td>0</td>\n",
       "      <td>0</td>\n",
       "      <td>0</td>\n",
       "      <td>0</td>\n",
       "      <td>0</td>\n",
       "      <td>0</td>\n",
       "      <td>0</td>\n",
       "      <td>0</td>\n",
       "      <td>0</td>\n",
       "      <td>0</td>\n",
       "      <td>0</td>\n",
       "      <td>0</td>\n",
       "      <td>0</td>\n",
       "      <td>0</td>\n",
       "      <td>0</td>\n",
       "      <td>0</td>\n",
       "      <td>1</td>\n",
       "      <td>0</td>\n",
       "      <td>1</td>\n",
       "      <td>0</td>\n",
       "      <td>0</td>\n",
       "      <td>0</td>\n",
       "      <td>0</td>\n",
       "      <td>0</td>\n",
       "      <td>0</td>\n",
       "      <td>0</td>\n",
       "      <td>0</td>\n",
       "      <td>0</td>\n",
       "      <td>0</td>\n",
       "      <td>0</td>\n",
       "      <td>0</td>\n",
       "      <td>0</td>\n",
       "      <td>1</td>\n",
       "      <td>0</td>\n",
       "      <td>1</td>\n",
       "      <td>0</td>\n",
       "      <td>0</td>\n",
       "      <td>0</td>\n",
       "      <td>0</td>\n",
       "      <td>0</td>\n",
       "      <td>0</td>\n",
       "      <td>0</td>\n",
       "      <td>0</td>\n",
       "      <td>1</td>\n",
       "      <td>0</td>\n",
       "      <td>1</td>\n",
       "      <td>0</td>\n",
       "      <td>0</td>\n",
       "      <td>0</td>\n",
       "      <td>1</td>\n",
       "      <td>1</td>\n",
       "      <td>0</td>\n",
       "      <td>0</td>\n",
       "      <td>0</td>\n",
       "      <td>0</td>\n",
       "      <td>1</td>\n",
       "      <td>1</td>\n",
       "      <td>0</td>\n",
       "      <td>0</td>\n",
       "      <td>0</td>\n",
       "      <td>0</td>\n",
       "      <td>0</td>\n",
       "      <td>0</td>\n",
       "      <td>0</td>\n",
       "      <td>0</td>\n",
       "      <td>1</td>\n",
       "      <td>0</td>\n",
       "      <td>0</td>\n",
       "      <td>0</td>\n",
       "      <td>1</td>\n",
       "      <td>1</td>\n",
       "      <td>0</td>\n",
       "      <td>1</td>\n",
       "      <td>0</td>\n",
       "      <td>1</td>\n",
       "      <td>0</td>\n",
       "      <td>0</td>\n",
       "      <td>1</td>\n",
       "      <td>1</td>\n",
       "      <td>0</td>\n",
       "      <td>1</td>\n",
       "      <td>1</td>\n",
       "      <td>0</td>\n",
       "      <td>0</td>\n",
       "      <td>1</td>\n",
       "      <td>1</td>\n",
       "      <td>0</td>\n",
       "      <td>0</td>\n",
       "      <td>0</td>\n",
       "      <td>0</td>\n",
       "      <td>1</td>\n",
       "      <td>0</td>\n",
       "      <td>0</td>\n",
       "      <td>1</td>\n",
       "      <td>0</td>\n",
       "      <td>1</td>\n",
       "      <td>1</td>\n",
       "      <td>1</td>\n",
       "      <td>1</td>\n",
       "      <td>0</td>\n",
       "      <td>0</td>\n",
       "    </tr>\n",
       "    <tr>\n",
       "      <th>1</th>\n",
       "      <td>3 L'Imperatrice</td>\n",
       "      <td>1.0</td>\n",
       "      <td>Dolce&amp;Gabbana</td>\n",
       "      <td>Италия</td>\n",
       "      <td>0.5</td>\n",
       "      <td>0.4</td>\n",
       "      <td>1.000000</td>\n",
       "      <td>1.000</td>\n",
       "      <td>1.00</td>\n",
       "      <td>1</td>\n",
       "      <td>1</td>\n",
       "      <td>1</td>\n",
       "      <td>1</td>\n",
       "      <td>1</td>\n",
       "      <td>0.079759</td>\n",
       "      <td>1</td>\n",
       "      <td>1</td>\n",
       "      <td>0</td>\n",
       "      <td>0</td>\n",
       "      <td>0</td>\n",
       "      <td>0</td>\n",
       "      <td>0</td>\n",
       "      <td>0</td>\n",
       "      <td>0</td>\n",
       "      <td>0</td>\n",
       "      <td>1</td>\n",
       "      <td>0</td>\n",
       "      <td>0</td>\n",
       "      <td>0</td>\n",
       "      <td>0</td>\n",
       "      <td>0</td>\n",
       "      <td>0</td>\n",
       "      <td>0</td>\n",
       "      <td>0</td>\n",
       "      <td>0</td>\n",
       "      <td>0</td>\n",
       "      <td>0</td>\n",
       "      <td>0</td>\n",
       "      <td>0</td>\n",
       "      <td>0</td>\n",
       "      <td>0</td>\n",
       "      <td>0</td>\n",
       "      <td>0</td>\n",
       "      <td>0</td>\n",
       "      <td>1</td>\n",
       "      <td>0</td>\n",
       "      <td>0</td>\n",
       "      <td>0</td>\n",
       "      <td>0</td>\n",
       "      <td>0</td>\n",
       "      <td>0</td>\n",
       "      <td>0</td>\n",
       "      <td>0</td>\n",
       "      <td>0</td>\n",
       "      <td>0</td>\n",
       "      <td>0</td>\n",
       "      <td>0</td>\n",
       "      <td>0</td>\n",
       "      <td>0</td>\n",
       "      <td>1</td>\n",
       "      <td>0</td>\n",
       "      <td>0</td>\n",
       "      <td>0</td>\n",
       "      <td>0</td>\n",
       "      <td>0</td>\n",
       "      <td>0</td>\n",
       "      <td>0</td>\n",
       "      <td>0</td>\n",
       "      <td>0</td>\n",
       "      <td>0</td>\n",
       "      <td>0</td>\n",
       "      <td>0</td>\n",
       "      <td>0</td>\n",
       "      <td>0</td>\n",
       "      <td>0</td>\n",
       "      <td>0</td>\n",
       "      <td>0</td>\n",
       "      <td>0</td>\n",
       "      <td>0</td>\n",
       "      <td>0</td>\n",
       "      <td>0</td>\n",
       "      <td>0</td>\n",
       "      <td>0</td>\n",
       "      <td>0</td>\n",
       "      <td>0</td>\n",
       "      <td>0</td>\n",
       "      <td>0</td>\n",
       "      <td>0</td>\n",
       "      <td>0</td>\n",
       "      <td>0</td>\n",
       "      <td>0</td>\n",
       "      <td>0</td>\n",
       "      <td>0</td>\n",
       "      <td>1</td>\n",
       "      <td>0</td>\n",
       "      <td>0</td>\n",
       "      <td>1</td>\n",
       "      <td>0</td>\n",
       "      <td>0</td>\n",
       "      <td>1</td>\n",
       "      <td>0</td>\n",
       "      <td>0</td>\n",
       "      <td>1</td>\n",
       "      <td>0</td>\n",
       "      <td>0</td>\n",
       "      <td>0</td>\n",
       "      <td>0</td>\n",
       "      <td>1</td>\n",
       "      <td>0</td>\n",
       "      <td>0</td>\n",
       "      <td>0</td>\n",
       "      <td>0</td>\n",
       "      <td>0</td>\n",
       "      <td>0</td>\n",
       "      <td>0</td>\n",
       "      <td>1</td>\n",
       "      <td>0</td>\n",
       "      <td>0</td>\n",
       "      <td>0</td>\n",
       "      <td>0</td>\n",
       "      <td>0</td>\n",
       "      <td>0</td>\n",
       "      <td>1</td>\n",
       "      <td>0</td>\n",
       "      <td>0</td>\n",
       "      <td>0</td>\n",
       "      <td>0</td>\n",
       "      <td>0</td>\n",
       "      <td>0</td>\n",
       "      <td>0</td>\n",
       "      <td>0</td>\n",
       "      <td>0</td>\n",
       "      <td>0</td>\n",
       "      <td>0</td>\n",
       "      <td>0</td>\n",
       "      <td>0</td>\n",
       "      <td>0</td>\n",
       "      <td>0</td>\n",
       "      <td>1</td>\n",
       "      <td>0</td>\n",
       "      <td>1</td>\n",
       "      <td>0</td>\n",
       "      <td>0</td>\n",
       "      <td>0</td>\n",
       "      <td>0</td>\n",
       "      <td>0</td>\n",
       "      <td>0</td>\n",
       "      <td>0</td>\n",
       "      <td>0</td>\n",
       "      <td>0</td>\n",
       "      <td>0</td>\n",
       "      <td>0</td>\n",
       "      <td>0</td>\n",
       "      <td>0</td>\n",
       "      <td>0</td>\n",
       "      <td>0</td>\n",
       "      <td>0</td>\n",
       "      <td>0</td>\n",
       "      <td>0</td>\n",
       "      <td>0</td>\n",
       "      <td>0</td>\n",
       "      <td>0</td>\n",
       "      <td>0</td>\n",
       "      <td>1</td>\n",
       "      <td>0</td>\n",
       "      <td>1</td>\n",
       "      <td>0</td>\n",
       "      <td>0</td>\n",
       "      <td>0</td>\n",
       "      <td>0</td>\n",
       "      <td>0</td>\n",
       "      <td>0</td>\n",
       "      <td>0</td>\n",
       "      <td>0</td>\n",
       "      <td>0</td>\n",
       "      <td>0</td>\n",
       "      <td>0</td>\n",
       "      <td>0</td>\n",
       "      <td>0</td>\n",
       "      <td>0</td>\n",
       "      <td>0</td>\n",
       "      <td>0</td>\n",
       "      <td>0</td>\n",
       "      <td>0</td>\n",
       "      <td>0</td>\n",
       "      <td>0</td>\n",
       "      <td>0</td>\n",
       "      <td>0</td>\n",
       "      <td>0</td>\n",
       "      <td>0</td>\n",
       "      <td>0</td>\n",
       "      <td>0</td>\n",
       "      <td>0</td>\n",
       "      <td>0</td>\n",
       "      <td>0</td>\n",
       "      <td>0</td>\n",
       "      <td>0</td>\n",
       "      <td>0</td>\n",
       "      <td>0</td>\n",
       "      <td>0</td>\n",
       "      <td>0</td>\n",
       "      <td>0</td>\n",
       "      <td>0</td>\n",
       "      <td>0</td>\n",
       "      <td>0</td>\n",
       "      <td>0</td>\n",
       "    </tr>\n",
       "    <tr>\n",
       "      <th>2</th>\n",
       "      <td>1001 Nights</td>\n",
       "      <td>1.0</td>\n",
       "      <td>Ajmal</td>\n",
       "      <td>ОАЭ</td>\n",
       "      <td>0.5</td>\n",
       "      <td>1.0</td>\n",
       "      <td>0.416667</td>\n",
       "      <td>0.012</td>\n",
       "      <td>0.50</td>\n",
       "      <td>1</td>\n",
       "      <td>1</td>\n",
       "      <td>1</td>\n",
       "      <td>1</td>\n",
       "      <td>1</td>\n",
       "      <td>0.008665</td>\n",
       "      <td>0</td>\n",
       "      <td>0</td>\n",
       "      <td>0</td>\n",
       "      <td>0</td>\n",
       "      <td>0</td>\n",
       "      <td>0</td>\n",
       "      <td>0</td>\n",
       "      <td>0</td>\n",
       "      <td>0</td>\n",
       "      <td>0</td>\n",
       "      <td>0</td>\n",
       "      <td>0</td>\n",
       "      <td>0</td>\n",
       "      <td>0</td>\n",
       "      <td>0</td>\n",
       "      <td>0</td>\n",
       "      <td>0</td>\n",
       "      <td>0</td>\n",
       "      <td>0</td>\n",
       "      <td>0</td>\n",
       "      <td>0</td>\n",
       "      <td>0</td>\n",
       "      <td>0</td>\n",
       "      <td>0</td>\n",
       "      <td>0</td>\n",
       "      <td>0</td>\n",
       "      <td>1</td>\n",
       "      <td>0</td>\n",
       "      <td>0</td>\n",
       "      <td>0</td>\n",
       "      <td>0</td>\n",
       "      <td>0</td>\n",
       "      <td>0</td>\n",
       "      <td>0</td>\n",
       "      <td>0</td>\n",
       "      <td>0</td>\n",
       "      <td>0</td>\n",
       "      <td>0</td>\n",
       "      <td>0</td>\n",
       "      <td>0</td>\n",
       "      <td>0</td>\n",
       "      <td>0</td>\n",
       "      <td>0</td>\n",
       "      <td>1</td>\n",
       "      <td>0</td>\n",
       "      <td>0</td>\n",
       "      <td>0</td>\n",
       "      <td>0</td>\n",
       "      <td>0</td>\n",
       "      <td>0</td>\n",
       "      <td>0</td>\n",
       "      <td>0</td>\n",
       "      <td>0</td>\n",
       "      <td>0</td>\n",
       "      <td>0</td>\n",
       "      <td>0</td>\n",
       "      <td>0</td>\n",
       "      <td>0</td>\n",
       "      <td>0</td>\n",
       "      <td>0</td>\n",
       "      <td>0</td>\n",
       "      <td>0</td>\n",
       "      <td>0</td>\n",
       "      <td>0</td>\n",
       "      <td>0</td>\n",
       "      <td>0</td>\n",
       "      <td>1</td>\n",
       "      <td>0</td>\n",
       "      <td>0</td>\n",
       "      <td>0</td>\n",
       "      <td>0</td>\n",
       "      <td>0</td>\n",
       "      <td>0</td>\n",
       "      <td>0</td>\n",
       "      <td>0</td>\n",
       "      <td>0</td>\n",
       "      <td>0</td>\n",
       "      <td>0</td>\n",
       "      <td>0</td>\n",
       "      <td>0</td>\n",
       "      <td>0</td>\n",
       "      <td>0</td>\n",
       "      <td>0</td>\n",
       "      <td>0</td>\n",
       "      <td>0</td>\n",
       "      <td>1</td>\n",
       "      <td>0</td>\n",
       "      <td>1</td>\n",
       "      <td>0</td>\n",
       "      <td>0</td>\n",
       "      <td>0</td>\n",
       "      <td>0</td>\n",
       "      <td>1</td>\n",
       "      <td>0</td>\n",
       "      <td>1</td>\n",
       "      <td>0</td>\n",
       "      <td>0</td>\n",
       "      <td>0</td>\n",
       "      <td>0</td>\n",
       "      <td>0</td>\n",
       "      <td>0</td>\n",
       "      <td>0</td>\n",
       "      <td>0</td>\n",
       "      <td>0</td>\n",
       "      <td>0</td>\n",
       "      <td>0</td>\n",
       "      <td>0</td>\n",
       "      <td>0</td>\n",
       "      <td>0</td>\n",
       "      <td>0</td>\n",
       "      <td>0</td>\n",
       "      <td>0</td>\n",
       "      <td>0</td>\n",
       "      <td>0</td>\n",
       "      <td>0</td>\n",
       "      <td>0</td>\n",
       "      <td>0</td>\n",
       "      <td>0</td>\n",
       "      <td>0</td>\n",
       "      <td>0</td>\n",
       "      <td>0</td>\n",
       "      <td>0</td>\n",
       "      <td>0</td>\n",
       "      <td>0</td>\n",
       "      <td>0</td>\n",
       "      <td>1</td>\n",
       "      <td>1</td>\n",
       "      <td>0</td>\n",
       "      <td>0</td>\n",
       "      <td>0</td>\n",
       "      <td>1</td>\n",
       "      <td>0</td>\n",
       "      <td>0</td>\n",
       "      <td>0</td>\n",
       "      <td>0</td>\n",
       "      <td>0</td>\n",
       "      <td>0</td>\n",
       "      <td>0</td>\n",
       "      <td>0</td>\n",
       "      <td>1</td>\n",
       "      <td>1</td>\n",
       "      <td>0</td>\n",
       "      <td>0</td>\n",
       "      <td>1</td>\n",
       "      <td>0</td>\n",
       "      <td>0</td>\n",
       "      <td>0</td>\n",
       "      <td>0</td>\n",
       "      <td>1</td>\n",
       "      <td>0</td>\n",
       "      <td>1</td>\n",
       "      <td>1</td>\n",
       "      <td>0</td>\n",
       "      <td>0</td>\n",
       "      <td>1</td>\n",
       "      <td>0</td>\n",
       "      <td>1</td>\n",
       "      <td>0</td>\n",
       "      <td>0</td>\n",
       "      <td>0</td>\n",
       "      <td>0</td>\n",
       "      <td>1</td>\n",
       "      <td>0</td>\n",
       "      <td>0</td>\n",
       "      <td>0</td>\n",
       "      <td>1</td>\n",
       "      <td>0</td>\n",
       "      <td>1</td>\n",
       "      <td>0</td>\n",
       "      <td>1</td>\n",
       "      <td>1</td>\n",
       "      <td>1</td>\n",
       "      <td>0</td>\n",
       "      <td>0</td>\n",
       "      <td>0</td>\n",
       "      <td>0</td>\n",
       "      <td>1</td>\n",
       "      <td>1</td>\n",
       "      <td>1</td>\n",
       "      <td>0</td>\n",
       "      <td>0</td>\n",
       "      <td>0</td>\n",
       "      <td>0</td>\n",
       "      <td>0</td>\n",
       "      <td>0</td>\n",
       "      <td>0</td>\n",
       "      <td>0</td>\n",
       "      <td>1</td>\n",
       "      <td>0</td>\n",
       "      <td>0</td>\n",
       "      <td>0</td>\n",
       "    </tr>\n",
       "    <tr>\n",
       "      <th>3</th>\n",
       "      <td>Sabina</td>\n",
       "      <td>1.0</td>\n",
       "      <td>Arabesque Perfumes</td>\n",
       "      <td>ОАЭ</td>\n",
       "      <td>1.0</td>\n",
       "      <td>0.8</td>\n",
       "      <td>0.416667</td>\n",
       "      <td>0.012</td>\n",
       "      <td>0.50</td>\n",
       "      <td>0</td>\n",
       "      <td>0</td>\n",
       "      <td>1</td>\n",
       "      <td>1</td>\n",
       "      <td>1</td>\n",
       "      <td>0.329302</td>\n",
       "      <td>1</td>\n",
       "      <td>1</td>\n",
       "      <td>1</td>\n",
       "      <td>1</td>\n",
       "      <td>0</td>\n",
       "      <td>0</td>\n",
       "      <td>0</td>\n",
       "      <td>1</td>\n",
       "      <td>0</td>\n",
       "      <td>0</td>\n",
       "      <td>0</td>\n",
       "      <td>0</td>\n",
       "      <td>0</td>\n",
       "      <td>0</td>\n",
       "      <td>0</td>\n",
       "      <td>0</td>\n",
       "      <td>0</td>\n",
       "      <td>0</td>\n",
       "      <td>0</td>\n",
       "      <td>0</td>\n",
       "      <td>0</td>\n",
       "      <td>0</td>\n",
       "      <td>0</td>\n",
       "      <td>0</td>\n",
       "      <td>0</td>\n",
       "      <td>0</td>\n",
       "      <td>0</td>\n",
       "      <td>0</td>\n",
       "      <td>0</td>\n",
       "      <td>0</td>\n",
       "      <td>0</td>\n",
       "      <td>0</td>\n",
       "      <td>0</td>\n",
       "      <td>0</td>\n",
       "      <td>0</td>\n",
       "      <td>0</td>\n",
       "      <td>0</td>\n",
       "      <td>0</td>\n",
       "      <td>0</td>\n",
       "      <td>0</td>\n",
       "      <td>0</td>\n",
       "      <td>0</td>\n",
       "      <td>0</td>\n",
       "      <td>0</td>\n",
       "      <td>1</td>\n",
       "      <td>0</td>\n",
       "      <td>0</td>\n",
       "      <td>0</td>\n",
       "      <td>0</td>\n",
       "      <td>0</td>\n",
       "      <td>0</td>\n",
       "      <td>0</td>\n",
       "      <td>0</td>\n",
       "      <td>0</td>\n",
       "      <td>0</td>\n",
       "      <td>0</td>\n",
       "      <td>0</td>\n",
       "      <td>0</td>\n",
       "      <td>0</td>\n",
       "      <td>0</td>\n",
       "      <td>0</td>\n",
       "      <td>0</td>\n",
       "      <td>0</td>\n",
       "      <td>0</td>\n",
       "      <td>0</td>\n",
       "      <td>0</td>\n",
       "      <td>0</td>\n",
       "      <td>0</td>\n",
       "      <td>0</td>\n",
       "      <td>0</td>\n",
       "      <td>0</td>\n",
       "      <td>0</td>\n",
       "      <td>0</td>\n",
       "      <td>0</td>\n",
       "      <td>0</td>\n",
       "      <td>0</td>\n",
       "      <td>0</td>\n",
       "      <td>0</td>\n",
       "      <td>0</td>\n",
       "      <td>0</td>\n",
       "      <td>0</td>\n",
       "      <td>0</td>\n",
       "      <td>0</td>\n",
       "      <td>0</td>\n",
       "      <td>0</td>\n",
       "      <td>0</td>\n",
       "      <td>1</td>\n",
       "      <td>1</td>\n",
       "      <td>0</td>\n",
       "      <td>0</td>\n",
       "      <td>0</td>\n",
       "      <td>0</td>\n",
       "      <td>1</td>\n",
       "      <td>0</td>\n",
       "      <td>0</td>\n",
       "      <td>0</td>\n",
       "      <td>0</td>\n",
       "      <td>1</td>\n",
       "      <td>0</td>\n",
       "      <td>0</td>\n",
       "      <td>0</td>\n",
       "      <td>0</td>\n",
       "      <td>0</td>\n",
       "      <td>0</td>\n",
       "      <td>0</td>\n",
       "      <td>0</td>\n",
       "      <td>0</td>\n",
       "      <td>0</td>\n",
       "      <td>0</td>\n",
       "      <td>0</td>\n",
       "      <td>0</td>\n",
       "      <td>0</td>\n",
       "      <td>0</td>\n",
       "      <td>0</td>\n",
       "      <td>0</td>\n",
       "      <td>0</td>\n",
       "      <td>0</td>\n",
       "      <td>0</td>\n",
       "      <td>0</td>\n",
       "      <td>1</td>\n",
       "      <td>0</td>\n",
       "      <td>0</td>\n",
       "      <td>0</td>\n",
       "      <td>0</td>\n",
       "      <td>0</td>\n",
       "      <td>1</td>\n",
       "      <td>0</td>\n",
       "      <td>0</td>\n",
       "      <td>0</td>\n",
       "      <td>1</td>\n",
       "      <td>0</td>\n",
       "      <td>0</td>\n",
       "      <td>0</td>\n",
       "      <td>0</td>\n",
       "      <td>0</td>\n",
       "      <td>0</td>\n",
       "      <td>0</td>\n",
       "      <td>0</td>\n",
       "      <td>0</td>\n",
       "      <td>0</td>\n",
       "      <td>0</td>\n",
       "      <td>0</td>\n",
       "      <td>0</td>\n",
       "      <td>0</td>\n",
       "      <td>1</td>\n",
       "      <td>0</td>\n",
       "      <td>0</td>\n",
       "      <td>0</td>\n",
       "      <td>1</td>\n",
       "      <td>0</td>\n",
       "      <td>1</td>\n",
       "      <td>0</td>\n",
       "      <td>0</td>\n",
       "      <td>0</td>\n",
       "      <td>0</td>\n",
       "      <td>0</td>\n",
       "      <td>0</td>\n",
       "      <td>1</td>\n",
       "      <td>0</td>\n",
       "      <td>0</td>\n",
       "      <td>0</td>\n",
       "      <td>0</td>\n",
       "      <td>0</td>\n",
       "      <td>0</td>\n",
       "      <td>0</td>\n",
       "      <td>0</td>\n",
       "      <td>0</td>\n",
       "      <td>0</td>\n",
       "      <td>0</td>\n",
       "      <td>0</td>\n",
       "      <td>0</td>\n",
       "      <td>0</td>\n",
       "      <td>0</td>\n",
       "      <td>0</td>\n",
       "      <td>0</td>\n",
       "      <td>0</td>\n",
       "      <td>0</td>\n",
       "      <td>0</td>\n",
       "      <td>0</td>\n",
       "      <td>0</td>\n",
       "      <td>0</td>\n",
       "      <td>0</td>\n",
       "      <td>0</td>\n",
       "      <td>0</td>\n",
       "      <td>0</td>\n",
       "      <td>0</td>\n",
       "      <td>0</td>\n",
       "      <td>0</td>\n",
       "      <td>0</td>\n",
       "      <td>0</td>\n",
       "      <td>0</td>\n",
       "    </tr>\n",
       "    <tr>\n",
       "      <th>4</th>\n",
       "      <td>Resolute Gold</td>\n",
       "      <td>0.0</td>\n",
       "      <td>Khalis</td>\n",
       "      <td>ОАЭ</td>\n",
       "      <td>0.0</td>\n",
       "      <td>0.6</td>\n",
       "      <td>NaN</td>\n",
       "      <td>NaN</td>\n",
       "      <td>0.50</td>\n",
       "      <td>0</td>\n",
       "      <td>0</td>\n",
       "      <td>0</td>\n",
       "      <td>1</td>\n",
       "      <td>1</td>\n",
       "      <td>0.000000</td>\n",
       "      <td>0</td>\n",
       "      <td>0</td>\n",
       "      <td>0</td>\n",
       "      <td>0</td>\n",
       "      <td>0</td>\n",
       "      <td>0</td>\n",
       "      <td>0</td>\n",
       "      <td>0</td>\n",
       "      <td>0</td>\n",
       "      <td>0</td>\n",
       "      <td>0</td>\n",
       "      <td>1</td>\n",
       "      <td>0</td>\n",
       "      <td>0</td>\n",
       "      <td>0</td>\n",
       "      <td>0</td>\n",
       "      <td>0</td>\n",
       "      <td>0</td>\n",
       "      <td>0</td>\n",
       "      <td>0</td>\n",
       "      <td>0</td>\n",
       "      <td>0</td>\n",
       "      <td>0</td>\n",
       "      <td>0</td>\n",
       "      <td>0</td>\n",
       "      <td>0</td>\n",
       "      <td>1</td>\n",
       "      <td>0</td>\n",
       "      <td>0</td>\n",
       "      <td>1</td>\n",
       "      <td>0</td>\n",
       "      <td>0</td>\n",
       "      <td>0</td>\n",
       "      <td>0</td>\n",
       "      <td>0</td>\n",
       "      <td>0</td>\n",
       "      <td>0</td>\n",
       "      <td>0</td>\n",
       "      <td>0</td>\n",
       "      <td>0</td>\n",
       "      <td>0</td>\n",
       "      <td>0</td>\n",
       "      <td>0</td>\n",
       "      <td>0</td>\n",
       "      <td>0</td>\n",
       "      <td>1</td>\n",
       "      <td>0</td>\n",
       "      <td>0</td>\n",
       "      <td>0</td>\n",
       "      <td>0</td>\n",
       "      <td>0</td>\n",
       "      <td>0</td>\n",
       "      <td>0</td>\n",
       "      <td>0</td>\n",
       "      <td>0</td>\n",
       "      <td>0</td>\n",
       "      <td>0</td>\n",
       "      <td>0</td>\n",
       "      <td>0</td>\n",
       "      <td>0</td>\n",
       "      <td>0</td>\n",
       "      <td>0</td>\n",
       "      <td>0</td>\n",
       "      <td>0</td>\n",
       "      <td>0</td>\n",
       "      <td>0</td>\n",
       "      <td>0</td>\n",
       "      <td>1</td>\n",
       "      <td>0</td>\n",
       "      <td>0</td>\n",
       "      <td>0</td>\n",
       "      <td>0</td>\n",
       "      <td>0</td>\n",
       "      <td>0</td>\n",
       "      <td>0</td>\n",
       "      <td>0</td>\n",
       "      <td>0</td>\n",
       "      <td>0</td>\n",
       "      <td>0</td>\n",
       "      <td>0</td>\n",
       "      <td>0</td>\n",
       "      <td>0</td>\n",
       "      <td>0</td>\n",
       "      <td>0</td>\n",
       "      <td>0</td>\n",
       "      <td>0</td>\n",
       "      <td>0</td>\n",
       "      <td>1</td>\n",
       "      <td>0</td>\n",
       "      <td>0</td>\n",
       "      <td>0</td>\n",
       "      <td>0</td>\n",
       "      <td>1</td>\n",
       "      <td>0</td>\n",
       "      <td>0</td>\n",
       "      <td>0</td>\n",
       "      <td>0</td>\n",
       "      <td>0</td>\n",
       "      <td>0</td>\n",
       "      <td>0</td>\n",
       "      <td>0</td>\n",
       "      <td>0</td>\n",
       "      <td>0</td>\n",
       "      <td>0</td>\n",
       "      <td>0</td>\n",
       "      <td>0</td>\n",
       "      <td>0</td>\n",
       "      <td>0</td>\n",
       "      <td>0</td>\n",
       "      <td>0</td>\n",
       "      <td>0</td>\n",
       "      <td>0</td>\n",
       "      <td>0</td>\n",
       "      <td>0</td>\n",
       "      <td>0</td>\n",
       "      <td>0</td>\n",
       "      <td>0</td>\n",
       "      <td>0</td>\n",
       "      <td>0</td>\n",
       "      <td>1</td>\n",
       "      <td>0</td>\n",
       "      <td>0</td>\n",
       "      <td>0</td>\n",
       "      <td>0</td>\n",
       "      <td>0</td>\n",
       "      <td>1</td>\n",
       "      <td>0</td>\n",
       "      <td>0</td>\n",
       "      <td>0</td>\n",
       "      <td>0</td>\n",
       "      <td>0</td>\n",
       "      <td>0</td>\n",
       "      <td>0</td>\n",
       "      <td>0</td>\n",
       "      <td>0</td>\n",
       "      <td>0</td>\n",
       "      <td>0</td>\n",
       "      <td>0</td>\n",
       "      <td>0</td>\n",
       "      <td>0</td>\n",
       "      <td>0</td>\n",
       "      <td>0</td>\n",
       "      <td>0</td>\n",
       "      <td>0</td>\n",
       "      <td>0</td>\n",
       "      <td>0</td>\n",
       "      <td>0</td>\n",
       "      <td>0</td>\n",
       "      <td>1</td>\n",
       "      <td>0</td>\n",
       "      <td>1</td>\n",
       "      <td>0</td>\n",
       "      <td>0</td>\n",
       "      <td>0</td>\n",
       "      <td>0</td>\n",
       "      <td>0</td>\n",
       "      <td>0</td>\n",
       "      <td>0</td>\n",
       "      <td>0</td>\n",
       "      <td>0</td>\n",
       "      <td>0</td>\n",
       "      <td>0</td>\n",
       "      <td>0</td>\n",
       "      <td>0</td>\n",
       "      <td>0</td>\n",
       "      <td>0</td>\n",
       "      <td>0</td>\n",
       "      <td>0</td>\n",
       "      <td>0</td>\n",
       "      <td>0</td>\n",
       "      <td>0</td>\n",
       "      <td>0</td>\n",
       "      <td>0</td>\n",
       "      <td>0</td>\n",
       "      <td>0</td>\n",
       "      <td>0</td>\n",
       "      <td>0</td>\n",
       "      <td>0</td>\n",
       "      <td>0</td>\n",
       "      <td>0</td>\n",
       "      <td>0</td>\n",
       "      <td>0</td>\n",
       "      <td>0</td>\n",
       "      <td>0</td>\n",
       "      <td>0</td>\n",
       "      <td>0</td>\n",
       "      <td>0</td>\n",
       "      <td>0</td>\n",
       "      <td>0</td>\n",
       "      <td>0</td>\n",
       "      <td>0</td>\n",
       "    </tr>\n",
       "    <tr>\n",
       "      <th>5</th>\n",
       "      <td>Oath for Him</td>\n",
       "      <td>0.0</td>\n",
       "      <td>Ajmal</td>\n",
       "      <td>ОАЭ</td>\n",
       "      <td>0.5</td>\n",
       "      <td>0.6</td>\n",
       "      <td>NaN</td>\n",
       "      <td>NaN</td>\n",
       "      <td>0.50</td>\n",
       "      <td>0</td>\n",
       "      <td>0</td>\n",
       "      <td>0</td>\n",
       "      <td>0</td>\n",
       "      <td>0</td>\n",
       "      <td>0.099564</td>\n",
       "      <td>0</td>\n",
       "      <td>0</td>\n",
       "      <td>0</td>\n",
       "      <td>0</td>\n",
       "      <td>0</td>\n",
       "      <td>0</td>\n",
       "      <td>0</td>\n",
       "      <td>0</td>\n",
       "      <td>0</td>\n",
       "      <td>0</td>\n",
       "      <td>0</td>\n",
       "      <td>0</td>\n",
       "      <td>0</td>\n",
       "      <td>0</td>\n",
       "      <td>1</td>\n",
       "      <td>0</td>\n",
       "      <td>0</td>\n",
       "      <td>0</td>\n",
       "      <td>0</td>\n",
       "      <td>1</td>\n",
       "      <td>0</td>\n",
       "      <td>0</td>\n",
       "      <td>0</td>\n",
       "      <td>0</td>\n",
       "      <td>0</td>\n",
       "      <td>0</td>\n",
       "      <td>0</td>\n",
       "      <td>0</td>\n",
       "      <td>1</td>\n",
       "      <td>1</td>\n",
       "      <td>0</td>\n",
       "      <td>0</td>\n",
       "      <td>0</td>\n",
       "      <td>0</td>\n",
       "      <td>0</td>\n",
       "      <td>0</td>\n",
       "      <td>0</td>\n",
       "      <td>0</td>\n",
       "      <td>1</td>\n",
       "      <td>0</td>\n",
       "      <td>0</td>\n",
       "      <td>0</td>\n",
       "      <td>0</td>\n",
       "      <td>1</td>\n",
       "      <td>0</td>\n",
       "      <td>0</td>\n",
       "      <td>0</td>\n",
       "      <td>0</td>\n",
       "      <td>0</td>\n",
       "      <td>0</td>\n",
       "      <td>0</td>\n",
       "      <td>0</td>\n",
       "      <td>0</td>\n",
       "      <td>0</td>\n",
       "      <td>0</td>\n",
       "      <td>0</td>\n",
       "      <td>0</td>\n",
       "      <td>0</td>\n",
       "      <td>0</td>\n",
       "      <td>0</td>\n",
       "      <td>0</td>\n",
       "      <td>0</td>\n",
       "      <td>0</td>\n",
       "      <td>0</td>\n",
       "      <td>0</td>\n",
       "      <td>0</td>\n",
       "      <td>1</td>\n",
       "      <td>0</td>\n",
       "      <td>0</td>\n",
       "      <td>0</td>\n",
       "      <td>0</td>\n",
       "      <td>0</td>\n",
       "      <td>0</td>\n",
       "      <td>0</td>\n",
       "      <td>0</td>\n",
       "      <td>0</td>\n",
       "      <td>1</td>\n",
       "      <td>0</td>\n",
       "      <td>0</td>\n",
       "      <td>0</td>\n",
       "      <td>0</td>\n",
       "      <td>0</td>\n",
       "      <td>0</td>\n",
       "      <td>0</td>\n",
       "      <td>0</td>\n",
       "      <td>1</td>\n",
       "      <td>0</td>\n",
       "      <td>1</td>\n",
       "      <td>0</td>\n",
       "      <td>0</td>\n",
       "      <td>0</td>\n",
       "      <td>0</td>\n",
       "      <td>1</td>\n",
       "      <td>1</td>\n",
       "      <td>0</td>\n",
       "      <td>0</td>\n",
       "      <td>0</td>\n",
       "      <td>0</td>\n",
       "      <td>0</td>\n",
       "      <td>0</td>\n",
       "      <td>0</td>\n",
       "      <td>0</td>\n",
       "      <td>0</td>\n",
       "      <td>0</td>\n",
       "      <td>0</td>\n",
       "      <td>0</td>\n",
       "      <td>0</td>\n",
       "      <td>0</td>\n",
       "      <td>0</td>\n",
       "      <td>0</td>\n",
       "      <td>1</td>\n",
       "      <td>0</td>\n",
       "      <td>0</td>\n",
       "      <td>0</td>\n",
       "      <td>0</td>\n",
       "      <td>0</td>\n",
       "      <td>0</td>\n",
       "      <td>1</td>\n",
       "      <td>0</td>\n",
       "      <td>0</td>\n",
       "      <td>0</td>\n",
       "      <td>0</td>\n",
       "      <td>0</td>\n",
       "      <td>0</td>\n",
       "      <td>0</td>\n",
       "      <td>1</td>\n",
       "      <td>0</td>\n",
       "      <td>0</td>\n",
       "      <td>1</td>\n",
       "      <td>0</td>\n",
       "      <td>1</td>\n",
       "      <td>0</td>\n",
       "      <td>0</td>\n",
       "      <td>0</td>\n",
       "      <td>0</td>\n",
       "      <td>0</td>\n",
       "      <td>0</td>\n",
       "      <td>0</td>\n",
       "      <td>0</td>\n",
       "      <td>1</td>\n",
       "      <td>1</td>\n",
       "      <td>0</td>\n",
       "      <td>0</td>\n",
       "      <td>1</td>\n",
       "      <td>0</td>\n",
       "      <td>0</td>\n",
       "      <td>0</td>\n",
       "      <td>0</td>\n",
       "      <td>1</td>\n",
       "      <td>0</td>\n",
       "      <td>1</td>\n",
       "      <td>1</td>\n",
       "      <td>0</td>\n",
       "      <td>0</td>\n",
       "      <td>0</td>\n",
       "      <td>0</td>\n",
       "      <td>0</td>\n",
       "      <td>0</td>\n",
       "      <td>0</td>\n",
       "      <td>0</td>\n",
       "      <td>0</td>\n",
       "      <td>1</td>\n",
       "      <td>0</td>\n",
       "      <td>0</td>\n",
       "      <td>0</td>\n",
       "      <td>0</td>\n",
       "      <td>0</td>\n",
       "      <td>0</td>\n",
       "      <td>0</td>\n",
       "      <td>1</td>\n",
       "      <td>1</td>\n",
       "      <td>1</td>\n",
       "      <td>0</td>\n",
       "      <td>0</td>\n",
       "      <td>0</td>\n",
       "      <td>0</td>\n",
       "      <td>1</td>\n",
       "      <td>0</td>\n",
       "      <td>1</td>\n",
       "      <td>0</td>\n",
       "      <td>0</td>\n",
       "      <td>0</td>\n",
       "      <td>0</td>\n",
       "      <td>0</td>\n",
       "      <td>0</td>\n",
       "      <td>0</td>\n",
       "      <td>0</td>\n",
       "      <td>1</td>\n",
       "      <td>0</td>\n",
       "      <td>0</td>\n",
       "      <td>0</td>\n",
       "    </tr>\n",
       "    <tr>\n",
       "      <th>6</th>\n",
       "      <td>Twist</td>\n",
       "      <td>1.0</td>\n",
       "      <td>Emper</td>\n",
       "      <td>ОАЭ</td>\n",
       "      <td>0.0</td>\n",
       "      <td>0.6</td>\n",
       "      <td>0.416667</td>\n",
       "      <td>0.012</td>\n",
       "      <td>0.75</td>\n",
       "      <td>1</td>\n",
       "      <td>1</td>\n",
       "      <td>1</td>\n",
       "      <td>0</td>\n",
       "      <td>0</td>\n",
       "      <td>0.000396</td>\n",
       "      <td>0</td>\n",
       "      <td>1</td>\n",
       "      <td>0</td>\n",
       "      <td>1</td>\n",
       "      <td>0</td>\n",
       "      <td>0</td>\n",
       "      <td>0</td>\n",
       "      <td>0</td>\n",
       "      <td>0</td>\n",
       "      <td>0</td>\n",
       "      <td>0</td>\n",
       "      <td>0</td>\n",
       "      <td>0</td>\n",
       "      <td>0</td>\n",
       "      <td>0</td>\n",
       "      <td>0</td>\n",
       "      <td>0</td>\n",
       "      <td>0</td>\n",
       "      <td>0</td>\n",
       "      <td>0</td>\n",
       "      <td>0</td>\n",
       "      <td>0</td>\n",
       "      <td>0</td>\n",
       "      <td>0</td>\n",
       "      <td>0</td>\n",
       "      <td>0</td>\n",
       "      <td>0</td>\n",
       "      <td>0</td>\n",
       "      <td>0</td>\n",
       "      <td>1</td>\n",
       "      <td>0</td>\n",
       "      <td>0</td>\n",
       "      <td>0</td>\n",
       "      <td>0</td>\n",
       "      <td>0</td>\n",
       "      <td>0</td>\n",
       "      <td>0</td>\n",
       "      <td>0</td>\n",
       "      <td>0</td>\n",
       "      <td>0</td>\n",
       "      <td>0</td>\n",
       "      <td>0</td>\n",
       "      <td>0</td>\n",
       "      <td>0</td>\n",
       "      <td>0</td>\n",
       "      <td>0</td>\n",
       "      <td>0</td>\n",
       "      <td>0</td>\n",
       "      <td>0</td>\n",
       "      <td>0</td>\n",
       "      <td>0</td>\n",
       "      <td>0</td>\n",
       "      <td>0</td>\n",
       "      <td>0</td>\n",
       "      <td>0</td>\n",
       "      <td>0</td>\n",
       "      <td>0</td>\n",
       "      <td>0</td>\n",
       "      <td>0</td>\n",
       "      <td>0</td>\n",
       "      <td>0</td>\n",
       "      <td>0</td>\n",
       "      <td>0</td>\n",
       "      <td>0</td>\n",
       "      <td>0</td>\n",
       "      <td>0</td>\n",
       "      <td>0</td>\n",
       "      <td>0</td>\n",
       "      <td>0</td>\n",
       "      <td>0</td>\n",
       "      <td>0</td>\n",
       "      <td>0</td>\n",
       "      <td>0</td>\n",
       "      <td>0</td>\n",
       "      <td>0</td>\n",
       "      <td>0</td>\n",
       "      <td>0</td>\n",
       "      <td>0</td>\n",
       "      <td>0</td>\n",
       "      <td>0</td>\n",
       "      <td>0</td>\n",
       "      <td>0</td>\n",
       "      <td>0</td>\n",
       "      <td>0</td>\n",
       "      <td>0</td>\n",
       "      <td>0</td>\n",
       "      <td>0</td>\n",
       "      <td>1</td>\n",
       "      <td>0</td>\n",
       "      <td>0</td>\n",
       "      <td>0</td>\n",
       "      <td>0</td>\n",
       "      <td>1</td>\n",
       "      <td>0</td>\n",
       "      <td>0</td>\n",
       "      <td>0</td>\n",
       "      <td>0</td>\n",
       "      <td>0</td>\n",
       "      <td>0</td>\n",
       "      <td>0</td>\n",
       "      <td>0</td>\n",
       "      <td>0</td>\n",
       "      <td>0</td>\n",
       "      <td>1</td>\n",
       "      <td>0</td>\n",
       "      <td>0</td>\n",
       "      <td>0</td>\n",
       "      <td>0</td>\n",
       "      <td>0</td>\n",
       "      <td>0</td>\n",
       "      <td>1</td>\n",
       "      <td>0</td>\n",
       "      <td>0</td>\n",
       "      <td>0</td>\n",
       "      <td>0</td>\n",
       "      <td>0</td>\n",
       "      <td>0</td>\n",
       "      <td>0</td>\n",
       "      <td>0</td>\n",
       "      <td>0</td>\n",
       "      <td>0</td>\n",
       "      <td>0</td>\n",
       "      <td>0</td>\n",
       "      <td>0</td>\n",
       "      <td>0</td>\n",
       "      <td>1</td>\n",
       "      <td>0</td>\n",
       "      <td>0</td>\n",
       "      <td>0</td>\n",
       "      <td>0</td>\n",
       "      <td>0</td>\n",
       "      <td>0</td>\n",
       "      <td>0</td>\n",
       "      <td>0</td>\n",
       "      <td>0</td>\n",
       "      <td>0</td>\n",
       "      <td>0</td>\n",
       "      <td>0</td>\n",
       "      <td>0</td>\n",
       "      <td>0</td>\n",
       "      <td>0</td>\n",
       "      <td>0</td>\n",
       "      <td>0</td>\n",
       "      <td>0</td>\n",
       "      <td>0</td>\n",
       "      <td>0</td>\n",
       "      <td>0</td>\n",
       "      <td>0</td>\n",
       "      <td>1</td>\n",
       "      <td>0</td>\n",
       "      <td>1</td>\n",
       "      <td>0</td>\n",
       "      <td>0</td>\n",
       "      <td>0</td>\n",
       "      <td>0</td>\n",
       "      <td>0</td>\n",
       "      <td>0</td>\n",
       "      <td>0</td>\n",
       "      <td>0</td>\n",
       "      <td>0</td>\n",
       "      <td>0</td>\n",
       "      <td>0</td>\n",
       "      <td>0</td>\n",
       "      <td>0</td>\n",
       "      <td>0</td>\n",
       "      <td>0</td>\n",
       "      <td>0</td>\n",
       "      <td>0</td>\n",
       "      <td>0</td>\n",
       "      <td>0</td>\n",
       "      <td>0</td>\n",
       "      <td>0</td>\n",
       "      <td>0</td>\n",
       "      <td>0</td>\n",
       "      <td>0</td>\n",
       "      <td>0</td>\n",
       "      <td>0</td>\n",
       "      <td>0</td>\n",
       "      <td>0</td>\n",
       "      <td>0</td>\n",
       "      <td>0</td>\n",
       "      <td>0</td>\n",
       "      <td>0</td>\n",
       "      <td>0</td>\n",
       "      <td>0</td>\n",
       "      <td>0</td>\n",
       "      <td>0</td>\n",
       "      <td>0</td>\n",
       "      <td>0</td>\n",
       "      <td>0</td>\n",
       "      <td>0</td>\n",
       "    </tr>\n",
       "    <tr>\n",
       "      <th>7</th>\n",
       "      <td>CK Everyone</td>\n",
       "      <td>0.5</td>\n",
       "      <td>Calvin Klein</td>\n",
       "      <td>США</td>\n",
       "      <td>0.5</td>\n",
       "      <td>0.4</td>\n",
       "      <td>0.166667</td>\n",
       "      <td>0.005</td>\n",
       "      <td>0.50</td>\n",
       "      <td>0</td>\n",
       "      <td>1</td>\n",
       "      <td>1</td>\n",
       "      <td>0</td>\n",
       "      <td>0</td>\n",
       "      <td>0.043546</td>\n",
       "      <td>1</td>\n",
       "      <td>1</td>\n",
       "      <td>0</td>\n",
       "      <td>0</td>\n",
       "      <td>0</td>\n",
       "      <td>0</td>\n",
       "      <td>0</td>\n",
       "      <td>0</td>\n",
       "      <td>1</td>\n",
       "      <td>0</td>\n",
       "      <td>0</td>\n",
       "      <td>0</td>\n",
       "      <td>0</td>\n",
       "      <td>0</td>\n",
       "      <td>1</td>\n",
       "      <td>0</td>\n",
       "      <td>0</td>\n",
       "      <td>0</td>\n",
       "      <td>0</td>\n",
       "      <td>0</td>\n",
       "      <td>0</td>\n",
       "      <td>0</td>\n",
       "      <td>0</td>\n",
       "      <td>0</td>\n",
       "      <td>1</td>\n",
       "      <td>0</td>\n",
       "      <td>0</td>\n",
       "      <td>0</td>\n",
       "      <td>0</td>\n",
       "      <td>0</td>\n",
       "      <td>0</td>\n",
       "      <td>0</td>\n",
       "      <td>0</td>\n",
       "      <td>0</td>\n",
       "      <td>0</td>\n",
       "      <td>0</td>\n",
       "      <td>0</td>\n",
       "      <td>0</td>\n",
       "      <td>0</td>\n",
       "      <td>0</td>\n",
       "      <td>0</td>\n",
       "      <td>0</td>\n",
       "      <td>0</td>\n",
       "      <td>0</td>\n",
       "      <td>0</td>\n",
       "      <td>0</td>\n",
       "      <td>0</td>\n",
       "      <td>0</td>\n",
       "      <td>0</td>\n",
       "      <td>0</td>\n",
       "      <td>0</td>\n",
       "      <td>0</td>\n",
       "      <td>0</td>\n",
       "      <td>0</td>\n",
       "      <td>0</td>\n",
       "      <td>0</td>\n",
       "      <td>0</td>\n",
       "      <td>0</td>\n",
       "      <td>0</td>\n",
       "      <td>1</td>\n",
       "      <td>0</td>\n",
       "      <td>0</td>\n",
       "      <td>0</td>\n",
       "      <td>0</td>\n",
       "      <td>0</td>\n",
       "      <td>0</td>\n",
       "      <td>0</td>\n",
       "      <td>0</td>\n",
       "      <td>0</td>\n",
       "      <td>0</td>\n",
       "      <td>0</td>\n",
       "      <td>0</td>\n",
       "      <td>0</td>\n",
       "      <td>0</td>\n",
       "      <td>0</td>\n",
       "      <td>0</td>\n",
       "      <td>0</td>\n",
       "      <td>0</td>\n",
       "      <td>0</td>\n",
       "      <td>0</td>\n",
       "      <td>0</td>\n",
       "      <td>0</td>\n",
       "      <td>0</td>\n",
       "      <td>0</td>\n",
       "      <td>0</td>\n",
       "      <td>0</td>\n",
       "      <td>0</td>\n",
       "      <td>1</td>\n",
       "      <td>0</td>\n",
       "      <td>0</td>\n",
       "      <td>0</td>\n",
       "      <td>0</td>\n",
       "      <td>0</td>\n",
       "      <td>0</td>\n",
       "      <td>0</td>\n",
       "      <td>1</td>\n",
       "      <td>0</td>\n",
       "      <td>0</td>\n",
       "      <td>0</td>\n",
       "      <td>0</td>\n",
       "      <td>0</td>\n",
       "      <td>0</td>\n",
       "      <td>0</td>\n",
       "      <td>0</td>\n",
       "      <td>0</td>\n",
       "      <td>0</td>\n",
       "      <td>0</td>\n",
       "      <td>0</td>\n",
       "      <td>0</td>\n",
       "      <td>1</td>\n",
       "      <td>0</td>\n",
       "      <td>0</td>\n",
       "      <td>0</td>\n",
       "      <td>0</td>\n",
       "      <td>0</td>\n",
       "      <td>0</td>\n",
       "      <td>0</td>\n",
       "      <td>0</td>\n",
       "      <td>0</td>\n",
       "      <td>0</td>\n",
       "      <td>1</td>\n",
       "      <td>0</td>\n",
       "      <td>0</td>\n",
       "      <td>0</td>\n",
       "      <td>0</td>\n",
       "      <td>0</td>\n",
       "      <td>0</td>\n",
       "      <td>0</td>\n",
       "      <td>0</td>\n",
       "      <td>0</td>\n",
       "      <td>0</td>\n",
       "      <td>1</td>\n",
       "      <td>0</td>\n",
       "      <td>0</td>\n",
       "      <td>0</td>\n",
       "      <td>0</td>\n",
       "      <td>1</td>\n",
       "      <td>1</td>\n",
       "      <td>0</td>\n",
       "      <td>0</td>\n",
       "      <td>0</td>\n",
       "      <td>1</td>\n",
       "      <td>0</td>\n",
       "      <td>0</td>\n",
       "      <td>0</td>\n",
       "      <td>1</td>\n",
       "      <td>0</td>\n",
       "      <td>1</td>\n",
       "      <td>1</td>\n",
       "      <td>0</td>\n",
       "      <td>0</td>\n",
       "      <td>0</td>\n",
       "      <td>0</td>\n",
       "      <td>0</td>\n",
       "      <td>0</td>\n",
       "      <td>0</td>\n",
       "      <td>0</td>\n",
       "      <td>0</td>\n",
       "      <td>0</td>\n",
       "      <td>0</td>\n",
       "      <td>0</td>\n",
       "      <td>0</td>\n",
       "      <td>0</td>\n",
       "      <td>1</td>\n",
       "      <td>0</td>\n",
       "      <td>0</td>\n",
       "      <td>0</td>\n",
       "      <td>0</td>\n",
       "      <td>0</td>\n",
       "      <td>0</td>\n",
       "      <td>0</td>\n",
       "      <td>0</td>\n",
       "      <td>0</td>\n",
       "      <td>0</td>\n",
       "      <td>0</td>\n",
       "      <td>0</td>\n",
       "      <td>0</td>\n",
       "      <td>0</td>\n",
       "      <td>0</td>\n",
       "      <td>0</td>\n",
       "      <td>0</td>\n",
       "      <td>1</td>\n",
       "      <td>0</td>\n",
       "      <td>0</td>\n",
       "      <td>0</td>\n",
       "      <td>0</td>\n",
       "      <td>0</td>\n",
       "      <td>0</td>\n",
       "      <td>0</td>\n",
       "      <td>1</td>\n",
       "      <td>1</td>\n",
       "    </tr>\n",
       "    <tr>\n",
       "      <th>8</th>\n",
       "      <td>Bad Boy</td>\n",
       "      <td>0.0</td>\n",
       "      <td>Carolina Herrera</td>\n",
       "      <td>США</td>\n",
       "      <td>0.5</td>\n",
       "      <td>0.4</td>\n",
       "      <td>0.166667</td>\n",
       "      <td>0.005</td>\n",
       "      <td>0.50</td>\n",
       "      <td>0</td>\n",
       "      <td>1</td>\n",
       "      <td>1</td>\n",
       "      <td>0</td>\n",
       "      <td>0</td>\n",
       "      <td>0.051474</td>\n",
       "      <td>0</td>\n",
       "      <td>0</td>\n",
       "      <td>1</td>\n",
       "      <td>1</td>\n",
       "      <td>0</td>\n",
       "      <td>0</td>\n",
       "      <td>0</td>\n",
       "      <td>0</td>\n",
       "      <td>0</td>\n",
       "      <td>0</td>\n",
       "      <td>0</td>\n",
       "      <td>0</td>\n",
       "      <td>1</td>\n",
       "      <td>0</td>\n",
       "      <td>0</td>\n",
       "      <td>0</td>\n",
       "      <td>1</td>\n",
       "      <td>0</td>\n",
       "      <td>0</td>\n",
       "      <td>0</td>\n",
       "      <td>0</td>\n",
       "      <td>0</td>\n",
       "      <td>1</td>\n",
       "      <td>0</td>\n",
       "      <td>0</td>\n",
       "      <td>0</td>\n",
       "      <td>0</td>\n",
       "      <td>0</td>\n",
       "      <td>0</td>\n",
       "      <td>0</td>\n",
       "      <td>0</td>\n",
       "      <td>0</td>\n",
       "      <td>0</td>\n",
       "      <td>0</td>\n",
       "      <td>0</td>\n",
       "      <td>0</td>\n",
       "      <td>0</td>\n",
       "      <td>1</td>\n",
       "      <td>0</td>\n",
       "      <td>1</td>\n",
       "      <td>0</td>\n",
       "      <td>0</td>\n",
       "      <td>0</td>\n",
       "      <td>1</td>\n",
       "      <td>0</td>\n",
       "      <td>0</td>\n",
       "      <td>0</td>\n",
       "      <td>0</td>\n",
       "      <td>0</td>\n",
       "      <td>0</td>\n",
       "      <td>1</td>\n",
       "      <td>0</td>\n",
       "      <td>0</td>\n",
       "      <td>0</td>\n",
       "      <td>0</td>\n",
       "      <td>0</td>\n",
       "      <td>0</td>\n",
       "      <td>0</td>\n",
       "      <td>0</td>\n",
       "      <td>0</td>\n",
       "      <td>0</td>\n",
       "      <td>0</td>\n",
       "      <td>0</td>\n",
       "      <td>0</td>\n",
       "      <td>0</td>\n",
       "      <td>0</td>\n",
       "      <td>1</td>\n",
       "      <td>0</td>\n",
       "      <td>0</td>\n",
       "      <td>0</td>\n",
       "      <td>0</td>\n",
       "      <td>0</td>\n",
       "      <td>0</td>\n",
       "      <td>0</td>\n",
       "      <td>0</td>\n",
       "      <td>0</td>\n",
       "      <td>0</td>\n",
       "      <td>0</td>\n",
       "      <td>0</td>\n",
       "      <td>0</td>\n",
       "      <td>0</td>\n",
       "      <td>0</td>\n",
       "      <td>0</td>\n",
       "      <td>0</td>\n",
       "      <td>0</td>\n",
       "      <td>1</td>\n",
       "      <td>0</td>\n",
       "      <td>0</td>\n",
       "      <td>0</td>\n",
       "      <td>0</td>\n",
       "      <td>0</td>\n",
       "      <td>0</td>\n",
       "      <td>1</td>\n",
       "      <td>0</td>\n",
       "      <td>0</td>\n",
       "      <td>0</td>\n",
       "      <td>0</td>\n",
       "      <td>0</td>\n",
       "      <td>0</td>\n",
       "      <td>0</td>\n",
       "      <td>0</td>\n",
       "      <td>0</td>\n",
       "      <td>0</td>\n",
       "      <td>0</td>\n",
       "      <td>0</td>\n",
       "      <td>0</td>\n",
       "      <td>0</td>\n",
       "      <td>0</td>\n",
       "      <td>0</td>\n",
       "      <td>0</td>\n",
       "      <td>0</td>\n",
       "      <td>0</td>\n",
       "      <td>1</td>\n",
       "      <td>0</td>\n",
       "      <td>1</td>\n",
       "      <td>0</td>\n",
       "      <td>0</td>\n",
       "      <td>0</td>\n",
       "      <td>1</td>\n",
       "      <td>0</td>\n",
       "      <td>0</td>\n",
       "      <td>0</td>\n",
       "      <td>1</td>\n",
       "      <td>0</td>\n",
       "      <td>0</td>\n",
       "      <td>0</td>\n",
       "      <td>0</td>\n",
       "      <td>0</td>\n",
       "      <td>0</td>\n",
       "      <td>0</td>\n",
       "      <td>1</td>\n",
       "      <td>0</td>\n",
       "      <td>0</td>\n",
       "      <td>1</td>\n",
       "      <td>0</td>\n",
       "      <td>0</td>\n",
       "      <td>0</td>\n",
       "      <td>0</td>\n",
       "      <td>0</td>\n",
       "      <td>1</td>\n",
       "      <td>1</td>\n",
       "      <td>0</td>\n",
       "      <td>0</td>\n",
       "      <td>1</td>\n",
       "      <td>0</td>\n",
       "      <td>0</td>\n",
       "      <td>1</td>\n",
       "      <td>0</td>\n",
       "      <td>0</td>\n",
       "      <td>0</td>\n",
       "      <td>0</td>\n",
       "      <td>1</td>\n",
       "      <td>0</td>\n",
       "      <td>0</td>\n",
       "      <td>0</td>\n",
       "      <td>0</td>\n",
       "      <td>0</td>\n",
       "      <td>0</td>\n",
       "      <td>0</td>\n",
       "      <td>1</td>\n",
       "      <td>1</td>\n",
       "      <td>1</td>\n",
       "      <td>1</td>\n",
       "      <td>0</td>\n",
       "      <td>0</td>\n",
       "      <td>0</td>\n",
       "      <td>0</td>\n",
       "      <td>0</td>\n",
       "      <td>0</td>\n",
       "      <td>1</td>\n",
       "      <td>1</td>\n",
       "      <td>1</td>\n",
       "      <td>0</td>\n",
       "      <td>0</td>\n",
       "      <td>0</td>\n",
       "      <td>0</td>\n",
       "      <td>1</td>\n",
       "      <td>0</td>\n",
       "      <td>1</td>\n",
       "      <td>0</td>\n",
       "      <td>0</td>\n",
       "      <td>0</td>\n",
       "      <td>0</td>\n",
       "      <td>0</td>\n",
       "      <td>0</td>\n",
       "      <td>0</td>\n",
       "      <td>0</td>\n",
       "      <td>1</td>\n",
       "      <td>0</td>\n",
       "      <td>0</td>\n",
       "      <td>0</td>\n",
       "    </tr>\n",
       "    <tr>\n",
       "      <th>9</th>\n",
       "      <td>Eau de Lacoste L.12.12 Blanc</td>\n",
       "      <td>0.0</td>\n",
       "      <td>Lacoste</td>\n",
       "      <td>Франция</td>\n",
       "      <td>0.5</td>\n",
       "      <td>0.4</td>\n",
       "      <td>0.166667</td>\n",
       "      <td>0.005</td>\n",
       "      <td>0.50</td>\n",
       "      <td>1</td>\n",
       "      <td>0</td>\n",
       "      <td>0</td>\n",
       "      <td>0</td>\n",
       "      <td>0</td>\n",
       "      <td>0.086549</td>\n",
       "      <td>1</td>\n",
       "      <td>1</td>\n",
       "      <td>0</td>\n",
       "      <td>0</td>\n",
       "      <td>0</td>\n",
       "      <td>0</td>\n",
       "      <td>0</td>\n",
       "      <td>0</td>\n",
       "      <td>0</td>\n",
       "      <td>0</td>\n",
       "      <td>0</td>\n",
       "      <td>0</td>\n",
       "      <td>0</td>\n",
       "      <td>0</td>\n",
       "      <td>1</td>\n",
       "      <td>0</td>\n",
       "      <td>0</td>\n",
       "      <td>0</td>\n",
       "      <td>0</td>\n",
       "      <td>1</td>\n",
       "      <td>0</td>\n",
       "      <td>0</td>\n",
       "      <td>0</td>\n",
       "      <td>1</td>\n",
       "      <td>0</td>\n",
       "      <td>0</td>\n",
       "      <td>0</td>\n",
       "      <td>0</td>\n",
       "      <td>0</td>\n",
       "      <td>0</td>\n",
       "      <td>0</td>\n",
       "      <td>0</td>\n",
       "      <td>1</td>\n",
       "      <td>0</td>\n",
       "      <td>0</td>\n",
       "      <td>0</td>\n",
       "      <td>1</td>\n",
       "      <td>0</td>\n",
       "      <td>0</td>\n",
       "      <td>0</td>\n",
       "      <td>0</td>\n",
       "      <td>1</td>\n",
       "      <td>0</td>\n",
       "      <td>1</td>\n",
       "      <td>0</td>\n",
       "      <td>0</td>\n",
       "      <td>1</td>\n",
       "      <td>1</td>\n",
       "      <td>0</td>\n",
       "      <td>0</td>\n",
       "      <td>0</td>\n",
       "      <td>0</td>\n",
       "      <td>0</td>\n",
       "      <td>0</td>\n",
       "      <td>1</td>\n",
       "      <td>0</td>\n",
       "      <td>0</td>\n",
       "      <td>0</td>\n",
       "      <td>0</td>\n",
       "      <td>0</td>\n",
       "      <td>0</td>\n",
       "      <td>0</td>\n",
       "      <td>0</td>\n",
       "      <td>0</td>\n",
       "      <td>0</td>\n",
       "      <td>0</td>\n",
       "      <td>1</td>\n",
       "      <td>0</td>\n",
       "      <td>0</td>\n",
       "      <td>0</td>\n",
       "      <td>0</td>\n",
       "      <td>0</td>\n",
       "      <td>0</td>\n",
       "      <td>0</td>\n",
       "      <td>0</td>\n",
       "      <td>0</td>\n",
       "      <td>0</td>\n",
       "      <td>0</td>\n",
       "      <td>1</td>\n",
       "      <td>0</td>\n",
       "      <td>0</td>\n",
       "      <td>0</td>\n",
       "      <td>0</td>\n",
       "      <td>1</td>\n",
       "      <td>0</td>\n",
       "      <td>1</td>\n",
       "      <td>0</td>\n",
       "      <td>0</td>\n",
       "      <td>0</td>\n",
       "      <td>0</td>\n",
       "      <td>0</td>\n",
       "      <td>0</td>\n",
       "      <td>1</td>\n",
       "      <td>0</td>\n",
       "      <td>0</td>\n",
       "      <td>0</td>\n",
       "      <td>0</td>\n",
       "      <td>0</td>\n",
       "      <td>0</td>\n",
       "      <td>0</td>\n",
       "      <td>0</td>\n",
       "      <td>1</td>\n",
       "      <td>0</td>\n",
       "      <td>0</td>\n",
       "      <td>0</td>\n",
       "      <td>0</td>\n",
       "      <td>0</td>\n",
       "      <td>0</td>\n",
       "      <td>0</td>\n",
       "      <td>0</td>\n",
       "      <td>0</td>\n",
       "      <td>0</td>\n",
       "      <td>0</td>\n",
       "      <td>0</td>\n",
       "      <td>0</td>\n",
       "      <td>0</td>\n",
       "      <td>0</td>\n",
       "      <td>0</td>\n",
       "      <td>0</td>\n",
       "      <td>0</td>\n",
       "      <td>0</td>\n",
       "      <td>0</td>\n",
       "      <td>0</td>\n",
       "      <td>0</td>\n",
       "      <td>0</td>\n",
       "      <td>0</td>\n",
       "      <td>0</td>\n",
       "      <td>1</td>\n",
       "      <td>0</td>\n",
       "      <td>0</td>\n",
       "      <td>1</td>\n",
       "      <td>0</td>\n",
       "      <td>0</td>\n",
       "      <td>0</td>\n",
       "      <td>0</td>\n",
       "      <td>0</td>\n",
       "      <td>0</td>\n",
       "      <td>0</td>\n",
       "      <td>0</td>\n",
       "      <td>1</td>\n",
       "      <td>1</td>\n",
       "      <td>0</td>\n",
       "      <td>0</td>\n",
       "      <td>1</td>\n",
       "      <td>0</td>\n",
       "      <td>0</td>\n",
       "      <td>0</td>\n",
       "      <td>0</td>\n",
       "      <td>0</td>\n",
       "      <td>1</td>\n",
       "      <td>0</td>\n",
       "      <td>1</td>\n",
       "      <td>0</td>\n",
       "      <td>0</td>\n",
       "      <td>0</td>\n",
       "      <td>0</td>\n",
       "      <td>0</td>\n",
       "      <td>0</td>\n",
       "      <td>0</td>\n",
       "      <td>0</td>\n",
       "      <td>0</td>\n",
       "      <td>1</td>\n",
       "      <td>0</td>\n",
       "      <td>0</td>\n",
       "      <td>0</td>\n",
       "      <td>0</td>\n",
       "      <td>1</td>\n",
       "      <td>0</td>\n",
       "      <td>0</td>\n",
       "      <td>1</td>\n",
       "      <td>1</td>\n",
       "      <td>1</td>\n",
       "      <td>0</td>\n",
       "      <td>1</td>\n",
       "      <td>0</td>\n",
       "      <td>0</td>\n",
       "      <td>1</td>\n",
       "      <td>0</td>\n",
       "      <td>1</td>\n",
       "      <td>1</td>\n",
       "      <td>0</td>\n",
       "      <td>0</td>\n",
       "      <td>0</td>\n",
       "      <td>0</td>\n",
       "      <td>1</td>\n",
       "      <td>0</td>\n",
       "      <td>0</td>\n",
       "      <td>1</td>\n",
       "      <td>0</td>\n",
       "      <td>0</td>\n",
       "      <td>0</td>\n",
       "    </tr>\n",
       "    <tr>\n",
       "      <th>10</th>\n",
       "      <td>Ange ou Demon</td>\n",
       "      <td>1.0</td>\n",
       "      <td>Givenchy</td>\n",
       "      <td>Франция</td>\n",
       "      <td>0.5</td>\n",
       "      <td>0.6</td>\n",
       "      <td>1.000000</td>\n",
       "      <td>1.000</td>\n",
       "      <td>1.00</td>\n",
       "      <td>1</td>\n",
       "      <td>1</td>\n",
       "      <td>1</td>\n",
       "      <td>1</td>\n",
       "      <td>1</td>\n",
       "      <td>0.132186</td>\n",
       "      <td>0</td>\n",
       "      <td>0</td>\n",
       "      <td>0</td>\n",
       "      <td>1</td>\n",
       "      <td>0</td>\n",
       "      <td>1</td>\n",
       "      <td>0</td>\n",
       "      <td>0</td>\n",
       "      <td>0</td>\n",
       "      <td>0</td>\n",
       "      <td>0</td>\n",
       "      <td>0</td>\n",
       "      <td>0</td>\n",
       "      <td>0</td>\n",
       "      <td>0</td>\n",
       "      <td>0</td>\n",
       "      <td>1</td>\n",
       "      <td>0</td>\n",
       "      <td>1</td>\n",
       "      <td>0</td>\n",
       "      <td>0</td>\n",
       "      <td>0</td>\n",
       "      <td>0</td>\n",
       "      <td>0</td>\n",
       "      <td>0</td>\n",
       "      <td>0</td>\n",
       "      <td>0</td>\n",
       "      <td>1</td>\n",
       "      <td>0</td>\n",
       "      <td>0</td>\n",
       "      <td>0</td>\n",
       "      <td>1</td>\n",
       "      <td>0</td>\n",
       "      <td>0</td>\n",
       "      <td>0</td>\n",
       "      <td>0</td>\n",
       "      <td>1</td>\n",
       "      <td>0</td>\n",
       "      <td>0</td>\n",
       "      <td>0</td>\n",
       "      <td>1</td>\n",
       "      <td>0</td>\n",
       "      <td>0</td>\n",
       "      <td>0</td>\n",
       "      <td>0</td>\n",
       "      <td>0</td>\n",
       "      <td>0</td>\n",
       "      <td>0</td>\n",
       "      <td>0</td>\n",
       "      <td>0</td>\n",
       "      <td>0</td>\n",
       "      <td>0</td>\n",
       "      <td>1</td>\n",
       "      <td>0</td>\n",
       "      <td>0</td>\n",
       "      <td>1</td>\n",
       "      <td>0</td>\n",
       "      <td>0</td>\n",
       "      <td>1</td>\n",
       "      <td>0</td>\n",
       "      <td>0</td>\n",
       "      <td>0</td>\n",
       "      <td>0</td>\n",
       "      <td>1</td>\n",
       "      <td>0</td>\n",
       "      <td>0</td>\n",
       "      <td>0</td>\n",
       "      <td>0</td>\n",
       "      <td>1</td>\n",
       "      <td>0</td>\n",
       "      <td>0</td>\n",
       "      <td>0</td>\n",
       "      <td>0</td>\n",
       "      <td>1</td>\n",
       "      <td>0</td>\n",
       "      <td>1</td>\n",
       "      <td>0</td>\n",
       "      <td>0</td>\n",
       "      <td>0</td>\n",
       "      <td>0</td>\n",
       "      <td>0</td>\n",
       "      <td>0</td>\n",
       "      <td>1</td>\n",
       "      <td>0</td>\n",
       "      <td>0</td>\n",
       "      <td>0</td>\n",
       "      <td>0</td>\n",
       "      <td>1</td>\n",
       "      <td>1</td>\n",
       "      <td>0</td>\n",
       "      <td>0</td>\n",
       "      <td>0</td>\n",
       "      <td>1</td>\n",
       "      <td>0</td>\n",
       "      <td>1</td>\n",
       "      <td>0</td>\n",
       "      <td>0</td>\n",
       "      <td>0</td>\n",
       "      <td>1</td>\n",
       "      <td>0</td>\n",
       "      <td>0</td>\n",
       "      <td>0</td>\n",
       "      <td>0</td>\n",
       "      <td>0</td>\n",
       "      <td>0</td>\n",
       "      <td>0</td>\n",
       "      <td>0</td>\n",
       "      <td>0</td>\n",
       "      <td>0</td>\n",
       "      <td>0</td>\n",
       "      <td>0</td>\n",
       "      <td>0</td>\n",
       "      <td>0</td>\n",
       "      <td>0</td>\n",
       "      <td>0</td>\n",
       "      <td>1</td>\n",
       "      <td>0</td>\n",
       "      <td>0</td>\n",
       "      <td>0</td>\n",
       "      <td>0</td>\n",
       "      <td>0</td>\n",
       "      <td>0</td>\n",
       "      <td>0</td>\n",
       "      <td>0</td>\n",
       "      <td>1</td>\n",
       "      <td>1</td>\n",
       "      <td>0</td>\n",
       "      <td>0</td>\n",
       "      <td>0</td>\n",
       "      <td>0</td>\n",
       "      <td>0</td>\n",
       "      <td>0</td>\n",
       "      <td>0</td>\n",
       "      <td>0</td>\n",
       "      <td>0</td>\n",
       "      <td>1</td>\n",
       "      <td>0</td>\n",
       "      <td>0</td>\n",
       "      <td>0</td>\n",
       "      <td>1</td>\n",
       "      <td>1</td>\n",
       "      <td>0</td>\n",
       "      <td>0</td>\n",
       "      <td>0</td>\n",
       "      <td>0</td>\n",
       "      <td>1</td>\n",
       "      <td>0</td>\n",
       "      <td>0</td>\n",
       "      <td>1</td>\n",
       "      <td>0</td>\n",
       "      <td>1</td>\n",
       "      <td>0</td>\n",
       "      <td>0</td>\n",
       "      <td>0</td>\n",
       "      <td>0</td>\n",
       "      <td>1</td>\n",
       "      <td>0</td>\n",
       "      <td>0</td>\n",
       "      <td>0</td>\n",
       "      <td>0</td>\n",
       "      <td>0</td>\n",
       "      <td>0</td>\n",
       "      <td>0</td>\n",
       "      <td>0</td>\n",
       "      <td>1</td>\n",
       "      <td>0</td>\n",
       "      <td>0</td>\n",
       "      <td>1</td>\n",
       "      <td>1</td>\n",
       "      <td>0</td>\n",
       "      <td>1</td>\n",
       "      <td>0</td>\n",
       "      <td>0</td>\n",
       "      <td>0</td>\n",
       "      <td>1</td>\n",
       "      <td>1</td>\n",
       "      <td>0</td>\n",
       "      <td>0</td>\n",
       "      <td>0</td>\n",
       "      <td>0</td>\n",
       "      <td>1</td>\n",
       "      <td>0</td>\n",
       "      <td>0</td>\n",
       "      <td>1</td>\n",
       "      <td>0</td>\n",
       "      <td>1</td>\n",
       "      <td>1</td>\n",
       "      <td>1</td>\n",
       "      <td>1</td>\n",
       "      <td>0</td>\n",
       "      <td>0</td>\n",
       "    </tr>\n",
       "    <tr>\n",
       "      <th>11</th>\n",
       "      <td>Samsara Eau de Parfum</td>\n",
       "      <td>1.0</td>\n",
       "      <td>Guerlain</td>\n",
       "      <td>Франция</td>\n",
       "      <td>0.5</td>\n",
       "      <td>0.6</td>\n",
       "      <td>1.000000</td>\n",
       "      <td>1.000</td>\n",
       "      <td>0.50</td>\n",
       "      <td>0</td>\n",
       "      <td>0</td>\n",
       "      <td>0</td>\n",
       "      <td>1</td>\n",
       "      <td>0</td>\n",
       "      <td>0.090786</td>\n",
       "      <td>0</td>\n",
       "      <td>1</td>\n",
       "      <td>0</td>\n",
       "      <td>1</td>\n",
       "      <td>0</td>\n",
       "      <td>1</td>\n",
       "      <td>0</td>\n",
       "      <td>0</td>\n",
       "      <td>0</td>\n",
       "      <td>0</td>\n",
       "      <td>0</td>\n",
       "      <td>0</td>\n",
       "      <td>0</td>\n",
       "      <td>0</td>\n",
       "      <td>0</td>\n",
       "      <td>0</td>\n",
       "      <td>1</td>\n",
       "      <td>0</td>\n",
       "      <td>1</td>\n",
       "      <td>0</td>\n",
       "      <td>0</td>\n",
       "      <td>0</td>\n",
       "      <td>0</td>\n",
       "      <td>0</td>\n",
       "      <td>0</td>\n",
       "      <td>0</td>\n",
       "      <td>0</td>\n",
       "      <td>0</td>\n",
       "      <td>0</td>\n",
       "      <td>1</td>\n",
       "      <td>0</td>\n",
       "      <td>0</td>\n",
       "      <td>0</td>\n",
       "      <td>0</td>\n",
       "      <td>1</td>\n",
       "      <td>0</td>\n",
       "      <td>1</td>\n",
       "      <td>0</td>\n",
       "      <td>1</td>\n",
       "      <td>0</td>\n",
       "      <td>1</td>\n",
       "      <td>0</td>\n",
       "      <td>0</td>\n",
       "      <td>1</td>\n",
       "      <td>0</td>\n",
       "      <td>0</td>\n",
       "      <td>0</td>\n",
       "      <td>0</td>\n",
       "      <td>1</td>\n",
       "      <td>0</td>\n",
       "      <td>0</td>\n",
       "      <td>0</td>\n",
       "      <td>1</td>\n",
       "      <td>0</td>\n",
       "      <td>0</td>\n",
       "      <td>1</td>\n",
       "      <td>0</td>\n",
       "      <td>0</td>\n",
       "      <td>0</td>\n",
       "      <td>0</td>\n",
       "      <td>0</td>\n",
       "      <td>0</td>\n",
       "      <td>0</td>\n",
       "      <td>0</td>\n",
       "      <td>0</td>\n",
       "      <td>0</td>\n",
       "      <td>1</td>\n",
       "      <td>0</td>\n",
       "      <td>1</td>\n",
       "      <td>1</td>\n",
       "      <td>0</td>\n",
       "      <td>0</td>\n",
       "      <td>0</td>\n",
       "      <td>0</td>\n",
       "      <td>0</td>\n",
       "      <td>0</td>\n",
       "      <td>0</td>\n",
       "      <td>0</td>\n",
       "      <td>0</td>\n",
       "      <td>0</td>\n",
       "      <td>0</td>\n",
       "      <td>0</td>\n",
       "      <td>1</td>\n",
       "      <td>0</td>\n",
       "      <td>0</td>\n",
       "      <td>1</td>\n",
       "      <td>0</td>\n",
       "      <td>0</td>\n",
       "      <td>0</td>\n",
       "      <td>0</td>\n",
       "      <td>0</td>\n",
       "      <td>0</td>\n",
       "      <td>1</td>\n",
       "      <td>0</td>\n",
       "      <td>0</td>\n",
       "      <td>0</td>\n",
       "      <td>0</td>\n",
       "      <td>0</td>\n",
       "      <td>0</td>\n",
       "      <td>0</td>\n",
       "      <td>0</td>\n",
       "      <td>0</td>\n",
       "      <td>0</td>\n",
       "      <td>1</td>\n",
       "      <td>0</td>\n",
       "      <td>1</td>\n",
       "      <td>0</td>\n",
       "      <td>0</td>\n",
       "      <td>0</td>\n",
       "      <td>0</td>\n",
       "      <td>0</td>\n",
       "      <td>0</td>\n",
       "      <td>0</td>\n",
       "      <td>0</td>\n",
       "      <td>0</td>\n",
       "      <td>0</td>\n",
       "      <td>0</td>\n",
       "      <td>0</td>\n",
       "      <td>0</td>\n",
       "      <td>0</td>\n",
       "      <td>0</td>\n",
       "      <td>0</td>\n",
       "      <td>0</td>\n",
       "      <td>0</td>\n",
       "      <td>1</td>\n",
       "      <td>0</td>\n",
       "      <td>0</td>\n",
       "      <td>0</td>\n",
       "      <td>0</td>\n",
       "      <td>0</td>\n",
       "      <td>1</td>\n",
       "      <td>0</td>\n",
       "      <td>0</td>\n",
       "      <td>0</td>\n",
       "      <td>0</td>\n",
       "      <td>1</td>\n",
       "      <td>0</td>\n",
       "      <td>0</td>\n",
       "      <td>0</td>\n",
       "      <td>1</td>\n",
       "      <td>1</td>\n",
       "      <td>0</td>\n",
       "      <td>0</td>\n",
       "      <td>1</td>\n",
       "      <td>0</td>\n",
       "      <td>1</td>\n",
       "      <td>0</td>\n",
       "      <td>0</td>\n",
       "      <td>0</td>\n",
       "      <td>0</td>\n",
       "      <td>0</td>\n",
       "      <td>1</td>\n",
       "      <td>0</td>\n",
       "      <td>0</td>\n",
       "      <td>0</td>\n",
       "      <td>1</td>\n",
       "      <td>0</td>\n",
       "      <td>0</td>\n",
       "      <td>0</td>\n",
       "      <td>0</td>\n",
       "      <td>0</td>\n",
       "      <td>1</td>\n",
       "      <td>0</td>\n",
       "      <td>0</td>\n",
       "      <td>1</td>\n",
       "      <td>0</td>\n",
       "      <td>0</td>\n",
       "      <td>1</td>\n",
       "      <td>1</td>\n",
       "      <td>1</td>\n",
       "      <td>1</td>\n",
       "      <td>1</td>\n",
       "      <td>0</td>\n",
       "      <td>0</td>\n",
       "      <td>1</td>\n",
       "      <td>1</td>\n",
       "      <td>1</td>\n",
       "      <td>0</td>\n",
       "      <td>1</td>\n",
       "      <td>0</td>\n",
       "      <td>1</td>\n",
       "      <td>0</td>\n",
       "      <td>0</td>\n",
       "      <td>1</td>\n",
       "      <td>0</td>\n",
       "      <td>1</td>\n",
       "      <td>1</td>\n",
       "      <td>1</td>\n",
       "      <td>1</td>\n",
       "      <td>0</td>\n",
       "      <td>0</td>\n",
       "    </tr>\n",
       "    <tr>\n",
       "      <th>12</th>\n",
       "      <td>New Your Amber</td>\n",
       "      <td>0.5</td>\n",
       "      <td>Bond No.9</td>\n",
       "      <td>США</td>\n",
       "      <td>1.0</td>\n",
       "      <td>0.6</td>\n",
       "      <td>0.416667</td>\n",
       "      <td>0.012</td>\n",
       "      <td>0.75</td>\n",
       "      <td>0</td>\n",
       "      <td>0</td>\n",
       "      <td>0</td>\n",
       "      <td>0</td>\n",
       "      <td>1</td>\n",
       "      <td>0.086074</td>\n",
       "      <td>0</td>\n",
       "      <td>0</td>\n",
       "      <td>1</td>\n",
       "      <td>1</td>\n",
       "      <td>0</td>\n",
       "      <td>1</td>\n",
       "      <td>0</td>\n",
       "      <td>0</td>\n",
       "      <td>0</td>\n",
       "      <td>0</td>\n",
       "      <td>0</td>\n",
       "      <td>0</td>\n",
       "      <td>0</td>\n",
       "      <td>1</td>\n",
       "      <td>0</td>\n",
       "      <td>0</td>\n",
       "      <td>0</td>\n",
       "      <td>0</td>\n",
       "      <td>1</td>\n",
       "      <td>0</td>\n",
       "      <td>0</td>\n",
       "      <td>0</td>\n",
       "      <td>0</td>\n",
       "      <td>0</td>\n",
       "      <td>0</td>\n",
       "      <td>0</td>\n",
       "      <td>0</td>\n",
       "      <td>0</td>\n",
       "      <td>0</td>\n",
       "      <td>1</td>\n",
       "      <td>0</td>\n",
       "      <td>0</td>\n",
       "      <td>0</td>\n",
       "      <td>0</td>\n",
       "      <td>0</td>\n",
       "      <td>0</td>\n",
       "      <td>0</td>\n",
       "      <td>0</td>\n",
       "      <td>0</td>\n",
       "      <td>0</td>\n",
       "      <td>1</td>\n",
       "      <td>0</td>\n",
       "      <td>0</td>\n",
       "      <td>0</td>\n",
       "      <td>0</td>\n",
       "      <td>0</td>\n",
       "      <td>0</td>\n",
       "      <td>0</td>\n",
       "      <td>0</td>\n",
       "      <td>0</td>\n",
       "      <td>0</td>\n",
       "      <td>0</td>\n",
       "      <td>1</td>\n",
       "      <td>0</td>\n",
       "      <td>0</td>\n",
       "      <td>1</td>\n",
       "      <td>0</td>\n",
       "      <td>0</td>\n",
       "      <td>0</td>\n",
       "      <td>0</td>\n",
       "      <td>0</td>\n",
       "      <td>0</td>\n",
       "      <td>0</td>\n",
       "      <td>0</td>\n",
       "      <td>0</td>\n",
       "      <td>0</td>\n",
       "      <td>0</td>\n",
       "      <td>1</td>\n",
       "      <td>1</td>\n",
       "      <td>0</td>\n",
       "      <td>0</td>\n",
       "      <td>0</td>\n",
       "      <td>0</td>\n",
       "      <td>0</td>\n",
       "      <td>1</td>\n",
       "      <td>0</td>\n",
       "      <td>0</td>\n",
       "      <td>0</td>\n",
       "      <td>0</td>\n",
       "      <td>0</td>\n",
       "      <td>0</td>\n",
       "      <td>0</td>\n",
       "      <td>1</td>\n",
       "      <td>0</td>\n",
       "      <td>0</td>\n",
       "      <td>0</td>\n",
       "      <td>0</td>\n",
       "      <td>0</td>\n",
       "      <td>0</td>\n",
       "      <td>0</td>\n",
       "      <td>0</td>\n",
       "      <td>0</td>\n",
       "      <td>0</td>\n",
       "      <td>0</td>\n",
       "      <td>0</td>\n",
       "      <td>0</td>\n",
       "      <td>0</td>\n",
       "      <td>0</td>\n",
       "      <td>0</td>\n",
       "      <td>0</td>\n",
       "      <td>0</td>\n",
       "      <td>0</td>\n",
       "      <td>1</td>\n",
       "      <td>0</td>\n",
       "      <td>0</td>\n",
       "      <td>0</td>\n",
       "      <td>0</td>\n",
       "      <td>0</td>\n",
       "      <td>0</td>\n",
       "      <td>0</td>\n",
       "      <td>0</td>\n",
       "      <td>0</td>\n",
       "      <td>1</td>\n",
       "      <td>0</td>\n",
       "      <td>0</td>\n",
       "      <td>1</td>\n",
       "      <td>0</td>\n",
       "      <td>0</td>\n",
       "      <td>0</td>\n",
       "      <td>0</td>\n",
       "      <td>0</td>\n",
       "      <td>1</td>\n",
       "      <td>0</td>\n",
       "      <td>0</td>\n",
       "      <td>1</td>\n",
       "      <td>0</td>\n",
       "      <td>0</td>\n",
       "      <td>0</td>\n",
       "      <td>0</td>\n",
       "      <td>0</td>\n",
       "      <td>0</td>\n",
       "      <td>0</td>\n",
       "      <td>1</td>\n",
       "      <td>0</td>\n",
       "      <td>0</td>\n",
       "      <td>1</td>\n",
       "      <td>0</td>\n",
       "      <td>0</td>\n",
       "      <td>0</td>\n",
       "      <td>1</td>\n",
       "      <td>1</td>\n",
       "      <td>0</td>\n",
       "      <td>0</td>\n",
       "      <td>0</td>\n",
       "      <td>0</td>\n",
       "      <td>1</td>\n",
       "      <td>0</td>\n",
       "      <td>0</td>\n",
       "      <td>0</td>\n",
       "      <td>0</td>\n",
       "      <td>0</td>\n",
       "      <td>0</td>\n",
       "      <td>0</td>\n",
       "      <td>0</td>\n",
       "      <td>0</td>\n",
       "      <td>1</td>\n",
       "      <td>0</td>\n",
       "      <td>0</td>\n",
       "      <td>0</td>\n",
       "      <td>0</td>\n",
       "      <td>0</td>\n",
       "      <td>0</td>\n",
       "      <td>0</td>\n",
       "      <td>0</td>\n",
       "      <td>1</td>\n",
       "      <td>0</td>\n",
       "      <td>0</td>\n",
       "      <td>1</td>\n",
       "      <td>1</td>\n",
       "      <td>0</td>\n",
       "      <td>1</td>\n",
       "      <td>0</td>\n",
       "      <td>0</td>\n",
       "      <td>0</td>\n",
       "      <td>1</td>\n",
       "      <td>1</td>\n",
       "      <td>0</td>\n",
       "      <td>0</td>\n",
       "      <td>0</td>\n",
       "      <td>0</td>\n",
       "      <td>1</td>\n",
       "      <td>0</td>\n",
       "      <td>0</td>\n",
       "      <td>1</td>\n",
       "      <td>0</td>\n",
       "      <td>1</td>\n",
       "      <td>1</td>\n",
       "      <td>1</td>\n",
       "      <td>1</td>\n",
       "      <td>0</td>\n",
       "      <td>0</td>\n",
       "    </tr>\n",
       "    <tr>\n",
       "      <th>13</th>\n",
       "      <td>Renata</td>\n",
       "      <td>1.0</td>\n",
       "      <td>Faberlic</td>\n",
       "      <td>Россия</td>\n",
       "      <td>0.0</td>\n",
       "      <td>0.6</td>\n",
       "      <td>0.416667</td>\n",
       "      <td>0.012</td>\n",
       "      <td>0.50</td>\n",
       "      <td>0</td>\n",
       "      <td>0</td>\n",
       "      <td>1</td>\n",
       "      <td>1</td>\n",
       "      <td>1</td>\n",
       "      <td>0.013380</td>\n",
       "      <td>0</td>\n",
       "      <td>0</td>\n",
       "      <td>1</td>\n",
       "      <td>0</td>\n",
       "      <td>0</td>\n",
       "      <td>1</td>\n",
       "      <td>0</td>\n",
       "      <td>0</td>\n",
       "      <td>0</td>\n",
       "      <td>0</td>\n",
       "      <td>0</td>\n",
       "      <td>0</td>\n",
       "      <td>0</td>\n",
       "      <td>0</td>\n",
       "      <td>0</td>\n",
       "      <td>0</td>\n",
       "      <td>0</td>\n",
       "      <td>0</td>\n",
       "      <td>1</td>\n",
       "      <td>0</td>\n",
       "      <td>0</td>\n",
       "      <td>1</td>\n",
       "      <td>0</td>\n",
       "      <td>0</td>\n",
       "      <td>0</td>\n",
       "      <td>0</td>\n",
       "      <td>0</td>\n",
       "      <td>0</td>\n",
       "      <td>0</td>\n",
       "      <td>0</td>\n",
       "      <td>0</td>\n",
       "      <td>0</td>\n",
       "      <td>0</td>\n",
       "      <td>0</td>\n",
       "      <td>0</td>\n",
       "      <td>0</td>\n",
       "      <td>0</td>\n",
       "      <td>0</td>\n",
       "      <td>0</td>\n",
       "      <td>0</td>\n",
       "      <td>1</td>\n",
       "      <td>0</td>\n",
       "      <td>1</td>\n",
       "      <td>0</td>\n",
       "      <td>0</td>\n",
       "      <td>0</td>\n",
       "      <td>0</td>\n",
       "      <td>0</td>\n",
       "      <td>0</td>\n",
       "      <td>0</td>\n",
       "      <td>0</td>\n",
       "      <td>0</td>\n",
       "      <td>1</td>\n",
       "      <td>1</td>\n",
       "      <td>0</td>\n",
       "      <td>1</td>\n",
       "      <td>0</td>\n",
       "      <td>0</td>\n",
       "      <td>0</td>\n",
       "      <td>0</td>\n",
       "      <td>1</td>\n",
       "      <td>0</td>\n",
       "      <td>0</td>\n",
       "      <td>1</td>\n",
       "      <td>0</td>\n",
       "      <td>0</td>\n",
       "      <td>0</td>\n",
       "      <td>0</td>\n",
       "      <td>1</td>\n",
       "      <td>0</td>\n",
       "      <td>0</td>\n",
       "      <td>0</td>\n",
       "      <td>0</td>\n",
       "      <td>1</td>\n",
       "      <td>0</td>\n",
       "      <td>0</td>\n",
       "      <td>1</td>\n",
       "      <td>0</td>\n",
       "      <td>0</td>\n",
       "      <td>0</td>\n",
       "      <td>0</td>\n",
       "      <td>0</td>\n",
       "      <td>1</td>\n",
       "      <td>0</td>\n",
       "      <td>0</td>\n",
       "      <td>0</td>\n",
       "      <td>0</td>\n",
       "      <td>1</td>\n",
       "      <td>0</td>\n",
       "      <td>0</td>\n",
       "      <td>0</td>\n",
       "      <td>0</td>\n",
       "      <td>1</td>\n",
       "      <td>0</td>\n",
       "      <td>0</td>\n",
       "      <td>0</td>\n",
       "      <td>0</td>\n",
       "      <td>0</td>\n",
       "      <td>0</td>\n",
       "      <td>0</td>\n",
       "      <td>0</td>\n",
       "      <td>0</td>\n",
       "      <td>0</td>\n",
       "      <td>0</td>\n",
       "      <td>0</td>\n",
       "      <td>0</td>\n",
       "      <td>0</td>\n",
       "      <td>0</td>\n",
       "      <td>0</td>\n",
       "      <td>0</td>\n",
       "      <td>1</td>\n",
       "      <td>0</td>\n",
       "      <td>0</td>\n",
       "      <td>0</td>\n",
       "      <td>0</td>\n",
       "      <td>0</td>\n",
       "      <td>0</td>\n",
       "      <td>0</td>\n",
       "      <td>0</td>\n",
       "      <td>0</td>\n",
       "      <td>0</td>\n",
       "      <td>0</td>\n",
       "      <td>0</td>\n",
       "      <td>0</td>\n",
       "      <td>1</td>\n",
       "      <td>0</td>\n",
       "      <td>0</td>\n",
       "      <td>0</td>\n",
       "      <td>0</td>\n",
       "      <td>1</td>\n",
       "      <td>0</td>\n",
       "      <td>0</td>\n",
       "      <td>1</td>\n",
       "      <td>0</td>\n",
       "      <td>0</td>\n",
       "      <td>1</td>\n",
       "      <td>0</td>\n",
       "      <td>0</td>\n",
       "      <td>0</td>\n",
       "      <td>1</td>\n",
       "      <td>1</td>\n",
       "      <td>0</td>\n",
       "      <td>0</td>\n",
       "      <td>0</td>\n",
       "      <td>1</td>\n",
       "      <td>1</td>\n",
       "      <td>0</td>\n",
       "      <td>0</td>\n",
       "      <td>0</td>\n",
       "      <td>0</td>\n",
       "      <td>0</td>\n",
       "      <td>0</td>\n",
       "      <td>0</td>\n",
       "      <td>0</td>\n",
       "      <td>0</td>\n",
       "      <td>1</td>\n",
       "      <td>0</td>\n",
       "      <td>1</td>\n",
       "      <td>0</td>\n",
       "      <td>0</td>\n",
       "      <td>0</td>\n",
       "      <td>0</td>\n",
       "      <td>0</td>\n",
       "      <td>0</td>\n",
       "      <td>1</td>\n",
       "      <td>0</td>\n",
       "      <td>0</td>\n",
       "      <td>1</td>\n",
       "      <td>1</td>\n",
       "      <td>0</td>\n",
       "      <td>1</td>\n",
       "      <td>0</td>\n",
       "      <td>0</td>\n",
       "      <td>0</td>\n",
       "      <td>1</td>\n",
       "      <td>1</td>\n",
       "      <td>0</td>\n",
       "      <td>0</td>\n",
       "      <td>0</td>\n",
       "      <td>0</td>\n",
       "      <td>1</td>\n",
       "      <td>0</td>\n",
       "      <td>0</td>\n",
       "      <td>1</td>\n",
       "      <td>0</td>\n",
       "      <td>1</td>\n",
       "      <td>1</td>\n",
       "      <td>1</td>\n",
       "      <td>1</td>\n",
       "      <td>0</td>\n",
       "      <td>0</td>\n",
       "    </tr>\n",
       "    <tr>\n",
       "      <th>14</th>\n",
       "      <td>Lanvin Eclat D Arpege</td>\n",
       "      <td>1.0</td>\n",
       "      <td>Lanvin</td>\n",
       "      <td>Франция</td>\n",
       "      <td>0.5</td>\n",
       "      <td>0.6</td>\n",
       "      <td>1.000000</td>\n",
       "      <td>1.000</td>\n",
       "      <td>0.50</td>\n",
       "      <td>0</td>\n",
       "      <td>1</td>\n",
       "      <td>1</td>\n",
       "      <td>1</td>\n",
       "      <td>0</td>\n",
       "      <td>0.024772</td>\n",
       "      <td>1</td>\n",
       "      <td>1</td>\n",
       "      <td>0</td>\n",
       "      <td>0</td>\n",
       "      <td>0</td>\n",
       "      <td>0</td>\n",
       "      <td>0</td>\n",
       "      <td>0</td>\n",
       "      <td>0</td>\n",
       "      <td>0</td>\n",
       "      <td>0</td>\n",
       "      <td>0</td>\n",
       "      <td>0</td>\n",
       "      <td>0</td>\n",
       "      <td>0</td>\n",
       "      <td>0</td>\n",
       "      <td>0</td>\n",
       "      <td>0</td>\n",
       "      <td>0</td>\n",
       "      <td>0</td>\n",
       "      <td>0</td>\n",
       "      <td>0</td>\n",
       "      <td>0</td>\n",
       "      <td>0</td>\n",
       "      <td>0</td>\n",
       "      <td>0</td>\n",
       "      <td>0</td>\n",
       "      <td>0</td>\n",
       "      <td>0</td>\n",
       "      <td>0</td>\n",
       "      <td>0</td>\n",
       "      <td>0</td>\n",
       "      <td>0</td>\n",
       "      <td>0</td>\n",
       "      <td>0</td>\n",
       "      <td>1</td>\n",
       "      <td>0</td>\n",
       "      <td>0</td>\n",
       "      <td>0</td>\n",
       "      <td>0</td>\n",
       "      <td>0</td>\n",
       "      <td>0</td>\n",
       "      <td>0</td>\n",
       "      <td>0</td>\n",
       "      <td>0</td>\n",
       "      <td>0</td>\n",
       "      <td>0</td>\n",
       "      <td>0</td>\n",
       "      <td>0</td>\n",
       "      <td>0</td>\n",
       "      <td>0</td>\n",
       "      <td>0</td>\n",
       "      <td>0</td>\n",
       "      <td>0</td>\n",
       "      <td>0</td>\n",
       "      <td>0</td>\n",
       "      <td>0</td>\n",
       "      <td>0</td>\n",
       "      <td>0</td>\n",
       "      <td>0</td>\n",
       "      <td>0</td>\n",
       "      <td>0</td>\n",
       "      <td>0</td>\n",
       "      <td>0</td>\n",
       "      <td>0</td>\n",
       "      <td>0</td>\n",
       "      <td>0</td>\n",
       "      <td>0</td>\n",
       "      <td>0</td>\n",
       "      <td>0</td>\n",
       "      <td>0</td>\n",
       "      <td>0</td>\n",
       "      <td>0</td>\n",
       "      <td>0</td>\n",
       "      <td>1</td>\n",
       "      <td>0</td>\n",
       "      <td>0</td>\n",
       "      <td>1</td>\n",
       "      <td>1</td>\n",
       "      <td>0</td>\n",
       "      <td>0</td>\n",
       "      <td>0</td>\n",
       "      <td>0</td>\n",
       "      <td>0</td>\n",
       "      <td>0</td>\n",
       "      <td>0</td>\n",
       "      <td>0</td>\n",
       "      <td>1</td>\n",
       "      <td>0</td>\n",
       "      <td>0</td>\n",
       "      <td>1</td>\n",
       "      <td>0</td>\n",
       "      <td>1</td>\n",
       "      <td>0</td>\n",
       "      <td>0</td>\n",
       "      <td>0</td>\n",
       "      <td>0</td>\n",
       "      <td>0</td>\n",
       "      <td>0</td>\n",
       "      <td>0</td>\n",
       "      <td>0</td>\n",
       "      <td>0</td>\n",
       "      <td>0</td>\n",
       "      <td>0</td>\n",
       "      <td>0</td>\n",
       "      <td>1</td>\n",
       "      <td>0</td>\n",
       "      <td>0</td>\n",
       "      <td>0</td>\n",
       "      <td>1</td>\n",
       "      <td>0</td>\n",
       "      <td>0</td>\n",
       "      <td>0</td>\n",
       "      <td>1</td>\n",
       "      <td>0</td>\n",
       "      <td>0</td>\n",
       "      <td>0</td>\n",
       "      <td>0</td>\n",
       "      <td>0</td>\n",
       "      <td>0</td>\n",
       "      <td>0</td>\n",
       "      <td>0</td>\n",
       "      <td>0</td>\n",
       "      <td>0</td>\n",
       "      <td>0</td>\n",
       "      <td>1</td>\n",
       "      <td>0</td>\n",
       "      <td>0</td>\n",
       "      <td>0</td>\n",
       "      <td>1</td>\n",
       "      <td>0</td>\n",
       "      <td>0</td>\n",
       "      <td>0</td>\n",
       "      <td>0</td>\n",
       "      <td>0</td>\n",
       "      <td>0</td>\n",
       "      <td>0</td>\n",
       "      <td>0</td>\n",
       "      <td>0</td>\n",
       "      <td>0</td>\n",
       "      <td>0</td>\n",
       "      <td>0</td>\n",
       "      <td>0</td>\n",
       "      <td>0</td>\n",
       "      <td>1</td>\n",
       "      <td>0</td>\n",
       "      <td>0</td>\n",
       "      <td>0</td>\n",
       "      <td>1</td>\n",
       "      <td>0</td>\n",
       "      <td>1</td>\n",
       "      <td>0</td>\n",
       "      <td>0</td>\n",
       "      <td>0</td>\n",
       "      <td>0</td>\n",
       "      <td>0</td>\n",
       "      <td>0</td>\n",
       "      <td>1</td>\n",
       "      <td>0</td>\n",
       "      <td>0</td>\n",
       "      <td>0</td>\n",
       "      <td>0</td>\n",
       "      <td>0</td>\n",
       "      <td>0</td>\n",
       "      <td>0</td>\n",
       "      <td>0</td>\n",
       "      <td>0</td>\n",
       "      <td>0</td>\n",
       "      <td>0</td>\n",
       "      <td>0</td>\n",
       "      <td>0</td>\n",
       "      <td>0</td>\n",
       "      <td>0</td>\n",
       "      <td>0</td>\n",
       "      <td>0</td>\n",
       "      <td>0</td>\n",
       "      <td>0</td>\n",
       "      <td>0</td>\n",
       "      <td>0</td>\n",
       "      <td>0</td>\n",
       "      <td>0</td>\n",
       "      <td>0</td>\n",
       "      <td>0</td>\n",
       "      <td>0</td>\n",
       "      <td>0</td>\n",
       "      <td>0</td>\n",
       "      <td>0</td>\n",
       "      <td>0</td>\n",
       "      <td>0</td>\n",
       "      <td>0</td>\n",
       "      <td>0</td>\n",
       "    </tr>\n",
       "    <tr>\n",
       "      <th>15</th>\n",
       "      <td>MOSCHINO Toy Boy</td>\n",
       "      <td>0.0</td>\n",
       "      <td>Moscino</td>\n",
       "      <td>Италия</td>\n",
       "      <td>0.5</td>\n",
       "      <td>0.6</td>\n",
       "      <td>0.166667</td>\n",
       "      <td>0.005</td>\n",
       "      <td>0.50</td>\n",
       "      <td>1</td>\n",
       "      <td>1</td>\n",
       "      <td>1</td>\n",
       "      <td>1</td>\n",
       "      <td>1</td>\n",
       "      <td>0.042879</td>\n",
       "      <td>0</td>\n",
       "      <td>1</td>\n",
       "      <td>1</td>\n",
       "      <td>0</td>\n",
       "      <td>0</td>\n",
       "      <td>0</td>\n",
       "      <td>0</td>\n",
       "      <td>0</td>\n",
       "      <td>0</td>\n",
       "      <td>0</td>\n",
       "      <td>0</td>\n",
       "      <td>0</td>\n",
       "      <td>0</td>\n",
       "      <td>0</td>\n",
       "      <td>0</td>\n",
       "      <td>0</td>\n",
       "      <td>0</td>\n",
       "      <td>0</td>\n",
       "      <td>0</td>\n",
       "      <td>1</td>\n",
       "      <td>0</td>\n",
       "      <td>0</td>\n",
       "      <td>1</td>\n",
       "      <td>0</td>\n",
       "      <td>0</td>\n",
       "      <td>1</td>\n",
       "      <td>0</td>\n",
       "      <td>0</td>\n",
       "      <td>0</td>\n",
       "      <td>0</td>\n",
       "      <td>0</td>\n",
       "      <td>0</td>\n",
       "      <td>0</td>\n",
       "      <td>0</td>\n",
       "      <td>0</td>\n",
       "      <td>0</td>\n",
       "      <td>0</td>\n",
       "      <td>1</td>\n",
       "      <td>0</td>\n",
       "      <td>0</td>\n",
       "      <td>0</td>\n",
       "      <td>0</td>\n",
       "      <td>1</td>\n",
       "      <td>1</td>\n",
       "      <td>0</td>\n",
       "      <td>0</td>\n",
       "      <td>0</td>\n",
       "      <td>0</td>\n",
       "      <td>0</td>\n",
       "      <td>0</td>\n",
       "      <td>1</td>\n",
       "      <td>0</td>\n",
       "      <td>0</td>\n",
       "      <td>0</td>\n",
       "      <td>0</td>\n",
       "      <td>0</td>\n",
       "      <td>0</td>\n",
       "      <td>1</td>\n",
       "      <td>0</td>\n",
       "      <td>0</td>\n",
       "      <td>0</td>\n",
       "      <td>1</td>\n",
       "      <td>0</td>\n",
       "      <td>0</td>\n",
       "      <td>0</td>\n",
       "      <td>0</td>\n",
       "      <td>1</td>\n",
       "      <td>1</td>\n",
       "      <td>0</td>\n",
       "      <td>0</td>\n",
       "      <td>0</td>\n",
       "      <td>0</td>\n",
       "      <td>0</td>\n",
       "      <td>0</td>\n",
       "      <td>0</td>\n",
       "      <td>0</td>\n",
       "      <td>0</td>\n",
       "      <td>0</td>\n",
       "      <td>1</td>\n",
       "      <td>0</td>\n",
       "      <td>0</td>\n",
       "      <td>0</td>\n",
       "      <td>0</td>\n",
       "      <td>0</td>\n",
       "      <td>1</td>\n",
       "      <td>1</td>\n",
       "      <td>0</td>\n",
       "      <td>0</td>\n",
       "      <td>0</td>\n",
       "      <td>1</td>\n",
       "      <td>0</td>\n",
       "      <td>0</td>\n",
       "      <td>1</td>\n",
       "      <td>0</td>\n",
       "      <td>0</td>\n",
       "      <td>0</td>\n",
       "      <td>0</td>\n",
       "      <td>0</td>\n",
       "      <td>0</td>\n",
       "      <td>0</td>\n",
       "      <td>0</td>\n",
       "      <td>0</td>\n",
       "      <td>0</td>\n",
       "      <td>0</td>\n",
       "      <td>0</td>\n",
       "      <td>0</td>\n",
       "      <td>0</td>\n",
       "      <td>0</td>\n",
       "      <td>0</td>\n",
       "      <td>0</td>\n",
       "      <td>0</td>\n",
       "      <td>0</td>\n",
       "      <td>0</td>\n",
       "      <td>0</td>\n",
       "      <td>0</td>\n",
       "      <td>0</td>\n",
       "      <td>1</td>\n",
       "      <td>0</td>\n",
       "      <td>0</td>\n",
       "      <td>0</td>\n",
       "      <td>0</td>\n",
       "      <td>0</td>\n",
       "      <td>1</td>\n",
       "      <td>0</td>\n",
       "      <td>0</td>\n",
       "      <td>0</td>\n",
       "      <td>0</td>\n",
       "      <td>0</td>\n",
       "      <td>0</td>\n",
       "      <td>0</td>\n",
       "      <td>1</td>\n",
       "      <td>0</td>\n",
       "      <td>0</td>\n",
       "      <td>1</td>\n",
       "      <td>0</td>\n",
       "      <td>0</td>\n",
       "      <td>0</td>\n",
       "      <td>0</td>\n",
       "      <td>0</td>\n",
       "      <td>1</td>\n",
       "      <td>1</td>\n",
       "      <td>0</td>\n",
       "      <td>0</td>\n",
       "      <td>1</td>\n",
       "      <td>0</td>\n",
       "      <td>0</td>\n",
       "      <td>1</td>\n",
       "      <td>0</td>\n",
       "      <td>0</td>\n",
       "      <td>0</td>\n",
       "      <td>0</td>\n",
       "      <td>1</td>\n",
       "      <td>0</td>\n",
       "      <td>0</td>\n",
       "      <td>0</td>\n",
       "      <td>0</td>\n",
       "      <td>0</td>\n",
       "      <td>0</td>\n",
       "      <td>0</td>\n",
       "      <td>1</td>\n",
       "      <td>1</td>\n",
       "      <td>1</td>\n",
       "      <td>1</td>\n",
       "      <td>0</td>\n",
       "      <td>0</td>\n",
       "      <td>0</td>\n",
       "      <td>0</td>\n",
       "      <td>0</td>\n",
       "      <td>0</td>\n",
       "      <td>1</td>\n",
       "      <td>1</td>\n",
       "      <td>1</td>\n",
       "      <td>0</td>\n",
       "      <td>0</td>\n",
       "      <td>0</td>\n",
       "      <td>0</td>\n",
       "      <td>1</td>\n",
       "      <td>0</td>\n",
       "      <td>1</td>\n",
       "      <td>0</td>\n",
       "      <td>0</td>\n",
       "      <td>0</td>\n",
       "      <td>0</td>\n",
       "      <td>0</td>\n",
       "      <td>0</td>\n",
       "      <td>0</td>\n",
       "      <td>0</td>\n",
       "      <td>1</td>\n",
       "      <td>0</td>\n",
       "      <td>0</td>\n",
       "      <td>0</td>\n",
       "    </tr>\n",
       "    <tr>\n",
       "      <th>16</th>\n",
       "      <td>Cartier Declaration D Un Soir</td>\n",
       "      <td>0.0</td>\n",
       "      <td>Cartier</td>\n",
       "      <td>Франция</td>\n",
       "      <td>0.5</td>\n",
       "      <td>0.4</td>\n",
       "      <td>0.166667</td>\n",
       "      <td>0.005</td>\n",
       "      <td>0.50</td>\n",
       "      <td>1</td>\n",
       "      <td>1</td>\n",
       "      <td>1</td>\n",
       "      <td>0</td>\n",
       "      <td>0</td>\n",
       "      <td>0.181998</td>\n",
       "      <td>1</td>\n",
       "      <td>0</td>\n",
       "      <td>0</td>\n",
       "      <td>0</td>\n",
       "      <td>0</td>\n",
       "      <td>0</td>\n",
       "      <td>0</td>\n",
       "      <td>0</td>\n",
       "      <td>0</td>\n",
       "      <td>0</td>\n",
       "      <td>0</td>\n",
       "      <td>0</td>\n",
       "      <td>0</td>\n",
       "      <td>0</td>\n",
       "      <td>0</td>\n",
       "      <td>1</td>\n",
       "      <td>0</td>\n",
       "      <td>0</td>\n",
       "      <td>0</td>\n",
       "      <td>1</td>\n",
       "      <td>0</td>\n",
       "      <td>0</td>\n",
       "      <td>1</td>\n",
       "      <td>0</td>\n",
       "      <td>0</td>\n",
       "      <td>0</td>\n",
       "      <td>0</td>\n",
       "      <td>1</td>\n",
       "      <td>0</td>\n",
       "      <td>0</td>\n",
       "      <td>0</td>\n",
       "      <td>0</td>\n",
       "      <td>0</td>\n",
       "      <td>0</td>\n",
       "      <td>0</td>\n",
       "      <td>0</td>\n",
       "      <td>0</td>\n",
       "      <td>1</td>\n",
       "      <td>1</td>\n",
       "      <td>0</td>\n",
       "      <td>0</td>\n",
       "      <td>1</td>\n",
       "      <td>0</td>\n",
       "      <td>1</td>\n",
       "      <td>0</td>\n",
       "      <td>0</td>\n",
       "      <td>0</td>\n",
       "      <td>1</td>\n",
       "      <td>0</td>\n",
       "      <td>1</td>\n",
       "      <td>1</td>\n",
       "      <td>0</td>\n",
       "      <td>0</td>\n",
       "      <td>0</td>\n",
       "      <td>0</td>\n",
       "      <td>0</td>\n",
       "      <td>0</td>\n",
       "      <td>0</td>\n",
       "      <td>0</td>\n",
       "      <td>0</td>\n",
       "      <td>0</td>\n",
       "      <td>0</td>\n",
       "      <td>0</td>\n",
       "      <td>1</td>\n",
       "      <td>0</td>\n",
       "      <td>1</td>\n",
       "      <td>1</td>\n",
       "      <td>0</td>\n",
       "      <td>0</td>\n",
       "      <td>0</td>\n",
       "      <td>0</td>\n",
       "      <td>1</td>\n",
       "      <td>0</td>\n",
       "      <td>0</td>\n",
       "      <td>0</td>\n",
       "      <td>0</td>\n",
       "      <td>0</td>\n",
       "      <td>0</td>\n",
       "      <td>1</td>\n",
       "      <td>1</td>\n",
       "      <td>0</td>\n",
       "      <td>0</td>\n",
       "      <td>0</td>\n",
       "      <td>0</td>\n",
       "      <td>0</td>\n",
       "      <td>1</td>\n",
       "      <td>0</td>\n",
       "      <td>0</td>\n",
       "      <td>0</td>\n",
       "      <td>0</td>\n",
       "      <td>0</td>\n",
       "      <td>0</td>\n",
       "      <td>1</td>\n",
       "      <td>0</td>\n",
       "      <td>0</td>\n",
       "      <td>0</td>\n",
       "      <td>0</td>\n",
       "      <td>0</td>\n",
       "      <td>0</td>\n",
       "      <td>1</td>\n",
       "      <td>0</td>\n",
       "      <td>0</td>\n",
       "      <td>0</td>\n",
       "      <td>0</td>\n",
       "      <td>0</td>\n",
       "      <td>0</td>\n",
       "      <td>0</td>\n",
       "      <td>0</td>\n",
       "      <td>0</td>\n",
       "      <td>1</td>\n",
       "      <td>0</td>\n",
       "      <td>0</td>\n",
       "      <td>1</td>\n",
       "      <td>0</td>\n",
       "      <td>0</td>\n",
       "      <td>0</td>\n",
       "      <td>0</td>\n",
       "      <td>0</td>\n",
       "      <td>0</td>\n",
       "      <td>0</td>\n",
       "      <td>0</td>\n",
       "      <td>0</td>\n",
       "      <td>1</td>\n",
       "      <td>0</td>\n",
       "      <td>0</td>\n",
       "      <td>0</td>\n",
       "      <td>0</td>\n",
       "      <td>0</td>\n",
       "      <td>0</td>\n",
       "      <td>0</td>\n",
       "      <td>1</td>\n",
       "      <td>0</td>\n",
       "      <td>0</td>\n",
       "      <td>1</td>\n",
       "      <td>0</td>\n",
       "      <td>0</td>\n",
       "      <td>0</td>\n",
       "      <td>0</td>\n",
       "      <td>0</td>\n",
       "      <td>1</td>\n",
       "      <td>1</td>\n",
       "      <td>0</td>\n",
       "      <td>0</td>\n",
       "      <td>1</td>\n",
       "      <td>0</td>\n",
       "      <td>0</td>\n",
       "      <td>1</td>\n",
       "      <td>0</td>\n",
       "      <td>0</td>\n",
       "      <td>0</td>\n",
       "      <td>0</td>\n",
       "      <td>1</td>\n",
       "      <td>0</td>\n",
       "      <td>0</td>\n",
       "      <td>0</td>\n",
       "      <td>0</td>\n",
       "      <td>0</td>\n",
       "      <td>0</td>\n",
       "      <td>0</td>\n",
       "      <td>1</td>\n",
       "      <td>1</td>\n",
       "      <td>1</td>\n",
       "      <td>1</td>\n",
       "      <td>0</td>\n",
       "      <td>0</td>\n",
       "      <td>0</td>\n",
       "      <td>0</td>\n",
       "      <td>0</td>\n",
       "      <td>0</td>\n",
       "      <td>1</td>\n",
       "      <td>1</td>\n",
       "      <td>1</td>\n",
       "      <td>0</td>\n",
       "      <td>0</td>\n",
       "      <td>0</td>\n",
       "      <td>0</td>\n",
       "      <td>1</td>\n",
       "      <td>0</td>\n",
       "      <td>1</td>\n",
       "      <td>0</td>\n",
       "      <td>0</td>\n",
       "      <td>0</td>\n",
       "      <td>0</td>\n",
       "      <td>0</td>\n",
       "      <td>0</td>\n",
       "      <td>0</td>\n",
       "      <td>0</td>\n",
       "      <td>1</td>\n",
       "      <td>0</td>\n",
       "      <td>0</td>\n",
       "      <td>0</td>\n",
       "    </tr>\n",
       "    <tr>\n",
       "      <th>17</th>\n",
       "      <td>Channel №5</td>\n",
       "      <td>1.0</td>\n",
       "      <td>Channel</td>\n",
       "      <td>Франция</td>\n",
       "      <td>0.5</td>\n",
       "      <td>0.8</td>\n",
       "      <td>1.000000</td>\n",
       "      <td>1.000</td>\n",
       "      <td>0.50</td>\n",
       "      <td>0</td>\n",
       "      <td>0</td>\n",
       "      <td>0</td>\n",
       "      <td>1</td>\n",
       "      <td>0</td>\n",
       "      <td>1.000000</td>\n",
       "      <td>0</td>\n",
       "      <td>0</td>\n",
       "      <td>1</td>\n",
       "      <td>1</td>\n",
       "      <td>1</td>\n",
       "      <td>0</td>\n",
       "      <td>0</td>\n",
       "      <td>0</td>\n",
       "      <td>0</td>\n",
       "      <td>0</td>\n",
       "      <td>0</td>\n",
       "      <td>0</td>\n",
       "      <td>0</td>\n",
       "      <td>0</td>\n",
       "      <td>0</td>\n",
       "      <td>0</td>\n",
       "      <td>0</td>\n",
       "      <td>0</td>\n",
       "      <td>0</td>\n",
       "      <td>1</td>\n",
       "      <td>0</td>\n",
       "      <td>0</td>\n",
       "      <td>0</td>\n",
       "      <td>0</td>\n",
       "      <td>0</td>\n",
       "      <td>0</td>\n",
       "      <td>0</td>\n",
       "      <td>1</td>\n",
       "      <td>0</td>\n",
       "      <td>1</td>\n",
       "      <td>0</td>\n",
       "      <td>0</td>\n",
       "      <td>0</td>\n",
       "      <td>0</td>\n",
       "      <td>0</td>\n",
       "      <td>0</td>\n",
       "      <td>1</td>\n",
       "      <td>0</td>\n",
       "      <td>1</td>\n",
       "      <td>0</td>\n",
       "      <td>0</td>\n",
       "      <td>0</td>\n",
       "      <td>0</td>\n",
       "      <td>0</td>\n",
       "      <td>0</td>\n",
       "      <td>0</td>\n",
       "      <td>0</td>\n",
       "      <td>0</td>\n",
       "      <td>0</td>\n",
       "      <td>0</td>\n",
       "      <td>0</td>\n",
       "      <td>0</td>\n",
       "      <td>0</td>\n",
       "      <td>0</td>\n",
       "      <td>0</td>\n",
       "      <td>0</td>\n",
       "      <td>1</td>\n",
       "      <td>0</td>\n",
       "      <td>0</td>\n",
       "      <td>0</td>\n",
       "      <td>0</td>\n",
       "      <td>0</td>\n",
       "      <td>0</td>\n",
       "      <td>0</td>\n",
       "      <td>0</td>\n",
       "      <td>0</td>\n",
       "      <td>0</td>\n",
       "      <td>0</td>\n",
       "      <td>0</td>\n",
       "      <td>0</td>\n",
       "      <td>0</td>\n",
       "      <td>1</td>\n",
       "      <td>0</td>\n",
       "      <td>0</td>\n",
       "      <td>0</td>\n",
       "      <td>0</td>\n",
       "      <td>1</td>\n",
       "      <td>0</td>\n",
       "      <td>0</td>\n",
       "      <td>0</td>\n",
       "      <td>1</td>\n",
       "      <td>0</td>\n",
       "      <td>0</td>\n",
       "      <td>0</td>\n",
       "      <td>0</td>\n",
       "      <td>0</td>\n",
       "      <td>0</td>\n",
       "      <td>1</td>\n",
       "      <td>0</td>\n",
       "      <td>0</td>\n",
       "      <td>0</td>\n",
       "      <td>0</td>\n",
       "      <td>1</td>\n",
       "      <td>0</td>\n",
       "      <td>0</td>\n",
       "      <td>0</td>\n",
       "      <td>0</td>\n",
       "      <td>0</td>\n",
       "      <td>0</td>\n",
       "      <td>0</td>\n",
       "      <td>0</td>\n",
       "      <td>0</td>\n",
       "      <td>0</td>\n",
       "      <td>0</td>\n",
       "      <td>0</td>\n",
       "      <td>0</td>\n",
       "      <td>1</td>\n",
       "      <td>0</td>\n",
       "      <td>0</td>\n",
       "      <td>0</td>\n",
       "      <td>0</td>\n",
       "      <td>0</td>\n",
       "      <td>0</td>\n",
       "      <td>1</td>\n",
       "      <td>0</td>\n",
       "      <td>0</td>\n",
       "      <td>0</td>\n",
       "      <td>0</td>\n",
       "      <td>0</td>\n",
       "      <td>0</td>\n",
       "      <td>0</td>\n",
       "      <td>0</td>\n",
       "      <td>0</td>\n",
       "      <td>0</td>\n",
       "      <td>0</td>\n",
       "      <td>1</td>\n",
       "      <td>0</td>\n",
       "      <td>0</td>\n",
       "      <td>0</td>\n",
       "      <td>0</td>\n",
       "      <td>0</td>\n",
       "      <td>0</td>\n",
       "      <td>0</td>\n",
       "      <td>0</td>\n",
       "      <td>0</td>\n",
       "      <td>0</td>\n",
       "      <td>0</td>\n",
       "      <td>0</td>\n",
       "      <td>0</td>\n",
       "      <td>0</td>\n",
       "      <td>0</td>\n",
       "      <td>0</td>\n",
       "      <td>0</td>\n",
       "      <td>0</td>\n",
       "      <td>0</td>\n",
       "      <td>0</td>\n",
       "      <td>0</td>\n",
       "      <td>0</td>\n",
       "      <td>1</td>\n",
       "      <td>0</td>\n",
       "      <td>1</td>\n",
       "      <td>0</td>\n",
       "      <td>0</td>\n",
       "      <td>0</td>\n",
       "      <td>0</td>\n",
       "      <td>0</td>\n",
       "      <td>0</td>\n",
       "      <td>0</td>\n",
       "      <td>0</td>\n",
       "      <td>0</td>\n",
       "      <td>0</td>\n",
       "      <td>0</td>\n",
       "      <td>0</td>\n",
       "      <td>0</td>\n",
       "      <td>0</td>\n",
       "      <td>0</td>\n",
       "      <td>0</td>\n",
       "      <td>0</td>\n",
       "      <td>0</td>\n",
       "      <td>0</td>\n",
       "      <td>0</td>\n",
       "      <td>0</td>\n",
       "      <td>0</td>\n",
       "      <td>0</td>\n",
       "      <td>0</td>\n",
       "      <td>0</td>\n",
       "      <td>0</td>\n",
       "      <td>0</td>\n",
       "      <td>0</td>\n",
       "      <td>0</td>\n",
       "      <td>0</td>\n",
       "      <td>0</td>\n",
       "      <td>0</td>\n",
       "      <td>0</td>\n",
       "      <td>0</td>\n",
       "      <td>0</td>\n",
       "      <td>0</td>\n",
       "      <td>0</td>\n",
       "      <td>0</td>\n",
       "      <td>0</td>\n",
       "      <td>0</td>\n",
       "    </tr>\n",
       "    <tr>\n",
       "      <th>18</th>\n",
       "      <td>Prada Day For Night</td>\n",
       "      <td>0.5</td>\n",
       "      <td>Prada</td>\n",
       "      <td>Италия</td>\n",
       "      <td>0.5</td>\n",
       "      <td>0.6</td>\n",
       "      <td>0.666667</td>\n",
       "      <td>1.000</td>\n",
       "      <td>0.50</td>\n",
       "      <td>0</td>\n",
       "      <td>0</td>\n",
       "      <td>0</td>\n",
       "      <td>0</td>\n",
       "      <td>0</td>\n",
       "      <td>0.154970</td>\n",
       "      <td>0</td>\n",
       "      <td>0</td>\n",
       "      <td>1</td>\n",
       "      <td>1</td>\n",
       "      <td>0</td>\n",
       "      <td>1</td>\n",
       "      <td>0</td>\n",
       "      <td>0</td>\n",
       "      <td>0</td>\n",
       "      <td>0</td>\n",
       "      <td>0</td>\n",
       "      <td>0</td>\n",
       "      <td>0</td>\n",
       "      <td>0</td>\n",
       "      <td>0</td>\n",
       "      <td>0</td>\n",
       "      <td>0</td>\n",
       "      <td>0</td>\n",
       "      <td>1</td>\n",
       "      <td>0</td>\n",
       "      <td>0</td>\n",
       "      <td>0</td>\n",
       "      <td>0</td>\n",
       "      <td>0</td>\n",
       "      <td>0</td>\n",
       "      <td>0</td>\n",
       "      <td>0</td>\n",
       "      <td>0</td>\n",
       "      <td>0</td>\n",
       "      <td>0</td>\n",
       "      <td>0</td>\n",
       "      <td>0</td>\n",
       "      <td>0</td>\n",
       "      <td>0</td>\n",
       "      <td>0</td>\n",
       "      <td>0</td>\n",
       "      <td>0</td>\n",
       "      <td>0</td>\n",
       "      <td>0</td>\n",
       "      <td>0</td>\n",
       "      <td>1</td>\n",
       "      <td>0</td>\n",
       "      <td>0</td>\n",
       "      <td>0</td>\n",
       "      <td>0</td>\n",
       "      <td>0</td>\n",
       "      <td>0</td>\n",
       "      <td>1</td>\n",
       "      <td>0</td>\n",
       "      <td>0</td>\n",
       "      <td>0</td>\n",
       "      <td>0</td>\n",
       "      <td>1</td>\n",
       "      <td>0</td>\n",
       "      <td>0</td>\n",
       "      <td>1</td>\n",
       "      <td>0</td>\n",
       "      <td>0</td>\n",
       "      <td>0</td>\n",
       "      <td>0</td>\n",
       "      <td>0</td>\n",
       "      <td>0</td>\n",
       "      <td>0</td>\n",
       "      <td>0</td>\n",
       "      <td>0</td>\n",
       "      <td>0</td>\n",
       "      <td>0</td>\n",
       "      <td>0</td>\n",
       "      <td>1</td>\n",
       "      <td>0</td>\n",
       "      <td>0</td>\n",
       "      <td>0</td>\n",
       "      <td>0</td>\n",
       "      <td>0</td>\n",
       "      <td>0</td>\n",
       "      <td>0</td>\n",
       "      <td>0</td>\n",
       "      <td>0</td>\n",
       "      <td>0</td>\n",
       "      <td>0</td>\n",
       "      <td>0</td>\n",
       "      <td>0</td>\n",
       "      <td>1</td>\n",
       "      <td>0</td>\n",
       "      <td>0</td>\n",
       "      <td>0</td>\n",
       "      <td>0</td>\n",
       "      <td>0</td>\n",
       "      <td>0</td>\n",
       "      <td>0</td>\n",
       "      <td>0</td>\n",
       "      <td>0</td>\n",
       "      <td>0</td>\n",
       "      <td>0</td>\n",
       "      <td>0</td>\n",
       "      <td>0</td>\n",
       "      <td>0</td>\n",
       "      <td>0</td>\n",
       "      <td>0</td>\n",
       "      <td>0</td>\n",
       "      <td>0</td>\n",
       "      <td>0</td>\n",
       "      <td>0</td>\n",
       "      <td>0</td>\n",
       "      <td>0</td>\n",
       "      <td>0</td>\n",
       "      <td>0</td>\n",
       "      <td>0</td>\n",
       "      <td>0</td>\n",
       "      <td>0</td>\n",
       "      <td>0</td>\n",
       "      <td>0</td>\n",
       "      <td>0</td>\n",
       "      <td>0</td>\n",
       "      <td>0</td>\n",
       "      <td>0</td>\n",
       "      <td>0</td>\n",
       "      <td>0</td>\n",
       "      <td>0</td>\n",
       "      <td>0</td>\n",
       "      <td>0</td>\n",
       "      <td>1</td>\n",
       "      <td>0</td>\n",
       "      <td>0</td>\n",
       "      <td>1</td>\n",
       "      <td>0</td>\n",
       "      <td>0</td>\n",
       "      <td>0</td>\n",
       "      <td>0</td>\n",
       "      <td>0</td>\n",
       "      <td>0</td>\n",
       "      <td>0</td>\n",
       "      <td>1</td>\n",
       "      <td>0</td>\n",
       "      <td>0</td>\n",
       "      <td>1</td>\n",
       "      <td>0</td>\n",
       "      <td>0</td>\n",
       "      <td>0</td>\n",
       "      <td>1</td>\n",
       "      <td>1</td>\n",
       "      <td>0</td>\n",
       "      <td>0</td>\n",
       "      <td>0</td>\n",
       "      <td>0</td>\n",
       "      <td>1</td>\n",
       "      <td>0</td>\n",
       "      <td>0</td>\n",
       "      <td>0</td>\n",
       "      <td>0</td>\n",
       "      <td>0</td>\n",
       "      <td>0</td>\n",
       "      <td>0</td>\n",
       "      <td>0</td>\n",
       "      <td>0</td>\n",
       "      <td>1</td>\n",
       "      <td>0</td>\n",
       "      <td>0</td>\n",
       "      <td>0</td>\n",
       "      <td>0</td>\n",
       "      <td>0</td>\n",
       "      <td>0</td>\n",
       "      <td>0</td>\n",
       "      <td>0</td>\n",
       "      <td>1</td>\n",
       "      <td>0</td>\n",
       "      <td>0</td>\n",
       "      <td>1</td>\n",
       "      <td>1</td>\n",
       "      <td>0</td>\n",
       "      <td>1</td>\n",
       "      <td>0</td>\n",
       "      <td>0</td>\n",
       "      <td>0</td>\n",
       "      <td>1</td>\n",
       "      <td>1</td>\n",
       "      <td>0</td>\n",
       "      <td>0</td>\n",
       "      <td>0</td>\n",
       "      <td>0</td>\n",
       "      <td>1</td>\n",
       "      <td>0</td>\n",
       "      <td>0</td>\n",
       "      <td>1</td>\n",
       "      <td>0</td>\n",
       "      <td>1</td>\n",
       "      <td>1</td>\n",
       "      <td>1</td>\n",
       "      <td>1</td>\n",
       "      <td>0</td>\n",
       "      <td>0</td>\n",
       "    </tr>\n",
       "    <tr>\n",
       "      <th>19</th>\n",
       "      <td>Escentric Molecules Escentric 02</td>\n",
       "      <td>0.5</td>\n",
       "      <td>Escentric Molecules</td>\n",
       "      <td>Германия</td>\n",
       "      <td>1.0</td>\n",
       "      <td>0.8</td>\n",
       "      <td>0.416667</td>\n",
       "      <td>0.012</td>\n",
       "      <td>0.50</td>\n",
       "      <td>1</td>\n",
       "      <td>1</td>\n",
       "      <td>1</td>\n",
       "      <td>1</td>\n",
       "      <td>1</td>\n",
       "      <td>0.078262</td>\n",
       "      <td>1</td>\n",
       "      <td>0</td>\n",
       "      <td>0</td>\n",
       "      <td>0</td>\n",
       "      <td>0</td>\n",
       "      <td>1</td>\n",
       "      <td>1</td>\n",
       "      <td>0</td>\n",
       "      <td>0</td>\n",
       "      <td>0</td>\n",
       "      <td>0</td>\n",
       "      <td>0</td>\n",
       "      <td>0</td>\n",
       "      <td>0</td>\n",
       "      <td>0</td>\n",
       "      <td>0</td>\n",
       "      <td>0</td>\n",
       "      <td>1</td>\n",
       "      <td>1</td>\n",
       "      <td>0</td>\n",
       "      <td>0</td>\n",
       "      <td>0</td>\n",
       "      <td>0</td>\n",
       "      <td>0</td>\n",
       "      <td>0</td>\n",
       "      <td>0</td>\n",
       "      <td>0</td>\n",
       "      <td>0</td>\n",
       "      <td>0</td>\n",
       "      <td>1</td>\n",
       "      <td>0</td>\n",
       "      <td>0</td>\n",
       "      <td>0</td>\n",
       "      <td>0</td>\n",
       "      <td>0</td>\n",
       "      <td>0</td>\n",
       "      <td>0</td>\n",
       "      <td>0</td>\n",
       "      <td>1</td>\n",
       "      <td>0</td>\n",
       "      <td>1</td>\n",
       "      <td>0</td>\n",
       "      <td>0</td>\n",
       "      <td>0</td>\n",
       "      <td>0</td>\n",
       "      <td>0</td>\n",
       "      <td>0</td>\n",
       "      <td>0</td>\n",
       "      <td>0</td>\n",
       "      <td>0</td>\n",
       "      <td>0</td>\n",
       "      <td>0</td>\n",
       "      <td>1</td>\n",
       "      <td>0</td>\n",
       "      <td>0</td>\n",
       "      <td>1</td>\n",
       "      <td>0</td>\n",
       "      <td>0</td>\n",
       "      <td>0</td>\n",
       "      <td>0</td>\n",
       "      <td>0</td>\n",
       "      <td>0</td>\n",
       "      <td>0</td>\n",
       "      <td>0</td>\n",
       "      <td>0</td>\n",
       "      <td>0</td>\n",
       "      <td>0</td>\n",
       "      <td>0</td>\n",
       "      <td>1</td>\n",
       "      <td>0</td>\n",
       "      <td>0</td>\n",
       "      <td>0</td>\n",
       "      <td>0</td>\n",
       "      <td>0</td>\n",
       "      <td>0</td>\n",
       "      <td>0</td>\n",
       "      <td>0</td>\n",
       "      <td>0</td>\n",
       "      <td>1</td>\n",
       "      <td>0</td>\n",
       "      <td>0</td>\n",
       "      <td>0</td>\n",
       "      <td>1</td>\n",
       "      <td>0</td>\n",
       "      <td>0</td>\n",
       "      <td>0</td>\n",
       "      <td>0</td>\n",
       "      <td>1</td>\n",
       "      <td>0</td>\n",
       "      <td>0</td>\n",
       "      <td>0</td>\n",
       "      <td>0</td>\n",
       "      <td>1</td>\n",
       "      <td>0</td>\n",
       "      <td>0</td>\n",
       "      <td>0</td>\n",
       "      <td>0</td>\n",
       "      <td>0</td>\n",
       "      <td>0</td>\n",
       "      <td>0</td>\n",
       "      <td>0</td>\n",
       "      <td>0</td>\n",
       "      <td>0</td>\n",
       "      <td>0</td>\n",
       "      <td>0</td>\n",
       "      <td>0</td>\n",
       "      <td>0</td>\n",
       "      <td>0</td>\n",
       "      <td>0</td>\n",
       "      <td>0</td>\n",
       "      <td>0</td>\n",
       "      <td>0</td>\n",
       "      <td>0</td>\n",
       "      <td>1</td>\n",
       "      <td>0</td>\n",
       "      <td>0</td>\n",
       "      <td>0</td>\n",
       "      <td>0</td>\n",
       "      <td>0</td>\n",
       "      <td>0</td>\n",
       "      <td>0</td>\n",
       "      <td>0</td>\n",
       "      <td>0</td>\n",
       "      <td>0</td>\n",
       "      <td>1</td>\n",
       "      <td>1</td>\n",
       "      <td>0</td>\n",
       "      <td>0</td>\n",
       "      <td>0</td>\n",
       "      <td>0</td>\n",
       "      <td>0</td>\n",
       "      <td>0</td>\n",
       "      <td>0</td>\n",
       "      <td>0</td>\n",
       "      <td>0</td>\n",
       "      <td>1</td>\n",
       "      <td>0</td>\n",
       "      <td>0</td>\n",
       "      <td>0</td>\n",
       "      <td>1</td>\n",
       "      <td>1</td>\n",
       "      <td>0</td>\n",
       "      <td>0</td>\n",
       "      <td>0</td>\n",
       "      <td>0</td>\n",
       "      <td>1</td>\n",
       "      <td>0</td>\n",
       "      <td>0</td>\n",
       "      <td>1</td>\n",
       "      <td>0</td>\n",
       "      <td>1</td>\n",
       "      <td>0</td>\n",
       "      <td>0</td>\n",
       "      <td>0</td>\n",
       "      <td>0</td>\n",
       "      <td>1</td>\n",
       "      <td>0</td>\n",
       "      <td>0</td>\n",
       "      <td>0</td>\n",
       "      <td>0</td>\n",
       "      <td>0</td>\n",
       "      <td>0</td>\n",
       "      <td>0</td>\n",
       "      <td>0</td>\n",
       "      <td>1</td>\n",
       "      <td>0</td>\n",
       "      <td>0</td>\n",
       "      <td>1</td>\n",
       "      <td>1</td>\n",
       "      <td>0</td>\n",
       "      <td>1</td>\n",
       "      <td>0</td>\n",
       "      <td>0</td>\n",
       "      <td>0</td>\n",
       "      <td>1</td>\n",
       "      <td>1</td>\n",
       "      <td>0</td>\n",
       "      <td>0</td>\n",
       "      <td>0</td>\n",
       "      <td>0</td>\n",
       "      <td>1</td>\n",
       "      <td>0</td>\n",
       "      <td>0</td>\n",
       "      <td>1</td>\n",
       "      <td>0</td>\n",
       "      <td>1</td>\n",
       "      <td>1</td>\n",
       "      <td>1</td>\n",
       "      <td>1</td>\n",
       "      <td>0</td>\n",
       "      <td>0</td>\n",
       "    </tr>\n",
       "    <tr>\n",
       "      <th>20</th>\n",
       "      <td>The Only One</td>\n",
       "      <td>1.0</td>\n",
       "      <td>Dolce&amp;Gabbana</td>\n",
       "      <td>Италия</td>\n",
       "      <td>0.5</td>\n",
       "      <td>0.6</td>\n",
       "      <td>0.166667</td>\n",
       "      <td>0.005</td>\n",
       "      <td>0.50</td>\n",
       "      <td>0</td>\n",
       "      <td>0</td>\n",
       "      <td>1</td>\n",
       "      <td>0</td>\n",
       "      <td>0</td>\n",
       "      <td>0.139937</td>\n",
       "      <td>0</td>\n",
       "      <td>0</td>\n",
       "      <td>1</td>\n",
       "      <td>1</td>\n",
       "      <td>0</td>\n",
       "      <td>1</td>\n",
       "      <td>0</td>\n",
       "      <td>0</td>\n",
       "      <td>0</td>\n",
       "      <td>0</td>\n",
       "      <td>0</td>\n",
       "      <td>0</td>\n",
       "      <td>0</td>\n",
       "      <td>0</td>\n",
       "      <td>0</td>\n",
       "      <td>0</td>\n",
       "      <td>0</td>\n",
       "      <td>0</td>\n",
       "      <td>1</td>\n",
       "      <td>0</td>\n",
       "      <td>0</td>\n",
       "      <td>0</td>\n",
       "      <td>0</td>\n",
       "      <td>0</td>\n",
       "      <td>0</td>\n",
       "      <td>1</td>\n",
       "      <td>0</td>\n",
       "      <td>0</td>\n",
       "      <td>0</td>\n",
       "      <td>0</td>\n",
       "      <td>0</td>\n",
       "      <td>0</td>\n",
       "      <td>0</td>\n",
       "      <td>0</td>\n",
       "      <td>0</td>\n",
       "      <td>0</td>\n",
       "      <td>0</td>\n",
       "      <td>0</td>\n",
       "      <td>1</td>\n",
       "      <td>0</td>\n",
       "      <td>1</td>\n",
       "      <td>0</td>\n",
       "      <td>0</td>\n",
       "      <td>0</td>\n",
       "      <td>0</td>\n",
       "      <td>0</td>\n",
       "      <td>0</td>\n",
       "      <td>0</td>\n",
       "      <td>0</td>\n",
       "      <td>0</td>\n",
       "      <td>0</td>\n",
       "      <td>0</td>\n",
       "      <td>1</td>\n",
       "      <td>0</td>\n",
       "      <td>0</td>\n",
       "      <td>1</td>\n",
       "      <td>0</td>\n",
       "      <td>0</td>\n",
       "      <td>0</td>\n",
       "      <td>0</td>\n",
       "      <td>0</td>\n",
       "      <td>0</td>\n",
       "      <td>0</td>\n",
       "      <td>0</td>\n",
       "      <td>0</td>\n",
       "      <td>0</td>\n",
       "      <td>0</td>\n",
       "      <td>0</td>\n",
       "      <td>1</td>\n",
       "      <td>0</td>\n",
       "      <td>0</td>\n",
       "      <td>0</td>\n",
       "      <td>0</td>\n",
       "      <td>0</td>\n",
       "      <td>0</td>\n",
       "      <td>0</td>\n",
       "      <td>1</td>\n",
       "      <td>0</td>\n",
       "      <td>0</td>\n",
       "      <td>0</td>\n",
       "      <td>0</td>\n",
       "      <td>0</td>\n",
       "      <td>1</td>\n",
       "      <td>0</td>\n",
       "      <td>0</td>\n",
       "      <td>0</td>\n",
       "      <td>0</td>\n",
       "      <td>1</td>\n",
       "      <td>1</td>\n",
       "      <td>0</td>\n",
       "      <td>0</td>\n",
       "      <td>0</td>\n",
       "      <td>1</td>\n",
       "      <td>0</td>\n",
       "      <td>0</td>\n",
       "      <td>0</td>\n",
       "      <td>0</td>\n",
       "      <td>0</td>\n",
       "      <td>0</td>\n",
       "      <td>0</td>\n",
       "      <td>0</td>\n",
       "      <td>0</td>\n",
       "      <td>0</td>\n",
       "      <td>1</td>\n",
       "      <td>0</td>\n",
       "      <td>0</td>\n",
       "      <td>0</td>\n",
       "      <td>0</td>\n",
       "      <td>0</td>\n",
       "      <td>0</td>\n",
       "      <td>0</td>\n",
       "      <td>0</td>\n",
       "      <td>0</td>\n",
       "      <td>0</td>\n",
       "      <td>0</td>\n",
       "      <td>0</td>\n",
       "      <td>0</td>\n",
       "      <td>0</td>\n",
       "      <td>0</td>\n",
       "      <td>0</td>\n",
       "      <td>0</td>\n",
       "      <td>0</td>\n",
       "      <td>0</td>\n",
       "      <td>0</td>\n",
       "      <td>1</td>\n",
       "      <td>1</td>\n",
       "      <td>0</td>\n",
       "      <td>0</td>\n",
       "      <td>0</td>\n",
       "      <td>0</td>\n",
       "      <td>0</td>\n",
       "      <td>0</td>\n",
       "      <td>0</td>\n",
       "      <td>0</td>\n",
       "      <td>0</td>\n",
       "      <td>1</td>\n",
       "      <td>0</td>\n",
       "      <td>0</td>\n",
       "      <td>0</td>\n",
       "      <td>1</td>\n",
       "      <td>1</td>\n",
       "      <td>0</td>\n",
       "      <td>0</td>\n",
       "      <td>0</td>\n",
       "      <td>0</td>\n",
       "      <td>1</td>\n",
       "      <td>0</td>\n",
       "      <td>0</td>\n",
       "      <td>1</td>\n",
       "      <td>0</td>\n",
       "      <td>1</td>\n",
       "      <td>0</td>\n",
       "      <td>0</td>\n",
       "      <td>0</td>\n",
       "      <td>0</td>\n",
       "      <td>1</td>\n",
       "      <td>0</td>\n",
       "      <td>0</td>\n",
       "      <td>0</td>\n",
       "      <td>0</td>\n",
       "      <td>0</td>\n",
       "      <td>0</td>\n",
       "      <td>0</td>\n",
       "      <td>0</td>\n",
       "      <td>1</td>\n",
       "      <td>0</td>\n",
       "      <td>0</td>\n",
       "      <td>1</td>\n",
       "      <td>1</td>\n",
       "      <td>0</td>\n",
       "      <td>1</td>\n",
       "      <td>0</td>\n",
       "      <td>0</td>\n",
       "      <td>0</td>\n",
       "      <td>1</td>\n",
       "      <td>1</td>\n",
       "      <td>0</td>\n",
       "      <td>0</td>\n",
       "      <td>0</td>\n",
       "      <td>0</td>\n",
       "      <td>1</td>\n",
       "      <td>0</td>\n",
       "      <td>0</td>\n",
       "      <td>1</td>\n",
       "      <td>0</td>\n",
       "      <td>1</td>\n",
       "      <td>1</td>\n",
       "      <td>1</td>\n",
       "      <td>1</td>\n",
       "      <td>0</td>\n",
       "      <td>0</td>\n",
       "    </tr>\n",
       "    <tr>\n",
       "      <th>21</th>\n",
       "      <td>Flora by Gucci Gorgeous Gardenia</td>\n",
       "      <td>1.0</td>\n",
       "      <td>Gucci</td>\n",
       "      <td>Италия</td>\n",
       "      <td>0.5</td>\n",
       "      <td>0.4</td>\n",
       "      <td>1.000000</td>\n",
       "      <td>1.000</td>\n",
       "      <td>0.50</td>\n",
       "      <td>1</td>\n",
       "      <td>1</td>\n",
       "      <td>1</td>\n",
       "      <td>1</td>\n",
       "      <td>1</td>\n",
       "      <td>0.279396</td>\n",
       "      <td>1</td>\n",
       "      <td>1</td>\n",
       "      <td>0</td>\n",
       "      <td>0</td>\n",
       "      <td>0</td>\n",
       "      <td>0</td>\n",
       "      <td>0</td>\n",
       "      <td>0</td>\n",
       "      <td>0</td>\n",
       "      <td>0</td>\n",
       "      <td>0</td>\n",
       "      <td>0</td>\n",
       "      <td>0</td>\n",
       "      <td>0</td>\n",
       "      <td>0</td>\n",
       "      <td>0</td>\n",
       "      <td>0</td>\n",
       "      <td>0</td>\n",
       "      <td>0</td>\n",
       "      <td>0</td>\n",
       "      <td>0</td>\n",
       "      <td>1</td>\n",
       "      <td>0</td>\n",
       "      <td>0</td>\n",
       "      <td>0</td>\n",
       "      <td>1</td>\n",
       "      <td>0</td>\n",
       "      <td>0</td>\n",
       "      <td>0</td>\n",
       "      <td>0</td>\n",
       "      <td>0</td>\n",
       "      <td>0</td>\n",
       "      <td>0</td>\n",
       "      <td>0</td>\n",
       "      <td>0</td>\n",
       "      <td>0</td>\n",
       "      <td>0</td>\n",
       "      <td>0</td>\n",
       "      <td>0</td>\n",
       "      <td>0</td>\n",
       "      <td>0</td>\n",
       "      <td>0</td>\n",
       "      <td>0</td>\n",
       "      <td>0</td>\n",
       "      <td>0</td>\n",
       "      <td>0</td>\n",
       "      <td>0</td>\n",
       "      <td>0</td>\n",
       "      <td>0</td>\n",
       "      <td>0</td>\n",
       "      <td>0</td>\n",
       "      <td>1</td>\n",
       "      <td>0</td>\n",
       "      <td>0</td>\n",
       "      <td>0</td>\n",
       "      <td>0</td>\n",
       "      <td>0</td>\n",
       "      <td>0</td>\n",
       "      <td>0</td>\n",
       "      <td>0</td>\n",
       "      <td>0</td>\n",
       "      <td>0</td>\n",
       "      <td>0</td>\n",
       "      <td>0</td>\n",
       "      <td>0</td>\n",
       "      <td>0</td>\n",
       "      <td>0</td>\n",
       "      <td>0</td>\n",
       "      <td>0</td>\n",
       "      <td>0</td>\n",
       "      <td>0</td>\n",
       "      <td>0</td>\n",
       "      <td>0</td>\n",
       "      <td>0</td>\n",
       "      <td>0</td>\n",
       "      <td>0</td>\n",
       "      <td>1</td>\n",
       "      <td>0</td>\n",
       "      <td>1</td>\n",
       "      <td>0</td>\n",
       "      <td>0</td>\n",
       "      <td>0</td>\n",
       "      <td>0</td>\n",
       "      <td>0</td>\n",
       "      <td>1</td>\n",
       "      <td>0</td>\n",
       "      <td>0</td>\n",
       "      <td>1</td>\n",
       "      <td>0</td>\n",
       "      <td>0</td>\n",
       "      <td>0</td>\n",
       "      <td>0</td>\n",
       "      <td>1</td>\n",
       "      <td>0</td>\n",
       "      <td>0</td>\n",
       "      <td>0</td>\n",
       "      <td>0</td>\n",
       "      <td>0</td>\n",
       "      <td>0</td>\n",
       "      <td>0</td>\n",
       "      <td>0</td>\n",
       "      <td>0</td>\n",
       "      <td>0</td>\n",
       "      <td>0</td>\n",
       "      <td>1</td>\n",
       "      <td>0</td>\n",
       "      <td>0</td>\n",
       "      <td>0</td>\n",
       "      <td>0</td>\n",
       "      <td>0</td>\n",
       "      <td>0</td>\n",
       "      <td>0</td>\n",
       "      <td>0</td>\n",
       "      <td>0</td>\n",
       "      <td>0</td>\n",
       "      <td>0</td>\n",
       "      <td>0</td>\n",
       "      <td>0</td>\n",
       "      <td>0</td>\n",
       "      <td>0</td>\n",
       "      <td>0</td>\n",
       "      <td>0</td>\n",
       "      <td>0</td>\n",
       "      <td>0</td>\n",
       "      <td>0</td>\n",
       "      <td>1</td>\n",
       "      <td>0</td>\n",
       "      <td>0</td>\n",
       "      <td>0</td>\n",
       "      <td>1</td>\n",
       "      <td>0</td>\n",
       "      <td>0</td>\n",
       "      <td>0</td>\n",
       "      <td>0</td>\n",
       "      <td>0</td>\n",
       "      <td>0</td>\n",
       "      <td>0</td>\n",
       "      <td>0</td>\n",
       "      <td>0</td>\n",
       "      <td>0</td>\n",
       "      <td>0</td>\n",
       "      <td>0</td>\n",
       "      <td>0</td>\n",
       "      <td>0</td>\n",
       "      <td>1</td>\n",
       "      <td>0</td>\n",
       "      <td>0</td>\n",
       "      <td>0</td>\n",
       "      <td>1</td>\n",
       "      <td>0</td>\n",
       "      <td>1</td>\n",
       "      <td>0</td>\n",
       "      <td>0</td>\n",
       "      <td>0</td>\n",
       "      <td>0</td>\n",
       "      <td>0</td>\n",
       "      <td>0</td>\n",
       "      <td>1</td>\n",
       "      <td>0</td>\n",
       "      <td>0</td>\n",
       "      <td>0</td>\n",
       "      <td>0</td>\n",
       "      <td>0</td>\n",
       "      <td>0</td>\n",
       "      <td>0</td>\n",
       "      <td>0</td>\n",
       "      <td>0</td>\n",
       "      <td>0</td>\n",
       "      <td>0</td>\n",
       "      <td>0</td>\n",
       "      <td>0</td>\n",
       "      <td>0</td>\n",
       "      <td>0</td>\n",
       "      <td>0</td>\n",
       "      <td>0</td>\n",
       "      <td>0</td>\n",
       "      <td>0</td>\n",
       "      <td>0</td>\n",
       "      <td>0</td>\n",
       "      <td>0</td>\n",
       "      <td>0</td>\n",
       "      <td>0</td>\n",
       "      <td>0</td>\n",
       "      <td>0</td>\n",
       "      <td>0</td>\n",
       "      <td>0</td>\n",
       "      <td>0</td>\n",
       "      <td>0</td>\n",
       "      <td>0</td>\n",
       "      <td>0</td>\n",
       "      <td>0</td>\n",
       "    </tr>\n",
       "    <tr>\n",
       "      <th>22</th>\n",
       "      <td>La Petite Robe Noire Ma Robe Cocktail</td>\n",
       "      <td>1.0</td>\n",
       "      <td>Guerlain</td>\n",
       "      <td>Франция</td>\n",
       "      <td>0.5</td>\n",
       "      <td>0.4</td>\n",
       "      <td>0.416667</td>\n",
       "      <td>0.012</td>\n",
       "      <td>0.75</td>\n",
       "      <td>1</td>\n",
       "      <td>1</td>\n",
       "      <td>1</td>\n",
       "      <td>1</td>\n",
       "      <td>1</td>\n",
       "      <td>0.064765</td>\n",
       "      <td>0</td>\n",
       "      <td>0</td>\n",
       "      <td>0</td>\n",
       "      <td>0</td>\n",
       "      <td>0</td>\n",
       "      <td>0</td>\n",
       "      <td>0</td>\n",
       "      <td>0</td>\n",
       "      <td>0</td>\n",
       "      <td>0</td>\n",
       "      <td>0</td>\n",
       "      <td>0</td>\n",
       "      <td>0</td>\n",
       "      <td>0</td>\n",
       "      <td>0</td>\n",
       "      <td>0</td>\n",
       "      <td>0</td>\n",
       "      <td>0</td>\n",
       "      <td>0</td>\n",
       "      <td>0</td>\n",
       "      <td>1</td>\n",
       "      <td>0</td>\n",
       "      <td>0</td>\n",
       "      <td>0</td>\n",
       "      <td>0</td>\n",
       "      <td>0</td>\n",
       "      <td>0</td>\n",
       "      <td>0</td>\n",
       "      <td>0</td>\n",
       "      <td>1</td>\n",
       "      <td>1</td>\n",
       "      <td>0</td>\n",
       "      <td>0</td>\n",
       "      <td>0</td>\n",
       "      <td>1</td>\n",
       "      <td>0</td>\n",
       "      <td>0</td>\n",
       "      <td>0</td>\n",
       "      <td>0</td>\n",
       "      <td>0</td>\n",
       "      <td>0</td>\n",
       "      <td>0</td>\n",
       "      <td>0</td>\n",
       "      <td>0</td>\n",
       "      <td>0</td>\n",
       "      <td>0</td>\n",
       "      <td>0</td>\n",
       "      <td>0</td>\n",
       "      <td>0</td>\n",
       "      <td>0</td>\n",
       "      <td>0</td>\n",
       "      <td>0</td>\n",
       "      <td>0</td>\n",
       "      <td>0</td>\n",
       "      <td>0</td>\n",
       "      <td>0</td>\n",
       "      <td>0</td>\n",
       "      <td>0</td>\n",
       "      <td>0</td>\n",
       "      <td>0</td>\n",
       "      <td>0</td>\n",
       "      <td>0</td>\n",
       "      <td>0</td>\n",
       "      <td>0</td>\n",
       "      <td>1</td>\n",
       "      <td>0</td>\n",
       "      <td>0</td>\n",
       "      <td>0</td>\n",
       "      <td>0</td>\n",
       "      <td>0</td>\n",
       "      <td>1</td>\n",
       "      <td>0</td>\n",
       "      <td>0</td>\n",
       "      <td>0</td>\n",
       "      <td>0</td>\n",
       "      <td>0</td>\n",
       "      <td>0</td>\n",
       "      <td>0</td>\n",
       "      <td>0</td>\n",
       "      <td>0</td>\n",
       "      <td>0</td>\n",
       "      <td>0</td>\n",
       "      <td>0</td>\n",
       "      <td>0</td>\n",
       "      <td>0</td>\n",
       "      <td>0</td>\n",
       "      <td>0</td>\n",
       "      <td>1</td>\n",
       "      <td>0</td>\n",
       "      <td>0</td>\n",
       "      <td>0</td>\n",
       "      <td>0</td>\n",
       "      <td>1</td>\n",
       "      <td>0</td>\n",
       "      <td>0</td>\n",
       "      <td>0</td>\n",
       "      <td>1</td>\n",
       "      <td>0</td>\n",
       "      <td>0</td>\n",
       "      <td>0</td>\n",
       "      <td>0</td>\n",
       "      <td>0</td>\n",
       "      <td>0</td>\n",
       "      <td>0</td>\n",
       "      <td>0</td>\n",
       "      <td>0</td>\n",
       "      <td>0</td>\n",
       "      <td>0</td>\n",
       "      <td>0</td>\n",
       "      <td>0</td>\n",
       "      <td>0</td>\n",
       "      <td>0</td>\n",
       "      <td>0</td>\n",
       "      <td>0</td>\n",
       "      <td>0</td>\n",
       "      <td>0</td>\n",
       "      <td>0</td>\n",
       "      <td>1</td>\n",
       "      <td>0</td>\n",
       "      <td>0</td>\n",
       "      <td>0</td>\n",
       "      <td>0</td>\n",
       "      <td>0</td>\n",
       "      <td>0</td>\n",
       "      <td>0</td>\n",
       "      <td>1</td>\n",
       "      <td>0</td>\n",
       "      <td>0</td>\n",
       "      <td>0</td>\n",
       "      <td>1</td>\n",
       "      <td>0</td>\n",
       "      <td>0</td>\n",
       "      <td>0</td>\n",
       "      <td>0</td>\n",
       "      <td>0</td>\n",
       "      <td>0</td>\n",
       "      <td>0</td>\n",
       "      <td>0</td>\n",
       "      <td>0</td>\n",
       "      <td>0</td>\n",
       "      <td>0</td>\n",
       "      <td>0</td>\n",
       "      <td>0</td>\n",
       "      <td>0</td>\n",
       "      <td>1</td>\n",
       "      <td>0</td>\n",
       "      <td>0</td>\n",
       "      <td>0</td>\n",
       "      <td>1</td>\n",
       "      <td>0</td>\n",
       "      <td>1</td>\n",
       "      <td>0</td>\n",
       "      <td>0</td>\n",
       "      <td>0</td>\n",
       "      <td>0</td>\n",
       "      <td>0</td>\n",
       "      <td>0</td>\n",
       "      <td>1</td>\n",
       "      <td>0</td>\n",
       "      <td>0</td>\n",
       "      <td>0</td>\n",
       "      <td>0</td>\n",
       "      <td>0</td>\n",
       "      <td>0</td>\n",
       "      <td>0</td>\n",
       "      <td>0</td>\n",
       "      <td>0</td>\n",
       "      <td>0</td>\n",
       "      <td>0</td>\n",
       "      <td>0</td>\n",
       "      <td>0</td>\n",
       "      <td>0</td>\n",
       "      <td>0</td>\n",
       "      <td>0</td>\n",
       "      <td>0</td>\n",
       "      <td>0</td>\n",
       "      <td>0</td>\n",
       "      <td>0</td>\n",
       "      <td>0</td>\n",
       "      <td>0</td>\n",
       "      <td>0</td>\n",
       "      <td>0</td>\n",
       "      <td>0</td>\n",
       "      <td>0</td>\n",
       "      <td>0</td>\n",
       "      <td>0</td>\n",
       "      <td>0</td>\n",
       "      <td>0</td>\n",
       "      <td>0</td>\n",
       "      <td>0</td>\n",
       "      <td>0</td>\n",
       "    </tr>\n",
       "    <tr>\n",
       "      <th>23</th>\n",
       "      <td>La Petite Robe Noire Ma Robe Sous le Vent</td>\n",
       "      <td>1.0</td>\n",
       "      <td>Guerlain</td>\n",
       "      <td>Франция</td>\n",
       "      <td>0.5</td>\n",
       "      <td>0.6</td>\n",
       "      <td>0.416667</td>\n",
       "      <td>0.012</td>\n",
       "      <td>0.50</td>\n",
       "      <td>0</td>\n",
       "      <td>1</td>\n",
       "      <td>1</td>\n",
       "      <td>1</td>\n",
       "      <td>1</td>\n",
       "      <td>0.112155</td>\n",
       "      <td>0</td>\n",
       "      <td>0</td>\n",
       "      <td>0</td>\n",
       "      <td>1</td>\n",
       "      <td>0</td>\n",
       "      <td>0</td>\n",
       "      <td>0</td>\n",
       "      <td>0</td>\n",
       "      <td>0</td>\n",
       "      <td>1</td>\n",
       "      <td>0</td>\n",
       "      <td>0</td>\n",
       "      <td>0</td>\n",
       "      <td>0</td>\n",
       "      <td>0</td>\n",
       "      <td>0</td>\n",
       "      <td>1</td>\n",
       "      <td>0</td>\n",
       "      <td>0</td>\n",
       "      <td>0</td>\n",
       "      <td>0</td>\n",
       "      <td>0</td>\n",
       "      <td>0</td>\n",
       "      <td>0</td>\n",
       "      <td>0</td>\n",
       "      <td>0</td>\n",
       "      <td>0</td>\n",
       "      <td>0</td>\n",
       "      <td>0</td>\n",
       "      <td>1</td>\n",
       "      <td>0</td>\n",
       "      <td>0</td>\n",
       "      <td>0</td>\n",
       "      <td>0</td>\n",
       "      <td>0</td>\n",
       "      <td>0</td>\n",
       "      <td>0</td>\n",
       "      <td>0</td>\n",
       "      <td>0</td>\n",
       "      <td>0</td>\n",
       "      <td>0</td>\n",
       "      <td>0</td>\n",
       "      <td>0</td>\n",
       "      <td>0</td>\n",
       "      <td>0</td>\n",
       "      <td>0</td>\n",
       "      <td>0</td>\n",
       "      <td>0</td>\n",
       "      <td>0</td>\n",
       "      <td>0</td>\n",
       "      <td>0</td>\n",
       "      <td>0</td>\n",
       "      <td>0</td>\n",
       "      <td>0</td>\n",
       "      <td>0</td>\n",
       "      <td>0</td>\n",
       "      <td>0</td>\n",
       "      <td>0</td>\n",
       "      <td>0</td>\n",
       "      <td>0</td>\n",
       "      <td>0</td>\n",
       "      <td>0</td>\n",
       "      <td>1</td>\n",
       "      <td>0</td>\n",
       "      <td>0</td>\n",
       "      <td>0</td>\n",
       "      <td>0</td>\n",
       "      <td>0</td>\n",
       "      <td>0</td>\n",
       "      <td>0</td>\n",
       "      <td>0</td>\n",
       "      <td>0</td>\n",
       "      <td>0</td>\n",
       "      <td>0</td>\n",
       "      <td>0</td>\n",
       "      <td>0</td>\n",
       "      <td>1</td>\n",
       "      <td>0</td>\n",
       "      <td>0</td>\n",
       "      <td>0</td>\n",
       "      <td>0</td>\n",
       "      <td>0</td>\n",
       "      <td>0</td>\n",
       "      <td>0</td>\n",
       "      <td>0</td>\n",
       "      <td>0</td>\n",
       "      <td>0</td>\n",
       "      <td>1</td>\n",
       "      <td>0</td>\n",
       "      <td>0</td>\n",
       "      <td>0</td>\n",
       "      <td>1</td>\n",
       "      <td>1</td>\n",
       "      <td>0</td>\n",
       "      <td>0</td>\n",
       "      <td>0</td>\n",
       "      <td>0</td>\n",
       "      <td>0</td>\n",
       "      <td>0</td>\n",
       "      <td>0</td>\n",
       "      <td>0</td>\n",
       "      <td>0</td>\n",
       "      <td>0</td>\n",
       "      <td>0</td>\n",
       "      <td>0</td>\n",
       "      <td>0</td>\n",
       "      <td>0</td>\n",
       "      <td>0</td>\n",
       "      <td>0</td>\n",
       "      <td>0</td>\n",
       "      <td>1</td>\n",
       "      <td>1</td>\n",
       "      <td>0</td>\n",
       "      <td>0</td>\n",
       "      <td>0</td>\n",
       "      <td>0</td>\n",
       "      <td>0</td>\n",
       "      <td>0</td>\n",
       "      <td>0</td>\n",
       "      <td>0</td>\n",
       "      <td>0</td>\n",
       "      <td>0</td>\n",
       "      <td>0</td>\n",
       "      <td>0</td>\n",
       "      <td>0</td>\n",
       "      <td>1</td>\n",
       "      <td>0</td>\n",
       "      <td>0</td>\n",
       "      <td>0</td>\n",
       "      <td>1</td>\n",
       "      <td>0</td>\n",
       "      <td>0</td>\n",
       "      <td>0</td>\n",
       "      <td>0</td>\n",
       "      <td>0</td>\n",
       "      <td>0</td>\n",
       "      <td>0</td>\n",
       "      <td>0</td>\n",
       "      <td>0</td>\n",
       "      <td>0</td>\n",
       "      <td>0</td>\n",
       "      <td>0</td>\n",
       "      <td>0</td>\n",
       "      <td>0</td>\n",
       "      <td>1</td>\n",
       "      <td>0</td>\n",
       "      <td>0</td>\n",
       "      <td>0</td>\n",
       "      <td>1</td>\n",
       "      <td>0</td>\n",
       "      <td>1</td>\n",
       "      <td>0</td>\n",
       "      <td>0</td>\n",
       "      <td>0</td>\n",
       "      <td>0</td>\n",
       "      <td>0</td>\n",
       "      <td>0</td>\n",
       "      <td>1</td>\n",
       "      <td>0</td>\n",
       "      <td>0</td>\n",
       "      <td>0</td>\n",
       "      <td>0</td>\n",
       "      <td>0</td>\n",
       "      <td>0</td>\n",
       "      <td>0</td>\n",
       "      <td>0</td>\n",
       "      <td>0</td>\n",
       "      <td>0</td>\n",
       "      <td>0</td>\n",
       "      <td>0</td>\n",
       "      <td>0</td>\n",
       "      <td>0</td>\n",
       "      <td>0</td>\n",
       "      <td>0</td>\n",
       "      <td>0</td>\n",
       "      <td>0</td>\n",
       "      <td>0</td>\n",
       "      <td>0</td>\n",
       "      <td>0</td>\n",
       "      <td>0</td>\n",
       "      <td>0</td>\n",
       "      <td>0</td>\n",
       "      <td>0</td>\n",
       "      <td>0</td>\n",
       "      <td>0</td>\n",
       "      <td>0</td>\n",
       "      <td>0</td>\n",
       "      <td>0</td>\n",
       "      <td>0</td>\n",
       "      <td>0</td>\n",
       "      <td>0</td>\n",
       "    </tr>\n",
       "  </tbody>\n",
       "</table>\n",
       "</div>"
      ],
      "text/plain": [
       "                                     название  пол                бренд  \\\n",
       "0                                    Shalimar  1.0             Guerlain   \n",
       "1                             3 L'Imperatrice  1.0        Dolce&Gabbana   \n",
       "2                                 1001 Nights  1.0                Ajmal   \n",
       "3                                      Sabina  1.0   Arabesque Perfumes   \n",
       "4                               Resolute Gold  0.0               Khalis   \n",
       "5                                Oath for Him  0.0                Ajmal   \n",
       "6                                       Twist  1.0                Emper   \n",
       "7                                 CK Everyone  0.5         Calvin Klein   \n",
       "8                                     Bad Boy  0.0     Carolina Herrera   \n",
       "9                Eau de Lacoste L.12.12 Blanc  0.0              Lacoste   \n",
       "10                              Ange ou Demon  1.0             Givenchy   \n",
       "11                      Samsara Eau de Parfum  1.0             Guerlain   \n",
       "12                             New Your Amber  0.5            Bond No.9   \n",
       "13                                     Renata  1.0             Faberlic   \n",
       "14                      Lanvin Eclat D Arpege  1.0               Lanvin   \n",
       "15                           MOSCHINO Toy Boy  0.0              Moscino   \n",
       "16              Cartier Declaration D Un Soir  0.0              Cartier   \n",
       "17                                 Channel №5  1.0              Channel   \n",
       "18                        Prada Day For Night  0.5                Prada   \n",
       "19           Escentric Molecules Escentric 02  0.5  Escentric Molecules   \n",
       "20                               The Only One  1.0        Dolce&Gabbana   \n",
       "21           Flora by Gucci Gorgeous Gardenia  1.0                Gucci   \n",
       "22      La Petite Robe Noire Ma Robe Cocktail  1.0             Guerlain   \n",
       "23  La Petite Robe Noire Ma Robe Sous le Vent  1.0             Guerlain   \n",
       "\n",
       "      страна  сегмент  концентрация  стойкость минимум (ч)  \\\n",
       "0    Франция      0.5           0.8               0.166667   \n",
       "1     Италия      0.5           0.4               1.000000   \n",
       "2        ОАЭ      0.5           1.0               0.416667   \n",
       "3        ОАЭ      1.0           0.8               0.416667   \n",
       "4        ОАЭ      0.0           0.6                    NaN   \n",
       "5        ОАЭ      0.5           0.6                    NaN   \n",
       "6        ОАЭ      0.0           0.6               0.416667   \n",
       "7        США      0.5           0.4               0.166667   \n",
       "8        США      0.5           0.4               0.166667   \n",
       "9    Франция      0.5           0.4               0.166667   \n",
       "10   Франция      0.5           0.6               1.000000   \n",
       "11   Франция      0.5           0.6               1.000000   \n",
       "12       США      1.0           0.6               0.416667   \n",
       "13    Россия      0.0           0.6               0.416667   \n",
       "14   Франция      0.5           0.6               1.000000   \n",
       "15    Италия      0.5           0.6               0.166667   \n",
       "16   Франция      0.5           0.4               0.166667   \n",
       "17   Франция      0.5           0.8               1.000000   \n",
       "18    Италия      0.5           0.6               0.666667   \n",
       "19  Германия      1.0           0.8               0.416667   \n",
       "20    Италия      0.5           0.6               0.166667   \n",
       "21    Италия      0.5           0.4               1.000000   \n",
       "22   Франция      0.5           0.4               0.416667   \n",
       "23   Франция      0.5           0.6               0.416667   \n",
       "\n",
       "    стойкость максимум (ч)  шлейф  возраст (до 18)  возраст (до 26)  \\\n",
       "0                    0.005   0.50                1                1   \n",
       "1                    1.000   1.00                1                1   \n",
       "2                    0.012   0.50                1                1   \n",
       "3                    0.012   0.50                0                0   \n",
       "4                      NaN   0.50                0                0   \n",
       "5                      NaN   0.50                0                0   \n",
       "6                    0.012   0.75                1                1   \n",
       "7                    0.005   0.50                0                1   \n",
       "8                    0.005   0.50                0                1   \n",
       "9                    0.005   0.50                1                0   \n",
       "10                   1.000   1.00                1                1   \n",
       "11                   1.000   0.50                0                0   \n",
       "12                   0.012   0.75                0                0   \n",
       "13                   0.012   0.50                0                0   \n",
       "14                   1.000   0.50                0                1   \n",
       "15                   0.005   0.50                1                1   \n",
       "16                   0.005   0.50                1                1   \n",
       "17                   1.000   0.50                0                0   \n",
       "18                   1.000   0.50                0                0   \n",
       "19                   0.012   0.50                1                1   \n",
       "20                   0.005   0.50                0                0   \n",
       "21                   1.000   0.50                1                1   \n",
       "22                   0.012   0.75                1                1   \n",
       "23                   0.012   0.50                0                1   \n",
       "\n",
       "    возраст (до 35)  возраст (до 45)  возраст (после 45)  цена за 1 мл  лето  \\\n",
       "0                 1                1                   1      0.144143     0   \n",
       "1                 1                1                   1      0.079759     1   \n",
       "2                 1                1                   1      0.008665     0   \n",
       "3                 1                1                   1      0.329302     1   \n",
       "4                 0                1                   1      0.000000     0   \n",
       "5                 0                0                   0      0.099564     0   \n",
       "6                 1                0                   0      0.000396     0   \n",
       "7                 1                0                   0      0.043546     1   \n",
       "8                 1                0                   0      0.051474     0   \n",
       "9                 0                0                   0      0.086549     1   \n",
       "10                1                1                   1      0.132186     0   \n",
       "11                0                1                   0      0.090786     0   \n",
       "12                0                0                   1      0.086074     0   \n",
       "13                1                1                   1      0.013380     0   \n",
       "14                1                1                   0      0.024772     1   \n",
       "15                1                1                   1      0.042879     0   \n",
       "16                1                0                   0      0.181998     1   \n",
       "17                0                1                   0      1.000000     0   \n",
       "18                0                0                   0      0.154970     0   \n",
       "19                1                1                   1      0.078262     1   \n",
       "20                1                0                   0      0.139937     0   \n",
       "21                1                1                   1      0.279396     1   \n",
       "22                1                1                   1      0.064765     0   \n",
       "23                1                1                   1      0.112155     0   \n",
       "\n",
       "    весна  осень  зима  альдегиды  амбра  амброксан  ананас  апельсин  \\\n",
       "0       0      1     1          0      1          0       0         0   \n",
       "1       1      0     0          0      0          0       0         0   \n",
       "2       0      0     0          0      0          0       0         0   \n",
       "3       1      1     1          0      0          0       1         0   \n",
       "4       0      0     0          0      0          0       0         0   \n",
       "5       0      0     0          0      0          0       0         0   \n",
       "6       1      0     1          0      0          0       0         0   \n",
       "7       1      0     0          0      0          0       0         1   \n",
       "8       0      1     1          0      0          0       0         0   \n",
       "9       1      0     0          0      0          0       0         0   \n",
       "10      0      0     1          0      1          0       0         0   \n",
       "11      1      0     1          0      1          0       0         0   \n",
       "12      0      1     1          0      1          0       0         0   \n",
       "13      0      1     0          0      1          0       0         0   \n",
       "14      1      0     0          0      0          0       0         0   \n",
       "15      1      1     0          0      0          0       0         0   \n",
       "16      0      0     0          0      0          0       0         0   \n",
       "17      0      1     1          1      0          0       0         0   \n",
       "18      0      1     1          0      1          0       0         0   \n",
       "19      0      0     0          0      1          1       0         0   \n",
       "20      0      1     1          0      1          0       0         0   \n",
       "21      1      0     0          0      0          0       0         0   \n",
       "22      0      0     0          0      0          0       0         0   \n",
       "23      0      0     1          0      0          0       0         0   \n",
       "\n",
       "    апельсиновый цвет  арбуз  белые цветы  белый перец  бензоин  бергамот  \\\n",
       "0                   0      0            0            0        0         0   \n",
       "1                   0      1            0            0        0         0   \n",
       "2                   0      0            0            0        0         0   \n",
       "3                   0      0            0            0        0         0   \n",
       "4                   0      0            1            0        0         0   \n",
       "5                   0      0            0            0        0         1   \n",
       "6                   0      0            0            0        0         0   \n",
       "7                   0      0            0            0        0         1   \n",
       "8                   0      0            0            1        0         0   \n",
       "9                   0      0            0            0        0         1   \n",
       "10                  0      0            0            0        0         0   \n",
       "11                  0      0            0            0        0         0   \n",
       "12                  0      0            0            0        1         0   \n",
       "13                  0      0            0            0        0         0   \n",
       "14                  0      0            0            0        0         0   \n",
       "15                  0      0            0            0        0         0   \n",
       "16                  0      0            0            0        0         0   \n",
       "17                  0      0            0            0        0         0   \n",
       "18                  0      0            0            0        0         0   \n",
       "19                  0      0            0            0        0         0   \n",
       "20                  0      0            0            0        0         0   \n",
       "21                  0      0            0            0        0         0   \n",
       "22                  0      0            0            0        0         0   \n",
       "23                  1      0            0            0        0         0   \n",
       "\n",
       "    береза  бобы  бумага  ваниль  ветивер  вишня  гардения  гвоздика  герань  \\\n",
       "0        0     1       0       1        1      0         0         1       0   \n",
       "1        0     0       0       0        0      0         0         0       0   \n",
       "2        0     0       0       0        0      0         0         0       0   \n",
       "3        0     0       0       0        0      0         0         0       0   \n",
       "4        0     0       0       0        0      0         0         0       0   \n",
       "5        0     0       0       0        1      0         0         0       0   \n",
       "6        0     0       0       0        0      0         0         0       0   \n",
       "7        0     0       0       0        0      0         0         0       0   \n",
       "8        0     1       0       0        0      0         0         1       0   \n",
       "9        0     0       0       0        1      0         0         0       1   \n",
       "10       0     1       0       1        0      0         0         0       0   \n",
       "11       0     1       0       1        0      0         0         0       0   \n",
       "12       0     0       0       1        0      0         0         0       0   \n",
       "13       0     0       0       1        0      0         1         0       0   \n",
       "14       0     0       0       0        0      0         0         0       0   \n",
       "15       0     0       0       0        1      0         0         1       0   \n",
       "16       1     0       0       0        1      0         0         1       0   \n",
       "17       0     0       0       0        1      0         0         0       0   \n",
       "18       0     0       0       1        0      0         0         0       0   \n",
       "19       0     0       1       1        0      0         0         0       0   \n",
       "20       0     0       0       1        0      0         0         0       0   \n",
       "21       0     0       0       0        0      0         1         0       0   \n",
       "22       0     0       0       0        0      1         0         0       0   \n",
       "23       0     1       0       0        0      0         0         0       0   \n",
       "\n",
       "    грейпфрут  груша  древесный аккорд  дубовый мох  дыня  жасмин  \\\n",
       "0           0      0                 0            0     0       1   \n",
       "1           0      0                 0            0     0       1   \n",
       "2           0      0                 1            0     0       0   \n",
       "3           0      0                 0            0     0       0   \n",
       "4           0      0                 1            0     0       1   \n",
       "5           0      0                 0            0     1       1   \n",
       "6           0      0                 0            0     0       1   \n",
       "7           1      0                 0            0     0       0   \n",
       "8           0      0                 0            0     0       0   \n",
       "9           0      0                 0            0     0       0   \n",
       "10          0      0                 0            1     0       0   \n",
       "11          0      0                 0            0     0       1   \n",
       "12          0      0                 0            0     0       1   \n",
       "13          0      0                 0            0     0       0   \n",
       "14          0      0                 0            0     0       0   \n",
       "15          0      1                 0            0     0       0   \n",
       "16          0      0                 0            1     0       0   \n",
       "17          0      0                 0            1     0       1   \n",
       "18          0      0                 0            0     0       0   \n",
       "19          0      0                 0            0     0       1   \n",
       "20          0      1                 0            0     0       0   \n",
       "21          0      1                 0            0     0       0   \n",
       "22          0      0                 0            0     0       1   \n",
       "23          0      0                 0            0     0       1   \n",
       "\n",
       "    женственный  жженый сахар  замша  зеленое яблоко  зеленый аккорд  злаки  \\\n",
       "0             0             0      0               0               0      0   \n",
       "1             0             0      0               0               0      0   \n",
       "2             0             0      0               0               0      0   \n",
       "3             0             0      0               0               0      0   \n",
       "4             0             0      0               0               0      0   \n",
       "5             0             0      0               0               0      0   \n",
       "6             0             0      0               0               0      0   \n",
       "7             0             0      0               0               0      0   \n",
       "8             0             0      0               0               0      0   \n",
       "9             0             0      1               0               0      0   \n",
       "10            0             1      0               0               0      0   \n",
       "11            0             0      0               0               1      0   \n",
       "12            0             0      0               0               0      0   \n",
       "13            0             0      0               0               0      0   \n",
       "14            0             0      0               0               0      1   \n",
       "15            0             0      0               0               0      0   \n",
       "16            0             0      0               0               0      0   \n",
       "17            0             0      0               0               0      0   \n",
       "18            0             0      0               0               0      0   \n",
       "19            0             0      0               0               0      0   \n",
       "20            0             0      0               0               0      0   \n",
       "21            0             0      0               0               0      0   \n",
       "22            1             0      0               0               1      0   \n",
       "23            0             0      0               0               0      0   \n",
       "\n",
       "    иланг-иланг  имбирь  ирис  какао  карамель  кардамон  кашмеран  кедр  \\\n",
       "0             0       1     1      0         1         0         0     0   \n",
       "1             0       0     0      0         0         0         0     0   \n",
       "2             0       0     0      0         0         0         0     1   \n",
       "3             0       0     0      0         0         0         0     0   \n",
       "4             0       0     0      0         0         0         0     0   \n",
       "5             0       0     1      0         0         0         0     1   \n",
       "6             0       0     0      0         0         0         0     0   \n",
       "7             0       0     0      0         0         0         0     0   \n",
       "8             0       1     0      1         0         0         0     1   \n",
       "9             1       0     0      0         0         1         0     1   \n",
       "10            1       0     0      0         1         0         0     0   \n",
       "11            1       0     1      0         1         0         0     1   \n",
       "12            0       0     0      0         1         0         0     0   \n",
       "13            0       0     0      0         1         0         1     0   \n",
       "14            0       0     0      0         0         0         0     0   \n",
       "15            0       1     0      0         0         0         1     1   \n",
       "16            0       1     1      0         0         1         0     1   \n",
       "17            1       0     1      0         0         0         0     0   \n",
       "18            0       0     0      0         1         0         0     0   \n",
       "19            0       0     1      0         1         0         0     0   \n",
       "20            0       0     1      0         1         0         0     0   \n",
       "21            0       0     0      0         0         0         0     0   \n",
       "22            0       0     0      0         0         0         0     0   \n",
       "23            0       0     0      0         0         0         0     0   \n",
       "\n",
       "    киви  клубника  кожа  кожаный аккорд  корень фиалки  кориандр  корица  \\\n",
       "0      0         0     0               1              0         0       1   \n",
       "1      1         0     0               0              0         0       0   \n",
       "2      0         0     0               0              0         0       0   \n",
       "3      1         0     0               0              0         0       0   \n",
       "4      0         1     0               0              0         0       0   \n",
       "5      0         0     0               0              0         0       0   \n",
       "6      0         0     0               0              0         0       0   \n",
       "7      0         0     0               0              0         0       0   \n",
       "8      0         0     0               0              0         0       1   \n",
       "9      0         0     1               1              0         0       0   \n",
       "10     0         0     0               0              0         0       0   \n",
       "11     0         0     0               0              1         0       0   \n",
       "12     0         0     0               0              0         0       0   \n",
       "13     0         0     0               0              0         0       0   \n",
       "14     0         0     0               0              0         0       0   \n",
       "15     0         0     0               0              0         0       1   \n",
       "16     0         0     0               1              0         1       1   \n",
       "17     0         0     0               0              0         0       0   \n",
       "18     0         0     0               1              0         0       0   \n",
       "19     0         0     0               0              0         0       0   \n",
       "20     0         0     0               0              0         0       0   \n",
       "21     0         0     0               0              0         0       0   \n",
       "22     0         0     0               0              0         0       0   \n",
       "23     0         0     0               0              0         0       0   \n",
       "\n",
       "    коричневый сахар  кофе  красное яблоко  лаванда  ладан  ландыш  лен  \\\n",
       "0                  0     1               0        0      1       0    0   \n",
       "1                  0     0               0        0      0       0    0   \n",
       "2                  0     0               0        0      0       0    0   \n",
       "3                  0     0               0        0      0       0    0   \n",
       "4                  0     0               0        0      0       0    0   \n",
       "5                  0     0               0        0      0       0    0   \n",
       "6                  0     0               0        0      0       0    0   \n",
       "7                  0     0               0        0      0       0    0   \n",
       "8                  0     0               0        0      0       0    0   \n",
       "9                  0     0               0        1      0       0    0   \n",
       "10                 0     1               0        0      1       0    0   \n",
       "11                 0     1               0        0      1       0    0   \n",
       "12                 0     1               0        0      1       0    0   \n",
       "13                 0     1               1        0      1       0    0   \n",
       "14                 0     0               0        0      0       0    0   \n",
       "15                 0     0               0        0      0       0    1   \n",
       "16                 0     0               0        0      0       0    0   \n",
       "17                 0     0               0        0      0       1    0   \n",
       "18                 0     1               0        0      1       0    0   \n",
       "19                 0     1               0        0      1       0    0   \n",
       "20                 0     1               0        0      1       0    0   \n",
       "21                 1     0               0        0      0       0    0   \n",
       "22                 0     0               0        0      0       0    0   \n",
       "23                 0     0               0        0      0       0    0   \n",
       "\n",
       "    лилия  лимон  личи  магнолия  малина  мандарин  миндаль  можжевельник  \\\n",
       "0       0      0     0         0       0         1        0             0   \n",
       "1       0      0     0         0       0         0        0             0   \n",
       "2       0      0     0         0       0         0        0             0   \n",
       "3       0      0     0         0       0         0        0             0   \n",
       "4       0      0     0         0       0         0        0             0   \n",
       "5       0      0     0         0       0         0        0             0   \n",
       "6       0      0     0         0       0         0        0             0   \n",
       "7       0      1     0         0       0         0        0             0   \n",
       "8       0      0     0         0       0         0        0             0   \n",
       "9       0      0     0         0       0         0        0             0   \n",
       "10      1      0     0         0       0         1        0             0   \n",
       "11      0      0     0         0       0         0        0             0   \n",
       "12      0      0     0         0       0         0        0             0   \n",
       "13      0      0     1         0       0         1        0             0   \n",
       "14      0      0     0         0       0         0        0             0   \n",
       "15      0      0     0         1       0         0        0             0   \n",
       "16      0      0     0         0       0         1        0             1   \n",
       "17      0      0     0         0       0         0        0             0   \n",
       "18      0      0     0         0       0         0        0             0   \n",
       "19      0      0     0         0       0         0        0             0   \n",
       "20      0      0     0         0       0         0        0             0   \n",
       "21      0      0     0         0       0         0        0             0   \n",
       "22      0      0     0         0       0         0        1             0   \n",
       "23      0      0     0         0       1         0        0             0   \n",
       "\n",
       "    мох  мускатный орех  мускус  нарцисс  нежный  нероли  опопанакс  орхидея  \\\n",
       "0     0               0       1        0       0       0          1        0   \n",
       "1     0               0       0        0       0       0          0        0   \n",
       "2     1               0       0        0       0       0          0        0   \n",
       "3     0               0       0        0       0       0          0        0   \n",
       "4     0               1       0        0       0       0          0        0   \n",
       "5     1               0       0        0       0       0          0        0   \n",
       "6     0               0       0        0       0       0          0        0   \n",
       "7     0               0       0        0       0       0          0        0   \n",
       "8     1               0       0        0       0       0          0        0   \n",
       "9     1               0       0        0       0       0          0        0   \n",
       "10    0               0       1        0       0       0          0        1   \n",
       "11    1               0       1        1       0       0          0        0   \n",
       "12    0               1       1        0       0       0          0        0   \n",
       "13    0               0       1        0       0       0          0        1   \n",
       "14    0               0       0        0       0       0          0        0   \n",
       "15    1               1       0        0       0       0          0        0   \n",
       "16    1               0       0        0       0       1          0        0   \n",
       "17    0               0       0        0       0       1          0        0   \n",
       "18    0               0       1        0       0       0          0        0   \n",
       "19    0               0       1        0       0       0          0        0   \n",
       "20    0               0       1        0       0       0          0        0   \n",
       "21    0               0       0        0       0       0          0        0   \n",
       "22    0               0       0        0       1       0          0        0   \n",
       "23    0               0       0        0       0       0          0        0   \n",
       "\n",
       "    османтус  палисандр  пачули  пион  повседневный  полынь  праздничный  \\\n",
       "0          0          0       1     0             0       0            0   \n",
       "1          0          0       0     0             1       0            0   \n",
       "2          0          0       0     0             0       0            0   \n",
       "3          0          0       0     0             0       0            0   \n",
       "4          0          0       0     0             0       0            0   \n",
       "5          0          0       1     0             0       0            0   \n",
       "6          0          0       0     0             0       0            0   \n",
       "7          0          0       0     0             0       0            0   \n",
       "8          0          0       0     0             0       0            0   \n",
       "9          0          0       0     0             1       0            0   \n",
       "10         0          1       0     0             0       0            0   \n",
       "11         0          0       0     0             0       0            0   \n",
       "12         1          0       0     0             0       0            0   \n",
       "13         0          0       1     0             0       0            0   \n",
       "14         1          0       0     1             1       0            0   \n",
       "15         0          0       0     0             1       0            0   \n",
       "16         0          0       0     0             1       1            0   \n",
       "17         0          0       1     0             0       0            1   \n",
       "18         0          0       0     0             0       0            0   \n",
       "19         0          0       0     0             1       0            0   \n",
       "20         0          0       1     0             0       0            0   \n",
       "21         0          0       1     0             1       0            0   \n",
       "22         0          0       0     0             0       0            0   \n",
       "23         0          0       1     0             0       0            0   \n",
       "\n",
       "    ревень  роза  розмарин  розовый перец  сандал  сахар  свежий  сексуальный  \\\n",
       "0        0     1         0              0       0      0       0            0   \n",
       "1        1     0         0              1       0      0       1            0   \n",
       "2        0     0         0              0       1      0       1            0   \n",
       "3        0     0         0              0       0      1       1            0   \n",
       "4        0     0         0              0       0      0       1            0   \n",
       "5        0     0         0              0       1      0       1            0   \n",
       "6        0     0         0              0       0      0       1            0   \n",
       "7        0     0         0              0       0      0       1            0   \n",
       "8        0     0         0              0       1      0       0            0   \n",
       "9        0     0         1              0       1      0       0            0   \n",
       "10       0     1         0              0       0      0       1            1   \n",
       "11       0     1         0              0       1      0       0            0   \n",
       "12       0     1         0              0       0      0       0            0   \n",
       "13       0     1         0              0       0      0       1            0   \n",
       "14       0     0         0              0       0      0       1            0   \n",
       "15       0     0         0              1       1      0       0            0   \n",
       "16       0     0         0              0       1      0       0            0   \n",
       "17       0     0         0              0       0      0       1            0   \n",
       "18       0     1         0              0       0      0       0            0   \n",
       "19       0     1         0              0       0      0       1            0   \n",
       "20       0     1         0              0       0      0       1            1   \n",
       "21       0     0         0              1       0      0       1            0   \n",
       "22       0     0         0              0       0      0       1            0   \n",
       "23       0     0         0              0       0      0       1            0   \n",
       "\n",
       "    силколид  сирень  сладкая вата  сладкий  слива  специи  спортивный  \\\n",
       "0          0       0             0        0      0       0           0   \n",
       "1          0       0             0        1      0       0           0   \n",
       "2          0       0             0        1      0       1           0   \n",
       "3          0       0             0        1      0       0           0   \n",
       "4          0       0             0        1      0       0           0   \n",
       "5          0       0             0        1      1       0           0   \n",
       "6          0       0             0        1      0       0           0   \n",
       "7          0       0             0        0      0       0           1   \n",
       "8          0       0             0        1      0       0           0   \n",
       "9          0       0             0        1      0       0           0   \n",
       "10         0       0             0        1      0       1           0   \n",
       "11         0       0             0        1      0       0           0   \n",
       "12         0       0             0        0      0       0           0   \n",
       "13         0       0             0        1      0       0           0   \n",
       "14         0       1             0        1      0       0           0   \n",
       "15         1       0             0        1      0       0           0   \n",
       "16         0       0             0        1      0       0           0   \n",
       "17         0       0             0        1      0       0           0   \n",
       "18         0       0             0        0      0       0           0   \n",
       "19         0       0             0        1      0       0           0   \n",
       "20         0       0             0        1      0       0           0   \n",
       "21         0       0             0        1      0       0           0   \n",
       "22         0       0             0        1      0       0           0   \n",
       "23         0       0             1        1      0       0           0   \n",
       "\n",
       "    стойкий  тиаре  тимьян  тмин  тропические фрукты  тубероза  уд  фиалка  \\\n",
       "0         0      0       0     0                   0         0   0       0   \n",
       "1         0      0       0     0                   1         0   0       0   \n",
       "2         0      0       0     0                   0         0   0       0   \n",
       "3         0      1       0     0                   0         0   0       0   \n",
       "4         0      0       0     0                   0         0   0       0   \n",
       "5         0      0       0     0                   0         0   0       0   \n",
       "6         0      0       0     0                   0         0   0       1   \n",
       "7         0      0       0     0                   0         0   0       0   \n",
       "8         0      0       0     0                   0         0   0       0   \n",
       "9         0      0       0     0                   0         1   0       0   \n",
       "10        0      0       1     0                   0         0   0       0   \n",
       "11        0      0       0     0                   0         0   0       1   \n",
       "12        0      0       0     0                   0         0   1       0   \n",
       "13        0      0       0     0                   0         0   0       0   \n",
       "14        0      0       0     0                   0         0   0       0   \n",
       "15        0      0       0     0                   0         0   0       0   \n",
       "16        0      0       0     1                   0         0   0       0   \n",
       "17        0      0       0     0                   0         0   0       0   \n",
       "18        0      0       0     0                   0         0   0       0   \n",
       "19        0      0       0     0                   0         0   0       0   \n",
       "20        0      0       0     0                   0         0   0       1   \n",
       "21        0      0       0     0                   0         0   0       0   \n",
       "22        1      0       0     0                   0         0   0       0   \n",
       "23        0      0       0     0                   0         0   0       0   \n",
       "\n",
       "    франжипани  цвет персика  цибетин  цикламен  цитрусы  чай  \\\n",
       "0            0             0        1         0        1    0   \n",
       "1            0             0        0         1        0    0   \n",
       "2            0             0        0         0        0    0   \n",
       "3            0             0        0         0        0    0   \n",
       "4            0             0        0         0        0    0   \n",
       "5            0             0        0         0        0    0   \n",
       "6            0             0        0         0        0    0   \n",
       "7            0             0        0         0        0    1   \n",
       "8            0             0        0         0        0    0   \n",
       "9            0             0        0         0        0    0   \n",
       "10           0             0        0         0        0    0   \n",
       "11           0             1        0         0        0    0   \n",
       "12           0             0        0         0        0    0   \n",
       "13           0             0        0         0        0    0   \n",
       "14           0             1        0         0        0    1   \n",
       "15           0             0        0         0        0    0   \n",
       "16           0             0        0         0        0    1   \n",
       "17           0             0        1         0        0    0   \n",
       "18           0             0        0         0        0    0   \n",
       "19           0             0        0         0        0    0   \n",
       "20           0             0        0         0        0    0   \n",
       "21           1             0        0         0        0    0   \n",
       "22           0             0        0         0        0    0   \n",
       "23           0             0        0         0        0    0   \n",
       "\n",
       "    черная смородина  черника  черный перец  чистый  шалфей  шафран  элеми  \\\n",
       "0                  0        0             0       0       0       0      0   \n",
       "1                  0        0             0       0       0       0      0   \n",
       "2                  0        0             0       0       0       0      0   \n",
       "3                  0        0             0       0       0       0      0   \n",
       "4                  0        0             0       0       0       0      0   \n",
       "5                  1        0             0       0       0       0      0   \n",
       "6                  1        0             0       0       0       0      0   \n",
       "7                  0        0             0       0       0       0      0   \n",
       "8                  0        0             1       0       1       0      0   \n",
       "9                  0        0             0       0       0       0      0   \n",
       "10                 0        0             0       0       0       1      0   \n",
       "11                 0        0             0       0       0       0      0   \n",
       "12                 0        0             1       0       0       1      0   \n",
       "13                 1        0             0       0       0       0      0   \n",
       "14                 0        0             0       1       0       0      0   \n",
       "15                 0        0             0       0       0       0      1   \n",
       "16                 0        0             1       0       0       0      0   \n",
       "17                 0        0             0       1       0       0      0   \n",
       "18                 0        0             0       0       0       0      0   \n",
       "19                 0        0             0       1       0       0      0   \n",
       "20                 0        0             0       0       0       0      0   \n",
       "21                 0        0             0       0       0       0      0   \n",
       "22                 0        0             0       0       0       0      0   \n",
       "23                 1        1             0       0       0       0      0   \n",
       "\n",
       "    яблоко  янтарь  сладкие семейства  цитрусовые семейства  \\\n",
       "0        0       0                  0                     0   \n",
       "1        0       0                  0                     0   \n",
       "2        0       0                  0                     0   \n",
       "3        0       0                  1                     0   \n",
       "4        0       0                  1                     0   \n",
       "5        1       0                  0                     0   \n",
       "6        0       0                  0                     0   \n",
       "7        0       0                  0                     1   \n",
       "8        0       1                  0                     0   \n",
       "9        0       0                  0                     0   \n",
       "10       0       0                  0                     0   \n",
       "11       0       0                  0                     0   \n",
       "12       0       0                  0                     0   \n",
       "13       0       0                  0                     0   \n",
       "14       0       0                  0                     0   \n",
       "15       0       0                  0                     0   \n",
       "16       0       0                  0                     0   \n",
       "17       0       0                  0                     0   \n",
       "18       0       0                  0                     0   \n",
       "19       0       0                  0                     0   \n",
       "20       0       0                  0                     0   \n",
       "21       0       0                  0                     0   \n",
       "22       1       0                  0                     0   \n",
       "23       0       0                  0                     0   \n",
       "\n",
       "    амбровые семейства  пряные семейства  водные семейства  \\\n",
       "0                    0                 1                 0   \n",
       "1                    0                 0                 1   \n",
       "2                    0                 0                 0   \n",
       "3                    0                 0                 0   \n",
       "4                    0                 0                 0   \n",
       "5                    0                 0                 0   \n",
       "6                    0                 0                 0   \n",
       "7                    0                 0                 0   \n",
       "8                    0                 1                 0   \n",
       "9                    0                 0                 0   \n",
       "10                   0                 0                 0   \n",
       "11                   0                 0                 0   \n",
       "12                   1                 0                 0   \n",
       "13                   0                 0                 0   \n",
       "14                   0                 0                 0   \n",
       "15                   0                 1                 0   \n",
       "16                   0                 1                 0   \n",
       "17                   0                 0                 0   \n",
       "18                   1                 0                 0   \n",
       "19                   0                 0                 0   \n",
       "20                   0                 0                 0   \n",
       "21                   0                 0                 0   \n",
       "22                   0                 0                 0   \n",
       "23                   0                 0                 0   \n",
       "\n",
       "    восточные семейства  цветочные семейства  мускусные семейства  \\\n",
       "0                     1                    0                    0   \n",
       "1                     0                    1                    0   \n",
       "2                     0                    1                    1   \n",
       "3                     0                    1                    0   \n",
       "4                     0                    1                    0   \n",
       "5                     0                    1                    0   \n",
       "6                     0                    1                    0   \n",
       "7                     0                    0                    0   \n",
       "8                     0                    0                    0   \n",
       "9                     0                    0                    0   \n",
       "10                    1                    1                    0   \n",
       "11                    1                    0                    0   \n",
       "12                    1                    0                    0   \n",
       "13                    1                    0                    0   \n",
       "14                    0                    1                    0   \n",
       "15                    0                    0                    0   \n",
       "16                    0                    0                    0   \n",
       "17                    0                    1                    0   \n",
       "18                    1                    0                    0   \n",
       "19                    1                    1                    0   \n",
       "20                    1                    1                    0   \n",
       "21                    0                    1                    0   \n",
       "22                    0                    1                    0   \n",
       "23                    0                    1                    0   \n",
       "\n",
       "    фужерные семейства  шипровые семейства  фруктовые семейства  \\\n",
       "0                    0                   0                    0   \n",
       "1                    0                   0                    0   \n",
       "2                    0                   0                    0   \n",
       "3                    0                   0                    1   \n",
       "4                    0                   0                    0   \n",
       "5                    0                   1                    0   \n",
       "6                    0                   0                    0   \n",
       "7                    0                   0                    0   \n",
       "8                    0                   0                    0   \n",
       "9                    1                   0                    0   \n",
       "10                   0                   0                    0   \n",
       "11                   0                   0                    0   \n",
       "12                   0                   0                    0   \n",
       "13                   0                   0                    1   \n",
       "14                   0                   0                    1   \n",
       "15                   0                   0                    0   \n",
       "16                   0                   0                    0   \n",
       "17                   0                   0                    0   \n",
       "18                   0                   0                    0   \n",
       "19                   0                   0                    0   \n",
       "20                   0                   0                    0   \n",
       "21                   0                   0                    1   \n",
       "22                   0                   0                    1   \n",
       "23                   0                   0                    1   \n",
       "\n",
       "    древесные семейства  ароматические семейства  ванильные семейства  \\\n",
       "0                     0                        0                    0   \n",
       "1                     0                        0                    0   \n",
       "2                     1                        0                    0   \n",
       "3                     0                        0                    0   \n",
       "4                     0                        0                    0   \n",
       "5                     1                        0                    0   \n",
       "6                     0                        0                    0   \n",
       "7                     0                        1                    0   \n",
       "8                     1                        0                    0   \n",
       "9                     1                        0                    0   \n",
       "10                    0                        0                    0   \n",
       "11                    1                        0                    0   \n",
       "12                    0                        0                    1   \n",
       "13                    0                        0                    1   \n",
       "14                    0                        0                    0   \n",
       "15                    1                        0                    0   \n",
       "16                    1                        0                    0   \n",
       "17                    0                        0                    0   \n",
       "18                    0                        0                    1   \n",
       "19                    0                        0                    0   \n",
       "20                    0                        0                    0   \n",
       "21                    0                        0                    0   \n",
       "22                    0                        0                    0   \n",
       "23                    0                        0                    0   \n",
       "\n",
       "    активный  белый чай  благовоние  бодрящий  виноград  горный воздух  \\\n",
       "0          1          0           1         0         0              0   \n",
       "1          0          0           0         0         0              0   \n",
       "2          0          0           0         0         0              0   \n",
       "3          0          0           0         0         0              0   \n",
       "4          0          0           0         0         0              0   \n",
       "5          0          0           0         0         0              0   \n",
       "6          0          0           0         0         0              0   \n",
       "7          0          0           0         1         1              0   \n",
       "8          1          0           0         0         0              0   \n",
       "9          0          0           0         0         0              0   \n",
       "10         0          0           1         0         0              0   \n",
       "11         0          0           1         0         0              0   \n",
       "12         0          0           1         0         0              0   \n",
       "13         0          0           1         0         0              0   \n",
       "14         0          0           0         0         0              0   \n",
       "15         1          0           0         0         0              0   \n",
       "16         1          0           0         0         0              0   \n",
       "17         0          0           0         0         0              0   \n",
       "18         0          0           1         0         0              0   \n",
       "19         0          0           1         0         0              0   \n",
       "20         0          0           1         0         0              0   \n",
       "21         0          0           0         0         0              0   \n",
       "22         0          0           0         0         0              0   \n",
       "23         0          0           0         0         0              0   \n",
       "\n",
       "    древесный  дым  жизнерадостный  зеленый чай  земля  игривый  интенсивный  \\\n",
       "0           1    1               0            0      0        0            1   \n",
       "1           0    0               0            0      0        0            0   \n",
       "2           1    1               0            0      1        0            0   \n",
       "3           0    0               0            0      0        1            0   \n",
       "4           0    0               0            0      0        0            0   \n",
       "5           1    1               0            0      1        0            0   \n",
       "6           0    0               0            0      0        0            0   \n",
       "7           0    0               1            0      0        0            1   \n",
       "8           1    1               0            0      1        0            0   \n",
       "9           1    1               0            0      1        0            0   \n",
       "10          1    1               0            0      0        0            1   \n",
       "11          1    1               0            0      1        0            1   \n",
       "12          1    1               0            0      0        0            1   \n",
       "13          1    1               0            0      0        1            1   \n",
       "14          0    0               0            0      0        1            0   \n",
       "15          1    1               0            0      1        0            0   \n",
       "16          1    1               0            0      1        0            0   \n",
       "17          0    0               0            0      0        0            0   \n",
       "18          1    1               0            0      0        0            1   \n",
       "19          1    1               0            0      0        0            1   \n",
       "20          1    1               0            0      0        0            1   \n",
       "21          0    0               0            0      0        1            0   \n",
       "22          0    0               0            0      0        1            0   \n",
       "23          0    0               0            0      0        1            0   \n",
       "\n",
       "    куркума  лайм  легкий  листья  массивный  металл  морозная свежесть  \\\n",
       "0         1     0       0       0          0       0                  0   \n",
       "1         0     0       1       0          1       0                  0   \n",
       "2         0     0       1       0          1       1                  0   \n",
       "3         0     0       1       0          1       0                  0   \n",
       "4         0     0       1       0          1       0                  0   \n",
       "5         0     0       1       0          1       1                  0   \n",
       "6         0     0       1       0          1       0                  0   \n",
       "7         0     1       1       0          0       0                  0   \n",
       "8         1     0       0       0          0       1                  0   \n",
       "9         0     0       0       1          0       1                  0   \n",
       "10        0     0       1       0          1       0                  0   \n",
       "11        0     0       0       0          0       1                  0   \n",
       "12        0     0       0       0          0       0                  0   \n",
       "13        0     0       0       0          0       0                  0   \n",
       "14        0     0       1       0          1       0                  0   \n",
       "15        1     0       0       0          0       1                  0   \n",
       "16        1     0       0       0          0       1                  0   \n",
       "17        0     0       1       0          1       0                  0   \n",
       "18        0     0       0       0          0       0                  0   \n",
       "19        0     0       1       0          1       0                  0   \n",
       "20        0     0       1       0          1       0                  0   \n",
       "21        0     0       1       0          1       0                  0   \n",
       "22        0     0       1       0          1       0                  0   \n",
       "23        0     0       1       0          1       0                  0   \n",
       "\n",
       "    морской  мягкий  насыщенный  ненавязчивый  необычный  огурец  орех  \\\n",
       "0         0       0           1             0          0       0     1   \n",
       "1         0       0           0             0          0       0     0   \n",
       "2         0       1           0             1          0       0     0   \n",
       "3         0       0           0             0          1       0     0   \n",
       "4         0       0           0             0          0       0     0   \n",
       "5         0       0           0             0          0       0     0   \n",
       "6         0       0           0             0          0       0     0   \n",
       "7         0       0           0             0          0       0     0   \n",
       "8         0       0           0             0          0       0     1   \n",
       "9         0       0           0             0          0       0     0   \n",
       "10        0       0           1             0          0       0     0   \n",
       "11        0       0           1             0          0       0     0   \n",
       "12        0       0           1             0          0       0     0   \n",
       "13        0       0           1             0          1       0     0   \n",
       "14        0       0           0             0          1       0     0   \n",
       "15        0       0           0             0          0       0     1   \n",
       "16        0       0           0             0          0       0     1   \n",
       "17        0       0           0             0          0       0     0   \n",
       "18        0       0           1             0          0       0     0   \n",
       "19        0       0           1             0          0       0     0   \n",
       "20        0       0           1             0          0       0     0   \n",
       "21        0       0           0             0          1       0     0   \n",
       "22        0       0           0             0          1       0     0   \n",
       "23        0       0           0             0          1       0     0   \n",
       "\n",
       "    острый  папоротник  перец  персик  плотный  притягательный  пряно-горький  \\\n",
       "0        1           0      1       0        1               0              0   \n",
       "1        0           0      0       0        0               0              0   \n",
       "2        0           1      0       0        0               1              0   \n",
       "3        0           0      0       0        0               0              0   \n",
       "4        0           0      0       0        0               0              0   \n",
       "5        0           1      0       0        0               0              0   \n",
       "6        0           0      0       0        0               0              0   \n",
       "7        0           0      0       1        0               0              0   \n",
       "8        1           1      1       0        0               0              0   \n",
       "9        0           1      0       0        0               0              1   \n",
       "10       0           0      0       0        1               0              0   \n",
       "11       0           1      0       0        1               0              0   \n",
       "12       0           0      0       0        1               0              0   \n",
       "13       0           0      0       0        1               0              0   \n",
       "14       0           0      0       0        0               0              0   \n",
       "15       1           1      1       0        0               0              0   \n",
       "16       1           1      1       0        0               0              0   \n",
       "17       0           0      0       0        0               0              0   \n",
       "18       0           0      0       0        1               0              0   \n",
       "19       0           0      0       0        1               0              0   \n",
       "20       0           0      0       0        1               0              0   \n",
       "21       0           0      0       0        0               0              0   \n",
       "22       0           0      0       0        0               0              0   \n",
       "23       0           0      0       0        0               0              0   \n",
       "\n",
       "    пряный  роскошный  сливочный  смола  согревающий  спокойный  сухая трава  \\\n",
       "0        1          1          0      1            1          0            0   \n",
       "1        0          0          0      0            0          0            0   \n",
       "2        1          0          1      1            1          0            0   \n",
       "3        0          0          0      0            0          0            0   \n",
       "4        0          0          0      0            0          0            0   \n",
       "5        0          0          1      1            1          0            0   \n",
       "6        0          0          0      0            0          0            0   \n",
       "7        0          0          0      0            0          0            0   \n",
       "8        0          0          1      1            1          0            0   \n",
       "9        0          0          1      1            1          0            1   \n",
       "10       1          1          0      1            0          0            0   \n",
       "11       1          1          1      1            1          0            0   \n",
       "12       1          1          0      1            0          0            0   \n",
       "13       1          1          0      1            0          0            0   \n",
       "14       0          0          0      0            0          0            0   \n",
       "15       0          0          1      1            1          0            0   \n",
       "16       0          0          1      1            1          0            0   \n",
       "17       0          0          0      0            0          0            0   \n",
       "18       1          1          0      1            0          0            0   \n",
       "19       1          1          0      1            0          0            0   \n",
       "20       1          1          0      1            0          0            0   \n",
       "21       0          0          0      0            0          0            0   \n",
       "22       0          0          0      0            0          0            0   \n",
       "23       0          0          0      0            0          0            0   \n",
       "\n",
       "    сухой  табак  таинственный  телесный  теплый  терпкий  томный  \\\n",
       "0       1      1             0         0       0        0       1   \n",
       "1       0      0             0         0       0        0       0   \n",
       "2       0      0             1         1       1        0       0   \n",
       "3       0      0             0         0       0        0       0   \n",
       "4       0      0             0         0       0        0       0   \n",
       "5       0      0             1         0       1        0       0   \n",
       "6       0      0             0         0       0        0       0   \n",
       "7       0      0             0         0       0        0       0   \n",
       "8       0      0             1         0       1        0       0   \n",
       "9       0      0             1         0       1        1       0   \n",
       "10      1      1             0         0       0        0       1   \n",
       "11      1      1             1         0       1        0       1   \n",
       "12      1      1             0         0       0        0       1   \n",
       "13      1      1             0         0       0        0       1   \n",
       "14      0      0             0         0       0        0       0   \n",
       "15      0      0             1         0       1        0       0   \n",
       "16      0      0             1         0       1        0       0   \n",
       "17      0      0             0         0       0        0       0   \n",
       "18      1      1             0         0       0        0       1   \n",
       "19      1      1             0         0       0        0       1   \n",
       "20      1      1             0         0       0        0       1   \n",
       "21      0      0             0         0       0        0       0   \n",
       "22      0      0             0         0       0        0       0   \n",
       "23      0      0             0         0       0        0       0   \n",
       "\n",
       "    тонизирующий  тонкий  торжественный  трава  тяжелый  черный чай  \\\n",
       "0              0       0              1      0        1           1   \n",
       "1              0       0              0      0        0           0   \n",
       "2              0       0              0      0        0           0   \n",
       "3              0       0              0      0        0           0   \n",
       "4              0       0              0      0        0           0   \n",
       "5              0       0              0      0        0           0   \n",
       "6              0       0              0      0        0           0   \n",
       "7              1       0              0      0        0           0   \n",
       "8              0       0              0      0        0           0   \n",
       "9              0       0              0      1        0           0   \n",
       "10             0       0              1      0        1           1   \n",
       "11             0       0              1      0        1           1   \n",
       "12             0       0              1      0        1           1   \n",
       "13             0       0              1      0        1           1   \n",
       "14             0       0              0      0        0           0   \n",
       "15             0       0              0      0        0           0   \n",
       "16             0       0              0      0        0           0   \n",
       "17             0       0              0      0        0           0   \n",
       "18             0       0              1      0        1           1   \n",
       "19             0       0              1      0        1           1   \n",
       "20             0       0              1      0        1           1   \n",
       "21             0       0              0      0        0           0   \n",
       "22             0       0              0      0        0           0   \n",
       "23             0       0              0      0        0           0   \n",
       "\n",
       "    чувственный  шоколад  энергичный  яркий  \n",
       "0             1        1           0      0  \n",
       "1             0        0           0      0  \n",
       "2             1        0           0      0  \n",
       "3             0        0           0      0  \n",
       "4             0        0           0      0  \n",
       "5             1        0           0      0  \n",
       "6             0        0           0      0  \n",
       "7             0        0           1      1  \n",
       "8             1        0           0      0  \n",
       "9             1        0           0      0  \n",
       "10            1        1           0      0  \n",
       "11            1        1           0      0  \n",
       "12            1        1           0      0  \n",
       "13            1        1           0      0  \n",
       "14            0        0           0      0  \n",
       "15            1        0           0      0  \n",
       "16            1        0           0      0  \n",
       "17            0        0           0      0  \n",
       "18            1        1           0      0  \n",
       "19            1        1           0      0  \n",
       "20            1        1           0      0  \n",
       "21            0        0           0      0  \n",
       "22            0        0           0      0  \n",
       "23            0        0           0      0  "
      ]
     },
     "metadata": {},
     "output_type": "display_data"
    }
   ],
   "source": [
    "display(df)"
   ]
  },
  {
   "cell_type": "code",
   "execution_count": 18,
   "metadata": {},
   "outputs": [],
   "source": [
    "del df[\"название\"]"
   ]
  },
  {
   "cell_type": "markdown",
   "metadata": {},
   "source": [
    "#### Матрица смежности для семейств (1 уровень)"
   ]
  },
  {
   "cell_type": "code",
   "execution_count": 19,
   "metadata": {},
   "outputs": [],
   "source": [
    "layer1 = {\"восточные\": 0, \"древесные\": 1, \"цветочные\": 2, \"цитрусовые\": 3}\n",
    "\n",
    "treeLayer1 = np.zeros((len(layer1), len(layer1)))\n",
    "treeLayer1[layer1[\"восточные\"]][layer1[\"древесные\"]] = treeLayer1[layer1[\"древесные\"]][layer1[\"восточные\"]] = 0.5\n",
    "treeLayer1[layer1[\"восточные\"]][layer1[\"цветочные\"]] = treeLayer1[layer1[\"цветочные\"]][layer1[\"восточные\"]] = 0.7\n",
    "treeLayer1[layer1[\"восточные\"]][layer1[\"цитрусовые\"]] = treeLayer1[layer1[\"цитрусовые\"]][layer1[\"восточные\"]] = 0.9\n",
    "treeLayer1[layer1[\"древесные\"]][layer1[\"цветочные\"]] = treeLayer1[layer1[\"цветочные\"]][layer1[\"древесные\"]] = 0.7\n",
    "treeLayer1[layer1[\"древесные\"]][layer1[\"цитрусовые\"]] = treeLayer1[layer1[\"цитрусовые\"]][layer1[\"древесные\"]] = 0.9\n",
    "treeLayer1[layer1[\"цветочные\"]][layer1[\"цитрусовые\"]] = treeLayer1[layer1[\"цитрусовые\"]][layer1[\"цветочные\"]] = 0.7"
   ]
  },
  {
   "cell_type": "markdown",
   "metadata": {},
   "source": [
    "#### Матрица смежности для семейств (2 уровень)"
   ]
  },
  {
   "cell_type": "code",
   "execution_count": 20,
   "metadata": {},
   "outputs": [],
   "source": [
    "layer2 = {\"цветочные\": 0, \"древесные\": 1, \"пряные\": 2, \"ванильные\": 3, \"фужерные\": 4, \"водные\": 5, \"свежие\": 6, \"фруктовые\": 7, \"сладкие\": 8, \"ароматические\": 9}\n",
    "\n",
    "treeLayer2 = np.zeros((len(layer2), len(layer2)))\n",
    "treeLayer2[layer2[\"цветочные\"]][layer2[\"древесные\"]] = treeLayer2[layer2[\"древесные\"]][layer2[\"цветочные\"]] = 0.5\n",
    "treeLayer2[layer2[\"цветочные\"]][layer2[\"пряные\"]] = treeLayer2[layer2[\"пряные\"]][layer2[\"цветочные\"]] = 0.5\n",
    "treeLayer2[layer2[\"цветочные\"]][layer2[\"ванильные\"]] = treeLayer2[layer2[\"ванильные\"]][layer2[\"цветочные\"]] = 0.3\n",
    "treeLayer2[layer2[\"цветочные\"]][layer2[\"фужерные\"]] = treeLayer2[layer2[\"фужерные\"]][layer2[\"цветочные\"]] = 0.6\n",
    "treeLayer2[layer2[\"цветочные\"]][layer2[\"водные\"]] = treeLayer2[layer2[\"водные\"]][layer2[\"цветочные\"]] = 0.5\n",
    "treeLayer2[layer2[\"цветочные\"]][layer2[\"свежие\"]] = treeLayer2[layer2[\"свежие\"]][layer2[\"цветочные\"]] = 0.3\n",
    "treeLayer2[layer2[\"цветочные\"]][layer2[\"фруктовые\"]] = treeLayer2[layer2[\"фруктовые\"]][layer2[\"цветочные\"]] = 0.3\n",
    "treeLayer2[layer2[\"цветочные\"]][layer2[\"сладкие\"]] = treeLayer2[layer2[\"сладкие\"]][layer2[\"цветочные\"]] = 0.2\n",
    "treeLayer2[layer2[\"цветочные\"]][layer2[\"ароматические\"]] = treeLayer2[layer2[\"ароматические\"]][layer2[\"цветочные\"]] = 0.3\n",
    "\n",
    "treeLayer2[layer2[\"древесные\"]][layer2[\"пряные\"]] = treeLayer2[layer2[\"пряные\"]][layer2[\"древесные\"]] = 0.4\n",
    "treeLayer2[layer2[\"древесные\"]][layer2[\"ванильные\"]] = treeLayer2[layer2[\"ванильные\"]][layer2[\"древесные\"]] = 0.5\n",
    "treeLayer2[layer2[\"древесные\"]][layer2[\"фужерные\"]] = treeLayer2[layer2[\"фужерные\"]][layer2[\"древесные\"]] = 0.3\n",
    "treeLayer2[layer2[\"древесные\"]][layer2[\"водные\"]] = treeLayer2[layer2[\"водные\"]][layer2[\"древесные\"]] = 0.6\n",
    "treeLayer2[layer2[\"древесные\"]][layer2[\"свежие\"]] = treeLayer2[layer2[\"свежие\"]][layer2[\"древесные\"]] = 0.5\n",
    "treeLayer2[layer2[\"древесные\"]][layer2[\"фруктовые\"]] = treeLayer2[layer2[\"фруктовые\"]][layer2[\"древесные\"]] = 0.6\n",
    "treeLayer2[layer2[\"древесные\"]][layer2[\"сладкие\"]] = treeLayer2[layer2[\"сладкие\"]][layer2[\"древесные\"]] = 0.4\n",
    "treeLayer2[layer2[\"древесные\"]][layer2[\"ароматические\"]] = treeLayer2[layer2[\"ароматические\"]][layer2[\"древесные\"]] = 0.4\n",
    "\n",
    "treeLayer2[layer2[\"пряные\"]][layer2[\"ванильные\"]] = treeLayer2[layer2[\"ванильные\"]][layer2[\"пряные\"]] = 0.5\n",
    "treeLayer2[layer2[\"пряные\"]][layer2[\"фужерные\"]] = treeLayer2[layer2[\"фужерные\"]][layer2[\"пряные\"]] = 0.3\n",
    "treeLayer2[layer2[\"пряные\"]][layer2[\"водные\"]] = treeLayer2[layer2[\"водные\"]][layer2[\"пряные\"]] = 0.6\n",
    "treeLayer2[layer2[\"пряные\"]][layer2[\"свежие\"]] = treeLayer2[layer2[\"свежие\"]][layer2[\"пряные\"]] = 0.6\n",
    "treeLayer2[layer2[\"пряные\"]][layer2[\"фруктовые\"]] = treeLayer2[layer2[\"фруктовые\"]][layer2[\"пряные\"]] = 0.6\n",
    "treeLayer2[layer2[\"пряные\"]][layer2[\"сладкие\"]] = treeLayer2[layer2[\"сладкие\"]][layer2[\"пряные\"]] = 0.3\n",
    "treeLayer2[layer2[\"пряные\"]][layer2[\"ароматические\"]] = treeLayer2[layer2[\"ароматические\"]][layer2[\"пряные\"]] = 0.3\n",
    "\n",
    "treeLayer2[layer2[\"ванильные\"]][layer2[\"фужерные\"]] = treeLayer2[layer2[\"фужерные\"]][layer2[\"ванильные\"]] = 0.5\n",
    "treeLayer2[layer2[\"ванильные\"]][layer2[\"водные\"]] = treeLayer2[layer2[\"водные\"]][layer2[\"ванильные\"]] = 0.7\n",
    "treeLayer2[layer2[\"ванильные\"]][layer2[\"свежие\"]] = treeLayer2[layer2[\"свежие\"]][layer2[\"ванильные\"]] = 0.6\n",
    "treeLayer2[layer2[\"ванильные\"]][layer2[\"фруктовые\"]] = treeLayer2[layer2[\"фруктовые\"]][layer2[\"ванильные\"]] = 0.4\n",
    "treeLayer2[layer2[\"ванильные\"]][layer2[\"сладкие\"]] = treeLayer2[layer2[\"сладкие\"]][layer2[\"ванильные\"]] = 0.3\n",
    "treeLayer2[layer2[\"ванильные\"]][layer2[\"ароматические\"]] = treeLayer2[layer2[\"ароматические\"]][layer2[\"ванильные\"]] = 0.5\n",
    "\n",
    "treeLayer2[layer2[\"фужерные\"]][layer2[\"водные\"]] = treeLayer2[layer2[\"водные\"]][layer2[\"фужерные\"]] = 0.7\n",
    "treeLayer2[layer2[\"фужерные\"]][layer2[\"свежие\"]] = treeLayer2[layer2[\"свежие\"]][layer2[\"фужерные\"]] = 0.7\n",
    "treeLayer2[layer2[\"фужерные\"]][layer2[\"фруктовые\"]] = treeLayer2[layer2[\"фруктовые\"]][layer2[\"фужерные\"]] = 0.7\n",
    "treeLayer2[layer2[\"фужерные\"]][layer2[\"сладкие\"]] = treeLayer2[layer2[\"сладкие\"]][layer2[\"фужерные\"]] = 0.5\n",
    "treeLayer2[layer2[\"фужерные\"]][layer2[\"ароматические\"]] = treeLayer2[layer2[\"ароматические\"]][layer2[\"фужерные\"]] = 0.5\n",
    "\n",
    "treeLayer2[layer2[\"водные\"]][layer2[\"свежие\"]] = treeLayer2[layer2[\"свежие\"]][layer2[\"водные\"]] = 0.3\n",
    "treeLayer2[layer2[\"водные\"]][layer2[\"фруктовые\"]] = treeLayer2[layer2[\"фруктовые\"]][layer2[\"водные\"]] = 0.7\n",
    "treeLayer2[layer2[\"водные\"]][layer2[\"сладкие\"]] = treeLayer2[layer2[\"сладкие\"]][layer2[\"водные\"]] = 0.6\n",
    "treeLayer2[layer2[\"водные\"]][layer2[\"ароматические\"]] = treeLayer2[layer2[\"ароматические\"]][layer2[\"водные\"]] = 0.6\n",
    "\n",
    "treeLayer2[layer2[\"свежие\"]][layer2[\"фруктовые\"]] = treeLayer2[layer2[\"фруктовые\"]][layer2[\"свежие\"]] = 0.5\n",
    "treeLayer2[layer2[\"свежие\"]][layer2[\"сладкие\"]] = treeLayer2[layer2[\"сладкие\"]][layer2[\"свежие\"]] = 0.6\n",
    "treeLayer2[layer2[\"свежие\"]][layer2[\"ароматические\"]] = treeLayer2[layer2[\"ароматические\"]][layer2[\"свежие\"]] = 0.3\n",
    "\n",
    "treeLayer2[layer2[\"фруктовые\"]][layer2[\"сладкие\"]] = treeLayer2[layer2[\"сладкие\"]][layer2[\"фруктовые\"]] = 0.3\n",
    "treeLayer2[layer2[\"фруктовые\"]][layer2[\"ароматические\"]] = treeLayer2[layer2[\"ароматические\"]][layer2[\"фруктовые\"]] = 0.3\n",
    "\n",
    "treeLayer2[layer2[\"сладкие\"]][layer2[\"ароматические\"]] = treeLayer2[layer2[\"ароматические\"]][layer2[\"сладкие\"]] = 0.6"
   ]
  },
  {
   "cell_type": "markdown",
   "metadata": {},
   "source": [
    "#### Матрица смежности для семейств (3 уровень)"
   ]
  },
  {
   "cell_type": "code",
   "execution_count": 21,
   "metadata": {},
   "outputs": [],
   "source": [
    "layer3 = {\"свежие\": 0, \"сладкие\": 1, \"мускусные\": 2, \"шипровые\": 3, \"амбровые\": 4, \"фруктовые\": 5, \"-\": 6}\n",
    "\n",
    "treeLayer3 = np.zeros((len(layer3), len(layer3)))\n",
    "treeLayer3[layer3[\"свежие\"]][layer3[\"сладкие\"]] = treeLayer3[layer3[\"сладкие\"]][layer3[\"свежие\"]] = 0.6\n",
    "treeLayer3[layer3[\"свежие\"]][layer3[\"мускусные\"]] = treeLayer3[layer3[\"мускусные\"]][layer3[\"свежие\"]] = 0.7\n",
    "treeLayer3[layer3[\"свежие\"]][layer3[\"шипровые\"]] = treeLayer3[layer3[\"шипровые\"]][layer3[\"свежие\"]] = 0.7\n",
    "treeLayer3[layer3[\"свежие\"]][layer3[\"амбровые\"]] = treeLayer3[layer3[\"амбровые\"]][layer3[\"свежие\"]] = 0.7\n",
    "treeLayer3[layer3[\"свежие\"]][layer3[\"фруктовые\"]] = treeLayer3[layer3[\"фруктовые\"]][layer3[\"свежие\"]] = 0.6\n",
    "treeLayer3[layer3[\"свежие\"]][layer3[\"-\"]] = treeLayer3[layer3[\"-\"]][layer3[\"свежие\"]] = 1\n",
    "\n",
    "treeLayer3[layer3[\"сладкие\"]][layer3[\"мускусные\"]] = treeLayer3[layer3[\"мускусные\"]][layer3[\"сладкие\"]] = 0.4\n",
    "treeLayer3[layer3[\"сладкие\"]][layer3[\"шипровые\"]] = treeLayer3[layer3[\"шипровые\"]][layer3[\"сладкие\"]] = 0.4\n",
    "treeLayer3[layer3[\"сладкие\"]][layer3[\"амбровые\"]] = treeLayer3[layer3[\"амбровые\"]][layer3[\"сладкие\"]] = 0.4\n",
    "treeLayer3[layer3[\"сладкие\"]][layer3[\"фруктовые\"]] = treeLayer3[layer3[\"фруктовые\"]][layer3[\"сладкие\"]] = 0.4\n",
    "treeLayer3[layer3[\"сладкие\"]][layer3[\"-\"]] = treeLayer3[layer3[\"-\"]][layer3[\"сладкие\"]] = 1\n",
    "\n",
    "treeLayer3[layer3[\"мускусные\"]][layer3[\"шипровые\"]] = treeLayer3[layer3[\"шипровые\"]][layer3[\"мускусные\"]] = 0.2\n",
    "treeLayer3[layer3[\"мускусные\"]][layer3[\"амбровые\"]] = treeLayer3[layer3[\"амбровые\"]][layer3[\"мускусные\"]] = 0.6\n",
    "treeLayer3[layer3[\"мускусные\"]][layer3[\"фруктовые\"]] = treeLayer3[layer3[\"фруктовые\"]][layer3[\"мускусные\"]] = 0.6\n",
    "treeLayer3[layer3[\"мускусные\"]][layer3[\"-\"]] = treeLayer3[layer3[\"-\"]][layer3[\"мускусные\"]] = 1\n",
    "\n",
    "treeLayer3[layer3[\"шипровые\"]][layer3[\"амбровые\"]] = treeLayer3[layer3[\"амбровые\"]][layer3[\"шипровые\"]] = 0.6\n",
    "treeLayer3[layer3[\"шипровые\"]][layer3[\"фруктовые\"]] = treeLayer3[layer3[\"фруктовые\"]][layer3[\"шипровые\"]] = 0.6\n",
    "treeLayer3[layer3[\"шипровые\"]][layer3[\"-\"]] = treeLayer3[layer3[\"-\"]][layer3[\"шипровые\"]] = 1\n",
    "\n",
    "treeLayer3[layer3[\"амбровые\"]][layer3[\"фруктовые\"]] = treeLayer3[layer3[\"фруктовые\"]][layer3[\"амбровые\"]] = 0.7\n",
    "treeLayer3[layer3[\"амбровые\"]][layer3[\"-\"]] = treeLayer3[layer3[\"-\"]][layer3[\"амбровые\"]] = 1\n",
    "\n",
    "treeLayer3[layer3[\"фруктовые\"]][layer3[\"-\"]] = treeLayer3[layer3[\"-\"]][layer3[\"фруктовые\"]] = 1"
   ]
  },
  {
   "cell_type": "code",
   "execution_count": 22,
   "metadata": {},
   "outputs": [],
   "source": [
    "layer = [layer1, layer2, layer3]\n",
    "tree = [treeLayer1, treeLayer2, treeLayer3]"
   ]
  },
  {
   "cell_type": "markdown",
   "metadata": {},
   "source": [
    "### Данные"
   ]
  },
  {
   "cell_type": "code",
   "execution_count": 23,
   "metadata": {},
   "outputs": [],
   "source": [
    "excludeFields = [\"стойкость минимум (ч)\", \"стойкость максимум (ч)\", \"возраст (до 18)\", \"возраст (до 26)\", \"возраст (до 35)\", \n",
    "                 \"возраст (до 45)\", \"возраст (после 45)\", \"цена за 1 мл\", \"пол\", \"бренд\", \n",
    "                 \"страна\", \"сегмент\", \"концентрация\"]\n",
    "\n",
    "def getDataFrameAroma(df):\n",
    "    dfNew = df.copy()\n",
    "    for elem in excludeFields:\n",
    "        del dfNew[elem]\n",
    "    \n",
    "    return dfNew\n",
    "\n",
    "def getDataFrameStat(df):\n",
    "    dfStatParams = pd.DataFrame(columns=excludeFields, data=df[excludeFields].values)\n",
    "    del dfStatParams[\"бренд\"]\n",
    "    del dfStatParams[\"страна\"]\n",
    "\n",
    "    return dfStatParams"
   ]
  },
  {
   "cell_type": "markdown",
   "metadata": {},
   "source": [
    "#### Получение расстояний"
   ]
  },
  {
   "cell_type": "code",
   "execution_count": 24,
   "metadata": {},
   "outputs": [],
   "source": [
    "def _complete(v1, v2):\n",
    "    for i in range(len(v1) - len(v2)):\n",
    "        v2.append(\"-\")\n",
    "    return v2\n",
    "\n",
    "def complete(v1, v2):\n",
    "    n1, n2 = len(v1), len(v2)\n",
    "    if n1 > n2:\n",
    "        v2 = _complete(v1, v2)\n",
    "    elif n1 < n2:\n",
    "        v1 = _complete(v2, v1)\n",
    "    return v1, v2\n",
    "\n",
    "# Расстояния\n",
    "def getDistance(v1, v2, nPow):\n",
    "    res = 0\n",
    "    for i in range(len(v1)):\n",
    "        if isnan(v1[i]) or isnan(v2[i]):\n",
    "            continue\n",
    "        res += pow(abs(v1[i] - v2[i]), nPow)\n",
    "    return pow(res, 1 / nPow)\n",
    "\n",
    "# Манхэттенское расстояние\n",
    "def getManhattanDistance(v1, v2):\n",
    "    return getDistance(v1, v2, 1)\n",
    "\n",
    "# Евклидово расстояние\n",
    "def getEuclideanDistance(v1, v2):\n",
    "    return getDistance(v1, v2, 2)\n",
    "\n",
    "# Косинусное \n",
    "def getCos(v1, v2):\n",
    "    v1T, v2T = v1.copy(), v2.copy()\n",
    "    n = len(v1)\n",
    "    indArr = [i for i, (elem1, elem2) in enumerate(zip(v1T, v2T)) if isnan(elem1) or isnan(elem2)]\n",
    "    v1T[:] = [elem for i, elem in enumerate(v1T) if i not in indArr]\n",
    "    v2T[:] = [elem for i, elem in enumerate(v2T) if i not in indArr]\n",
    "    return dot(v1T, v2T) / (norm(v1T) * norm(v2T))\n",
    "\n",
    "# Расстояние по дереву\n",
    "def getTreeDistance(v1, v2):\n",
    "    res = 0\n",
    "    resArr = []\n",
    "    v1T, v2T = v1, v2\n",
    "    if len(v1) != len(v2):\n",
    "        v1T, v2T = complete(v1, v2)\n",
    "    for i in range(len(v1T)):\n",
    "        res += tree[i][layer[i][v1T[i]]][layer[i][v2T[i]]]\n",
    "    \n",
    "    return res / len(tree)\n",
    "\n",
    "# Сравнение брендов\n",
    "def getBrandDistance(v1, v2):\n",
    "    return 0 if v1[0] == v2[0] else 1\n",
    "\n",
    "# Сравнение стран\n",
    "def getCountryDistance(v1, v2):\n",
    "    return countryMatr[countryDict[v1]][countryDict[v2]]\n",
    "\n",
    "# Найти все похожие\n",
    "def getSimilarity(id, matr, nameArr):\n",
    "    data = matr[id]\n",
    "    res = pd.DataFrame(zip(data, nameArr), index=np.arange(len(matr)), columns=[\"расстояние\", \"название\"])\n",
    "    return res.sort_values(\"расстояние\")"
   ]
  },
  {
   "cell_type": "code",
   "execution_count": 25,
   "metadata": {},
   "outputs": [],
   "source": [
    "def calcDistance(f, df):\n",
    "    matrData = df.values.tolist()\n",
    "    n = len(matrData)\n",
    "    matrRes = np.zeros((n, n))\n",
    "    for i in range(n):\n",
    "        for j in range(i, n):\n",
    "            matrRes[i][j] = matrRes[j][i] = f(matrData[i], matrData[j])\n",
    "    return matrRes / matrRes.max()   \n",
    "\n",
    "\n",
    "def calcDistanceCompined(df, dfTree):\n",
    "    dfTree = dfTree[\"семейства\"]\n",
    "    dfMan = getDataFrameAroma(df)\n",
    "    dfStatParams = getDataFrameStat(df)\n",
    "    \n",
    "    matrTree = calcDistance(getTreeDistance, dfTree)\n",
    "    # matrCos = 1 - calcDistance(getCos, dfMan)\n",
    "    matrEucl = calcDistance(getEuclideanDistance, dfStatParams)\n",
    "    matrMan = calcDistance(getManhattanDistance, dfMan)\n",
    "    matrBrand = calcDistance(getBrandDistance, df[\"бренд\"])\n",
    "    matrCountry = calcDistance(getCountryDistance, df[\"страна\"])\n",
    "\n",
    "    xTree = matrTree.max()\n",
    "    # xCos = matrCos.max()\n",
    "    xEuci = matrEucl.max()\n",
    "    xMan = matrMan.max()\n",
    "    xBrand = matrBrand.max()\n",
    "    xCountry = matrCountry.max()\n",
    "\n",
    "\n",
    "    kMan, kTree, kEuci, kBrand, kCountry = 2, 0.5, 10, 2, 2\n",
    "\n",
    "    return (kMan * matrMan + kTree * matrTree + matrEucl + kBrand * matrBrand + kCountry * matrCountry) / (kMan * xMan + kTree * xTree + xEuci + kBrand * xBrand + kCountry * xCountry)"
   ]
  },
  {
   "cell_type": "markdown",
   "metadata": {},
   "source": [
    "#### Графическое изображение"
   ]
  },
  {
   "cell_type": "code",
   "execution_count": 26,
   "metadata": {},
   "outputs": [],
   "source": [
    "def draw(matrRes, nameArr, title, color='Inferno'):\n",
    "    fig = px.imshow(matrRes, x=nameArr, y=nameArr, color_continuous_scale=color, title=title)\n",
    "    fig.update_layout(width=1000, height=1200)\n",
    "    fig.update_traces(text=nameArr)\n",
    "    fig.update_xaxes(side=\"top\")\n",
    "    fig.show()"
   ]
  },
  {
   "cell_type": "markdown",
   "metadata": {},
   "source": [
    "### Демонстрация расстояний"
   ]
  },
  {
   "cell_type": "markdown",
   "metadata": {},
   "source": [
    "#### Манхэттонское"
   ]
  },
  {
   "cell_type": "code",
   "execution_count": 27,
   "metadata": {},
   "outputs": [
    {
     "data": {
      "application/vnd.plotly.v1+json": {
       "config": {
        "plotlyServerURL": "https://plot.ly"
       },
       "data": [
        {
         "coloraxis": "coloraxis",
         "hovertemplate": "x: %{x}<br>y: %{y}<br>color: %{z}<extra></extra>",
         "name": "0",
         "text": [
          "Shalimar",
          "3 L'Imperatrice",
          "1001 Nights",
          "Sabina",
          "Resolute Gold",
          "Oath for Him",
          "Twist",
          "CK Everyone",
          "Bad Boy",
          "Eau de Lacoste L.12.12 Blanc",
          "Ange ou Demon",
          "Samsara Eau de Parfum",
          "New Your Amber",
          "Renata",
          "Lanvin Eclat D Arpege",
          "MOSCHINO Toy Boy",
          "Cartier Declaration D Un Soir",
          "Channel №5",
          "Prada Day For Night",
          "Escentric Molecules Escentric 02",
          "The Only One",
          "Flora by Gucci Gorgeous Gardenia",
          "La Petite Robe Noire Ma Robe Cocktail",
          "La Petite Robe Noire Ma Robe Sous le Vent"
         ],
         "type": "heatmap",
         "x": [
          "Shalimar",
          "3 L'Imperatrice",
          "1001 Nights",
          "Sabina",
          "Resolute Gold",
          "Oath for Him",
          "Twist",
          "CK Everyone",
          "Bad Boy",
          "Eau de Lacoste L.12.12 Blanc",
          "Ange ou Demon",
          "Samsara Eau de Parfum",
          "New Your Amber",
          "Renata",
          "Lanvin Eclat D Arpege",
          "MOSCHINO Toy Boy",
          "Cartier Declaration D Un Soir",
          "Channel №5",
          "Prada Day For Night",
          "Escentric Molecules Escentric 02",
          "The Only One",
          "Flora by Gucci Gorgeous Gardenia",
          "La Petite Robe Noire Ma Robe Cocktail",
          "La Petite Robe Noire Ma Robe Sous le Vent"
         ],
         "xaxis": "x",
         "y": [
          "Shalimar",
          "3 L'Imperatrice",
          "1001 Nights",
          "Sabina",
          "Resolute Gold",
          "Oath for Him",
          "Twist",
          "CK Everyone",
          "Bad Boy",
          "Eau de Lacoste L.12.12 Blanc",
          "Ange ou Demon",
          "Samsara Eau de Parfum",
          "New Your Amber",
          "Renata",
          "Lanvin Eclat D Arpege",
          "MOSCHINO Toy Boy",
          "Cartier Declaration D Un Soir",
          "Channel №5",
          "Prada Day For Night",
          "Escentric Molecules Escentric 02",
          "The Only One",
          "Flora by Gucci Gorgeous Gardenia",
          "La Petite Robe Noire Ma Robe Cocktail",
          "La Petite Robe Noire Ma Robe Sous le Vent"
         ],
         "yaxis": "y",
         "z": [
          [
           0,
           0.8723404255319149,
           0.8936170212765957,
           0.851063829787234,
           0.7943262411347518,
           0.8368794326241135,
           0.7553191489361702,
           0.9361702127659575,
           0.6524822695035462,
           0.9787234042553191,
           0.48936170212765956,
           0.49645390070921985,
           0.38652482269503546,
           0.4397163120567376,
           0.9219858156028369,
           0.7375886524822695,
           0.7375886524822695,
           0.7375886524822695,
           0.2978723404255319,
           0.425531914893617,
           0.36879432624113473,
           0.8794326241134752,
           0.8687943262411347,
           0.7943262411347518
          ],
          [
           0.8723404255319149,
           0,
           0.48936170212765956,
           0.24822695035460993,
           0.2198581560283688,
           0.48936170212765956,
           0.17375886524822695,
           0.41843971631205673,
           0.6737588652482269,
           0.6312056737588653,
           0.6950354609929078,
           0.8297872340425532,
           0.7127659574468085,
           0.7446808510638298,
           0.2624113475177305,
           0.6453900709219859,
           0.7304964539007093,
           0.3333333333333333,
           0.6595744680851063,
           0.5319148936170213,
           0.6170212765957447,
           0.2198581560283688,
           0.2872340425531915,
           0.3049645390070922
          ],
          [
           0.8936170212765957,
           0.48936170212765956,
           0,
           0.49645390070921985,
           0.3829787234042553,
           0.2553191489361702,
           0.40070921985815605,
           0.6382978723404256,
           0.41134751773049644,
           0.45390070921985815,
           0.7021276595744681,
           0.5957446808510638,
           0.7695035460992907,
           0.7659574468085106,
           0.5106382978723404,
           0.46808510638297873,
           0.524822695035461,
           0.524822695035461,
           0.6808510638297872,
           0.6382978723404256,
           0.6382978723404256,
           0.49645390070921985,
           0.4858156028368794,
           0.49645390070921985
          ],
          [
           0.851063829787234,
           0.24822695035460993,
           0.49645390070921985,
           0,
           0.22695035460992907,
           0.524822695035461,
           0.1879432624113475,
           0.425531914893617,
           0.624113475177305,
           0.6666666666666666,
           0.6879432624113475,
           0.8368794326241135,
           0.6985815602836879,
           0.6382978723404256,
           0.2127659574468085,
           0.6808510638297872,
           0.7659574468085106,
           0.3120567375886525,
           0.6099290780141844,
           0.5957446808510638,
           0.5673758865248227,
           0.19858156028368795,
           0.24468085106382978,
           0.22695035460992907
          ],
          [
           0.7943262411347518,
           0.2198581560283688,
           0.3829787234042553,
           0.22695035460992907,
           0,
           0.41134751773049644,
           0.13120567375886524,
           0.3971631205673759,
           0.5957446808510638,
           0.6382978723404256,
           0.6312056737588653,
           0.7801418439716312,
           0.6134751773049646,
           0.6666666666666666,
           0.2695035460992908,
           0.624113475177305,
           0.7092198581560284,
           0.2553191489361702,
           0.5815602836879432,
           0.5106382978723404,
           0.5390070921985816,
           0.2553191489361702,
           0.21631205673758866,
           0.22695035460992907
          ],
          [
           0.8368794326241135,
           0.48936170212765956,
           0.2553191489361702,
           0.524822695035461,
           0.41134751773049644,
           0,
           0.3723404255319149,
           0.6382978723404256,
           0.4397163120567376,
           0.425531914893617,
           0.7872340425531915,
           0.5957446808510638,
           0.7978723404255319,
           0.7659574468085106,
           0.5390070921985816,
           0.46808510638297873,
           0.49645390070921985,
           0.4397163120567376,
           0.7375886524822695,
           0.6382978723404256,
           0.6382978723404256,
           0.49645390070921985,
           0.4574468085106383,
           0.4397163120567376
          ],
          [
           0.7553191489361702,
           0.17375886524822695,
           0.40070921985815605,
           0.1879432624113475,
           0.13120567375886524,
           0.3723404255319149,
           0,
           0.35815602836879434,
           0.5567375886524822,
           0.599290780141844,
           0.5851063829787234,
           0.6843971631205674,
           0.5957446808510638,
           0.6276595744680851,
           0.23049645390070922,
           0.6134751773049646,
           0.6985815602836879,
           0.21631205673758866,
           0.5425531914893617,
           0.5,
           0.4716312056737589,
           0.21631205673758866,
           0.19858156028368795,
           0.1595744680851064
          ],
          [
           0.9361702127659575,
           0.41843971631205673,
           0.6382978723404256,
           0.425531914893617,
           0.3971631205673759,
           0.6382978723404256,
           0.35815602836879434,
           0,
           0.7659574468085106,
           0.723404255319149,
           0.8297872340425532,
           0.9219858156028369,
           0.7836879432624113,
           0.8085106382978723,
           0.41134751773049644,
           0.7943262411347518,
           0.8226950354609929,
           0.5106382978723404,
           0.6950354609929078,
           0.7092198581560284,
           0.7375886524822695,
           0.425531914893617,
           0.4716312056737589,
           0.48226950354609927
          ],
          [
           0.6524822695035462,
           0.6737588652482269,
           0.41134751773049644,
           0.624113475177305,
           0.5957446808510638,
           0.4397163120567376,
           0.5567375886524822,
           0.7659574468085106,
           0,
           0.524822695035461,
           0.8865248226950354,
           0.6382978723404256,
           0.7836879432624113,
           0.8652482269503546,
           0.6950354609929078,
           0.2553191489361702,
           0.3120567375886525,
           0.6524822695035462,
           0.723404255319149,
           0.851063829787234,
           0.7943262411347518,
           0.6808510638297872,
           0.6702127659574468,
           0.624113475177305
          ],
          [
           0.9787234042553191,
           0.6312056737588653,
           0.45390070921985815,
           0.6666666666666666,
           0.6382978723404256,
           0.425531914893617,
           0.599290780141844,
           0.723404255319149,
           0.524822695035461,
           0,
           0.9574468085106383,
           0.6808510638297872,
           0.9113475177304965,
           0.9361702127659575,
           0.6524822695035462,
           0.49645390070921985,
           0.49645390070921985,
           0.6950354609929078,
           0.7943262411347518,
           0.8368794326241135,
           0.8936170212765957,
           0.6382978723404256,
           0.7127659574468085,
           0.723404255319149
          ],
          [
           0.48936170212765956,
           0.6950354609929078,
           0.7021276595744681,
           0.6879432624113475,
           0.6312056737588653,
           0.7872340425531915,
           0.5851063829787234,
           0.8297872340425532,
           0.8865248226950354,
           0.9574468085106383,
           0,
           0.475177304964539,
           0.35815602836879434,
           0.3617021276595745,
           0.7304964539007093,
           1,
           1,
           0.6595744680851063,
           0.3049645390070922,
           0.2907801418439716,
           0.23404255319148937,
           0.7163120567375887,
           0.6985815602836879,
           0.6595744680851063
          ],
          [
           0.49645390070921985,
           0.8297872340425532,
           0.5957446808510638,
           0.8368794326241135,
           0.7801418439716312,
           0.5957446808510638,
           0.6843971631205674,
           0.9219858156028369,
           0.6382978723404256,
           0.6808510638297872,
           0.475177304964539,
           0,
           0.42907801418439717,
           0.5106382978723404,
           0.851063829787234,
           0.723404255319149,
           0.7801418439716312,
           0.8085106382978723,
           0.36879432624113473,
           0.41134751773049644,
           0.3829787234042553,
           0.8652482269503546,
           0.8262411347517731,
           0.8085106382978723
          ],
          [
           0.38652482269503546,
           0.7127659574468085,
           0.7695035460992907,
           0.6985815602836879,
           0.6134751773049646,
           0.7978723404255319,
           0.5957446808510638,
           0.7836879432624113,
           0.7836879432624113,
           0.9113475177304965,
           0.35815602836879434,
           0.42907801418439717,
           0,
           0.31560283687943264,
           0.7411347517730497,
           0.8687943262411347,
           0.9539007092198581,
           0.6985815602836879,
           0.11702127659574468,
           0.30141843971631205,
           0.2730496453900709,
           0.7553191489361702,
           0.7092198581560284,
           0.6985815602836879
          ],
          [
           0.4397163120567376,
           0.7446808510638298,
           0.7659574468085106,
           0.6382978723404256,
           0.6666666666666666,
           0.7659574468085106,
           0.6276595744680851,
           0.8085106382978723,
           0.8652482269503546,
           0.9361702127659575,
           0.3617021276595745,
           0.5106382978723404,
           0.31560283687943264,
           0,
           0.6808510638297872,
           0.8936170212765957,
           0.9787234042553191,
           0.723404255319149,
           0.22695035460992907,
           0.3262411347517731,
           0.2695035460992908,
           0.6099290780141844,
           0.6560283687943262,
           0.6099290780141844
          ],
          [
           0.9219858156028369,
           0.2624113475177305,
           0.5106382978723404,
           0.2127659574468085,
           0.2695035460992908,
           0.5390070921985816,
           0.23049645390070922,
           0.41134751773049644,
           0.6950354609929078,
           0.6524822695035462,
           0.7304964539007093,
           0.851063829787234,
           0.7411347517730497,
           0.6808510638297872,
           0,
           0.6950354609929078,
           0.723404255319149,
           0.3546099290780142,
           0.6808510638297872,
           0.5531914893617021,
           0.6382978723404256,
           0.18439716312056736,
           0.25886524822695034,
           0.2695035460992908
          ],
          [
           0.7375886524822695,
           0.6453900709219859,
           0.46808510638297873,
           0.6808510638297872,
           0.624113475177305,
           0.46808510638297873,
           0.6134751773049646,
           0.7943262411347518,
           0.2553191489361702,
           0.49645390070921985,
           1,
           0.723404255319149,
           0.8687943262411347,
           0.8936170212765957,
           0.6950354609929078,
           0,
           0.3404255319148936,
           0.7092198581560284,
           0.8085106382978723,
           0.8794326241134752,
           0.851063829787234,
           0.624113475177305,
           0.7269503546099291,
           0.7375886524822695
          ],
          [
           0.7375886524822695,
           0.7304964539007093,
           0.524822695035461,
           0.7659574468085106,
           0.7092198581560284,
           0.49645390070921985,
           0.6985815602836879,
           0.8226950354609929,
           0.3120567375886525,
           0.49645390070921985,
           1,
           0.7801418439716312,
           0.9539007092198581,
           0.9787234042553191,
           0.723404255319149,
           0.3404255319148936,
           0,
           0.7092198581560284,
           0.8652482269503546,
           0.8794326241134752,
           0.9361702127659575,
           0.7375886524822695,
           0.7836879432624113,
           0.7943262411347518
          ],
          [
           0.7375886524822695,
           0.3333333333333333,
           0.524822695035461,
           0.3120567375886525,
           0.2553191489361702,
           0.4397163120567376,
           0.21631205673758866,
           0.5106382978723404,
           0.6524822695035462,
           0.6950354609929078,
           0.6595744680851063,
           0.8085106382978723,
           0.6985815602836879,
           0.723404255319149,
           0.3546099290780142,
           0.7092198581560284,
           0.7092198581560284,
           0,
           0.6382978723404256,
           0.5673758865248227,
           0.5390070921985816,
           0.3404255319148936,
           0.32978723404255317,
           0.28368794326241137
          ],
          [
           0.2978723404255319,
           0.6595744680851063,
           0.6808510638297872,
           0.6099290780141844,
           0.5815602836879432,
           0.7375886524822695,
           0.5425531914893617,
           0.6950354609929078,
           0.723404255319149,
           0.7943262411347518,
           0.3049645390070922,
           0.36879432624113473,
           0.11702127659574468,
           0.22695035460992907,
           0.6808510638297872,
           0.8085106382978723,
           0.8652482269503546,
           0.6382978723404256,
           0,
           0.24113475177304963,
           0.18439716312056736,
           0.6666666666666666,
           0.6560283687943262,
           0.6382978723404256
          ],
          [
           0.425531914893617,
           0.5319148936170213,
           0.6382978723404256,
           0.5957446808510638,
           0.5106382978723404,
           0.6382978723404256,
           0.5,
           0.7092198581560284,
           0.851063829787234,
           0.8368794326241135,
           0.2907801418439716,
           0.41134751773049644,
           0.30141843971631205,
           0.3262411347517731,
           0.5531914893617021,
           0.8794326241134752,
           0.8794326241134752,
           0.5673758865248227,
           0.24113475177304963,
           0,
           0.1702127659574468,
           0.5673758865248227,
           0.5851063829787234,
           0.5957446808510638
          ],
          [
           0.36879432624113473,
           0.6170212765957447,
           0.6382978723404256,
           0.5673758865248227,
           0.5390070921985816,
           0.6382978723404256,
           0.4716312056737589,
           0.7375886524822695,
           0.7943262411347518,
           0.8936170212765957,
           0.23404255319148937,
           0.3829787234042553,
           0.2730496453900709,
           0.2695035460992908,
           0.6382978723404256,
           0.851063829787234,
           0.9361702127659575,
           0.5390070921985816,
           0.18439716312056736,
           0.1702127659574468,
           0,
           0.5673758865248227,
           0.6134751773049646,
           0.5673758865248227
          ],
          [
           0.8794326241134752,
           0.2198581560283688,
           0.49645390070921985,
           0.19858156028368795,
           0.2553191489361702,
           0.49645390070921985,
           0.21631205673758866,
           0.425531914893617,
           0.6808510638297872,
           0.6382978723404256,
           0.7163120567375887,
           0.8652482269503546,
           0.7553191489361702,
           0.6099290780141844,
           0.18439716312056736,
           0.624113475177305,
           0.7375886524822695,
           0.3404255319148936,
           0.6666666666666666,
           0.5673758865248227,
           0.5673758865248227,
           0,
           0.24468085106382978,
           0.22695035460992907
          ],
          [
           0.8687943262411347,
           0.2872340425531915,
           0.4858156028368794,
           0.24468085106382978,
           0.21631205673758866,
           0.4574468085106383,
           0.19858156028368795,
           0.4716312056737589,
           0.6702127659574468,
           0.7127659574468085,
           0.6985815602836879,
           0.8262411347517731,
           0.7092198581560284,
           0.6560283687943262,
           0.25886524822695034,
           0.7269503546099291,
           0.7836879432624113,
           0.32978723404255317,
           0.6560283687943262,
           0.5851063829787234,
           0.6134751773049646,
           0.24468085106382978,
           0,
           0.21631205673758866
          ],
          [
           0.7943262411347518,
           0.3049645390070922,
           0.49645390070921985,
           0.22695035460992907,
           0.22695035460992907,
           0.4397163120567376,
           0.1595744680851064,
           0.48226950354609927,
           0.624113475177305,
           0.723404255319149,
           0.6595744680851063,
           0.8085106382978723,
           0.6985815602836879,
           0.6099290780141844,
           0.2695035460992908,
           0.7375886524822695,
           0.7943262411347518,
           0.28368794326241137,
           0.6382978723404256,
           0.5957446808510638,
           0.5673758865248227,
           0.22695035460992907,
           0.21631205673758866,
           0
          ]
         ]
        }
       ],
       "layout": {
        "coloraxis": {
         "colorscale": [
          [
           0,
           "#000004"
          ],
          [
           0.1111111111111111,
           "#1b0c41"
          ],
          [
           0.2222222222222222,
           "#4a0c6b"
          ],
          [
           0.3333333333333333,
           "#781c6d"
          ],
          [
           0.4444444444444444,
           "#a52c60"
          ],
          [
           0.5555555555555556,
           "#cf4446"
          ],
          [
           0.6666666666666666,
           "#ed6925"
          ],
          [
           0.7777777777777778,
           "#fb9b06"
          ],
          [
           0.8888888888888888,
           "#f7d13d"
          ],
          [
           1,
           "#fcffa4"
          ]
         ]
        },
        "height": 1200,
        "template": {
         "data": {
          "bar": [
           {
            "error_x": {
             "color": "#2a3f5f"
            },
            "error_y": {
             "color": "#2a3f5f"
            },
            "marker": {
             "line": {
              "color": "#E5ECF6",
              "width": 0.5
             },
             "pattern": {
              "fillmode": "overlay",
              "size": 10,
              "solidity": 0.2
             }
            },
            "type": "bar"
           }
          ],
          "barpolar": [
           {
            "marker": {
             "line": {
              "color": "#E5ECF6",
              "width": 0.5
             },
             "pattern": {
              "fillmode": "overlay",
              "size": 10,
              "solidity": 0.2
             }
            },
            "type": "barpolar"
           }
          ],
          "carpet": [
           {
            "aaxis": {
             "endlinecolor": "#2a3f5f",
             "gridcolor": "white",
             "linecolor": "white",
             "minorgridcolor": "white",
             "startlinecolor": "#2a3f5f"
            },
            "baxis": {
             "endlinecolor": "#2a3f5f",
             "gridcolor": "white",
             "linecolor": "white",
             "minorgridcolor": "white",
             "startlinecolor": "#2a3f5f"
            },
            "type": "carpet"
           }
          ],
          "choropleth": [
           {
            "colorbar": {
             "outlinewidth": 0,
             "ticks": ""
            },
            "type": "choropleth"
           }
          ],
          "contour": [
           {
            "colorbar": {
             "outlinewidth": 0,
             "ticks": ""
            },
            "colorscale": [
             [
              0,
              "#0d0887"
             ],
             [
              0.1111111111111111,
              "#46039f"
             ],
             [
              0.2222222222222222,
              "#7201a8"
             ],
             [
              0.3333333333333333,
              "#9c179e"
             ],
             [
              0.4444444444444444,
              "#bd3786"
             ],
             [
              0.5555555555555556,
              "#d8576b"
             ],
             [
              0.6666666666666666,
              "#ed7953"
             ],
             [
              0.7777777777777778,
              "#fb9f3a"
             ],
             [
              0.8888888888888888,
              "#fdca26"
             ],
             [
              1,
              "#f0f921"
             ]
            ],
            "type": "contour"
           }
          ],
          "contourcarpet": [
           {
            "colorbar": {
             "outlinewidth": 0,
             "ticks": ""
            },
            "type": "contourcarpet"
           }
          ],
          "heatmap": [
           {
            "colorbar": {
             "outlinewidth": 0,
             "ticks": ""
            },
            "colorscale": [
             [
              0,
              "#0d0887"
             ],
             [
              0.1111111111111111,
              "#46039f"
             ],
             [
              0.2222222222222222,
              "#7201a8"
             ],
             [
              0.3333333333333333,
              "#9c179e"
             ],
             [
              0.4444444444444444,
              "#bd3786"
             ],
             [
              0.5555555555555556,
              "#d8576b"
             ],
             [
              0.6666666666666666,
              "#ed7953"
             ],
             [
              0.7777777777777778,
              "#fb9f3a"
             ],
             [
              0.8888888888888888,
              "#fdca26"
             ],
             [
              1,
              "#f0f921"
             ]
            ],
            "type": "heatmap"
           }
          ],
          "heatmapgl": [
           {
            "colorbar": {
             "outlinewidth": 0,
             "ticks": ""
            },
            "colorscale": [
             [
              0,
              "#0d0887"
             ],
             [
              0.1111111111111111,
              "#46039f"
             ],
             [
              0.2222222222222222,
              "#7201a8"
             ],
             [
              0.3333333333333333,
              "#9c179e"
             ],
             [
              0.4444444444444444,
              "#bd3786"
             ],
             [
              0.5555555555555556,
              "#d8576b"
             ],
             [
              0.6666666666666666,
              "#ed7953"
             ],
             [
              0.7777777777777778,
              "#fb9f3a"
             ],
             [
              0.8888888888888888,
              "#fdca26"
             ],
             [
              1,
              "#f0f921"
             ]
            ],
            "type": "heatmapgl"
           }
          ],
          "histogram": [
           {
            "marker": {
             "pattern": {
              "fillmode": "overlay",
              "size": 10,
              "solidity": 0.2
             }
            },
            "type": "histogram"
           }
          ],
          "histogram2d": [
           {
            "colorbar": {
             "outlinewidth": 0,
             "ticks": ""
            },
            "colorscale": [
             [
              0,
              "#0d0887"
             ],
             [
              0.1111111111111111,
              "#46039f"
             ],
             [
              0.2222222222222222,
              "#7201a8"
             ],
             [
              0.3333333333333333,
              "#9c179e"
             ],
             [
              0.4444444444444444,
              "#bd3786"
             ],
             [
              0.5555555555555556,
              "#d8576b"
             ],
             [
              0.6666666666666666,
              "#ed7953"
             ],
             [
              0.7777777777777778,
              "#fb9f3a"
             ],
             [
              0.8888888888888888,
              "#fdca26"
             ],
             [
              1,
              "#f0f921"
             ]
            ],
            "type": "histogram2d"
           }
          ],
          "histogram2dcontour": [
           {
            "colorbar": {
             "outlinewidth": 0,
             "ticks": ""
            },
            "colorscale": [
             [
              0,
              "#0d0887"
             ],
             [
              0.1111111111111111,
              "#46039f"
             ],
             [
              0.2222222222222222,
              "#7201a8"
             ],
             [
              0.3333333333333333,
              "#9c179e"
             ],
             [
              0.4444444444444444,
              "#bd3786"
             ],
             [
              0.5555555555555556,
              "#d8576b"
             ],
             [
              0.6666666666666666,
              "#ed7953"
             ],
             [
              0.7777777777777778,
              "#fb9f3a"
             ],
             [
              0.8888888888888888,
              "#fdca26"
             ],
             [
              1,
              "#f0f921"
             ]
            ],
            "type": "histogram2dcontour"
           }
          ],
          "mesh3d": [
           {
            "colorbar": {
             "outlinewidth": 0,
             "ticks": ""
            },
            "type": "mesh3d"
           }
          ],
          "parcoords": [
           {
            "line": {
             "colorbar": {
              "outlinewidth": 0,
              "ticks": ""
             }
            },
            "type": "parcoords"
           }
          ],
          "pie": [
           {
            "automargin": true,
            "type": "pie"
           }
          ],
          "scatter": [
           {
            "marker": {
             "colorbar": {
              "outlinewidth": 0,
              "ticks": ""
             }
            },
            "type": "scatter"
           }
          ],
          "scatter3d": [
           {
            "line": {
             "colorbar": {
              "outlinewidth": 0,
              "ticks": ""
             }
            },
            "marker": {
             "colorbar": {
              "outlinewidth": 0,
              "ticks": ""
             }
            },
            "type": "scatter3d"
           }
          ],
          "scattercarpet": [
           {
            "marker": {
             "colorbar": {
              "outlinewidth": 0,
              "ticks": ""
             }
            },
            "type": "scattercarpet"
           }
          ],
          "scattergeo": [
           {
            "marker": {
             "colorbar": {
              "outlinewidth": 0,
              "ticks": ""
             }
            },
            "type": "scattergeo"
           }
          ],
          "scattergl": [
           {
            "marker": {
             "colorbar": {
              "outlinewidth": 0,
              "ticks": ""
             }
            },
            "type": "scattergl"
           }
          ],
          "scattermapbox": [
           {
            "marker": {
             "colorbar": {
              "outlinewidth": 0,
              "ticks": ""
             }
            },
            "type": "scattermapbox"
           }
          ],
          "scatterpolar": [
           {
            "marker": {
             "colorbar": {
              "outlinewidth": 0,
              "ticks": ""
             }
            },
            "type": "scatterpolar"
           }
          ],
          "scatterpolargl": [
           {
            "marker": {
             "colorbar": {
              "outlinewidth": 0,
              "ticks": ""
             }
            },
            "type": "scatterpolargl"
           }
          ],
          "scatterternary": [
           {
            "marker": {
             "colorbar": {
              "outlinewidth": 0,
              "ticks": ""
             }
            },
            "type": "scatterternary"
           }
          ],
          "surface": [
           {
            "colorbar": {
             "outlinewidth": 0,
             "ticks": ""
            },
            "colorscale": [
             [
              0,
              "#0d0887"
             ],
             [
              0.1111111111111111,
              "#46039f"
             ],
             [
              0.2222222222222222,
              "#7201a8"
             ],
             [
              0.3333333333333333,
              "#9c179e"
             ],
             [
              0.4444444444444444,
              "#bd3786"
             ],
             [
              0.5555555555555556,
              "#d8576b"
             ],
             [
              0.6666666666666666,
              "#ed7953"
             ],
             [
              0.7777777777777778,
              "#fb9f3a"
             ],
             [
              0.8888888888888888,
              "#fdca26"
             ],
             [
              1,
              "#f0f921"
             ]
            ],
            "type": "surface"
           }
          ],
          "table": [
           {
            "cells": {
             "fill": {
              "color": "#EBF0F8"
             },
             "line": {
              "color": "white"
             }
            },
            "header": {
             "fill": {
              "color": "#C8D4E3"
             },
             "line": {
              "color": "white"
             }
            },
            "type": "table"
           }
          ]
         },
         "layout": {
          "annotationdefaults": {
           "arrowcolor": "#2a3f5f",
           "arrowhead": 0,
           "arrowwidth": 1
          },
          "autotypenumbers": "strict",
          "coloraxis": {
           "colorbar": {
            "outlinewidth": 0,
            "ticks": ""
           }
          },
          "colorscale": {
           "diverging": [
            [
             0,
             "#8e0152"
            ],
            [
             0.1,
             "#c51b7d"
            ],
            [
             0.2,
             "#de77ae"
            ],
            [
             0.3,
             "#f1b6da"
            ],
            [
             0.4,
             "#fde0ef"
            ],
            [
             0.5,
             "#f7f7f7"
            ],
            [
             0.6,
             "#e6f5d0"
            ],
            [
             0.7,
             "#b8e186"
            ],
            [
             0.8,
             "#7fbc41"
            ],
            [
             0.9,
             "#4d9221"
            ],
            [
             1,
             "#276419"
            ]
           ],
           "sequential": [
            [
             0,
             "#0d0887"
            ],
            [
             0.1111111111111111,
             "#46039f"
            ],
            [
             0.2222222222222222,
             "#7201a8"
            ],
            [
             0.3333333333333333,
             "#9c179e"
            ],
            [
             0.4444444444444444,
             "#bd3786"
            ],
            [
             0.5555555555555556,
             "#d8576b"
            ],
            [
             0.6666666666666666,
             "#ed7953"
            ],
            [
             0.7777777777777778,
             "#fb9f3a"
            ],
            [
             0.8888888888888888,
             "#fdca26"
            ],
            [
             1,
             "#f0f921"
            ]
           ],
           "sequentialminus": [
            [
             0,
             "#0d0887"
            ],
            [
             0.1111111111111111,
             "#46039f"
            ],
            [
             0.2222222222222222,
             "#7201a8"
            ],
            [
             0.3333333333333333,
             "#9c179e"
            ],
            [
             0.4444444444444444,
             "#bd3786"
            ],
            [
             0.5555555555555556,
             "#d8576b"
            ],
            [
             0.6666666666666666,
             "#ed7953"
            ],
            [
             0.7777777777777778,
             "#fb9f3a"
            ],
            [
             0.8888888888888888,
             "#fdca26"
            ],
            [
             1,
             "#f0f921"
            ]
           ]
          },
          "colorway": [
           "#636efa",
           "#EF553B",
           "#00cc96",
           "#ab63fa",
           "#FFA15A",
           "#19d3f3",
           "#FF6692",
           "#B6E880",
           "#FF97FF",
           "#FECB52"
          ],
          "font": {
           "color": "#2a3f5f"
          },
          "geo": {
           "bgcolor": "white",
           "lakecolor": "white",
           "landcolor": "#E5ECF6",
           "showlakes": true,
           "showland": true,
           "subunitcolor": "white"
          },
          "hoverlabel": {
           "align": "left"
          },
          "hovermode": "closest",
          "mapbox": {
           "style": "light"
          },
          "paper_bgcolor": "white",
          "plot_bgcolor": "#E5ECF6",
          "polar": {
           "angularaxis": {
            "gridcolor": "white",
            "linecolor": "white",
            "ticks": ""
           },
           "bgcolor": "#E5ECF6",
           "radialaxis": {
            "gridcolor": "white",
            "linecolor": "white",
            "ticks": ""
           }
          },
          "scene": {
           "xaxis": {
            "backgroundcolor": "#E5ECF6",
            "gridcolor": "white",
            "gridwidth": 2,
            "linecolor": "white",
            "showbackground": true,
            "ticks": "",
            "zerolinecolor": "white"
           },
           "yaxis": {
            "backgroundcolor": "#E5ECF6",
            "gridcolor": "white",
            "gridwidth": 2,
            "linecolor": "white",
            "showbackground": true,
            "ticks": "",
            "zerolinecolor": "white"
           },
           "zaxis": {
            "backgroundcolor": "#E5ECF6",
            "gridcolor": "white",
            "gridwidth": 2,
            "linecolor": "white",
            "showbackground": true,
            "ticks": "",
            "zerolinecolor": "white"
           }
          },
          "shapedefaults": {
           "line": {
            "color": "#2a3f5f"
           }
          },
          "ternary": {
           "aaxis": {
            "gridcolor": "white",
            "linecolor": "white",
            "ticks": ""
           },
           "baxis": {
            "gridcolor": "white",
            "linecolor": "white",
            "ticks": ""
           },
           "bgcolor": "#E5ECF6",
           "caxis": {
            "gridcolor": "white",
            "linecolor": "white",
            "ticks": ""
           }
          },
          "title": {
           "x": 0.05
          },
          "xaxis": {
           "automargin": true,
           "gridcolor": "white",
           "linecolor": "white",
           "ticks": "",
           "title": {
            "standoff": 15
           },
           "zerolinecolor": "white",
           "zerolinewidth": 2
          },
          "yaxis": {
           "automargin": true,
           "gridcolor": "white",
           "linecolor": "white",
           "ticks": "",
           "title": {
            "standoff": 15
           },
           "zerolinecolor": "white",
           "zerolinewidth": 2
          }
         }
        },
        "title": {
         "text": "Манхэттенское расстояние"
        },
        "width": 1000,
        "xaxis": {
         "anchor": "y",
         "constrain": "domain",
         "domain": [
          0,
          1
         ],
         "scaleanchor": "y",
         "side": "top"
        },
        "yaxis": {
         "anchor": "x",
         "autorange": "reversed",
         "constrain": "domain",
         "domain": [
          0,
          1
         ]
        }
       }
      }
     },
     "metadata": {},
     "output_type": "display_data"
    }
   ],
   "source": [
    "matrRes = calcDistance(getManhattanDistance, getDataFrameAroma(df))\n",
    "draw(matrRes, nameArr, \"Манхэттенское расстояние\")\n",
    "# getDifference(11, matrRes, nameArr)"
   ]
  },
  {
   "cell_type": "markdown",
   "metadata": {},
   "source": [
    "#### Евклидово расстояние"
   ]
  },
  {
   "cell_type": "code",
   "execution_count": 28,
   "metadata": {},
   "outputs": [
    {
     "data": {
      "application/vnd.plotly.v1+json": {
       "config": {
        "plotlyServerURL": "https://plot.ly"
       },
       "data": [
        {
         "coloraxis": "coloraxis",
         "hovertemplate": "x: %{x}<br>y: %{y}<br>color: %{z}<extra></extra>",
         "name": "0",
         "text": [
          "Shalimar",
          "3 L'Imperatrice",
          "1001 Nights",
          "Sabina",
          "Resolute Gold",
          "Oath for Him",
          "Twist",
          "CK Everyone",
          "Bad Boy",
          "Eau de Lacoste L.12.12 Blanc",
          "Ange ou Demon",
          "Samsara Eau de Parfum",
          "New Your Amber",
          "Renata",
          "Lanvin Eclat D Arpege",
          "MOSCHINO Toy Boy",
          "Cartier Declaration D Un Soir",
          "Channel №5",
          "Prada Day For Night",
          "Escentric Molecules Escentric 02",
          "The Only One",
          "Flora by Gucci Gorgeous Gardenia",
          "La Petite Robe Noire Ma Robe Cocktail",
          "La Petite Robe Noire Ma Robe Sous le Vent"
         ],
         "type": "heatmap",
         "x": [
          "Shalimar",
          "3 L'Imperatrice",
          "1001 Nights",
          "Sabina",
          "Resolute Gold",
          "Oath for Him",
          "Twist",
          "CK Everyone",
          "Bad Boy",
          "Eau de Lacoste L.12.12 Blanc",
          "Ange ou Demon",
          "Samsara Eau de Parfum",
          "New Your Amber",
          "Renata",
          "Lanvin Eclat D Arpege",
          "MOSCHINO Toy Boy",
          "Cartier Declaration D Un Soir",
          "Channel №5",
          "Prada Day For Night",
          "Escentric Molecules Escentric 02",
          "The Only One",
          "Flora by Gucci Gorgeous Gardenia",
          "La Petite Robe Noire Ma Robe Cocktail",
          "La Petite Robe Noire Ma Robe Sous le Vent"
         ],
         "xaxis": "x",
         "y": [
          "Shalimar",
          "3 L'Imperatrice",
          "1001 Nights",
          "Sabina",
          "Resolute Gold",
          "Oath for Him",
          "Twist",
          "CK Everyone",
          "Bad Boy",
          "Eau de Lacoste L.12.12 Blanc",
          "Ange ou Demon",
          "Samsara Eau de Parfum",
          "New Your Amber",
          "Renata",
          "Lanvin Eclat D Arpege",
          "MOSCHINO Toy Boy",
          "Cartier Declaration D Un Soir",
          "Channel №5",
          "Prada Day For Night",
          "Escentric Molecules Escentric 02",
          "The Only One",
          "Flora by Gucci Gorgeous Gardenia",
          "La Petite Robe Noire Ma Robe Cocktail",
          "La Petite Robe Noire Ma Robe Sous le Vent"
         ],
         "yaxis": "y",
         "z": [
          [
           0,
           0.4918819363768239,
           0.1257931727849511,
           0.554215586585372,
           0.7511306151629797,
           0.8892575775365146,
           0.5573217142788512,
           0.669049617135745,
           0.7386388383674318,
           0.8220572533661402,
           0.47509824346385154,
           0.8657913847286002,
           0.7764185673099714,
           0.5569030479048134,
           0.6995182979185915,
           0.3707532415292485,
           0.6432497920141477,
           0.9164363970094933,
           0.9244831237418297,
           0.2723872830921053,
           0.7271588623281139,
           0.4937605962714834,
           0.1730665252606094,
           0.38004765216274583
          ],
          [
           0.4918819363768239,
           0,
           0.46911901351815294,
           0.7041779030882049,
           0.7498736273972206,
           0.8891401817294149,
           0.6876300373218417,
           0.8037400357613677,
           0.8626074361107606,
           0.9353467401501888,
           0.07479939481411954,
           0.7271682113970456,
           0.8754983260774688,
           0.6874499260970107,
           0.517099790163272,
           0.5972924470257585,
           0.7838841112754894,
           0.8095051904503455,
           0.8412140600426735,
           0.5086016090620301,
           0.8658499100544224,
           0.07222329693946339,
           0.415118684342831,
           0.5554703364169205
          ],
          [
           0.1257931727849511,
           0.46911901351815294,
           0,
           0.5596179321096313,
           0.7597324203524453,
           0.8985020971322494,
           0.5616326532636681,
           0.693415263344552,
           0.7609637289431579,
           0.8429119100961466,
           0.4418505307227055,
           0.8471364135955554,
           0.7814652542341781,
           0.5616272774128042,
           0.6745592533117523,
           0.40020141921715724,
           0.6722183705862792,
           0.9108645007856545,
           0.920219554040689,
           0.26703836543628556,
           0.744919609648389,
           0.47854368151305243,
           0.21801131715866578,
           0.39143745729187573
          ],
          [
           0.554215586585372,
           0.7041779030882049,
           0.5596179321096313,
           0,
           0.6419265969962633,
           0.7539135912521974,
           0.8208513082967214,
           0.7056179903669129,
           0.7716686316397463,
           0.8508602929672722,
           0.6907214103917882,
           0.6924279906788383,
           0.5544902979523252,
           0.38623647459695787,
           0.6958077236130833,
           0.670463213337099,
           0.8479920546721427,
           0.7250174173257486,
           0.7766810487707729,
           0.5502087242215561,
           0.5591031304949995,
           0.6986002863653265,
           0.5697203704848225,
           0.4183388377194721
          ],
          [
           0.7511306151629797,
           0.7498736273972206,
           0.7597324203524453,
           0.6419265969962633,
           0,
           0.5438554924223165,
           0.8861623593030813,
           0.7710033665324839,
           0.7495496131887662,
           0.6569456856770093,
           0.7473483163801291,
           0.5436544050828797,
           0.5435540939280764,
           0.5116489679034507,
           0.7458705926741663,
           0.6523822820542002,
           0.8346817596916325,
           0.6561990798565789,
           0.5747562279684807,
           0.7498529752672546,
           0.7475330053413614,
           0.7561049251598602,
           0.7496844863881325,
           0.6534587412939031
          ],
          [
           0.8892575775365146,
           0.8891401817294149,
           0.8985020971322494,
           0.7539135912521974,
           0.5438554924223165,
           0,
           0.7466791346008552,
           0.5478387617700206,
           0.5170098067995761,
           0.36896884598575036,
           0.886240931789614,
           0.5116359253411373,
           0.44310804797988074,
           0.7464681874249544,
           0.7240542705583758,
           0.8092117347389919,
           0.6314795792066336,
           0.6108294403818759,
           0.1819943322128156,
           0.8515503571137674,
           0.5118345217941792,
           0.8914883985898424,
           0.8892004385852784,
           0.8089646714965362
          ],
          [
           0.5573217142788512,
           0.6876300373218417,
           0.5616326532636681,
           0.8208513082967214,
           0.8861623593030813,
           0.7466791346008552,
           0,
           0.45824261631929336,
           0.5551977329735693,
           0.6631403568489217,
           0.6848712884075138,
           0.8541698022982016,
           0.8295082897434151,
           0.7235637740869089,
           0.6832666047783126,
           0.6586233131507861,
           0.42583890377241934,
           0.929811220180694,
           0.7727532990235076,
           0.6568034509641579,
           0.5524638651712582,
           0.6944051922048414,
           0.5479588482786724,
           0.6534498595883964
          ],
          [
           0.669049617135745,
           0.8037400357613677,
           0.693415263344552,
           0.7056179903669129,
           0.7710033665324839,
           0.5478387617700206,
           0.45824261631929336,
           0,
           0.18090986491066355,
           0.652383354444674,
           0.8075208678707364,
           0.8070648678177837,
           0.6625861430636405,
           0.6867480912495876,
           0.623976385960732,
           0.6561991243142404,
           0.40756544056786886,
           0.8868468710287797,
           0.6564423835312088,
           0.6742752346169109,
           0.4123736673098504,
           0.8081501364045277,
           0.6584887136240222,
           0.5554449966210624
          ],
          [
           0.7386388383674318,
           0.8626074361107606,
           0.7609637289431579,
           0.7716686316397463,
           0.7495496131887662,
           0.5170098067995761,
           0.5551977329735693,
           0.18090986491066355,
           0,
           0.6267398803224167,
           0.8660685357941613,
           0.8656929968092092,
           0.6867754571588164,
           0.7548868959931924,
           0.6982507973384207,
           0.6307826460601502,
           0.3648429314374475,
           0.9395112375034186,
           0.6807450127218451,
           0.6980712244617199,
           0.5177071687248009,
           0.8664790418732401,
           0.7291995914532673,
           0.6376091789929008
          ],
          [
           0.8220572533661402,
           0.9353467401501888,
           0.8429119100961466,
           0.8508602929672722,
           0.6569456856770093,
           0.36896884598575036,
           0.6631403568489217,
           0.652383354444674,
           0.6267398803224167,
           0,
           0.938283163146156,
           0.7863484139537253,
           0.5836293776166912,
           0.8374040984280566,
           0.9384040780480851,
           0.7273288824890525,
           0.5127900173915694,
           0.8621211524117057,
           0.5759721609304795,
           0.7861928006435972,
           0.6310706174867351,
           0.9379418453152409,
           0.8140341833653685,
           0.8937511931462031
          ],
          [
           0.47509824346385154,
           0.07479939481411954,
           0.4418505307227055,
           0.6907214103917882,
           0.7473483163801291,
           0.886240931789614,
           0.6848712884075138,
           0.8075208678707364,
           0.8660685357941613,
           0.938283163146156,
           0,
           0.723703526664318,
           0.8726598203454706,
           0.6845603219435605,
           0.5130996900504062,
           0.5936235233451495,
           0.7865533831063918,
           0.7920379624589992,
           0.8376953361798037,
           0.49330538070026503,
           0.8625512954674673,
           0.08984164171967812,
           0.42204767860807063,
           0.5506607165849041
          ],
          [
           0.8657913847286002,
           0.7271682113970456,
           0.8471364135955554,
           0.6924279906788383,
           0.5436544050828797,
           0.5116359253411373,
           0.8541698022982016,
           0.8070648678177837,
           0.8656929968092092,
           0.7863484139537253,
           0.723703526664318,
           0,
           0.7067521101317716,
           0.683783353012523,
           0.5121831566727503,
           0.9355040735955527,
           0.9387180570531134,
           0.336794305460134,
           0.42270821838494704,
           0.8755070689992874,
           0.6946523098971557,
           0.7303517084002098,
           0.8373412728427948,
           0.7516619694491338
          ],
          [
           0.7764185673099714,
           0.8754983260774688,
           0.7814652542341781,
           0.5544902979523252,
           0.5435540939280764,
           0.44310804797988074,
           0.8295082897434151,
           0.6625861430636405,
           0.6867754571588164,
           0.5836293776166912,
           0.8726598203454706,
           0.7067521101317716,
           0,
           0.6527278439868819,
           0.8727821708184752,
           0.7729123077769214,
           0.7769097292998638,
           0.7836135964434853,
           0.5478689421853739,
           0.7271627627259963,
           0.5794546697012939,
           0.8782844285935033,
           0.7708809473732364,
           0.6768834387769376
          ],
          [
           0.5569030479048134,
           0.6874499260970107,
           0.5616272774128042,
           0.38623647459695787,
           0.5116489679034507,
           0.7464681874249544,
           0.7235637740869089,
           0.6867480912495876,
           0.7548868959931924,
           0.8374040984280566,
           0.6845603219435605,
           0.683783353012523,
           0.6527278439868819,
           0,
           0.6832221241950694,
           0.6585304455999713,
           0.839205636503726,
           0.7742172765514838,
           0.772427587375908,
           0.6566187597223594,
           0.5520544617964548,
           0.6937379921769226,
           0.547779329426292,
           0.4060513678014797
          ],
          [
           0.6995182979185915,
           0.517099790163272,
           0.6745592533117523,
           0.6958077236130833,
           0.7458705926741663,
           0.7240542705583758,
           0.6832666047783126,
           0.623976385960732,
           0.6982507973384207,
           0.9384040780480851,
           0.5130996900504062,
           0.5121831566727503,
           0.8727821708184752,
           0.6832221241950694,
           0,
           0.7830384177736309,
           0.7884014386125502,
           0.6256780540417363,
           0.6649232370035418,
           0.7107076301633538,
           0.6956734258660485,
           0.5248636761148207,
           0.662947879138032,
           0.5515198024368266
          ],
          [
           0.3707532415292485,
           0.5972924470257585,
           0.40020141921715724,
           0.670463213337099,
           0.6523822820542002,
           0.8092117347389919,
           0.6586233131507861,
           0.6561991243142404,
           0.6307826460601502,
           0.7273288824890525,
           0.5936235233451495,
           0.9355040735955527,
           0.7729123077769214,
           0.6585304455999713,
           0.7830384177736309,
           0,
           0.5191623370562696,
           1,
           0.9225307138506138,
           0.2811153584491527,
           0.8097135532045054,
           0.6032427008756913,
           0.3799539281625591,
           0.5201690248644096
          ],
          [
           0.6432497920141477,
           0.7838841112754894,
           0.6722183705862792,
           0.8479920546721427,
           0.8346817596916325,
           0.6314795792066336,
           0.42583890377241934,
           0.40756544056786886,
           0.3648429314374475,
           0.5127900173915694,
           0.7865533831063918,
           0.9387180570531134,
           0.7769097292998638,
           0.839205636503726,
           0.7884014386125502,
           0.5191623370562696,
           0,
           0.991657339905598,
           0.7700571922161918,
           0.5981114540446927,
           0.6309584870051829,
           0.7838034477295771,
           0.6345290058568225,
           0.7332002299969282
          ],
          [
           0.9164363970094933,
           0.8095051904503455,
           0.9108645007856545,
           0.7250174173257486,
           0.6561990798565789,
           0.6108294403818759,
           0.929811220180694,
           0.8868468710287797,
           0.9395112375034186,
           0.8621211524117057,
           0.7920379624589992,
           0.336794305460134,
           0.7836135964434853,
           0.7742172765514838,
           0.6256780540417363,
           1,
           0.991657339905598,
           0,
           0.526153043432131,
           0.934052027901409,
           0.7643783398738453,
           0.7825763822345512,
           0.9117204082229812,
           0.8205731127333982
          ],
          [
           0.9244831237418297,
           0.8412140600426735,
           0.920219554040689,
           0.7766810487707729,
           0.5747562279684807,
           0.1819943322128156,
           0.7727532990235076,
           0.6564423835312088,
           0.6807450127218451,
           0.5759721609304795,
           0.8376953361798037,
           0.42270821838494704,
           0.5478689421853739,
           0.772427587375908,
           0.6649232370035418,
           0.9225307138506138,
           0.7700571922161918,
           0.526153043432131,
           0,
           0.910531135415042,
           0.5708989271801641,
           0.8419780491044698,
           0.9106930314778865,
           0.83211832620644
          ],
          [
           0.2723872830921053,
           0.5086016090620301,
           0.26703836543628556,
           0.5502087242215561,
           0.7498529752672546,
           0.8515503571137674,
           0.6568034509641579,
           0.6742752346169109,
           0.6980712244617199,
           0.7861928006435972,
           0.49330538070026503,
           0.8755070689992874,
           0.7271627627259963,
           0.6566187597223594,
           0.7107076301633538,
           0.2811153584491527,
           0.5981114540446927,
           0.934052027901409,
           0.910531135415042,
           0,
           0.7764549629336358,
           0.5137801667130966,
           0.29394735909597214,
           0.4491174688191064
          ],
          [
           0.7271588623281139,
           0.8658499100544224,
           0.744919609648389,
           0.5591031304949995,
           0.7475330053413614,
           0.5118345217941792,
           0.5524638651712582,
           0.4123736673098504,
           0.5177071687248009,
           0.6310706174867351,
           0.8625512954674673,
           0.6946523098971557,
           0.5794546697012939,
           0.5520544617964548,
           0.6956734258660485,
           0.8097135532045054,
           0.6309584870051829,
           0.7643783398738453,
           0.5708989271801641,
           0.7764549629336358,
           0,
           0.8670452972195105,
           0.7332692145929195,
           0.633189802437963
          ],
          [
           0.4937605962714834,
           0.07222329693946339,
           0.47854368151305243,
           0.6986002863653265,
           0.7561049251598602,
           0.8914883985898424,
           0.6944051922048414,
           0.8081501364045277,
           0.8664790418732401,
           0.9379418453152409,
           0.08984164171967812,
           0.7303517084002098,
           0.8782844285935033,
           0.6937379921769226,
           0.5248636761148207,
           0.6032427008756913,
           0.7838034477295771,
           0.7825763822345512,
           0.8419780491044698,
           0.5137801667130966,
           0.8670452972195105,
           0,
           0.42228343064495516,
           0.5586327915417222
          ],
          [
           0.1730665252606094,
           0.415118684342831,
           0.21801131715866578,
           0.5697203704848225,
           0.7496844863881325,
           0.8892004385852784,
           0.5479588482786724,
           0.6584887136240222,
           0.7291995914532673,
           0.8140341833653685,
           0.42204767860807063,
           0.8373412728427948,
           0.7708809473732364,
           0.547779329426292,
           0.662947879138032,
           0.3799539281625591,
           0.6345290058568225,
           0.9117204082229812,
           0.9106930314778865,
           0.29394735909597214,
           0.7332692145929195,
           0.42228343064495516,
           0,
           0.3693369440298109
          ],
          [
           0.38004765216274583,
           0.5554703364169205,
           0.39143745729187573,
           0.4183388377194721,
           0.6534587412939031,
           0.8089646714965362,
           0.6534498595883964,
           0.5554449966210624,
           0.6376091789929008,
           0.8937511931462031,
           0.5506607165849041,
           0.7516619694491338,
           0.6768834387769376,
           0.4060513678014797,
           0.5515198024368266,
           0.5201690248644096,
           0.7332002299969282,
           0.8205731127333982,
           0.83211832620644,
           0.4491174688191064,
           0.633189802437963,
           0.5586327915417222,
           0.3693369440298109,
           0
          ]
         ]
        }
       ],
       "layout": {
        "coloraxis": {
         "colorscale": [
          [
           0,
           "#000004"
          ],
          [
           0.1111111111111111,
           "#1b0c41"
          ],
          [
           0.2222222222222222,
           "#4a0c6b"
          ],
          [
           0.3333333333333333,
           "#781c6d"
          ],
          [
           0.4444444444444444,
           "#a52c60"
          ],
          [
           0.5555555555555556,
           "#cf4446"
          ],
          [
           0.6666666666666666,
           "#ed6925"
          ],
          [
           0.7777777777777778,
           "#fb9b06"
          ],
          [
           0.8888888888888888,
           "#f7d13d"
          ],
          [
           1,
           "#fcffa4"
          ]
         ]
        },
        "height": 1200,
        "template": {
         "data": {
          "bar": [
           {
            "error_x": {
             "color": "#2a3f5f"
            },
            "error_y": {
             "color": "#2a3f5f"
            },
            "marker": {
             "line": {
              "color": "#E5ECF6",
              "width": 0.5
             },
             "pattern": {
              "fillmode": "overlay",
              "size": 10,
              "solidity": 0.2
             }
            },
            "type": "bar"
           }
          ],
          "barpolar": [
           {
            "marker": {
             "line": {
              "color": "#E5ECF6",
              "width": 0.5
             },
             "pattern": {
              "fillmode": "overlay",
              "size": 10,
              "solidity": 0.2
             }
            },
            "type": "barpolar"
           }
          ],
          "carpet": [
           {
            "aaxis": {
             "endlinecolor": "#2a3f5f",
             "gridcolor": "white",
             "linecolor": "white",
             "minorgridcolor": "white",
             "startlinecolor": "#2a3f5f"
            },
            "baxis": {
             "endlinecolor": "#2a3f5f",
             "gridcolor": "white",
             "linecolor": "white",
             "minorgridcolor": "white",
             "startlinecolor": "#2a3f5f"
            },
            "type": "carpet"
           }
          ],
          "choropleth": [
           {
            "colorbar": {
             "outlinewidth": 0,
             "ticks": ""
            },
            "type": "choropleth"
           }
          ],
          "contour": [
           {
            "colorbar": {
             "outlinewidth": 0,
             "ticks": ""
            },
            "colorscale": [
             [
              0,
              "#0d0887"
             ],
             [
              0.1111111111111111,
              "#46039f"
             ],
             [
              0.2222222222222222,
              "#7201a8"
             ],
             [
              0.3333333333333333,
              "#9c179e"
             ],
             [
              0.4444444444444444,
              "#bd3786"
             ],
             [
              0.5555555555555556,
              "#d8576b"
             ],
             [
              0.6666666666666666,
              "#ed7953"
             ],
             [
              0.7777777777777778,
              "#fb9f3a"
             ],
             [
              0.8888888888888888,
              "#fdca26"
             ],
             [
              1,
              "#f0f921"
             ]
            ],
            "type": "contour"
           }
          ],
          "contourcarpet": [
           {
            "colorbar": {
             "outlinewidth": 0,
             "ticks": ""
            },
            "type": "contourcarpet"
           }
          ],
          "heatmap": [
           {
            "colorbar": {
             "outlinewidth": 0,
             "ticks": ""
            },
            "colorscale": [
             [
              0,
              "#0d0887"
             ],
             [
              0.1111111111111111,
              "#46039f"
             ],
             [
              0.2222222222222222,
              "#7201a8"
             ],
             [
              0.3333333333333333,
              "#9c179e"
             ],
             [
              0.4444444444444444,
              "#bd3786"
             ],
             [
              0.5555555555555556,
              "#d8576b"
             ],
             [
              0.6666666666666666,
              "#ed7953"
             ],
             [
              0.7777777777777778,
              "#fb9f3a"
             ],
             [
              0.8888888888888888,
              "#fdca26"
             ],
             [
              1,
              "#f0f921"
             ]
            ],
            "type": "heatmap"
           }
          ],
          "heatmapgl": [
           {
            "colorbar": {
             "outlinewidth": 0,
             "ticks": ""
            },
            "colorscale": [
             [
              0,
              "#0d0887"
             ],
             [
              0.1111111111111111,
              "#46039f"
             ],
             [
              0.2222222222222222,
              "#7201a8"
             ],
             [
              0.3333333333333333,
              "#9c179e"
             ],
             [
              0.4444444444444444,
              "#bd3786"
             ],
             [
              0.5555555555555556,
              "#d8576b"
             ],
             [
              0.6666666666666666,
              "#ed7953"
             ],
             [
              0.7777777777777778,
              "#fb9f3a"
             ],
             [
              0.8888888888888888,
              "#fdca26"
             ],
             [
              1,
              "#f0f921"
             ]
            ],
            "type": "heatmapgl"
           }
          ],
          "histogram": [
           {
            "marker": {
             "pattern": {
              "fillmode": "overlay",
              "size": 10,
              "solidity": 0.2
             }
            },
            "type": "histogram"
           }
          ],
          "histogram2d": [
           {
            "colorbar": {
             "outlinewidth": 0,
             "ticks": ""
            },
            "colorscale": [
             [
              0,
              "#0d0887"
             ],
             [
              0.1111111111111111,
              "#46039f"
             ],
             [
              0.2222222222222222,
              "#7201a8"
             ],
             [
              0.3333333333333333,
              "#9c179e"
             ],
             [
              0.4444444444444444,
              "#bd3786"
             ],
             [
              0.5555555555555556,
              "#d8576b"
             ],
             [
              0.6666666666666666,
              "#ed7953"
             ],
             [
              0.7777777777777778,
              "#fb9f3a"
             ],
             [
              0.8888888888888888,
              "#fdca26"
             ],
             [
              1,
              "#f0f921"
             ]
            ],
            "type": "histogram2d"
           }
          ],
          "histogram2dcontour": [
           {
            "colorbar": {
             "outlinewidth": 0,
             "ticks": ""
            },
            "colorscale": [
             [
              0,
              "#0d0887"
             ],
             [
              0.1111111111111111,
              "#46039f"
             ],
             [
              0.2222222222222222,
              "#7201a8"
             ],
             [
              0.3333333333333333,
              "#9c179e"
             ],
             [
              0.4444444444444444,
              "#bd3786"
             ],
             [
              0.5555555555555556,
              "#d8576b"
             ],
             [
              0.6666666666666666,
              "#ed7953"
             ],
             [
              0.7777777777777778,
              "#fb9f3a"
             ],
             [
              0.8888888888888888,
              "#fdca26"
             ],
             [
              1,
              "#f0f921"
             ]
            ],
            "type": "histogram2dcontour"
           }
          ],
          "mesh3d": [
           {
            "colorbar": {
             "outlinewidth": 0,
             "ticks": ""
            },
            "type": "mesh3d"
           }
          ],
          "parcoords": [
           {
            "line": {
             "colorbar": {
              "outlinewidth": 0,
              "ticks": ""
             }
            },
            "type": "parcoords"
           }
          ],
          "pie": [
           {
            "automargin": true,
            "type": "pie"
           }
          ],
          "scatter": [
           {
            "marker": {
             "colorbar": {
              "outlinewidth": 0,
              "ticks": ""
             }
            },
            "type": "scatter"
           }
          ],
          "scatter3d": [
           {
            "line": {
             "colorbar": {
              "outlinewidth": 0,
              "ticks": ""
             }
            },
            "marker": {
             "colorbar": {
              "outlinewidth": 0,
              "ticks": ""
             }
            },
            "type": "scatter3d"
           }
          ],
          "scattercarpet": [
           {
            "marker": {
             "colorbar": {
              "outlinewidth": 0,
              "ticks": ""
             }
            },
            "type": "scattercarpet"
           }
          ],
          "scattergeo": [
           {
            "marker": {
             "colorbar": {
              "outlinewidth": 0,
              "ticks": ""
             }
            },
            "type": "scattergeo"
           }
          ],
          "scattergl": [
           {
            "marker": {
             "colorbar": {
              "outlinewidth": 0,
              "ticks": ""
             }
            },
            "type": "scattergl"
           }
          ],
          "scattermapbox": [
           {
            "marker": {
             "colorbar": {
              "outlinewidth": 0,
              "ticks": ""
             }
            },
            "type": "scattermapbox"
           }
          ],
          "scatterpolar": [
           {
            "marker": {
             "colorbar": {
              "outlinewidth": 0,
              "ticks": ""
             }
            },
            "type": "scatterpolar"
           }
          ],
          "scatterpolargl": [
           {
            "marker": {
             "colorbar": {
              "outlinewidth": 0,
              "ticks": ""
             }
            },
            "type": "scatterpolargl"
           }
          ],
          "scatterternary": [
           {
            "marker": {
             "colorbar": {
              "outlinewidth": 0,
              "ticks": ""
             }
            },
            "type": "scatterternary"
           }
          ],
          "surface": [
           {
            "colorbar": {
             "outlinewidth": 0,
             "ticks": ""
            },
            "colorscale": [
             [
              0,
              "#0d0887"
             ],
             [
              0.1111111111111111,
              "#46039f"
             ],
             [
              0.2222222222222222,
              "#7201a8"
             ],
             [
              0.3333333333333333,
              "#9c179e"
             ],
             [
              0.4444444444444444,
              "#bd3786"
             ],
             [
              0.5555555555555556,
              "#d8576b"
             ],
             [
              0.6666666666666666,
              "#ed7953"
             ],
             [
              0.7777777777777778,
              "#fb9f3a"
             ],
             [
              0.8888888888888888,
              "#fdca26"
             ],
             [
              1,
              "#f0f921"
             ]
            ],
            "type": "surface"
           }
          ],
          "table": [
           {
            "cells": {
             "fill": {
              "color": "#EBF0F8"
             },
             "line": {
              "color": "white"
             }
            },
            "header": {
             "fill": {
              "color": "#C8D4E3"
             },
             "line": {
              "color": "white"
             }
            },
            "type": "table"
           }
          ]
         },
         "layout": {
          "annotationdefaults": {
           "arrowcolor": "#2a3f5f",
           "arrowhead": 0,
           "arrowwidth": 1
          },
          "autotypenumbers": "strict",
          "coloraxis": {
           "colorbar": {
            "outlinewidth": 0,
            "ticks": ""
           }
          },
          "colorscale": {
           "diverging": [
            [
             0,
             "#8e0152"
            ],
            [
             0.1,
             "#c51b7d"
            ],
            [
             0.2,
             "#de77ae"
            ],
            [
             0.3,
             "#f1b6da"
            ],
            [
             0.4,
             "#fde0ef"
            ],
            [
             0.5,
             "#f7f7f7"
            ],
            [
             0.6,
             "#e6f5d0"
            ],
            [
             0.7,
             "#b8e186"
            ],
            [
             0.8,
             "#7fbc41"
            ],
            [
             0.9,
             "#4d9221"
            ],
            [
             1,
             "#276419"
            ]
           ],
           "sequential": [
            [
             0,
             "#0d0887"
            ],
            [
             0.1111111111111111,
             "#46039f"
            ],
            [
             0.2222222222222222,
             "#7201a8"
            ],
            [
             0.3333333333333333,
             "#9c179e"
            ],
            [
             0.4444444444444444,
             "#bd3786"
            ],
            [
             0.5555555555555556,
             "#d8576b"
            ],
            [
             0.6666666666666666,
             "#ed7953"
            ],
            [
             0.7777777777777778,
             "#fb9f3a"
            ],
            [
             0.8888888888888888,
             "#fdca26"
            ],
            [
             1,
             "#f0f921"
            ]
           ],
           "sequentialminus": [
            [
             0,
             "#0d0887"
            ],
            [
             0.1111111111111111,
             "#46039f"
            ],
            [
             0.2222222222222222,
             "#7201a8"
            ],
            [
             0.3333333333333333,
             "#9c179e"
            ],
            [
             0.4444444444444444,
             "#bd3786"
            ],
            [
             0.5555555555555556,
             "#d8576b"
            ],
            [
             0.6666666666666666,
             "#ed7953"
            ],
            [
             0.7777777777777778,
             "#fb9f3a"
            ],
            [
             0.8888888888888888,
             "#fdca26"
            ],
            [
             1,
             "#f0f921"
            ]
           ]
          },
          "colorway": [
           "#636efa",
           "#EF553B",
           "#00cc96",
           "#ab63fa",
           "#FFA15A",
           "#19d3f3",
           "#FF6692",
           "#B6E880",
           "#FF97FF",
           "#FECB52"
          ],
          "font": {
           "color": "#2a3f5f"
          },
          "geo": {
           "bgcolor": "white",
           "lakecolor": "white",
           "landcolor": "#E5ECF6",
           "showlakes": true,
           "showland": true,
           "subunitcolor": "white"
          },
          "hoverlabel": {
           "align": "left"
          },
          "hovermode": "closest",
          "mapbox": {
           "style": "light"
          },
          "paper_bgcolor": "white",
          "plot_bgcolor": "#E5ECF6",
          "polar": {
           "angularaxis": {
            "gridcolor": "white",
            "linecolor": "white",
            "ticks": ""
           },
           "bgcolor": "#E5ECF6",
           "radialaxis": {
            "gridcolor": "white",
            "linecolor": "white",
            "ticks": ""
           }
          },
          "scene": {
           "xaxis": {
            "backgroundcolor": "#E5ECF6",
            "gridcolor": "white",
            "gridwidth": 2,
            "linecolor": "white",
            "showbackground": true,
            "ticks": "",
            "zerolinecolor": "white"
           },
           "yaxis": {
            "backgroundcolor": "#E5ECF6",
            "gridcolor": "white",
            "gridwidth": 2,
            "linecolor": "white",
            "showbackground": true,
            "ticks": "",
            "zerolinecolor": "white"
           },
           "zaxis": {
            "backgroundcolor": "#E5ECF6",
            "gridcolor": "white",
            "gridwidth": 2,
            "linecolor": "white",
            "showbackground": true,
            "ticks": "",
            "zerolinecolor": "white"
           }
          },
          "shapedefaults": {
           "line": {
            "color": "#2a3f5f"
           }
          },
          "ternary": {
           "aaxis": {
            "gridcolor": "white",
            "linecolor": "white",
            "ticks": ""
           },
           "baxis": {
            "gridcolor": "white",
            "linecolor": "white",
            "ticks": ""
           },
           "bgcolor": "#E5ECF6",
           "caxis": {
            "gridcolor": "white",
            "linecolor": "white",
            "ticks": ""
           }
          },
          "title": {
           "x": 0.05
          },
          "xaxis": {
           "automargin": true,
           "gridcolor": "white",
           "linecolor": "white",
           "ticks": "",
           "title": {
            "standoff": 15
           },
           "zerolinecolor": "white",
           "zerolinewidth": 2
          },
          "yaxis": {
           "automargin": true,
           "gridcolor": "white",
           "linecolor": "white",
           "ticks": "",
           "title": {
            "standoff": 15
           },
           "zerolinecolor": "white",
           "zerolinewidth": 2
          }
         }
        },
        "title": {
         "text": "Евклидово расстояние"
        },
        "width": 1000,
        "xaxis": {
         "anchor": "y",
         "constrain": "domain",
         "domain": [
          0,
          1
         ],
         "scaleanchor": "y",
         "side": "top"
        },
        "yaxis": {
         "anchor": "x",
         "autorange": "reversed",
         "constrain": "domain",
         "domain": [
          0,
          1
         ]
        }
       }
      }
     },
     "metadata": {},
     "output_type": "display_data"
    }
   ],
   "source": [
    "matrRes = calcDistance(getEuclideanDistance, getDataFrameStat(df))\n",
    "draw(matrRes, nameArr, \"Евклидово расстояние\")"
   ]
  },
  {
   "cell_type": "markdown",
   "metadata": {},
   "source": [
    "#### Расстояние по брендам"
   ]
  },
  {
   "cell_type": "code",
   "execution_count": 29,
   "metadata": {},
   "outputs": [
    {
     "data": {
      "application/vnd.plotly.v1+json": {
       "config": {
        "plotlyServerURL": "https://plot.ly"
       },
       "data": [
        {
         "coloraxis": "coloraxis",
         "hovertemplate": "x: %{x}<br>y: %{y}<br>color: %{z}<extra></extra>",
         "name": "0",
         "text": [
          "Shalimar",
          "3 L'Imperatrice",
          "1001 Nights",
          "Sabina",
          "Resolute Gold",
          "Oath for Him",
          "Twist",
          "CK Everyone",
          "Bad Boy",
          "Eau de Lacoste L.12.12 Blanc",
          "Ange ou Demon",
          "Samsara Eau de Parfum",
          "New Your Amber",
          "Renata",
          "Lanvin Eclat D Arpege",
          "MOSCHINO Toy Boy",
          "Cartier Declaration D Un Soir",
          "Channel №5",
          "Prada Day For Night",
          "Escentric Molecules Escentric 02",
          "The Only One",
          "Flora by Gucci Gorgeous Gardenia",
          "La Petite Robe Noire Ma Robe Cocktail",
          "La Petite Robe Noire Ma Robe Sous le Vent"
         ],
         "type": "heatmap",
         "x": [
          "Shalimar",
          "3 L'Imperatrice",
          "1001 Nights",
          "Sabina",
          "Resolute Gold",
          "Oath for Him",
          "Twist",
          "CK Everyone",
          "Bad Boy",
          "Eau de Lacoste L.12.12 Blanc",
          "Ange ou Demon",
          "Samsara Eau de Parfum",
          "New Your Amber",
          "Renata",
          "Lanvin Eclat D Arpege",
          "MOSCHINO Toy Boy",
          "Cartier Declaration D Un Soir",
          "Channel №5",
          "Prada Day For Night",
          "Escentric Molecules Escentric 02",
          "The Only One",
          "Flora by Gucci Gorgeous Gardenia",
          "La Petite Robe Noire Ma Robe Cocktail",
          "La Petite Robe Noire Ma Robe Sous le Vent"
         ],
         "xaxis": "x",
         "y": [
          "Shalimar",
          "3 L'Imperatrice",
          "1001 Nights",
          "Sabina",
          "Resolute Gold",
          "Oath for Him",
          "Twist",
          "CK Everyone",
          "Bad Boy",
          "Eau de Lacoste L.12.12 Blanc",
          "Ange ou Demon",
          "Samsara Eau de Parfum",
          "New Your Amber",
          "Renata",
          "Lanvin Eclat D Arpege",
          "MOSCHINO Toy Boy",
          "Cartier Declaration D Un Soir",
          "Channel №5",
          "Prada Day For Night",
          "Escentric Molecules Escentric 02",
          "The Only One",
          "Flora by Gucci Gorgeous Gardenia",
          "La Petite Robe Noire Ma Robe Cocktail",
          "La Petite Robe Noire Ma Robe Sous le Vent"
         ],
         "yaxis": "y",
         "z": [
          [
           0,
           1,
           1,
           1,
           1,
           1,
           1,
           1,
           1,
           1,
           0,
           0,
           1,
           1,
           1,
           1,
           1,
           1,
           1,
           1,
           1,
           0,
           0,
           0
          ],
          [
           1,
           0,
           1,
           1,
           1,
           1,
           1,
           1,
           1,
           1,
           1,
           1,
           1,
           1,
           1,
           1,
           1,
           1,
           1,
           1,
           0,
           1,
           1,
           1
          ],
          [
           1,
           1,
           0,
           0,
           1,
           0,
           1,
           1,
           1,
           1,
           1,
           1,
           1,
           1,
           1,
           1,
           1,
           1,
           1,
           1,
           1,
           1,
           1,
           1
          ],
          [
           1,
           1,
           0,
           0,
           1,
           0,
           1,
           1,
           1,
           1,
           1,
           1,
           1,
           1,
           1,
           1,
           1,
           1,
           1,
           1,
           1,
           1,
           1,
           1
          ],
          [
           1,
           1,
           1,
           1,
           0,
           1,
           1,
           1,
           1,
           1,
           1,
           1,
           1,
           1,
           1,
           1,
           1,
           1,
           1,
           1,
           1,
           1,
           1,
           1
          ],
          [
           1,
           1,
           0,
           0,
           1,
           0,
           1,
           1,
           1,
           1,
           1,
           1,
           1,
           1,
           1,
           1,
           1,
           1,
           1,
           1,
           1,
           1,
           1,
           1
          ],
          [
           1,
           1,
           1,
           1,
           1,
           1,
           0,
           1,
           1,
           1,
           1,
           1,
           1,
           1,
           1,
           1,
           1,
           1,
           1,
           0,
           1,
           1,
           1,
           1
          ],
          [
           1,
           1,
           1,
           1,
           1,
           1,
           1,
           0,
           0,
           1,
           1,
           1,
           1,
           1,
           1,
           1,
           0,
           0,
           1,
           1,
           1,
           1,
           1,
           1
          ],
          [
           1,
           1,
           1,
           1,
           1,
           1,
           1,
           0,
           0,
           1,
           1,
           1,
           1,
           1,
           1,
           1,
           0,
           0,
           1,
           1,
           1,
           1,
           1,
           1
          ],
          [
           1,
           1,
           1,
           1,
           1,
           1,
           1,
           1,
           1,
           0,
           1,
           1,
           1,
           1,
           0,
           1,
           1,
           1,
           1,
           1,
           1,
           1,
           1,
           1
          ],
          [
           0,
           1,
           1,
           1,
           1,
           1,
           1,
           1,
           1,
           1,
           0,
           0,
           1,
           1,
           1,
           1,
           1,
           1,
           1,
           1,
           1,
           0,
           0,
           0
          ],
          [
           0,
           1,
           1,
           1,
           1,
           1,
           1,
           1,
           1,
           1,
           0,
           0,
           1,
           1,
           1,
           1,
           1,
           1,
           1,
           1,
           1,
           0,
           0,
           0
          ],
          [
           1,
           1,
           1,
           1,
           1,
           1,
           1,
           1,
           1,
           1,
           1,
           1,
           0,
           1,
           1,
           1,
           1,
           1,
           1,
           1,
           1,
           1,
           1,
           1
          ],
          [
           1,
           1,
           1,
           1,
           1,
           1,
           1,
           1,
           1,
           1,
           1,
           1,
           1,
           0,
           1,
           1,
           1,
           1,
           1,
           1,
           1,
           1,
           1,
           1
          ],
          [
           1,
           1,
           1,
           1,
           1,
           1,
           1,
           1,
           1,
           0,
           1,
           1,
           1,
           1,
           0,
           1,
           1,
           1,
           1,
           1,
           1,
           1,
           1,
           1
          ],
          [
           1,
           1,
           1,
           1,
           1,
           1,
           1,
           1,
           1,
           1,
           1,
           1,
           1,
           1,
           1,
           0,
           1,
           1,
           1,
           1,
           1,
           1,
           1,
           1
          ],
          [
           1,
           1,
           1,
           1,
           1,
           1,
           1,
           0,
           0,
           1,
           1,
           1,
           1,
           1,
           1,
           1,
           0,
           0,
           1,
           1,
           1,
           1,
           1,
           1
          ],
          [
           1,
           1,
           1,
           1,
           1,
           1,
           1,
           0,
           0,
           1,
           1,
           1,
           1,
           1,
           1,
           1,
           0,
           0,
           1,
           1,
           1,
           1,
           1,
           1
          ],
          [
           1,
           1,
           1,
           1,
           1,
           1,
           1,
           1,
           1,
           1,
           1,
           1,
           1,
           1,
           1,
           1,
           1,
           1,
           0,
           1,
           1,
           1,
           1,
           1
          ],
          [
           1,
           1,
           1,
           1,
           1,
           1,
           0,
           1,
           1,
           1,
           1,
           1,
           1,
           1,
           1,
           1,
           1,
           1,
           1,
           0,
           1,
           1,
           1,
           1
          ],
          [
           1,
           0,
           1,
           1,
           1,
           1,
           1,
           1,
           1,
           1,
           1,
           1,
           1,
           1,
           1,
           1,
           1,
           1,
           1,
           1,
           0,
           1,
           1,
           1
          ],
          [
           0,
           1,
           1,
           1,
           1,
           1,
           1,
           1,
           1,
           1,
           0,
           0,
           1,
           1,
           1,
           1,
           1,
           1,
           1,
           1,
           1,
           0,
           0,
           0
          ],
          [
           0,
           1,
           1,
           1,
           1,
           1,
           1,
           1,
           1,
           1,
           0,
           0,
           1,
           1,
           1,
           1,
           1,
           1,
           1,
           1,
           1,
           0,
           0,
           0
          ],
          [
           0,
           1,
           1,
           1,
           1,
           1,
           1,
           1,
           1,
           1,
           0,
           0,
           1,
           1,
           1,
           1,
           1,
           1,
           1,
           1,
           1,
           0,
           0,
           0
          ]
         ]
        }
       ],
       "layout": {
        "coloraxis": {
         "colorscale": [
          [
           0,
           "#000004"
          ],
          [
           0.1111111111111111,
           "#1b0c41"
          ],
          [
           0.2222222222222222,
           "#4a0c6b"
          ],
          [
           0.3333333333333333,
           "#781c6d"
          ],
          [
           0.4444444444444444,
           "#a52c60"
          ],
          [
           0.5555555555555556,
           "#cf4446"
          ],
          [
           0.6666666666666666,
           "#ed6925"
          ],
          [
           0.7777777777777778,
           "#fb9b06"
          ],
          [
           0.8888888888888888,
           "#f7d13d"
          ],
          [
           1,
           "#fcffa4"
          ]
         ]
        },
        "height": 1200,
        "template": {
         "data": {
          "bar": [
           {
            "error_x": {
             "color": "#2a3f5f"
            },
            "error_y": {
             "color": "#2a3f5f"
            },
            "marker": {
             "line": {
              "color": "#E5ECF6",
              "width": 0.5
             },
             "pattern": {
              "fillmode": "overlay",
              "size": 10,
              "solidity": 0.2
             }
            },
            "type": "bar"
           }
          ],
          "barpolar": [
           {
            "marker": {
             "line": {
              "color": "#E5ECF6",
              "width": 0.5
             },
             "pattern": {
              "fillmode": "overlay",
              "size": 10,
              "solidity": 0.2
             }
            },
            "type": "barpolar"
           }
          ],
          "carpet": [
           {
            "aaxis": {
             "endlinecolor": "#2a3f5f",
             "gridcolor": "white",
             "linecolor": "white",
             "minorgridcolor": "white",
             "startlinecolor": "#2a3f5f"
            },
            "baxis": {
             "endlinecolor": "#2a3f5f",
             "gridcolor": "white",
             "linecolor": "white",
             "minorgridcolor": "white",
             "startlinecolor": "#2a3f5f"
            },
            "type": "carpet"
           }
          ],
          "choropleth": [
           {
            "colorbar": {
             "outlinewidth": 0,
             "ticks": ""
            },
            "type": "choropleth"
           }
          ],
          "contour": [
           {
            "colorbar": {
             "outlinewidth": 0,
             "ticks": ""
            },
            "colorscale": [
             [
              0,
              "#0d0887"
             ],
             [
              0.1111111111111111,
              "#46039f"
             ],
             [
              0.2222222222222222,
              "#7201a8"
             ],
             [
              0.3333333333333333,
              "#9c179e"
             ],
             [
              0.4444444444444444,
              "#bd3786"
             ],
             [
              0.5555555555555556,
              "#d8576b"
             ],
             [
              0.6666666666666666,
              "#ed7953"
             ],
             [
              0.7777777777777778,
              "#fb9f3a"
             ],
             [
              0.8888888888888888,
              "#fdca26"
             ],
             [
              1,
              "#f0f921"
             ]
            ],
            "type": "contour"
           }
          ],
          "contourcarpet": [
           {
            "colorbar": {
             "outlinewidth": 0,
             "ticks": ""
            },
            "type": "contourcarpet"
           }
          ],
          "heatmap": [
           {
            "colorbar": {
             "outlinewidth": 0,
             "ticks": ""
            },
            "colorscale": [
             [
              0,
              "#0d0887"
             ],
             [
              0.1111111111111111,
              "#46039f"
             ],
             [
              0.2222222222222222,
              "#7201a8"
             ],
             [
              0.3333333333333333,
              "#9c179e"
             ],
             [
              0.4444444444444444,
              "#bd3786"
             ],
             [
              0.5555555555555556,
              "#d8576b"
             ],
             [
              0.6666666666666666,
              "#ed7953"
             ],
             [
              0.7777777777777778,
              "#fb9f3a"
             ],
             [
              0.8888888888888888,
              "#fdca26"
             ],
             [
              1,
              "#f0f921"
             ]
            ],
            "type": "heatmap"
           }
          ],
          "heatmapgl": [
           {
            "colorbar": {
             "outlinewidth": 0,
             "ticks": ""
            },
            "colorscale": [
             [
              0,
              "#0d0887"
             ],
             [
              0.1111111111111111,
              "#46039f"
             ],
             [
              0.2222222222222222,
              "#7201a8"
             ],
             [
              0.3333333333333333,
              "#9c179e"
             ],
             [
              0.4444444444444444,
              "#bd3786"
             ],
             [
              0.5555555555555556,
              "#d8576b"
             ],
             [
              0.6666666666666666,
              "#ed7953"
             ],
             [
              0.7777777777777778,
              "#fb9f3a"
             ],
             [
              0.8888888888888888,
              "#fdca26"
             ],
             [
              1,
              "#f0f921"
             ]
            ],
            "type": "heatmapgl"
           }
          ],
          "histogram": [
           {
            "marker": {
             "pattern": {
              "fillmode": "overlay",
              "size": 10,
              "solidity": 0.2
             }
            },
            "type": "histogram"
           }
          ],
          "histogram2d": [
           {
            "colorbar": {
             "outlinewidth": 0,
             "ticks": ""
            },
            "colorscale": [
             [
              0,
              "#0d0887"
             ],
             [
              0.1111111111111111,
              "#46039f"
             ],
             [
              0.2222222222222222,
              "#7201a8"
             ],
             [
              0.3333333333333333,
              "#9c179e"
             ],
             [
              0.4444444444444444,
              "#bd3786"
             ],
             [
              0.5555555555555556,
              "#d8576b"
             ],
             [
              0.6666666666666666,
              "#ed7953"
             ],
             [
              0.7777777777777778,
              "#fb9f3a"
             ],
             [
              0.8888888888888888,
              "#fdca26"
             ],
             [
              1,
              "#f0f921"
             ]
            ],
            "type": "histogram2d"
           }
          ],
          "histogram2dcontour": [
           {
            "colorbar": {
             "outlinewidth": 0,
             "ticks": ""
            },
            "colorscale": [
             [
              0,
              "#0d0887"
             ],
             [
              0.1111111111111111,
              "#46039f"
             ],
             [
              0.2222222222222222,
              "#7201a8"
             ],
             [
              0.3333333333333333,
              "#9c179e"
             ],
             [
              0.4444444444444444,
              "#bd3786"
             ],
             [
              0.5555555555555556,
              "#d8576b"
             ],
             [
              0.6666666666666666,
              "#ed7953"
             ],
             [
              0.7777777777777778,
              "#fb9f3a"
             ],
             [
              0.8888888888888888,
              "#fdca26"
             ],
             [
              1,
              "#f0f921"
             ]
            ],
            "type": "histogram2dcontour"
           }
          ],
          "mesh3d": [
           {
            "colorbar": {
             "outlinewidth": 0,
             "ticks": ""
            },
            "type": "mesh3d"
           }
          ],
          "parcoords": [
           {
            "line": {
             "colorbar": {
              "outlinewidth": 0,
              "ticks": ""
             }
            },
            "type": "parcoords"
           }
          ],
          "pie": [
           {
            "automargin": true,
            "type": "pie"
           }
          ],
          "scatter": [
           {
            "marker": {
             "colorbar": {
              "outlinewidth": 0,
              "ticks": ""
             }
            },
            "type": "scatter"
           }
          ],
          "scatter3d": [
           {
            "line": {
             "colorbar": {
              "outlinewidth": 0,
              "ticks": ""
             }
            },
            "marker": {
             "colorbar": {
              "outlinewidth": 0,
              "ticks": ""
             }
            },
            "type": "scatter3d"
           }
          ],
          "scattercarpet": [
           {
            "marker": {
             "colorbar": {
              "outlinewidth": 0,
              "ticks": ""
             }
            },
            "type": "scattercarpet"
           }
          ],
          "scattergeo": [
           {
            "marker": {
             "colorbar": {
              "outlinewidth": 0,
              "ticks": ""
             }
            },
            "type": "scattergeo"
           }
          ],
          "scattergl": [
           {
            "marker": {
             "colorbar": {
              "outlinewidth": 0,
              "ticks": ""
             }
            },
            "type": "scattergl"
           }
          ],
          "scattermapbox": [
           {
            "marker": {
             "colorbar": {
              "outlinewidth": 0,
              "ticks": ""
             }
            },
            "type": "scattermapbox"
           }
          ],
          "scatterpolar": [
           {
            "marker": {
             "colorbar": {
              "outlinewidth": 0,
              "ticks": ""
             }
            },
            "type": "scatterpolar"
           }
          ],
          "scatterpolargl": [
           {
            "marker": {
             "colorbar": {
              "outlinewidth": 0,
              "ticks": ""
             }
            },
            "type": "scatterpolargl"
           }
          ],
          "scatterternary": [
           {
            "marker": {
             "colorbar": {
              "outlinewidth": 0,
              "ticks": ""
             }
            },
            "type": "scatterternary"
           }
          ],
          "surface": [
           {
            "colorbar": {
             "outlinewidth": 0,
             "ticks": ""
            },
            "colorscale": [
             [
              0,
              "#0d0887"
             ],
             [
              0.1111111111111111,
              "#46039f"
             ],
             [
              0.2222222222222222,
              "#7201a8"
             ],
             [
              0.3333333333333333,
              "#9c179e"
             ],
             [
              0.4444444444444444,
              "#bd3786"
             ],
             [
              0.5555555555555556,
              "#d8576b"
             ],
             [
              0.6666666666666666,
              "#ed7953"
             ],
             [
              0.7777777777777778,
              "#fb9f3a"
             ],
             [
              0.8888888888888888,
              "#fdca26"
             ],
             [
              1,
              "#f0f921"
             ]
            ],
            "type": "surface"
           }
          ],
          "table": [
           {
            "cells": {
             "fill": {
              "color": "#EBF0F8"
             },
             "line": {
              "color": "white"
             }
            },
            "header": {
             "fill": {
              "color": "#C8D4E3"
             },
             "line": {
              "color": "white"
             }
            },
            "type": "table"
           }
          ]
         },
         "layout": {
          "annotationdefaults": {
           "arrowcolor": "#2a3f5f",
           "arrowhead": 0,
           "arrowwidth": 1
          },
          "autotypenumbers": "strict",
          "coloraxis": {
           "colorbar": {
            "outlinewidth": 0,
            "ticks": ""
           }
          },
          "colorscale": {
           "diverging": [
            [
             0,
             "#8e0152"
            ],
            [
             0.1,
             "#c51b7d"
            ],
            [
             0.2,
             "#de77ae"
            ],
            [
             0.3,
             "#f1b6da"
            ],
            [
             0.4,
             "#fde0ef"
            ],
            [
             0.5,
             "#f7f7f7"
            ],
            [
             0.6,
             "#e6f5d0"
            ],
            [
             0.7,
             "#b8e186"
            ],
            [
             0.8,
             "#7fbc41"
            ],
            [
             0.9,
             "#4d9221"
            ],
            [
             1,
             "#276419"
            ]
           ],
           "sequential": [
            [
             0,
             "#0d0887"
            ],
            [
             0.1111111111111111,
             "#46039f"
            ],
            [
             0.2222222222222222,
             "#7201a8"
            ],
            [
             0.3333333333333333,
             "#9c179e"
            ],
            [
             0.4444444444444444,
             "#bd3786"
            ],
            [
             0.5555555555555556,
             "#d8576b"
            ],
            [
             0.6666666666666666,
             "#ed7953"
            ],
            [
             0.7777777777777778,
             "#fb9f3a"
            ],
            [
             0.8888888888888888,
             "#fdca26"
            ],
            [
             1,
             "#f0f921"
            ]
           ],
           "sequentialminus": [
            [
             0,
             "#0d0887"
            ],
            [
             0.1111111111111111,
             "#46039f"
            ],
            [
             0.2222222222222222,
             "#7201a8"
            ],
            [
             0.3333333333333333,
             "#9c179e"
            ],
            [
             0.4444444444444444,
             "#bd3786"
            ],
            [
             0.5555555555555556,
             "#d8576b"
            ],
            [
             0.6666666666666666,
             "#ed7953"
            ],
            [
             0.7777777777777778,
             "#fb9f3a"
            ],
            [
             0.8888888888888888,
             "#fdca26"
            ],
            [
             1,
             "#f0f921"
            ]
           ]
          },
          "colorway": [
           "#636efa",
           "#EF553B",
           "#00cc96",
           "#ab63fa",
           "#FFA15A",
           "#19d3f3",
           "#FF6692",
           "#B6E880",
           "#FF97FF",
           "#FECB52"
          ],
          "font": {
           "color": "#2a3f5f"
          },
          "geo": {
           "bgcolor": "white",
           "lakecolor": "white",
           "landcolor": "#E5ECF6",
           "showlakes": true,
           "showland": true,
           "subunitcolor": "white"
          },
          "hoverlabel": {
           "align": "left"
          },
          "hovermode": "closest",
          "mapbox": {
           "style": "light"
          },
          "paper_bgcolor": "white",
          "plot_bgcolor": "#E5ECF6",
          "polar": {
           "angularaxis": {
            "gridcolor": "white",
            "linecolor": "white",
            "ticks": ""
           },
           "bgcolor": "#E5ECF6",
           "radialaxis": {
            "gridcolor": "white",
            "linecolor": "white",
            "ticks": ""
           }
          },
          "scene": {
           "xaxis": {
            "backgroundcolor": "#E5ECF6",
            "gridcolor": "white",
            "gridwidth": 2,
            "linecolor": "white",
            "showbackground": true,
            "ticks": "",
            "zerolinecolor": "white"
           },
           "yaxis": {
            "backgroundcolor": "#E5ECF6",
            "gridcolor": "white",
            "gridwidth": 2,
            "linecolor": "white",
            "showbackground": true,
            "ticks": "",
            "zerolinecolor": "white"
           },
           "zaxis": {
            "backgroundcolor": "#E5ECF6",
            "gridcolor": "white",
            "gridwidth": 2,
            "linecolor": "white",
            "showbackground": true,
            "ticks": "",
            "zerolinecolor": "white"
           }
          },
          "shapedefaults": {
           "line": {
            "color": "#2a3f5f"
           }
          },
          "ternary": {
           "aaxis": {
            "gridcolor": "white",
            "linecolor": "white",
            "ticks": ""
           },
           "baxis": {
            "gridcolor": "white",
            "linecolor": "white",
            "ticks": ""
           },
           "bgcolor": "#E5ECF6",
           "caxis": {
            "gridcolor": "white",
            "linecolor": "white",
            "ticks": ""
           }
          },
          "title": {
           "x": 0.05
          },
          "xaxis": {
           "automargin": true,
           "gridcolor": "white",
           "linecolor": "white",
           "ticks": "",
           "title": {
            "standoff": 15
           },
           "zerolinecolor": "white",
           "zerolinewidth": 2
          },
          "yaxis": {
           "automargin": true,
           "gridcolor": "white",
           "linecolor": "white",
           "ticks": "",
           "title": {
            "standoff": 15
           },
           "zerolinecolor": "white",
           "zerolinewidth": 2
          }
         }
        },
        "title": {
         "text": "Расстояние по брендам"
        },
        "width": 1000,
        "xaxis": {
         "anchor": "y",
         "constrain": "domain",
         "domain": [
          0,
          1
         ],
         "scaleanchor": "y",
         "side": "top"
        },
        "yaxis": {
         "anchor": "x",
         "autorange": "reversed",
         "constrain": "domain",
         "domain": [
          0,
          1
         ]
        }
       }
      }
     },
     "metadata": {},
     "output_type": "display_data"
    }
   ],
   "source": [
    "matrRes = calcDistance(getBrandDistance, df[\"бренд\"])\n",
    "draw(matrRes, nameArr, \"Расстояние по брендам\")"
   ]
  },
  {
   "cell_type": "markdown",
   "metadata": {},
   "source": [
    "#### Расстояние по парфюмерным школам"
   ]
  },
  {
   "cell_type": "code",
   "execution_count": 30,
   "metadata": {},
   "outputs": [
    {
     "data": {
      "application/vnd.plotly.v1+json": {
       "config": {
        "plotlyServerURL": "https://plot.ly"
       },
       "data": [
        {
         "coloraxis": "coloraxis",
         "hovertemplate": "x: %{x}<br>y: %{y}<br>color: %{z}<extra></extra>",
         "name": "0",
         "text": [
          "Shalimar",
          "3 L'Imperatrice",
          "1001 Nights",
          "Sabina",
          "Resolute Gold",
          "Oath for Him",
          "Twist",
          "CK Everyone",
          "Bad Boy",
          "Eau de Lacoste L.12.12 Blanc",
          "Ange ou Demon",
          "Samsara Eau de Parfum",
          "New Your Amber",
          "Renata",
          "Lanvin Eclat D Arpege",
          "MOSCHINO Toy Boy",
          "Cartier Declaration D Un Soir",
          "Channel №5",
          "Prada Day For Night",
          "Escentric Molecules Escentric 02",
          "The Only One",
          "Flora by Gucci Gorgeous Gardenia",
          "La Petite Robe Noire Ma Robe Cocktail",
          "La Petite Robe Noire Ma Robe Sous le Vent"
         ],
         "type": "heatmap",
         "x": [
          "Shalimar",
          "3 L'Imperatrice",
          "1001 Nights",
          "Sabina",
          "Resolute Gold",
          "Oath for Him",
          "Twist",
          "CK Everyone",
          "Bad Boy",
          "Eau de Lacoste L.12.12 Blanc",
          "Ange ou Demon",
          "Samsara Eau de Parfum",
          "New Your Amber",
          "Renata",
          "Lanvin Eclat D Arpege",
          "MOSCHINO Toy Boy",
          "Cartier Declaration D Un Soir",
          "Channel №5",
          "Prada Day For Night",
          "Escentric Molecules Escentric 02",
          "The Only One",
          "Flora by Gucci Gorgeous Gardenia",
          "La Petite Robe Noire Ma Robe Cocktail",
          "La Petite Robe Noire Ma Robe Sous le Vent"
         ],
         "xaxis": "x",
         "y": [
          "Shalimar",
          "3 L'Imperatrice",
          "1001 Nights",
          "Sabina",
          "Resolute Gold",
          "Oath for Him",
          "Twist",
          "CK Everyone",
          "Bad Boy",
          "Eau de Lacoste L.12.12 Blanc",
          "Ange ou Demon",
          "Samsara Eau de Parfum",
          "New Your Amber",
          "Renata",
          "Lanvin Eclat D Arpege",
          "MOSCHINO Toy Boy",
          "Cartier Declaration D Un Soir",
          "Channel №5",
          "Prada Day For Night",
          "Escentric Molecules Escentric 02",
          "The Only One",
          "Flora by Gucci Gorgeous Gardenia",
          "La Petite Robe Noire Ma Robe Cocktail",
          "La Petite Robe Noire Ma Robe Sous le Vent"
         ],
         "yaxis": "y",
         "z": [
          [
           0,
           0.5,
           0.9,
           0.9,
           0.9,
           0.9,
           0.9,
           0.9,
           0.9,
           0,
           0,
           0,
           0.9,
           0.8,
           0,
           0.5,
           0,
           0,
           0.5,
           1,
           0.5,
           0.5,
           0,
           0
          ],
          [
           0.5,
           0,
           0.8,
           0.8,
           0.8,
           0.8,
           0.8,
           0.5,
           0.5,
           0.5,
           0.5,
           0.5,
           0.5,
           0.9,
           0.5,
           0,
           0.5,
           0.5,
           0,
           1,
           0,
           0,
           0.5,
           0.5
          ],
          [
           0.9,
           0.8,
           0,
           0,
           0,
           0,
           0,
           0.9,
           0.9,
           0.9,
           0.9,
           0.9,
           0.9,
           0.8,
           0.9,
           0.8,
           0.9,
           0.9,
           0.8,
           1,
           0.8,
           0.8,
           0.9,
           0.9
          ],
          [
           0.9,
           0.8,
           0,
           0,
           0,
           0,
           0,
           0.9,
           0.9,
           0.9,
           0.9,
           0.9,
           0.9,
           0.8,
           0.9,
           0.8,
           0.9,
           0.9,
           0.8,
           1,
           0.8,
           0.8,
           0.9,
           0.9
          ],
          [
           0.9,
           0.8,
           0,
           0,
           0,
           0,
           0,
           0.9,
           0.9,
           0.9,
           0.9,
           0.9,
           0.9,
           0.8,
           0.9,
           0.8,
           0.9,
           0.9,
           0.8,
           1,
           0.8,
           0.8,
           0.9,
           0.9
          ],
          [
           0.9,
           0.8,
           0,
           0,
           0,
           0,
           0,
           0.9,
           0.9,
           0.9,
           0.9,
           0.9,
           0.9,
           0.8,
           0.9,
           0.8,
           0.9,
           0.9,
           0.8,
           1,
           0.8,
           0.8,
           0.9,
           0.9
          ],
          [
           0.9,
           0.8,
           0,
           0,
           0,
           0,
           0,
           0.9,
           0.9,
           0.9,
           0.9,
           0.9,
           0.9,
           0.8,
           0.9,
           0.8,
           0.9,
           0.9,
           0.8,
           1,
           0.8,
           0.8,
           0.9,
           0.9
          ],
          [
           0.9,
           0.5,
           0.9,
           0.9,
           0.9,
           0.9,
           0.9,
           0,
           0,
           0.9,
           0.9,
           0.9,
           0,
           0.7,
           0.9,
           0.5,
           0.9,
           0.9,
           0.5,
           1,
           0.5,
           0.5,
           0.9,
           0.9
          ],
          [
           0.9,
           0.5,
           0.9,
           0.9,
           0.9,
           0.9,
           0.9,
           0,
           0,
           0.9,
           0.9,
           0.9,
           0,
           0.7,
           0.9,
           0.5,
           0.9,
           0.9,
           0.5,
           1,
           0.5,
           0.5,
           0.9,
           0.9
          ],
          [
           0,
           0.5,
           0.9,
           0.9,
           0.9,
           0.9,
           0.9,
           0.9,
           0.9,
           0,
           0,
           0,
           0.9,
           0.8,
           0,
           0.5,
           0,
           0,
           0.5,
           1,
           0.5,
           0.5,
           0,
           0
          ],
          [
           0,
           0.5,
           0.9,
           0.9,
           0.9,
           0.9,
           0.9,
           0.9,
           0.9,
           0,
           0,
           0,
           0.9,
           0.8,
           0,
           0.5,
           0,
           0,
           0.5,
           1,
           0.5,
           0.5,
           0,
           0
          ],
          [
           0,
           0.5,
           0.9,
           0.9,
           0.9,
           0.9,
           0.9,
           0.9,
           0.9,
           0,
           0,
           0,
           0.9,
           0.8,
           0,
           0.5,
           0,
           0,
           0.5,
           1,
           0.5,
           0.5,
           0,
           0
          ],
          [
           0.9,
           0.5,
           0.9,
           0.9,
           0.9,
           0.9,
           0.9,
           0,
           0,
           0.9,
           0.9,
           0.9,
           0,
           0.7,
           0.9,
           0.5,
           0.9,
           0.9,
           0.5,
           1,
           0.5,
           0.5,
           0.9,
           0.9
          ],
          [
           0.8,
           0.9,
           0.8,
           0.8,
           0.8,
           0.8,
           0.8,
           0.7,
           0.7,
           0.8,
           0.8,
           0.8,
           0.7,
           0,
           0.8,
           0.9,
           0.8,
           0.8,
           0.9,
           1,
           0.9,
           0.9,
           0.8,
           0.8
          ],
          [
           0,
           0.5,
           0.9,
           0.9,
           0.9,
           0.9,
           0.9,
           0.9,
           0.9,
           0,
           0,
           0,
           0.9,
           0.8,
           0,
           0.5,
           0,
           0,
           0.5,
           1,
           0.5,
           0.5,
           0,
           0
          ],
          [
           0.5,
           0,
           0.8,
           0.8,
           0.8,
           0.8,
           0.8,
           0.5,
           0.5,
           0.5,
           0.5,
           0.5,
           0.5,
           0.9,
           0.5,
           0,
           0.5,
           0.5,
           0,
           1,
           0,
           0,
           0.5,
           0.5
          ],
          [
           0,
           0.5,
           0.9,
           0.9,
           0.9,
           0.9,
           0.9,
           0.9,
           0.9,
           0,
           0,
           0,
           0.9,
           0.8,
           0,
           0.5,
           0,
           0,
           0.5,
           1,
           0.5,
           0.5,
           0,
           0
          ],
          [
           0,
           0.5,
           0.9,
           0.9,
           0.9,
           0.9,
           0.9,
           0.9,
           0.9,
           0,
           0,
           0,
           0.9,
           0.8,
           0,
           0.5,
           0,
           0,
           0.5,
           1,
           0.5,
           0.5,
           0,
           0
          ],
          [
           0.5,
           0,
           0.8,
           0.8,
           0.8,
           0.8,
           0.8,
           0.5,
           0.5,
           0.5,
           0.5,
           0.5,
           0.5,
           0.9,
           0.5,
           0,
           0.5,
           0.5,
           0,
           1,
           0,
           0,
           0.5,
           0.5
          ],
          [
           1,
           1,
           1,
           1,
           1,
           1,
           1,
           1,
           1,
           1,
           1,
           1,
           1,
           1,
           1,
           1,
           1,
           1,
           1,
           0,
           1,
           1,
           1,
           1
          ],
          [
           0.5,
           0,
           0.8,
           0.8,
           0.8,
           0.8,
           0.8,
           0.5,
           0.5,
           0.5,
           0.5,
           0.5,
           0.5,
           0.9,
           0.5,
           0,
           0.5,
           0.5,
           0,
           1,
           0,
           0,
           0.5,
           0.5
          ],
          [
           0.5,
           0,
           0.8,
           0.8,
           0.8,
           0.8,
           0.8,
           0.5,
           0.5,
           0.5,
           0.5,
           0.5,
           0.5,
           0.9,
           0.5,
           0,
           0.5,
           0.5,
           0,
           1,
           0,
           0,
           0.5,
           0.5
          ],
          [
           0,
           0.5,
           0.9,
           0.9,
           0.9,
           0.9,
           0.9,
           0.9,
           0.9,
           0,
           0,
           0,
           0.9,
           0.8,
           0,
           0.5,
           0,
           0,
           0.5,
           1,
           0.5,
           0.5,
           0,
           0
          ],
          [
           0,
           0.5,
           0.9,
           0.9,
           0.9,
           0.9,
           0.9,
           0.9,
           0.9,
           0,
           0,
           0,
           0.9,
           0.8,
           0,
           0.5,
           0,
           0,
           0.5,
           1,
           0.5,
           0.5,
           0,
           0
          ]
         ]
        }
       ],
       "layout": {
        "coloraxis": {
         "colorscale": [
          [
           0,
           "#000004"
          ],
          [
           0.1111111111111111,
           "#1b0c41"
          ],
          [
           0.2222222222222222,
           "#4a0c6b"
          ],
          [
           0.3333333333333333,
           "#781c6d"
          ],
          [
           0.4444444444444444,
           "#a52c60"
          ],
          [
           0.5555555555555556,
           "#cf4446"
          ],
          [
           0.6666666666666666,
           "#ed6925"
          ],
          [
           0.7777777777777778,
           "#fb9b06"
          ],
          [
           0.8888888888888888,
           "#f7d13d"
          ],
          [
           1,
           "#fcffa4"
          ]
         ]
        },
        "height": 1200,
        "template": {
         "data": {
          "bar": [
           {
            "error_x": {
             "color": "#2a3f5f"
            },
            "error_y": {
             "color": "#2a3f5f"
            },
            "marker": {
             "line": {
              "color": "#E5ECF6",
              "width": 0.5
             },
             "pattern": {
              "fillmode": "overlay",
              "size": 10,
              "solidity": 0.2
             }
            },
            "type": "bar"
           }
          ],
          "barpolar": [
           {
            "marker": {
             "line": {
              "color": "#E5ECF6",
              "width": 0.5
             },
             "pattern": {
              "fillmode": "overlay",
              "size": 10,
              "solidity": 0.2
             }
            },
            "type": "barpolar"
           }
          ],
          "carpet": [
           {
            "aaxis": {
             "endlinecolor": "#2a3f5f",
             "gridcolor": "white",
             "linecolor": "white",
             "minorgridcolor": "white",
             "startlinecolor": "#2a3f5f"
            },
            "baxis": {
             "endlinecolor": "#2a3f5f",
             "gridcolor": "white",
             "linecolor": "white",
             "minorgridcolor": "white",
             "startlinecolor": "#2a3f5f"
            },
            "type": "carpet"
           }
          ],
          "choropleth": [
           {
            "colorbar": {
             "outlinewidth": 0,
             "ticks": ""
            },
            "type": "choropleth"
           }
          ],
          "contour": [
           {
            "colorbar": {
             "outlinewidth": 0,
             "ticks": ""
            },
            "colorscale": [
             [
              0,
              "#0d0887"
             ],
             [
              0.1111111111111111,
              "#46039f"
             ],
             [
              0.2222222222222222,
              "#7201a8"
             ],
             [
              0.3333333333333333,
              "#9c179e"
             ],
             [
              0.4444444444444444,
              "#bd3786"
             ],
             [
              0.5555555555555556,
              "#d8576b"
             ],
             [
              0.6666666666666666,
              "#ed7953"
             ],
             [
              0.7777777777777778,
              "#fb9f3a"
             ],
             [
              0.8888888888888888,
              "#fdca26"
             ],
             [
              1,
              "#f0f921"
             ]
            ],
            "type": "contour"
           }
          ],
          "contourcarpet": [
           {
            "colorbar": {
             "outlinewidth": 0,
             "ticks": ""
            },
            "type": "contourcarpet"
           }
          ],
          "heatmap": [
           {
            "colorbar": {
             "outlinewidth": 0,
             "ticks": ""
            },
            "colorscale": [
             [
              0,
              "#0d0887"
             ],
             [
              0.1111111111111111,
              "#46039f"
             ],
             [
              0.2222222222222222,
              "#7201a8"
             ],
             [
              0.3333333333333333,
              "#9c179e"
             ],
             [
              0.4444444444444444,
              "#bd3786"
             ],
             [
              0.5555555555555556,
              "#d8576b"
             ],
             [
              0.6666666666666666,
              "#ed7953"
             ],
             [
              0.7777777777777778,
              "#fb9f3a"
             ],
             [
              0.8888888888888888,
              "#fdca26"
             ],
             [
              1,
              "#f0f921"
             ]
            ],
            "type": "heatmap"
           }
          ],
          "heatmapgl": [
           {
            "colorbar": {
             "outlinewidth": 0,
             "ticks": ""
            },
            "colorscale": [
             [
              0,
              "#0d0887"
             ],
             [
              0.1111111111111111,
              "#46039f"
             ],
             [
              0.2222222222222222,
              "#7201a8"
             ],
             [
              0.3333333333333333,
              "#9c179e"
             ],
             [
              0.4444444444444444,
              "#bd3786"
             ],
             [
              0.5555555555555556,
              "#d8576b"
             ],
             [
              0.6666666666666666,
              "#ed7953"
             ],
             [
              0.7777777777777778,
              "#fb9f3a"
             ],
             [
              0.8888888888888888,
              "#fdca26"
             ],
             [
              1,
              "#f0f921"
             ]
            ],
            "type": "heatmapgl"
           }
          ],
          "histogram": [
           {
            "marker": {
             "pattern": {
              "fillmode": "overlay",
              "size": 10,
              "solidity": 0.2
             }
            },
            "type": "histogram"
           }
          ],
          "histogram2d": [
           {
            "colorbar": {
             "outlinewidth": 0,
             "ticks": ""
            },
            "colorscale": [
             [
              0,
              "#0d0887"
             ],
             [
              0.1111111111111111,
              "#46039f"
             ],
             [
              0.2222222222222222,
              "#7201a8"
             ],
             [
              0.3333333333333333,
              "#9c179e"
             ],
             [
              0.4444444444444444,
              "#bd3786"
             ],
             [
              0.5555555555555556,
              "#d8576b"
             ],
             [
              0.6666666666666666,
              "#ed7953"
             ],
             [
              0.7777777777777778,
              "#fb9f3a"
             ],
             [
              0.8888888888888888,
              "#fdca26"
             ],
             [
              1,
              "#f0f921"
             ]
            ],
            "type": "histogram2d"
           }
          ],
          "histogram2dcontour": [
           {
            "colorbar": {
             "outlinewidth": 0,
             "ticks": ""
            },
            "colorscale": [
             [
              0,
              "#0d0887"
             ],
             [
              0.1111111111111111,
              "#46039f"
             ],
             [
              0.2222222222222222,
              "#7201a8"
             ],
             [
              0.3333333333333333,
              "#9c179e"
             ],
             [
              0.4444444444444444,
              "#bd3786"
             ],
             [
              0.5555555555555556,
              "#d8576b"
             ],
             [
              0.6666666666666666,
              "#ed7953"
             ],
             [
              0.7777777777777778,
              "#fb9f3a"
             ],
             [
              0.8888888888888888,
              "#fdca26"
             ],
             [
              1,
              "#f0f921"
             ]
            ],
            "type": "histogram2dcontour"
           }
          ],
          "mesh3d": [
           {
            "colorbar": {
             "outlinewidth": 0,
             "ticks": ""
            },
            "type": "mesh3d"
           }
          ],
          "parcoords": [
           {
            "line": {
             "colorbar": {
              "outlinewidth": 0,
              "ticks": ""
             }
            },
            "type": "parcoords"
           }
          ],
          "pie": [
           {
            "automargin": true,
            "type": "pie"
           }
          ],
          "scatter": [
           {
            "marker": {
             "colorbar": {
              "outlinewidth": 0,
              "ticks": ""
             }
            },
            "type": "scatter"
           }
          ],
          "scatter3d": [
           {
            "line": {
             "colorbar": {
              "outlinewidth": 0,
              "ticks": ""
             }
            },
            "marker": {
             "colorbar": {
              "outlinewidth": 0,
              "ticks": ""
             }
            },
            "type": "scatter3d"
           }
          ],
          "scattercarpet": [
           {
            "marker": {
             "colorbar": {
              "outlinewidth": 0,
              "ticks": ""
             }
            },
            "type": "scattercarpet"
           }
          ],
          "scattergeo": [
           {
            "marker": {
             "colorbar": {
              "outlinewidth": 0,
              "ticks": ""
             }
            },
            "type": "scattergeo"
           }
          ],
          "scattergl": [
           {
            "marker": {
             "colorbar": {
              "outlinewidth": 0,
              "ticks": ""
             }
            },
            "type": "scattergl"
           }
          ],
          "scattermapbox": [
           {
            "marker": {
             "colorbar": {
              "outlinewidth": 0,
              "ticks": ""
             }
            },
            "type": "scattermapbox"
           }
          ],
          "scatterpolar": [
           {
            "marker": {
             "colorbar": {
              "outlinewidth": 0,
              "ticks": ""
             }
            },
            "type": "scatterpolar"
           }
          ],
          "scatterpolargl": [
           {
            "marker": {
             "colorbar": {
              "outlinewidth": 0,
              "ticks": ""
             }
            },
            "type": "scatterpolargl"
           }
          ],
          "scatterternary": [
           {
            "marker": {
             "colorbar": {
              "outlinewidth": 0,
              "ticks": ""
             }
            },
            "type": "scatterternary"
           }
          ],
          "surface": [
           {
            "colorbar": {
             "outlinewidth": 0,
             "ticks": ""
            },
            "colorscale": [
             [
              0,
              "#0d0887"
             ],
             [
              0.1111111111111111,
              "#46039f"
             ],
             [
              0.2222222222222222,
              "#7201a8"
             ],
             [
              0.3333333333333333,
              "#9c179e"
             ],
             [
              0.4444444444444444,
              "#bd3786"
             ],
             [
              0.5555555555555556,
              "#d8576b"
             ],
             [
              0.6666666666666666,
              "#ed7953"
             ],
             [
              0.7777777777777778,
              "#fb9f3a"
             ],
             [
              0.8888888888888888,
              "#fdca26"
             ],
             [
              1,
              "#f0f921"
             ]
            ],
            "type": "surface"
           }
          ],
          "table": [
           {
            "cells": {
             "fill": {
              "color": "#EBF0F8"
             },
             "line": {
              "color": "white"
             }
            },
            "header": {
             "fill": {
              "color": "#C8D4E3"
             },
             "line": {
              "color": "white"
             }
            },
            "type": "table"
           }
          ]
         },
         "layout": {
          "annotationdefaults": {
           "arrowcolor": "#2a3f5f",
           "arrowhead": 0,
           "arrowwidth": 1
          },
          "autotypenumbers": "strict",
          "coloraxis": {
           "colorbar": {
            "outlinewidth": 0,
            "ticks": ""
           }
          },
          "colorscale": {
           "diverging": [
            [
             0,
             "#8e0152"
            ],
            [
             0.1,
             "#c51b7d"
            ],
            [
             0.2,
             "#de77ae"
            ],
            [
             0.3,
             "#f1b6da"
            ],
            [
             0.4,
             "#fde0ef"
            ],
            [
             0.5,
             "#f7f7f7"
            ],
            [
             0.6,
             "#e6f5d0"
            ],
            [
             0.7,
             "#b8e186"
            ],
            [
             0.8,
             "#7fbc41"
            ],
            [
             0.9,
             "#4d9221"
            ],
            [
             1,
             "#276419"
            ]
           ],
           "sequential": [
            [
             0,
             "#0d0887"
            ],
            [
             0.1111111111111111,
             "#46039f"
            ],
            [
             0.2222222222222222,
             "#7201a8"
            ],
            [
             0.3333333333333333,
             "#9c179e"
            ],
            [
             0.4444444444444444,
             "#bd3786"
            ],
            [
             0.5555555555555556,
             "#d8576b"
            ],
            [
             0.6666666666666666,
             "#ed7953"
            ],
            [
             0.7777777777777778,
             "#fb9f3a"
            ],
            [
             0.8888888888888888,
             "#fdca26"
            ],
            [
             1,
             "#f0f921"
            ]
           ],
           "sequentialminus": [
            [
             0,
             "#0d0887"
            ],
            [
             0.1111111111111111,
             "#46039f"
            ],
            [
             0.2222222222222222,
             "#7201a8"
            ],
            [
             0.3333333333333333,
             "#9c179e"
            ],
            [
             0.4444444444444444,
             "#bd3786"
            ],
            [
             0.5555555555555556,
             "#d8576b"
            ],
            [
             0.6666666666666666,
             "#ed7953"
            ],
            [
             0.7777777777777778,
             "#fb9f3a"
            ],
            [
             0.8888888888888888,
             "#fdca26"
            ],
            [
             1,
             "#f0f921"
            ]
           ]
          },
          "colorway": [
           "#636efa",
           "#EF553B",
           "#00cc96",
           "#ab63fa",
           "#FFA15A",
           "#19d3f3",
           "#FF6692",
           "#B6E880",
           "#FF97FF",
           "#FECB52"
          ],
          "font": {
           "color": "#2a3f5f"
          },
          "geo": {
           "bgcolor": "white",
           "lakecolor": "white",
           "landcolor": "#E5ECF6",
           "showlakes": true,
           "showland": true,
           "subunitcolor": "white"
          },
          "hoverlabel": {
           "align": "left"
          },
          "hovermode": "closest",
          "mapbox": {
           "style": "light"
          },
          "paper_bgcolor": "white",
          "plot_bgcolor": "#E5ECF6",
          "polar": {
           "angularaxis": {
            "gridcolor": "white",
            "linecolor": "white",
            "ticks": ""
           },
           "bgcolor": "#E5ECF6",
           "radialaxis": {
            "gridcolor": "white",
            "linecolor": "white",
            "ticks": ""
           }
          },
          "scene": {
           "xaxis": {
            "backgroundcolor": "#E5ECF6",
            "gridcolor": "white",
            "gridwidth": 2,
            "linecolor": "white",
            "showbackground": true,
            "ticks": "",
            "zerolinecolor": "white"
           },
           "yaxis": {
            "backgroundcolor": "#E5ECF6",
            "gridcolor": "white",
            "gridwidth": 2,
            "linecolor": "white",
            "showbackground": true,
            "ticks": "",
            "zerolinecolor": "white"
           },
           "zaxis": {
            "backgroundcolor": "#E5ECF6",
            "gridcolor": "white",
            "gridwidth": 2,
            "linecolor": "white",
            "showbackground": true,
            "ticks": "",
            "zerolinecolor": "white"
           }
          },
          "shapedefaults": {
           "line": {
            "color": "#2a3f5f"
           }
          },
          "ternary": {
           "aaxis": {
            "gridcolor": "white",
            "linecolor": "white",
            "ticks": ""
           },
           "baxis": {
            "gridcolor": "white",
            "linecolor": "white",
            "ticks": ""
           },
           "bgcolor": "#E5ECF6",
           "caxis": {
            "gridcolor": "white",
            "linecolor": "white",
            "ticks": ""
           }
          },
          "title": {
           "x": 0.05
          },
          "xaxis": {
           "automargin": true,
           "gridcolor": "white",
           "linecolor": "white",
           "ticks": "",
           "title": {
            "standoff": 15
           },
           "zerolinecolor": "white",
           "zerolinewidth": 2
          },
          "yaxis": {
           "automargin": true,
           "gridcolor": "white",
           "linecolor": "white",
           "ticks": "",
           "title": {
            "standoff": 15
           },
           "zerolinecolor": "white",
           "zerolinewidth": 2
          }
         }
        },
        "title": {
         "text": "Расстояние по парфюмерным школам"
        },
        "width": 1000,
        "xaxis": {
         "anchor": "y",
         "constrain": "domain",
         "domain": [
          0,
          1
         ],
         "scaleanchor": "y",
         "side": "top"
        },
        "yaxis": {
         "anchor": "x",
         "autorange": "reversed",
         "constrain": "domain",
         "domain": [
          0,
          1
         ]
        }
       }
      }
     },
     "metadata": {},
     "output_type": "display_data"
    }
   ],
   "source": [
    "matrRes = calcDistance(getCountryDistance, df[\"страна\"])\n",
    "draw(matrRes, nameArr, \"Расстояние по парфюмерным школам\")"
   ]
  },
  {
   "cell_type": "markdown",
   "metadata": {},
   "source": [
    "#### Косинусное сходство"
   ]
  },
  {
   "cell_type": "code",
   "execution_count": 31,
   "metadata": {},
   "outputs": [
    {
     "data": {
      "application/vnd.plotly.v1+json": {
       "config": {
        "plotlyServerURL": "https://plot.ly"
       },
       "data": [
        {
         "coloraxis": "coloraxis",
         "hovertemplate": "x: %{x}<br>y: %{y}<br>color: %{z}<extra></extra>",
         "name": "0",
         "text": [
          "Shalimar",
          "3 L'Imperatrice",
          "1001 Nights",
          "Sabina",
          "Resolute Gold",
          "Oath for Him",
          "Twist",
          "CK Everyone",
          "Bad Boy",
          "Eau de Lacoste L.12.12 Blanc",
          "Ange ou Demon",
          "Samsara Eau de Parfum",
          "New Your Amber",
          "Renata",
          "Lanvin Eclat D Arpege",
          "MOSCHINO Toy Boy",
          "Cartier Declaration D Un Soir",
          "Channel №5",
          "Prada Day For Night",
          "Escentric Molecules Escentric 02",
          "The Only One",
          "Flora by Gucci Gorgeous Gardenia",
          "La Petite Robe Noire Ma Robe Cocktail",
          "La Petite Robe Noire Ma Robe Sous le Vent"
         ],
         "type": "heatmap",
         "x": [
          "Shalimar",
          "3 L'Imperatrice",
          "1001 Nights",
          "Sabina",
          "Resolute Gold",
          "Oath for Him",
          "Twist",
          "CK Everyone",
          "Bad Boy",
          "Eau de Lacoste L.12.12 Blanc",
          "Ange ou Demon",
          "Samsara Eau de Parfum",
          "New Your Amber",
          "Renata",
          "Lanvin Eclat D Arpege",
          "MOSCHINO Toy Boy",
          "Cartier Declaration D Un Soir",
          "Channel №5",
          "Prada Day For Night",
          "Escentric Molecules Escentric 02",
          "The Only One",
          "Flora by Gucci Gorgeous Gardenia",
          "La Petite Robe Noire Ma Robe Cocktail",
          "La Petite Robe Noire Ma Robe Sous le Vent"
         ],
         "xaxis": "x",
         "y": [
          "Shalimar",
          "3 L'Imperatrice",
          "1001 Nights",
          "Sabina",
          "Resolute Gold",
          "Oath for Him",
          "Twist",
          "CK Everyone",
          "Bad Boy",
          "Eau de Lacoste L.12.12 Blanc",
          "Ange ou Demon",
          "Samsara Eau de Parfum",
          "New Your Amber",
          "Renata",
          "Lanvin Eclat D Arpege",
          "MOSCHINO Toy Boy",
          "Cartier Declaration D Un Soir",
          "Channel №5",
          "Prada Day For Night",
          "Escentric Molecules Escentric 02",
          "The Only One",
          "Flora by Gucci Gorgeous Gardenia",
          "La Petite Robe Noire Ma Robe Cocktail",
          "La Petite Robe Noire Ma Robe Sous le Vent"
         ],
         "yaxis": "y",
         "z": [
          [
           0.9999999999999998,
           0.052925612402496304,
           0.17106843599969934,
           0.07881104062391005,
           0.05421667071936294,
           0.24466854359793078,
           0.10631127985856037,
           0.039448422360929235,
           0.4352034887499428,
           0.17517942427074784,
           0.6250541102117804,
           0.6335425870976354,
           0.6826797520283002,
           0.6477905427948532,
           0.00851349073731328,
           0.38733729950423124,
           0.41338049972162944,
           0.24039295346263026,
           0.7472309574747615,
           0.6495348560917109,
           0.6972071391076162,
           0.0437839114577278,
           0.049151734271851655,
           0.14886529895627454
          ],
          [
           0.052925612402496304,
           0.9999999999999998,
           0.2509741561779514,
           0.4963635881027161,
           0.47001599194042154,
           0.28663301140657527,
           0.5783541827789478,
           0.23676013879409533,
           0.0630915175301304,
           0.18127338626492115,
           0.21938172723813912,
           0.1222066741131823,
           0.07019329771955513,
           0.09557242498741926,
           0.4825730124331105,
           0.17882363330352083,
           0.13216960960863816,
           0.3593134953348082,
           0.022048693185121173,
           0.33777797401776155,
           0.218562218482081,
           0.5547593043500945,
           0.4022688153188416,
           0.37957215560795937
          ],
          [
           0.17106843599969934,
           0.2509741561779514,
           0.9999999999999997,
           0.23782391693748436,
           0.35058596825972593,
           0.6927126394461033,
           0.3111615180038052,
           0.09183195389610789,
           0.5302104882846229,
           0.5077970035017281,
           0.3261837159835047,
           0.46723053170314693,
           0.16724429063323448,
           0.21500365266442487,
           0.23121640421660833,
           0.500934566390852,
           0.4760276318117719,
           0.2251306941420724,
           0.1795921657823231,
           0.3159741111080759,
           0.3159741111080759,
           0.23782391693748436,
           0.24848850137329023,
           0.23782391693748436
          ],
          [
           0.07881104062391005,
           0.4963635881027161,
           0.23782391693748436,
           0.9999999999999998,
           0.4486515850484711,
           0.2298275377091957,
           0.5463665640046447,
           0.22198054491067581,
           0.13570410542043743,
           0.12996751218242406,
           0.23593505280820395,
           0.11265232318399149,
           0.09456950645999586,
           0.2371933589521656,
           0.5776940324050737,
           0.12821111371481106,
           0.08434823356732997,
           0.39785799524194654,
           0.09849751616108388,
           0.24655983406694434,
           0.28600940751765547,
           0.5942028985507245,
           0.4954813592993989,
           0.536231884057971
          ],
          [
           0.05421667071936294,
           0.47001599194042154,
           0.35058596825972593,
           0.4486515850484711,
           0.9999999999999997,
           0.338798178409059,
           0.584817778730714,
           0.14552137502179976,
           0.06463056119412343,
           0.061898446059017266,
           0.24720661623652204,
           0.09657341699694755,
           0.11710337475865945,
           0.10573610652753618,
           0.36639674581314957,
           0.10991149581709674,
           0.05802588531856593,
           0.4247059928646878,
           0.013551927136362359,
           0.3053097106030465,
           0.25646015690655904,
           0.3768673314407157,
           0.46702591742554256,
           0.4486515850484711
          ],
          [
           0.24466854359793078,
           0.28663301140657527,
           0.6927126394461033,
           0.2298275377091957,
           0.338798178409059,
           0.9999999999999998,
           0.4125874125874125,
           0.12818617962011497,
           0.5123831638097072,
           0.5511200026657288,
           0.2603961612262503,
           0.47769590731504263,
           0.1616210177980595,
           0.23643312187173013,
           0.22344219010170377,
           0.5138818410528526,
           0.5166402083981014,
           0.38332193900060024,
           0.14049586776859502,
           0.3351403311214256,
           0.3351403311214256,
           0.27360421155856635,
           0.32948556266548285,
           0.3611575592573076
          ],
          [
           0.10631127985856037,
           0.5783541827789478,
           0.3111615180038052,
           0.5463665640046447,
           0.584817778730714,
           0.4125874125874125,
           0.9999999999999998,
           0.22527393696552753,
           0.12673145708429442,
           0.12137416286315839,
           0.3131079347538314,
           0.23809290217072202,
           0.13039549020916782,
           0.16368446898812086,
           0.45916142361558904,
           0.11973389607585974,
           0.06587298758289808,
           0.517205693162972,
           0.07692307692307691,
           0.32139098420362355,
           0.3718052562355645,
           0.4722829621057098,
           0.4961614405197297,
           0.6204501659035796
          ],
          [
           0.039448422360929235,
           0.23676013879409533,
           0.09183195389610789,
           0.22198054491067581,
           0.14552137502179976,
           0.12818617962011497,
           0.22527393696552753,
           0.9999999999999998,
           0.009405128133399415,
           0.11709811076887167,
           0.11446223952935249,
           0.07026748215974729,
           0.049329338226396235,
           0.07693431805669283,
           0.26659279127121194,
           0.04442908889446309,
           0.07599605956573481,
           0.1112468401110025,
           0.0493023767769673,
           0.15105890224117452,
           0.11551563112560403,
           0.22198054491067581,
           0.12659635488402618,
           0.11751911201153425
          ],
          [
           0.4352034887499428,
           0.0630915175301304,
           0.5302104882846229,
           0.13570410542043743,
           0.06463056119412343,
           0.5123831638097072,
           0.12673145708429442,
           0.009405128133399415,
           0.9999999999999996,
           0.4680621627831003,
           0.19608261960600074,
           0.45563637199711776,
           0.21151845136150899,
           0.17084459758390708,
           0.050743772789152396,
           0.745882373916174,
           0.7087964055337805,
           0.1284612575751281,
           0.1970704476191181,
           0.14917647478323479,
           0.20600560803399087,
           0.05219388670016824,
           0.058592756204037325,
           0.13570410542043743
          ],
          [
           0.17517942427074784,
           0.18127338626492115,
           0.5077970035017281,
           0.12996751218242406,
           0.061898446059017266,
           0.5511200026657288,
           0.12137416286315839,
           0.11709811076887167,
           0.4680621627831003,
           0.9999999999999998,
           0.16275450289674365,
           0.43637534431859953,
           0.12017278061240774,
           0.1374429144140893,
           0.16523554993609288,
           0.523858011222736,
           0.5495319562599504,
           0.1230308398344929,
           0.15854137062986717,
           0.19729717305791353,
           0.1428703666971098,
           0.16995751593086225,
           0.056115876024213196,
           0.04998750468554771
          ],
          [
           0.6250541102117804,
           0.21938172723813912,
           0.3261837159835047,
           0.23593505280820395,
           0.24720661623652204,
           0.2603961612262503,
           0.3131079347538314,
           0.11446223952935249,
           0.19608261960600074,
           0.16275450289674365,
           0.9999999999999998,
           0.6402462138266491,
           0.6918607726062582,
           0.7009914733695921,
           0.194090785141161,
           0.1358542448321957,
           0.17604469755488256,
           0.29206345641622095,
           0.7263682392100668,
           0.7533735395239942,
           0.8027750830993382,
           0.19963735237617258,
           0.21299948864078283,
           0.2722327532402354
          ],
          [
           0.6335425870976354,
           0.1222066741131823,
           0.46723053170314693,
           0.11265232318399149,
           0.09657341699694755,
           0.47769590731504263,
           0.23809290217072202,
           0.07026748215974729,
           0.45563637199711776,
           0.43637534431859953,
           0.6402462138266491,
           1,
           0.6517597358598969,
           0.5956589979268496,
           0.10952247960871253,
           0.40689026753493845,
           0.38665930334459786,
           0.1722642975901014,
           0.6870968529873902,
           0.66635652509345,
           0.6899443666896783,
           0.07799006989660949,
           0.11938841119037363,
           0.1473145764713735
          ],
          [
           0.6826797520283002,
           0.07019329771955513,
           0.16724429063323448,
           0.09456950645999586,
           0.11710337475865945,
           0.1616210177980595,
           0.13039549020916782,
           0.049329338226396235,
           0.21151845136150899,
           0.12017278061240774,
           0.6918607726062582,
           0.6517597358598969,
           1,
           0.7135973749734786,
           0.05322961463779129,
           0.1727424635085974,
           0.13840397088111,
           0.12721562869323946,
           0.8832776554079995,
           0.7146796039277264,
           0.7417764609486829,
           0.01493202733578882,
           0.0634949431466216,
           0.09456950645999586
          ],
          [
           0.6477905427948532,
           0.09557242498741926,
           0.21500365266442487,
           0.2371933589521656,
           0.10573610652753618,
           0.23643312187173013,
           0.16368446898812086,
           0.07693431805669283,
           0.17084459758390708,
           0.1374429144140893,
           0.7009914733695921,
           0.5956589979268496,
           0.7135973749734786,
           0.9999999999999998,
           0.1937068267332089,
           0.18723710848844688,
           0.15338577978496218,
           0.15268297755504046,
           0.7809457661823813,
           0.7037532698358865,
           0.7554048859706304,
           0.2751442963845121,
           0.20817692085384143,
           0.2751442963845121
          ],
          [
           0.00851349073731328,
           0.4825730124331105,
           0.23121640421660833,
           0.5776940324050737,
           0.36639674581314957,
           0.22344219010170377,
           0.45916142361558904,
           0.26659279127121194,
           0.050743772789152396,
           0.16523554993609288,
           0.194090785141161,
           0.10952247960871253,
           0.05322961463779129,
           0.1937068267332089,
           1,
           0.12464899693640907,
           0.15489789617658975,
           0.33345191509920935,
           0.010640104290557324,
           0.31641668453088456,
           0.20135607197419927,
           0.6340544258104467,
           0.48171529478121883,
           0.4649732455943275
          ],
          [
           0.38733729950423124,
           0.17882363330352083,
           0.500934566390852,
           0.12821111371481106,
           0.10991149581709674,
           0.5138818410528526,
           0.11973389607585974,
           0.04442908889446309,
           0.745882373916174,
           0.523858011222736,
           0.1358542448321957,
           0.40689026753493845,
           0.1727424635085974,
           0.18723710848844688,
           0.12464899693640907,
           1,
           0.6951705918107637,
           0.12136818449143197,
           0.15639882118999862,
           0.16778523489932887,
           0.19463087248322145,
           0.20711026061623325,
           0.055357518516228076,
           0.04931196681338887
          ],
          [
           0.41338049972162944,
           0.13216960960863816,
           0.4760276318117719,
           0.08434823356732997,
           0.05802588531856593,
           0.5166402083981014,
           0.06587298758289808,
           0.07599605956573481,
           0.7087964055337805,
           0.5495319562599504,
           0.17604469755488256,
           0.38665930334459786,
           0.13840397088111,
           0.15338577978496218,
           0.15489789617658975,
           0.6951705918107637,
           0.9999999999999998,
           0.18630819574471993,
           0.14862252570356344,
           0.21046449109867157,
           0.1594427962868724,
           0.12183633737503217,
           0.05260509098446913,
           0.046860129759627764
          ],
          [
           0.24039295346263026,
           0.3593134953348082,
           0.2251306941420724,
           0.39785799524194654,
           0.4247059928646878,
           0.38332193900060024,
           0.517205693162972,
           0.1112468401110025,
           0.1284612575751281,
           0.1230308398344929,
           0.29206345641622095,
           0.1722642975901014,
           0.12721562869323946,
           0.15268297755504046,
           0.33345191509920935,
           0.12136818449143197,
           0.18630819574471993,
           0.9999999999999996,
           0.09324047164879466,
           0.30808846832440423,
           0.3454325250909987,
           0.3429810303809884,
           0.35702767071676234,
           0.4527349601029047
          ],
          [
           0.7472309574747615,
           0.022048693185121173,
           0.1795921657823231,
           0.09849751616108388,
           0.013551927136362359,
           0.14049586776859502,
           0.07692307692307691,
           0.0493023767769673,
           0.1970704476191181,
           0.15854137062986717,
           0.7263682392100668,
           0.6870968529873902,
           0.8832776554079995,
           0.7809457661823813,
           0.010640104290557324,
           0.15639882118999862,
           0.14862252570356344,
           0.09324047164879466,
           0.9999999999999998,
           0.7522038542947552,
           0.8117843576052308,
           0.010944168462342653,
           0.016753503186380483,
           0.054720842311713265
          ],
          [
           0.6495348560917109,
           0.33777797401776155,
           0.3159741111080759,
           0.24655983406694434,
           0.3053097106030465,
           0.3351403311214256,
           0.32139098420362355,
           0.15105890224117452,
           0.14917647478323479,
           0.19729717305791353,
           0.7533735395239942,
           0.66635652509345,
           0.7146796039277264,
           0.7037532698358865,
           0.31641668453088456,
           0.16778523489932887,
           0.21046449109867157,
           0.30808846832440423,
           0.7522038542947552,
           1,
           0.8389261744966442,
           0.28600940751765547,
           0.25665758584796655,
           0.24655983406694434
          ],
          [
           0.6972071391076162,
           0.218562218482081,
           0.3159741111080759,
           0.28600940751765547,
           0.25646015690655904,
           0.3351403311214256,
           0.3718052562355645,
           0.11551563112560403,
           0.20600560803399087,
           0.1428703666971098,
           0.8027750830993382,
           0.6899443666896783,
           0.7417764609486829,
           0.7554048859706304,
           0.20135607197419927,
           0.19463087248322145,
           0.1594427962868724,
           0.3454325250909987,
           0.8117843576052308,
           0.8389261744966442,
           1,
           0.28600940751765547,
           0.21639757238161883,
           0.28600940751765547
          ],
          [
           0.0437839114577278,
           0.5547593043500945,
           0.23782391693748436,
           0.5942028985507245,
           0.3768673314407157,
           0.27360421155856635,
           0.4722829621057098,
           0.22198054491067581,
           0.05219388670016824,
           0.16995751593086225,
           0.19963735237617258,
           0.07799006989660949,
           0.01493202733578882,
           0.2751442963845121,
           0.6340544258104467,
           0.20711026061623325,
           0.12183633737503217,
           0.3429810303809884,
           0.010944168462342653,
           0.28600940751765547,
           0.28600940751765547,
           0.9999999999999998,
           0.4954813592993989,
           0.536231884057971
          ],
          [
           0.049151734271851655,
           0.4022688153188416,
           0.24848850137329023,
           0.4954813592993989,
           0.46702591742554256,
           0.32948556266548285,
           0.4961614405197297,
           0.12659635488402618,
           0.058592756204037325,
           0.056115876024213196,
           0.21299948864078283,
           0.11938841119037363,
           0.0634949431466216,
           0.20817692085384143,
           0.48171529478121883,
           0.055357518516228076,
           0.05260509098446913,
           0.35702767071676234,
           0.016753503186380483,
           0.25665758584796655,
           0.21639757238161883,
           0.4954813592993989,
           0.9999999999999998,
           0.5546433126485809
          ],
          [
           0.14886529895627454,
           0.37957215560795937,
           0.23782391693748436,
           0.536231884057971,
           0.4486515850484711,
           0.3611575592573076,
           0.6204501659035796,
           0.11751911201153425,
           0.13570410542043743,
           0.04998750468554771,
           0.2722327532402354,
           0.1473145764713735,
           0.09456950645999586,
           0.2751442963845121,
           0.4649732455943275,
           0.04931196681338887,
           0.046860129759627764,
           0.4527349601029047,
           0.054720842311713265,
           0.24655983406694434,
           0.28600940751765547,
           0.536231884057971,
           0.5546433126485809,
           0.9999999999999998
          ]
         ]
        }
       ],
       "layout": {
        "coloraxis": {
         "colorscale": [
          [
           0,
           "#fcffa4"
          ],
          [
           0.1111111111111111,
           "#f7d13d"
          ],
          [
           0.2222222222222222,
           "#fb9b06"
          ],
          [
           0.3333333333333333,
           "#ed6925"
          ],
          [
           0.4444444444444444,
           "#cf4446"
          ],
          [
           0.5555555555555556,
           "#a52c60"
          ],
          [
           0.6666666666666666,
           "#781c6d"
          ],
          [
           0.7777777777777778,
           "#4a0c6b"
          ],
          [
           0.8888888888888888,
           "#1b0c41"
          ],
          [
           1,
           "#000004"
          ]
         ]
        },
        "height": 1200,
        "template": {
         "data": {
          "bar": [
           {
            "error_x": {
             "color": "#2a3f5f"
            },
            "error_y": {
             "color": "#2a3f5f"
            },
            "marker": {
             "line": {
              "color": "#E5ECF6",
              "width": 0.5
             },
             "pattern": {
              "fillmode": "overlay",
              "size": 10,
              "solidity": 0.2
             }
            },
            "type": "bar"
           }
          ],
          "barpolar": [
           {
            "marker": {
             "line": {
              "color": "#E5ECF6",
              "width": 0.5
             },
             "pattern": {
              "fillmode": "overlay",
              "size": 10,
              "solidity": 0.2
             }
            },
            "type": "barpolar"
           }
          ],
          "carpet": [
           {
            "aaxis": {
             "endlinecolor": "#2a3f5f",
             "gridcolor": "white",
             "linecolor": "white",
             "minorgridcolor": "white",
             "startlinecolor": "#2a3f5f"
            },
            "baxis": {
             "endlinecolor": "#2a3f5f",
             "gridcolor": "white",
             "linecolor": "white",
             "minorgridcolor": "white",
             "startlinecolor": "#2a3f5f"
            },
            "type": "carpet"
           }
          ],
          "choropleth": [
           {
            "colorbar": {
             "outlinewidth": 0,
             "ticks": ""
            },
            "type": "choropleth"
           }
          ],
          "contour": [
           {
            "colorbar": {
             "outlinewidth": 0,
             "ticks": ""
            },
            "colorscale": [
             [
              0,
              "#0d0887"
             ],
             [
              0.1111111111111111,
              "#46039f"
             ],
             [
              0.2222222222222222,
              "#7201a8"
             ],
             [
              0.3333333333333333,
              "#9c179e"
             ],
             [
              0.4444444444444444,
              "#bd3786"
             ],
             [
              0.5555555555555556,
              "#d8576b"
             ],
             [
              0.6666666666666666,
              "#ed7953"
             ],
             [
              0.7777777777777778,
              "#fb9f3a"
             ],
             [
              0.8888888888888888,
              "#fdca26"
             ],
             [
              1,
              "#f0f921"
             ]
            ],
            "type": "contour"
           }
          ],
          "contourcarpet": [
           {
            "colorbar": {
             "outlinewidth": 0,
             "ticks": ""
            },
            "type": "contourcarpet"
           }
          ],
          "heatmap": [
           {
            "colorbar": {
             "outlinewidth": 0,
             "ticks": ""
            },
            "colorscale": [
             [
              0,
              "#0d0887"
             ],
             [
              0.1111111111111111,
              "#46039f"
             ],
             [
              0.2222222222222222,
              "#7201a8"
             ],
             [
              0.3333333333333333,
              "#9c179e"
             ],
             [
              0.4444444444444444,
              "#bd3786"
             ],
             [
              0.5555555555555556,
              "#d8576b"
             ],
             [
              0.6666666666666666,
              "#ed7953"
             ],
             [
              0.7777777777777778,
              "#fb9f3a"
             ],
             [
              0.8888888888888888,
              "#fdca26"
             ],
             [
              1,
              "#f0f921"
             ]
            ],
            "type": "heatmap"
           }
          ],
          "heatmapgl": [
           {
            "colorbar": {
             "outlinewidth": 0,
             "ticks": ""
            },
            "colorscale": [
             [
              0,
              "#0d0887"
             ],
             [
              0.1111111111111111,
              "#46039f"
             ],
             [
              0.2222222222222222,
              "#7201a8"
             ],
             [
              0.3333333333333333,
              "#9c179e"
             ],
             [
              0.4444444444444444,
              "#bd3786"
             ],
             [
              0.5555555555555556,
              "#d8576b"
             ],
             [
              0.6666666666666666,
              "#ed7953"
             ],
             [
              0.7777777777777778,
              "#fb9f3a"
             ],
             [
              0.8888888888888888,
              "#fdca26"
             ],
             [
              1,
              "#f0f921"
             ]
            ],
            "type": "heatmapgl"
           }
          ],
          "histogram": [
           {
            "marker": {
             "pattern": {
              "fillmode": "overlay",
              "size": 10,
              "solidity": 0.2
             }
            },
            "type": "histogram"
           }
          ],
          "histogram2d": [
           {
            "colorbar": {
             "outlinewidth": 0,
             "ticks": ""
            },
            "colorscale": [
             [
              0,
              "#0d0887"
             ],
             [
              0.1111111111111111,
              "#46039f"
             ],
             [
              0.2222222222222222,
              "#7201a8"
             ],
             [
              0.3333333333333333,
              "#9c179e"
             ],
             [
              0.4444444444444444,
              "#bd3786"
             ],
             [
              0.5555555555555556,
              "#d8576b"
             ],
             [
              0.6666666666666666,
              "#ed7953"
             ],
             [
              0.7777777777777778,
              "#fb9f3a"
             ],
             [
              0.8888888888888888,
              "#fdca26"
             ],
             [
              1,
              "#f0f921"
             ]
            ],
            "type": "histogram2d"
           }
          ],
          "histogram2dcontour": [
           {
            "colorbar": {
             "outlinewidth": 0,
             "ticks": ""
            },
            "colorscale": [
             [
              0,
              "#0d0887"
             ],
             [
              0.1111111111111111,
              "#46039f"
             ],
             [
              0.2222222222222222,
              "#7201a8"
             ],
             [
              0.3333333333333333,
              "#9c179e"
             ],
             [
              0.4444444444444444,
              "#bd3786"
             ],
             [
              0.5555555555555556,
              "#d8576b"
             ],
             [
              0.6666666666666666,
              "#ed7953"
             ],
             [
              0.7777777777777778,
              "#fb9f3a"
             ],
             [
              0.8888888888888888,
              "#fdca26"
             ],
             [
              1,
              "#f0f921"
             ]
            ],
            "type": "histogram2dcontour"
           }
          ],
          "mesh3d": [
           {
            "colorbar": {
             "outlinewidth": 0,
             "ticks": ""
            },
            "type": "mesh3d"
           }
          ],
          "parcoords": [
           {
            "line": {
             "colorbar": {
              "outlinewidth": 0,
              "ticks": ""
             }
            },
            "type": "parcoords"
           }
          ],
          "pie": [
           {
            "automargin": true,
            "type": "pie"
           }
          ],
          "scatter": [
           {
            "marker": {
             "colorbar": {
              "outlinewidth": 0,
              "ticks": ""
             }
            },
            "type": "scatter"
           }
          ],
          "scatter3d": [
           {
            "line": {
             "colorbar": {
              "outlinewidth": 0,
              "ticks": ""
             }
            },
            "marker": {
             "colorbar": {
              "outlinewidth": 0,
              "ticks": ""
             }
            },
            "type": "scatter3d"
           }
          ],
          "scattercarpet": [
           {
            "marker": {
             "colorbar": {
              "outlinewidth": 0,
              "ticks": ""
             }
            },
            "type": "scattercarpet"
           }
          ],
          "scattergeo": [
           {
            "marker": {
             "colorbar": {
              "outlinewidth": 0,
              "ticks": ""
             }
            },
            "type": "scattergeo"
           }
          ],
          "scattergl": [
           {
            "marker": {
             "colorbar": {
              "outlinewidth": 0,
              "ticks": ""
             }
            },
            "type": "scattergl"
           }
          ],
          "scattermapbox": [
           {
            "marker": {
             "colorbar": {
              "outlinewidth": 0,
              "ticks": ""
             }
            },
            "type": "scattermapbox"
           }
          ],
          "scatterpolar": [
           {
            "marker": {
             "colorbar": {
              "outlinewidth": 0,
              "ticks": ""
             }
            },
            "type": "scatterpolar"
           }
          ],
          "scatterpolargl": [
           {
            "marker": {
             "colorbar": {
              "outlinewidth": 0,
              "ticks": ""
             }
            },
            "type": "scatterpolargl"
           }
          ],
          "scatterternary": [
           {
            "marker": {
             "colorbar": {
              "outlinewidth": 0,
              "ticks": ""
             }
            },
            "type": "scatterternary"
           }
          ],
          "surface": [
           {
            "colorbar": {
             "outlinewidth": 0,
             "ticks": ""
            },
            "colorscale": [
             [
              0,
              "#0d0887"
             ],
             [
              0.1111111111111111,
              "#46039f"
             ],
             [
              0.2222222222222222,
              "#7201a8"
             ],
             [
              0.3333333333333333,
              "#9c179e"
             ],
             [
              0.4444444444444444,
              "#bd3786"
             ],
             [
              0.5555555555555556,
              "#d8576b"
             ],
             [
              0.6666666666666666,
              "#ed7953"
             ],
             [
              0.7777777777777778,
              "#fb9f3a"
             ],
             [
              0.8888888888888888,
              "#fdca26"
             ],
             [
              1,
              "#f0f921"
             ]
            ],
            "type": "surface"
           }
          ],
          "table": [
           {
            "cells": {
             "fill": {
              "color": "#EBF0F8"
             },
             "line": {
              "color": "white"
             }
            },
            "header": {
             "fill": {
              "color": "#C8D4E3"
             },
             "line": {
              "color": "white"
             }
            },
            "type": "table"
           }
          ]
         },
         "layout": {
          "annotationdefaults": {
           "arrowcolor": "#2a3f5f",
           "arrowhead": 0,
           "arrowwidth": 1
          },
          "autotypenumbers": "strict",
          "coloraxis": {
           "colorbar": {
            "outlinewidth": 0,
            "ticks": ""
           }
          },
          "colorscale": {
           "diverging": [
            [
             0,
             "#8e0152"
            ],
            [
             0.1,
             "#c51b7d"
            ],
            [
             0.2,
             "#de77ae"
            ],
            [
             0.3,
             "#f1b6da"
            ],
            [
             0.4,
             "#fde0ef"
            ],
            [
             0.5,
             "#f7f7f7"
            ],
            [
             0.6,
             "#e6f5d0"
            ],
            [
             0.7,
             "#b8e186"
            ],
            [
             0.8,
             "#7fbc41"
            ],
            [
             0.9,
             "#4d9221"
            ],
            [
             1,
             "#276419"
            ]
           ],
           "sequential": [
            [
             0,
             "#0d0887"
            ],
            [
             0.1111111111111111,
             "#46039f"
            ],
            [
             0.2222222222222222,
             "#7201a8"
            ],
            [
             0.3333333333333333,
             "#9c179e"
            ],
            [
             0.4444444444444444,
             "#bd3786"
            ],
            [
             0.5555555555555556,
             "#d8576b"
            ],
            [
             0.6666666666666666,
             "#ed7953"
            ],
            [
             0.7777777777777778,
             "#fb9f3a"
            ],
            [
             0.8888888888888888,
             "#fdca26"
            ],
            [
             1,
             "#f0f921"
            ]
           ],
           "sequentialminus": [
            [
             0,
             "#0d0887"
            ],
            [
             0.1111111111111111,
             "#46039f"
            ],
            [
             0.2222222222222222,
             "#7201a8"
            ],
            [
             0.3333333333333333,
             "#9c179e"
            ],
            [
             0.4444444444444444,
             "#bd3786"
            ],
            [
             0.5555555555555556,
             "#d8576b"
            ],
            [
             0.6666666666666666,
             "#ed7953"
            ],
            [
             0.7777777777777778,
             "#fb9f3a"
            ],
            [
             0.8888888888888888,
             "#fdca26"
            ],
            [
             1,
             "#f0f921"
            ]
           ]
          },
          "colorway": [
           "#636efa",
           "#EF553B",
           "#00cc96",
           "#ab63fa",
           "#FFA15A",
           "#19d3f3",
           "#FF6692",
           "#B6E880",
           "#FF97FF",
           "#FECB52"
          ],
          "font": {
           "color": "#2a3f5f"
          },
          "geo": {
           "bgcolor": "white",
           "lakecolor": "white",
           "landcolor": "#E5ECF6",
           "showlakes": true,
           "showland": true,
           "subunitcolor": "white"
          },
          "hoverlabel": {
           "align": "left"
          },
          "hovermode": "closest",
          "mapbox": {
           "style": "light"
          },
          "paper_bgcolor": "white",
          "plot_bgcolor": "#E5ECF6",
          "polar": {
           "angularaxis": {
            "gridcolor": "white",
            "linecolor": "white",
            "ticks": ""
           },
           "bgcolor": "#E5ECF6",
           "radialaxis": {
            "gridcolor": "white",
            "linecolor": "white",
            "ticks": ""
           }
          },
          "scene": {
           "xaxis": {
            "backgroundcolor": "#E5ECF6",
            "gridcolor": "white",
            "gridwidth": 2,
            "linecolor": "white",
            "showbackground": true,
            "ticks": "",
            "zerolinecolor": "white"
           },
           "yaxis": {
            "backgroundcolor": "#E5ECF6",
            "gridcolor": "white",
            "gridwidth": 2,
            "linecolor": "white",
            "showbackground": true,
            "ticks": "",
            "zerolinecolor": "white"
           },
           "zaxis": {
            "backgroundcolor": "#E5ECF6",
            "gridcolor": "white",
            "gridwidth": 2,
            "linecolor": "white",
            "showbackground": true,
            "ticks": "",
            "zerolinecolor": "white"
           }
          },
          "shapedefaults": {
           "line": {
            "color": "#2a3f5f"
           }
          },
          "ternary": {
           "aaxis": {
            "gridcolor": "white",
            "linecolor": "white",
            "ticks": ""
           },
           "baxis": {
            "gridcolor": "white",
            "linecolor": "white",
            "ticks": ""
           },
           "bgcolor": "#E5ECF6",
           "caxis": {
            "gridcolor": "white",
            "linecolor": "white",
            "ticks": ""
           }
          },
          "title": {
           "x": 0.05
          },
          "xaxis": {
           "automargin": true,
           "gridcolor": "white",
           "linecolor": "white",
           "ticks": "",
           "title": {
            "standoff": 15
           },
           "zerolinecolor": "white",
           "zerolinewidth": 2
          },
          "yaxis": {
           "automargin": true,
           "gridcolor": "white",
           "linecolor": "white",
           "ticks": "",
           "title": {
            "standoff": 15
           },
           "zerolinecolor": "white",
           "zerolinewidth": 2
          }
         }
        },
        "title": {
         "text": "Косинусное подобие"
        },
        "width": 1000,
        "xaxis": {
         "anchor": "y",
         "constrain": "domain",
         "domain": [
          0,
          1
         ],
         "scaleanchor": "y",
         "side": "top"
        },
        "yaxis": {
         "anchor": "x",
         "autorange": "reversed",
         "constrain": "domain",
         "domain": [
          0,
          1
         ]
        }
       }
      }
     },
     "metadata": {},
     "output_type": "display_data"
    }
   ],
   "source": [
    "matrRes = calcDistance(getCos, getDataFrameAroma(df))\n",
    "draw(matrRes, nameArr, \"Косинусное подобие\", \"Inferno_r\")"
   ]
  },
  {
   "cell_type": "markdown",
   "metadata": {},
   "source": [
    "#### Расстояние по дереву"
   ]
  },
  {
   "cell_type": "code",
   "execution_count": 32,
   "metadata": {},
   "outputs": [
    {
     "data": {
      "application/vnd.plotly.v1+json": {
       "config": {
        "plotlyServerURL": "https://plot.ly"
       },
       "data": [
        {
         "coloraxis": "coloraxis",
         "hovertemplate": "x: %{x}<br>y: %{y}<br>color: %{z}<extra></extra>",
         "name": "0",
         "text": [
          "Shalimar",
          "3 L'Imperatrice",
          "1001 Nights",
          "Sabina",
          "Resolute Gold",
          "Oath for Him",
          "Twist",
          "CK Everyone",
          "Bad Boy",
          "Eau de Lacoste L.12.12 Blanc",
          "Ange ou Demon",
          "Samsara Eau de Parfum",
          "New Your Amber",
          "Renata",
          "Lanvin Eclat D Arpege",
          "MOSCHINO Toy Boy",
          "Cartier Declaration D Un Soir",
          "Channel №5",
          "Prada Day For Night",
          "Escentric Molecules Escentric 02",
          "The Only One",
          "Flora by Gucci Gorgeous Gardenia",
          "La Petite Robe Noire Ma Robe Cocktail",
          "La Petite Robe Noire Ma Robe Sous le Vent"
         ],
         "type": "heatmap",
         "x": [
          "Shalimar",
          "3 L'Imperatrice",
          "1001 Nights",
          "Sabina",
          "Resolute Gold",
          "Oath for Him",
          "Twist",
          "CK Everyone",
          "Bad Boy",
          "Eau de Lacoste L.12.12 Blanc",
          "Ange ou Demon",
          "Samsara Eau de Parfum",
          "New Your Amber",
          "Renata",
          "Lanvin Eclat D Arpege",
          "MOSCHINO Toy Boy",
          "Cartier Declaration D Un Soir",
          "Channel №5",
          "Prada Day For Night",
          "Escentric Molecules Escentric 02",
          "The Only One",
          "Flora by Gucci Gorgeous Gardenia",
          "La Petite Robe Noire Ma Robe Cocktail",
          "La Petite Robe Noire Ma Robe Sous le Vent"
         ],
         "xaxis": "x",
         "y": [
          "Shalimar",
          "3 L'Imperatrice",
          "1001 Nights",
          "Sabina",
          "Resolute Gold",
          "Oath for Him",
          "Twist",
          "CK Everyone",
          "Bad Boy",
          "Eau de Lacoste L.12.12 Blanc",
          "Ange ou Demon",
          "Samsara Eau de Parfum",
          "New Your Amber",
          "Renata",
          "Lanvin Eclat D Arpege",
          "MOSCHINO Toy Boy",
          "Cartier Declaration D Un Soir",
          "Channel №5",
          "Prada Day For Night",
          "Escentric Molecules Escentric 02",
          "The Only One",
          "Flora by Gucci Gorgeous Gardenia",
          "La Petite Robe Noire Ma Robe Cocktail",
          "La Petite Robe Noire Ma Robe Sous le Vent"
         ],
         "yaxis": "y",
         "z": [
          [
           0,
           0.5416666666666666,
           0.8750000000000001,
           0.9583333333333334,
           0.4166666666666667,
           0.8750000000000001,
           0.5,
           0.5,
           0.20833333333333334,
           0.33333333333333337,
           0.20833333333333334,
           0.16666666666666669,
           0.625,
           0.625,
           0.5416666666666666,
           0.20833333333333334,
           0.20833333333333334,
           0.5,
           0.625,
           0.20833333333333334,
           0.20833333333333334,
           0.5416666666666666,
           0.5416666666666666,
           0.5416666666666666
          ],
          [
           0.5416666666666666,
           0,
           0.6666666666666667,
           0.7083333333333334,
           0.25,
           0.6666666666666667,
           0.20833333333333334,
           0.5416666666666666,
           0.5416666666666666,
           0.5833333333333334,
           0.5,
           0.5416666666666666,
           1,
           1,
           0.2916666666666667,
           0.5416666666666666,
           0.5416666666666666,
           0.20833333333333334,
           1,
           0.5,
           0.5,
           0.2916666666666667,
           0.2916666666666667,
           0.2916666666666667
          ],
          [
           0.8750000000000001,
           0.6666666666666667,
           0,
           0.4166666666666667,
           0.5833333333333334,
           0.08333333333333334,
           0.625,
           0.8750000000000001,
           0.8750000000000001,
           0.8333333333333334,
           0.9166666666666669,
           0.7083333333333334,
           0.75,
           0.75,
           0.6666666666666667,
           0.8750000000000001,
           0.8750000000000001,
           0.625,
           0.75,
           0.9166666666666669,
           0.9166666666666669,
           0.6666666666666667,
           0.6666666666666667,
           0.6666666666666667
          ],
          [
           0.9583333333333334,
           0.7083333333333334,
           0.4166666666666667,
           0,
           0.5416666666666667,
           0.4166666666666667,
           0.5416666666666667,
           0.8333333333333334,
           0.9583333333333334,
           1,
           0.8333333333333334,
           0.9583333333333334,
           0.625,
           0.625,
           0.4166666666666667,
           0.9583333333333334,
           0.9583333333333334,
           0.5416666666666667,
           0.625,
           0.8333333333333334,
           0.8333333333333334,
           0.4166666666666667,
           0.4166666666666667,
           0.4166666666666667
          ],
          [
           0.4166666666666667,
           0.25,
           0.5833333333333334,
           0.5416666666666667,
           0,
           0.5833333333333334,
           0.08333333333333334,
           0.5416666666666666,
           0.4166666666666667,
           0.5,
           0.375,
           0.4583333333333334,
           0.8333333333333334,
           0.8333333333333334,
           0.125,
           0.4166666666666667,
           0.4166666666666667,
           0.08333333333333334,
           0.8333333333333334,
           0.375,
           0.375,
           0.125,
           0.125,
           0.125
          ],
          [
           0.8750000000000001,
           0.6666666666666667,
           0.08333333333333334,
           0.4166666666666667,
           0.5833333333333334,
           0,
           0.625,
           0.8750000000000001,
           0.8750000000000001,
           0.8333333333333334,
           0.9166666666666669,
           0.7083333333333334,
           0.75,
           0.75,
           0.6666666666666667,
           0.8750000000000001,
           0.8750000000000001,
           0.625,
           0.75,
           0.9166666666666669,
           0.9166666666666669,
           0.6666666666666667,
           0.6666666666666667,
           0.6666666666666667
          ],
          [
           0.5,
           0.20833333333333334,
           0.625,
           0.5416666666666667,
           0.08333333333333334,
           0.625,
           0,
           0.4166666666666667,
           0.5,
           0.5416666666666666,
           0.2916666666666667,
           0.5,
           0.8333333333333334,
           0.8333333333333334,
           0.125,
           0.5,
           0.5,
           0,
           0.8333333333333334,
           0.2916666666666667,
           0.2916666666666667,
           0.125,
           0.125,
           0.125
          ],
          [
           0.5,
           0.5416666666666666,
           0.8750000000000001,
           0.8333333333333334,
           0.5416666666666666,
           0.8750000000000001,
           0.4166666666666667,
           0,
           0.5,
           0.5833333333333334,
           0.5,
           0.5416666666666667,
           1,
           1,
           0.4166666666666667,
           0.5,
           0.5,
           0.4166666666666667,
           1,
           0.5,
           0.5,
           0.4166666666666667,
           0.4166666666666667,
           0.4166666666666667
          ],
          [
           0.20833333333333334,
           0.5416666666666666,
           0.8750000000000001,
           0.9583333333333334,
           0.4166666666666667,
           0.8750000000000001,
           0.5,
           0.5,
           0,
           0.125,
           0.4166666666666667,
           0.375,
           0.8333333333333334,
           0.8333333333333334,
           0.5416666666666666,
           0,
           0,
           0.5,
           0.8333333333333334,
           0.4166666666666667,
           0.4166666666666667,
           0.5416666666666666,
           0.5416666666666666,
           0.5416666666666666
          ],
          [
           0.33333333333333337,
           0.5833333333333334,
           0.8333333333333334,
           1,
           0.5,
           0.8333333333333334,
           0.5416666666666666,
           0.5833333333333334,
           0.125,
           0,
           0.4583333333333334,
           0.33333333333333337,
           0.8333333333333334,
           0.8333333333333334,
           0.5833333333333334,
           0.125,
           0.125,
           0.5416666666666666,
           0.8333333333333334,
           0.4583333333333334,
           0.4583333333333334,
           0.5833333333333334,
           0.5833333333333334,
           0.5833333333333334
          ],
          [
           0.20833333333333334,
           0.5,
           0.9166666666666669,
           0.8333333333333334,
           0.375,
           0.9166666666666669,
           0.2916666666666667,
           0.5,
           0.4166666666666667,
           0.4583333333333334,
           0,
           0.20833333333333334,
           0.5416666666666667,
           0.5416666666666667,
           0.4166666666666667,
           0.4166666666666667,
           0.4166666666666667,
           0.2916666666666667,
           0.5416666666666667,
           0,
           0,
           0.4166666666666667,
           0.4166666666666667,
           0.4166666666666667
          ],
          [
           0.16666666666666669,
           0.5416666666666666,
           0.7083333333333334,
           0.9583333333333334,
           0.4583333333333334,
           0.7083333333333334,
           0.5,
           0.5416666666666667,
           0.375,
           0.33333333333333337,
           0.20833333333333334,
           0,
           0.625,
           0.625,
           0.5416666666666666,
           0.375,
           0.375,
           0.5,
           0.625,
           0.20833333333333334,
           0.20833333333333334,
           0.5416666666666666,
           0.5416666666666666,
           0.5416666666666666
          ],
          [
           0.625,
           1,
           0.75,
           0.625,
           0.8333333333333334,
           0.75,
           0.8333333333333334,
           1,
           0.8333333333333334,
           0.8333333333333334,
           0.5416666666666667,
           0.625,
           0,
           0.2916666666666667,
           0.8750000000000001,
           0.8333333333333334,
           0.8333333333333334,
           0.8333333333333334,
           0,
           0.5416666666666667,
           0.5416666666666667,
           0.8750000000000001,
           0.8750000000000001,
           0.8750000000000001
          ],
          [
           0.625,
           1,
           0.75,
           0.625,
           0.8333333333333334,
           0.75,
           0.8333333333333334,
           1,
           0.8333333333333334,
           0.8333333333333334,
           0.5416666666666667,
           0.625,
           0.2916666666666667,
           0,
           0.8750000000000001,
           0.8333333333333334,
           0.8333333333333334,
           0.8333333333333334,
           0.2916666666666667,
           0.5416666666666667,
           0.5416666666666667,
           0.8750000000000001,
           0.8750000000000001,
           0.8750000000000001
          ],
          [
           0.5416666666666666,
           0.2916666666666667,
           0.6666666666666667,
           0.4166666666666667,
           0.125,
           0.6666666666666667,
           0.125,
           0.4166666666666667,
           0.5416666666666666,
           0.5833333333333334,
           0.4166666666666667,
           0.5416666666666666,
           0.8750000000000001,
           0.8750000000000001,
           0,
           0.5416666666666666,
           0.5416666666666666,
           0.125,
           0.8750000000000001,
           0.4166666666666667,
           0.4166666666666667,
           0,
           0,
           0
          ],
          [
           0.20833333333333334,
           0.5416666666666666,
           0.8750000000000001,
           0.9583333333333334,
           0.4166666666666667,
           0.8750000000000001,
           0.5,
           0.5,
           0,
           0.125,
           0.4166666666666667,
           0.375,
           0.8333333333333334,
           0.8333333333333334,
           0.5416666666666666,
           0,
           0,
           0.5,
           0.8333333333333334,
           0.4166666666666667,
           0.4166666666666667,
           0.5416666666666666,
           0.5416666666666666,
           0.5416666666666666
          ],
          [
           0.20833333333333334,
           0.5416666666666666,
           0.8750000000000001,
           0.9583333333333334,
           0.4166666666666667,
           0.8750000000000001,
           0.5,
           0.5,
           0,
           0.125,
           0.4166666666666667,
           0.375,
           0.8333333333333334,
           0.8333333333333334,
           0.5416666666666666,
           0,
           0,
           0.5,
           0.8333333333333334,
           0.4166666666666667,
           0.4166666666666667,
           0.5416666666666666,
           0.5416666666666666,
           0.5416666666666666
          ],
          [
           0.5,
           0.20833333333333334,
           0.625,
           0.5416666666666667,
           0.08333333333333334,
           0.625,
           0,
           0.4166666666666667,
           0.5,
           0.5416666666666666,
           0.2916666666666667,
           0.5,
           0.8333333333333334,
           0.8333333333333334,
           0.125,
           0.5,
           0.5,
           0,
           0.8333333333333334,
           0.2916666666666667,
           0.2916666666666667,
           0.125,
           0.125,
           0.125
          ],
          [
           0.625,
           1,
           0.75,
           0.625,
           0.8333333333333334,
           0.75,
           0.8333333333333334,
           1,
           0.8333333333333334,
           0.8333333333333334,
           0.5416666666666667,
           0.625,
           0,
           0.2916666666666667,
           0.8750000000000001,
           0.8333333333333334,
           0.8333333333333334,
           0.8333333333333334,
           0,
           0.5416666666666667,
           0.5416666666666667,
           0.8750000000000001,
           0.8750000000000001,
           0.8750000000000001
          ],
          [
           0.20833333333333334,
           0.5,
           0.9166666666666669,
           0.8333333333333334,
           0.375,
           0.9166666666666669,
           0.2916666666666667,
           0.5,
           0.4166666666666667,
           0.4583333333333334,
           0,
           0.20833333333333334,
           0.5416666666666667,
           0.5416666666666667,
           0.4166666666666667,
           0.4166666666666667,
           0.4166666666666667,
           0.2916666666666667,
           0.5416666666666667,
           0,
           0,
           0.4166666666666667,
           0.4166666666666667,
           0.4166666666666667
          ],
          [
           0.20833333333333334,
           0.5,
           0.9166666666666669,
           0.8333333333333334,
           0.375,
           0.9166666666666669,
           0.2916666666666667,
           0.5,
           0.4166666666666667,
           0.4583333333333334,
           0,
           0.20833333333333334,
           0.5416666666666667,
           0.5416666666666667,
           0.4166666666666667,
           0.4166666666666667,
           0.4166666666666667,
           0.2916666666666667,
           0.5416666666666667,
           0,
           0,
           0.4166666666666667,
           0.4166666666666667,
           0.4166666666666667
          ],
          [
           0.5416666666666666,
           0.2916666666666667,
           0.6666666666666667,
           0.4166666666666667,
           0.125,
           0.6666666666666667,
           0.125,
           0.4166666666666667,
           0.5416666666666666,
           0.5833333333333334,
           0.4166666666666667,
           0.5416666666666666,
           0.8750000000000001,
           0.8750000000000001,
           0,
           0.5416666666666666,
           0.5416666666666666,
           0.125,
           0.8750000000000001,
           0.4166666666666667,
           0.4166666666666667,
           0,
           0,
           0
          ],
          [
           0.5416666666666666,
           0.2916666666666667,
           0.6666666666666667,
           0.4166666666666667,
           0.125,
           0.6666666666666667,
           0.125,
           0.4166666666666667,
           0.5416666666666666,
           0.5833333333333334,
           0.4166666666666667,
           0.5416666666666666,
           0.8750000000000001,
           0.8750000000000001,
           0,
           0.5416666666666666,
           0.5416666666666666,
           0.125,
           0.8750000000000001,
           0.4166666666666667,
           0.4166666666666667,
           0,
           0,
           0
          ],
          [
           0.5416666666666666,
           0.2916666666666667,
           0.6666666666666667,
           0.4166666666666667,
           0.125,
           0.6666666666666667,
           0.125,
           0.4166666666666667,
           0.5416666666666666,
           0.5833333333333334,
           0.4166666666666667,
           0.5416666666666666,
           0.8750000000000001,
           0.8750000000000001,
           0,
           0.5416666666666666,
           0.5416666666666666,
           0.125,
           0.8750000000000001,
           0.4166666666666667,
           0.4166666666666667,
           0,
           0,
           0
          ]
         ]
        }
       ],
       "layout": {
        "coloraxis": {
         "colorscale": [
          [
           0,
           "#000004"
          ],
          [
           0.1111111111111111,
           "#1b0c41"
          ],
          [
           0.2222222222222222,
           "#4a0c6b"
          ],
          [
           0.3333333333333333,
           "#781c6d"
          ],
          [
           0.4444444444444444,
           "#a52c60"
          ],
          [
           0.5555555555555556,
           "#cf4446"
          ],
          [
           0.6666666666666666,
           "#ed6925"
          ],
          [
           0.7777777777777778,
           "#fb9b06"
          ],
          [
           0.8888888888888888,
           "#f7d13d"
          ],
          [
           1,
           "#fcffa4"
          ]
         ]
        },
        "height": 1200,
        "template": {
         "data": {
          "bar": [
           {
            "error_x": {
             "color": "#2a3f5f"
            },
            "error_y": {
             "color": "#2a3f5f"
            },
            "marker": {
             "line": {
              "color": "#E5ECF6",
              "width": 0.5
             },
             "pattern": {
              "fillmode": "overlay",
              "size": 10,
              "solidity": 0.2
             }
            },
            "type": "bar"
           }
          ],
          "barpolar": [
           {
            "marker": {
             "line": {
              "color": "#E5ECF6",
              "width": 0.5
             },
             "pattern": {
              "fillmode": "overlay",
              "size": 10,
              "solidity": 0.2
             }
            },
            "type": "barpolar"
           }
          ],
          "carpet": [
           {
            "aaxis": {
             "endlinecolor": "#2a3f5f",
             "gridcolor": "white",
             "linecolor": "white",
             "minorgridcolor": "white",
             "startlinecolor": "#2a3f5f"
            },
            "baxis": {
             "endlinecolor": "#2a3f5f",
             "gridcolor": "white",
             "linecolor": "white",
             "minorgridcolor": "white",
             "startlinecolor": "#2a3f5f"
            },
            "type": "carpet"
           }
          ],
          "choropleth": [
           {
            "colorbar": {
             "outlinewidth": 0,
             "ticks": ""
            },
            "type": "choropleth"
           }
          ],
          "contour": [
           {
            "colorbar": {
             "outlinewidth": 0,
             "ticks": ""
            },
            "colorscale": [
             [
              0,
              "#0d0887"
             ],
             [
              0.1111111111111111,
              "#46039f"
             ],
             [
              0.2222222222222222,
              "#7201a8"
             ],
             [
              0.3333333333333333,
              "#9c179e"
             ],
             [
              0.4444444444444444,
              "#bd3786"
             ],
             [
              0.5555555555555556,
              "#d8576b"
             ],
             [
              0.6666666666666666,
              "#ed7953"
             ],
             [
              0.7777777777777778,
              "#fb9f3a"
             ],
             [
              0.8888888888888888,
              "#fdca26"
             ],
             [
              1,
              "#f0f921"
             ]
            ],
            "type": "contour"
           }
          ],
          "contourcarpet": [
           {
            "colorbar": {
             "outlinewidth": 0,
             "ticks": ""
            },
            "type": "contourcarpet"
           }
          ],
          "heatmap": [
           {
            "colorbar": {
             "outlinewidth": 0,
             "ticks": ""
            },
            "colorscale": [
             [
              0,
              "#0d0887"
             ],
             [
              0.1111111111111111,
              "#46039f"
             ],
             [
              0.2222222222222222,
              "#7201a8"
             ],
             [
              0.3333333333333333,
              "#9c179e"
             ],
             [
              0.4444444444444444,
              "#bd3786"
             ],
             [
              0.5555555555555556,
              "#d8576b"
             ],
             [
              0.6666666666666666,
              "#ed7953"
             ],
             [
              0.7777777777777778,
              "#fb9f3a"
             ],
             [
              0.8888888888888888,
              "#fdca26"
             ],
             [
              1,
              "#f0f921"
             ]
            ],
            "type": "heatmap"
           }
          ],
          "heatmapgl": [
           {
            "colorbar": {
             "outlinewidth": 0,
             "ticks": ""
            },
            "colorscale": [
             [
              0,
              "#0d0887"
             ],
             [
              0.1111111111111111,
              "#46039f"
             ],
             [
              0.2222222222222222,
              "#7201a8"
             ],
             [
              0.3333333333333333,
              "#9c179e"
             ],
             [
              0.4444444444444444,
              "#bd3786"
             ],
             [
              0.5555555555555556,
              "#d8576b"
             ],
             [
              0.6666666666666666,
              "#ed7953"
             ],
             [
              0.7777777777777778,
              "#fb9f3a"
             ],
             [
              0.8888888888888888,
              "#fdca26"
             ],
             [
              1,
              "#f0f921"
             ]
            ],
            "type": "heatmapgl"
           }
          ],
          "histogram": [
           {
            "marker": {
             "pattern": {
              "fillmode": "overlay",
              "size": 10,
              "solidity": 0.2
             }
            },
            "type": "histogram"
           }
          ],
          "histogram2d": [
           {
            "colorbar": {
             "outlinewidth": 0,
             "ticks": ""
            },
            "colorscale": [
             [
              0,
              "#0d0887"
             ],
             [
              0.1111111111111111,
              "#46039f"
             ],
             [
              0.2222222222222222,
              "#7201a8"
             ],
             [
              0.3333333333333333,
              "#9c179e"
             ],
             [
              0.4444444444444444,
              "#bd3786"
             ],
             [
              0.5555555555555556,
              "#d8576b"
             ],
             [
              0.6666666666666666,
              "#ed7953"
             ],
             [
              0.7777777777777778,
              "#fb9f3a"
             ],
             [
              0.8888888888888888,
              "#fdca26"
             ],
             [
              1,
              "#f0f921"
             ]
            ],
            "type": "histogram2d"
           }
          ],
          "histogram2dcontour": [
           {
            "colorbar": {
             "outlinewidth": 0,
             "ticks": ""
            },
            "colorscale": [
             [
              0,
              "#0d0887"
             ],
             [
              0.1111111111111111,
              "#46039f"
             ],
             [
              0.2222222222222222,
              "#7201a8"
             ],
             [
              0.3333333333333333,
              "#9c179e"
             ],
             [
              0.4444444444444444,
              "#bd3786"
             ],
             [
              0.5555555555555556,
              "#d8576b"
             ],
             [
              0.6666666666666666,
              "#ed7953"
             ],
             [
              0.7777777777777778,
              "#fb9f3a"
             ],
             [
              0.8888888888888888,
              "#fdca26"
             ],
             [
              1,
              "#f0f921"
             ]
            ],
            "type": "histogram2dcontour"
           }
          ],
          "mesh3d": [
           {
            "colorbar": {
             "outlinewidth": 0,
             "ticks": ""
            },
            "type": "mesh3d"
           }
          ],
          "parcoords": [
           {
            "line": {
             "colorbar": {
              "outlinewidth": 0,
              "ticks": ""
             }
            },
            "type": "parcoords"
           }
          ],
          "pie": [
           {
            "automargin": true,
            "type": "pie"
           }
          ],
          "scatter": [
           {
            "marker": {
             "colorbar": {
              "outlinewidth": 0,
              "ticks": ""
             }
            },
            "type": "scatter"
           }
          ],
          "scatter3d": [
           {
            "line": {
             "colorbar": {
              "outlinewidth": 0,
              "ticks": ""
             }
            },
            "marker": {
             "colorbar": {
              "outlinewidth": 0,
              "ticks": ""
             }
            },
            "type": "scatter3d"
           }
          ],
          "scattercarpet": [
           {
            "marker": {
             "colorbar": {
              "outlinewidth": 0,
              "ticks": ""
             }
            },
            "type": "scattercarpet"
           }
          ],
          "scattergeo": [
           {
            "marker": {
             "colorbar": {
              "outlinewidth": 0,
              "ticks": ""
             }
            },
            "type": "scattergeo"
           }
          ],
          "scattergl": [
           {
            "marker": {
             "colorbar": {
              "outlinewidth": 0,
              "ticks": ""
             }
            },
            "type": "scattergl"
           }
          ],
          "scattermapbox": [
           {
            "marker": {
             "colorbar": {
              "outlinewidth": 0,
              "ticks": ""
             }
            },
            "type": "scattermapbox"
           }
          ],
          "scatterpolar": [
           {
            "marker": {
             "colorbar": {
              "outlinewidth": 0,
              "ticks": ""
             }
            },
            "type": "scatterpolar"
           }
          ],
          "scatterpolargl": [
           {
            "marker": {
             "colorbar": {
              "outlinewidth": 0,
              "ticks": ""
             }
            },
            "type": "scatterpolargl"
           }
          ],
          "scatterternary": [
           {
            "marker": {
             "colorbar": {
              "outlinewidth": 0,
              "ticks": ""
             }
            },
            "type": "scatterternary"
           }
          ],
          "surface": [
           {
            "colorbar": {
             "outlinewidth": 0,
             "ticks": ""
            },
            "colorscale": [
             [
              0,
              "#0d0887"
             ],
             [
              0.1111111111111111,
              "#46039f"
             ],
             [
              0.2222222222222222,
              "#7201a8"
             ],
             [
              0.3333333333333333,
              "#9c179e"
             ],
             [
              0.4444444444444444,
              "#bd3786"
             ],
             [
              0.5555555555555556,
              "#d8576b"
             ],
             [
              0.6666666666666666,
              "#ed7953"
             ],
             [
              0.7777777777777778,
              "#fb9f3a"
             ],
             [
              0.8888888888888888,
              "#fdca26"
             ],
             [
              1,
              "#f0f921"
             ]
            ],
            "type": "surface"
           }
          ],
          "table": [
           {
            "cells": {
             "fill": {
              "color": "#EBF0F8"
             },
             "line": {
              "color": "white"
             }
            },
            "header": {
             "fill": {
              "color": "#C8D4E3"
             },
             "line": {
              "color": "white"
             }
            },
            "type": "table"
           }
          ]
         },
         "layout": {
          "annotationdefaults": {
           "arrowcolor": "#2a3f5f",
           "arrowhead": 0,
           "arrowwidth": 1
          },
          "autotypenumbers": "strict",
          "coloraxis": {
           "colorbar": {
            "outlinewidth": 0,
            "ticks": ""
           }
          },
          "colorscale": {
           "diverging": [
            [
             0,
             "#8e0152"
            ],
            [
             0.1,
             "#c51b7d"
            ],
            [
             0.2,
             "#de77ae"
            ],
            [
             0.3,
             "#f1b6da"
            ],
            [
             0.4,
             "#fde0ef"
            ],
            [
             0.5,
             "#f7f7f7"
            ],
            [
             0.6,
             "#e6f5d0"
            ],
            [
             0.7,
             "#b8e186"
            ],
            [
             0.8,
             "#7fbc41"
            ],
            [
             0.9,
             "#4d9221"
            ],
            [
             1,
             "#276419"
            ]
           ],
           "sequential": [
            [
             0,
             "#0d0887"
            ],
            [
             0.1111111111111111,
             "#46039f"
            ],
            [
             0.2222222222222222,
             "#7201a8"
            ],
            [
             0.3333333333333333,
             "#9c179e"
            ],
            [
             0.4444444444444444,
             "#bd3786"
            ],
            [
             0.5555555555555556,
             "#d8576b"
            ],
            [
             0.6666666666666666,
             "#ed7953"
            ],
            [
             0.7777777777777778,
             "#fb9f3a"
            ],
            [
             0.8888888888888888,
             "#fdca26"
            ],
            [
             1,
             "#f0f921"
            ]
           ],
           "sequentialminus": [
            [
             0,
             "#0d0887"
            ],
            [
             0.1111111111111111,
             "#46039f"
            ],
            [
             0.2222222222222222,
             "#7201a8"
            ],
            [
             0.3333333333333333,
             "#9c179e"
            ],
            [
             0.4444444444444444,
             "#bd3786"
            ],
            [
             0.5555555555555556,
             "#d8576b"
            ],
            [
             0.6666666666666666,
             "#ed7953"
            ],
            [
             0.7777777777777778,
             "#fb9f3a"
            ],
            [
             0.8888888888888888,
             "#fdca26"
            ],
            [
             1,
             "#f0f921"
            ]
           ]
          },
          "colorway": [
           "#636efa",
           "#EF553B",
           "#00cc96",
           "#ab63fa",
           "#FFA15A",
           "#19d3f3",
           "#FF6692",
           "#B6E880",
           "#FF97FF",
           "#FECB52"
          ],
          "font": {
           "color": "#2a3f5f"
          },
          "geo": {
           "bgcolor": "white",
           "lakecolor": "white",
           "landcolor": "#E5ECF6",
           "showlakes": true,
           "showland": true,
           "subunitcolor": "white"
          },
          "hoverlabel": {
           "align": "left"
          },
          "hovermode": "closest",
          "mapbox": {
           "style": "light"
          },
          "paper_bgcolor": "white",
          "plot_bgcolor": "#E5ECF6",
          "polar": {
           "angularaxis": {
            "gridcolor": "white",
            "linecolor": "white",
            "ticks": ""
           },
           "bgcolor": "#E5ECF6",
           "radialaxis": {
            "gridcolor": "white",
            "linecolor": "white",
            "ticks": ""
           }
          },
          "scene": {
           "xaxis": {
            "backgroundcolor": "#E5ECF6",
            "gridcolor": "white",
            "gridwidth": 2,
            "linecolor": "white",
            "showbackground": true,
            "ticks": "",
            "zerolinecolor": "white"
           },
           "yaxis": {
            "backgroundcolor": "#E5ECF6",
            "gridcolor": "white",
            "gridwidth": 2,
            "linecolor": "white",
            "showbackground": true,
            "ticks": "",
            "zerolinecolor": "white"
           },
           "zaxis": {
            "backgroundcolor": "#E5ECF6",
            "gridcolor": "white",
            "gridwidth": 2,
            "linecolor": "white",
            "showbackground": true,
            "ticks": "",
            "zerolinecolor": "white"
           }
          },
          "shapedefaults": {
           "line": {
            "color": "#2a3f5f"
           }
          },
          "ternary": {
           "aaxis": {
            "gridcolor": "white",
            "linecolor": "white",
            "ticks": ""
           },
           "baxis": {
            "gridcolor": "white",
            "linecolor": "white",
            "ticks": ""
           },
           "bgcolor": "#E5ECF6",
           "caxis": {
            "gridcolor": "white",
            "linecolor": "white",
            "ticks": ""
           }
          },
          "title": {
           "x": 0.05
          },
          "xaxis": {
           "automargin": true,
           "gridcolor": "white",
           "linecolor": "white",
           "ticks": "",
           "title": {
            "standoff": 15
           },
           "zerolinecolor": "white",
           "zerolinewidth": 2
          },
          "yaxis": {
           "automargin": true,
           "gridcolor": "white",
           "linecolor": "white",
           "ticks": "",
           "title": {
            "standoff": 15
           },
           "zerolinecolor": "white",
           "zerolinewidth": 2
          }
         }
        },
        "title": {
         "text": "Расстояние по дереву"
        },
        "width": 1000,
        "xaxis": {
         "anchor": "y",
         "constrain": "domain",
         "domain": [
          0,
          1
         ],
         "scaleanchor": "y",
         "side": "top"
        },
        "yaxis": {
         "anchor": "x",
         "autorange": "reversed",
         "constrain": "domain",
         "domain": [
          0,
          1
         ]
        }
       }
      }
     },
     "metadata": {},
     "output_type": "display_data"
    }
   ],
   "source": [
    "matrRes = calcDistance(getTreeDistance, dfTree[\"семейства\"])\n",
    "draw(matrRes, nameArr, \"Расстояние по дереву\")\n"
   ]
  },
  {
   "cell_type": "markdown",
   "metadata": {},
   "source": [
    "#### Кобинированная мера"
   ]
  },
  {
   "cell_type": "code",
   "execution_count": 33,
   "metadata": {},
   "outputs": [
    {
     "data": {
      "application/vnd.plotly.v1+json": {
       "config": {
        "plotlyServerURL": "https://plot.ly"
       },
       "data": [
        {
         "coloraxis": "coloraxis",
         "hovertemplate": "x: %{x}<br>y: %{y}<br>color: %{z}<extra></extra>",
         "name": "0",
         "text": [
          "Shalimar",
          "3 L'Imperatrice",
          "1001 Nights",
          "Sabina",
          "Resolute Gold",
          "Oath for Him",
          "Twist",
          "CK Everyone",
          "Bad Boy",
          "Eau de Lacoste L.12.12 Blanc",
          "Ange ou Demon",
          "Samsara Eau de Parfum",
          "New Your Amber",
          "Renata",
          "Lanvin Eclat D Arpege",
          "MOSCHINO Toy Boy",
          "Cartier Declaration D Un Soir",
          "Channel №5",
          "Prada Day For Night",
          "Escentric Molecules Escentric 02",
          "The Only One",
          "Flora by Gucci Gorgeous Gardenia",
          "La Petite Robe Noire Ma Robe Cocktail",
          "La Petite Robe Noire Ma Robe Sous le Vent"
         ],
         "type": "heatmap",
         "x": [
          "Shalimar",
          "3 L'Imperatrice",
          "1001 Nights",
          "Sabina",
          "Resolute Gold",
          "Oath for Him",
          "Twist",
          "CK Everyone",
          "Bad Boy",
          "Eau de Lacoste L.12.12 Blanc",
          "Ange ou Demon",
          "Samsara Eau de Parfum",
          "New Your Amber",
          "Renata",
          "Lanvin Eclat D Arpege",
          "MOSCHINO Toy Boy",
          "Cartier Declaration D Un Soir",
          "Channel №5",
          "Prada Day For Night",
          "Escentric Molecules Escentric 02",
          "The Only One",
          "Flora by Gucci Gorgeous Gardenia",
          "La Petite Robe Noire Ma Robe Cocktail",
          "La Petite Robe Noire Ma Robe Sous le Vent"
         ],
         "xaxis": "x",
         "y": [
          "Shalimar",
          "3 L'Imperatrice",
          "1001 Nights",
          "Sabina",
          "Resolute Gold",
          "Oath for Him",
          "Twist",
          "CK Everyone",
          "Bad Boy",
          "Eau de Lacoste L.12.12 Blanc",
          "Ange ou Demon",
          "Samsara Eau de Parfum",
          "New Your Amber",
          "Renata",
          "Lanvin Eclat D Arpege",
          "MOSCHINO Toy Boy",
          "Cartier Declaration D Un Soir",
          "Channel №5",
          "Prada Day For Night",
          "Escentric Molecules Escentric 02",
          "The Only One",
          "Flora by Gucci Gorgeous Gardenia",
          "La Petite Robe Noire Ma Robe Cocktail",
          "La Petite Robe Noire Ma Robe Sous le Vent"
         ],
         "yaxis": "y",
         "z": [
          [
           0,
           0.7343194827698649,
           0.820070295378419,
           0.8714013217102008,
           0.8464155241021089,
           0.9067355257046322,
           0.8157280016201588,
           0.8788520056890212,
           0.7930360058721587,
           0.6594894304724593,
           0.20773177525144498,
           0.25893766926404976,
           0.7549290950266723,
           0.7131780896024386,
           0.6419097683276799,
           0.6600129617547272,
           0.5630125018193805,
           0.6188818269298709,
           0.6443637072790526,
           0.6970157039394674,
           0.6091885575302733,
           0.4697945570442356,
           0.29086513481016163,
           0.29860446236874433
          ],
          [
           0.7343194827698649,
           0,
           0.7174901001475741,
           0.6873064627285456,
           0.655278658593861,
           0.7734929225757424,
           0.6319085912646616,
           0.6548603735625086,
           0.7307944666587397,
           0.7319233005779447,
           0.6286493755733247,
           0.754343468375398,
           0.7734706987961447,
           0.8635748837632894,
           0.5583674424709422,
           0.5545207896270751,
           0.7354280469880322,
           0.6107118031711571,
           0.6213817328283847,
           0.7763241861728097,
           0.3133189950994549,
           0.3543697256439379,
           0.5513893470376731,
           0.5748310330352584
          ],
          [
           0.820070295378419,
           0.7174901001475741,
           0,
           0.2347812089148539,
           0.5089808711770164,
           0.1934409415561675,
           0.49007347906399734,
           0.827668134403387,
           0.7761545019205534,
           0.795650666027004,
           0.81392522442733,
           0.8257056589285799,
           0.866062979524368,
           0.8091389561373101,
           0.7772225576519689,
           0.7165162175977485,
           0.7945818347542934,
           0.8097346521142101,
           0.8342562242267016,
           0.800262325793396,
           0.8106464916883432,
           0.7206379755019767,
           0.7097301141554344,
           0.7356904789391532
          ],
          [
           0.8714013217102008,
           0.6873064627285456,
           0.2347812089148539,
           0,
           0.44888808527326063,
           0.2682523086208603,
           0.4623428221937,
           0.7697797982427751,
           0.8398749664881363,
           0.8645591501734141,
           0.8377699469174866,
           0.8860471363458309,
           0.8085537891359601,
           0.7433776292370413,
           0.6839563962453378,
           0.8148442676884452,
           0.8878764819941107,
           0.7226618967781849,
           0.7878718939732188,
           0.82111530034538,
           0.7614028760281748,
           0.6538795653688048,
           0.675655387459442,
           0.6507430507030219
          ],
          [
           0.8464155241021089,
           0.655278658593861,
           0.5089808711770164,
           0.44888808527326063,
           0,
           0.48776229260666343,
           0.4253653831316638,
           0.7514883921334091,
           0.7932496410965636,
           0.7978055240477147,
           0.799634621853048,
           0.8177473012923745,
           0.7982894820272896,
           0.7815531957204601,
           0.6863170246496997,
           0.7611923420989525,
           0.8348606412449363,
           0.6678005392527449,
           0.7672724616014712,
           0.7944839428015913,
           0.7484062919651367,
           0.6572324297376267,
           0.6726411466484413,
           0.6626479267351681
          ],
          [
           0.9067355257046322,
           0.7734929225757424,
           0.1934409415561675,
           0.2682523086208603,
           0.48776229260666343,
           0,
           0.507181331421958,
           0.8082579341934495,
           0.7511923241217402,
           0.7248932456586201,
           0.8958723133639107,
           0.7809722604946575,
           0.8285136971774593,
           0.8337844108055968,
           0.791386905105183,
           0.7710509263339932,
           0.7815849840833431,
           0.7470349419327135,
           0.7509562182903139,
           0.8781972580170603,
           0.7795684799744486,
           0.7756972711122155,
           0.7916569851919851,
           0.7762307505257794
          ],
          [
           0.8157280016201588,
           0.6319085912646616,
           0.49007347906399734,
           0.4623428221937,
           0.4253653831316638,
           0.507181331421958,
           0,
           0.691051734185362,
           0.7624897213704712,
           0.7910073667287923,
           0.7734556516931058,
           0.8363952171385782,
           0.8316885757482946,
           0.7994066119586328,
           0.6675679350106308,
           0.7647431557014286,
           0.7830669365786392,
           0.6883247111541162,
           0.7832701798225197,
           0.5070182379063322,
           0.6988746146469479,
           0.6386039074240024,
           0.6410162625128064,
           0.6446798394344813
          ],
          [
           0.8788520056890212,
           0.6548603735625086,
           0.827668134403387,
           0.7697797982427751,
           0.7514883921334091,
           0.8082579341934495,
           0.691051734185362,
           0,
           0.2617099678036913,
           0.8254478042332851,
           0.8689460447941124,
           0.8962493109809054,
           0.6306616039451285,
           0.8271692490460443,
           0.7273339673006745,
           0.7326468808778325,
           0.5470607348653139,
           0.5221942400142391,
           0.7395351074022699,
           0.8456953267905291,
           0.685006796303252,
           0.6490063066033459,
           0.7480112611073165,
           0.7371089782728792
          ],
          [
           0.7930360058721587,
           0.7307944666587397,
           0.7761545019205534,
           0.8398749664881363,
           0.7932496410965636,
           0.7511923241217402,
           0.7624897213704712,
           0.2617099678036913,
           0,
           0.7385180360524451,
           0.8863268686023421,
           0.817305165532008,
           0.6227757347133741,
           0.8402733355414093,
           0.8212206736876759,
           0.5521894591909987,
           0.3718608542153003,
           0.5725967702014015,
           0.7392293586702413,
           0.881137628982603,
           0.7086257312436851,
           0.7332019337154864,
           0.8187277942268659,
           0.7942225950241125
          ],
          [
           0.6594894304724593,
           0.7319233005779447,
           0.795650666027004,
           0.8645591501734141,
           0.7978055240477147,
           0.7248932456586201,
           0.7910073667287923,
           0.8254478042332851,
           0.7385180360524451,
           0,
           0.6776457929112133,
           0.5752956277706622,
           0.8830654772992468,
           0.8968548254168851,
           0.33800470449624587,
           0.637698224520999,
           0.47575970917466787,
           0.6030700543641139,
           0.7441721746488866,
           0.8918824443411321,
           0.7529961768942124,
           0.7341605675550346,
           0.6041643686567537,
           0.6176301827268224
          ],
          [
           0.20773177525144498,
           0.6286493755733247,
           0.81392522442733,
           0.8377699469174866,
           0.799634621853048,
           0.8958723133639107,
           0.7734556516931058,
           0.8689460447941124,
           0.8863268686023421,
           0.6776457929112133,
           0,
           0.23709664043467502,
           0.7546406947221856,
           0.7038397214128057,
           0.5576567908246877,
           0.7735942475571311,
           0.6659848955252967,
           0.567602697595006,
           0.6291276996703096,
           0.6766487552517612,
           0.5774181869133929,
           0.3641065451370918,
           0.2703392176678373,
           0.27708573147846
          ],
          [
           0.25893766926404976,
           0.754343468375398,
           0.8257056589285799,
           0.8860471363458309,
           0.8177473012923745,
           0.7809722604946575,
           0.8363952171385782,
           0.8962493109809054,
           0.817305165532008,
           0.5752956277706622,
           0.23709664043467502,
           0,
           0.7569877518000755,
           0.7490079931676272,
           0.5980192199440736,
           0.7426416778978467,
           0.6248668993328501,
           0.5605087442741171,
           0.5963729161156288,
           0.7736491694835929,
           0.6086368564496444,
           0.49755753275123366,
           0.36808758342395653,
           0.35193554391709486
          ],
          [
           0.7549290950266723,
           0.7734706987961447,
           0.866062979524368,
           0.8085537891359601,
           0.7982894820272896,
           0.8285136971774593,
           0.8316885757482946,
           0.6306616039451285,
           0.6227757347133741,
           0.8830654772992468,
           0.7546406947221856,
           0.7569877518000755,
           0,
           0.6439689134772107,
           0.8790068899152765,
           0.7902890169234477,
           0.9201837085874995,
           0.8529924511570036,
           0.5042548660502484,
           0.7467777300655939,
           0.5861849725086359,
           0.7768563635287792,
           0.8569094218247059,
           0.8415395412459084
          ],
          [
           0.7131780896024386,
           0.8635748837632894,
           0.8091389561373101,
           0.7433776292370413,
           0.7815531957204601,
           0.8337844108055968,
           0.7994066119586328,
           0.8271692490460443,
           0.8402733355414093,
           0.8968548254168851,
           0.7038397214128057,
           0.7490079931676272,
           0.6439689134772107,
           0,
           0.8109899002472858,
           0.8883241539759772,
           0.9084425482241374,
           0.8316923271808598,
           0.6896215506572132,
           0.7439912483412319,
           0.6882526516437827,
           0.8201461530940388,
           0.7863114756019925,
           0.7551212698439798
          ],
          [
           0.6419097683276799,
           0.5583674424709422,
           0.7772225576519689,
           0.6839563962453378,
           0.6863170246496997,
           0.791386905105183,
           0.6675679350106308,
           0.7273339673006745,
           0.8212206736876759,
           0.33800470449624587,
           0.5576567908246877,
           0.5980192199440736,
           0.8790068899152765,
           0.8109899002472858,
           0,
           0.7258590230790373,
           0.6008057710112242,
           0.4529863882930353,
           0.7285500486217489,
           0.8033898589626788,
           0.6907470005173644,
           0.5191544003141274,
           0.4240904500789243,
           0.4120702526180544
          ],
          [
           0.6600129617547272,
           0.5545207896270751,
           0.7165162175977485,
           0.8148442676884452,
           0.7611923420989525,
           0.7710509263339932,
           0.7647431557014286,
           0.7326468808778325,
           0.5521894591909987,
           0.637698224520999,
           0.7735942475571311,
           0.7426416778978467,
           0.7902890169234477,
           0.8883241539759772,
           0.7258590230790373,
           0,
           0.5600017867848076,
           0.7557919621749409,
           0.6608291542817367,
           0.8331085253345916,
           0.6293566061483076,
           0.549640397941818,
           0.6806250627621001,
           0.7021572884216376
          ],
          [
           0.5630125018193805,
           0.7354280469880322,
           0.7945818347542934,
           0.8878764819941107,
           0.8348606412449363,
           0.7815849840833431,
           0.7830669365786392,
           0.5470607348653139,
           0.3718608542153003,
           0.47575970917466787,
           0.6659848955252967,
           0.6248668993328501,
           0.9201837085874995,
           0.9084425482241374,
           0.6008057710112242,
           0.5600017867848076,
           0,
           0.35467960749568733,
           0.7889627083711425,
           0.8753746714139969,
           0.7615509661160575,
           0.7373085448036599,
           0.5963650967619972,
           0.6123581394133021
          ],
          [
           0.6188818269298709,
           0.6107118031711571,
           0.8097346521142101,
           0.7226618967781849,
           0.6678005392527449,
           0.7470349419327135,
           0.6883247111541162,
           0.5221942400142391,
           0.5725967702014015,
           0.6030700543641139,
           0.567602697595006,
           0.5605087442741171,
           0.8529924511570036,
           0.8316923271808598,
           0.4529863882930353,
           0.7557919621749409,
           0.35467960749568733,
           0,
           0.6959220606372865,
           0.8286182845712518,
           0.6650967810139121,
           0.6034569928085785,
           0.484505983507745,
           0.46005986656776277
          ],
          [
           0.6443637072790526,
           0.6213817328283847,
           0.8342562242267016,
           0.7878718939732188,
           0.7672724616014712,
           0.7509562182903139,
           0.7832701798225197,
           0.7395351074022699,
           0.7392293586702413,
           0.7441721746488866,
           0.6291276996703096,
           0.5963729161156288,
           0.5042548660502484,
           0.6896215506572132,
           0.7285500486217489,
           0.6608291542817367,
           0.7889627083711425,
           0.6959220606372865,
           0,
           0.75515119630593,
           0.4280702115672843,
           0.6150415176583738,
           0.7546999692088718,
           0.7394952094516388
          ],
          [
           0.6970157039394674,
           0.7763241861728097,
           0.800262325793396,
           0.82111530034538,
           0.7944839428015913,
           0.8781972580170603,
           0.5070182379063322,
           0.8456953267905291,
           0.881137628982603,
           0.8918824443411321,
           0.6766487552517612,
           0.7736491694835929,
           0.7467777300655939,
           0.7439912483412319,
           0.8033898589626788,
           0.8331085253345916,
           0.8753746714139969,
           0.8286182845712518,
           0.75515119630593,
           0,
           0.6822507326464706,
           0.7809153697461434,
           0.7563324611182336,
           0.7798586885139422
          ],
          [
           0.6091885575302733,
           0.3133189950994549,
           0.8106464916883432,
           0.7614028760281748,
           0.7484062919651367,
           0.7795684799744486,
           0.6988746146469479,
           0.685006796303252,
           0.7086257312436851,
           0.7529961768942124,
           0.5774181869133929,
           0.6086368564496444,
           0.5861849725086359,
           0.6882526516437827,
           0.6907470005173644,
           0.6293566061483076,
           0.7615509661160575,
           0.6650967810139121,
           0.4280702115672843,
           0.6822507326464706,
           0,
           0.561350720480332,
           0.6891403870048243,
           0.6635033211761256
          ],
          [
           0.4697945570442356,
           0.3543697256439379,
           0.7206379755019767,
           0.6538795653688048,
           0.6572324297376267,
           0.7756972711122155,
           0.6386039074240024,
           0.6490063066033459,
           0.7332019337154864,
           0.7341605675550346,
           0.3641065451370918,
           0.49755753275123366,
           0.7768563635287792,
           0.8201461530940388,
           0.5191544003141274,
           0.549640397941818,
           0.7373085448036599,
           0.6034569928085785,
           0.6150415176583738,
           0.7809153697461434,
           0.561350720480332,
           0,
           0.2548860177030153,
           0.268337800101544
          ],
          [
           0.29086513481016163,
           0.5513893470376731,
           0.7097301141554344,
           0.675655387459442,
           0.6726411466484413,
           0.7916569851919851,
           0.6410162625128064,
           0.7480112611073165,
           0.8187277942268659,
           0.6041643686567537,
           0.2703392176678373,
           0.36808758342395653,
           0.8569094218247059,
           0.7863114756019925,
           0.4240904500789243,
           0.6806250627621001,
           0.5963650967619972,
           0.484505983507745,
           0.7546999692088718,
           0.7563324611182336,
           0.6891403870048243,
           0.2548860177030153,
           0,
           0.1069281410006651
          ],
          [
           0.29860446236874433,
           0.5748310330352584,
           0.7356904789391532,
           0.6507430507030219,
           0.6626479267351681,
           0.7762307505257794,
           0.6446798394344813,
           0.7371089782728792,
           0.7942225950241125,
           0.6176301827268224,
           0.27708573147846,
           0.35193554391709486,
           0.8415395412459084,
           0.7551212698439798,
           0.4120702526180544,
           0.7021572884216376,
           0.6123581394133021,
           0.46005986656776277,
           0.7394952094516388,
           0.7798586885139422,
           0.6635033211761256,
           0.268337800101544,
           0.1069281410006651,
           0
          ]
         ]
        }
       ],
       "layout": {
        "coloraxis": {
         "colorscale": [
          [
           0,
           "#000004"
          ],
          [
           0.1111111111111111,
           "#1b0c41"
          ],
          [
           0.2222222222222222,
           "#4a0c6b"
          ],
          [
           0.3333333333333333,
           "#781c6d"
          ],
          [
           0.4444444444444444,
           "#a52c60"
          ],
          [
           0.5555555555555556,
           "#cf4446"
          ],
          [
           0.6666666666666666,
           "#ed6925"
          ],
          [
           0.7777777777777778,
           "#fb9b06"
          ],
          [
           0.8888888888888888,
           "#f7d13d"
          ],
          [
           1,
           "#fcffa4"
          ]
         ]
        },
        "height": 1200,
        "template": {
         "data": {
          "bar": [
           {
            "error_x": {
             "color": "#2a3f5f"
            },
            "error_y": {
             "color": "#2a3f5f"
            },
            "marker": {
             "line": {
              "color": "#E5ECF6",
              "width": 0.5
             },
             "pattern": {
              "fillmode": "overlay",
              "size": 10,
              "solidity": 0.2
             }
            },
            "type": "bar"
           }
          ],
          "barpolar": [
           {
            "marker": {
             "line": {
              "color": "#E5ECF6",
              "width": 0.5
             },
             "pattern": {
              "fillmode": "overlay",
              "size": 10,
              "solidity": 0.2
             }
            },
            "type": "barpolar"
           }
          ],
          "carpet": [
           {
            "aaxis": {
             "endlinecolor": "#2a3f5f",
             "gridcolor": "white",
             "linecolor": "white",
             "minorgridcolor": "white",
             "startlinecolor": "#2a3f5f"
            },
            "baxis": {
             "endlinecolor": "#2a3f5f",
             "gridcolor": "white",
             "linecolor": "white",
             "minorgridcolor": "white",
             "startlinecolor": "#2a3f5f"
            },
            "type": "carpet"
           }
          ],
          "choropleth": [
           {
            "colorbar": {
             "outlinewidth": 0,
             "ticks": ""
            },
            "type": "choropleth"
           }
          ],
          "contour": [
           {
            "colorbar": {
             "outlinewidth": 0,
             "ticks": ""
            },
            "colorscale": [
             [
              0,
              "#0d0887"
             ],
             [
              0.1111111111111111,
              "#46039f"
             ],
             [
              0.2222222222222222,
              "#7201a8"
             ],
             [
              0.3333333333333333,
              "#9c179e"
             ],
             [
              0.4444444444444444,
              "#bd3786"
             ],
             [
              0.5555555555555556,
              "#d8576b"
             ],
             [
              0.6666666666666666,
              "#ed7953"
             ],
             [
              0.7777777777777778,
              "#fb9f3a"
             ],
             [
              0.8888888888888888,
              "#fdca26"
             ],
             [
              1,
              "#f0f921"
             ]
            ],
            "type": "contour"
           }
          ],
          "contourcarpet": [
           {
            "colorbar": {
             "outlinewidth": 0,
             "ticks": ""
            },
            "type": "contourcarpet"
           }
          ],
          "heatmap": [
           {
            "colorbar": {
             "outlinewidth": 0,
             "ticks": ""
            },
            "colorscale": [
             [
              0,
              "#0d0887"
             ],
             [
              0.1111111111111111,
              "#46039f"
             ],
             [
              0.2222222222222222,
              "#7201a8"
             ],
             [
              0.3333333333333333,
              "#9c179e"
             ],
             [
              0.4444444444444444,
              "#bd3786"
             ],
             [
              0.5555555555555556,
              "#d8576b"
             ],
             [
              0.6666666666666666,
              "#ed7953"
             ],
             [
              0.7777777777777778,
              "#fb9f3a"
             ],
             [
              0.8888888888888888,
              "#fdca26"
             ],
             [
              1,
              "#f0f921"
             ]
            ],
            "type": "heatmap"
           }
          ],
          "heatmapgl": [
           {
            "colorbar": {
             "outlinewidth": 0,
             "ticks": ""
            },
            "colorscale": [
             [
              0,
              "#0d0887"
             ],
             [
              0.1111111111111111,
              "#46039f"
             ],
             [
              0.2222222222222222,
              "#7201a8"
             ],
             [
              0.3333333333333333,
              "#9c179e"
             ],
             [
              0.4444444444444444,
              "#bd3786"
             ],
             [
              0.5555555555555556,
              "#d8576b"
             ],
             [
              0.6666666666666666,
              "#ed7953"
             ],
             [
              0.7777777777777778,
              "#fb9f3a"
             ],
             [
              0.8888888888888888,
              "#fdca26"
             ],
             [
              1,
              "#f0f921"
             ]
            ],
            "type": "heatmapgl"
           }
          ],
          "histogram": [
           {
            "marker": {
             "pattern": {
              "fillmode": "overlay",
              "size": 10,
              "solidity": 0.2
             }
            },
            "type": "histogram"
           }
          ],
          "histogram2d": [
           {
            "colorbar": {
             "outlinewidth": 0,
             "ticks": ""
            },
            "colorscale": [
             [
              0,
              "#0d0887"
             ],
             [
              0.1111111111111111,
              "#46039f"
             ],
             [
              0.2222222222222222,
              "#7201a8"
             ],
             [
              0.3333333333333333,
              "#9c179e"
             ],
             [
              0.4444444444444444,
              "#bd3786"
             ],
             [
              0.5555555555555556,
              "#d8576b"
             ],
             [
              0.6666666666666666,
              "#ed7953"
             ],
             [
              0.7777777777777778,
              "#fb9f3a"
             ],
             [
              0.8888888888888888,
              "#fdca26"
             ],
             [
              1,
              "#f0f921"
             ]
            ],
            "type": "histogram2d"
           }
          ],
          "histogram2dcontour": [
           {
            "colorbar": {
             "outlinewidth": 0,
             "ticks": ""
            },
            "colorscale": [
             [
              0,
              "#0d0887"
             ],
             [
              0.1111111111111111,
              "#46039f"
             ],
             [
              0.2222222222222222,
              "#7201a8"
             ],
             [
              0.3333333333333333,
              "#9c179e"
             ],
             [
              0.4444444444444444,
              "#bd3786"
             ],
             [
              0.5555555555555556,
              "#d8576b"
             ],
             [
              0.6666666666666666,
              "#ed7953"
             ],
             [
              0.7777777777777778,
              "#fb9f3a"
             ],
             [
              0.8888888888888888,
              "#fdca26"
             ],
             [
              1,
              "#f0f921"
             ]
            ],
            "type": "histogram2dcontour"
           }
          ],
          "mesh3d": [
           {
            "colorbar": {
             "outlinewidth": 0,
             "ticks": ""
            },
            "type": "mesh3d"
           }
          ],
          "parcoords": [
           {
            "line": {
             "colorbar": {
              "outlinewidth": 0,
              "ticks": ""
             }
            },
            "type": "parcoords"
           }
          ],
          "pie": [
           {
            "automargin": true,
            "type": "pie"
           }
          ],
          "scatter": [
           {
            "marker": {
             "colorbar": {
              "outlinewidth": 0,
              "ticks": ""
             }
            },
            "type": "scatter"
           }
          ],
          "scatter3d": [
           {
            "line": {
             "colorbar": {
              "outlinewidth": 0,
              "ticks": ""
             }
            },
            "marker": {
             "colorbar": {
              "outlinewidth": 0,
              "ticks": ""
             }
            },
            "type": "scatter3d"
           }
          ],
          "scattercarpet": [
           {
            "marker": {
             "colorbar": {
              "outlinewidth": 0,
              "ticks": ""
             }
            },
            "type": "scattercarpet"
           }
          ],
          "scattergeo": [
           {
            "marker": {
             "colorbar": {
              "outlinewidth": 0,
              "ticks": ""
             }
            },
            "type": "scattergeo"
           }
          ],
          "scattergl": [
           {
            "marker": {
             "colorbar": {
              "outlinewidth": 0,
              "ticks": ""
             }
            },
            "type": "scattergl"
           }
          ],
          "scattermapbox": [
           {
            "marker": {
             "colorbar": {
              "outlinewidth": 0,
              "ticks": ""
             }
            },
            "type": "scattermapbox"
           }
          ],
          "scatterpolar": [
           {
            "marker": {
             "colorbar": {
              "outlinewidth": 0,
              "ticks": ""
             }
            },
            "type": "scatterpolar"
           }
          ],
          "scatterpolargl": [
           {
            "marker": {
             "colorbar": {
              "outlinewidth": 0,
              "ticks": ""
             }
            },
            "type": "scatterpolargl"
           }
          ],
          "scatterternary": [
           {
            "marker": {
             "colorbar": {
              "outlinewidth": 0,
              "ticks": ""
             }
            },
            "type": "scatterternary"
           }
          ],
          "surface": [
           {
            "colorbar": {
             "outlinewidth": 0,
             "ticks": ""
            },
            "colorscale": [
             [
              0,
              "#0d0887"
             ],
             [
              0.1111111111111111,
              "#46039f"
             ],
             [
              0.2222222222222222,
              "#7201a8"
             ],
             [
              0.3333333333333333,
              "#9c179e"
             ],
             [
              0.4444444444444444,
              "#bd3786"
             ],
             [
              0.5555555555555556,
              "#d8576b"
             ],
             [
              0.6666666666666666,
              "#ed7953"
             ],
             [
              0.7777777777777778,
              "#fb9f3a"
             ],
             [
              0.8888888888888888,
              "#fdca26"
             ],
             [
              1,
              "#f0f921"
             ]
            ],
            "type": "surface"
           }
          ],
          "table": [
           {
            "cells": {
             "fill": {
              "color": "#EBF0F8"
             },
             "line": {
              "color": "white"
             }
            },
            "header": {
             "fill": {
              "color": "#C8D4E3"
             },
             "line": {
              "color": "white"
             }
            },
            "type": "table"
           }
          ]
         },
         "layout": {
          "annotationdefaults": {
           "arrowcolor": "#2a3f5f",
           "arrowhead": 0,
           "arrowwidth": 1
          },
          "autotypenumbers": "strict",
          "coloraxis": {
           "colorbar": {
            "outlinewidth": 0,
            "ticks": ""
           }
          },
          "colorscale": {
           "diverging": [
            [
             0,
             "#8e0152"
            ],
            [
             0.1,
             "#c51b7d"
            ],
            [
             0.2,
             "#de77ae"
            ],
            [
             0.3,
             "#f1b6da"
            ],
            [
             0.4,
             "#fde0ef"
            ],
            [
             0.5,
             "#f7f7f7"
            ],
            [
             0.6,
             "#e6f5d0"
            ],
            [
             0.7,
             "#b8e186"
            ],
            [
             0.8,
             "#7fbc41"
            ],
            [
             0.9,
             "#4d9221"
            ],
            [
             1,
             "#276419"
            ]
           ],
           "sequential": [
            [
             0,
             "#0d0887"
            ],
            [
             0.1111111111111111,
             "#46039f"
            ],
            [
             0.2222222222222222,
             "#7201a8"
            ],
            [
             0.3333333333333333,
             "#9c179e"
            ],
            [
             0.4444444444444444,
             "#bd3786"
            ],
            [
             0.5555555555555556,
             "#d8576b"
            ],
            [
             0.6666666666666666,
             "#ed7953"
            ],
            [
             0.7777777777777778,
             "#fb9f3a"
            ],
            [
             0.8888888888888888,
             "#fdca26"
            ],
            [
             1,
             "#f0f921"
            ]
           ],
           "sequentialminus": [
            [
             0,
             "#0d0887"
            ],
            [
             0.1111111111111111,
             "#46039f"
            ],
            [
             0.2222222222222222,
             "#7201a8"
            ],
            [
             0.3333333333333333,
             "#9c179e"
            ],
            [
             0.4444444444444444,
             "#bd3786"
            ],
            [
             0.5555555555555556,
             "#d8576b"
            ],
            [
             0.6666666666666666,
             "#ed7953"
            ],
            [
             0.7777777777777778,
             "#fb9f3a"
            ],
            [
             0.8888888888888888,
             "#fdca26"
            ],
            [
             1,
             "#f0f921"
            ]
           ]
          },
          "colorway": [
           "#636efa",
           "#EF553B",
           "#00cc96",
           "#ab63fa",
           "#FFA15A",
           "#19d3f3",
           "#FF6692",
           "#B6E880",
           "#FF97FF",
           "#FECB52"
          ],
          "font": {
           "color": "#2a3f5f"
          },
          "geo": {
           "bgcolor": "white",
           "lakecolor": "white",
           "landcolor": "#E5ECF6",
           "showlakes": true,
           "showland": true,
           "subunitcolor": "white"
          },
          "hoverlabel": {
           "align": "left"
          },
          "hovermode": "closest",
          "mapbox": {
           "style": "light"
          },
          "paper_bgcolor": "white",
          "plot_bgcolor": "#E5ECF6",
          "polar": {
           "angularaxis": {
            "gridcolor": "white",
            "linecolor": "white",
            "ticks": ""
           },
           "bgcolor": "#E5ECF6",
           "radialaxis": {
            "gridcolor": "white",
            "linecolor": "white",
            "ticks": ""
           }
          },
          "scene": {
           "xaxis": {
            "backgroundcolor": "#E5ECF6",
            "gridcolor": "white",
            "gridwidth": 2,
            "linecolor": "white",
            "showbackground": true,
            "ticks": "",
            "zerolinecolor": "white"
           },
           "yaxis": {
            "backgroundcolor": "#E5ECF6",
            "gridcolor": "white",
            "gridwidth": 2,
            "linecolor": "white",
            "showbackground": true,
            "ticks": "",
            "zerolinecolor": "white"
           },
           "zaxis": {
            "backgroundcolor": "#E5ECF6",
            "gridcolor": "white",
            "gridwidth": 2,
            "linecolor": "white",
            "showbackground": true,
            "ticks": "",
            "zerolinecolor": "white"
           }
          },
          "shapedefaults": {
           "line": {
            "color": "#2a3f5f"
           }
          },
          "ternary": {
           "aaxis": {
            "gridcolor": "white",
            "linecolor": "white",
            "ticks": ""
           },
           "baxis": {
            "gridcolor": "white",
            "linecolor": "white",
            "ticks": ""
           },
           "bgcolor": "#E5ECF6",
           "caxis": {
            "gridcolor": "white",
            "linecolor": "white",
            "ticks": ""
           }
          },
          "title": {
           "x": 0.05
          },
          "xaxis": {
           "automargin": true,
           "gridcolor": "white",
           "linecolor": "white",
           "ticks": "",
           "title": {
            "standoff": 15
           },
           "zerolinecolor": "white",
           "zerolinewidth": 2
          },
          "yaxis": {
           "automargin": true,
           "gridcolor": "white",
           "linecolor": "white",
           "ticks": "",
           "title": {
            "standoff": 15
           },
           "zerolinecolor": "white",
           "zerolinewidth": 2
          }
         }
        },
        "title": {
         "text": "Комбинированная мера"
        },
        "width": 1000,
        "xaxis": {
         "anchor": "y",
         "constrain": "domain",
         "domain": [
          0,
          1
         ],
         "scaleanchor": "y",
         "side": "top"
        },
        "yaxis": {
         "anchor": "x",
         "autorange": "reversed",
         "constrain": "domain",
         "domain": [
          0,
          1
         ]
        }
       }
      }
     },
     "metadata": {},
     "output_type": "display_data"
    }
   ],
   "source": [
    "draw(calcDistanceCompined(df, dfTree), nameArr, \"Комбинированная мера\")"
   ]
  },
  {
   "cell_type": "markdown",
   "metadata": {},
   "source": [
    "## Лабораторная работа 3"
   ]
  },
  {
   "cell_type": "markdown",
   "metadata": {},
   "source": [
    "#### Требуемые параметры"
   ]
  },
  {
   "cell_type": "code",
   "execution_count": 34,
   "metadata": {},
   "outputs": [],
   "source": [
    "matrSimilarity = calcDistanceCompined(df, dfTree)"
   ]
  },
  {
   "cell_type": "markdown",
   "metadata": {},
   "source": [
    "### Задача 1"
   ]
  },
  {
   "cell_type": "markdown",
   "metadata": {},
   "source": [
    "**Вход**: 1 объект (затравочный). \n",
    "\n",
    "**Выход**: список рекомендаций, ранжированный по убыванию близости с затравкой. Примените Вашу обобщающую меру близости."
   ]
  },
  {
   "cell_type": "code",
   "execution_count": 35,
   "metadata": {},
   "outputs": [],
   "source": [
    "def printRes(arr):\n",
    "    print(\"расстояние \\t\\t\\t название\")\n",
    "    for elem in arr:\n",
    "        for key, value in elem.items():\n",
    "            print(\"{0}\\t\\t{1}\".format(value, key))"
   ]
  },
  {
   "cell_type": "code",
   "execution_count": 36,
   "metadata": {},
   "outputs": [
    {
     "name": "stdout",
     "output_type": "stream",
     "text": [
      "    расстояние                                   название\n",
      "23    0.106928  La Petite Robe Noire Ma Robe Sous le Vent\n",
      "21    0.254886           Flora by Gucci Gorgeous Gardenia\n",
      "10    0.270339                              Ange ou Demon\n",
      "0     0.290865                                   Shalimar\n",
      "11    0.368088                      Samsara Eau de Parfum\n",
      "14    0.424090                      Lanvin Eclat D Arpege\n",
      "17    0.484506                                 Channel №5\n",
      "1     0.551389                            3 L'Imperatrice\n",
      "16    0.596365              Cartier Declaration D Un Soir\n",
      "9     0.604164               Eau de Lacoste L.12.12 Blanc\n",
      "6     0.641016                                      Twist\n",
      "4     0.672641                              Resolute Gold\n",
      "3     0.675655                                     Sabina\n",
      "15    0.680625                           MOSCHINO Toy Boy\n",
      "20    0.689140                               The Only One\n",
      "2     0.709730                                1001 Nights\n",
      "7     0.748011                                CK Everyone\n",
      "18    0.754700                        Prada Day For Night\n",
      "19    0.756332           Escentric Molecules Escentric 02\n",
      "13    0.786311                                     Renata\n",
      "5     0.791657                               Oath for Him\n",
      "8     0.818728                                    Bad Boy\n",
      "12    0.856909                             New Your Amber\n"
     ]
    }
   ],
   "source": [
    "def _findSimilar(name):\n",
    "    ind = df0[F_NAME].tolist().index(name)\n",
    "    \n",
    "    listSimilarity = getSimilarity(ind, matrSimilarity, nameArr)\n",
    "    return listSimilarity\n",
    "\n",
    "\n",
    "def findSimilar(name):\n",
    "    listSimilarity = _findSimilar(name)\n",
    "\n",
    "    return listSimilarity[listSimilarity[F_NAME] != name]\n",
    "    \n",
    "res = findSimilar(\"La Petite Robe Noire Ma Robe Cocktail\")\n",
    "print(res)"
   ]
  },
  {
   "cell_type": "markdown",
   "metadata": {},
   "source": [
    "### Задача 2"
   ]
  },
  {
   "cell_type": "markdown",
   "metadata": {},
   "source": [
    "**Вход**: массив объектов (лайков). \n",
    "\n",
    "**Выход**: сформированный ранжированный список рекомендаций."
   ]
  },
  {
   "cell_type": "code",
   "execution_count": 37,
   "metadata": {},
   "outputs": [
    {
     "name": "stdout",
     "output_type": "stream",
     "text": [
      "расстояние \t\t\t название\n",
      "0.1069281410006651\t\tLa Petite Robe Noire Ma Robe Sous le Vent\n",
      "0.1934409415561675\t\tOath for Him\n",
      "0.2347812089148539\t\tSabina\n",
      "0.2548860177030153\t\tFlora by Gucci Gorgeous Gardenia\n",
      "0.2703392176678373\t\tAnge ou Demon\n",
      "0.29086513481016163\t\tShalimar\n",
      "0.36808758342395653\t\tSamsara Eau de Parfum\n",
      "0.4240904500789243\t\tLanvin Eclat D Arpege\n",
      "0.484505983507745\t\tChannel №5\n",
      "0.49007347906399734\t\tTwist\n",
      "0.5089808711770164\t\tResolute Gold\n",
      "0.5513893470376731\t\t3 L'Imperatrice\n",
      "0.5963650967619972\t\tCartier Declaration D Un Soir\n",
      "0.6041643686567537\t\tEau de Lacoste L.12.12 Blanc\n",
      "0.6806250627621001\t\tMOSCHINO Toy Boy\n",
      "0.6891403870048243\t\tThe Only One\n",
      "0.7480112611073165\t\tCK Everyone\n",
      "0.7546999692088718\t\tPrada Day For Night\n",
      "0.7563324611182336\t\tEscentric Molecules Escentric 02\n",
      "0.7761545019205534\t\tBad Boy\n",
      "0.7863114756019925\t\tRenata\n",
      "0.8569094218247059\t\tNew Your Amber\n"
     ]
    }
   ],
   "source": [
    "from collections import defaultdict\n",
    "\n",
    "\n",
    "def _findSimilarMany(nameArr):\n",
    "    recList = []\n",
    "    for name in nameArr:\n",
    "        rec = _findSimilar(name)\n",
    "        recList.append(rec.loc[rec[F_NAME].isin(nameArr) == False])\n",
    "\n",
    "    dfRes = defaultdict(lambda: 1e2)\n",
    "    for rec in recList:\n",
    "        for i, row in rec.iterrows():\n",
    "            curName = row[F_NAME]\n",
    "            curDist = row[F_DIST]\n",
    "            dfRes[curName] = min(dfRes[curName], curDist)\n",
    "\n",
    "    return dfRes\n",
    "\n",
    "\n",
    "def findSimilarMany(nameArr):\n",
    "    resDict = _findSimilarMany(nameArr)\n",
    "    return sorted([{key: elem} for key, elem in resDict.items()], key=lambda elem: list(elem.values())[0])\n",
    "\n",
    "res = findSimilarMany([\"La Petite Robe Noire Ma Robe Cocktail\", \"1001 Nights\"])\n",
    "printRes(res)"
   ]
  },
  {
   "cell_type": "markdown",
   "metadata": {},
   "source": [
    "### Задача 3"
   ]
  },
  {
   "cell_type": "markdown",
   "metadata": {},
   "source": [
    "**Вход**: Вход: массив затравочных объектов и массив дизлайков.\n",
    "\n",
    "**Выход**: сформированный ранжированный список рекомендаций."
   ]
  },
  {
   "cell_type": "code",
   "execution_count": 38,
   "metadata": {},
   "outputs": [
    {
     "name": "stdout",
     "output_type": "stream",
     "text": [
      "расстояние \t\t\t название\n",
      "0.7131780896024386\t\tRenata\n",
      "0.7343194827698649\t\t3 L'Imperatrice\n",
      "0.7549290950266723\t\tNew Your Amber\n",
      "0.7930360058721587\t\tBad Boy\n",
      "0.8157280016201588\t\tTwist\n",
      "0.820070295378419\t\t1001 Nights\n",
      "0.8464155241021089\t\tResolute Gold\n",
      "0.8714013217102008\t\tSabina\n",
      "0.8788520056890212\t\tCK Everyone\n",
      "0.9067355257046322\t\tOath for Him\n"
     ]
    }
   ],
   "source": [
    "def delOpposite(dict, nameArr):\n",
    "    for name in nameArr:\n",
    "        if name in dict.keys():\n",
    "            del dict[name]\n",
    "    \n",
    "    return dict\n",
    "\n",
    "\n",
    "def findSimilar(likesArr, dislikesArr):\n",
    "    likesRec = delOpposite(_findSimilarMany(likesArr), dislikesArr)\n",
    "    dislikesRec = delOpposite(_findSimilarMany(dislikesArr), likesArr)\n",
    "\n",
    "    dictRes = {}\n",
    "    if len(likesArr) == 0:\n",
    "        for key, elem in dislikesRec.items():\n",
    "            if elem > 0.7:\n",
    "                dictRes[key] = elem\n",
    "        return sorted([{key: elem} for key, elem in dictRes.items()], key=lambda elem: list(elem.values())[0])\n",
    "\n",
    "    for key in likesRec.keys():\n",
    "        if likesRec[key] <= dislikesRec[key]:\n",
    "            dictRes[key] = likesRec[key]\n",
    "    return sorted([{key: elem} for key, elem in dictRes.items()], key=lambda elem: list(elem.values())[0])\n",
    "\n",
    "\n",
    "res = findSimilar([],\n",
    "                  [\"Shalimar\"])\n",
    "printRes(res)\n"
   ]
  },
  {
   "cell_type": "markdown",
   "metadata": {},
   "source": [
    "### Интерфейс"
   ]
  },
  {
   "cell_type": "code",
   "execution_count": 52,
   "metadata": {},
   "outputs": [
    {
     "data": {
      "application/javascript": "(function(root) {\n  function now() {\n    return new Date();\n  }\n\n  var force = true;\n\n  if (typeof root._bokeh_onload_callbacks === \"undefined\" || force === true) {\n    root._bokeh_onload_callbacks = [];\n    root._bokeh_is_loading = undefined;\n  }\n\n  if (typeof (root._bokeh_timeout) === \"undefined\" || force === true) {\n    root._bokeh_timeout = Date.now() + 5000;\n    root._bokeh_failed_load = false;\n  }\n\n  function run_callbacks() {\n    try {\n      root._bokeh_onload_callbacks.forEach(function(callback) {\n        if (callback != null)\n          callback();\n      });\n    } finally {\n      delete root._bokeh_onload_callbacks\n    }\n    console.debug(\"Bokeh: all callbacks have finished\");\n  }\n\n  function load_libs(css_urls, js_urls, js_modules, callback) {\n    if (css_urls == null) css_urls = [];\n    if (js_urls == null) js_urls = [];\n    if (js_modules == null) js_modules = [];\n\n    root._bokeh_onload_callbacks.push(callback);\n    if (root._bokeh_is_loading > 0) {\n      console.debug(\"Bokeh: BokehJS is being loaded, scheduling callback at\", now());\n      return null;\n    }\n    if (js_urls.length === 0 && js_modules.length === 0) {\n      run_callbacks();\n      return null;\n    }\n    console.debug(\"Bokeh: BokehJS not loaded, scheduling load and callback at\", now());\n\n    function on_load() {\n      root._bokeh_is_loading--;\n      if (root._bokeh_is_loading === 0) {\n        console.debug(\"Bokeh: all BokehJS libraries/stylesheets loaded\");\n        run_callbacks()\n      }\n    }\n\n    function on_error() {\n      console.error(\"failed to load \" + url);\n    }\n\n    for (var i = 0; i < css_urls.length; i++) {\n      var url = css_urls[i];\n      const element = document.createElement(\"link\");\n      element.onload = on_load;\n      element.onerror = on_error;\n      element.rel = \"stylesheet\";\n      element.type = \"text/css\";\n      element.href = url;\n      console.debug(\"Bokeh: injecting link tag for BokehJS stylesheet: \", url);\n      document.body.appendChild(element);\n    }\n\n    var skip = [];\n    if (window.requirejs) {\n      window.requirejs.config({'packages': {}, 'paths': {'tabulator': 'https://cdn.jsdelivr.net/npm/tabulator-tables@5.3.2/dist/js/tabulator', 'moment': 'https://cdn.jsdelivr.net/npm/luxon/build/global/luxon.min', 'gridstack': 'https://cdn.jsdelivr.net/npm/gridstack@4.2.5/dist/gridstack-h5', 'notyf': 'https://cdn.jsdelivr.net/npm/notyf@3/notyf.min'}, 'shim': {'gridstack': {'exports': 'GridStack'}}});\n      require([\"tabulator\"], function(Tabulator) {\n\twindow.Tabulator = Tabulator\n\ton_load()\n      })\n      require([\"moment\"], function(moment) {\n\twindow.moment = moment\n\ton_load()\n      })\n      require([\"gridstack\"], function(GridStack) {\n\twindow.GridStack = GridStack\n\ton_load()\n      })\n      require([\"notyf\"], function() {\n\ton_load()\n      })\n      root._bokeh_is_loading = css_urls.length + 4;\n    } else {\n      root._bokeh_is_loading = css_urls.length + js_urls.length + js_modules.length;\n    }    if (((window['Tabulator'] !== undefined) && (!(window['Tabulator'] instanceof HTMLElement))) || window.requirejs) {\n      var urls = ['https://cdn.holoviz.org/panel/0.14.0/dist/bundled/datatabulator/tabulator-tables@5.3.2/dist/js/tabulator.js'];\n      for (var i = 0; i < urls.length; i++) {\n        skip.push(urls[i])\n      }\n    }    if (((window['moment'] !== undefined) && (!(window['moment'] instanceof HTMLElement))) || window.requirejs) {\n      var urls = ['https://cdn.holoviz.org/panel/0.14.0/dist/bundled/datatabulator/luxon/build/global/luxon.min.js'];\n      for (var i = 0; i < urls.length; i++) {\n        skip.push(urls[i])\n      }\n    }    if (((window['GridStack'] !== undefined) && (!(window['GridStack'] instanceof HTMLElement))) || window.requirejs) {\n      var urls = ['https://cdn.holoviz.org/panel/0.14.0/dist/bundled/gridstack/gridstack@4.2.5/dist/gridstack-h5.js'];\n      for (var i = 0; i < urls.length; i++) {\n        skip.push(urls[i])\n      }\n    }    if (((window['Notyf'] !== undefined) && (!(window['Notyf'] instanceof HTMLElement))) || window.requirejs) {\n      var urls = ['https://cdn.holoviz.org/panel/0.14.0/dist/bundled/notificationarea/notyf@3/notyf.min.js'];\n      for (var i = 0; i < urls.length; i++) {\n        skip.push(urls[i])\n      }\n    }    for (var i = 0; i < js_urls.length; i++) {\n      var url = js_urls[i];\n      if (skip.indexOf(url) >= 0) {\n\tif (!window.requirejs) {\n\t  on_load();\n\t}\n\tcontinue;\n      }\n      var element = document.createElement('script');\n      element.onload = on_load;\n      element.onerror = on_error;\n      element.async = false;\n      element.src = url;\n      console.debug(\"Bokeh: injecting script tag for BokehJS library: \", url);\n      document.head.appendChild(element);\n    }\n    for (var i = 0; i < js_modules.length; i++) {\n      var url = js_modules[i];\n      if (skip.indexOf(url) >= 0) {\n\tif (!window.requirejs) {\n\t  on_load();\n\t}\n\tcontinue;\n      }\n      var element = document.createElement('script');\n      element.onload = on_load;\n      element.onerror = on_error;\n      element.async = false;\n      element.src = url;\n      element.type = \"module\";\n      console.debug(\"Bokeh: injecting script tag for BokehJS library: \", url);\n      document.head.appendChild(element);\n    }\n    if (!js_urls.length && !js_modules.length) {\n      on_load()\n    }\n  };\n\n  function inject_raw_css(css) {\n    const element = document.createElement(\"style\");\n    element.appendChild(document.createTextNode(css));\n    document.body.appendChild(element);\n  }\n\n  var js_urls = [\"https://cdn.holoviz.org/panel/0.14.0/dist/bundled/datatabulator/tabulator-tables@5.3.2/dist/js/tabulator.js\", \"https://cdn.holoviz.org/panel/0.14.0/dist/bundled/datatabulator/luxon/build/global/luxon.min.js\", \"https://cdn.bokeh.org/bokeh/release/bokeh-2.4.3.min.js\", \"https://cdn.bokeh.org/bokeh/release/bokeh-gl-2.4.3.min.js\", \"https://cdn.bokeh.org/bokeh/release/bokeh-widgets-2.4.3.min.js\", \"https://cdn.bokeh.org/bokeh/release/bokeh-tables-2.4.3.min.js\", \"https://cdn.bokeh.org/bokeh/release/bokeh-mathjax-2.4.3.min.js\", \"https://unpkg.com/@holoviz/panel@0.14.0/dist/panel.min.js\"];\n  var js_modules = [];\n  var css_urls = [\"https://cdn.holoviz.org/panel/0.14.0/dist/bundled/datatabulator/tabulator-tables@5.3.2/dist/css/tabulator_simple.min.css\", \"https://cdn.holoviz.org/panel/0.14.0/dist/css/alerts.css\", \"https://cdn.holoviz.org/panel/0.14.0/dist/css/card.css\", \"https://cdn.holoviz.org/panel/0.14.0/dist/css/dataframe.css\", \"https://cdn.holoviz.org/panel/0.14.0/dist/css/debugger.css\", \"https://cdn.holoviz.org/panel/0.14.0/dist/css/json.css\", \"https://cdn.holoviz.org/panel/0.14.0/dist/css/loading.css\", \"https://cdn.holoviz.org/panel/0.14.0/dist/css/markdown.css\", \"https://cdn.holoviz.org/panel/0.14.0/dist/css/widgets.css\"];\n  var inline_js = [    function(Bokeh) {\n      inject_raw_css(\"\\n    .bk.pn-loading.arc:before {\\n      background-image: url(\\\"data:image/svg+xml;base64,PHN2ZyB4bWxucz0iaHR0cDovL3d3dy53My5vcmcvMjAwMC9zdmciIHN0eWxlPSJtYXJnaW46IGF1dG87IGJhY2tncm91bmQ6IG5vbmU7IGRpc3BsYXk6IGJsb2NrOyBzaGFwZS1yZW5kZXJpbmc6IGF1dG87IiB2aWV3Qm94PSIwIDAgMTAwIDEwMCIgcHJlc2VydmVBc3BlY3RSYXRpbz0ieE1pZFlNaWQiPiAgPGNpcmNsZSBjeD0iNTAiIGN5PSI1MCIgZmlsbD0ibm9uZSIgc3Ryb2tlPSIjYzNjM2MzIiBzdHJva2Utd2lkdGg9IjEwIiByPSIzNSIgc3Ryb2tlLWRhc2hhcnJheT0iMTY0LjkzMzYxNDMxMzQ2NDE1IDU2Ljk3Nzg3MTQzNzgyMTM4Ij4gICAgPGFuaW1hdGVUcmFuc2Zvcm0gYXR0cmlidXRlTmFtZT0idHJhbnNmb3JtIiB0eXBlPSJyb3RhdGUiIHJlcGVhdENvdW50PSJpbmRlZmluaXRlIiBkdXI9IjFzIiB2YWx1ZXM9IjAgNTAgNTA7MzYwIDUwIDUwIiBrZXlUaW1lcz0iMDsxIj48L2FuaW1hdGVUcmFuc2Zvcm0+ICA8L2NpcmNsZT48L3N2Zz4=\\\");\\n      background-size: auto calc(min(50%, 400px));\\n    }\\n    \");\n    },    function(Bokeh) {\n      Bokeh.set_log_level(\"info\");\n    },\nfunction(Bokeh) {} // ensure no trailing comma for IE\n  ];\n\n  function run_inline_js() {\n    if ((root.Bokeh !== undefined) || (force === true)) {\n      for (var i = 0; i < inline_js.length; i++) {\n        inline_js[i].call(root, root.Bokeh);\n      }} else if (Date.now() < root._bokeh_timeout) {\n      setTimeout(run_inline_js, 100);\n    } else if (!root._bokeh_failed_load) {\n      console.log(\"Bokeh: BokehJS failed to load within specified timeout.\");\n      root._bokeh_failed_load = true;\n    }\n  }\n\n  if (root._bokeh_is_loading === 0) {\n    console.debug(\"Bokeh: BokehJS loaded, going straight to plotting\");\n    run_inline_js();\n  } else {\n    load_libs(css_urls, js_urls, js_modules, function() {\n      console.debug(\"Bokeh: BokehJS plotting callback run at\", now());\n      run_inline_js();\n    });\n  }\n}(window));",
      "application/vnd.holoviews_load.v0+json": ""
     },
     "metadata": {},
     "output_type": "display_data"
    },
    {
     "data": {
      "application/javascript": "\nif ((window.PyViz === undefined) || (window.PyViz instanceof HTMLElement)) {\n  window.PyViz = {comms: {}, comm_status:{}, kernels:{}, receivers: {}, plot_index: []}\n}\n\n\n    function JupyterCommManager() {\n    }\n\n    JupyterCommManager.prototype.register_target = function(plot_id, comm_id, msg_handler) {\n      if (window.comm_manager || ((window.Jupyter !== undefined) && (Jupyter.notebook.kernel != null))) {\n        var comm_manager = window.comm_manager || Jupyter.notebook.kernel.comm_manager;\n        comm_manager.register_target(comm_id, function(comm) {\n          comm.on_msg(msg_handler);\n        });\n      } else if ((plot_id in window.PyViz.kernels) && (window.PyViz.kernels[plot_id])) {\n        window.PyViz.kernels[plot_id].registerCommTarget(comm_id, function(comm) {\n          comm.onMsg = msg_handler;\n        });\n      } else if (typeof google != 'undefined' && google.colab.kernel != null) {\n        google.colab.kernel.comms.registerTarget(comm_id, (comm) => {\n          var messages = comm.messages[Symbol.asyncIterator]();\n          function processIteratorResult(result) {\n            var message = result.value;\n            console.log(message)\n            var content = {data: message.data, comm_id};\n            var buffers = []\n            for (var buffer of message.buffers || []) {\n              buffers.push(new DataView(buffer))\n            }\n            var metadata = message.metadata || {};\n            var msg = {content, buffers, metadata}\n            msg_handler(msg);\n            return messages.next().then(processIteratorResult);\n          }\n          return messages.next().then(processIteratorResult);\n        })\n      }\n    }\n\n    JupyterCommManager.prototype.get_client_comm = function(plot_id, comm_id, msg_handler) {\n      if (comm_id in window.PyViz.comms) {\n        return window.PyViz.comms[comm_id];\n      } else if (window.comm_manager || ((window.Jupyter !== undefined) && (Jupyter.notebook.kernel != null))) {\n        var comm_manager = window.comm_manager || Jupyter.notebook.kernel.comm_manager;\n        var comm = comm_manager.new_comm(comm_id, {}, {}, {}, comm_id);\n        if (msg_handler) {\n          comm.on_msg(msg_handler);\n        }\n      } else if ((plot_id in window.PyViz.kernels) && (window.PyViz.kernels[plot_id])) {\n        var comm = window.PyViz.kernels[plot_id].connectToComm(comm_id);\n        comm.open();\n        if (msg_handler) {\n          comm.onMsg = msg_handler;\n        }\n      } else if (typeof google != 'undefined' && google.colab.kernel != null) {\n        var comm_promise = google.colab.kernel.comms.open(comm_id)\n        comm_promise.then((comm) => {\n          window.PyViz.comms[comm_id] = comm;\n          if (msg_handler) {\n            var messages = comm.messages[Symbol.asyncIterator]();\n            function processIteratorResult(result) {\n              var message = result.value;\n              var content = {data: message.data};\n              var metadata = message.metadata || {comm_id};\n              var msg = {content, metadata}\n              msg_handler(msg);\n              return messages.next().then(processIteratorResult);\n            }\n            return messages.next().then(processIteratorResult);\n          }\n        }) \n        var sendClosure = (data, metadata, buffers, disposeOnDone) => {\n          return comm_promise.then((comm) => {\n            comm.send(data, metadata, buffers, disposeOnDone);\n          });\n        };\n        var comm = {\n          send: sendClosure\n        };\n      }\n      window.PyViz.comms[comm_id] = comm;\n      return comm;\n    }\n    window.PyViz.comm_manager = new JupyterCommManager();\n    \n\n\nvar JS_MIME_TYPE = 'application/javascript';\nvar HTML_MIME_TYPE = 'text/html';\nvar EXEC_MIME_TYPE = 'application/vnd.holoviews_exec.v0+json';\nvar CLASS_NAME = 'output';\n\n/**\n * Render data to the DOM node\n */\nfunction render(props, node) {\n  var div = document.createElement(\"div\");\n  var script = document.createElement(\"script\");\n  node.appendChild(div);\n  node.appendChild(script);\n}\n\n/**\n * Handle when a new output is added\n */\nfunction handle_add_output(event, handle) {\n  var output_area = handle.output_area;\n  var output = handle.output;\n  if ((output.data == undefined) || (!output.data.hasOwnProperty(EXEC_MIME_TYPE))) {\n    return\n  }\n  var id = output.metadata[EXEC_MIME_TYPE][\"id\"];\n  var toinsert = output_area.element.find(\".\" + CLASS_NAME.split(' ')[0]);\n  if (id !== undefined) {\n    var nchildren = toinsert.length;\n    var html_node = toinsert[nchildren-1].children[0];\n    html_node.innerHTML = output.data[HTML_MIME_TYPE];\n    var scripts = [];\n    var nodelist = html_node.querySelectorAll(\"script\");\n    for (var i in nodelist) {\n      if (nodelist.hasOwnProperty(i)) {\n        scripts.push(nodelist[i])\n      }\n    }\n\n    scripts.forEach( function (oldScript) {\n      var newScript = document.createElement(\"script\");\n      var attrs = [];\n      var nodemap = oldScript.attributes;\n      for (var j in nodemap) {\n        if (nodemap.hasOwnProperty(j)) {\n          attrs.push(nodemap[j])\n        }\n      }\n      attrs.forEach(function(attr) { newScript.setAttribute(attr.name, attr.value) });\n      newScript.appendChild(document.createTextNode(oldScript.innerHTML));\n      oldScript.parentNode.replaceChild(newScript, oldScript);\n    });\n    if (JS_MIME_TYPE in output.data) {\n      toinsert[nchildren-1].children[1].textContent = output.data[JS_MIME_TYPE];\n    }\n    output_area._hv_plot_id = id;\n    if ((window.Bokeh !== undefined) && (id in Bokeh.index)) {\n      window.PyViz.plot_index[id] = Bokeh.index[id];\n    } else {\n      window.PyViz.plot_index[id] = null;\n    }\n  } else if (output.metadata[EXEC_MIME_TYPE][\"server_id\"] !== undefined) {\n    var bk_div = document.createElement(\"div\");\n    bk_div.innerHTML = output.data[HTML_MIME_TYPE];\n    var script_attrs = bk_div.children[0].attributes;\n    for (var i = 0; i < script_attrs.length; i++) {\n      toinsert[toinsert.length - 1].childNodes[1].setAttribute(script_attrs[i].name, script_attrs[i].value);\n    }\n    // store reference to server id on output_area\n    output_area._bokeh_server_id = output.metadata[EXEC_MIME_TYPE][\"server_id\"];\n  }\n}\n\n/**\n * Handle when an output is cleared or removed\n */\nfunction handle_clear_output(event, handle) {\n  var id = handle.cell.output_area._hv_plot_id;\n  var server_id = handle.cell.output_area._bokeh_server_id;\n  if (((id === undefined) || !(id in PyViz.plot_index)) && (server_id !== undefined)) { return; }\n  var comm = window.PyViz.comm_manager.get_client_comm(\"hv-extension-comm\", \"hv-extension-comm\", function () {});\n  if (server_id !== null) {\n    comm.send({event_type: 'server_delete', 'id': server_id});\n    return;\n  } else if (comm !== null) {\n    comm.send({event_type: 'delete', 'id': id});\n  }\n  delete PyViz.plot_index[id];\n  if ((window.Bokeh !== undefined) & (id in window.Bokeh.index)) {\n    var doc = window.Bokeh.index[id].model.document\n    doc.clear();\n    const i = window.Bokeh.documents.indexOf(doc);\n    if (i > -1) {\n      window.Bokeh.documents.splice(i, 1);\n    }\n  }\n}\n\n/**\n * Handle kernel restart event\n */\nfunction handle_kernel_cleanup(event, handle) {\n  delete PyViz.comms[\"hv-extension-comm\"];\n  window.PyViz.plot_index = {}\n}\n\n/**\n * Handle update_display_data messages\n */\nfunction handle_update_output(event, handle) {\n  handle_clear_output(event, {cell: {output_area: handle.output_area}})\n  handle_add_output(event, handle)\n}\n\nfunction register_renderer(events, OutputArea) {\n  function append_mime(data, metadata, element) {\n    // create a DOM node to render to\n    var toinsert = this.create_output_subarea(\n    metadata,\n    CLASS_NAME,\n    EXEC_MIME_TYPE\n    );\n    this.keyboard_manager.register_events(toinsert);\n    // Render to node\n    var props = {data: data, metadata: metadata[EXEC_MIME_TYPE]};\n    render(props, toinsert[0]);\n    element.append(toinsert);\n    return toinsert\n  }\n\n  events.on('output_added.OutputArea', handle_add_output);\n  events.on('output_updated.OutputArea', handle_update_output);\n  events.on('clear_output.CodeCell', handle_clear_output);\n  events.on('delete.Cell', handle_clear_output);\n  events.on('kernel_ready.Kernel', handle_kernel_cleanup);\n\n  OutputArea.prototype.register_mime_type(EXEC_MIME_TYPE, append_mime, {\n    safe: true,\n    index: 0\n  });\n}\n\nif (window.Jupyter !== undefined) {\n  try {\n    var events = require('base/js/events');\n    var OutputArea = require('notebook/js/outputarea').OutputArea;\n    if (OutputArea.prototype.mime_types().indexOf(EXEC_MIME_TYPE) == -1) {\n      register_renderer(events, OutputArea);\n    }\n  } catch(err) {\n  }\n}\n",
      "application/vnd.holoviews_load.v0+json": ""
     },
     "metadata": {},
     "output_type": "display_data"
    },
    {
     "data": {
      "text/html": [
       "<style>.bk-root, .bk-root .bk:before, .bk-root .bk:after {\n",
       "  font-family: var(--jp-ui-font-size1);\n",
       "  font-size: var(--jp-ui-font-size1);\n",
       "  color: var(--jp-ui-font-color1);\n",
       "}\n",
       "</style>"
      ]
     },
     "metadata": {},
     "output_type": "display_data"
    }
   ],
   "source": [
    "import ipywidgets as widgets\n",
    "from tkinter import font\n",
    "from turtle import onclick, width\n",
    "\n",
    "import panel as pn\n",
    "\n",
    "pn.extension()"
   ]
  },
  {
   "cell_type": "code",
   "execution_count": 51,
   "metadata": {},
   "outputs": [],
   "source": [
    "def getArrFromSeries(data):\n",
    "    arr = []\n",
    "    for elem in data:\n",
    "        arr.append(elem)\n",
    "    return arr\n",
    "\n",
    "def getDataFrameFromArr(data):\n",
    "    resArr = []\n",
    "    for elem in data:\n",
    "        for key in elem.keys():\n",
    "            resArr.append({\"Название\": key, \"Величина схожести\": 1 - elem[key]})\n",
    "            \n",
    "    return pd.DataFrame(resArr, index=range(1, len(resArr) + 1), columns=[\"Название\", \"Величина схожести\"])"
   ]
  },
  {
   "cell_type": "code",
   "execution_count": 49,
   "metadata": {},
   "outputs": [],
   "source": [
    "namesUI = getArrFromSeries(nameArr)\n",
    "\n",
    "choiceLiked = pn.widgets.MultiChoice(\n",
    "    name='👍👍👍 Нравится 👍👍👍', \n",
    "    value=[],\n",
    "    width=320,\n",
    "    options=namesUI)\n",
    "\n",
    "choiceDisliked = pn.widgets.MultiChoice(\n",
    "    name='👎👎👎 НЕ нравится 👎👎👎', \n",
    "    value=[],\n",
    "    width=320,\n",
    "    options=namesUI)"
   ]
  },
  {
   "cell_type": "code",
   "execution_count": 42,
   "metadata": {},
   "outputs": [],
   "source": [
    "markdownError = pn.pane.Markdown('### Ошибка ввода', style={'font-family': \"serif\", \"text-align\": \"center\", \"color\": \"red\"}, width=800, visible=False)\n",
    "markdownDefault = pn.pane.Markdown(\"#### Выберете то, что: \", width=800, visible=True)\n",
    "markdownResultMustTitle = pn.pane.Markdown(\"#### Попробуйте следующие ароматы: \", width=300, visible=False)\n",
    "markdownResultMaybeTitle = pn.pane.Markdown(\"#### Возможно Вам понравятся: \", width=300, visible=False)\n",
    "\n",
    "bokeh_formatters = {\n",
    "    \"Величина схожести\": {'type': 'progress', 'max': 1}\n",
    "}\n",
    "\n",
    "tableRecMust = pn.widgets.Tabulator(visible=False, formatters=bokeh_formatters)\n",
    "tableRecMaybe = pn.widgets.Tabulator(visible=False, formatters=bokeh_formatters)"
   ]
  },
  {
   "cell_type": "code",
   "execution_count": 43,
   "metadata": {},
   "outputs": [],
   "source": [
    "def _initMustTable(recArr):\n",
    "    tableRecMust.value = getDataFrameFromArr(recArr)\n",
    "    \n",
    "    markdownResultMustTitle.visible = True\n",
    "    tableRecMust.visible = True\n",
    "\n",
    "\n",
    "def _initMaybeTable(recArr):\n",
    "    tableRecMaybe.value = getDataFrameFromArr(recArr)\n",
    "    \n",
    "    markdownResultMaybeTitle.visible = True\n",
    "    tableRecMaybe.visible = True\n",
    "\n",
    "\n",
    "def _changeStatusError(isError):\n",
    "    if isError:\n",
    "        markdownError.visible = True\n",
    "        markdownDefault.visible = False\n",
    "        markdownResultMustTitle.visible = False\n",
    "        markdownResultMaybeTitle.visible = False\n",
    "\n",
    "        tableRecMust.visible = False\n",
    "        tableRecMaybe.visible = False\n",
    "    else:\n",
    "        markdownError.visible = False\n",
    "        markdownDefault.visible = True"
   ]
  },
  {
   "cell_type": "code",
   "execution_count": 44,
   "metadata": {},
   "outputs": [],
   "source": [
    "def _splitMustMaybe(recArr):\n",
    "    recMust, recMaybe = [], []\n",
    "    for rec in recArr:\n",
    "        for key in rec.keys():\n",
    "            if rec[key] <= 0.5:\n",
    "                recMust.append(rec)\n",
    "            else:\n",
    "                recMaybe.append(rec)\n",
    "    return recMust, recMaybe\n",
    "\n",
    "\n",
    "def _isRightInput(arr1, arr2):\n",
    "    inner = list(set(arr1) & set(arr2))\n",
    "    return len(inner) == 0\n",
    "\n",
    "\n",
    "def _getDefaultResult(nameArr):\n",
    "    resArr = []\n",
    "    for name in nameArr:\n",
    "        resArr.append({name: 1})\n",
    "    return resArr"
   ]
  },
  {
   "cell_type": "code",
   "execution_count": 45,
   "metadata": {},
   "outputs": [],
   "source": [
    "def _giveRecommendation(likesArr, dislikesArr):\n",
    "    recArr = None\n",
    "\n",
    "    if len(likesArr) and len(dislikesArr):\n",
    "        recArr = findSimilar(likesArr, dislikesArr)\n",
    "    elif len(likesArr) and len(dislikesArr) == 0:\n",
    "        recArr = findSimilarMany(likesArr)\n",
    "    elif len(likesArr) == 0 and len(dislikesArr):\n",
    "        recArr = findSimilar(likesArr, dislikesArr)\n",
    "    else:\n",
    "        recArr = _getDefaultResult(namesUI)\n",
    "\n",
    "    recMust, recMaybe = _splitMustMaybe(recArr)\n",
    "\n",
    "    _initMustTable(recMust)\n",
    "    _initMaybeTable(recMaybe)\n",
    "\n",
    "def run(a):\n",
    "    likesArr = choiceLiked.value\n",
    "    dislikesArr = choiceDisliked.value\n",
    "\n",
    "    if not _isRightInput(likesArr, dislikesArr):\n",
    "        _changeStatusError(isError=True)\n",
    "        return\n",
    "\n",
    "    _changeStatusError(isError=False)\n",
    "    _giveRecommendation(likesArr, dislikesArr)\n"
   ]
  },
  {
   "cell_type": "code",
   "execution_count": 53,
   "metadata": {},
   "outputs": [
    {
     "data": {
      "application/vnd.jupyter.widget-view+json": {
       "model_id": "5f32f96116ee4733b32c4a57cef40574",
       "version_major": 2,
       "version_minor": 0
      },
      "text/plain": [
       "BokehModel(combine_events=True, render_bundle={'docs_json': {'68b9d527-874c-4ff1-b5b9-eeef5d092c11': {'defs': …"
      ]
     },
     "execution_count": 53,
     "metadata": {},
     "output_type": "execute_result"
    }
   ],
   "source": [
    "button = pn.widgets.Button(\n",
    "    name='Готово',\n",
    "    button_type='success',\n",
    "    width=50,\n",
    "    height=40,\n",
    "    margin=(24, 100, 10, 10))\n",
    "button.on_click(run)\n",
    "\n",
    "pn.Column(\n",
    "    markdownDefault,\n",
    "    markdownError,\n",
    "    pn.Row(\n",
    "        pn.Column(choiceLiked, height=800),\n",
    "        pn.Column(choiceDisliked, height=800),\n",
    "        button,\n",
    "        pn.Column(markdownResultMustTitle, \n",
    "            tableRecMust,\n",
    "            markdownResultMaybeTitle, \n",
    "            tableRecMaybe))\n",
    ")\n",
    "\n"
   ]
  }
 ],
 "metadata": {
  "kernelspec": {
   "display_name": "Python 3.7.2 64-bit",
   "language": "python",
   "name": "python3"
  },
  "language_info": {
   "codemirror_mode": {
    "name": "ipython",
    "version": 3
   },
   "file_extension": ".py",
   "mimetype": "text/x-python",
   "name": "python",
   "nbconvert_exporter": "python",
   "pygments_lexer": "ipython3",
   "version": "3.7.2"
  },
  "orig_nbformat": 4,
  "vscode": {
   "interpreter": {
    "hash": "282f4042d0d2d9a0200af20cb2beb9f26be992824fb63627345c0d962f0cf16d"
   }
  }
 },
 "nbformat": 4,
 "nbformat_minor": 2
}
