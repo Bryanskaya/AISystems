{
 "cells": [
  {
   "cell_type": "markdown",
   "metadata": {},
   "source": [
    "## Лабораторная работа 2"
   ]
  },
  {
   "cell_type": "code",
   "execution_count": 877,
   "metadata": {},
   "outputs": [],
   "source": [
    "import pandas as pd\n",
    "import numpy as np\n",
    "import itertools\n",
    "import math\n",
    "from IPython.display import display\n",
    "from cmath import isnan, nan\n",
    "from numpy import dot\n",
    "from numpy.linalg import norm\n",
    "\n",
    "from turtle import color\n",
    "from unicodedata import name\n",
    "import plotly.figure_factory as ff\n",
    "import matplotlib.pyplot as plt\n",
    "import plotly.express as px"
   ]
  },
  {
   "cell_type": "markdown",
   "metadata": {},
   "source": [
    "#### Получить исходные данные"
   ]
  },
  {
   "cell_type": "code",
   "execution_count": 878,
   "metadata": {},
   "outputs": [],
   "source": [
    "pd.set_option('display.max_columns', None)\n",
    "df0 = pd.read_csv('../lab_01/perfume/data.csv', delimiter=',', encoding=\"utf8\")\n",
    "df = df0.copy(deep=True)"
   ]
  },
  {
   "cell_type": "markdown",
   "metadata": {},
   "source": [
    "#### Получить характерные для семейств запахи"
   ]
  },
  {
   "cell_type": "code",
   "execution_count": 879,
   "metadata": {},
   "outputs": [
    {
     "data": {
      "text/html": [
       "<div>\n",
       "<style scoped>\n",
       "    .dataframe tbody tr th:only-of-type {\n",
       "        vertical-align: middle;\n",
       "    }\n",
       "\n",
       "    .dataframe tbody tr th {\n",
       "        vertical-align: top;\n",
       "    }\n",
       "\n",
       "    .dataframe thead th {\n",
       "        text-align: right;\n",
       "    }\n",
       "</style>\n",
       "<table border=\"1\" class=\"dataframe\">\n",
       "  <thead>\n",
       "    <tr style=\"text-align: right;\">\n",
       "      <th></th>\n",
       "      <th>семейство</th>\n",
       "      <th>активный</th>\n",
       "      <th>амбра</th>\n",
       "      <th>апельсин</th>\n",
       "      <th>белый чай</th>\n",
       "      <th>бергамот</th>\n",
       "      <th>благовоние</th>\n",
       "      <th>бодрящий</th>\n",
       "      <th>ваниль</th>\n",
       "      <th>виноград</th>\n",
       "      <th>гвоздика</th>\n",
       "      <th>герань</th>\n",
       "      <th>горный воздух</th>\n",
       "      <th>грейпфрут</th>\n",
       "      <th>древесный</th>\n",
       "      <th>дым</th>\n",
       "      <th>жизнерадостный</th>\n",
       "      <th>зеленое яблоко</th>\n",
       "      <th>зеленый чай</th>\n",
       "      <th>земля</th>\n",
       "      <th>игривый</th>\n",
       "      <th>имбирь</th>\n",
       "      <th>интенсивный</th>\n",
       "      <th>карамель</th>\n",
       "      <th>кедр</th>\n",
       "      <th>корица</th>\n",
       "      <th>кофе</th>\n",
       "      <th>куркума</th>\n",
       "      <th>лаванда</th>\n",
       "      <th>ладан</th>\n",
       "      <th>лайм</th>\n",
       "      <th>легкий</th>\n",
       "      <th>лимон</th>\n",
       "      <th>листья</th>\n",
       "      <th>массивный</th>\n",
       "      <th>металл</th>\n",
       "      <th>морозная свежесть</th>\n",
       "      <th>морской</th>\n",
       "      <th>мох</th>\n",
       "      <th>мускус</th>\n",
       "      <th>мягкий</th>\n",
       "      <th>насыщенный</th>\n",
       "      <th>ненавязчивый</th>\n",
       "      <th>необычный</th>\n",
       "      <th>огурец</th>\n",
       "      <th>орех</th>\n",
       "      <th>острый</th>\n",
       "      <th>папоротник</th>\n",
       "      <th>перец</th>\n",
       "      <th>персик</th>\n",
       "      <th>плотный</th>\n",
       "      <th>притягательный</th>\n",
       "      <th>пряно-горький</th>\n",
       "      <th>пряный</th>\n",
       "      <th>роза</th>\n",
       "      <th>роскошный</th>\n",
       "      <th>сандал</th>\n",
       "      <th>свежий</th>\n",
       "      <th>сладкий</th>\n",
       "      <th>сливочный</th>\n",
       "      <th>смола</th>\n",
       "      <th>согревающий</th>\n",
       "      <th>спокойный</th>\n",
       "      <th>спортивный</th>\n",
       "      <th>сухая трава</th>\n",
       "      <th>сухой</th>\n",
       "      <th>табак</th>\n",
       "      <th>таинственный</th>\n",
       "      <th>телесный</th>\n",
       "      <th>теплый</th>\n",
       "      <th>терпкий</th>\n",
       "      <th>томный</th>\n",
       "      <th>тонизирующий</th>\n",
       "      <th>тонкий</th>\n",
       "      <th>торжественный</th>\n",
       "      <th>трава</th>\n",
       "      <th>тяжелый</th>\n",
       "      <th>черный чай</th>\n",
       "      <th>чувственный</th>\n",
       "      <th>шоколад</th>\n",
       "      <th>энергичный</th>\n",
       "      <th>яркий</th>\n",
       "    </tr>\n",
       "  </thead>\n",
       "  <tbody>\n",
       "    <tr>\n",
       "      <th>0</th>\n",
       "      <td>восточные</td>\n",
       "      <td>0</td>\n",
       "      <td>1</td>\n",
       "      <td>0</td>\n",
       "      <td>0</td>\n",
       "      <td>0</td>\n",
       "      <td>1</td>\n",
       "      <td>0</td>\n",
       "      <td>1</td>\n",
       "      <td>0</td>\n",
       "      <td>0</td>\n",
       "      <td>0</td>\n",
       "      <td>0</td>\n",
       "      <td>0</td>\n",
       "      <td>1</td>\n",
       "      <td>1</td>\n",
       "      <td>0</td>\n",
       "      <td>0</td>\n",
       "      <td>0</td>\n",
       "      <td>0</td>\n",
       "      <td>0</td>\n",
       "      <td>0</td>\n",
       "      <td>1</td>\n",
       "      <td>1</td>\n",
       "      <td>0</td>\n",
       "      <td>0</td>\n",
       "      <td>1</td>\n",
       "      <td>0</td>\n",
       "      <td>0</td>\n",
       "      <td>1</td>\n",
       "      <td>0</td>\n",
       "      <td>0</td>\n",
       "      <td>0</td>\n",
       "      <td>0</td>\n",
       "      <td>0</td>\n",
       "      <td>0</td>\n",
       "      <td>0</td>\n",
       "      <td>0</td>\n",
       "      <td>0</td>\n",
       "      <td>1</td>\n",
       "      <td>0</td>\n",
       "      <td>1</td>\n",
       "      <td>0</td>\n",
       "      <td>0</td>\n",
       "      <td>0</td>\n",
       "      <td>0</td>\n",
       "      <td>0</td>\n",
       "      <td>0</td>\n",
       "      <td>0</td>\n",
       "      <td>0</td>\n",
       "      <td>1</td>\n",
       "      <td>0</td>\n",
       "      <td>0</td>\n",
       "      <td>1</td>\n",
       "      <td>1</td>\n",
       "      <td>1</td>\n",
       "      <td>0</td>\n",
       "      <td>0</td>\n",
       "      <td>0</td>\n",
       "      <td>0</td>\n",
       "      <td>1</td>\n",
       "      <td>0</td>\n",
       "      <td>0</td>\n",
       "      <td>0</td>\n",
       "      <td>0</td>\n",
       "      <td>1</td>\n",
       "      <td>1</td>\n",
       "      <td>0</td>\n",
       "      <td>0</td>\n",
       "      <td>0</td>\n",
       "      <td>0</td>\n",
       "      <td>1</td>\n",
       "      <td>0</td>\n",
       "      <td>0</td>\n",
       "      <td>1</td>\n",
       "      <td>0</td>\n",
       "      <td>1</td>\n",
       "      <td>1</td>\n",
       "      <td>1</td>\n",
       "      <td>1</td>\n",
       "      <td>0</td>\n",
       "      <td>0</td>\n",
       "    </tr>\n",
       "    <tr>\n",
       "      <th>1</th>\n",
       "      <td>древесные</td>\n",
       "      <td>0</td>\n",
       "      <td>0</td>\n",
       "      <td>0</td>\n",
       "      <td>0</td>\n",
       "      <td>0</td>\n",
       "      <td>0</td>\n",
       "      <td>0</td>\n",
       "      <td>0</td>\n",
       "      <td>0</td>\n",
       "      <td>0</td>\n",
       "      <td>0</td>\n",
       "      <td>0</td>\n",
       "      <td>0</td>\n",
       "      <td>1</td>\n",
       "      <td>1</td>\n",
       "      <td>0</td>\n",
       "      <td>0</td>\n",
       "      <td>0</td>\n",
       "      <td>1</td>\n",
       "      <td>0</td>\n",
       "      <td>0</td>\n",
       "      <td>0</td>\n",
       "      <td>0</td>\n",
       "      <td>1</td>\n",
       "      <td>0</td>\n",
       "      <td>0</td>\n",
       "      <td>0</td>\n",
       "      <td>0</td>\n",
       "      <td>0</td>\n",
       "      <td>0</td>\n",
       "      <td>0</td>\n",
       "      <td>0</td>\n",
       "      <td>0</td>\n",
       "      <td>0</td>\n",
       "      <td>1</td>\n",
       "      <td>0</td>\n",
       "      <td>0</td>\n",
       "      <td>1</td>\n",
       "      <td>0</td>\n",
       "      <td>0</td>\n",
       "      <td>0</td>\n",
       "      <td>0</td>\n",
       "      <td>0</td>\n",
       "      <td>0</td>\n",
       "      <td>0</td>\n",
       "      <td>0</td>\n",
       "      <td>1</td>\n",
       "      <td>0</td>\n",
       "      <td>0</td>\n",
       "      <td>0</td>\n",
       "      <td>0</td>\n",
       "      <td>0</td>\n",
       "      <td>0</td>\n",
       "      <td>0</td>\n",
       "      <td>0</td>\n",
       "      <td>1</td>\n",
       "      <td>0</td>\n",
       "      <td>1</td>\n",
       "      <td>1</td>\n",
       "      <td>1</td>\n",
       "      <td>1</td>\n",
       "      <td>0</td>\n",
       "      <td>0</td>\n",
       "      <td>0</td>\n",
       "      <td>0</td>\n",
       "      <td>0</td>\n",
       "      <td>1</td>\n",
       "      <td>0</td>\n",
       "      <td>1</td>\n",
       "      <td>0</td>\n",
       "      <td>0</td>\n",
       "      <td>0</td>\n",
       "      <td>0</td>\n",
       "      <td>0</td>\n",
       "      <td>0</td>\n",
       "      <td>0</td>\n",
       "      <td>0</td>\n",
       "      <td>1</td>\n",
       "      <td>0</td>\n",
       "      <td>0</td>\n",
       "      <td>0</td>\n",
       "    </tr>\n",
       "    <tr>\n",
       "      <th>2</th>\n",
       "      <td>цитрусовые</td>\n",
       "      <td>0</td>\n",
       "      <td>0</td>\n",
       "      <td>1</td>\n",
       "      <td>0</td>\n",
       "      <td>1</td>\n",
       "      <td>0</td>\n",
       "      <td>1</td>\n",
       "      <td>0</td>\n",
       "      <td>1</td>\n",
       "      <td>0</td>\n",
       "      <td>0</td>\n",
       "      <td>0</td>\n",
       "      <td>1</td>\n",
       "      <td>0</td>\n",
       "      <td>0</td>\n",
       "      <td>1</td>\n",
       "      <td>0</td>\n",
       "      <td>0</td>\n",
       "      <td>0</td>\n",
       "      <td>0</td>\n",
       "      <td>0</td>\n",
       "      <td>1</td>\n",
       "      <td>0</td>\n",
       "      <td>0</td>\n",
       "      <td>0</td>\n",
       "      <td>0</td>\n",
       "      <td>0</td>\n",
       "      <td>0</td>\n",
       "      <td>0</td>\n",
       "      <td>1</td>\n",
       "      <td>1</td>\n",
       "      <td>1</td>\n",
       "      <td>0</td>\n",
       "      <td>0</td>\n",
       "      <td>0</td>\n",
       "      <td>0</td>\n",
       "      <td>0</td>\n",
       "      <td>0</td>\n",
       "      <td>0</td>\n",
       "      <td>0</td>\n",
       "      <td>0</td>\n",
       "      <td>0</td>\n",
       "      <td>0</td>\n",
       "      <td>0</td>\n",
       "      <td>0</td>\n",
       "      <td>0</td>\n",
       "      <td>0</td>\n",
       "      <td>0</td>\n",
       "      <td>1</td>\n",
       "      <td>0</td>\n",
       "      <td>0</td>\n",
       "      <td>0</td>\n",
       "      <td>0</td>\n",
       "      <td>0</td>\n",
       "      <td>0</td>\n",
       "      <td>0</td>\n",
       "      <td>1</td>\n",
       "      <td>0</td>\n",
       "      <td>0</td>\n",
       "      <td>0</td>\n",
       "      <td>0</td>\n",
       "      <td>0</td>\n",
       "      <td>1</td>\n",
       "      <td>0</td>\n",
       "      <td>0</td>\n",
       "      <td>0</td>\n",
       "      <td>0</td>\n",
       "      <td>0</td>\n",
       "      <td>0</td>\n",
       "      <td>0</td>\n",
       "      <td>0</td>\n",
       "      <td>1</td>\n",
       "      <td>0</td>\n",
       "      <td>0</td>\n",
       "      <td>0</td>\n",
       "      <td>0</td>\n",
       "      <td>0</td>\n",
       "      <td>0</td>\n",
       "      <td>0</td>\n",
       "      <td>1</td>\n",
       "      <td>1</td>\n",
       "    </tr>\n",
       "    <tr>\n",
       "      <th>3</th>\n",
       "      <td>фруктовые</td>\n",
       "      <td>0</td>\n",
       "      <td>0</td>\n",
       "      <td>0</td>\n",
       "      <td>0</td>\n",
       "      <td>0</td>\n",
       "      <td>0</td>\n",
       "      <td>0</td>\n",
       "      <td>0</td>\n",
       "      <td>0</td>\n",
       "      <td>0</td>\n",
       "      <td>0</td>\n",
       "      <td>0</td>\n",
       "      <td>0</td>\n",
       "      <td>0</td>\n",
       "      <td>0</td>\n",
       "      <td>0</td>\n",
       "      <td>0</td>\n",
       "      <td>0</td>\n",
       "      <td>0</td>\n",
       "      <td>1</td>\n",
       "      <td>0</td>\n",
       "      <td>0</td>\n",
       "      <td>0</td>\n",
       "      <td>0</td>\n",
       "      <td>0</td>\n",
       "      <td>0</td>\n",
       "      <td>0</td>\n",
       "      <td>0</td>\n",
       "      <td>0</td>\n",
       "      <td>0</td>\n",
       "      <td>0</td>\n",
       "      <td>0</td>\n",
       "      <td>0</td>\n",
       "      <td>0</td>\n",
       "      <td>0</td>\n",
       "      <td>0</td>\n",
       "      <td>0</td>\n",
       "      <td>0</td>\n",
       "      <td>0</td>\n",
       "      <td>0</td>\n",
       "      <td>0</td>\n",
       "      <td>0</td>\n",
       "      <td>1</td>\n",
       "      <td>0</td>\n",
       "      <td>0</td>\n",
       "      <td>0</td>\n",
       "      <td>0</td>\n",
       "      <td>0</td>\n",
       "      <td>0</td>\n",
       "      <td>0</td>\n",
       "      <td>0</td>\n",
       "      <td>0</td>\n",
       "      <td>0</td>\n",
       "      <td>0</td>\n",
       "      <td>0</td>\n",
       "      <td>0</td>\n",
       "      <td>1</td>\n",
       "      <td>1</td>\n",
       "      <td>0</td>\n",
       "      <td>0</td>\n",
       "      <td>0</td>\n",
       "      <td>0</td>\n",
       "      <td>0</td>\n",
       "      <td>0</td>\n",
       "      <td>0</td>\n",
       "      <td>0</td>\n",
       "      <td>0</td>\n",
       "      <td>0</td>\n",
       "      <td>0</td>\n",
       "      <td>0</td>\n",
       "      <td>0</td>\n",
       "      <td>0</td>\n",
       "      <td>0</td>\n",
       "      <td>0</td>\n",
       "      <td>0</td>\n",
       "      <td>0</td>\n",
       "      <td>0</td>\n",
       "      <td>0</td>\n",
       "      <td>0</td>\n",
       "      <td>0</td>\n",
       "      <td>0</td>\n",
       "    </tr>\n",
       "    <tr>\n",
       "      <th>4</th>\n",
       "      <td>свежие</td>\n",
       "      <td>0</td>\n",
       "      <td>0</td>\n",
       "      <td>0</td>\n",
       "      <td>1</td>\n",
       "      <td>0</td>\n",
       "      <td>0</td>\n",
       "      <td>0</td>\n",
       "      <td>0</td>\n",
       "      <td>0</td>\n",
       "      <td>0</td>\n",
       "      <td>0</td>\n",
       "      <td>1</td>\n",
       "      <td>0</td>\n",
       "      <td>0</td>\n",
       "      <td>0</td>\n",
       "      <td>0</td>\n",
       "      <td>1</td>\n",
       "      <td>1</td>\n",
       "      <td>0</td>\n",
       "      <td>0</td>\n",
       "      <td>0</td>\n",
       "      <td>0</td>\n",
       "      <td>0</td>\n",
       "      <td>0</td>\n",
       "      <td>0</td>\n",
       "      <td>0</td>\n",
       "      <td>0</td>\n",
       "      <td>0</td>\n",
       "      <td>0</td>\n",
       "      <td>0</td>\n",
       "      <td>0</td>\n",
       "      <td>0</td>\n",
       "      <td>0</td>\n",
       "      <td>0</td>\n",
       "      <td>0</td>\n",
       "      <td>1</td>\n",
       "      <td>1</td>\n",
       "      <td>0</td>\n",
       "      <td>0</td>\n",
       "      <td>0</td>\n",
       "      <td>0</td>\n",
       "      <td>1</td>\n",
       "      <td>0</td>\n",
       "      <td>1</td>\n",
       "      <td>0</td>\n",
       "      <td>0</td>\n",
       "      <td>0</td>\n",
       "      <td>0</td>\n",
       "      <td>0</td>\n",
       "      <td>0</td>\n",
       "      <td>0</td>\n",
       "      <td>0</td>\n",
       "      <td>0</td>\n",
       "      <td>0</td>\n",
       "      <td>0</td>\n",
       "      <td>0</td>\n",
       "      <td>1</td>\n",
       "      <td>0</td>\n",
       "      <td>0</td>\n",
       "      <td>0</td>\n",
       "      <td>0</td>\n",
       "      <td>1</td>\n",
       "      <td>0</td>\n",
       "      <td>0</td>\n",
       "      <td>0</td>\n",
       "      <td>0</td>\n",
       "      <td>0</td>\n",
       "      <td>0</td>\n",
       "      <td>0</td>\n",
       "      <td>0</td>\n",
       "      <td>0</td>\n",
       "      <td>0</td>\n",
       "      <td>1</td>\n",
       "      <td>0</td>\n",
       "      <td>0</td>\n",
       "      <td>0</td>\n",
       "      <td>0</td>\n",
       "      <td>0</td>\n",
       "      <td>0</td>\n",
       "      <td>0</td>\n",
       "      <td>0</td>\n",
       "    </tr>\n",
       "    <tr>\n",
       "      <th>5</th>\n",
       "      <td>шипровые</td>\n",
       "      <td>0</td>\n",
       "      <td>0</td>\n",
       "      <td>0</td>\n",
       "      <td>0</td>\n",
       "      <td>1</td>\n",
       "      <td>0</td>\n",
       "      <td>0</td>\n",
       "      <td>0</td>\n",
       "      <td>0</td>\n",
       "      <td>0</td>\n",
       "      <td>0</td>\n",
       "      <td>0</td>\n",
       "      <td>0</td>\n",
       "      <td>0</td>\n",
       "      <td>0</td>\n",
       "      <td>0</td>\n",
       "      <td>0</td>\n",
       "      <td>0</td>\n",
       "      <td>0</td>\n",
       "      <td>0</td>\n",
       "      <td>0</td>\n",
       "      <td>0</td>\n",
       "      <td>0</td>\n",
       "      <td>0</td>\n",
       "      <td>0</td>\n",
       "      <td>0</td>\n",
       "      <td>0</td>\n",
       "      <td>0</td>\n",
       "      <td>0</td>\n",
       "      <td>0</td>\n",
       "      <td>0</td>\n",
       "      <td>0</td>\n",
       "      <td>0</td>\n",
       "      <td>0</td>\n",
       "      <td>0</td>\n",
       "      <td>0</td>\n",
       "      <td>0</td>\n",
       "      <td>1</td>\n",
       "      <td>0</td>\n",
       "      <td>0</td>\n",
       "      <td>0</td>\n",
       "      <td>0</td>\n",
       "      <td>0</td>\n",
       "      <td>0</td>\n",
       "      <td>0</td>\n",
       "      <td>0</td>\n",
       "      <td>0</td>\n",
       "      <td>0</td>\n",
       "      <td>0</td>\n",
       "      <td>0</td>\n",
       "      <td>0</td>\n",
       "      <td>0</td>\n",
       "      <td>0</td>\n",
       "      <td>0</td>\n",
       "      <td>0</td>\n",
       "      <td>0</td>\n",
       "      <td>0</td>\n",
       "      <td>0</td>\n",
       "      <td>0</td>\n",
       "      <td>0</td>\n",
       "      <td>1</td>\n",
       "      <td>0</td>\n",
       "      <td>0</td>\n",
       "      <td>0</td>\n",
       "      <td>0</td>\n",
       "      <td>0</td>\n",
       "      <td>1</td>\n",
       "      <td>0</td>\n",
       "      <td>0</td>\n",
       "      <td>0</td>\n",
       "      <td>0</td>\n",
       "      <td>0</td>\n",
       "      <td>0</td>\n",
       "      <td>0</td>\n",
       "      <td>0</td>\n",
       "      <td>0</td>\n",
       "      <td>0</td>\n",
       "      <td>1</td>\n",
       "      <td>0</td>\n",
       "      <td>0</td>\n",
       "      <td>0</td>\n",
       "    </tr>\n",
       "    <tr>\n",
       "      <th>6</th>\n",
       "      <td>пряные</td>\n",
       "      <td>1</td>\n",
       "      <td>0</td>\n",
       "      <td>0</td>\n",
       "      <td>0</td>\n",
       "      <td>0</td>\n",
       "      <td>0</td>\n",
       "      <td>0</td>\n",
       "      <td>0</td>\n",
       "      <td>0</td>\n",
       "      <td>1</td>\n",
       "      <td>0</td>\n",
       "      <td>0</td>\n",
       "      <td>0</td>\n",
       "      <td>0</td>\n",
       "      <td>0</td>\n",
       "      <td>0</td>\n",
       "      <td>0</td>\n",
       "      <td>0</td>\n",
       "      <td>0</td>\n",
       "      <td>0</td>\n",
       "      <td>1</td>\n",
       "      <td>0</td>\n",
       "      <td>0</td>\n",
       "      <td>0</td>\n",
       "      <td>1</td>\n",
       "      <td>0</td>\n",
       "      <td>1</td>\n",
       "      <td>0</td>\n",
       "      <td>0</td>\n",
       "      <td>0</td>\n",
       "      <td>0</td>\n",
       "      <td>0</td>\n",
       "      <td>0</td>\n",
       "      <td>0</td>\n",
       "      <td>0</td>\n",
       "      <td>0</td>\n",
       "      <td>0</td>\n",
       "      <td>0</td>\n",
       "      <td>0</td>\n",
       "      <td>0</td>\n",
       "      <td>0</td>\n",
       "      <td>0</td>\n",
       "      <td>0</td>\n",
       "      <td>0</td>\n",
       "      <td>1</td>\n",
       "      <td>1</td>\n",
       "      <td>0</td>\n",
       "      <td>1</td>\n",
       "      <td>0</td>\n",
       "      <td>0</td>\n",
       "      <td>0</td>\n",
       "      <td>0</td>\n",
       "      <td>0</td>\n",
       "      <td>0</td>\n",
       "      <td>0</td>\n",
       "      <td>0</td>\n",
       "      <td>0</td>\n",
       "      <td>0</td>\n",
       "      <td>0</td>\n",
       "      <td>0</td>\n",
       "      <td>1</td>\n",
       "      <td>0</td>\n",
       "      <td>0</td>\n",
       "      <td>0</td>\n",
       "      <td>0</td>\n",
       "      <td>0</td>\n",
       "      <td>0</td>\n",
       "      <td>0</td>\n",
       "      <td>0</td>\n",
       "      <td>0</td>\n",
       "      <td>0</td>\n",
       "      <td>0</td>\n",
       "      <td>0</td>\n",
       "      <td>0</td>\n",
       "      <td>0</td>\n",
       "      <td>0</td>\n",
       "      <td>0</td>\n",
       "      <td>0</td>\n",
       "      <td>0</td>\n",
       "      <td>0</td>\n",
       "      <td>0</td>\n",
       "    </tr>\n",
       "    <tr>\n",
       "      <th>7</th>\n",
       "      <td>цветочные</td>\n",
       "      <td>0</td>\n",
       "      <td>0</td>\n",
       "      <td>0</td>\n",
       "      <td>0</td>\n",
       "      <td>0</td>\n",
       "      <td>0</td>\n",
       "      <td>0</td>\n",
       "      <td>0</td>\n",
       "      <td>0</td>\n",
       "      <td>0</td>\n",
       "      <td>0</td>\n",
       "      <td>0</td>\n",
       "      <td>0</td>\n",
       "      <td>0</td>\n",
       "      <td>0</td>\n",
       "      <td>0</td>\n",
       "      <td>0</td>\n",
       "      <td>0</td>\n",
       "      <td>0</td>\n",
       "      <td>0</td>\n",
       "      <td>0</td>\n",
       "      <td>0</td>\n",
       "      <td>0</td>\n",
       "      <td>0</td>\n",
       "      <td>0</td>\n",
       "      <td>0</td>\n",
       "      <td>0</td>\n",
       "      <td>0</td>\n",
       "      <td>0</td>\n",
       "      <td>0</td>\n",
       "      <td>1</td>\n",
       "      <td>0</td>\n",
       "      <td>0</td>\n",
       "      <td>1</td>\n",
       "      <td>0</td>\n",
       "      <td>0</td>\n",
       "      <td>0</td>\n",
       "      <td>0</td>\n",
       "      <td>0</td>\n",
       "      <td>0</td>\n",
       "      <td>0</td>\n",
       "      <td>0</td>\n",
       "      <td>0</td>\n",
       "      <td>0</td>\n",
       "      <td>0</td>\n",
       "      <td>0</td>\n",
       "      <td>0</td>\n",
       "      <td>0</td>\n",
       "      <td>0</td>\n",
       "      <td>0</td>\n",
       "      <td>0</td>\n",
       "      <td>0</td>\n",
       "      <td>0</td>\n",
       "      <td>0</td>\n",
       "      <td>0</td>\n",
       "      <td>0</td>\n",
       "      <td>1</td>\n",
       "      <td>1</td>\n",
       "      <td>0</td>\n",
       "      <td>0</td>\n",
       "      <td>0</td>\n",
       "      <td>0</td>\n",
       "      <td>0</td>\n",
       "      <td>0</td>\n",
       "      <td>0</td>\n",
       "      <td>0</td>\n",
       "      <td>0</td>\n",
       "      <td>0</td>\n",
       "      <td>0</td>\n",
       "      <td>0</td>\n",
       "      <td>0</td>\n",
       "      <td>0</td>\n",
       "      <td>0</td>\n",
       "      <td>0</td>\n",
       "      <td>0</td>\n",
       "      <td>0</td>\n",
       "      <td>0</td>\n",
       "      <td>0</td>\n",
       "      <td>0</td>\n",
       "      <td>0</td>\n",
       "      <td>0</td>\n",
       "    </tr>\n",
       "    <tr>\n",
       "      <th>8</th>\n",
       "      <td>фужерные</td>\n",
       "      <td>0</td>\n",
       "      <td>0</td>\n",
       "      <td>0</td>\n",
       "      <td>0</td>\n",
       "      <td>1</td>\n",
       "      <td>0</td>\n",
       "      <td>0</td>\n",
       "      <td>0</td>\n",
       "      <td>0</td>\n",
       "      <td>0</td>\n",
       "      <td>1</td>\n",
       "      <td>0</td>\n",
       "      <td>0</td>\n",
       "      <td>0</td>\n",
       "      <td>0</td>\n",
       "      <td>0</td>\n",
       "      <td>0</td>\n",
       "      <td>0</td>\n",
       "      <td>0</td>\n",
       "      <td>0</td>\n",
       "      <td>0</td>\n",
       "      <td>0</td>\n",
       "      <td>0</td>\n",
       "      <td>0</td>\n",
       "      <td>0</td>\n",
       "      <td>0</td>\n",
       "      <td>0</td>\n",
       "      <td>1</td>\n",
       "      <td>0</td>\n",
       "      <td>0</td>\n",
       "      <td>0</td>\n",
       "      <td>0</td>\n",
       "      <td>1</td>\n",
       "      <td>0</td>\n",
       "      <td>0</td>\n",
       "      <td>0</td>\n",
       "      <td>0</td>\n",
       "      <td>1</td>\n",
       "      <td>0</td>\n",
       "      <td>0</td>\n",
       "      <td>0</td>\n",
       "      <td>0</td>\n",
       "      <td>0</td>\n",
       "      <td>0</td>\n",
       "      <td>0</td>\n",
       "      <td>0</td>\n",
       "      <td>1</td>\n",
       "      <td>0</td>\n",
       "      <td>0</td>\n",
       "      <td>0</td>\n",
       "      <td>0</td>\n",
       "      <td>1</td>\n",
       "      <td>0</td>\n",
       "      <td>0</td>\n",
       "      <td>0</td>\n",
       "      <td>0</td>\n",
       "      <td>0</td>\n",
       "      <td>0</td>\n",
       "      <td>0</td>\n",
       "      <td>0</td>\n",
       "      <td>0</td>\n",
       "      <td>0</td>\n",
       "      <td>0</td>\n",
       "      <td>1</td>\n",
       "      <td>0</td>\n",
       "      <td>0</td>\n",
       "      <td>0</td>\n",
       "      <td>0</td>\n",
       "      <td>0</td>\n",
       "      <td>1</td>\n",
       "      <td>0</td>\n",
       "      <td>0</td>\n",
       "      <td>0</td>\n",
       "      <td>0</td>\n",
       "      <td>1</td>\n",
       "      <td>0</td>\n",
       "      <td>0</td>\n",
       "      <td>0</td>\n",
       "      <td>0</td>\n",
       "      <td>0</td>\n",
       "      <td>0</td>\n",
       "    </tr>\n",
       "    <tr>\n",
       "      <th>9</th>\n",
       "      <td>мускусные</td>\n",
       "      <td>0</td>\n",
       "      <td>0</td>\n",
       "      <td>0</td>\n",
       "      <td>0</td>\n",
       "      <td>0</td>\n",
       "      <td>0</td>\n",
       "      <td>0</td>\n",
       "      <td>0</td>\n",
       "      <td>0</td>\n",
       "      <td>0</td>\n",
       "      <td>0</td>\n",
       "      <td>0</td>\n",
       "      <td>0</td>\n",
       "      <td>1</td>\n",
       "      <td>0</td>\n",
       "      <td>0</td>\n",
       "      <td>0</td>\n",
       "      <td>0</td>\n",
       "      <td>0</td>\n",
       "      <td>0</td>\n",
       "      <td>0</td>\n",
       "      <td>0</td>\n",
       "      <td>0</td>\n",
       "      <td>0</td>\n",
       "      <td>0</td>\n",
       "      <td>0</td>\n",
       "      <td>0</td>\n",
       "      <td>0</td>\n",
       "      <td>0</td>\n",
       "      <td>0</td>\n",
       "      <td>0</td>\n",
       "      <td>0</td>\n",
       "      <td>0</td>\n",
       "      <td>0</td>\n",
       "      <td>0</td>\n",
       "      <td>0</td>\n",
       "      <td>0</td>\n",
       "      <td>0</td>\n",
       "      <td>0</td>\n",
       "      <td>1</td>\n",
       "      <td>0</td>\n",
       "      <td>1</td>\n",
       "      <td>0</td>\n",
       "      <td>0</td>\n",
       "      <td>0</td>\n",
       "      <td>0</td>\n",
       "      <td>0</td>\n",
       "      <td>0</td>\n",
       "      <td>0</td>\n",
       "      <td>0</td>\n",
       "      <td>1</td>\n",
       "      <td>0</td>\n",
       "      <td>1</td>\n",
       "      <td>0</td>\n",
       "      <td>0</td>\n",
       "      <td>0</td>\n",
       "      <td>0</td>\n",
       "      <td>0</td>\n",
       "      <td>0</td>\n",
       "      <td>0</td>\n",
       "      <td>0</td>\n",
       "      <td>0</td>\n",
       "      <td>0</td>\n",
       "      <td>0</td>\n",
       "      <td>0</td>\n",
       "      <td>0</td>\n",
       "      <td>0</td>\n",
       "      <td>1</td>\n",
       "      <td>1</td>\n",
       "      <td>0</td>\n",
       "      <td>0</td>\n",
       "      <td>0</td>\n",
       "      <td>0</td>\n",
       "      <td>0</td>\n",
       "      <td>0</td>\n",
       "      <td>0</td>\n",
       "      <td>0</td>\n",
       "      <td>0</td>\n",
       "      <td>0</td>\n",
       "      <td>0</td>\n",
       "      <td>0</td>\n",
       "    </tr>\n",
       "  </tbody>\n",
       "</table>\n",
       "</div>"
      ],
      "text/plain": [
       "    семейство  активный  амбра  апельсин  белый чай  бергамот  благовоние  \\\n",
       "0   восточные         0      1         0          0         0           1   \n",
       "1   древесные         0      0         0          0         0           0   \n",
       "2  цитрусовые         0      0         1          0         1           0   \n",
       "3   фруктовые         0      0         0          0         0           0   \n",
       "4      свежие         0      0         0          1         0           0   \n",
       "5    шипровые         0      0         0          0         1           0   \n",
       "6      пряные         1      0         0          0         0           0   \n",
       "7   цветочные         0      0         0          0         0           0   \n",
       "8    фужерные         0      0         0          0         1           0   \n",
       "9   мускусные         0      0         0          0         0           0   \n",
       "\n",
       "   бодрящий  ваниль  виноград  гвоздика  герань  горный воздух  грейпфрут  \\\n",
       "0         0       1         0         0       0              0          0   \n",
       "1         0       0         0         0       0              0          0   \n",
       "2         1       0         1         0       0              0          1   \n",
       "3         0       0         0         0       0              0          0   \n",
       "4         0       0         0         0       0              1          0   \n",
       "5         0       0         0         0       0              0          0   \n",
       "6         0       0         0         1       0              0          0   \n",
       "7         0       0         0         0       0              0          0   \n",
       "8         0       0         0         0       1              0          0   \n",
       "9         0       0         0         0       0              0          0   \n",
       "\n",
       "   древесный  дым  жизнерадостный  зеленое яблоко  зеленый чай  земля  \\\n",
       "0          1    1               0               0            0      0   \n",
       "1          1    1               0               0            0      1   \n",
       "2          0    0               1               0            0      0   \n",
       "3          0    0               0               0            0      0   \n",
       "4          0    0               0               1            1      0   \n",
       "5          0    0               0               0            0      0   \n",
       "6          0    0               0               0            0      0   \n",
       "7          0    0               0               0            0      0   \n",
       "8          0    0               0               0            0      0   \n",
       "9          1    0               0               0            0      0   \n",
       "\n",
       "   игривый  имбирь  интенсивный  карамель  кедр  корица  кофе  куркума  \\\n",
       "0        0       0            1         1     0       0     1        0   \n",
       "1        0       0            0         0     1       0     0        0   \n",
       "2        0       0            1         0     0       0     0        0   \n",
       "3        1       0            0         0     0       0     0        0   \n",
       "4        0       0            0         0     0       0     0        0   \n",
       "5        0       0            0         0     0       0     0        0   \n",
       "6        0       1            0         0     0       1     0        1   \n",
       "7        0       0            0         0     0       0     0        0   \n",
       "8        0       0            0         0     0       0     0        0   \n",
       "9        0       0            0         0     0       0     0        0   \n",
       "\n",
       "   лаванда  ладан  лайм  легкий  лимон  листья  массивный  металл  \\\n",
       "0        0      1     0       0      0       0          0       0   \n",
       "1        0      0     0       0      0       0          0       1   \n",
       "2        0      0     1       1      1       0          0       0   \n",
       "3        0      0     0       0      0       0          0       0   \n",
       "4        0      0     0       0      0       0          0       0   \n",
       "5        0      0     0       0      0       0          0       0   \n",
       "6        0      0     0       0      0       0          0       0   \n",
       "7        0      0     0       1      0       0          1       0   \n",
       "8        1      0     0       0      0       1          0       0   \n",
       "9        0      0     0       0      0       0          0       0   \n",
       "\n",
       "   морозная свежесть  морской  мох  мускус  мягкий  насыщенный  ненавязчивый  \\\n",
       "0                  0        0    0       1       0           1             0   \n",
       "1                  0        0    1       0       0           0             0   \n",
       "2                  0        0    0       0       0           0             0   \n",
       "3                  0        0    0       0       0           0             0   \n",
       "4                  1        1    0       0       0           0             1   \n",
       "5                  0        0    1       0       0           0             0   \n",
       "6                  0        0    0       0       0           0             0   \n",
       "7                  0        0    0       0       0           0             0   \n",
       "8                  0        0    1       0       0           0             0   \n",
       "9                  0        0    0       0       1           0             1   \n",
       "\n",
       "   необычный  огурец  орех  острый  папоротник  перец  персик  плотный  \\\n",
       "0          0       0     0       0           0      0       0        1   \n",
       "1          0       0     0       0           1      0       0        0   \n",
       "2          0       0     0       0           0      0       1        0   \n",
       "3          1       0     0       0           0      0       0        0   \n",
       "4          0       1     0       0           0      0       0        0   \n",
       "5          0       0     0       0           0      0       0        0   \n",
       "6          0       0     1       1           0      1       0        0   \n",
       "7          0       0     0       0           0      0       0        0   \n",
       "8          0       0     0       0           1      0       0        0   \n",
       "9          0       0     0       0           0      0       0        0   \n",
       "\n",
       "   притягательный  пряно-горький  пряный  роза  роскошный  сандал  свежий  \\\n",
       "0               0              0       1     1          1       0       0   \n",
       "1               0              0       0     0          0       1       0   \n",
       "2               0              0       0     0          0       0       1   \n",
       "3               0              0       0     0          0       0       1   \n",
       "4               0              0       0     0          0       0       1   \n",
       "5               0              0       0     0          0       0       0   \n",
       "6               0              0       0     0          0       0       0   \n",
       "7               0              0       0     0          0       0       1   \n",
       "8               0              1       0     0          0       0       0   \n",
       "9               1              0       1     0          0       0       0   \n",
       "\n",
       "   сладкий  сливочный  смола  согревающий  спокойный  спортивный  сухая трава  \\\n",
       "0        0          0      1            0          0           0            0   \n",
       "1        1          1      1            1          0           0            0   \n",
       "2        0          0      0            0          0           1            0   \n",
       "3        1          0      0            0          0           0            0   \n",
       "4        0          0      0            0          1           0            0   \n",
       "5        0          0      0            1          0           0            0   \n",
       "6        0          0      0            1          0           0            0   \n",
       "7        1          0      0            0          0           0            0   \n",
       "8        0          0      0            0          0           0            1   \n",
       "9        0          0      0            0          0           0            0   \n",
       "\n",
       "   сухой  табак  таинственный  телесный  теплый  терпкий  томный  \\\n",
       "0      1      1             0         0       0        0       1   \n",
       "1      0      0             1         0       1        0       0   \n",
       "2      0      0             0         0       0        0       0   \n",
       "3      0      0             0         0       0        0       0   \n",
       "4      0      0             0         0       0        0       0   \n",
       "5      0      0             1         0       0        0       0   \n",
       "6      0      0             0         0       0        0       0   \n",
       "7      0      0             0         0       0        0       0   \n",
       "8      0      0             0         0       0        1       0   \n",
       "9      0      0             0         1       1        0       0   \n",
       "\n",
       "   тонизирующий  тонкий  торжественный  трава  тяжелый  черный чай  \\\n",
       "0             0       0              1      0        1           1   \n",
       "1             0       0              0      0        0           0   \n",
       "2             1       0              0      0        0           0   \n",
       "3             0       0              0      0        0           0   \n",
       "4             0       1              0      0        0           0   \n",
       "5             0       0              0      0        0           0   \n",
       "6             0       0              0      0        0           0   \n",
       "7             0       0              0      0        0           0   \n",
       "8             0       0              0      1        0           0   \n",
       "9             0       0              0      0        0           0   \n",
       "\n",
       "   чувственный  шоколад  энергичный  яркий  \n",
       "0            1        1           0      0  \n",
       "1            1        0           0      0  \n",
       "2            0        0           1      1  \n",
       "3            0        0           0      0  \n",
       "4            0        0           0      0  \n",
       "5            1        0           0      0  \n",
       "6            0        0           0      0  \n",
       "7            0        0           0      0  \n",
       "8            0        0           0      0  \n",
       "9            0        0           0      0  "
      ]
     },
     "execution_count": 879,
     "metadata": {},
     "output_type": "execute_result"
    }
   ],
   "source": [
    "smellLike = pd.read_csv('../lab_01/perfume/smells.csv', delimiter=',', encoding=\"utf8\")\n",
    "\n",
    "smellLike[\"семейство\"] = smellLike[\"семейство\"].map(lambda elem: str(elem).lower())\n",
    "smellLike[\"ассоциации\"] = smellLike[\"ассоциации\"].map(lambda elem: str(elem).lower().split(';')) + \\\n",
    "                          smellLike[\"характеристики\"].map(lambda elem: str(elem).lower().split(';'))\n",
    "\n",
    "itemAss = list(set(itertools.chain.from_iterable(smellLike[\"ассоциации\"].values)))\n",
    "itemAss.remove('nan')\n",
    "itemAss.sort()\n",
    "\n",
    "for item in itemAss:\n",
    "    smellLike[item] = smellLike[\"ассоциации\"].map(lambda elem: 1 if item in elem else 0)\n",
    "del smellLike[\"ассоциации\"]\n",
    "del smellLike[\"характеристики\"]\n",
    "smellLike\n"
   ]
  },
  {
   "cell_type": "markdown",
   "metadata": {},
   "source": [
    "#### Преобразовать параметры (пол, шлейф, концентрация, сегмент)"
   ]
  },
  {
   "cell_type": "code",
   "execution_count": 880,
   "metadata": {},
   "outputs": [],
   "source": [
    "sexDict = { \"м\": 0, \"у\": 0.5, \"ж\": 1 }\n",
    "df[\"пол\"] = df[\"пол\"].map(lambda elem: sexDict[elem])"
   ]
  },
  {
   "cell_type": "code",
   "execution_count": 881,
   "metadata": {},
   "outputs": [],
   "source": [
    "tailDict = { \"крайне незаметный\": 0, \"незаметный\": 0.25, \"средний\": 0.5, \"заметный\": 0.75, \"очень заметный\": 1}\n",
    "df[\"шлейф\"] = df[\"шлейф\"].map(lambda elem: tailDict[elem])"
   ]
  },
  {
   "cell_type": "code",
   "execution_count": 882,
   "metadata": {},
   "outputs": [],
   "source": [
    "conDict = {\"освежающая вода\": 0, \"одеколон\": 0.2, \"туалетная вода\": 0.4, \"парфюмерная вода\": 0.6, \"духи\": 0.8, \"масляные духи\": 1}\n",
    "df[\"концентрация\"] = df[\"концентрация\"].map(lambda elem: conDict[elem])"
   ]
  },
  {
   "cell_type": "code",
   "execution_count": 883,
   "metadata": {},
   "outputs": [],
   "source": [
    "segmentDict = {\"масс-маркет\": 0, \"люкс\": 0.5, \"нишевая парфюмерия\": 1}\n",
    "df[\"сегмент\"] = df[\"сегмент\"].map(lambda elem: segmentDict[elem])"
   ]
  },
  {
   "cell_type": "markdown",
   "metadata": {},
   "source": [
    "#### Задать матрицу смежности для парфюмерных школ"
   ]
  },
  {
   "cell_type": "code",
   "execution_count": 884,
   "metadata": {},
   "outputs": [],
   "source": [
    "countryDict = {\"Франция\": 0, \"Италия\": 1, \"ОАЭ\": 2, \"США\": 3, \"Россия\": 4, \"Германия\": 5}\n",
    "\n",
    "countryMatr = np.zeros((len(countryDict), len(countryDict)))\n",
    "countryMatr[countryDict[\"Франция\"]][countryDict[\"Италия\"]] = countryMatr[countryDict[\"Италия\"]][countryDict[\"Франция\"]] = 0.5\n",
    "countryMatr[countryDict[\"Франция\"]][countryDict[\"ОАЭ\"]] = countryMatr[countryDict[\"ОАЭ\"]][countryDict[\"Франция\"]] = 0.9\n",
    "countryMatr[countryDict[\"Франция\"]][countryDict[\"США\"]] = countryMatr[countryDict[\"США\"]][countryDict[\"Франция\"]] = 0.9\n",
    "countryMatr[countryDict[\"Франция\"]][countryDict[\"Россия\"]] = countryMatr[countryDict[\"Россия\"]][countryDict[\"Франция\"]] = 0.8\n",
    "countryMatr[countryDict[\"Франция\"]][countryDict[\"Германия\"]] = countryMatr[countryDict[\"Германия\"]][countryDict[\"Франция\"]] = 1\n",
    "\n",
    "countryMatr[countryDict[\"Италия\"]][countryDict[\"ОАЭ\"]] = countryMatr[countryDict[\"ОАЭ\"]][countryDict[\"Италия\"]] = 0.8\n",
    "countryMatr[countryDict[\"Италия\"]][countryDict[\"США\"]] = countryMatr[countryDict[\"США\"]][countryDict[\"Италия\"]] = 0.5\n",
    "countryMatr[countryDict[\"Италия\"]][countryDict[\"Россия\"]] = countryMatr[countryDict[\"Россия\"]][countryDict[\"Италия\"]] = 0.9\n",
    "countryMatr[countryDict[\"Италия\"]][countryDict[\"Германия\"]] = countryMatr[countryDict[\"Германия\"]][countryDict[\"Италия\"]] = 1\n",
    "\n",
    "countryMatr[countryDict[\"ОАЭ\"]][countryDict[\"США\"]] = countryMatr[countryDict[\"США\"]][countryDict[\"ОАЭ\"]] = 0.9\n",
    "countryMatr[countryDict[\"ОАЭ\"]][countryDict[\"Россия\"]] = countryMatr[countryDict[\"Россия\"]][countryDict[\"ОАЭ\"]] = 0.8\n",
    "countryMatr[countryDict[\"ОАЭ\"]][countryDict[\"Германия\"]] = countryMatr[countryDict[\"Германия\"]][countryDict[\"ОАЭ\"]] = 1\n",
    "\n",
    "countryMatr[countryDict[\"США\"]][countryDict[\"Россия\"]] = countryMatr[countryDict[\"Россия\"]][countryDict[\"США\"]] = 0.7\n",
    "countryMatr[countryDict[\"США\"]][countryDict[\"Германия\"]] = countryMatr[countryDict[\"Германия\"]][countryDict[\"США\"]] = 1\n",
    "\n",
    "countryMatr[countryDict[\"Россия\"]][countryDict[\"Германия\"]] = countryMatr[countryDict[\"Германия\"]][countryDict[\"Россия\"]] = 1"
   ]
  },
  {
   "cell_type": "markdown",
   "metadata": {},
   "source": [
    "#### Преобразование оставшихся данных"
   ]
  },
  {
   "cell_type": "code",
   "execution_count": 885,
   "metadata": {},
   "outputs": [],
   "source": [
    "df[\"верхние ноты\"] = df[\"верхние ноты\"].map(lambda elem: str(elem).lower().split(';'))\n",
    "df[\"ноты сердца\"] = df[\"ноты сердца\"].map(lambda elem: str(elem).lower().split(';'))\n",
    "df[\"базовые ноты\"] = df[\"базовые ноты\"].map(lambda elem: str(elem).lower().split(';'))\n",
    "df[\"запахи\"] = df[\"запахи\"].map(lambda elem: str(elem).lower().split(';'))\n",
    "df[\"семейства\"] = df[\"семейства\"].map(lambda elem: str(elem).lower().split(';'))\n",
    "df[\"время года\"] = df[\"время года\"].map(lambda elem: str(elem).lower().split(';'))\n",
    "df[\"характеристики аромата\"] = df[\"характеристики аромата\"].map(lambda elem: str(elem).lower().split(';'))"
   ]
  },
  {
   "cell_type": "code",
   "execution_count": 886,
   "metadata": {},
   "outputs": [],
   "source": [
    "df[\"возраст (до 18)\"] = df[\"возраст (до 18)\"].map(lambda elem: 1 if elem == '+' else 0)\n",
    "df[\"возраст (до 26)\"] = df[\"возраст (до 26)\"].map(lambda elem: 1 if elem == '+' else 0)\n",
    "df[\"возраст (до 35)\"] = df[\"возраст (до 35)\"].map(lambda elem: 1 if elem == '+' else 0)\n",
    "df[\"возраст (до 45)\"] = df[\"возраст (до 45)\"].map(lambda elem: 1 if elem == '+' else 0)\n",
    "df[\"возраст (после 45)\"] = df[\"возраст (после 45)\"].map(lambda elem: 1 if elem == '+' else 0)"
   ]
  },
  {
   "cell_type": "code",
   "execution_count": 887,
   "metadata": {},
   "outputs": [],
   "source": [
    "df[\"стойкость минимум (ч)\"] = df[\"стойкость минимум (ч)\"].values / max(df[\"стойкость минимум (ч)\"].values)\n",
    "df[\"стойкость максимум (ч)\"] = df[\"стойкость максимум (ч)\"].values / max(df[\"стойкость максимум (ч)\"].values)"
   ]
  },
  {
   "cell_type": "code",
   "execution_count": 888,
   "metadata": {},
   "outputs": [],
   "source": [
    "df[\"цена за 1 мл\"] = df[\"цена\"] / df[\"мл\"]\n",
    "df[\"цена за 1 мл\"] = (df[\"цена за 1 мл\"].values - min(df[\"цена за 1 мл\"].values)) / (max(df[\"цена за 1 мл\"].values) - min(df[\"цена за 1 мл\"].values))"
   ]
  },
  {
   "cell_type": "code",
   "execution_count": 889,
   "metadata": {},
   "outputs": [],
   "source": [
    "itemSeason = list(set(itertools.chain.from_iterable(df[\"время года\"].values)))\n",
    "itemSeason.remove('nan')\n",
    "for item in itemSeason:\n",
    "    df[item] = df[\"время года\"].map(lambda elem: 1 if item in elem else 0)"
   ]
  },
  {
   "cell_type": "code",
   "execution_count": 890,
   "metadata": {},
   "outputs": [],
   "source": [
    "itemSmells = list(set(itertools.chain.from_iterable(df[\"верхние ноты\"].values)) | \n",
    "             set(itertools.chain.from_iterable(df[\"ноты сердца\"].values))  |\n",
    "             set(itertools.chain.from_iterable(df[\"базовые ноты\"].values)) |\n",
    "             set(itertools.chain.from_iterable(df[\"запахи\"].values)) |\n",
    "             set(itertools.chain.from_iterable(df[\"характеристики аромата\"].values)))\n",
    "itemSmells.sort()\n",
    "itemSmells.remove('nan')\n",
    "for item in itemSmells:\n",
    "    df[item] = df[\"верхние ноты\"].map(lambda elem: 1 if item in elem else 0) | \\\n",
    "               df[\"ноты сердца\"].map(lambda elem: 1 if item in elem else 0) | \\\n",
    "               df[\"базовые ноты\"].map(lambda elem: 1 if item in elem else 0) | \\\n",
    "               df[\"запахи\"].map(lambda elem: 1 if item in elem else 0) | \\\n",
    "               df[\"характеристики аромата\"].map(lambda elem: 1 if item in elem else 0)\n",
    "\n",
    "itemFamily = list(set(itertools.chain.from_iterable(df[\"семейства\"].values)))\n",
    "for item in itemFamily:\n",
    "    df[item + \" семейства\"] = df[\"семейства\"].map(lambda elem: 1 if item in elem else 0)\n",
    "\n",
    "for smell in smellLike.keys().drop('семейство'):\n",
    "    df[smell] = df[\"семейства\"].map(lambda elem:\n",
    "        1 if sum(row[smell] for row in smellLike.iloc if row['семейство'] in elem) else 0)"
   ]
  },
  {
   "cell_type": "markdown",
   "metadata": {},
   "source": [
    "#### Некоторые параметры"
   ]
  },
  {
   "cell_type": "code",
   "execution_count": 891,
   "metadata": {},
   "outputs": [],
   "source": [
    "F_NAME = \"название\"\n",
    "F_DIST = \"расстояние\"\n",
    "\n",
    "nameArr = df[\"название\"]\n",
    "\n",
    "dfTree = pd.DataFrame(columns=[\"название\", \"семейства\"], data=df[[\"название\", \"семейства\"]].values)"
   ]
  },
  {
   "cell_type": "code",
   "execution_count": 892,
   "metadata": {},
   "outputs": [],
   "source": [
    "del df[\"верхние ноты\"]\n",
    "del df[\"ноты сердца\"]\n",
    "del df[\"базовые ноты\"]\n",
    "del df[\"запахи\"]\n",
    "del df[\"семейства\"]\n",
    "del df[\"время года\"]\n",
    "del df[\"характеристики аромата\"]\n",
    "del df[\"мл\"]\n",
    "del df[\"цена\"]"
   ]
  },
  {
   "cell_type": "code",
   "execution_count": 893,
   "metadata": {},
   "outputs": [
    {
     "data": {
      "text/html": [
       "<div>\n",
       "<style scoped>\n",
       "    .dataframe tbody tr th:only-of-type {\n",
       "        vertical-align: middle;\n",
       "    }\n",
       "\n",
       "    .dataframe tbody tr th {\n",
       "        vertical-align: top;\n",
       "    }\n",
       "\n",
       "    .dataframe thead th {\n",
       "        text-align: right;\n",
       "    }\n",
       "</style>\n",
       "<table border=\"1\" class=\"dataframe\">\n",
       "  <thead>\n",
       "    <tr style=\"text-align: right;\">\n",
       "      <th></th>\n",
       "      <th>название</th>\n",
       "      <th>пол</th>\n",
       "      <th>бренд</th>\n",
       "      <th>страна</th>\n",
       "      <th>сегмент</th>\n",
       "      <th>концентрация</th>\n",
       "      <th>стойкость минимум (ч)</th>\n",
       "      <th>стойкость максимум (ч)</th>\n",
       "      <th>шлейф</th>\n",
       "      <th>возраст (до 18)</th>\n",
       "      <th>возраст (до 26)</th>\n",
       "      <th>возраст (до 35)</th>\n",
       "      <th>возраст (до 45)</th>\n",
       "      <th>возраст (после 45)</th>\n",
       "      <th>цена за 1 мл</th>\n",
       "      <th>лето</th>\n",
       "      <th>весна</th>\n",
       "      <th>зима</th>\n",
       "      <th>осень</th>\n",
       "      <th>альдегиды</th>\n",
       "      <th>амбра</th>\n",
       "      <th>амброксан</th>\n",
       "      <th>ананас</th>\n",
       "      <th>апельсин</th>\n",
       "      <th>апельсиновый цвет</th>\n",
       "      <th>арбуз</th>\n",
       "      <th>белые цветы</th>\n",
       "      <th>белый перец</th>\n",
       "      <th>бензоин</th>\n",
       "      <th>бергамот</th>\n",
       "      <th>береза</th>\n",
       "      <th>бобы</th>\n",
       "      <th>бумага</th>\n",
       "      <th>ваниль</th>\n",
       "      <th>ветивер</th>\n",
       "      <th>вишня</th>\n",
       "      <th>гардения</th>\n",
       "      <th>гвоздика</th>\n",
       "      <th>герань</th>\n",
       "      <th>грейпфрут</th>\n",
       "      <th>груша</th>\n",
       "      <th>древесный аккорд</th>\n",
       "      <th>дубовый мох</th>\n",
       "      <th>дыня</th>\n",
       "      <th>жасмин</th>\n",
       "      <th>женственный</th>\n",
       "      <th>жженый сахар</th>\n",
       "      <th>замша</th>\n",
       "      <th>зеленое яблоко</th>\n",
       "      <th>зеленый аккорд</th>\n",
       "      <th>злаки</th>\n",
       "      <th>иланг-иланг</th>\n",
       "      <th>имбирь</th>\n",
       "      <th>ирис</th>\n",
       "      <th>какао</th>\n",
       "      <th>карамель</th>\n",
       "      <th>кардамон</th>\n",
       "      <th>кашмеран</th>\n",
       "      <th>кедр</th>\n",
       "      <th>киви</th>\n",
       "      <th>клубника</th>\n",
       "      <th>кожа</th>\n",
       "      <th>кожаный аккорд</th>\n",
       "      <th>корень фиалки</th>\n",
       "      <th>кориандр</th>\n",
       "      <th>корица</th>\n",
       "      <th>коричневый сахар</th>\n",
       "      <th>кофе</th>\n",
       "      <th>красное яблоко</th>\n",
       "      <th>лаванда</th>\n",
       "      <th>ладан</th>\n",
       "      <th>ландыш</th>\n",
       "      <th>лен</th>\n",
       "      <th>лилия</th>\n",
       "      <th>лимон</th>\n",
       "      <th>личи</th>\n",
       "      <th>магнолия</th>\n",
       "      <th>малина</th>\n",
       "      <th>мандарин</th>\n",
       "      <th>миндаль</th>\n",
       "      <th>можжевельник</th>\n",
       "      <th>мох</th>\n",
       "      <th>мускатный орех</th>\n",
       "      <th>мускус</th>\n",
       "      <th>нарцисс</th>\n",
       "      <th>нежный</th>\n",
       "      <th>нероли</th>\n",
       "      <th>опопанакс</th>\n",
       "      <th>орхидея</th>\n",
       "      <th>османтус</th>\n",
       "      <th>палисандр</th>\n",
       "      <th>пачули</th>\n",
       "      <th>пион</th>\n",
       "      <th>повседневный</th>\n",
       "      <th>полынь</th>\n",
       "      <th>праздничный</th>\n",
       "      <th>ревень</th>\n",
       "      <th>роза</th>\n",
       "      <th>розмарин</th>\n",
       "      <th>розовый перец</th>\n",
       "      <th>сандал</th>\n",
       "      <th>сахар</th>\n",
       "      <th>свежий</th>\n",
       "      <th>сексуальный</th>\n",
       "      <th>силколид</th>\n",
       "      <th>сирень</th>\n",
       "      <th>сладкая вата</th>\n",
       "      <th>сладкий</th>\n",
       "      <th>слива</th>\n",
       "      <th>специи</th>\n",
       "      <th>спортивный</th>\n",
       "      <th>стойкий</th>\n",
       "      <th>тиаре</th>\n",
       "      <th>тимьян</th>\n",
       "      <th>тмин</th>\n",
       "      <th>тропические фрукты</th>\n",
       "      <th>тубероза</th>\n",
       "      <th>уд</th>\n",
       "      <th>фиалка</th>\n",
       "      <th>франжипани</th>\n",
       "      <th>цвет персика</th>\n",
       "      <th>цибетин</th>\n",
       "      <th>цикламен</th>\n",
       "      <th>цитрусы</th>\n",
       "      <th>чай</th>\n",
       "      <th>черная смородина</th>\n",
       "      <th>черника</th>\n",
       "      <th>черный перец</th>\n",
       "      <th>чистый</th>\n",
       "      <th>шалфей</th>\n",
       "      <th>шафран</th>\n",
       "      <th>элеми</th>\n",
       "      <th>яблоко</th>\n",
       "      <th>янтарь</th>\n",
       "      <th>ароматические семейства</th>\n",
       "      <th>пряные семейства</th>\n",
       "      <th>фужерные семейства</th>\n",
       "      <th>цитрусовые семейства</th>\n",
       "      <th>амбровые семейства</th>\n",
       "      <th>водные семейства</th>\n",
       "      <th>восточные семейства</th>\n",
       "      <th>ванильные семейства</th>\n",
       "      <th>сладкие семейства</th>\n",
       "      <th>цветочные семейства</th>\n",
       "      <th>древесные семейства</th>\n",
       "      <th>мускусные семейства</th>\n",
       "      <th>шипровые семейства</th>\n",
       "      <th>фруктовые семейства</th>\n",
       "      <th>активный</th>\n",
       "      <th>белый чай</th>\n",
       "      <th>благовоние</th>\n",
       "      <th>бодрящий</th>\n",
       "      <th>виноград</th>\n",
       "      <th>горный воздух</th>\n",
       "      <th>древесный</th>\n",
       "      <th>дым</th>\n",
       "      <th>жизнерадостный</th>\n",
       "      <th>зеленый чай</th>\n",
       "      <th>земля</th>\n",
       "      <th>игривый</th>\n",
       "      <th>интенсивный</th>\n",
       "      <th>куркума</th>\n",
       "      <th>лайм</th>\n",
       "      <th>легкий</th>\n",
       "      <th>листья</th>\n",
       "      <th>массивный</th>\n",
       "      <th>металл</th>\n",
       "      <th>морозная свежесть</th>\n",
       "      <th>морской</th>\n",
       "      <th>мягкий</th>\n",
       "      <th>насыщенный</th>\n",
       "      <th>ненавязчивый</th>\n",
       "      <th>необычный</th>\n",
       "      <th>огурец</th>\n",
       "      <th>орех</th>\n",
       "      <th>острый</th>\n",
       "      <th>папоротник</th>\n",
       "      <th>перец</th>\n",
       "      <th>персик</th>\n",
       "      <th>плотный</th>\n",
       "      <th>притягательный</th>\n",
       "      <th>пряно-горький</th>\n",
       "      <th>пряный</th>\n",
       "      <th>роскошный</th>\n",
       "      <th>сливочный</th>\n",
       "      <th>смола</th>\n",
       "      <th>согревающий</th>\n",
       "      <th>спокойный</th>\n",
       "      <th>сухая трава</th>\n",
       "      <th>сухой</th>\n",
       "      <th>табак</th>\n",
       "      <th>таинственный</th>\n",
       "      <th>телесный</th>\n",
       "      <th>теплый</th>\n",
       "      <th>терпкий</th>\n",
       "      <th>томный</th>\n",
       "      <th>тонизирующий</th>\n",
       "      <th>тонкий</th>\n",
       "      <th>торжественный</th>\n",
       "      <th>трава</th>\n",
       "      <th>тяжелый</th>\n",
       "      <th>черный чай</th>\n",
       "      <th>чувственный</th>\n",
       "      <th>шоколад</th>\n",
       "      <th>энергичный</th>\n",
       "      <th>яркий</th>\n",
       "    </tr>\n",
       "  </thead>\n",
       "  <tbody>\n",
       "    <tr>\n",
       "      <th>0</th>\n",
       "      <td>Shalimar</td>\n",
       "      <td>1.0</td>\n",
       "      <td>Guerlain</td>\n",
       "      <td>Франция</td>\n",
       "      <td>0.5</td>\n",
       "      <td>0.8</td>\n",
       "      <td>0.166667</td>\n",
       "      <td>0.005</td>\n",
       "      <td>0.50</td>\n",
       "      <td>1</td>\n",
       "      <td>1</td>\n",
       "      <td>1</td>\n",
       "      <td>1</td>\n",
       "      <td>1</td>\n",
       "      <td>0.030009</td>\n",
       "      <td>0</td>\n",
       "      <td>0</td>\n",
       "      <td>1</td>\n",
       "      <td>1</td>\n",
       "      <td>0</td>\n",
       "      <td>1</td>\n",
       "      <td>0</td>\n",
       "      <td>0</td>\n",
       "      <td>0</td>\n",
       "      <td>0</td>\n",
       "      <td>0</td>\n",
       "      <td>0</td>\n",
       "      <td>0</td>\n",
       "      <td>0</td>\n",
       "      <td>0</td>\n",
       "      <td>0</td>\n",
       "      <td>1</td>\n",
       "      <td>0</td>\n",
       "      <td>1</td>\n",
       "      <td>1</td>\n",
       "      <td>0</td>\n",
       "      <td>0</td>\n",
       "      <td>1</td>\n",
       "      <td>0</td>\n",
       "      <td>0</td>\n",
       "      <td>0</td>\n",
       "      <td>0</td>\n",
       "      <td>0</td>\n",
       "      <td>0</td>\n",
       "      <td>1</td>\n",
       "      <td>0</td>\n",
       "      <td>0</td>\n",
       "      <td>0</td>\n",
       "      <td>0</td>\n",
       "      <td>0</td>\n",
       "      <td>0</td>\n",
       "      <td>0</td>\n",
       "      <td>1</td>\n",
       "      <td>1</td>\n",
       "      <td>0</td>\n",
       "      <td>1</td>\n",
       "      <td>0</td>\n",
       "      <td>0</td>\n",
       "      <td>0</td>\n",
       "      <td>0</td>\n",
       "      <td>0</td>\n",
       "      <td>0</td>\n",
       "      <td>1</td>\n",
       "      <td>0</td>\n",
       "      <td>0</td>\n",
       "      <td>1</td>\n",
       "      <td>0</td>\n",
       "      <td>1</td>\n",
       "      <td>0</td>\n",
       "      <td>0</td>\n",
       "      <td>1</td>\n",
       "      <td>0</td>\n",
       "      <td>0</td>\n",
       "      <td>0</td>\n",
       "      <td>0</td>\n",
       "      <td>0</td>\n",
       "      <td>0</td>\n",
       "      <td>0</td>\n",
       "      <td>1</td>\n",
       "      <td>0</td>\n",
       "      <td>0</td>\n",
       "      <td>0</td>\n",
       "      <td>0</td>\n",
       "      <td>1</td>\n",
       "      <td>0</td>\n",
       "      <td>0</td>\n",
       "      <td>0</td>\n",
       "      <td>1</td>\n",
       "      <td>0</td>\n",
       "      <td>0</td>\n",
       "      <td>0</td>\n",
       "      <td>1</td>\n",
       "      <td>0</td>\n",
       "      <td>0</td>\n",
       "      <td>0</td>\n",
       "      <td>0</td>\n",
       "      <td>0</td>\n",
       "      <td>1</td>\n",
       "      <td>0</td>\n",
       "      <td>0</td>\n",
       "      <td>0</td>\n",
       "      <td>0</td>\n",
       "      <td>0</td>\n",
       "      <td>0</td>\n",
       "      <td>0</td>\n",
       "      <td>0</td>\n",
       "      <td>0</td>\n",
       "      <td>0</td>\n",
       "      <td>0</td>\n",
       "      <td>0</td>\n",
       "      <td>0</td>\n",
       "      <td>0</td>\n",
       "      <td>0</td>\n",
       "      <td>0</td>\n",
       "      <td>0</td>\n",
       "      <td>0</td>\n",
       "      <td>0</td>\n",
       "      <td>0</td>\n",
       "      <td>0</td>\n",
       "      <td>0</td>\n",
       "      <td>0</td>\n",
       "      <td>1</td>\n",
       "      <td>0</td>\n",
       "      <td>1</td>\n",
       "      <td>0</td>\n",
       "      <td>0</td>\n",
       "      <td>0</td>\n",
       "      <td>0</td>\n",
       "      <td>0</td>\n",
       "      <td>0</td>\n",
       "      <td>0</td>\n",
       "      <td>0</td>\n",
       "      <td>0</td>\n",
       "      <td>0</td>\n",
       "      <td>0</td>\n",
       "      <td>1</td>\n",
       "      <td>0</td>\n",
       "      <td>0</td>\n",
       "      <td>0</td>\n",
       "      <td>0</td>\n",
       "      <td>1</td>\n",
       "      <td>0</td>\n",
       "      <td>0</td>\n",
       "      <td>0</td>\n",
       "      <td>0</td>\n",
       "      <td>0</td>\n",
       "      <td>0</td>\n",
       "      <td>0</td>\n",
       "      <td>1</td>\n",
       "      <td>0</td>\n",
       "      <td>1</td>\n",
       "      <td>0</td>\n",
       "      <td>0</td>\n",
       "      <td>0</td>\n",
       "      <td>1</td>\n",
       "      <td>1</td>\n",
       "      <td>0</td>\n",
       "      <td>0</td>\n",
       "      <td>0</td>\n",
       "      <td>0</td>\n",
       "      <td>1</td>\n",
       "      <td>1</td>\n",
       "      <td>0</td>\n",
       "      <td>0</td>\n",
       "      <td>0</td>\n",
       "      <td>0</td>\n",
       "      <td>0</td>\n",
       "      <td>0</td>\n",
       "      <td>0</td>\n",
       "      <td>0</td>\n",
       "      <td>1</td>\n",
       "      <td>0</td>\n",
       "      <td>0</td>\n",
       "      <td>0</td>\n",
       "      <td>1</td>\n",
       "      <td>1</td>\n",
       "      <td>0</td>\n",
       "      <td>1</td>\n",
       "      <td>0</td>\n",
       "      <td>1</td>\n",
       "      <td>0</td>\n",
       "      <td>0</td>\n",
       "      <td>1</td>\n",
       "      <td>1</td>\n",
       "      <td>0</td>\n",
       "      <td>1</td>\n",
       "      <td>1</td>\n",
       "      <td>0</td>\n",
       "      <td>0</td>\n",
       "      <td>1</td>\n",
       "      <td>1</td>\n",
       "      <td>0</td>\n",
       "      <td>0</td>\n",
       "      <td>0</td>\n",
       "      <td>0</td>\n",
       "      <td>1</td>\n",
       "      <td>0</td>\n",
       "      <td>0</td>\n",
       "      <td>1</td>\n",
       "      <td>0</td>\n",
       "      <td>1</td>\n",
       "      <td>1</td>\n",
       "      <td>1</td>\n",
       "      <td>1</td>\n",
       "      <td>0</td>\n",
       "      <td>0</td>\n",
       "    </tr>\n",
       "    <tr>\n",
       "      <th>1</th>\n",
       "      <td>3 L'Imperatrice</td>\n",
       "      <td>1.0</td>\n",
       "      <td>Dolce&amp;Gabbana</td>\n",
       "      <td>Италия</td>\n",
       "      <td>0.5</td>\n",
       "      <td>0.4</td>\n",
       "      <td>1.000000</td>\n",
       "      <td>1.000</td>\n",
       "      <td>1.00</td>\n",
       "      <td>1</td>\n",
       "      <td>1</td>\n",
       "      <td>1</td>\n",
       "      <td>1</td>\n",
       "      <td>1</td>\n",
       "      <td>0.016605</td>\n",
       "      <td>1</td>\n",
       "      <td>1</td>\n",
       "      <td>0</td>\n",
       "      <td>0</td>\n",
       "      <td>0</td>\n",
       "      <td>0</td>\n",
       "      <td>0</td>\n",
       "      <td>0</td>\n",
       "      <td>0</td>\n",
       "      <td>0</td>\n",
       "      <td>1</td>\n",
       "      <td>0</td>\n",
       "      <td>0</td>\n",
       "      <td>0</td>\n",
       "      <td>0</td>\n",
       "      <td>0</td>\n",
       "      <td>0</td>\n",
       "      <td>0</td>\n",
       "      <td>0</td>\n",
       "      <td>0</td>\n",
       "      <td>0</td>\n",
       "      <td>0</td>\n",
       "      <td>0</td>\n",
       "      <td>0</td>\n",
       "      <td>0</td>\n",
       "      <td>0</td>\n",
       "      <td>0</td>\n",
       "      <td>0</td>\n",
       "      <td>0</td>\n",
       "      <td>1</td>\n",
       "      <td>0</td>\n",
       "      <td>0</td>\n",
       "      <td>0</td>\n",
       "      <td>0</td>\n",
       "      <td>0</td>\n",
       "      <td>0</td>\n",
       "      <td>0</td>\n",
       "      <td>0</td>\n",
       "      <td>0</td>\n",
       "      <td>0</td>\n",
       "      <td>0</td>\n",
       "      <td>0</td>\n",
       "      <td>0</td>\n",
       "      <td>0</td>\n",
       "      <td>1</td>\n",
       "      <td>0</td>\n",
       "      <td>0</td>\n",
       "      <td>0</td>\n",
       "      <td>0</td>\n",
       "      <td>0</td>\n",
       "      <td>0</td>\n",
       "      <td>0</td>\n",
       "      <td>0</td>\n",
       "      <td>0</td>\n",
       "      <td>0</td>\n",
       "      <td>0</td>\n",
       "      <td>0</td>\n",
       "      <td>0</td>\n",
       "      <td>0</td>\n",
       "      <td>0</td>\n",
       "      <td>0</td>\n",
       "      <td>0</td>\n",
       "      <td>0</td>\n",
       "      <td>0</td>\n",
       "      <td>0</td>\n",
       "      <td>0</td>\n",
       "      <td>0</td>\n",
       "      <td>0</td>\n",
       "      <td>0</td>\n",
       "      <td>0</td>\n",
       "      <td>0</td>\n",
       "      <td>0</td>\n",
       "      <td>0</td>\n",
       "      <td>0</td>\n",
       "      <td>0</td>\n",
       "      <td>0</td>\n",
       "      <td>0</td>\n",
       "      <td>0</td>\n",
       "      <td>1</td>\n",
       "      <td>0</td>\n",
       "      <td>0</td>\n",
       "      <td>1</td>\n",
       "      <td>0</td>\n",
       "      <td>0</td>\n",
       "      <td>1</td>\n",
       "      <td>0</td>\n",
       "      <td>0</td>\n",
       "      <td>1</td>\n",
       "      <td>0</td>\n",
       "      <td>0</td>\n",
       "      <td>0</td>\n",
       "      <td>0</td>\n",
       "      <td>1</td>\n",
       "      <td>0</td>\n",
       "      <td>0</td>\n",
       "      <td>0</td>\n",
       "      <td>0</td>\n",
       "      <td>0</td>\n",
       "      <td>0</td>\n",
       "      <td>0</td>\n",
       "      <td>1</td>\n",
       "      <td>0</td>\n",
       "      <td>0</td>\n",
       "      <td>0</td>\n",
       "      <td>0</td>\n",
       "      <td>0</td>\n",
       "      <td>0</td>\n",
       "      <td>1</td>\n",
       "      <td>0</td>\n",
       "      <td>0</td>\n",
       "      <td>0</td>\n",
       "      <td>0</td>\n",
       "      <td>0</td>\n",
       "      <td>0</td>\n",
       "      <td>0</td>\n",
       "      <td>0</td>\n",
       "      <td>0</td>\n",
       "      <td>0</td>\n",
       "      <td>0</td>\n",
       "      <td>0</td>\n",
       "      <td>0</td>\n",
       "      <td>0</td>\n",
       "      <td>0</td>\n",
       "      <td>0</td>\n",
       "      <td>1</td>\n",
       "      <td>0</td>\n",
       "      <td>0</td>\n",
       "      <td>0</td>\n",
       "      <td>1</td>\n",
       "      <td>0</td>\n",
       "      <td>0</td>\n",
       "      <td>0</td>\n",
       "      <td>0</td>\n",
       "      <td>0</td>\n",
       "      <td>0</td>\n",
       "      <td>0</td>\n",
       "      <td>0</td>\n",
       "      <td>0</td>\n",
       "      <td>0</td>\n",
       "      <td>0</td>\n",
       "      <td>0</td>\n",
       "      <td>0</td>\n",
       "      <td>0</td>\n",
       "      <td>0</td>\n",
       "      <td>0</td>\n",
       "      <td>0</td>\n",
       "      <td>0</td>\n",
       "      <td>0</td>\n",
       "      <td>1</td>\n",
       "      <td>0</td>\n",
       "      <td>1</td>\n",
       "      <td>0</td>\n",
       "      <td>0</td>\n",
       "      <td>0</td>\n",
       "      <td>0</td>\n",
       "      <td>0</td>\n",
       "      <td>0</td>\n",
       "      <td>0</td>\n",
       "      <td>0</td>\n",
       "      <td>0</td>\n",
       "      <td>0</td>\n",
       "      <td>0</td>\n",
       "      <td>0</td>\n",
       "      <td>0</td>\n",
       "      <td>0</td>\n",
       "      <td>0</td>\n",
       "      <td>0</td>\n",
       "      <td>0</td>\n",
       "      <td>0</td>\n",
       "      <td>0</td>\n",
       "      <td>0</td>\n",
       "      <td>0</td>\n",
       "      <td>0</td>\n",
       "      <td>0</td>\n",
       "      <td>0</td>\n",
       "      <td>0</td>\n",
       "      <td>0</td>\n",
       "      <td>0</td>\n",
       "      <td>0</td>\n",
       "      <td>0</td>\n",
       "      <td>0</td>\n",
       "      <td>0</td>\n",
       "      <td>0</td>\n",
       "      <td>0</td>\n",
       "      <td>0</td>\n",
       "      <td>0</td>\n",
       "      <td>0</td>\n",
       "      <td>0</td>\n",
       "      <td>0</td>\n",
       "      <td>0</td>\n",
       "      <td>0</td>\n",
       "    </tr>\n",
       "    <tr>\n",
       "      <th>2</th>\n",
       "      <td>1001 Nights</td>\n",
       "      <td>1.0</td>\n",
       "      <td>Ajmal</td>\n",
       "      <td>ОАЭ</td>\n",
       "      <td>0.5</td>\n",
       "      <td>1.0</td>\n",
       "      <td>0.416667</td>\n",
       "      <td>0.012</td>\n",
       "      <td>0.50</td>\n",
       "      <td>1</td>\n",
       "      <td>1</td>\n",
       "      <td>1</td>\n",
       "      <td>1</td>\n",
       "      <td>1</td>\n",
       "      <td>0.001804</td>\n",
       "      <td>0</td>\n",
       "      <td>0</td>\n",
       "      <td>0</td>\n",
       "      <td>0</td>\n",
       "      <td>0</td>\n",
       "      <td>0</td>\n",
       "      <td>0</td>\n",
       "      <td>0</td>\n",
       "      <td>0</td>\n",
       "      <td>0</td>\n",
       "      <td>0</td>\n",
       "      <td>0</td>\n",
       "      <td>0</td>\n",
       "      <td>0</td>\n",
       "      <td>0</td>\n",
       "      <td>0</td>\n",
       "      <td>0</td>\n",
       "      <td>0</td>\n",
       "      <td>0</td>\n",
       "      <td>0</td>\n",
       "      <td>0</td>\n",
       "      <td>0</td>\n",
       "      <td>0</td>\n",
       "      <td>0</td>\n",
       "      <td>0</td>\n",
       "      <td>0</td>\n",
       "      <td>1</td>\n",
       "      <td>0</td>\n",
       "      <td>0</td>\n",
       "      <td>0</td>\n",
       "      <td>0</td>\n",
       "      <td>0</td>\n",
       "      <td>0</td>\n",
       "      <td>0</td>\n",
       "      <td>0</td>\n",
       "      <td>0</td>\n",
       "      <td>0</td>\n",
       "      <td>0</td>\n",
       "      <td>0</td>\n",
       "      <td>0</td>\n",
       "      <td>0</td>\n",
       "      <td>0</td>\n",
       "      <td>0</td>\n",
       "      <td>1</td>\n",
       "      <td>0</td>\n",
       "      <td>0</td>\n",
       "      <td>0</td>\n",
       "      <td>0</td>\n",
       "      <td>0</td>\n",
       "      <td>0</td>\n",
       "      <td>0</td>\n",
       "      <td>0</td>\n",
       "      <td>0</td>\n",
       "      <td>0</td>\n",
       "      <td>0</td>\n",
       "      <td>0</td>\n",
       "      <td>0</td>\n",
       "      <td>0</td>\n",
       "      <td>0</td>\n",
       "      <td>0</td>\n",
       "      <td>0</td>\n",
       "      <td>0</td>\n",
       "      <td>0</td>\n",
       "      <td>0</td>\n",
       "      <td>0</td>\n",
       "      <td>0</td>\n",
       "      <td>1</td>\n",
       "      <td>0</td>\n",
       "      <td>0</td>\n",
       "      <td>0</td>\n",
       "      <td>0</td>\n",
       "      <td>0</td>\n",
       "      <td>0</td>\n",
       "      <td>0</td>\n",
       "      <td>0</td>\n",
       "      <td>0</td>\n",
       "      <td>0</td>\n",
       "      <td>0</td>\n",
       "      <td>0</td>\n",
       "      <td>0</td>\n",
       "      <td>0</td>\n",
       "      <td>0</td>\n",
       "      <td>0</td>\n",
       "      <td>0</td>\n",
       "      <td>0</td>\n",
       "      <td>1</td>\n",
       "      <td>0</td>\n",
       "      <td>1</td>\n",
       "      <td>0</td>\n",
       "      <td>0</td>\n",
       "      <td>0</td>\n",
       "      <td>0</td>\n",
       "      <td>1</td>\n",
       "      <td>0</td>\n",
       "      <td>1</td>\n",
       "      <td>0</td>\n",
       "      <td>0</td>\n",
       "      <td>0</td>\n",
       "      <td>0</td>\n",
       "      <td>0</td>\n",
       "      <td>0</td>\n",
       "      <td>0</td>\n",
       "      <td>0</td>\n",
       "      <td>0</td>\n",
       "      <td>0</td>\n",
       "      <td>0</td>\n",
       "      <td>0</td>\n",
       "      <td>0</td>\n",
       "      <td>0</td>\n",
       "      <td>0</td>\n",
       "      <td>0</td>\n",
       "      <td>0</td>\n",
       "      <td>0</td>\n",
       "      <td>0</td>\n",
       "      <td>0</td>\n",
       "      <td>0</td>\n",
       "      <td>0</td>\n",
       "      <td>0</td>\n",
       "      <td>0</td>\n",
       "      <td>0</td>\n",
       "      <td>0</td>\n",
       "      <td>0</td>\n",
       "      <td>0</td>\n",
       "      <td>0</td>\n",
       "      <td>0</td>\n",
       "      <td>0</td>\n",
       "      <td>0</td>\n",
       "      <td>0</td>\n",
       "      <td>1</td>\n",
       "      <td>1</td>\n",
       "      <td>1</td>\n",
       "      <td>0</td>\n",
       "      <td>0</td>\n",
       "      <td>0</td>\n",
       "      <td>0</td>\n",
       "      <td>0</td>\n",
       "      <td>0</td>\n",
       "      <td>0</td>\n",
       "      <td>0</td>\n",
       "      <td>1</td>\n",
       "      <td>1</td>\n",
       "      <td>0</td>\n",
       "      <td>0</td>\n",
       "      <td>1</td>\n",
       "      <td>0</td>\n",
       "      <td>0</td>\n",
       "      <td>0</td>\n",
       "      <td>0</td>\n",
       "      <td>1</td>\n",
       "      <td>0</td>\n",
       "      <td>1</td>\n",
       "      <td>1</td>\n",
       "      <td>0</td>\n",
       "      <td>0</td>\n",
       "      <td>1</td>\n",
       "      <td>0</td>\n",
       "      <td>1</td>\n",
       "      <td>0</td>\n",
       "      <td>0</td>\n",
       "      <td>0</td>\n",
       "      <td>0</td>\n",
       "      <td>1</td>\n",
       "      <td>0</td>\n",
       "      <td>0</td>\n",
       "      <td>0</td>\n",
       "      <td>1</td>\n",
       "      <td>0</td>\n",
       "      <td>1</td>\n",
       "      <td>0</td>\n",
       "      <td>1</td>\n",
       "      <td>1</td>\n",
       "      <td>1</td>\n",
       "      <td>0</td>\n",
       "      <td>0</td>\n",
       "      <td>0</td>\n",
       "      <td>0</td>\n",
       "      <td>1</td>\n",
       "      <td>1</td>\n",
       "      <td>1</td>\n",
       "      <td>0</td>\n",
       "      <td>0</td>\n",
       "      <td>0</td>\n",
       "      <td>0</td>\n",
       "      <td>0</td>\n",
       "      <td>0</td>\n",
       "      <td>0</td>\n",
       "      <td>0</td>\n",
       "      <td>1</td>\n",
       "      <td>0</td>\n",
       "      <td>0</td>\n",
       "      <td>0</td>\n",
       "    </tr>\n",
       "    <tr>\n",
       "      <th>3</th>\n",
       "      <td>Sabina</td>\n",
       "      <td>1.0</td>\n",
       "      <td>Arabesque Perfumes</td>\n",
       "      <td>ОАЭ</td>\n",
       "      <td>1.0</td>\n",
       "      <td>0.8</td>\n",
       "      <td>0.416667</td>\n",
       "      <td>0.012</td>\n",
       "      <td>0.50</td>\n",
       "      <td>0</td>\n",
       "      <td>0</td>\n",
       "      <td>1</td>\n",
       "      <td>1</td>\n",
       "      <td>1</td>\n",
       "      <td>0.068557</td>\n",
       "      <td>1</td>\n",
       "      <td>1</td>\n",
       "      <td>1</td>\n",
       "      <td>1</td>\n",
       "      <td>0</td>\n",
       "      <td>0</td>\n",
       "      <td>0</td>\n",
       "      <td>1</td>\n",
       "      <td>0</td>\n",
       "      <td>0</td>\n",
       "      <td>0</td>\n",
       "      <td>0</td>\n",
       "      <td>0</td>\n",
       "      <td>0</td>\n",
       "      <td>0</td>\n",
       "      <td>0</td>\n",
       "      <td>0</td>\n",
       "      <td>0</td>\n",
       "      <td>0</td>\n",
       "      <td>0</td>\n",
       "      <td>0</td>\n",
       "      <td>0</td>\n",
       "      <td>0</td>\n",
       "      <td>0</td>\n",
       "      <td>0</td>\n",
       "      <td>0</td>\n",
       "      <td>0</td>\n",
       "      <td>0</td>\n",
       "      <td>0</td>\n",
       "      <td>0</td>\n",
       "      <td>0</td>\n",
       "      <td>0</td>\n",
       "      <td>0</td>\n",
       "      <td>0</td>\n",
       "      <td>0</td>\n",
       "      <td>0</td>\n",
       "      <td>0</td>\n",
       "      <td>0</td>\n",
       "      <td>0</td>\n",
       "      <td>0</td>\n",
       "      <td>0</td>\n",
       "      <td>0</td>\n",
       "      <td>0</td>\n",
       "      <td>0</td>\n",
       "      <td>1</td>\n",
       "      <td>0</td>\n",
       "      <td>0</td>\n",
       "      <td>0</td>\n",
       "      <td>0</td>\n",
       "      <td>0</td>\n",
       "      <td>0</td>\n",
       "      <td>0</td>\n",
       "      <td>0</td>\n",
       "      <td>0</td>\n",
       "      <td>0</td>\n",
       "      <td>0</td>\n",
       "      <td>0</td>\n",
       "      <td>0</td>\n",
       "      <td>0</td>\n",
       "      <td>0</td>\n",
       "      <td>0</td>\n",
       "      <td>0</td>\n",
       "      <td>0</td>\n",
       "      <td>0</td>\n",
       "      <td>0</td>\n",
       "      <td>0</td>\n",
       "      <td>0</td>\n",
       "      <td>0</td>\n",
       "      <td>0</td>\n",
       "      <td>0</td>\n",
       "      <td>0</td>\n",
       "      <td>0</td>\n",
       "      <td>0</td>\n",
       "      <td>0</td>\n",
       "      <td>0</td>\n",
       "      <td>0</td>\n",
       "      <td>0</td>\n",
       "      <td>0</td>\n",
       "      <td>0</td>\n",
       "      <td>0</td>\n",
       "      <td>0</td>\n",
       "      <td>0</td>\n",
       "      <td>0</td>\n",
       "      <td>0</td>\n",
       "      <td>0</td>\n",
       "      <td>0</td>\n",
       "      <td>1</td>\n",
       "      <td>1</td>\n",
       "      <td>0</td>\n",
       "      <td>0</td>\n",
       "      <td>0</td>\n",
       "      <td>0</td>\n",
       "      <td>1</td>\n",
       "      <td>0</td>\n",
       "      <td>0</td>\n",
       "      <td>0</td>\n",
       "      <td>0</td>\n",
       "      <td>1</td>\n",
       "      <td>0</td>\n",
       "      <td>0</td>\n",
       "      <td>0</td>\n",
       "      <td>0</td>\n",
       "      <td>0</td>\n",
       "      <td>0</td>\n",
       "      <td>0</td>\n",
       "      <td>0</td>\n",
       "      <td>0</td>\n",
       "      <td>0</td>\n",
       "      <td>0</td>\n",
       "      <td>0</td>\n",
       "      <td>0</td>\n",
       "      <td>0</td>\n",
       "      <td>0</td>\n",
       "      <td>0</td>\n",
       "      <td>0</td>\n",
       "      <td>0</td>\n",
       "      <td>0</td>\n",
       "      <td>0</td>\n",
       "      <td>0</td>\n",
       "      <td>0</td>\n",
       "      <td>0</td>\n",
       "      <td>0</td>\n",
       "      <td>0</td>\n",
       "      <td>0</td>\n",
       "      <td>0</td>\n",
       "      <td>0</td>\n",
       "      <td>0</td>\n",
       "      <td>1</td>\n",
       "      <td>1</td>\n",
       "      <td>0</td>\n",
       "      <td>0</td>\n",
       "      <td>0</td>\n",
       "      <td>1</td>\n",
       "      <td>0</td>\n",
       "      <td>0</td>\n",
       "      <td>0</td>\n",
       "      <td>0</td>\n",
       "      <td>0</td>\n",
       "      <td>0</td>\n",
       "      <td>0</td>\n",
       "      <td>0</td>\n",
       "      <td>0</td>\n",
       "      <td>0</td>\n",
       "      <td>0</td>\n",
       "      <td>1</td>\n",
       "      <td>0</td>\n",
       "      <td>0</td>\n",
       "      <td>0</td>\n",
       "      <td>1</td>\n",
       "      <td>0</td>\n",
       "      <td>1</td>\n",
       "      <td>0</td>\n",
       "      <td>0</td>\n",
       "      <td>0</td>\n",
       "      <td>0</td>\n",
       "      <td>0</td>\n",
       "      <td>0</td>\n",
       "      <td>1</td>\n",
       "      <td>0</td>\n",
       "      <td>0</td>\n",
       "      <td>0</td>\n",
       "      <td>0</td>\n",
       "      <td>0</td>\n",
       "      <td>0</td>\n",
       "      <td>0</td>\n",
       "      <td>0</td>\n",
       "      <td>0</td>\n",
       "      <td>0</td>\n",
       "      <td>0</td>\n",
       "      <td>0</td>\n",
       "      <td>0</td>\n",
       "      <td>0</td>\n",
       "      <td>0</td>\n",
       "      <td>0</td>\n",
       "      <td>0</td>\n",
       "      <td>0</td>\n",
       "      <td>0</td>\n",
       "      <td>0</td>\n",
       "      <td>0</td>\n",
       "      <td>0</td>\n",
       "      <td>0</td>\n",
       "      <td>0</td>\n",
       "      <td>0</td>\n",
       "      <td>0</td>\n",
       "      <td>0</td>\n",
       "      <td>0</td>\n",
       "      <td>0</td>\n",
       "      <td>0</td>\n",
       "      <td>0</td>\n",
       "      <td>0</td>\n",
       "      <td>0</td>\n",
       "    </tr>\n",
       "    <tr>\n",
       "      <th>4</th>\n",
       "      <td>Resolute Gold</td>\n",
       "      <td>0.0</td>\n",
       "      <td>Khalis</td>\n",
       "      <td>ОАЭ</td>\n",
       "      <td>0.0</td>\n",
       "      <td>0.6</td>\n",
       "      <td>NaN</td>\n",
       "      <td>NaN</td>\n",
       "      <td>0.50</td>\n",
       "      <td>0</td>\n",
       "      <td>0</td>\n",
       "      <td>0</td>\n",
       "      <td>1</td>\n",
       "      <td>1</td>\n",
       "      <td>0.000000</td>\n",
       "      <td>0</td>\n",
       "      <td>0</td>\n",
       "      <td>0</td>\n",
       "      <td>0</td>\n",
       "      <td>0</td>\n",
       "      <td>0</td>\n",
       "      <td>0</td>\n",
       "      <td>0</td>\n",
       "      <td>0</td>\n",
       "      <td>0</td>\n",
       "      <td>0</td>\n",
       "      <td>1</td>\n",
       "      <td>0</td>\n",
       "      <td>0</td>\n",
       "      <td>0</td>\n",
       "      <td>0</td>\n",
       "      <td>0</td>\n",
       "      <td>0</td>\n",
       "      <td>0</td>\n",
       "      <td>0</td>\n",
       "      <td>0</td>\n",
       "      <td>0</td>\n",
       "      <td>0</td>\n",
       "      <td>0</td>\n",
       "      <td>0</td>\n",
       "      <td>0</td>\n",
       "      <td>1</td>\n",
       "      <td>0</td>\n",
       "      <td>0</td>\n",
       "      <td>1</td>\n",
       "      <td>0</td>\n",
       "      <td>0</td>\n",
       "      <td>0</td>\n",
       "      <td>0</td>\n",
       "      <td>0</td>\n",
       "      <td>0</td>\n",
       "      <td>0</td>\n",
       "      <td>0</td>\n",
       "      <td>0</td>\n",
       "      <td>0</td>\n",
       "      <td>0</td>\n",
       "      <td>0</td>\n",
       "      <td>0</td>\n",
       "      <td>0</td>\n",
       "      <td>0</td>\n",
       "      <td>1</td>\n",
       "      <td>0</td>\n",
       "      <td>0</td>\n",
       "      <td>0</td>\n",
       "      <td>0</td>\n",
       "      <td>0</td>\n",
       "      <td>0</td>\n",
       "      <td>0</td>\n",
       "      <td>0</td>\n",
       "      <td>0</td>\n",
       "      <td>0</td>\n",
       "      <td>0</td>\n",
       "      <td>0</td>\n",
       "      <td>0</td>\n",
       "      <td>0</td>\n",
       "      <td>0</td>\n",
       "      <td>0</td>\n",
       "      <td>0</td>\n",
       "      <td>0</td>\n",
       "      <td>0</td>\n",
       "      <td>0</td>\n",
       "      <td>0</td>\n",
       "      <td>1</td>\n",
       "      <td>0</td>\n",
       "      <td>0</td>\n",
       "      <td>0</td>\n",
       "      <td>0</td>\n",
       "      <td>0</td>\n",
       "      <td>0</td>\n",
       "      <td>0</td>\n",
       "      <td>0</td>\n",
       "      <td>0</td>\n",
       "      <td>0</td>\n",
       "      <td>0</td>\n",
       "      <td>0</td>\n",
       "      <td>0</td>\n",
       "      <td>0</td>\n",
       "      <td>0</td>\n",
       "      <td>0</td>\n",
       "      <td>0</td>\n",
       "      <td>0</td>\n",
       "      <td>0</td>\n",
       "      <td>1</td>\n",
       "      <td>0</td>\n",
       "      <td>0</td>\n",
       "      <td>0</td>\n",
       "      <td>0</td>\n",
       "      <td>1</td>\n",
       "      <td>0</td>\n",
       "      <td>0</td>\n",
       "      <td>0</td>\n",
       "      <td>0</td>\n",
       "      <td>0</td>\n",
       "      <td>0</td>\n",
       "      <td>0</td>\n",
       "      <td>0</td>\n",
       "      <td>0</td>\n",
       "      <td>0</td>\n",
       "      <td>0</td>\n",
       "      <td>0</td>\n",
       "      <td>0</td>\n",
       "      <td>0</td>\n",
       "      <td>0</td>\n",
       "      <td>0</td>\n",
       "      <td>0</td>\n",
       "      <td>0</td>\n",
       "      <td>0</td>\n",
       "      <td>0</td>\n",
       "      <td>0</td>\n",
       "      <td>0</td>\n",
       "      <td>0</td>\n",
       "      <td>0</td>\n",
       "      <td>0</td>\n",
       "      <td>0</td>\n",
       "      <td>0</td>\n",
       "      <td>0</td>\n",
       "      <td>0</td>\n",
       "      <td>0</td>\n",
       "      <td>0</td>\n",
       "      <td>0</td>\n",
       "      <td>0</td>\n",
       "      <td>0</td>\n",
       "      <td>1</td>\n",
       "      <td>1</td>\n",
       "      <td>0</td>\n",
       "      <td>0</td>\n",
       "      <td>0</td>\n",
       "      <td>0</td>\n",
       "      <td>0</td>\n",
       "      <td>0</td>\n",
       "      <td>0</td>\n",
       "      <td>0</td>\n",
       "      <td>0</td>\n",
       "      <td>0</td>\n",
       "      <td>0</td>\n",
       "      <td>0</td>\n",
       "      <td>0</td>\n",
       "      <td>0</td>\n",
       "      <td>0</td>\n",
       "      <td>0</td>\n",
       "      <td>0</td>\n",
       "      <td>0</td>\n",
       "      <td>0</td>\n",
       "      <td>1</td>\n",
       "      <td>0</td>\n",
       "      <td>1</td>\n",
       "      <td>0</td>\n",
       "      <td>0</td>\n",
       "      <td>0</td>\n",
       "      <td>0</td>\n",
       "      <td>0</td>\n",
       "      <td>0</td>\n",
       "      <td>0</td>\n",
       "      <td>0</td>\n",
       "      <td>0</td>\n",
       "      <td>0</td>\n",
       "      <td>0</td>\n",
       "      <td>0</td>\n",
       "      <td>0</td>\n",
       "      <td>0</td>\n",
       "      <td>0</td>\n",
       "      <td>0</td>\n",
       "      <td>0</td>\n",
       "      <td>0</td>\n",
       "      <td>0</td>\n",
       "      <td>0</td>\n",
       "      <td>0</td>\n",
       "      <td>0</td>\n",
       "      <td>0</td>\n",
       "      <td>0</td>\n",
       "      <td>0</td>\n",
       "      <td>0</td>\n",
       "      <td>0</td>\n",
       "      <td>0</td>\n",
       "      <td>0</td>\n",
       "      <td>0</td>\n",
       "      <td>0</td>\n",
       "      <td>0</td>\n",
       "      <td>0</td>\n",
       "      <td>0</td>\n",
       "      <td>0</td>\n",
       "      <td>0</td>\n",
       "      <td>0</td>\n",
       "      <td>0</td>\n",
       "      <td>0</td>\n",
       "      <td>0</td>\n",
       "    </tr>\n",
       "    <tr>\n",
       "      <th>5</th>\n",
       "      <td>Oath for Him</td>\n",
       "      <td>0.0</td>\n",
       "      <td>Ajmal</td>\n",
       "      <td>ОАЭ</td>\n",
       "      <td>0.5</td>\n",
       "      <td>0.6</td>\n",
       "      <td>NaN</td>\n",
       "      <td>NaN</td>\n",
       "      <td>0.50</td>\n",
       "      <td>0</td>\n",
       "      <td>0</td>\n",
       "      <td>0</td>\n",
       "      <td>0</td>\n",
       "      <td>0</td>\n",
       "      <td>0.020728</td>\n",
       "      <td>0</td>\n",
       "      <td>0</td>\n",
       "      <td>0</td>\n",
       "      <td>0</td>\n",
       "      <td>0</td>\n",
       "      <td>0</td>\n",
       "      <td>0</td>\n",
       "      <td>0</td>\n",
       "      <td>0</td>\n",
       "      <td>0</td>\n",
       "      <td>0</td>\n",
       "      <td>0</td>\n",
       "      <td>0</td>\n",
       "      <td>0</td>\n",
       "      <td>1</td>\n",
       "      <td>0</td>\n",
       "      <td>0</td>\n",
       "      <td>0</td>\n",
       "      <td>0</td>\n",
       "      <td>1</td>\n",
       "      <td>0</td>\n",
       "      <td>0</td>\n",
       "      <td>0</td>\n",
       "      <td>0</td>\n",
       "      <td>0</td>\n",
       "      <td>0</td>\n",
       "      <td>0</td>\n",
       "      <td>0</td>\n",
       "      <td>1</td>\n",
       "      <td>1</td>\n",
       "      <td>0</td>\n",
       "      <td>0</td>\n",
       "      <td>0</td>\n",
       "      <td>0</td>\n",
       "      <td>0</td>\n",
       "      <td>0</td>\n",
       "      <td>0</td>\n",
       "      <td>0</td>\n",
       "      <td>1</td>\n",
       "      <td>0</td>\n",
       "      <td>0</td>\n",
       "      <td>0</td>\n",
       "      <td>0</td>\n",
       "      <td>1</td>\n",
       "      <td>0</td>\n",
       "      <td>0</td>\n",
       "      <td>0</td>\n",
       "      <td>0</td>\n",
       "      <td>0</td>\n",
       "      <td>0</td>\n",
       "      <td>0</td>\n",
       "      <td>0</td>\n",
       "      <td>0</td>\n",
       "      <td>0</td>\n",
       "      <td>0</td>\n",
       "      <td>0</td>\n",
       "      <td>0</td>\n",
       "      <td>0</td>\n",
       "      <td>0</td>\n",
       "      <td>0</td>\n",
       "      <td>0</td>\n",
       "      <td>0</td>\n",
       "      <td>0</td>\n",
       "      <td>0</td>\n",
       "      <td>0</td>\n",
       "      <td>0</td>\n",
       "      <td>1</td>\n",
       "      <td>0</td>\n",
       "      <td>0</td>\n",
       "      <td>0</td>\n",
       "      <td>0</td>\n",
       "      <td>0</td>\n",
       "      <td>0</td>\n",
       "      <td>0</td>\n",
       "      <td>0</td>\n",
       "      <td>0</td>\n",
       "      <td>1</td>\n",
       "      <td>0</td>\n",
       "      <td>0</td>\n",
       "      <td>0</td>\n",
       "      <td>0</td>\n",
       "      <td>0</td>\n",
       "      <td>0</td>\n",
       "      <td>0</td>\n",
       "      <td>0</td>\n",
       "      <td>1</td>\n",
       "      <td>0</td>\n",
       "      <td>1</td>\n",
       "      <td>0</td>\n",
       "      <td>0</td>\n",
       "      <td>0</td>\n",
       "      <td>0</td>\n",
       "      <td>1</td>\n",
       "      <td>1</td>\n",
       "      <td>0</td>\n",
       "      <td>0</td>\n",
       "      <td>0</td>\n",
       "      <td>0</td>\n",
       "      <td>0</td>\n",
       "      <td>0</td>\n",
       "      <td>0</td>\n",
       "      <td>0</td>\n",
       "      <td>0</td>\n",
       "      <td>0</td>\n",
       "      <td>0</td>\n",
       "      <td>0</td>\n",
       "      <td>0</td>\n",
       "      <td>0</td>\n",
       "      <td>0</td>\n",
       "      <td>0</td>\n",
       "      <td>1</td>\n",
       "      <td>0</td>\n",
       "      <td>0</td>\n",
       "      <td>0</td>\n",
       "      <td>0</td>\n",
       "      <td>0</td>\n",
       "      <td>0</td>\n",
       "      <td>1</td>\n",
       "      <td>0</td>\n",
       "      <td>0</td>\n",
       "      <td>0</td>\n",
       "      <td>0</td>\n",
       "      <td>0</td>\n",
       "      <td>0</td>\n",
       "      <td>0</td>\n",
       "      <td>0</td>\n",
       "      <td>0</td>\n",
       "      <td>0</td>\n",
       "      <td>1</td>\n",
       "      <td>1</td>\n",
       "      <td>0</td>\n",
       "      <td>1</td>\n",
       "      <td>0</td>\n",
       "      <td>0</td>\n",
       "      <td>0</td>\n",
       "      <td>0</td>\n",
       "      <td>0</td>\n",
       "      <td>0</td>\n",
       "      <td>0</td>\n",
       "      <td>1</td>\n",
       "      <td>1</td>\n",
       "      <td>0</td>\n",
       "      <td>0</td>\n",
       "      <td>1</td>\n",
       "      <td>0</td>\n",
       "      <td>0</td>\n",
       "      <td>0</td>\n",
       "      <td>0</td>\n",
       "      <td>1</td>\n",
       "      <td>0</td>\n",
       "      <td>1</td>\n",
       "      <td>1</td>\n",
       "      <td>0</td>\n",
       "      <td>0</td>\n",
       "      <td>0</td>\n",
       "      <td>0</td>\n",
       "      <td>0</td>\n",
       "      <td>0</td>\n",
       "      <td>0</td>\n",
       "      <td>0</td>\n",
       "      <td>0</td>\n",
       "      <td>1</td>\n",
       "      <td>0</td>\n",
       "      <td>0</td>\n",
       "      <td>0</td>\n",
       "      <td>0</td>\n",
       "      <td>0</td>\n",
       "      <td>0</td>\n",
       "      <td>0</td>\n",
       "      <td>1</td>\n",
       "      <td>1</td>\n",
       "      <td>1</td>\n",
       "      <td>0</td>\n",
       "      <td>0</td>\n",
       "      <td>0</td>\n",
       "      <td>0</td>\n",
       "      <td>1</td>\n",
       "      <td>0</td>\n",
       "      <td>1</td>\n",
       "      <td>0</td>\n",
       "      <td>0</td>\n",
       "      <td>0</td>\n",
       "      <td>0</td>\n",
       "      <td>0</td>\n",
       "      <td>0</td>\n",
       "      <td>0</td>\n",
       "      <td>0</td>\n",
       "      <td>1</td>\n",
       "      <td>0</td>\n",
       "      <td>0</td>\n",
       "      <td>0</td>\n",
       "    </tr>\n",
       "    <tr>\n",
       "      <th>6</th>\n",
       "      <td>Twist</td>\n",
       "      <td>1.0</td>\n",
       "      <td>Emper</td>\n",
       "      <td>ОАЭ</td>\n",
       "      <td>0.0</td>\n",
       "      <td>0.6</td>\n",
       "      <td>0.416667</td>\n",
       "      <td>0.012</td>\n",
       "      <td>0.75</td>\n",
       "      <td>1</td>\n",
       "      <td>1</td>\n",
       "      <td>1</td>\n",
       "      <td>0</td>\n",
       "      <td>0</td>\n",
       "      <td>0.000082</td>\n",
       "      <td>0</td>\n",
       "      <td>1</td>\n",
       "      <td>1</td>\n",
       "      <td>0</td>\n",
       "      <td>0</td>\n",
       "      <td>0</td>\n",
       "      <td>0</td>\n",
       "      <td>0</td>\n",
       "      <td>0</td>\n",
       "      <td>0</td>\n",
       "      <td>0</td>\n",
       "      <td>0</td>\n",
       "      <td>0</td>\n",
       "      <td>0</td>\n",
       "      <td>0</td>\n",
       "      <td>0</td>\n",
       "      <td>0</td>\n",
       "      <td>0</td>\n",
       "      <td>0</td>\n",
       "      <td>0</td>\n",
       "      <td>0</td>\n",
       "      <td>0</td>\n",
       "      <td>0</td>\n",
       "      <td>0</td>\n",
       "      <td>0</td>\n",
       "      <td>0</td>\n",
       "      <td>0</td>\n",
       "      <td>0</td>\n",
       "      <td>0</td>\n",
       "      <td>1</td>\n",
       "      <td>0</td>\n",
       "      <td>0</td>\n",
       "      <td>0</td>\n",
       "      <td>0</td>\n",
       "      <td>0</td>\n",
       "      <td>0</td>\n",
       "      <td>0</td>\n",
       "      <td>0</td>\n",
       "      <td>0</td>\n",
       "      <td>0</td>\n",
       "      <td>0</td>\n",
       "      <td>0</td>\n",
       "      <td>0</td>\n",
       "      <td>0</td>\n",
       "      <td>0</td>\n",
       "      <td>0</td>\n",
       "      <td>0</td>\n",
       "      <td>0</td>\n",
       "      <td>0</td>\n",
       "      <td>0</td>\n",
       "      <td>0</td>\n",
       "      <td>0</td>\n",
       "      <td>0</td>\n",
       "      <td>0</td>\n",
       "      <td>0</td>\n",
       "      <td>0</td>\n",
       "      <td>0</td>\n",
       "      <td>0</td>\n",
       "      <td>0</td>\n",
       "      <td>0</td>\n",
       "      <td>0</td>\n",
       "      <td>0</td>\n",
       "      <td>0</td>\n",
       "      <td>0</td>\n",
       "      <td>0</td>\n",
       "      <td>0</td>\n",
       "      <td>0</td>\n",
       "      <td>0</td>\n",
       "      <td>0</td>\n",
       "      <td>0</td>\n",
       "      <td>0</td>\n",
       "      <td>0</td>\n",
       "      <td>0</td>\n",
       "      <td>0</td>\n",
       "      <td>0</td>\n",
       "      <td>0</td>\n",
       "      <td>0</td>\n",
       "      <td>0</td>\n",
       "      <td>0</td>\n",
       "      <td>0</td>\n",
       "      <td>0</td>\n",
       "      <td>0</td>\n",
       "      <td>0</td>\n",
       "      <td>0</td>\n",
       "      <td>0</td>\n",
       "      <td>0</td>\n",
       "      <td>0</td>\n",
       "      <td>1</td>\n",
       "      <td>0</td>\n",
       "      <td>0</td>\n",
       "      <td>0</td>\n",
       "      <td>0</td>\n",
       "      <td>1</td>\n",
       "      <td>0</td>\n",
       "      <td>0</td>\n",
       "      <td>0</td>\n",
       "      <td>0</td>\n",
       "      <td>0</td>\n",
       "      <td>0</td>\n",
       "      <td>0</td>\n",
       "      <td>0</td>\n",
       "      <td>0</td>\n",
       "      <td>0</td>\n",
       "      <td>1</td>\n",
       "      <td>0</td>\n",
       "      <td>0</td>\n",
       "      <td>0</td>\n",
       "      <td>0</td>\n",
       "      <td>0</td>\n",
       "      <td>0</td>\n",
       "      <td>1</td>\n",
       "      <td>0</td>\n",
       "      <td>0</td>\n",
       "      <td>0</td>\n",
       "      <td>0</td>\n",
       "      <td>0</td>\n",
       "      <td>0</td>\n",
       "      <td>0</td>\n",
       "      <td>0</td>\n",
       "      <td>0</td>\n",
       "      <td>0</td>\n",
       "      <td>0</td>\n",
       "      <td>0</td>\n",
       "      <td>0</td>\n",
       "      <td>0</td>\n",
       "      <td>0</td>\n",
       "      <td>0</td>\n",
       "      <td>0</td>\n",
       "      <td>1</td>\n",
       "      <td>0</td>\n",
       "      <td>0</td>\n",
       "      <td>0</td>\n",
       "      <td>0</td>\n",
       "      <td>0</td>\n",
       "      <td>0</td>\n",
       "      <td>0</td>\n",
       "      <td>0</td>\n",
       "      <td>0</td>\n",
       "      <td>0</td>\n",
       "      <td>0</td>\n",
       "      <td>0</td>\n",
       "      <td>0</td>\n",
       "      <td>0</td>\n",
       "      <td>0</td>\n",
       "      <td>0</td>\n",
       "      <td>0</td>\n",
       "      <td>0</td>\n",
       "      <td>0</td>\n",
       "      <td>1</td>\n",
       "      <td>0</td>\n",
       "      <td>1</td>\n",
       "      <td>0</td>\n",
       "      <td>0</td>\n",
       "      <td>0</td>\n",
       "      <td>0</td>\n",
       "      <td>0</td>\n",
       "      <td>0</td>\n",
       "      <td>0</td>\n",
       "      <td>0</td>\n",
       "      <td>0</td>\n",
       "      <td>0</td>\n",
       "      <td>0</td>\n",
       "      <td>0</td>\n",
       "      <td>0</td>\n",
       "      <td>0</td>\n",
       "      <td>0</td>\n",
       "      <td>0</td>\n",
       "      <td>0</td>\n",
       "      <td>0</td>\n",
       "      <td>0</td>\n",
       "      <td>0</td>\n",
       "      <td>0</td>\n",
       "      <td>0</td>\n",
       "      <td>0</td>\n",
       "      <td>0</td>\n",
       "      <td>0</td>\n",
       "      <td>0</td>\n",
       "      <td>0</td>\n",
       "      <td>0</td>\n",
       "      <td>0</td>\n",
       "      <td>0</td>\n",
       "      <td>0</td>\n",
       "      <td>0</td>\n",
       "      <td>0</td>\n",
       "      <td>0</td>\n",
       "      <td>0</td>\n",
       "      <td>0</td>\n",
       "      <td>0</td>\n",
       "      <td>0</td>\n",
       "      <td>0</td>\n",
       "      <td>0</td>\n",
       "    </tr>\n",
       "    <tr>\n",
       "      <th>7</th>\n",
       "      <td>CK Everyone</td>\n",
       "      <td>0.5</td>\n",
       "      <td>Calvin Klein</td>\n",
       "      <td>США</td>\n",
       "      <td>0.5</td>\n",
       "      <td>0.4</td>\n",
       "      <td>0.166667</td>\n",
       "      <td>0.005</td>\n",
       "      <td>0.50</td>\n",
       "      <td>0</td>\n",
       "      <td>1</td>\n",
       "      <td>1</td>\n",
       "      <td>0</td>\n",
       "      <td>0</td>\n",
       "      <td>0.009066</td>\n",
       "      <td>1</td>\n",
       "      <td>1</td>\n",
       "      <td>0</td>\n",
       "      <td>0</td>\n",
       "      <td>0</td>\n",
       "      <td>0</td>\n",
       "      <td>0</td>\n",
       "      <td>0</td>\n",
       "      <td>1</td>\n",
       "      <td>0</td>\n",
       "      <td>0</td>\n",
       "      <td>0</td>\n",
       "      <td>0</td>\n",
       "      <td>0</td>\n",
       "      <td>1</td>\n",
       "      <td>0</td>\n",
       "      <td>0</td>\n",
       "      <td>0</td>\n",
       "      <td>0</td>\n",
       "      <td>0</td>\n",
       "      <td>0</td>\n",
       "      <td>0</td>\n",
       "      <td>0</td>\n",
       "      <td>0</td>\n",
       "      <td>1</td>\n",
       "      <td>0</td>\n",
       "      <td>0</td>\n",
       "      <td>0</td>\n",
       "      <td>0</td>\n",
       "      <td>0</td>\n",
       "      <td>0</td>\n",
       "      <td>0</td>\n",
       "      <td>0</td>\n",
       "      <td>0</td>\n",
       "      <td>0</td>\n",
       "      <td>0</td>\n",
       "      <td>0</td>\n",
       "      <td>0</td>\n",
       "      <td>0</td>\n",
       "      <td>0</td>\n",
       "      <td>0</td>\n",
       "      <td>0</td>\n",
       "      <td>0</td>\n",
       "      <td>0</td>\n",
       "      <td>0</td>\n",
       "      <td>0</td>\n",
       "      <td>0</td>\n",
       "      <td>0</td>\n",
       "      <td>0</td>\n",
       "      <td>0</td>\n",
       "      <td>0</td>\n",
       "      <td>0</td>\n",
       "      <td>0</td>\n",
       "      <td>0</td>\n",
       "      <td>0</td>\n",
       "      <td>0</td>\n",
       "      <td>0</td>\n",
       "      <td>0</td>\n",
       "      <td>0</td>\n",
       "      <td>1</td>\n",
       "      <td>0</td>\n",
       "      <td>0</td>\n",
       "      <td>0</td>\n",
       "      <td>0</td>\n",
       "      <td>0</td>\n",
       "      <td>0</td>\n",
       "      <td>0</td>\n",
       "      <td>0</td>\n",
       "      <td>0</td>\n",
       "      <td>0</td>\n",
       "      <td>0</td>\n",
       "      <td>0</td>\n",
       "      <td>0</td>\n",
       "      <td>0</td>\n",
       "      <td>0</td>\n",
       "      <td>0</td>\n",
       "      <td>0</td>\n",
       "      <td>0</td>\n",
       "      <td>0</td>\n",
       "      <td>0</td>\n",
       "      <td>0</td>\n",
       "      <td>0</td>\n",
       "      <td>0</td>\n",
       "      <td>0</td>\n",
       "      <td>0</td>\n",
       "      <td>0</td>\n",
       "      <td>0</td>\n",
       "      <td>1</td>\n",
       "      <td>0</td>\n",
       "      <td>0</td>\n",
       "      <td>0</td>\n",
       "      <td>0</td>\n",
       "      <td>0</td>\n",
       "      <td>0</td>\n",
       "      <td>0</td>\n",
       "      <td>1</td>\n",
       "      <td>0</td>\n",
       "      <td>0</td>\n",
       "      <td>0</td>\n",
       "      <td>0</td>\n",
       "      <td>0</td>\n",
       "      <td>0</td>\n",
       "      <td>0</td>\n",
       "      <td>0</td>\n",
       "      <td>0</td>\n",
       "      <td>0</td>\n",
       "      <td>0</td>\n",
       "      <td>0</td>\n",
       "      <td>0</td>\n",
       "      <td>1</td>\n",
       "      <td>0</td>\n",
       "      <td>0</td>\n",
       "      <td>0</td>\n",
       "      <td>0</td>\n",
       "      <td>0</td>\n",
       "      <td>0</td>\n",
       "      <td>0</td>\n",
       "      <td>0</td>\n",
       "      <td>0</td>\n",
       "      <td>1</td>\n",
       "      <td>0</td>\n",
       "      <td>0</td>\n",
       "      <td>1</td>\n",
       "      <td>0</td>\n",
       "      <td>0</td>\n",
       "      <td>0</td>\n",
       "      <td>0</td>\n",
       "      <td>0</td>\n",
       "      <td>0</td>\n",
       "      <td>0</td>\n",
       "      <td>0</td>\n",
       "      <td>0</td>\n",
       "      <td>0</td>\n",
       "      <td>0</td>\n",
       "      <td>0</td>\n",
       "      <td>0</td>\n",
       "      <td>1</td>\n",
       "      <td>1</td>\n",
       "      <td>0</td>\n",
       "      <td>0</td>\n",
       "      <td>0</td>\n",
       "      <td>1</td>\n",
       "      <td>0</td>\n",
       "      <td>0</td>\n",
       "      <td>0</td>\n",
       "      <td>1</td>\n",
       "      <td>0</td>\n",
       "      <td>1</td>\n",
       "      <td>1</td>\n",
       "      <td>0</td>\n",
       "      <td>0</td>\n",
       "      <td>0</td>\n",
       "      <td>0</td>\n",
       "      <td>0</td>\n",
       "      <td>0</td>\n",
       "      <td>0</td>\n",
       "      <td>0</td>\n",
       "      <td>0</td>\n",
       "      <td>0</td>\n",
       "      <td>0</td>\n",
       "      <td>0</td>\n",
       "      <td>0</td>\n",
       "      <td>0</td>\n",
       "      <td>1</td>\n",
       "      <td>0</td>\n",
       "      <td>0</td>\n",
       "      <td>0</td>\n",
       "      <td>0</td>\n",
       "      <td>0</td>\n",
       "      <td>0</td>\n",
       "      <td>0</td>\n",
       "      <td>0</td>\n",
       "      <td>0</td>\n",
       "      <td>0</td>\n",
       "      <td>0</td>\n",
       "      <td>0</td>\n",
       "      <td>0</td>\n",
       "      <td>0</td>\n",
       "      <td>0</td>\n",
       "      <td>0</td>\n",
       "      <td>0</td>\n",
       "      <td>1</td>\n",
       "      <td>0</td>\n",
       "      <td>0</td>\n",
       "      <td>0</td>\n",
       "      <td>0</td>\n",
       "      <td>0</td>\n",
       "      <td>0</td>\n",
       "      <td>0</td>\n",
       "      <td>1</td>\n",
       "      <td>1</td>\n",
       "    </tr>\n",
       "    <tr>\n",
       "      <th>8</th>\n",
       "      <td>Bad Boy</td>\n",
       "      <td>0.0</td>\n",
       "      <td>Carolina Herrera</td>\n",
       "      <td>США</td>\n",
       "      <td>0.5</td>\n",
       "      <td>0.4</td>\n",
       "      <td>0.166667</td>\n",
       "      <td>0.005</td>\n",
       "      <td>0.50</td>\n",
       "      <td>0</td>\n",
       "      <td>1</td>\n",
       "      <td>1</td>\n",
       "      <td>0</td>\n",
       "      <td>0</td>\n",
       "      <td>0.010716</td>\n",
       "      <td>0</td>\n",
       "      <td>0</td>\n",
       "      <td>1</td>\n",
       "      <td>1</td>\n",
       "      <td>0</td>\n",
       "      <td>0</td>\n",
       "      <td>0</td>\n",
       "      <td>0</td>\n",
       "      <td>0</td>\n",
       "      <td>0</td>\n",
       "      <td>0</td>\n",
       "      <td>0</td>\n",
       "      <td>1</td>\n",
       "      <td>0</td>\n",
       "      <td>0</td>\n",
       "      <td>0</td>\n",
       "      <td>1</td>\n",
       "      <td>0</td>\n",
       "      <td>0</td>\n",
       "      <td>0</td>\n",
       "      <td>0</td>\n",
       "      <td>0</td>\n",
       "      <td>1</td>\n",
       "      <td>0</td>\n",
       "      <td>0</td>\n",
       "      <td>0</td>\n",
       "      <td>0</td>\n",
       "      <td>0</td>\n",
       "      <td>0</td>\n",
       "      <td>0</td>\n",
       "      <td>0</td>\n",
       "      <td>0</td>\n",
       "      <td>0</td>\n",
       "      <td>0</td>\n",
       "      <td>0</td>\n",
       "      <td>0</td>\n",
       "      <td>0</td>\n",
       "      <td>1</td>\n",
       "      <td>0</td>\n",
       "      <td>1</td>\n",
       "      <td>0</td>\n",
       "      <td>0</td>\n",
       "      <td>0</td>\n",
       "      <td>1</td>\n",
       "      <td>0</td>\n",
       "      <td>0</td>\n",
       "      <td>0</td>\n",
       "      <td>0</td>\n",
       "      <td>0</td>\n",
       "      <td>0</td>\n",
       "      <td>1</td>\n",
       "      <td>0</td>\n",
       "      <td>0</td>\n",
       "      <td>0</td>\n",
       "      <td>0</td>\n",
       "      <td>0</td>\n",
       "      <td>0</td>\n",
       "      <td>0</td>\n",
       "      <td>0</td>\n",
       "      <td>0</td>\n",
       "      <td>0</td>\n",
       "      <td>0</td>\n",
       "      <td>0</td>\n",
       "      <td>0</td>\n",
       "      <td>0</td>\n",
       "      <td>0</td>\n",
       "      <td>1</td>\n",
       "      <td>0</td>\n",
       "      <td>0</td>\n",
       "      <td>0</td>\n",
       "      <td>0</td>\n",
       "      <td>0</td>\n",
       "      <td>0</td>\n",
       "      <td>0</td>\n",
       "      <td>0</td>\n",
       "      <td>0</td>\n",
       "      <td>0</td>\n",
       "      <td>0</td>\n",
       "      <td>0</td>\n",
       "      <td>0</td>\n",
       "      <td>0</td>\n",
       "      <td>0</td>\n",
       "      <td>0</td>\n",
       "      <td>0</td>\n",
       "      <td>0</td>\n",
       "      <td>1</td>\n",
       "      <td>0</td>\n",
       "      <td>0</td>\n",
       "      <td>0</td>\n",
       "      <td>0</td>\n",
       "      <td>0</td>\n",
       "      <td>0</td>\n",
       "      <td>1</td>\n",
       "      <td>0</td>\n",
       "      <td>0</td>\n",
       "      <td>0</td>\n",
       "      <td>0</td>\n",
       "      <td>0</td>\n",
       "      <td>0</td>\n",
       "      <td>0</td>\n",
       "      <td>0</td>\n",
       "      <td>0</td>\n",
       "      <td>0</td>\n",
       "      <td>0</td>\n",
       "      <td>0</td>\n",
       "      <td>0</td>\n",
       "      <td>0</td>\n",
       "      <td>0</td>\n",
       "      <td>0</td>\n",
       "      <td>0</td>\n",
       "      <td>0</td>\n",
       "      <td>0</td>\n",
       "      <td>1</td>\n",
       "      <td>0</td>\n",
       "      <td>1</td>\n",
       "      <td>0</td>\n",
       "      <td>0</td>\n",
       "      <td>0</td>\n",
       "      <td>1</td>\n",
       "      <td>0</td>\n",
       "      <td>1</td>\n",
       "      <td>0</td>\n",
       "      <td>0</td>\n",
       "      <td>0</td>\n",
       "      <td>0</td>\n",
       "      <td>0</td>\n",
       "      <td>0</td>\n",
       "      <td>0</td>\n",
       "      <td>0</td>\n",
       "      <td>1</td>\n",
       "      <td>0</td>\n",
       "      <td>0</td>\n",
       "      <td>0</td>\n",
       "      <td>1</td>\n",
       "      <td>0</td>\n",
       "      <td>0</td>\n",
       "      <td>0</td>\n",
       "      <td>0</td>\n",
       "      <td>0</td>\n",
       "      <td>1</td>\n",
       "      <td>1</td>\n",
       "      <td>0</td>\n",
       "      <td>0</td>\n",
       "      <td>1</td>\n",
       "      <td>0</td>\n",
       "      <td>0</td>\n",
       "      <td>1</td>\n",
       "      <td>0</td>\n",
       "      <td>0</td>\n",
       "      <td>0</td>\n",
       "      <td>0</td>\n",
       "      <td>1</td>\n",
       "      <td>0</td>\n",
       "      <td>0</td>\n",
       "      <td>0</td>\n",
       "      <td>0</td>\n",
       "      <td>0</td>\n",
       "      <td>0</td>\n",
       "      <td>0</td>\n",
       "      <td>1</td>\n",
       "      <td>1</td>\n",
       "      <td>1</td>\n",
       "      <td>1</td>\n",
       "      <td>0</td>\n",
       "      <td>0</td>\n",
       "      <td>0</td>\n",
       "      <td>0</td>\n",
       "      <td>0</td>\n",
       "      <td>0</td>\n",
       "      <td>1</td>\n",
       "      <td>1</td>\n",
       "      <td>1</td>\n",
       "      <td>0</td>\n",
       "      <td>0</td>\n",
       "      <td>0</td>\n",
       "      <td>0</td>\n",
       "      <td>1</td>\n",
       "      <td>0</td>\n",
       "      <td>1</td>\n",
       "      <td>0</td>\n",
       "      <td>0</td>\n",
       "      <td>0</td>\n",
       "      <td>0</td>\n",
       "      <td>0</td>\n",
       "      <td>0</td>\n",
       "      <td>0</td>\n",
       "      <td>0</td>\n",
       "      <td>1</td>\n",
       "      <td>0</td>\n",
       "      <td>0</td>\n",
       "      <td>0</td>\n",
       "    </tr>\n",
       "    <tr>\n",
       "      <th>9</th>\n",
       "      <td>Eau de Lacoste L.12.12 Blanc</td>\n",
       "      <td>0.0</td>\n",
       "      <td>Lacoste</td>\n",
       "      <td>Франция</td>\n",
       "      <td>0.5</td>\n",
       "      <td>0.4</td>\n",
       "      <td>0.166667</td>\n",
       "      <td>0.005</td>\n",
       "      <td>0.50</td>\n",
       "      <td>1</td>\n",
       "      <td>0</td>\n",
       "      <td>0</td>\n",
       "      <td>0</td>\n",
       "      <td>0</td>\n",
       "      <td>0.018019</td>\n",
       "      <td>1</td>\n",
       "      <td>1</td>\n",
       "      <td>0</td>\n",
       "      <td>0</td>\n",
       "      <td>0</td>\n",
       "      <td>0</td>\n",
       "      <td>0</td>\n",
       "      <td>0</td>\n",
       "      <td>0</td>\n",
       "      <td>0</td>\n",
       "      <td>0</td>\n",
       "      <td>0</td>\n",
       "      <td>0</td>\n",
       "      <td>0</td>\n",
       "      <td>1</td>\n",
       "      <td>0</td>\n",
       "      <td>0</td>\n",
       "      <td>0</td>\n",
       "      <td>0</td>\n",
       "      <td>1</td>\n",
       "      <td>0</td>\n",
       "      <td>0</td>\n",
       "      <td>0</td>\n",
       "      <td>1</td>\n",
       "      <td>0</td>\n",
       "      <td>0</td>\n",
       "      <td>0</td>\n",
       "      <td>0</td>\n",
       "      <td>0</td>\n",
       "      <td>0</td>\n",
       "      <td>0</td>\n",
       "      <td>0</td>\n",
       "      <td>1</td>\n",
       "      <td>0</td>\n",
       "      <td>0</td>\n",
       "      <td>0</td>\n",
       "      <td>1</td>\n",
       "      <td>0</td>\n",
       "      <td>0</td>\n",
       "      <td>0</td>\n",
       "      <td>0</td>\n",
       "      <td>1</td>\n",
       "      <td>0</td>\n",
       "      <td>1</td>\n",
       "      <td>0</td>\n",
       "      <td>0</td>\n",
       "      <td>1</td>\n",
       "      <td>1</td>\n",
       "      <td>0</td>\n",
       "      <td>0</td>\n",
       "      <td>0</td>\n",
       "      <td>0</td>\n",
       "      <td>0</td>\n",
       "      <td>0</td>\n",
       "      <td>1</td>\n",
       "      <td>0</td>\n",
       "      <td>0</td>\n",
       "      <td>0</td>\n",
       "      <td>0</td>\n",
       "      <td>0</td>\n",
       "      <td>0</td>\n",
       "      <td>0</td>\n",
       "      <td>0</td>\n",
       "      <td>0</td>\n",
       "      <td>0</td>\n",
       "      <td>0</td>\n",
       "      <td>1</td>\n",
       "      <td>0</td>\n",
       "      <td>0</td>\n",
       "      <td>0</td>\n",
       "      <td>0</td>\n",
       "      <td>0</td>\n",
       "      <td>0</td>\n",
       "      <td>0</td>\n",
       "      <td>0</td>\n",
       "      <td>0</td>\n",
       "      <td>0</td>\n",
       "      <td>0</td>\n",
       "      <td>1</td>\n",
       "      <td>0</td>\n",
       "      <td>0</td>\n",
       "      <td>0</td>\n",
       "      <td>0</td>\n",
       "      <td>1</td>\n",
       "      <td>0</td>\n",
       "      <td>1</td>\n",
       "      <td>0</td>\n",
       "      <td>0</td>\n",
       "      <td>0</td>\n",
       "      <td>0</td>\n",
       "      <td>0</td>\n",
       "      <td>0</td>\n",
       "      <td>1</td>\n",
       "      <td>0</td>\n",
       "      <td>0</td>\n",
       "      <td>0</td>\n",
       "      <td>0</td>\n",
       "      <td>0</td>\n",
       "      <td>0</td>\n",
       "      <td>0</td>\n",
       "      <td>0</td>\n",
       "      <td>1</td>\n",
       "      <td>0</td>\n",
       "      <td>0</td>\n",
       "      <td>0</td>\n",
       "      <td>0</td>\n",
       "      <td>0</td>\n",
       "      <td>0</td>\n",
       "      <td>0</td>\n",
       "      <td>0</td>\n",
       "      <td>0</td>\n",
       "      <td>0</td>\n",
       "      <td>0</td>\n",
       "      <td>0</td>\n",
       "      <td>0</td>\n",
       "      <td>0</td>\n",
       "      <td>0</td>\n",
       "      <td>0</td>\n",
       "      <td>0</td>\n",
       "      <td>0</td>\n",
       "      <td>0</td>\n",
       "      <td>1</td>\n",
       "      <td>0</td>\n",
       "      <td>0</td>\n",
       "      <td>0</td>\n",
       "      <td>0</td>\n",
       "      <td>0</td>\n",
       "      <td>0</td>\n",
       "      <td>0</td>\n",
       "      <td>1</td>\n",
       "      <td>0</td>\n",
       "      <td>0</td>\n",
       "      <td>0</td>\n",
       "      <td>0</td>\n",
       "      <td>0</td>\n",
       "      <td>0</td>\n",
       "      <td>0</td>\n",
       "      <td>0</td>\n",
       "      <td>0</td>\n",
       "      <td>1</td>\n",
       "      <td>1</td>\n",
       "      <td>0</td>\n",
       "      <td>0</td>\n",
       "      <td>1</td>\n",
       "      <td>0</td>\n",
       "      <td>0</td>\n",
       "      <td>0</td>\n",
       "      <td>0</td>\n",
       "      <td>0</td>\n",
       "      <td>1</td>\n",
       "      <td>0</td>\n",
       "      <td>1</td>\n",
       "      <td>0</td>\n",
       "      <td>0</td>\n",
       "      <td>0</td>\n",
       "      <td>0</td>\n",
       "      <td>0</td>\n",
       "      <td>0</td>\n",
       "      <td>0</td>\n",
       "      <td>0</td>\n",
       "      <td>0</td>\n",
       "      <td>1</td>\n",
       "      <td>0</td>\n",
       "      <td>0</td>\n",
       "      <td>0</td>\n",
       "      <td>0</td>\n",
       "      <td>1</td>\n",
       "      <td>0</td>\n",
       "      <td>0</td>\n",
       "      <td>1</td>\n",
       "      <td>1</td>\n",
       "      <td>1</td>\n",
       "      <td>0</td>\n",
       "      <td>1</td>\n",
       "      <td>0</td>\n",
       "      <td>0</td>\n",
       "      <td>1</td>\n",
       "      <td>0</td>\n",
       "      <td>1</td>\n",
       "      <td>1</td>\n",
       "      <td>0</td>\n",
       "      <td>0</td>\n",
       "      <td>0</td>\n",
       "      <td>0</td>\n",
       "      <td>1</td>\n",
       "      <td>0</td>\n",
       "      <td>0</td>\n",
       "      <td>1</td>\n",
       "      <td>0</td>\n",
       "      <td>0</td>\n",
       "      <td>0</td>\n",
       "    </tr>\n",
       "    <tr>\n",
       "      <th>10</th>\n",
       "      <td>Ange ou Demon</td>\n",
       "      <td>1.0</td>\n",
       "      <td>Givenchy</td>\n",
       "      <td>Франция</td>\n",
       "      <td>0.5</td>\n",
       "      <td>0.6</td>\n",
       "      <td>1.000000</td>\n",
       "      <td>1.000</td>\n",
       "      <td>1.00</td>\n",
       "      <td>1</td>\n",
       "      <td>1</td>\n",
       "      <td>1</td>\n",
       "      <td>1</td>\n",
       "      <td>1</td>\n",
       "      <td>0.027520</td>\n",
       "      <td>0</td>\n",
       "      <td>0</td>\n",
       "      <td>1</td>\n",
       "      <td>0</td>\n",
       "      <td>0</td>\n",
       "      <td>1</td>\n",
       "      <td>0</td>\n",
       "      <td>0</td>\n",
       "      <td>0</td>\n",
       "      <td>0</td>\n",
       "      <td>0</td>\n",
       "      <td>0</td>\n",
       "      <td>0</td>\n",
       "      <td>0</td>\n",
       "      <td>0</td>\n",
       "      <td>0</td>\n",
       "      <td>1</td>\n",
       "      <td>0</td>\n",
       "      <td>1</td>\n",
       "      <td>0</td>\n",
       "      <td>0</td>\n",
       "      <td>0</td>\n",
       "      <td>0</td>\n",
       "      <td>0</td>\n",
       "      <td>0</td>\n",
       "      <td>0</td>\n",
       "      <td>0</td>\n",
       "      <td>1</td>\n",
       "      <td>0</td>\n",
       "      <td>0</td>\n",
       "      <td>0</td>\n",
       "      <td>1</td>\n",
       "      <td>0</td>\n",
       "      <td>0</td>\n",
       "      <td>0</td>\n",
       "      <td>0</td>\n",
       "      <td>1</td>\n",
       "      <td>0</td>\n",
       "      <td>0</td>\n",
       "      <td>0</td>\n",
       "      <td>1</td>\n",
       "      <td>0</td>\n",
       "      <td>0</td>\n",
       "      <td>0</td>\n",
       "      <td>0</td>\n",
       "      <td>0</td>\n",
       "      <td>0</td>\n",
       "      <td>0</td>\n",
       "      <td>0</td>\n",
       "      <td>0</td>\n",
       "      <td>0</td>\n",
       "      <td>0</td>\n",
       "      <td>1</td>\n",
       "      <td>0</td>\n",
       "      <td>0</td>\n",
       "      <td>1</td>\n",
       "      <td>0</td>\n",
       "      <td>0</td>\n",
       "      <td>1</td>\n",
       "      <td>0</td>\n",
       "      <td>0</td>\n",
       "      <td>0</td>\n",
       "      <td>0</td>\n",
       "      <td>1</td>\n",
       "      <td>0</td>\n",
       "      <td>0</td>\n",
       "      <td>0</td>\n",
       "      <td>0</td>\n",
       "      <td>1</td>\n",
       "      <td>0</td>\n",
       "      <td>0</td>\n",
       "      <td>0</td>\n",
       "      <td>0</td>\n",
       "      <td>1</td>\n",
       "      <td>0</td>\n",
       "      <td>1</td>\n",
       "      <td>0</td>\n",
       "      <td>0</td>\n",
       "      <td>0</td>\n",
       "      <td>0</td>\n",
       "      <td>0</td>\n",
       "      <td>0</td>\n",
       "      <td>1</td>\n",
       "      <td>0</td>\n",
       "      <td>0</td>\n",
       "      <td>0</td>\n",
       "      <td>0</td>\n",
       "      <td>1</td>\n",
       "      <td>1</td>\n",
       "      <td>0</td>\n",
       "      <td>0</td>\n",
       "      <td>0</td>\n",
       "      <td>1</td>\n",
       "      <td>0</td>\n",
       "      <td>1</td>\n",
       "      <td>0</td>\n",
       "      <td>0</td>\n",
       "      <td>0</td>\n",
       "      <td>1</td>\n",
       "      <td>0</td>\n",
       "      <td>0</td>\n",
       "      <td>0</td>\n",
       "      <td>0</td>\n",
       "      <td>0</td>\n",
       "      <td>0</td>\n",
       "      <td>0</td>\n",
       "      <td>0</td>\n",
       "      <td>0</td>\n",
       "      <td>0</td>\n",
       "      <td>0</td>\n",
       "      <td>0</td>\n",
       "      <td>0</td>\n",
       "      <td>0</td>\n",
       "      <td>0</td>\n",
       "      <td>0</td>\n",
       "      <td>1</td>\n",
       "      <td>0</td>\n",
       "      <td>0</td>\n",
       "      <td>0</td>\n",
       "      <td>0</td>\n",
       "      <td>0</td>\n",
       "      <td>0</td>\n",
       "      <td>0</td>\n",
       "      <td>0</td>\n",
       "      <td>0</td>\n",
       "      <td>1</td>\n",
       "      <td>0</td>\n",
       "      <td>0</td>\n",
       "      <td>1</td>\n",
       "      <td>0</td>\n",
       "      <td>0</td>\n",
       "      <td>0</td>\n",
       "      <td>0</td>\n",
       "      <td>0</td>\n",
       "      <td>0</td>\n",
       "      <td>1</td>\n",
       "      <td>0</td>\n",
       "      <td>0</td>\n",
       "      <td>0</td>\n",
       "      <td>1</td>\n",
       "      <td>1</td>\n",
       "      <td>0</td>\n",
       "      <td>0</td>\n",
       "      <td>0</td>\n",
       "      <td>0</td>\n",
       "      <td>1</td>\n",
       "      <td>0</td>\n",
       "      <td>0</td>\n",
       "      <td>1</td>\n",
       "      <td>0</td>\n",
       "      <td>1</td>\n",
       "      <td>0</td>\n",
       "      <td>0</td>\n",
       "      <td>0</td>\n",
       "      <td>0</td>\n",
       "      <td>1</td>\n",
       "      <td>0</td>\n",
       "      <td>0</td>\n",
       "      <td>0</td>\n",
       "      <td>0</td>\n",
       "      <td>0</td>\n",
       "      <td>0</td>\n",
       "      <td>0</td>\n",
       "      <td>0</td>\n",
       "      <td>1</td>\n",
       "      <td>0</td>\n",
       "      <td>0</td>\n",
       "      <td>1</td>\n",
       "      <td>1</td>\n",
       "      <td>0</td>\n",
       "      <td>1</td>\n",
       "      <td>0</td>\n",
       "      <td>0</td>\n",
       "      <td>0</td>\n",
       "      <td>1</td>\n",
       "      <td>1</td>\n",
       "      <td>0</td>\n",
       "      <td>0</td>\n",
       "      <td>0</td>\n",
       "      <td>0</td>\n",
       "      <td>1</td>\n",
       "      <td>0</td>\n",
       "      <td>0</td>\n",
       "      <td>1</td>\n",
       "      <td>0</td>\n",
       "      <td>1</td>\n",
       "      <td>1</td>\n",
       "      <td>1</td>\n",
       "      <td>1</td>\n",
       "      <td>0</td>\n",
       "      <td>0</td>\n",
       "    </tr>\n",
       "    <tr>\n",
       "      <th>11</th>\n",
       "      <td>Samsara Eau de Parfum</td>\n",
       "      <td>1.0</td>\n",
       "      <td>Guerlain</td>\n",
       "      <td>Франция</td>\n",
       "      <td>0.5</td>\n",
       "      <td>0.6</td>\n",
       "      <td>1.000000</td>\n",
       "      <td>1.000</td>\n",
       "      <td>0.50</td>\n",
       "      <td>0</td>\n",
       "      <td>0</td>\n",
       "      <td>0</td>\n",
       "      <td>1</td>\n",
       "      <td>0</td>\n",
       "      <td>0.018901</td>\n",
       "      <td>0</td>\n",
       "      <td>1</td>\n",
       "      <td>1</td>\n",
       "      <td>0</td>\n",
       "      <td>0</td>\n",
       "      <td>1</td>\n",
       "      <td>0</td>\n",
       "      <td>0</td>\n",
       "      <td>0</td>\n",
       "      <td>0</td>\n",
       "      <td>0</td>\n",
       "      <td>0</td>\n",
       "      <td>0</td>\n",
       "      <td>0</td>\n",
       "      <td>0</td>\n",
       "      <td>0</td>\n",
       "      <td>1</td>\n",
       "      <td>0</td>\n",
       "      <td>1</td>\n",
       "      <td>0</td>\n",
       "      <td>0</td>\n",
       "      <td>0</td>\n",
       "      <td>0</td>\n",
       "      <td>0</td>\n",
       "      <td>0</td>\n",
       "      <td>0</td>\n",
       "      <td>0</td>\n",
       "      <td>0</td>\n",
       "      <td>0</td>\n",
       "      <td>1</td>\n",
       "      <td>0</td>\n",
       "      <td>0</td>\n",
       "      <td>0</td>\n",
       "      <td>0</td>\n",
       "      <td>1</td>\n",
       "      <td>0</td>\n",
       "      <td>1</td>\n",
       "      <td>0</td>\n",
       "      <td>1</td>\n",
       "      <td>0</td>\n",
       "      <td>1</td>\n",
       "      <td>0</td>\n",
       "      <td>0</td>\n",
       "      <td>1</td>\n",
       "      <td>0</td>\n",
       "      <td>0</td>\n",
       "      <td>0</td>\n",
       "      <td>0</td>\n",
       "      <td>1</td>\n",
       "      <td>0</td>\n",
       "      <td>0</td>\n",
       "      <td>0</td>\n",
       "      <td>1</td>\n",
       "      <td>0</td>\n",
       "      <td>0</td>\n",
       "      <td>1</td>\n",
       "      <td>0</td>\n",
       "      <td>0</td>\n",
       "      <td>0</td>\n",
       "      <td>0</td>\n",
       "      <td>0</td>\n",
       "      <td>0</td>\n",
       "      <td>0</td>\n",
       "      <td>0</td>\n",
       "      <td>0</td>\n",
       "      <td>0</td>\n",
       "      <td>1</td>\n",
       "      <td>0</td>\n",
       "      <td>1</td>\n",
       "      <td>1</td>\n",
       "      <td>0</td>\n",
       "      <td>0</td>\n",
       "      <td>0</td>\n",
       "      <td>0</td>\n",
       "      <td>0</td>\n",
       "      <td>0</td>\n",
       "      <td>0</td>\n",
       "      <td>0</td>\n",
       "      <td>0</td>\n",
       "      <td>0</td>\n",
       "      <td>0</td>\n",
       "      <td>0</td>\n",
       "      <td>1</td>\n",
       "      <td>0</td>\n",
       "      <td>0</td>\n",
       "      <td>1</td>\n",
       "      <td>0</td>\n",
       "      <td>0</td>\n",
       "      <td>0</td>\n",
       "      <td>0</td>\n",
       "      <td>0</td>\n",
       "      <td>0</td>\n",
       "      <td>1</td>\n",
       "      <td>0</td>\n",
       "      <td>0</td>\n",
       "      <td>0</td>\n",
       "      <td>0</td>\n",
       "      <td>0</td>\n",
       "      <td>0</td>\n",
       "      <td>0</td>\n",
       "      <td>0</td>\n",
       "      <td>0</td>\n",
       "      <td>0</td>\n",
       "      <td>1</td>\n",
       "      <td>0</td>\n",
       "      <td>1</td>\n",
       "      <td>0</td>\n",
       "      <td>0</td>\n",
       "      <td>0</td>\n",
       "      <td>0</td>\n",
       "      <td>0</td>\n",
       "      <td>0</td>\n",
       "      <td>0</td>\n",
       "      <td>0</td>\n",
       "      <td>0</td>\n",
       "      <td>0</td>\n",
       "      <td>0</td>\n",
       "      <td>0</td>\n",
       "      <td>0</td>\n",
       "      <td>0</td>\n",
       "      <td>0</td>\n",
       "      <td>0</td>\n",
       "      <td>0</td>\n",
       "      <td>0</td>\n",
       "      <td>0</td>\n",
       "      <td>1</td>\n",
       "      <td>0</td>\n",
       "      <td>0</td>\n",
       "      <td>0</td>\n",
       "      <td>1</td>\n",
       "      <td>0</td>\n",
       "      <td>0</td>\n",
       "      <td>0</td>\n",
       "      <td>0</td>\n",
       "      <td>0</td>\n",
       "      <td>1</td>\n",
       "      <td>0</td>\n",
       "      <td>0</td>\n",
       "      <td>0</td>\n",
       "      <td>1</td>\n",
       "      <td>1</td>\n",
       "      <td>0</td>\n",
       "      <td>0</td>\n",
       "      <td>1</td>\n",
       "      <td>0</td>\n",
       "      <td>1</td>\n",
       "      <td>0</td>\n",
       "      <td>0</td>\n",
       "      <td>0</td>\n",
       "      <td>0</td>\n",
       "      <td>0</td>\n",
       "      <td>1</td>\n",
       "      <td>0</td>\n",
       "      <td>0</td>\n",
       "      <td>0</td>\n",
       "      <td>1</td>\n",
       "      <td>0</td>\n",
       "      <td>0</td>\n",
       "      <td>0</td>\n",
       "      <td>0</td>\n",
       "      <td>0</td>\n",
       "      <td>1</td>\n",
       "      <td>0</td>\n",
       "      <td>0</td>\n",
       "      <td>1</td>\n",
       "      <td>0</td>\n",
       "      <td>0</td>\n",
       "      <td>1</td>\n",
       "      <td>1</td>\n",
       "      <td>1</td>\n",
       "      <td>1</td>\n",
       "      <td>1</td>\n",
       "      <td>0</td>\n",
       "      <td>0</td>\n",
       "      <td>1</td>\n",
       "      <td>1</td>\n",
       "      <td>1</td>\n",
       "      <td>0</td>\n",
       "      <td>1</td>\n",
       "      <td>0</td>\n",
       "      <td>1</td>\n",
       "      <td>0</td>\n",
       "      <td>0</td>\n",
       "      <td>1</td>\n",
       "      <td>0</td>\n",
       "      <td>1</td>\n",
       "      <td>1</td>\n",
       "      <td>1</td>\n",
       "      <td>1</td>\n",
       "      <td>0</td>\n",
       "      <td>0</td>\n",
       "    </tr>\n",
       "    <tr>\n",
       "      <th>12</th>\n",
       "      <td>New Your Amber</td>\n",
       "      <td>0.5</td>\n",
       "      <td>Bond No.9</td>\n",
       "      <td>США</td>\n",
       "      <td>1.0</td>\n",
       "      <td>0.6</td>\n",
       "      <td>0.416667</td>\n",
       "      <td>0.012</td>\n",
       "      <td>0.75</td>\n",
       "      <td>0</td>\n",
       "      <td>0</td>\n",
       "      <td>0</td>\n",
       "      <td>0</td>\n",
       "      <td>1</td>\n",
       "      <td>1.000000</td>\n",
       "      <td>0</td>\n",
       "      <td>0</td>\n",
       "      <td>1</td>\n",
       "      <td>1</td>\n",
       "      <td>0</td>\n",
       "      <td>1</td>\n",
       "      <td>0</td>\n",
       "      <td>0</td>\n",
       "      <td>0</td>\n",
       "      <td>0</td>\n",
       "      <td>0</td>\n",
       "      <td>0</td>\n",
       "      <td>0</td>\n",
       "      <td>1</td>\n",
       "      <td>0</td>\n",
       "      <td>0</td>\n",
       "      <td>0</td>\n",
       "      <td>0</td>\n",
       "      <td>1</td>\n",
       "      <td>0</td>\n",
       "      <td>0</td>\n",
       "      <td>0</td>\n",
       "      <td>0</td>\n",
       "      <td>0</td>\n",
       "      <td>0</td>\n",
       "      <td>0</td>\n",
       "      <td>0</td>\n",
       "      <td>0</td>\n",
       "      <td>0</td>\n",
       "      <td>1</td>\n",
       "      <td>0</td>\n",
       "      <td>0</td>\n",
       "      <td>0</td>\n",
       "      <td>0</td>\n",
       "      <td>0</td>\n",
       "      <td>0</td>\n",
       "      <td>0</td>\n",
       "      <td>0</td>\n",
       "      <td>0</td>\n",
       "      <td>0</td>\n",
       "      <td>1</td>\n",
       "      <td>0</td>\n",
       "      <td>0</td>\n",
       "      <td>0</td>\n",
       "      <td>0</td>\n",
       "      <td>0</td>\n",
       "      <td>0</td>\n",
       "      <td>0</td>\n",
       "      <td>0</td>\n",
       "      <td>0</td>\n",
       "      <td>0</td>\n",
       "      <td>0</td>\n",
       "      <td>1</td>\n",
       "      <td>0</td>\n",
       "      <td>0</td>\n",
       "      <td>1</td>\n",
       "      <td>0</td>\n",
       "      <td>0</td>\n",
       "      <td>0</td>\n",
       "      <td>0</td>\n",
       "      <td>0</td>\n",
       "      <td>0</td>\n",
       "      <td>0</td>\n",
       "      <td>0</td>\n",
       "      <td>0</td>\n",
       "      <td>0</td>\n",
       "      <td>0</td>\n",
       "      <td>1</td>\n",
       "      <td>1</td>\n",
       "      <td>0</td>\n",
       "      <td>0</td>\n",
       "      <td>0</td>\n",
       "      <td>0</td>\n",
       "      <td>0</td>\n",
       "      <td>1</td>\n",
       "      <td>0</td>\n",
       "      <td>0</td>\n",
       "      <td>0</td>\n",
       "      <td>0</td>\n",
       "      <td>0</td>\n",
       "      <td>0</td>\n",
       "      <td>0</td>\n",
       "      <td>1</td>\n",
       "      <td>0</td>\n",
       "      <td>0</td>\n",
       "      <td>0</td>\n",
       "      <td>0</td>\n",
       "      <td>0</td>\n",
       "      <td>0</td>\n",
       "      <td>0</td>\n",
       "      <td>0</td>\n",
       "      <td>0</td>\n",
       "      <td>0</td>\n",
       "      <td>0</td>\n",
       "      <td>0</td>\n",
       "      <td>0</td>\n",
       "      <td>0</td>\n",
       "      <td>0</td>\n",
       "      <td>0</td>\n",
       "      <td>0</td>\n",
       "      <td>0</td>\n",
       "      <td>0</td>\n",
       "      <td>1</td>\n",
       "      <td>0</td>\n",
       "      <td>0</td>\n",
       "      <td>0</td>\n",
       "      <td>0</td>\n",
       "      <td>0</td>\n",
       "      <td>0</td>\n",
       "      <td>0</td>\n",
       "      <td>0</td>\n",
       "      <td>0</td>\n",
       "      <td>1</td>\n",
       "      <td>0</td>\n",
       "      <td>0</td>\n",
       "      <td>1</td>\n",
       "      <td>0</td>\n",
       "      <td>0</td>\n",
       "      <td>0</td>\n",
       "      <td>0</td>\n",
       "      <td>0</td>\n",
       "      <td>0</td>\n",
       "      <td>0</td>\n",
       "      <td>1</td>\n",
       "      <td>0</td>\n",
       "      <td>1</td>\n",
       "      <td>1</td>\n",
       "      <td>0</td>\n",
       "      <td>0</td>\n",
       "      <td>0</td>\n",
       "      <td>0</td>\n",
       "      <td>0</td>\n",
       "      <td>0</td>\n",
       "      <td>0</td>\n",
       "      <td>0</td>\n",
       "      <td>1</td>\n",
       "      <td>0</td>\n",
       "      <td>0</td>\n",
       "      <td>0</td>\n",
       "      <td>1</td>\n",
       "      <td>1</td>\n",
       "      <td>0</td>\n",
       "      <td>0</td>\n",
       "      <td>0</td>\n",
       "      <td>0</td>\n",
       "      <td>1</td>\n",
       "      <td>0</td>\n",
       "      <td>0</td>\n",
       "      <td>0</td>\n",
       "      <td>0</td>\n",
       "      <td>0</td>\n",
       "      <td>0</td>\n",
       "      <td>0</td>\n",
       "      <td>0</td>\n",
       "      <td>0</td>\n",
       "      <td>1</td>\n",
       "      <td>0</td>\n",
       "      <td>0</td>\n",
       "      <td>0</td>\n",
       "      <td>0</td>\n",
       "      <td>0</td>\n",
       "      <td>0</td>\n",
       "      <td>0</td>\n",
       "      <td>0</td>\n",
       "      <td>1</td>\n",
       "      <td>0</td>\n",
       "      <td>0</td>\n",
       "      <td>1</td>\n",
       "      <td>1</td>\n",
       "      <td>0</td>\n",
       "      <td>1</td>\n",
       "      <td>0</td>\n",
       "      <td>0</td>\n",
       "      <td>0</td>\n",
       "      <td>1</td>\n",
       "      <td>1</td>\n",
       "      <td>0</td>\n",
       "      <td>0</td>\n",
       "      <td>0</td>\n",
       "      <td>0</td>\n",
       "      <td>1</td>\n",
       "      <td>0</td>\n",
       "      <td>0</td>\n",
       "      <td>1</td>\n",
       "      <td>0</td>\n",
       "      <td>1</td>\n",
       "      <td>1</td>\n",
       "      <td>1</td>\n",
       "      <td>1</td>\n",
       "      <td>0</td>\n",
       "      <td>0</td>\n",
       "    </tr>\n",
       "    <tr>\n",
       "      <th>13</th>\n",
       "      <td>Renata</td>\n",
       "      <td>1.0</td>\n",
       "      <td>Faberlic</td>\n",
       "      <td>Россия</td>\n",
       "      <td>0.0</td>\n",
       "      <td>0.6</td>\n",
       "      <td>0.416667</td>\n",
       "      <td>0.012</td>\n",
       "      <td>0.50</td>\n",
       "      <td>0</td>\n",
       "      <td>0</td>\n",
       "      <td>1</td>\n",
       "      <td>1</td>\n",
       "      <td>1</td>\n",
       "      <td>0.002786</td>\n",
       "      <td>0</td>\n",
       "      <td>0</td>\n",
       "      <td>0</td>\n",
       "      <td>1</td>\n",
       "      <td>0</td>\n",
       "      <td>1</td>\n",
       "      <td>0</td>\n",
       "      <td>0</td>\n",
       "      <td>0</td>\n",
       "      <td>0</td>\n",
       "      <td>0</td>\n",
       "      <td>0</td>\n",
       "      <td>0</td>\n",
       "      <td>0</td>\n",
       "      <td>0</td>\n",
       "      <td>0</td>\n",
       "      <td>0</td>\n",
       "      <td>0</td>\n",
       "      <td>1</td>\n",
       "      <td>0</td>\n",
       "      <td>0</td>\n",
       "      <td>1</td>\n",
       "      <td>0</td>\n",
       "      <td>0</td>\n",
       "      <td>0</td>\n",
       "      <td>0</td>\n",
       "      <td>0</td>\n",
       "      <td>0</td>\n",
       "      <td>0</td>\n",
       "      <td>0</td>\n",
       "      <td>0</td>\n",
       "      <td>0</td>\n",
       "      <td>0</td>\n",
       "      <td>0</td>\n",
       "      <td>0</td>\n",
       "      <td>0</td>\n",
       "      <td>0</td>\n",
       "      <td>0</td>\n",
       "      <td>0</td>\n",
       "      <td>0</td>\n",
       "      <td>1</td>\n",
       "      <td>0</td>\n",
       "      <td>1</td>\n",
       "      <td>0</td>\n",
       "      <td>0</td>\n",
       "      <td>0</td>\n",
       "      <td>0</td>\n",
       "      <td>0</td>\n",
       "      <td>0</td>\n",
       "      <td>0</td>\n",
       "      <td>0</td>\n",
       "      <td>0</td>\n",
       "      <td>1</td>\n",
       "      <td>1</td>\n",
       "      <td>0</td>\n",
       "      <td>1</td>\n",
       "      <td>0</td>\n",
       "      <td>0</td>\n",
       "      <td>0</td>\n",
       "      <td>0</td>\n",
       "      <td>1</td>\n",
       "      <td>0</td>\n",
       "      <td>0</td>\n",
       "      <td>1</td>\n",
       "      <td>0</td>\n",
       "      <td>0</td>\n",
       "      <td>0</td>\n",
       "      <td>0</td>\n",
       "      <td>1</td>\n",
       "      <td>0</td>\n",
       "      <td>0</td>\n",
       "      <td>0</td>\n",
       "      <td>0</td>\n",
       "      <td>1</td>\n",
       "      <td>0</td>\n",
       "      <td>0</td>\n",
       "      <td>1</td>\n",
       "      <td>0</td>\n",
       "      <td>0</td>\n",
       "      <td>0</td>\n",
       "      <td>0</td>\n",
       "      <td>0</td>\n",
       "      <td>1</td>\n",
       "      <td>0</td>\n",
       "      <td>0</td>\n",
       "      <td>0</td>\n",
       "      <td>0</td>\n",
       "      <td>1</td>\n",
       "      <td>0</td>\n",
       "      <td>0</td>\n",
       "      <td>0</td>\n",
       "      <td>0</td>\n",
       "      <td>1</td>\n",
       "      <td>0</td>\n",
       "      <td>0</td>\n",
       "      <td>0</td>\n",
       "      <td>0</td>\n",
       "      <td>0</td>\n",
       "      <td>0</td>\n",
       "      <td>0</td>\n",
       "      <td>0</td>\n",
       "      <td>0</td>\n",
       "      <td>0</td>\n",
       "      <td>0</td>\n",
       "      <td>0</td>\n",
       "      <td>0</td>\n",
       "      <td>0</td>\n",
       "      <td>0</td>\n",
       "      <td>0</td>\n",
       "      <td>0</td>\n",
       "      <td>1</td>\n",
       "      <td>0</td>\n",
       "      <td>0</td>\n",
       "      <td>0</td>\n",
       "      <td>0</td>\n",
       "      <td>0</td>\n",
       "      <td>0</td>\n",
       "      <td>0</td>\n",
       "      <td>0</td>\n",
       "      <td>0</td>\n",
       "      <td>0</td>\n",
       "      <td>0</td>\n",
       "      <td>0</td>\n",
       "      <td>0</td>\n",
       "      <td>0</td>\n",
       "      <td>1</td>\n",
       "      <td>1</td>\n",
       "      <td>0</td>\n",
       "      <td>0</td>\n",
       "      <td>0</td>\n",
       "      <td>0</td>\n",
       "      <td>0</td>\n",
       "      <td>1</td>\n",
       "      <td>0</td>\n",
       "      <td>0</td>\n",
       "      <td>1</td>\n",
       "      <td>0</td>\n",
       "      <td>0</td>\n",
       "      <td>0</td>\n",
       "      <td>1</td>\n",
       "      <td>1</td>\n",
       "      <td>0</td>\n",
       "      <td>0</td>\n",
       "      <td>0</td>\n",
       "      <td>1</td>\n",
       "      <td>1</td>\n",
       "      <td>0</td>\n",
       "      <td>0</td>\n",
       "      <td>0</td>\n",
       "      <td>0</td>\n",
       "      <td>0</td>\n",
       "      <td>0</td>\n",
       "      <td>0</td>\n",
       "      <td>0</td>\n",
       "      <td>0</td>\n",
       "      <td>1</td>\n",
       "      <td>0</td>\n",
       "      <td>1</td>\n",
       "      <td>0</td>\n",
       "      <td>0</td>\n",
       "      <td>0</td>\n",
       "      <td>0</td>\n",
       "      <td>0</td>\n",
       "      <td>0</td>\n",
       "      <td>1</td>\n",
       "      <td>0</td>\n",
       "      <td>0</td>\n",
       "      <td>1</td>\n",
       "      <td>1</td>\n",
       "      <td>0</td>\n",
       "      <td>1</td>\n",
       "      <td>0</td>\n",
       "      <td>0</td>\n",
       "      <td>0</td>\n",
       "      <td>1</td>\n",
       "      <td>1</td>\n",
       "      <td>0</td>\n",
       "      <td>0</td>\n",
       "      <td>0</td>\n",
       "      <td>0</td>\n",
       "      <td>1</td>\n",
       "      <td>0</td>\n",
       "      <td>0</td>\n",
       "      <td>1</td>\n",
       "      <td>0</td>\n",
       "      <td>1</td>\n",
       "      <td>1</td>\n",
       "      <td>1</td>\n",
       "      <td>1</td>\n",
       "      <td>0</td>\n",
       "      <td>0</td>\n",
       "    </tr>\n",
       "    <tr>\n",
       "      <th>14</th>\n",
       "      <td>Lanvin Eclat D Arpege</td>\n",
       "      <td>1.0</td>\n",
       "      <td>Lanvin</td>\n",
       "      <td>Франция</td>\n",
       "      <td>0.5</td>\n",
       "      <td>0.6</td>\n",
       "      <td>1.000000</td>\n",
       "      <td>1.000</td>\n",
       "      <td>0.50</td>\n",
       "      <td>0</td>\n",
       "      <td>1</td>\n",
       "      <td>1</td>\n",
       "      <td>1</td>\n",
       "      <td>0</td>\n",
       "      <td>0.005157</td>\n",
       "      <td>1</td>\n",
       "      <td>1</td>\n",
       "      <td>0</td>\n",
       "      <td>0</td>\n",
       "      <td>0</td>\n",
       "      <td>0</td>\n",
       "      <td>0</td>\n",
       "      <td>0</td>\n",
       "      <td>0</td>\n",
       "      <td>0</td>\n",
       "      <td>0</td>\n",
       "      <td>0</td>\n",
       "      <td>0</td>\n",
       "      <td>0</td>\n",
       "      <td>0</td>\n",
       "      <td>0</td>\n",
       "      <td>0</td>\n",
       "      <td>0</td>\n",
       "      <td>0</td>\n",
       "      <td>0</td>\n",
       "      <td>0</td>\n",
       "      <td>0</td>\n",
       "      <td>0</td>\n",
       "      <td>0</td>\n",
       "      <td>0</td>\n",
       "      <td>0</td>\n",
       "      <td>0</td>\n",
       "      <td>0</td>\n",
       "      <td>0</td>\n",
       "      <td>0</td>\n",
       "      <td>0</td>\n",
       "      <td>0</td>\n",
       "      <td>0</td>\n",
       "      <td>0</td>\n",
       "      <td>0</td>\n",
       "      <td>1</td>\n",
       "      <td>0</td>\n",
       "      <td>0</td>\n",
       "      <td>0</td>\n",
       "      <td>0</td>\n",
       "      <td>0</td>\n",
       "      <td>0</td>\n",
       "      <td>0</td>\n",
       "      <td>0</td>\n",
       "      <td>0</td>\n",
       "      <td>0</td>\n",
       "      <td>0</td>\n",
       "      <td>0</td>\n",
       "      <td>0</td>\n",
       "      <td>0</td>\n",
       "      <td>0</td>\n",
       "      <td>0</td>\n",
       "      <td>0</td>\n",
       "      <td>0</td>\n",
       "      <td>0</td>\n",
       "      <td>0</td>\n",
       "      <td>0</td>\n",
       "      <td>0</td>\n",
       "      <td>0</td>\n",
       "      <td>0</td>\n",
       "      <td>0</td>\n",
       "      <td>0</td>\n",
       "      <td>0</td>\n",
       "      <td>0</td>\n",
       "      <td>0</td>\n",
       "      <td>0</td>\n",
       "      <td>0</td>\n",
       "      <td>0</td>\n",
       "      <td>0</td>\n",
       "      <td>0</td>\n",
       "      <td>0</td>\n",
       "      <td>0</td>\n",
       "      <td>0</td>\n",
       "      <td>0</td>\n",
       "      <td>1</td>\n",
       "      <td>0</td>\n",
       "      <td>0</td>\n",
       "      <td>1</td>\n",
       "      <td>1</td>\n",
       "      <td>0</td>\n",
       "      <td>0</td>\n",
       "      <td>0</td>\n",
       "      <td>0</td>\n",
       "      <td>0</td>\n",
       "      <td>0</td>\n",
       "      <td>0</td>\n",
       "      <td>0</td>\n",
       "      <td>1</td>\n",
       "      <td>0</td>\n",
       "      <td>0</td>\n",
       "      <td>1</td>\n",
       "      <td>0</td>\n",
       "      <td>1</td>\n",
       "      <td>0</td>\n",
       "      <td>0</td>\n",
       "      <td>0</td>\n",
       "      <td>0</td>\n",
       "      <td>0</td>\n",
       "      <td>0</td>\n",
       "      <td>0</td>\n",
       "      <td>0</td>\n",
       "      <td>0</td>\n",
       "      <td>0</td>\n",
       "      <td>0</td>\n",
       "      <td>0</td>\n",
       "      <td>1</td>\n",
       "      <td>0</td>\n",
       "      <td>0</td>\n",
       "      <td>0</td>\n",
       "      <td>1</td>\n",
       "      <td>0</td>\n",
       "      <td>0</td>\n",
       "      <td>0</td>\n",
       "      <td>1</td>\n",
       "      <td>0</td>\n",
       "      <td>0</td>\n",
       "      <td>0</td>\n",
       "      <td>0</td>\n",
       "      <td>0</td>\n",
       "      <td>0</td>\n",
       "      <td>0</td>\n",
       "      <td>0</td>\n",
       "      <td>0</td>\n",
       "      <td>0</td>\n",
       "      <td>0</td>\n",
       "      <td>0</td>\n",
       "      <td>0</td>\n",
       "      <td>0</td>\n",
       "      <td>1</td>\n",
       "      <td>0</td>\n",
       "      <td>0</td>\n",
       "      <td>0</td>\n",
       "      <td>1</td>\n",
       "      <td>0</td>\n",
       "      <td>0</td>\n",
       "      <td>0</td>\n",
       "      <td>0</td>\n",
       "      <td>0</td>\n",
       "      <td>0</td>\n",
       "      <td>0</td>\n",
       "      <td>0</td>\n",
       "      <td>0</td>\n",
       "      <td>0</td>\n",
       "      <td>0</td>\n",
       "      <td>1</td>\n",
       "      <td>0</td>\n",
       "      <td>0</td>\n",
       "      <td>0</td>\n",
       "      <td>1</td>\n",
       "      <td>0</td>\n",
       "      <td>1</td>\n",
       "      <td>0</td>\n",
       "      <td>0</td>\n",
       "      <td>0</td>\n",
       "      <td>0</td>\n",
       "      <td>0</td>\n",
       "      <td>0</td>\n",
       "      <td>1</td>\n",
       "      <td>0</td>\n",
       "      <td>0</td>\n",
       "      <td>0</td>\n",
       "      <td>0</td>\n",
       "      <td>0</td>\n",
       "      <td>0</td>\n",
       "      <td>0</td>\n",
       "      <td>0</td>\n",
       "      <td>0</td>\n",
       "      <td>0</td>\n",
       "      <td>0</td>\n",
       "      <td>0</td>\n",
       "      <td>0</td>\n",
       "      <td>0</td>\n",
       "      <td>0</td>\n",
       "      <td>0</td>\n",
       "      <td>0</td>\n",
       "      <td>0</td>\n",
       "      <td>0</td>\n",
       "      <td>0</td>\n",
       "      <td>0</td>\n",
       "      <td>0</td>\n",
       "      <td>0</td>\n",
       "      <td>0</td>\n",
       "      <td>0</td>\n",
       "      <td>0</td>\n",
       "      <td>0</td>\n",
       "      <td>0</td>\n",
       "      <td>0</td>\n",
       "      <td>0</td>\n",
       "      <td>0</td>\n",
       "      <td>0</td>\n",
       "      <td>0</td>\n",
       "    </tr>\n",
       "    <tr>\n",
       "      <th>15</th>\n",
       "      <td>MOSCHINO Toy Boy</td>\n",
       "      <td>0.0</td>\n",
       "      <td>Moscino</td>\n",
       "      <td>Италия</td>\n",
       "      <td>0.5</td>\n",
       "      <td>0.6</td>\n",
       "      <td>0.166667</td>\n",
       "      <td>0.005</td>\n",
       "      <td>0.50</td>\n",
       "      <td>1</td>\n",
       "      <td>1</td>\n",
       "      <td>1</td>\n",
       "      <td>1</td>\n",
       "      <td>1</td>\n",
       "      <td>0.008927</td>\n",
       "      <td>0</td>\n",
       "      <td>1</td>\n",
       "      <td>0</td>\n",
       "      <td>1</td>\n",
       "      <td>0</td>\n",
       "      <td>0</td>\n",
       "      <td>0</td>\n",
       "      <td>0</td>\n",
       "      <td>0</td>\n",
       "      <td>0</td>\n",
       "      <td>0</td>\n",
       "      <td>0</td>\n",
       "      <td>0</td>\n",
       "      <td>0</td>\n",
       "      <td>0</td>\n",
       "      <td>0</td>\n",
       "      <td>0</td>\n",
       "      <td>0</td>\n",
       "      <td>0</td>\n",
       "      <td>1</td>\n",
       "      <td>0</td>\n",
       "      <td>0</td>\n",
       "      <td>1</td>\n",
       "      <td>0</td>\n",
       "      <td>0</td>\n",
       "      <td>1</td>\n",
       "      <td>0</td>\n",
       "      <td>0</td>\n",
       "      <td>0</td>\n",
       "      <td>0</td>\n",
       "      <td>0</td>\n",
       "      <td>0</td>\n",
       "      <td>0</td>\n",
       "      <td>0</td>\n",
       "      <td>0</td>\n",
       "      <td>0</td>\n",
       "      <td>0</td>\n",
       "      <td>1</td>\n",
       "      <td>0</td>\n",
       "      <td>0</td>\n",
       "      <td>0</td>\n",
       "      <td>0</td>\n",
       "      <td>1</td>\n",
       "      <td>1</td>\n",
       "      <td>0</td>\n",
       "      <td>0</td>\n",
       "      <td>0</td>\n",
       "      <td>0</td>\n",
       "      <td>0</td>\n",
       "      <td>0</td>\n",
       "      <td>1</td>\n",
       "      <td>0</td>\n",
       "      <td>0</td>\n",
       "      <td>0</td>\n",
       "      <td>0</td>\n",
       "      <td>0</td>\n",
       "      <td>0</td>\n",
       "      <td>1</td>\n",
       "      <td>0</td>\n",
       "      <td>0</td>\n",
       "      <td>0</td>\n",
       "      <td>1</td>\n",
       "      <td>0</td>\n",
       "      <td>0</td>\n",
       "      <td>0</td>\n",
       "      <td>0</td>\n",
       "      <td>1</td>\n",
       "      <td>1</td>\n",
       "      <td>0</td>\n",
       "      <td>0</td>\n",
       "      <td>0</td>\n",
       "      <td>0</td>\n",
       "      <td>0</td>\n",
       "      <td>0</td>\n",
       "      <td>0</td>\n",
       "      <td>0</td>\n",
       "      <td>0</td>\n",
       "      <td>0</td>\n",
       "      <td>1</td>\n",
       "      <td>0</td>\n",
       "      <td>0</td>\n",
       "      <td>0</td>\n",
       "      <td>0</td>\n",
       "      <td>0</td>\n",
       "      <td>1</td>\n",
       "      <td>1</td>\n",
       "      <td>0</td>\n",
       "      <td>0</td>\n",
       "      <td>0</td>\n",
       "      <td>1</td>\n",
       "      <td>0</td>\n",
       "      <td>0</td>\n",
       "      <td>1</td>\n",
       "      <td>0</td>\n",
       "      <td>0</td>\n",
       "      <td>0</td>\n",
       "      <td>0</td>\n",
       "      <td>0</td>\n",
       "      <td>0</td>\n",
       "      <td>0</td>\n",
       "      <td>0</td>\n",
       "      <td>0</td>\n",
       "      <td>0</td>\n",
       "      <td>0</td>\n",
       "      <td>0</td>\n",
       "      <td>0</td>\n",
       "      <td>0</td>\n",
       "      <td>0</td>\n",
       "      <td>0</td>\n",
       "      <td>0</td>\n",
       "      <td>0</td>\n",
       "      <td>0</td>\n",
       "      <td>0</td>\n",
       "      <td>0</td>\n",
       "      <td>0</td>\n",
       "      <td>0</td>\n",
       "      <td>1</td>\n",
       "      <td>0</td>\n",
       "      <td>0</td>\n",
       "      <td>0</td>\n",
       "      <td>1</td>\n",
       "      <td>0</td>\n",
       "      <td>0</td>\n",
       "      <td>0</td>\n",
       "      <td>0</td>\n",
       "      <td>0</td>\n",
       "      <td>0</td>\n",
       "      <td>0</td>\n",
       "      <td>0</td>\n",
       "      <td>1</td>\n",
       "      <td>0</td>\n",
       "      <td>0</td>\n",
       "      <td>0</td>\n",
       "      <td>1</td>\n",
       "      <td>0</td>\n",
       "      <td>0</td>\n",
       "      <td>0</td>\n",
       "      <td>0</td>\n",
       "      <td>0</td>\n",
       "      <td>1</td>\n",
       "      <td>1</td>\n",
       "      <td>0</td>\n",
       "      <td>0</td>\n",
       "      <td>1</td>\n",
       "      <td>0</td>\n",
       "      <td>0</td>\n",
       "      <td>1</td>\n",
       "      <td>0</td>\n",
       "      <td>0</td>\n",
       "      <td>0</td>\n",
       "      <td>0</td>\n",
       "      <td>1</td>\n",
       "      <td>0</td>\n",
       "      <td>0</td>\n",
       "      <td>0</td>\n",
       "      <td>0</td>\n",
       "      <td>0</td>\n",
       "      <td>0</td>\n",
       "      <td>0</td>\n",
       "      <td>1</td>\n",
       "      <td>1</td>\n",
       "      <td>1</td>\n",
       "      <td>1</td>\n",
       "      <td>0</td>\n",
       "      <td>0</td>\n",
       "      <td>0</td>\n",
       "      <td>0</td>\n",
       "      <td>0</td>\n",
       "      <td>0</td>\n",
       "      <td>1</td>\n",
       "      <td>1</td>\n",
       "      <td>1</td>\n",
       "      <td>0</td>\n",
       "      <td>0</td>\n",
       "      <td>0</td>\n",
       "      <td>0</td>\n",
       "      <td>1</td>\n",
       "      <td>0</td>\n",
       "      <td>1</td>\n",
       "      <td>0</td>\n",
       "      <td>0</td>\n",
       "      <td>0</td>\n",
       "      <td>0</td>\n",
       "      <td>0</td>\n",
       "      <td>0</td>\n",
       "      <td>0</td>\n",
       "      <td>0</td>\n",
       "      <td>1</td>\n",
       "      <td>0</td>\n",
       "      <td>0</td>\n",
       "      <td>0</td>\n",
       "    </tr>\n",
       "    <tr>\n",
       "      <th>16</th>\n",
       "      <td>Cartier Declaration D Un Soir</td>\n",
       "      <td>0.0</td>\n",
       "      <td>Cartier</td>\n",
       "      <td>Франция</td>\n",
       "      <td>0.5</td>\n",
       "      <td>0.4</td>\n",
       "      <td>0.166667</td>\n",
       "      <td>0.005</td>\n",
       "      <td>0.50</td>\n",
       "      <td>1</td>\n",
       "      <td>1</td>\n",
       "      <td>1</td>\n",
       "      <td>0</td>\n",
       "      <td>0</td>\n",
       "      <td>0.037890</td>\n",
       "      <td>1</td>\n",
       "      <td>0</td>\n",
       "      <td>0</td>\n",
       "      <td>0</td>\n",
       "      <td>0</td>\n",
       "      <td>0</td>\n",
       "      <td>0</td>\n",
       "      <td>0</td>\n",
       "      <td>0</td>\n",
       "      <td>0</td>\n",
       "      <td>0</td>\n",
       "      <td>0</td>\n",
       "      <td>0</td>\n",
       "      <td>0</td>\n",
       "      <td>0</td>\n",
       "      <td>1</td>\n",
       "      <td>0</td>\n",
       "      <td>0</td>\n",
       "      <td>0</td>\n",
       "      <td>1</td>\n",
       "      <td>0</td>\n",
       "      <td>0</td>\n",
       "      <td>1</td>\n",
       "      <td>0</td>\n",
       "      <td>0</td>\n",
       "      <td>0</td>\n",
       "      <td>0</td>\n",
       "      <td>1</td>\n",
       "      <td>0</td>\n",
       "      <td>0</td>\n",
       "      <td>0</td>\n",
       "      <td>0</td>\n",
       "      <td>0</td>\n",
       "      <td>0</td>\n",
       "      <td>0</td>\n",
       "      <td>0</td>\n",
       "      <td>0</td>\n",
       "      <td>1</td>\n",
       "      <td>1</td>\n",
       "      <td>0</td>\n",
       "      <td>0</td>\n",
       "      <td>1</td>\n",
       "      <td>0</td>\n",
       "      <td>1</td>\n",
       "      <td>0</td>\n",
       "      <td>0</td>\n",
       "      <td>0</td>\n",
       "      <td>1</td>\n",
       "      <td>0</td>\n",
       "      <td>1</td>\n",
       "      <td>1</td>\n",
       "      <td>0</td>\n",
       "      <td>0</td>\n",
       "      <td>0</td>\n",
       "      <td>0</td>\n",
       "      <td>0</td>\n",
       "      <td>0</td>\n",
       "      <td>0</td>\n",
       "      <td>0</td>\n",
       "      <td>0</td>\n",
       "      <td>0</td>\n",
       "      <td>0</td>\n",
       "      <td>0</td>\n",
       "      <td>1</td>\n",
       "      <td>0</td>\n",
       "      <td>1</td>\n",
       "      <td>1</td>\n",
       "      <td>0</td>\n",
       "      <td>0</td>\n",
       "      <td>0</td>\n",
       "      <td>0</td>\n",
       "      <td>1</td>\n",
       "      <td>0</td>\n",
       "      <td>0</td>\n",
       "      <td>0</td>\n",
       "      <td>0</td>\n",
       "      <td>0</td>\n",
       "      <td>0</td>\n",
       "      <td>1</td>\n",
       "      <td>1</td>\n",
       "      <td>0</td>\n",
       "      <td>0</td>\n",
       "      <td>0</td>\n",
       "      <td>0</td>\n",
       "      <td>0</td>\n",
       "      <td>1</td>\n",
       "      <td>0</td>\n",
       "      <td>0</td>\n",
       "      <td>0</td>\n",
       "      <td>0</td>\n",
       "      <td>0</td>\n",
       "      <td>0</td>\n",
       "      <td>1</td>\n",
       "      <td>0</td>\n",
       "      <td>0</td>\n",
       "      <td>0</td>\n",
       "      <td>0</td>\n",
       "      <td>0</td>\n",
       "      <td>0</td>\n",
       "      <td>1</td>\n",
       "      <td>0</td>\n",
       "      <td>0</td>\n",
       "      <td>0</td>\n",
       "      <td>0</td>\n",
       "      <td>0</td>\n",
       "      <td>0</td>\n",
       "      <td>0</td>\n",
       "      <td>0</td>\n",
       "      <td>0</td>\n",
       "      <td>1</td>\n",
       "      <td>0</td>\n",
       "      <td>0</td>\n",
       "      <td>1</td>\n",
       "      <td>0</td>\n",
       "      <td>0</td>\n",
       "      <td>0</td>\n",
       "      <td>0</td>\n",
       "      <td>0</td>\n",
       "      <td>0</td>\n",
       "      <td>0</td>\n",
       "      <td>1</td>\n",
       "      <td>0</td>\n",
       "      <td>0</td>\n",
       "      <td>0</td>\n",
       "      <td>0</td>\n",
       "      <td>0</td>\n",
       "      <td>0</td>\n",
       "      <td>0</td>\n",
       "      <td>0</td>\n",
       "      <td>1</td>\n",
       "      <td>0</td>\n",
       "      <td>0</td>\n",
       "      <td>0</td>\n",
       "      <td>1</td>\n",
       "      <td>0</td>\n",
       "      <td>0</td>\n",
       "      <td>0</td>\n",
       "      <td>0</td>\n",
       "      <td>0</td>\n",
       "      <td>1</td>\n",
       "      <td>1</td>\n",
       "      <td>0</td>\n",
       "      <td>0</td>\n",
       "      <td>1</td>\n",
       "      <td>0</td>\n",
       "      <td>0</td>\n",
       "      <td>1</td>\n",
       "      <td>0</td>\n",
       "      <td>0</td>\n",
       "      <td>0</td>\n",
       "      <td>0</td>\n",
       "      <td>1</td>\n",
       "      <td>0</td>\n",
       "      <td>0</td>\n",
       "      <td>0</td>\n",
       "      <td>0</td>\n",
       "      <td>0</td>\n",
       "      <td>0</td>\n",
       "      <td>0</td>\n",
       "      <td>1</td>\n",
       "      <td>1</td>\n",
       "      <td>1</td>\n",
       "      <td>1</td>\n",
       "      <td>0</td>\n",
       "      <td>0</td>\n",
       "      <td>0</td>\n",
       "      <td>0</td>\n",
       "      <td>0</td>\n",
       "      <td>0</td>\n",
       "      <td>1</td>\n",
       "      <td>1</td>\n",
       "      <td>1</td>\n",
       "      <td>0</td>\n",
       "      <td>0</td>\n",
       "      <td>0</td>\n",
       "      <td>0</td>\n",
       "      <td>1</td>\n",
       "      <td>0</td>\n",
       "      <td>1</td>\n",
       "      <td>0</td>\n",
       "      <td>0</td>\n",
       "      <td>0</td>\n",
       "      <td>0</td>\n",
       "      <td>0</td>\n",
       "      <td>0</td>\n",
       "      <td>0</td>\n",
       "      <td>0</td>\n",
       "      <td>1</td>\n",
       "      <td>0</td>\n",
       "      <td>0</td>\n",
       "      <td>0</td>\n",
       "    </tr>\n",
       "    <tr>\n",
       "      <th>17</th>\n",
       "      <td>Channel №5</td>\n",
       "      <td>1.0</td>\n",
       "      <td>Channel</td>\n",
       "      <td>Франция</td>\n",
       "      <td>0.5</td>\n",
       "      <td>0.8</td>\n",
       "      <td>1.000000</td>\n",
       "      <td>1.000</td>\n",
       "      <td>0.50</td>\n",
       "      <td>0</td>\n",
       "      <td>0</td>\n",
       "      <td>0</td>\n",
       "      <td>1</td>\n",
       "      <td>0</td>\n",
       "      <td>0.208189</td>\n",
       "      <td>0</td>\n",
       "      <td>0</td>\n",
       "      <td>1</td>\n",
       "      <td>1</td>\n",
       "      <td>1</td>\n",
       "      <td>0</td>\n",
       "      <td>0</td>\n",
       "      <td>0</td>\n",
       "      <td>0</td>\n",
       "      <td>0</td>\n",
       "      <td>0</td>\n",
       "      <td>0</td>\n",
       "      <td>0</td>\n",
       "      <td>0</td>\n",
       "      <td>0</td>\n",
       "      <td>0</td>\n",
       "      <td>0</td>\n",
       "      <td>0</td>\n",
       "      <td>0</td>\n",
       "      <td>1</td>\n",
       "      <td>0</td>\n",
       "      <td>0</td>\n",
       "      <td>0</td>\n",
       "      <td>0</td>\n",
       "      <td>0</td>\n",
       "      <td>0</td>\n",
       "      <td>0</td>\n",
       "      <td>1</td>\n",
       "      <td>0</td>\n",
       "      <td>1</td>\n",
       "      <td>0</td>\n",
       "      <td>0</td>\n",
       "      <td>0</td>\n",
       "      <td>0</td>\n",
       "      <td>0</td>\n",
       "      <td>0</td>\n",
       "      <td>1</td>\n",
       "      <td>0</td>\n",
       "      <td>1</td>\n",
       "      <td>0</td>\n",
       "      <td>0</td>\n",
       "      <td>0</td>\n",
       "      <td>0</td>\n",
       "      <td>0</td>\n",
       "      <td>0</td>\n",
       "      <td>0</td>\n",
       "      <td>0</td>\n",
       "      <td>0</td>\n",
       "      <td>0</td>\n",
       "      <td>0</td>\n",
       "      <td>0</td>\n",
       "      <td>0</td>\n",
       "      <td>0</td>\n",
       "      <td>0</td>\n",
       "      <td>0</td>\n",
       "      <td>0</td>\n",
       "      <td>1</td>\n",
       "      <td>0</td>\n",
       "      <td>0</td>\n",
       "      <td>0</td>\n",
       "      <td>0</td>\n",
       "      <td>0</td>\n",
       "      <td>0</td>\n",
       "      <td>0</td>\n",
       "      <td>0</td>\n",
       "      <td>0</td>\n",
       "      <td>0</td>\n",
       "      <td>0</td>\n",
       "      <td>0</td>\n",
       "      <td>0</td>\n",
       "      <td>0</td>\n",
       "      <td>1</td>\n",
       "      <td>0</td>\n",
       "      <td>0</td>\n",
       "      <td>0</td>\n",
       "      <td>0</td>\n",
       "      <td>1</td>\n",
       "      <td>0</td>\n",
       "      <td>0</td>\n",
       "      <td>0</td>\n",
       "      <td>1</td>\n",
       "      <td>0</td>\n",
       "      <td>0</td>\n",
       "      <td>0</td>\n",
       "      <td>0</td>\n",
       "      <td>0</td>\n",
       "      <td>0</td>\n",
       "      <td>1</td>\n",
       "      <td>0</td>\n",
       "      <td>0</td>\n",
       "      <td>0</td>\n",
       "      <td>0</td>\n",
       "      <td>1</td>\n",
       "      <td>0</td>\n",
       "      <td>0</td>\n",
       "      <td>0</td>\n",
       "      <td>0</td>\n",
       "      <td>0</td>\n",
       "      <td>0</td>\n",
       "      <td>0</td>\n",
       "      <td>0</td>\n",
       "      <td>0</td>\n",
       "      <td>0</td>\n",
       "      <td>0</td>\n",
       "      <td>0</td>\n",
       "      <td>0</td>\n",
       "      <td>1</td>\n",
       "      <td>0</td>\n",
       "      <td>0</td>\n",
       "      <td>0</td>\n",
       "      <td>0</td>\n",
       "      <td>0</td>\n",
       "      <td>0</td>\n",
       "      <td>1</td>\n",
       "      <td>0</td>\n",
       "      <td>0</td>\n",
       "      <td>0</td>\n",
       "      <td>0</td>\n",
       "      <td>0</td>\n",
       "      <td>0</td>\n",
       "      <td>0</td>\n",
       "      <td>0</td>\n",
       "      <td>0</td>\n",
       "      <td>0</td>\n",
       "      <td>0</td>\n",
       "      <td>0</td>\n",
       "      <td>0</td>\n",
       "      <td>0</td>\n",
       "      <td>1</td>\n",
       "      <td>0</td>\n",
       "      <td>0</td>\n",
       "      <td>0</td>\n",
       "      <td>0</td>\n",
       "      <td>0</td>\n",
       "      <td>0</td>\n",
       "      <td>0</td>\n",
       "      <td>0</td>\n",
       "      <td>0</td>\n",
       "      <td>0</td>\n",
       "      <td>0</td>\n",
       "      <td>0</td>\n",
       "      <td>0</td>\n",
       "      <td>0</td>\n",
       "      <td>0</td>\n",
       "      <td>0</td>\n",
       "      <td>0</td>\n",
       "      <td>0</td>\n",
       "      <td>0</td>\n",
       "      <td>1</td>\n",
       "      <td>0</td>\n",
       "      <td>1</td>\n",
       "      <td>0</td>\n",
       "      <td>0</td>\n",
       "      <td>0</td>\n",
       "      <td>0</td>\n",
       "      <td>0</td>\n",
       "      <td>0</td>\n",
       "      <td>0</td>\n",
       "      <td>0</td>\n",
       "      <td>0</td>\n",
       "      <td>0</td>\n",
       "      <td>0</td>\n",
       "      <td>0</td>\n",
       "      <td>0</td>\n",
       "      <td>0</td>\n",
       "      <td>0</td>\n",
       "      <td>0</td>\n",
       "      <td>0</td>\n",
       "      <td>0</td>\n",
       "      <td>0</td>\n",
       "      <td>0</td>\n",
       "      <td>0</td>\n",
       "      <td>0</td>\n",
       "      <td>0</td>\n",
       "      <td>0</td>\n",
       "      <td>0</td>\n",
       "      <td>0</td>\n",
       "      <td>0</td>\n",
       "      <td>0</td>\n",
       "      <td>0</td>\n",
       "      <td>0</td>\n",
       "      <td>0</td>\n",
       "      <td>0</td>\n",
       "      <td>0</td>\n",
       "      <td>0</td>\n",
       "      <td>0</td>\n",
       "      <td>0</td>\n",
       "      <td>0</td>\n",
       "      <td>0</td>\n",
       "      <td>0</td>\n",
       "      <td>0</td>\n",
       "    </tr>\n",
       "    <tr>\n",
       "      <th>18</th>\n",
       "      <td>Prada Day For Night</td>\n",
       "      <td>0.5</td>\n",
       "      <td>Prada</td>\n",
       "      <td>Италия</td>\n",
       "      <td>0.5</td>\n",
       "      <td>0.6</td>\n",
       "      <td>0.666667</td>\n",
       "      <td>1.000</td>\n",
       "      <td>0.50</td>\n",
       "      <td>0</td>\n",
       "      <td>0</td>\n",
       "      <td>0</td>\n",
       "      <td>0</td>\n",
       "      <td>0</td>\n",
       "      <td>0.032263</td>\n",
       "      <td>0</td>\n",
       "      <td>0</td>\n",
       "      <td>1</td>\n",
       "      <td>1</td>\n",
       "      <td>0</td>\n",
       "      <td>1</td>\n",
       "      <td>0</td>\n",
       "      <td>0</td>\n",
       "      <td>0</td>\n",
       "      <td>0</td>\n",
       "      <td>0</td>\n",
       "      <td>0</td>\n",
       "      <td>0</td>\n",
       "      <td>0</td>\n",
       "      <td>0</td>\n",
       "      <td>0</td>\n",
       "      <td>0</td>\n",
       "      <td>0</td>\n",
       "      <td>1</td>\n",
       "      <td>0</td>\n",
       "      <td>0</td>\n",
       "      <td>0</td>\n",
       "      <td>0</td>\n",
       "      <td>0</td>\n",
       "      <td>0</td>\n",
       "      <td>0</td>\n",
       "      <td>0</td>\n",
       "      <td>0</td>\n",
       "      <td>0</td>\n",
       "      <td>0</td>\n",
       "      <td>0</td>\n",
       "      <td>0</td>\n",
       "      <td>0</td>\n",
       "      <td>0</td>\n",
       "      <td>0</td>\n",
       "      <td>0</td>\n",
       "      <td>0</td>\n",
       "      <td>0</td>\n",
       "      <td>0</td>\n",
       "      <td>0</td>\n",
       "      <td>1</td>\n",
       "      <td>0</td>\n",
       "      <td>0</td>\n",
       "      <td>0</td>\n",
       "      <td>0</td>\n",
       "      <td>0</td>\n",
       "      <td>0</td>\n",
       "      <td>1</td>\n",
       "      <td>0</td>\n",
       "      <td>0</td>\n",
       "      <td>0</td>\n",
       "      <td>0</td>\n",
       "      <td>1</td>\n",
       "      <td>0</td>\n",
       "      <td>0</td>\n",
       "      <td>1</td>\n",
       "      <td>0</td>\n",
       "      <td>0</td>\n",
       "      <td>0</td>\n",
       "      <td>0</td>\n",
       "      <td>0</td>\n",
       "      <td>0</td>\n",
       "      <td>0</td>\n",
       "      <td>0</td>\n",
       "      <td>0</td>\n",
       "      <td>0</td>\n",
       "      <td>0</td>\n",
       "      <td>0</td>\n",
       "      <td>1</td>\n",
       "      <td>0</td>\n",
       "      <td>0</td>\n",
       "      <td>0</td>\n",
       "      <td>0</td>\n",
       "      <td>0</td>\n",
       "      <td>0</td>\n",
       "      <td>0</td>\n",
       "      <td>0</td>\n",
       "      <td>0</td>\n",
       "      <td>0</td>\n",
       "      <td>0</td>\n",
       "      <td>0</td>\n",
       "      <td>0</td>\n",
       "      <td>1</td>\n",
       "      <td>0</td>\n",
       "      <td>0</td>\n",
       "      <td>0</td>\n",
       "      <td>0</td>\n",
       "      <td>0</td>\n",
       "      <td>0</td>\n",
       "      <td>0</td>\n",
       "      <td>0</td>\n",
       "      <td>0</td>\n",
       "      <td>0</td>\n",
       "      <td>0</td>\n",
       "      <td>0</td>\n",
       "      <td>0</td>\n",
       "      <td>0</td>\n",
       "      <td>0</td>\n",
       "      <td>0</td>\n",
       "      <td>0</td>\n",
       "      <td>0</td>\n",
       "      <td>0</td>\n",
       "      <td>0</td>\n",
       "      <td>0</td>\n",
       "      <td>0</td>\n",
       "      <td>0</td>\n",
       "      <td>0</td>\n",
       "      <td>0</td>\n",
       "      <td>0</td>\n",
       "      <td>0</td>\n",
       "      <td>0</td>\n",
       "      <td>0</td>\n",
       "      <td>0</td>\n",
       "      <td>0</td>\n",
       "      <td>0</td>\n",
       "      <td>0</td>\n",
       "      <td>0</td>\n",
       "      <td>0</td>\n",
       "      <td>0</td>\n",
       "      <td>0</td>\n",
       "      <td>0</td>\n",
       "      <td>0</td>\n",
       "      <td>0</td>\n",
       "      <td>1</td>\n",
       "      <td>0</td>\n",
       "      <td>1</td>\n",
       "      <td>1</td>\n",
       "      <td>0</td>\n",
       "      <td>0</td>\n",
       "      <td>0</td>\n",
       "      <td>0</td>\n",
       "      <td>0</td>\n",
       "      <td>0</td>\n",
       "      <td>0</td>\n",
       "      <td>0</td>\n",
       "      <td>1</td>\n",
       "      <td>0</td>\n",
       "      <td>0</td>\n",
       "      <td>0</td>\n",
       "      <td>1</td>\n",
       "      <td>1</td>\n",
       "      <td>0</td>\n",
       "      <td>0</td>\n",
       "      <td>0</td>\n",
       "      <td>0</td>\n",
       "      <td>1</td>\n",
       "      <td>0</td>\n",
       "      <td>0</td>\n",
       "      <td>0</td>\n",
       "      <td>0</td>\n",
       "      <td>0</td>\n",
       "      <td>0</td>\n",
       "      <td>0</td>\n",
       "      <td>0</td>\n",
       "      <td>0</td>\n",
       "      <td>1</td>\n",
       "      <td>0</td>\n",
       "      <td>0</td>\n",
       "      <td>0</td>\n",
       "      <td>0</td>\n",
       "      <td>0</td>\n",
       "      <td>0</td>\n",
       "      <td>0</td>\n",
       "      <td>0</td>\n",
       "      <td>1</td>\n",
       "      <td>0</td>\n",
       "      <td>0</td>\n",
       "      <td>1</td>\n",
       "      <td>1</td>\n",
       "      <td>0</td>\n",
       "      <td>1</td>\n",
       "      <td>0</td>\n",
       "      <td>0</td>\n",
       "      <td>0</td>\n",
       "      <td>1</td>\n",
       "      <td>1</td>\n",
       "      <td>0</td>\n",
       "      <td>0</td>\n",
       "      <td>0</td>\n",
       "      <td>0</td>\n",
       "      <td>1</td>\n",
       "      <td>0</td>\n",
       "      <td>0</td>\n",
       "      <td>1</td>\n",
       "      <td>0</td>\n",
       "      <td>1</td>\n",
       "      <td>1</td>\n",
       "      <td>1</td>\n",
       "      <td>1</td>\n",
       "      <td>0</td>\n",
       "      <td>0</td>\n",
       "    </tr>\n",
       "    <tr>\n",
       "      <th>19</th>\n",
       "      <td>Escentric Molecules Escentric 02</td>\n",
       "      <td>0.5</td>\n",
       "      <td>Escentric Molecules</td>\n",
       "      <td>Германия</td>\n",
       "      <td>1.0</td>\n",
       "      <td>0.8</td>\n",
       "      <td>0.416667</td>\n",
       "      <td>0.012</td>\n",
       "      <td>0.50</td>\n",
       "      <td>1</td>\n",
       "      <td>1</td>\n",
       "      <td>1</td>\n",
       "      <td>1</td>\n",
       "      <td>1</td>\n",
       "      <td>0.016293</td>\n",
       "      <td>1</td>\n",
       "      <td>0</td>\n",
       "      <td>0</td>\n",
       "      <td>0</td>\n",
       "      <td>0</td>\n",
       "      <td>1</td>\n",
       "      <td>1</td>\n",
       "      <td>0</td>\n",
       "      <td>0</td>\n",
       "      <td>0</td>\n",
       "      <td>0</td>\n",
       "      <td>0</td>\n",
       "      <td>0</td>\n",
       "      <td>0</td>\n",
       "      <td>0</td>\n",
       "      <td>0</td>\n",
       "      <td>0</td>\n",
       "      <td>1</td>\n",
       "      <td>1</td>\n",
       "      <td>0</td>\n",
       "      <td>0</td>\n",
       "      <td>0</td>\n",
       "      <td>0</td>\n",
       "      <td>0</td>\n",
       "      <td>0</td>\n",
       "      <td>0</td>\n",
       "      <td>0</td>\n",
       "      <td>0</td>\n",
       "      <td>0</td>\n",
       "      <td>1</td>\n",
       "      <td>0</td>\n",
       "      <td>0</td>\n",
       "      <td>0</td>\n",
       "      <td>0</td>\n",
       "      <td>0</td>\n",
       "      <td>0</td>\n",
       "      <td>0</td>\n",
       "      <td>0</td>\n",
       "      <td>1</td>\n",
       "      <td>0</td>\n",
       "      <td>1</td>\n",
       "      <td>0</td>\n",
       "      <td>0</td>\n",
       "      <td>0</td>\n",
       "      <td>0</td>\n",
       "      <td>0</td>\n",
       "      <td>0</td>\n",
       "      <td>0</td>\n",
       "      <td>0</td>\n",
       "      <td>0</td>\n",
       "      <td>0</td>\n",
       "      <td>0</td>\n",
       "      <td>1</td>\n",
       "      <td>0</td>\n",
       "      <td>0</td>\n",
       "      <td>1</td>\n",
       "      <td>0</td>\n",
       "      <td>0</td>\n",
       "      <td>0</td>\n",
       "      <td>0</td>\n",
       "      <td>0</td>\n",
       "      <td>0</td>\n",
       "      <td>0</td>\n",
       "      <td>0</td>\n",
       "      <td>0</td>\n",
       "      <td>0</td>\n",
       "      <td>0</td>\n",
       "      <td>0</td>\n",
       "      <td>1</td>\n",
       "      <td>0</td>\n",
       "      <td>0</td>\n",
       "      <td>0</td>\n",
       "      <td>0</td>\n",
       "      <td>0</td>\n",
       "      <td>0</td>\n",
       "      <td>0</td>\n",
       "      <td>0</td>\n",
       "      <td>0</td>\n",
       "      <td>1</td>\n",
       "      <td>0</td>\n",
       "      <td>0</td>\n",
       "      <td>0</td>\n",
       "      <td>1</td>\n",
       "      <td>0</td>\n",
       "      <td>0</td>\n",
       "      <td>0</td>\n",
       "      <td>0</td>\n",
       "      <td>1</td>\n",
       "      <td>0</td>\n",
       "      <td>0</td>\n",
       "      <td>0</td>\n",
       "      <td>0</td>\n",
       "      <td>1</td>\n",
       "      <td>0</td>\n",
       "      <td>0</td>\n",
       "      <td>0</td>\n",
       "      <td>0</td>\n",
       "      <td>0</td>\n",
       "      <td>0</td>\n",
       "      <td>0</td>\n",
       "      <td>0</td>\n",
       "      <td>0</td>\n",
       "      <td>0</td>\n",
       "      <td>0</td>\n",
       "      <td>0</td>\n",
       "      <td>0</td>\n",
       "      <td>0</td>\n",
       "      <td>0</td>\n",
       "      <td>0</td>\n",
       "      <td>0</td>\n",
       "      <td>0</td>\n",
       "      <td>0</td>\n",
       "      <td>0</td>\n",
       "      <td>1</td>\n",
       "      <td>0</td>\n",
       "      <td>0</td>\n",
       "      <td>0</td>\n",
       "      <td>0</td>\n",
       "      <td>0</td>\n",
       "      <td>0</td>\n",
       "      <td>0</td>\n",
       "      <td>0</td>\n",
       "      <td>0</td>\n",
       "      <td>0</td>\n",
       "      <td>0</td>\n",
       "      <td>1</td>\n",
       "      <td>0</td>\n",
       "      <td>0</td>\n",
       "      <td>1</td>\n",
       "      <td>0</td>\n",
       "      <td>0</td>\n",
       "      <td>0</td>\n",
       "      <td>0</td>\n",
       "      <td>0</td>\n",
       "      <td>0</td>\n",
       "      <td>1</td>\n",
       "      <td>0</td>\n",
       "      <td>0</td>\n",
       "      <td>0</td>\n",
       "      <td>1</td>\n",
       "      <td>1</td>\n",
       "      <td>0</td>\n",
       "      <td>0</td>\n",
       "      <td>0</td>\n",
       "      <td>0</td>\n",
       "      <td>1</td>\n",
       "      <td>0</td>\n",
       "      <td>0</td>\n",
       "      <td>1</td>\n",
       "      <td>0</td>\n",
       "      <td>1</td>\n",
       "      <td>0</td>\n",
       "      <td>0</td>\n",
       "      <td>0</td>\n",
       "      <td>0</td>\n",
       "      <td>1</td>\n",
       "      <td>0</td>\n",
       "      <td>0</td>\n",
       "      <td>0</td>\n",
       "      <td>0</td>\n",
       "      <td>0</td>\n",
       "      <td>0</td>\n",
       "      <td>0</td>\n",
       "      <td>0</td>\n",
       "      <td>1</td>\n",
       "      <td>0</td>\n",
       "      <td>0</td>\n",
       "      <td>1</td>\n",
       "      <td>1</td>\n",
       "      <td>0</td>\n",
       "      <td>1</td>\n",
       "      <td>0</td>\n",
       "      <td>0</td>\n",
       "      <td>0</td>\n",
       "      <td>1</td>\n",
       "      <td>1</td>\n",
       "      <td>0</td>\n",
       "      <td>0</td>\n",
       "      <td>0</td>\n",
       "      <td>0</td>\n",
       "      <td>1</td>\n",
       "      <td>0</td>\n",
       "      <td>0</td>\n",
       "      <td>1</td>\n",
       "      <td>0</td>\n",
       "      <td>1</td>\n",
       "      <td>1</td>\n",
       "      <td>1</td>\n",
       "      <td>1</td>\n",
       "      <td>0</td>\n",
       "      <td>0</td>\n",
       "    </tr>\n",
       "    <tr>\n",
       "      <th>20</th>\n",
       "      <td>The Only One</td>\n",
       "      <td>1.0</td>\n",
       "      <td>Dolce&amp;Gabbana</td>\n",
       "      <td>Италия</td>\n",
       "      <td>0.5</td>\n",
       "      <td>0.6</td>\n",
       "      <td>0.166667</td>\n",
       "      <td>0.005</td>\n",
       "      <td>0.50</td>\n",
       "      <td>0</td>\n",
       "      <td>0</td>\n",
       "      <td>1</td>\n",
       "      <td>0</td>\n",
       "      <td>0</td>\n",
       "      <td>0.029133</td>\n",
       "      <td>0</td>\n",
       "      <td>0</td>\n",
       "      <td>1</td>\n",
       "      <td>1</td>\n",
       "      <td>0</td>\n",
       "      <td>1</td>\n",
       "      <td>0</td>\n",
       "      <td>0</td>\n",
       "      <td>0</td>\n",
       "      <td>0</td>\n",
       "      <td>0</td>\n",
       "      <td>0</td>\n",
       "      <td>0</td>\n",
       "      <td>0</td>\n",
       "      <td>0</td>\n",
       "      <td>0</td>\n",
       "      <td>0</td>\n",
       "      <td>0</td>\n",
       "      <td>1</td>\n",
       "      <td>0</td>\n",
       "      <td>0</td>\n",
       "      <td>0</td>\n",
       "      <td>0</td>\n",
       "      <td>0</td>\n",
       "      <td>0</td>\n",
       "      <td>1</td>\n",
       "      <td>0</td>\n",
       "      <td>0</td>\n",
       "      <td>0</td>\n",
       "      <td>0</td>\n",
       "      <td>0</td>\n",
       "      <td>0</td>\n",
       "      <td>0</td>\n",
       "      <td>0</td>\n",
       "      <td>0</td>\n",
       "      <td>0</td>\n",
       "      <td>0</td>\n",
       "      <td>0</td>\n",
       "      <td>1</td>\n",
       "      <td>0</td>\n",
       "      <td>1</td>\n",
       "      <td>0</td>\n",
       "      <td>0</td>\n",
       "      <td>0</td>\n",
       "      <td>0</td>\n",
       "      <td>0</td>\n",
       "      <td>0</td>\n",
       "      <td>0</td>\n",
       "      <td>0</td>\n",
       "      <td>0</td>\n",
       "      <td>0</td>\n",
       "      <td>0</td>\n",
       "      <td>1</td>\n",
       "      <td>0</td>\n",
       "      <td>0</td>\n",
       "      <td>1</td>\n",
       "      <td>0</td>\n",
       "      <td>0</td>\n",
       "      <td>0</td>\n",
       "      <td>0</td>\n",
       "      <td>0</td>\n",
       "      <td>0</td>\n",
       "      <td>0</td>\n",
       "      <td>0</td>\n",
       "      <td>0</td>\n",
       "      <td>0</td>\n",
       "      <td>0</td>\n",
       "      <td>0</td>\n",
       "      <td>1</td>\n",
       "      <td>0</td>\n",
       "      <td>0</td>\n",
       "      <td>0</td>\n",
       "      <td>0</td>\n",
       "      <td>0</td>\n",
       "      <td>0</td>\n",
       "      <td>0</td>\n",
       "      <td>1</td>\n",
       "      <td>0</td>\n",
       "      <td>0</td>\n",
       "      <td>0</td>\n",
       "      <td>0</td>\n",
       "      <td>0</td>\n",
       "      <td>1</td>\n",
       "      <td>0</td>\n",
       "      <td>0</td>\n",
       "      <td>0</td>\n",
       "      <td>0</td>\n",
       "      <td>1</td>\n",
       "      <td>1</td>\n",
       "      <td>0</td>\n",
       "      <td>0</td>\n",
       "      <td>0</td>\n",
       "      <td>1</td>\n",
       "      <td>0</td>\n",
       "      <td>0</td>\n",
       "      <td>0</td>\n",
       "      <td>0</td>\n",
       "      <td>0</td>\n",
       "      <td>0</td>\n",
       "      <td>0</td>\n",
       "      <td>0</td>\n",
       "      <td>0</td>\n",
       "      <td>0</td>\n",
       "      <td>1</td>\n",
       "      <td>0</td>\n",
       "      <td>0</td>\n",
       "      <td>0</td>\n",
       "      <td>0</td>\n",
       "      <td>0</td>\n",
       "      <td>0</td>\n",
       "      <td>0</td>\n",
       "      <td>0</td>\n",
       "      <td>0</td>\n",
       "      <td>0</td>\n",
       "      <td>0</td>\n",
       "      <td>0</td>\n",
       "      <td>0</td>\n",
       "      <td>0</td>\n",
       "      <td>0</td>\n",
       "      <td>0</td>\n",
       "      <td>0</td>\n",
       "      <td>0</td>\n",
       "      <td>0</td>\n",
       "      <td>0</td>\n",
       "      <td>0</td>\n",
       "      <td>1</td>\n",
       "      <td>0</td>\n",
       "      <td>0</td>\n",
       "      <td>1</td>\n",
       "      <td>0</td>\n",
       "      <td>0</td>\n",
       "      <td>0</td>\n",
       "      <td>0</td>\n",
       "      <td>0</td>\n",
       "      <td>0</td>\n",
       "      <td>1</td>\n",
       "      <td>0</td>\n",
       "      <td>0</td>\n",
       "      <td>0</td>\n",
       "      <td>1</td>\n",
       "      <td>1</td>\n",
       "      <td>0</td>\n",
       "      <td>0</td>\n",
       "      <td>0</td>\n",
       "      <td>0</td>\n",
       "      <td>1</td>\n",
       "      <td>0</td>\n",
       "      <td>0</td>\n",
       "      <td>1</td>\n",
       "      <td>0</td>\n",
       "      <td>1</td>\n",
       "      <td>0</td>\n",
       "      <td>0</td>\n",
       "      <td>0</td>\n",
       "      <td>0</td>\n",
       "      <td>1</td>\n",
       "      <td>0</td>\n",
       "      <td>0</td>\n",
       "      <td>0</td>\n",
       "      <td>0</td>\n",
       "      <td>0</td>\n",
       "      <td>0</td>\n",
       "      <td>0</td>\n",
       "      <td>0</td>\n",
       "      <td>1</td>\n",
       "      <td>0</td>\n",
       "      <td>0</td>\n",
       "      <td>1</td>\n",
       "      <td>1</td>\n",
       "      <td>0</td>\n",
       "      <td>1</td>\n",
       "      <td>0</td>\n",
       "      <td>0</td>\n",
       "      <td>0</td>\n",
       "      <td>1</td>\n",
       "      <td>1</td>\n",
       "      <td>0</td>\n",
       "      <td>0</td>\n",
       "      <td>0</td>\n",
       "      <td>0</td>\n",
       "      <td>1</td>\n",
       "      <td>0</td>\n",
       "      <td>0</td>\n",
       "      <td>1</td>\n",
       "      <td>0</td>\n",
       "      <td>1</td>\n",
       "      <td>1</td>\n",
       "      <td>1</td>\n",
       "      <td>1</td>\n",
       "      <td>0</td>\n",
       "      <td>0</td>\n",
       "    </tr>\n",
       "    <tr>\n",
       "      <th>21</th>\n",
       "      <td>Flora by Gucci Gorgeous Gardenia</td>\n",
       "      <td>1.0</td>\n",
       "      <td>Gucci</td>\n",
       "      <td>Италия</td>\n",
       "      <td>0.5</td>\n",
       "      <td>0.4</td>\n",
       "      <td>1.000000</td>\n",
       "      <td>1.000</td>\n",
       "      <td>0.50</td>\n",
       "      <td>1</td>\n",
       "      <td>1</td>\n",
       "      <td>1</td>\n",
       "      <td>1</td>\n",
       "      <td>1</td>\n",
       "      <td>0.058167</td>\n",
       "      <td>1</td>\n",
       "      <td>1</td>\n",
       "      <td>0</td>\n",
       "      <td>0</td>\n",
       "      <td>0</td>\n",
       "      <td>0</td>\n",
       "      <td>0</td>\n",
       "      <td>0</td>\n",
       "      <td>0</td>\n",
       "      <td>0</td>\n",
       "      <td>0</td>\n",
       "      <td>0</td>\n",
       "      <td>0</td>\n",
       "      <td>0</td>\n",
       "      <td>0</td>\n",
       "      <td>0</td>\n",
       "      <td>0</td>\n",
       "      <td>0</td>\n",
       "      <td>0</td>\n",
       "      <td>0</td>\n",
       "      <td>0</td>\n",
       "      <td>1</td>\n",
       "      <td>0</td>\n",
       "      <td>0</td>\n",
       "      <td>0</td>\n",
       "      <td>1</td>\n",
       "      <td>0</td>\n",
       "      <td>0</td>\n",
       "      <td>0</td>\n",
       "      <td>0</td>\n",
       "      <td>0</td>\n",
       "      <td>0</td>\n",
       "      <td>0</td>\n",
       "      <td>0</td>\n",
       "      <td>0</td>\n",
       "      <td>0</td>\n",
       "      <td>0</td>\n",
       "      <td>0</td>\n",
       "      <td>0</td>\n",
       "      <td>0</td>\n",
       "      <td>0</td>\n",
       "      <td>0</td>\n",
       "      <td>0</td>\n",
       "      <td>0</td>\n",
       "      <td>0</td>\n",
       "      <td>0</td>\n",
       "      <td>0</td>\n",
       "      <td>0</td>\n",
       "      <td>0</td>\n",
       "      <td>0</td>\n",
       "      <td>0</td>\n",
       "      <td>1</td>\n",
       "      <td>0</td>\n",
       "      <td>0</td>\n",
       "      <td>0</td>\n",
       "      <td>0</td>\n",
       "      <td>0</td>\n",
       "      <td>0</td>\n",
       "      <td>0</td>\n",
       "      <td>0</td>\n",
       "      <td>0</td>\n",
       "      <td>0</td>\n",
       "      <td>0</td>\n",
       "      <td>0</td>\n",
       "      <td>0</td>\n",
       "      <td>0</td>\n",
       "      <td>0</td>\n",
       "      <td>0</td>\n",
       "      <td>0</td>\n",
       "      <td>0</td>\n",
       "      <td>0</td>\n",
       "      <td>0</td>\n",
       "      <td>0</td>\n",
       "      <td>0</td>\n",
       "      <td>0</td>\n",
       "      <td>0</td>\n",
       "      <td>1</td>\n",
       "      <td>0</td>\n",
       "      <td>1</td>\n",
       "      <td>0</td>\n",
       "      <td>0</td>\n",
       "      <td>0</td>\n",
       "      <td>0</td>\n",
       "      <td>0</td>\n",
       "      <td>1</td>\n",
       "      <td>0</td>\n",
       "      <td>0</td>\n",
       "      <td>1</td>\n",
       "      <td>0</td>\n",
       "      <td>0</td>\n",
       "      <td>0</td>\n",
       "      <td>0</td>\n",
       "      <td>1</td>\n",
       "      <td>0</td>\n",
       "      <td>0</td>\n",
       "      <td>0</td>\n",
       "      <td>0</td>\n",
       "      <td>0</td>\n",
       "      <td>0</td>\n",
       "      <td>0</td>\n",
       "      <td>0</td>\n",
       "      <td>0</td>\n",
       "      <td>0</td>\n",
       "      <td>0</td>\n",
       "      <td>1</td>\n",
       "      <td>0</td>\n",
       "      <td>0</td>\n",
       "      <td>0</td>\n",
       "      <td>0</td>\n",
       "      <td>0</td>\n",
       "      <td>0</td>\n",
       "      <td>0</td>\n",
       "      <td>0</td>\n",
       "      <td>0</td>\n",
       "      <td>0</td>\n",
       "      <td>0</td>\n",
       "      <td>0</td>\n",
       "      <td>0</td>\n",
       "      <td>0</td>\n",
       "      <td>0</td>\n",
       "      <td>0</td>\n",
       "      <td>0</td>\n",
       "      <td>0</td>\n",
       "      <td>0</td>\n",
       "      <td>0</td>\n",
       "      <td>0</td>\n",
       "      <td>0</td>\n",
       "      <td>0</td>\n",
       "      <td>1</td>\n",
       "      <td>0</td>\n",
       "      <td>0</td>\n",
       "      <td>0</td>\n",
       "      <td>1</td>\n",
       "      <td>0</td>\n",
       "      <td>0</td>\n",
       "      <td>0</td>\n",
       "      <td>0</td>\n",
       "      <td>0</td>\n",
       "      <td>0</td>\n",
       "      <td>0</td>\n",
       "      <td>0</td>\n",
       "      <td>0</td>\n",
       "      <td>0</td>\n",
       "      <td>0</td>\n",
       "      <td>1</td>\n",
       "      <td>0</td>\n",
       "      <td>0</td>\n",
       "      <td>0</td>\n",
       "      <td>1</td>\n",
       "      <td>0</td>\n",
       "      <td>1</td>\n",
       "      <td>0</td>\n",
       "      <td>0</td>\n",
       "      <td>0</td>\n",
       "      <td>0</td>\n",
       "      <td>0</td>\n",
       "      <td>0</td>\n",
       "      <td>1</td>\n",
       "      <td>0</td>\n",
       "      <td>0</td>\n",
       "      <td>0</td>\n",
       "      <td>0</td>\n",
       "      <td>0</td>\n",
       "      <td>0</td>\n",
       "      <td>0</td>\n",
       "      <td>0</td>\n",
       "      <td>0</td>\n",
       "      <td>0</td>\n",
       "      <td>0</td>\n",
       "      <td>0</td>\n",
       "      <td>0</td>\n",
       "      <td>0</td>\n",
       "      <td>0</td>\n",
       "      <td>0</td>\n",
       "      <td>0</td>\n",
       "      <td>0</td>\n",
       "      <td>0</td>\n",
       "      <td>0</td>\n",
       "      <td>0</td>\n",
       "      <td>0</td>\n",
       "      <td>0</td>\n",
       "      <td>0</td>\n",
       "      <td>0</td>\n",
       "      <td>0</td>\n",
       "      <td>0</td>\n",
       "      <td>0</td>\n",
       "      <td>0</td>\n",
       "      <td>0</td>\n",
       "      <td>0</td>\n",
       "      <td>0</td>\n",
       "      <td>0</td>\n",
       "    </tr>\n",
       "    <tr>\n",
       "      <th>22</th>\n",
       "      <td>La Petite Robe Noire Ma Robe Cocktail</td>\n",
       "      <td>1.0</td>\n",
       "      <td>Guerlain</td>\n",
       "      <td>Франция</td>\n",
       "      <td>0.5</td>\n",
       "      <td>0.4</td>\n",
       "      <td>0.416667</td>\n",
       "      <td>0.012</td>\n",
       "      <td>0.75</td>\n",
       "      <td>1</td>\n",
       "      <td>1</td>\n",
       "      <td>1</td>\n",
       "      <td>1</td>\n",
       "      <td>1</td>\n",
       "      <td>0.013483</td>\n",
       "      <td>0</td>\n",
       "      <td>0</td>\n",
       "      <td>0</td>\n",
       "      <td>0</td>\n",
       "      <td>0</td>\n",
       "      <td>0</td>\n",
       "      <td>0</td>\n",
       "      <td>0</td>\n",
       "      <td>0</td>\n",
       "      <td>0</td>\n",
       "      <td>0</td>\n",
       "      <td>0</td>\n",
       "      <td>0</td>\n",
       "      <td>0</td>\n",
       "      <td>0</td>\n",
       "      <td>0</td>\n",
       "      <td>0</td>\n",
       "      <td>0</td>\n",
       "      <td>0</td>\n",
       "      <td>0</td>\n",
       "      <td>1</td>\n",
       "      <td>0</td>\n",
       "      <td>0</td>\n",
       "      <td>0</td>\n",
       "      <td>0</td>\n",
       "      <td>0</td>\n",
       "      <td>0</td>\n",
       "      <td>0</td>\n",
       "      <td>0</td>\n",
       "      <td>1</td>\n",
       "      <td>1</td>\n",
       "      <td>0</td>\n",
       "      <td>0</td>\n",
       "      <td>0</td>\n",
       "      <td>1</td>\n",
       "      <td>0</td>\n",
       "      <td>0</td>\n",
       "      <td>0</td>\n",
       "      <td>0</td>\n",
       "      <td>0</td>\n",
       "      <td>0</td>\n",
       "      <td>0</td>\n",
       "      <td>0</td>\n",
       "      <td>0</td>\n",
       "      <td>0</td>\n",
       "      <td>0</td>\n",
       "      <td>0</td>\n",
       "      <td>0</td>\n",
       "      <td>0</td>\n",
       "      <td>0</td>\n",
       "      <td>0</td>\n",
       "      <td>0</td>\n",
       "      <td>0</td>\n",
       "      <td>0</td>\n",
       "      <td>0</td>\n",
       "      <td>0</td>\n",
       "      <td>0</td>\n",
       "      <td>0</td>\n",
       "      <td>0</td>\n",
       "      <td>0</td>\n",
       "      <td>0</td>\n",
       "      <td>0</td>\n",
       "      <td>0</td>\n",
       "      <td>0</td>\n",
       "      <td>1</td>\n",
       "      <td>0</td>\n",
       "      <td>0</td>\n",
       "      <td>0</td>\n",
       "      <td>0</td>\n",
       "      <td>0</td>\n",
       "      <td>1</td>\n",
       "      <td>0</td>\n",
       "      <td>0</td>\n",
       "      <td>0</td>\n",
       "      <td>0</td>\n",
       "      <td>0</td>\n",
       "      <td>0</td>\n",
       "      <td>0</td>\n",
       "      <td>0</td>\n",
       "      <td>0</td>\n",
       "      <td>0</td>\n",
       "      <td>0</td>\n",
       "      <td>0</td>\n",
       "      <td>0</td>\n",
       "      <td>0</td>\n",
       "      <td>0</td>\n",
       "      <td>0</td>\n",
       "      <td>1</td>\n",
       "      <td>0</td>\n",
       "      <td>0</td>\n",
       "      <td>0</td>\n",
       "      <td>0</td>\n",
       "      <td>1</td>\n",
       "      <td>0</td>\n",
       "      <td>0</td>\n",
       "      <td>0</td>\n",
       "      <td>1</td>\n",
       "      <td>0</td>\n",
       "      <td>0</td>\n",
       "      <td>0</td>\n",
       "      <td>0</td>\n",
       "      <td>0</td>\n",
       "      <td>0</td>\n",
       "      <td>0</td>\n",
       "      <td>0</td>\n",
       "      <td>0</td>\n",
       "      <td>0</td>\n",
       "      <td>0</td>\n",
       "      <td>0</td>\n",
       "      <td>0</td>\n",
       "      <td>0</td>\n",
       "      <td>0</td>\n",
       "      <td>0</td>\n",
       "      <td>0</td>\n",
       "      <td>0</td>\n",
       "      <td>0</td>\n",
       "      <td>0</td>\n",
       "      <td>1</td>\n",
       "      <td>0</td>\n",
       "      <td>0</td>\n",
       "      <td>0</td>\n",
       "      <td>0</td>\n",
       "      <td>0</td>\n",
       "      <td>0</td>\n",
       "      <td>0</td>\n",
       "      <td>0</td>\n",
       "      <td>0</td>\n",
       "      <td>0</td>\n",
       "      <td>1</td>\n",
       "      <td>0</td>\n",
       "      <td>0</td>\n",
       "      <td>0</td>\n",
       "      <td>1</td>\n",
       "      <td>0</td>\n",
       "      <td>0</td>\n",
       "      <td>0</td>\n",
       "      <td>0</td>\n",
       "      <td>0</td>\n",
       "      <td>0</td>\n",
       "      <td>0</td>\n",
       "      <td>0</td>\n",
       "      <td>0</td>\n",
       "      <td>0</td>\n",
       "      <td>0</td>\n",
       "      <td>1</td>\n",
       "      <td>0</td>\n",
       "      <td>0</td>\n",
       "      <td>0</td>\n",
       "      <td>1</td>\n",
       "      <td>0</td>\n",
       "      <td>1</td>\n",
       "      <td>0</td>\n",
       "      <td>0</td>\n",
       "      <td>0</td>\n",
       "      <td>0</td>\n",
       "      <td>0</td>\n",
       "      <td>0</td>\n",
       "      <td>1</td>\n",
       "      <td>0</td>\n",
       "      <td>0</td>\n",
       "      <td>0</td>\n",
       "      <td>0</td>\n",
       "      <td>0</td>\n",
       "      <td>0</td>\n",
       "      <td>0</td>\n",
       "      <td>0</td>\n",
       "      <td>0</td>\n",
       "      <td>0</td>\n",
       "      <td>0</td>\n",
       "      <td>0</td>\n",
       "      <td>0</td>\n",
       "      <td>0</td>\n",
       "      <td>0</td>\n",
       "      <td>0</td>\n",
       "      <td>0</td>\n",
       "      <td>0</td>\n",
       "      <td>0</td>\n",
       "      <td>0</td>\n",
       "      <td>0</td>\n",
       "      <td>0</td>\n",
       "      <td>0</td>\n",
       "      <td>0</td>\n",
       "      <td>0</td>\n",
       "      <td>0</td>\n",
       "      <td>0</td>\n",
       "      <td>0</td>\n",
       "      <td>0</td>\n",
       "      <td>0</td>\n",
       "      <td>0</td>\n",
       "      <td>0</td>\n",
       "      <td>0</td>\n",
       "    </tr>\n",
       "    <tr>\n",
       "      <th>23</th>\n",
       "      <td>La Petite Robe Noire Ma Robe Sous le Vent</td>\n",
       "      <td>1.0</td>\n",
       "      <td>Guerlain</td>\n",
       "      <td>Франция</td>\n",
       "      <td>0.5</td>\n",
       "      <td>0.6</td>\n",
       "      <td>0.416667</td>\n",
       "      <td>0.012</td>\n",
       "      <td>0.50</td>\n",
       "      <td>0</td>\n",
       "      <td>1</td>\n",
       "      <td>1</td>\n",
       "      <td>1</td>\n",
       "      <td>1</td>\n",
       "      <td>0.023349</td>\n",
       "      <td>0</td>\n",
       "      <td>0</td>\n",
       "      <td>1</td>\n",
       "      <td>0</td>\n",
       "      <td>0</td>\n",
       "      <td>0</td>\n",
       "      <td>0</td>\n",
       "      <td>0</td>\n",
       "      <td>0</td>\n",
       "      <td>1</td>\n",
       "      <td>0</td>\n",
       "      <td>0</td>\n",
       "      <td>0</td>\n",
       "      <td>0</td>\n",
       "      <td>0</td>\n",
       "      <td>0</td>\n",
       "      <td>1</td>\n",
       "      <td>0</td>\n",
       "      <td>0</td>\n",
       "      <td>0</td>\n",
       "      <td>0</td>\n",
       "      <td>0</td>\n",
       "      <td>0</td>\n",
       "      <td>0</td>\n",
       "      <td>0</td>\n",
       "      <td>0</td>\n",
       "      <td>0</td>\n",
       "      <td>0</td>\n",
       "      <td>0</td>\n",
       "      <td>1</td>\n",
       "      <td>0</td>\n",
       "      <td>0</td>\n",
       "      <td>0</td>\n",
       "      <td>0</td>\n",
       "      <td>0</td>\n",
       "      <td>0</td>\n",
       "      <td>0</td>\n",
       "      <td>0</td>\n",
       "      <td>0</td>\n",
       "      <td>0</td>\n",
       "      <td>0</td>\n",
       "      <td>0</td>\n",
       "      <td>0</td>\n",
       "      <td>0</td>\n",
       "      <td>0</td>\n",
       "      <td>0</td>\n",
       "      <td>0</td>\n",
       "      <td>0</td>\n",
       "      <td>0</td>\n",
       "      <td>0</td>\n",
       "      <td>0</td>\n",
       "      <td>0</td>\n",
       "      <td>0</td>\n",
       "      <td>0</td>\n",
       "      <td>0</td>\n",
       "      <td>0</td>\n",
       "      <td>0</td>\n",
       "      <td>0</td>\n",
       "      <td>0</td>\n",
       "      <td>0</td>\n",
       "      <td>0</td>\n",
       "      <td>0</td>\n",
       "      <td>1</td>\n",
       "      <td>0</td>\n",
       "      <td>0</td>\n",
       "      <td>0</td>\n",
       "      <td>0</td>\n",
       "      <td>0</td>\n",
       "      <td>0</td>\n",
       "      <td>0</td>\n",
       "      <td>0</td>\n",
       "      <td>0</td>\n",
       "      <td>0</td>\n",
       "      <td>0</td>\n",
       "      <td>0</td>\n",
       "      <td>0</td>\n",
       "      <td>1</td>\n",
       "      <td>0</td>\n",
       "      <td>0</td>\n",
       "      <td>0</td>\n",
       "      <td>0</td>\n",
       "      <td>0</td>\n",
       "      <td>0</td>\n",
       "      <td>0</td>\n",
       "      <td>0</td>\n",
       "      <td>0</td>\n",
       "      <td>0</td>\n",
       "      <td>1</td>\n",
       "      <td>0</td>\n",
       "      <td>0</td>\n",
       "      <td>0</td>\n",
       "      <td>1</td>\n",
       "      <td>1</td>\n",
       "      <td>0</td>\n",
       "      <td>0</td>\n",
       "      <td>0</td>\n",
       "      <td>0</td>\n",
       "      <td>0</td>\n",
       "      <td>0</td>\n",
       "      <td>0</td>\n",
       "      <td>0</td>\n",
       "      <td>0</td>\n",
       "      <td>0</td>\n",
       "      <td>0</td>\n",
       "      <td>0</td>\n",
       "      <td>0</td>\n",
       "      <td>0</td>\n",
       "      <td>0</td>\n",
       "      <td>0</td>\n",
       "      <td>0</td>\n",
       "      <td>1</td>\n",
       "      <td>1</td>\n",
       "      <td>0</td>\n",
       "      <td>0</td>\n",
       "      <td>0</td>\n",
       "      <td>0</td>\n",
       "      <td>0</td>\n",
       "      <td>0</td>\n",
       "      <td>0</td>\n",
       "      <td>0</td>\n",
       "      <td>0</td>\n",
       "      <td>0</td>\n",
       "      <td>0</td>\n",
       "      <td>0</td>\n",
       "      <td>0</td>\n",
       "      <td>0</td>\n",
       "      <td>0</td>\n",
       "      <td>0</td>\n",
       "      <td>1</td>\n",
       "      <td>0</td>\n",
       "      <td>0</td>\n",
       "      <td>0</td>\n",
       "      <td>1</td>\n",
       "      <td>0</td>\n",
       "      <td>0</td>\n",
       "      <td>0</td>\n",
       "      <td>0</td>\n",
       "      <td>0</td>\n",
       "      <td>0</td>\n",
       "      <td>0</td>\n",
       "      <td>0</td>\n",
       "      <td>0</td>\n",
       "      <td>0</td>\n",
       "      <td>0</td>\n",
       "      <td>1</td>\n",
       "      <td>0</td>\n",
       "      <td>0</td>\n",
       "      <td>0</td>\n",
       "      <td>1</td>\n",
       "      <td>0</td>\n",
       "      <td>1</td>\n",
       "      <td>0</td>\n",
       "      <td>0</td>\n",
       "      <td>0</td>\n",
       "      <td>0</td>\n",
       "      <td>0</td>\n",
       "      <td>0</td>\n",
       "      <td>1</td>\n",
       "      <td>0</td>\n",
       "      <td>0</td>\n",
       "      <td>0</td>\n",
       "      <td>0</td>\n",
       "      <td>0</td>\n",
       "      <td>0</td>\n",
       "      <td>0</td>\n",
       "      <td>0</td>\n",
       "      <td>0</td>\n",
       "      <td>0</td>\n",
       "      <td>0</td>\n",
       "      <td>0</td>\n",
       "      <td>0</td>\n",
       "      <td>0</td>\n",
       "      <td>0</td>\n",
       "      <td>0</td>\n",
       "      <td>0</td>\n",
       "      <td>0</td>\n",
       "      <td>0</td>\n",
       "      <td>0</td>\n",
       "      <td>0</td>\n",
       "      <td>0</td>\n",
       "      <td>0</td>\n",
       "      <td>0</td>\n",
       "      <td>0</td>\n",
       "      <td>0</td>\n",
       "      <td>0</td>\n",
       "      <td>0</td>\n",
       "      <td>0</td>\n",
       "      <td>0</td>\n",
       "      <td>0</td>\n",
       "      <td>0</td>\n",
       "      <td>0</td>\n",
       "    </tr>\n",
       "  </tbody>\n",
       "</table>\n",
       "</div>"
      ],
      "text/plain": [
       "                                     название  пол                бренд  \\\n",
       "0                                    Shalimar  1.0             Guerlain   \n",
       "1                             3 L'Imperatrice  1.0        Dolce&Gabbana   \n",
       "2                                 1001 Nights  1.0                Ajmal   \n",
       "3                                      Sabina  1.0   Arabesque Perfumes   \n",
       "4                               Resolute Gold  0.0               Khalis   \n",
       "5                                Oath for Him  0.0                Ajmal   \n",
       "6                                       Twist  1.0                Emper   \n",
       "7                                 CK Everyone  0.5         Calvin Klein   \n",
       "8                                     Bad Boy  0.0     Carolina Herrera   \n",
       "9                Eau de Lacoste L.12.12 Blanc  0.0              Lacoste   \n",
       "10                              Ange ou Demon  1.0             Givenchy   \n",
       "11                      Samsara Eau de Parfum  1.0             Guerlain   \n",
       "12                             New Your Amber  0.5            Bond No.9   \n",
       "13                                     Renata  1.0             Faberlic   \n",
       "14                      Lanvin Eclat D Arpege  1.0               Lanvin   \n",
       "15                           MOSCHINO Toy Boy  0.0              Moscino   \n",
       "16              Cartier Declaration D Un Soir  0.0              Cartier   \n",
       "17                                 Channel №5  1.0              Channel   \n",
       "18                        Prada Day For Night  0.5                Prada   \n",
       "19           Escentric Molecules Escentric 02  0.5  Escentric Molecules   \n",
       "20                               The Only One  1.0        Dolce&Gabbana   \n",
       "21           Flora by Gucci Gorgeous Gardenia  1.0                Gucci   \n",
       "22      La Petite Robe Noire Ma Robe Cocktail  1.0             Guerlain   \n",
       "23  La Petite Robe Noire Ma Robe Sous le Vent  1.0             Guerlain   \n",
       "\n",
       "      страна  сегмент  концентрация  стойкость минимум (ч)  \\\n",
       "0    Франция      0.5           0.8               0.166667   \n",
       "1     Италия      0.5           0.4               1.000000   \n",
       "2        ОАЭ      0.5           1.0               0.416667   \n",
       "3        ОАЭ      1.0           0.8               0.416667   \n",
       "4        ОАЭ      0.0           0.6                    NaN   \n",
       "5        ОАЭ      0.5           0.6                    NaN   \n",
       "6        ОАЭ      0.0           0.6               0.416667   \n",
       "7        США      0.5           0.4               0.166667   \n",
       "8        США      0.5           0.4               0.166667   \n",
       "9    Франция      0.5           0.4               0.166667   \n",
       "10   Франция      0.5           0.6               1.000000   \n",
       "11   Франция      0.5           0.6               1.000000   \n",
       "12       США      1.0           0.6               0.416667   \n",
       "13    Россия      0.0           0.6               0.416667   \n",
       "14   Франция      0.5           0.6               1.000000   \n",
       "15    Италия      0.5           0.6               0.166667   \n",
       "16   Франция      0.5           0.4               0.166667   \n",
       "17   Франция      0.5           0.8               1.000000   \n",
       "18    Италия      0.5           0.6               0.666667   \n",
       "19  Германия      1.0           0.8               0.416667   \n",
       "20    Италия      0.5           0.6               0.166667   \n",
       "21    Италия      0.5           0.4               1.000000   \n",
       "22   Франция      0.5           0.4               0.416667   \n",
       "23   Франция      0.5           0.6               0.416667   \n",
       "\n",
       "    стойкость максимум (ч)  шлейф  возраст (до 18)  возраст (до 26)  \\\n",
       "0                    0.005   0.50                1                1   \n",
       "1                    1.000   1.00                1                1   \n",
       "2                    0.012   0.50                1                1   \n",
       "3                    0.012   0.50                0                0   \n",
       "4                      NaN   0.50                0                0   \n",
       "5                      NaN   0.50                0                0   \n",
       "6                    0.012   0.75                1                1   \n",
       "7                    0.005   0.50                0                1   \n",
       "8                    0.005   0.50                0                1   \n",
       "9                    0.005   0.50                1                0   \n",
       "10                   1.000   1.00                1                1   \n",
       "11                   1.000   0.50                0                0   \n",
       "12                   0.012   0.75                0                0   \n",
       "13                   0.012   0.50                0                0   \n",
       "14                   1.000   0.50                0                1   \n",
       "15                   0.005   0.50                1                1   \n",
       "16                   0.005   0.50                1                1   \n",
       "17                   1.000   0.50                0                0   \n",
       "18                   1.000   0.50                0                0   \n",
       "19                   0.012   0.50                1                1   \n",
       "20                   0.005   0.50                0                0   \n",
       "21                   1.000   0.50                1                1   \n",
       "22                   0.012   0.75                1                1   \n",
       "23                   0.012   0.50                0                1   \n",
       "\n",
       "    возраст (до 35)  возраст (до 45)  возраст (после 45)  цена за 1 мл  лето  \\\n",
       "0                 1                1                   1      0.030009     0   \n",
       "1                 1                1                   1      0.016605     1   \n",
       "2                 1                1                   1      0.001804     0   \n",
       "3                 1                1                   1      0.068557     1   \n",
       "4                 0                1                   1      0.000000     0   \n",
       "5                 0                0                   0      0.020728     0   \n",
       "6                 1                0                   0      0.000082     0   \n",
       "7                 1                0                   0      0.009066     1   \n",
       "8                 1                0                   0      0.010716     0   \n",
       "9                 0                0                   0      0.018019     1   \n",
       "10                1                1                   1      0.027520     0   \n",
       "11                0                1                   0      0.018901     0   \n",
       "12                0                0                   1      1.000000     0   \n",
       "13                1                1                   1      0.002786     0   \n",
       "14                1                1                   0      0.005157     1   \n",
       "15                1                1                   1      0.008927     0   \n",
       "16                1                0                   0      0.037890     1   \n",
       "17                0                1                   0      0.208189     0   \n",
       "18                0                0                   0      0.032263     0   \n",
       "19                1                1                   1      0.016293     1   \n",
       "20                1                0                   0      0.029133     0   \n",
       "21                1                1                   1      0.058167     1   \n",
       "22                1                1                   1      0.013483     0   \n",
       "23                1                1                   1      0.023349     0   \n",
       "\n",
       "    весна  зима  осень  альдегиды  амбра  амброксан  ананас  апельсин  \\\n",
       "0       0     1      1          0      1          0       0         0   \n",
       "1       1     0      0          0      0          0       0         0   \n",
       "2       0     0      0          0      0          0       0         0   \n",
       "3       1     1      1          0      0          0       1         0   \n",
       "4       0     0      0          0      0          0       0         0   \n",
       "5       0     0      0          0      0          0       0         0   \n",
       "6       1     1      0          0      0          0       0         0   \n",
       "7       1     0      0          0      0          0       0         1   \n",
       "8       0     1      1          0      0          0       0         0   \n",
       "9       1     0      0          0      0          0       0         0   \n",
       "10      0     1      0          0      1          0       0         0   \n",
       "11      1     1      0          0      1          0       0         0   \n",
       "12      0     1      1          0      1          0       0         0   \n",
       "13      0     0      1          0      1          0       0         0   \n",
       "14      1     0      0          0      0          0       0         0   \n",
       "15      1     0      1          0      0          0       0         0   \n",
       "16      0     0      0          0      0          0       0         0   \n",
       "17      0     1      1          1      0          0       0         0   \n",
       "18      0     1      1          0      1          0       0         0   \n",
       "19      0     0      0          0      1          1       0         0   \n",
       "20      0     1      1          0      1          0       0         0   \n",
       "21      1     0      0          0      0          0       0         0   \n",
       "22      0     0      0          0      0          0       0         0   \n",
       "23      0     1      0          0      0          0       0         0   \n",
       "\n",
       "    апельсиновый цвет  арбуз  белые цветы  белый перец  бензоин  бергамот  \\\n",
       "0                   0      0            0            0        0         0   \n",
       "1                   0      1            0            0        0         0   \n",
       "2                   0      0            0            0        0         0   \n",
       "3                   0      0            0            0        0         0   \n",
       "4                   0      0            1            0        0         0   \n",
       "5                   0      0            0            0        0         1   \n",
       "6                   0      0            0            0        0         0   \n",
       "7                   0      0            0            0        0         1   \n",
       "8                   0      0            0            1        0         0   \n",
       "9                   0      0            0            0        0         1   \n",
       "10                  0      0            0            0        0         0   \n",
       "11                  0      0            0            0        0         0   \n",
       "12                  0      0            0            0        1         0   \n",
       "13                  0      0            0            0        0         0   \n",
       "14                  0      0            0            0        0         0   \n",
       "15                  0      0            0            0        0         0   \n",
       "16                  0      0            0            0        0         0   \n",
       "17                  0      0            0            0        0         0   \n",
       "18                  0      0            0            0        0         0   \n",
       "19                  0      0            0            0        0         0   \n",
       "20                  0      0            0            0        0         0   \n",
       "21                  0      0            0            0        0         0   \n",
       "22                  0      0            0            0        0         0   \n",
       "23                  1      0            0            0        0         0   \n",
       "\n",
       "    береза  бобы  бумага  ваниль  ветивер  вишня  гардения  гвоздика  герань  \\\n",
       "0        0     1       0       1        1      0         0         1       0   \n",
       "1        0     0       0       0        0      0         0         0       0   \n",
       "2        0     0       0       0        0      0         0         0       0   \n",
       "3        0     0       0       0        0      0         0         0       0   \n",
       "4        0     0       0       0        0      0         0         0       0   \n",
       "5        0     0       0       0        1      0         0         0       0   \n",
       "6        0     0       0       0        0      0         0         0       0   \n",
       "7        0     0       0       0        0      0         0         0       0   \n",
       "8        0     1       0       0        0      0         0         1       0   \n",
       "9        0     0       0       0        1      0         0         0       1   \n",
       "10       0     1       0       1        0      0         0         0       0   \n",
       "11       0     1       0       1        0      0         0         0       0   \n",
       "12       0     0       0       1        0      0         0         0       0   \n",
       "13       0     0       0       1        0      0         1         0       0   \n",
       "14       0     0       0       0        0      0         0         0       0   \n",
       "15       0     0       0       0        1      0         0         1       0   \n",
       "16       1     0       0       0        1      0         0         1       0   \n",
       "17       0     0       0       0        1      0         0         0       0   \n",
       "18       0     0       0       1        0      0         0         0       0   \n",
       "19       0     0       1       1        0      0         0         0       0   \n",
       "20       0     0       0       1        0      0         0         0       0   \n",
       "21       0     0       0       0        0      0         1         0       0   \n",
       "22       0     0       0       0        0      1         0         0       0   \n",
       "23       0     1       0       0        0      0         0         0       0   \n",
       "\n",
       "    грейпфрут  груша  древесный аккорд  дубовый мох  дыня  жасмин  \\\n",
       "0           0      0                 0            0     0       1   \n",
       "1           0      0                 0            0     0       1   \n",
       "2           0      0                 1            0     0       0   \n",
       "3           0      0                 0            0     0       0   \n",
       "4           0      0                 1            0     0       1   \n",
       "5           0      0                 0            0     1       1   \n",
       "6           0      0                 0            0     0       1   \n",
       "7           1      0                 0            0     0       0   \n",
       "8           0      0                 0            0     0       0   \n",
       "9           0      0                 0            0     0       0   \n",
       "10          0      0                 0            1     0       0   \n",
       "11          0      0                 0            0     0       1   \n",
       "12          0      0                 0            0     0       1   \n",
       "13          0      0                 0            0     0       0   \n",
       "14          0      0                 0            0     0       0   \n",
       "15          0      1                 0            0     0       0   \n",
       "16          0      0                 0            1     0       0   \n",
       "17          0      0                 0            1     0       1   \n",
       "18          0      0                 0            0     0       0   \n",
       "19          0      0                 0            0     0       1   \n",
       "20          0      1                 0            0     0       0   \n",
       "21          0      1                 0            0     0       0   \n",
       "22          0      0                 0            0     0       1   \n",
       "23          0      0                 0            0     0       1   \n",
       "\n",
       "    женственный  жженый сахар  замша  зеленое яблоко  зеленый аккорд  злаки  \\\n",
       "0             0             0      0               0               0      0   \n",
       "1             0             0      0               0               0      0   \n",
       "2             0             0      0               0               0      0   \n",
       "3             0             0      0               0               0      0   \n",
       "4             0             0      0               0               0      0   \n",
       "5             0             0      0               0               0      0   \n",
       "6             0             0      0               0               0      0   \n",
       "7             0             0      0               0               0      0   \n",
       "8             0             0      0               0               0      0   \n",
       "9             0             0      1               0               0      0   \n",
       "10            0             1      0               0               0      0   \n",
       "11            0             0      0               0               1      0   \n",
       "12            0             0      0               0               0      0   \n",
       "13            0             0      0               0               0      0   \n",
       "14            0             0      0               0               0      1   \n",
       "15            0             0      0               0               0      0   \n",
       "16            0             0      0               0               0      0   \n",
       "17            0             0      0               0               0      0   \n",
       "18            0             0      0               0               0      0   \n",
       "19            0             0      0               0               0      0   \n",
       "20            0             0      0               0               0      0   \n",
       "21            0             0      0               0               0      0   \n",
       "22            1             0      0               0               1      0   \n",
       "23            0             0      0               0               0      0   \n",
       "\n",
       "    иланг-иланг  имбирь  ирис  какао  карамель  кардамон  кашмеран  кедр  \\\n",
       "0             0       1     1      0         1         0         0     0   \n",
       "1             0       0     0      0         0         0         0     0   \n",
       "2             0       0     0      0         0         0         0     1   \n",
       "3             0       0     0      0         0         0         0     0   \n",
       "4             0       0     0      0         0         0         0     0   \n",
       "5             0       0     1      0         0         0         0     1   \n",
       "6             0       0     0      0         0         0         0     0   \n",
       "7             0       0     0      0         0         0         0     0   \n",
       "8             0       1     0      1         0         0         0     1   \n",
       "9             1       0     0      0         0         1         0     1   \n",
       "10            1       0     0      0         1         0         0     0   \n",
       "11            1       0     1      0         1         0         0     1   \n",
       "12            0       0     0      0         1         0         0     0   \n",
       "13            0       0     0      0         1         0         1     0   \n",
       "14            0       0     0      0         0         0         0     0   \n",
       "15            0       1     0      0         0         0         1     1   \n",
       "16            0       1     1      0         0         1         0     1   \n",
       "17            1       0     1      0         0         0         0     0   \n",
       "18            0       0     0      0         1         0         0     0   \n",
       "19            0       0     1      0         1         0         0     0   \n",
       "20            0       0     1      0         1         0         0     0   \n",
       "21            0       0     0      0         0         0         0     0   \n",
       "22            0       0     0      0         0         0         0     0   \n",
       "23            0       0     0      0         0         0         0     0   \n",
       "\n",
       "    киви  клубника  кожа  кожаный аккорд  корень фиалки  кориандр  корица  \\\n",
       "0      0         0     0               1              0         0       1   \n",
       "1      1         0     0               0              0         0       0   \n",
       "2      0         0     0               0              0         0       0   \n",
       "3      1         0     0               0              0         0       0   \n",
       "4      0         1     0               0              0         0       0   \n",
       "5      0         0     0               0              0         0       0   \n",
       "6      0         0     0               0              0         0       0   \n",
       "7      0         0     0               0              0         0       0   \n",
       "8      0         0     0               0              0         0       1   \n",
       "9      0         0     1               1              0         0       0   \n",
       "10     0         0     0               0              0         0       0   \n",
       "11     0         0     0               0              1         0       0   \n",
       "12     0         0     0               0              0         0       0   \n",
       "13     0         0     0               0              0         0       0   \n",
       "14     0         0     0               0              0         0       0   \n",
       "15     0         0     0               0              0         0       1   \n",
       "16     0         0     0               1              0         1       1   \n",
       "17     0         0     0               0              0         0       0   \n",
       "18     0         0     0               1              0         0       0   \n",
       "19     0         0     0               0              0         0       0   \n",
       "20     0         0     0               0              0         0       0   \n",
       "21     0         0     0               0              0         0       0   \n",
       "22     0         0     0               0              0         0       0   \n",
       "23     0         0     0               0              0         0       0   \n",
       "\n",
       "    коричневый сахар  кофе  красное яблоко  лаванда  ладан  ландыш  лен  \\\n",
       "0                  0     1               0        0      1       0    0   \n",
       "1                  0     0               0        0      0       0    0   \n",
       "2                  0     0               0        0      0       0    0   \n",
       "3                  0     0               0        0      0       0    0   \n",
       "4                  0     0               0        0      0       0    0   \n",
       "5                  0     0               0        0      0       0    0   \n",
       "6                  0     0               0        0      0       0    0   \n",
       "7                  0     0               0        0      0       0    0   \n",
       "8                  0     0               0        0      0       0    0   \n",
       "9                  0     0               0        1      0       0    0   \n",
       "10                 0     1               0        0      1       0    0   \n",
       "11                 0     1               0        0      1       0    0   \n",
       "12                 0     1               0        0      1       0    0   \n",
       "13                 0     1               1        0      1       0    0   \n",
       "14                 0     0               0        0      0       0    0   \n",
       "15                 0     0               0        0      0       0    1   \n",
       "16                 0     0               0        0      0       0    0   \n",
       "17                 0     0               0        0      0       1    0   \n",
       "18                 0     1               0        0      1       0    0   \n",
       "19                 0     1               0        0      1       0    0   \n",
       "20                 0     1               0        0      1       0    0   \n",
       "21                 1     0               0        0      0       0    0   \n",
       "22                 0     0               0        0      0       0    0   \n",
       "23                 0     0               0        0      0       0    0   \n",
       "\n",
       "    лилия  лимон  личи  магнолия  малина  мандарин  миндаль  можжевельник  \\\n",
       "0       0      0     0         0       0         1        0             0   \n",
       "1       0      0     0         0       0         0        0             0   \n",
       "2       0      0     0         0       0         0        0             0   \n",
       "3       0      0     0         0       0         0        0             0   \n",
       "4       0      0     0         0       0         0        0             0   \n",
       "5       0      0     0         0       0         0        0             0   \n",
       "6       0      0     0         0       0         0        0             0   \n",
       "7       0      1     0         0       0         0        0             0   \n",
       "8       0      0     0         0       0         0        0             0   \n",
       "9       0      0     0         0       0         0        0             0   \n",
       "10      1      0     0         0       0         1        0             0   \n",
       "11      0      0     0         0       0         0        0             0   \n",
       "12      0      0     0         0       0         0        0             0   \n",
       "13      0      0     1         0       0         1        0             0   \n",
       "14      0      0     0         0       0         0        0             0   \n",
       "15      0      0     0         1       0         0        0             0   \n",
       "16      0      0     0         0       0         1        0             1   \n",
       "17      0      0     0         0       0         0        0             0   \n",
       "18      0      0     0         0       0         0        0             0   \n",
       "19      0      0     0         0       0         0        0             0   \n",
       "20      0      0     0         0       0         0        0             0   \n",
       "21      0      0     0         0       0         0        0             0   \n",
       "22      0      0     0         0       0         0        1             0   \n",
       "23      0      0     0         0       1         0        0             0   \n",
       "\n",
       "    мох  мускатный орех  мускус  нарцисс  нежный  нероли  опопанакс  орхидея  \\\n",
       "0     0               0       1        0       0       0          1        0   \n",
       "1     0               0       0        0       0       0          0        0   \n",
       "2     1               0       0        0       0       0          0        0   \n",
       "3     0               0       0        0       0       0          0        0   \n",
       "4     0               1       0        0       0       0          0        0   \n",
       "5     1               0       0        0       0       0          0        0   \n",
       "6     0               0       0        0       0       0          0        0   \n",
       "7     0               0       0        0       0       0          0        0   \n",
       "8     1               0       0        0       0       0          0        0   \n",
       "9     1               0       0        0       0       0          0        0   \n",
       "10    0               0       1        0       0       0          0        1   \n",
       "11    1               0       1        1       0       0          0        0   \n",
       "12    0               1       1        0       0       0          0        0   \n",
       "13    0               0       1        0       0       0          0        1   \n",
       "14    0               0       0        0       0       0          0        0   \n",
       "15    1               1       0        0       0       0          0        0   \n",
       "16    1               0       0        0       0       1          0        0   \n",
       "17    0               0       0        0       0       1          0        0   \n",
       "18    0               0       1        0       0       0          0        0   \n",
       "19    0               0       1        0       0       0          0        0   \n",
       "20    0               0       1        0       0       0          0        0   \n",
       "21    0               0       0        0       0       0          0        0   \n",
       "22    0               0       0        0       1       0          0        0   \n",
       "23    0               0       0        0       0       0          0        0   \n",
       "\n",
       "    османтус  палисандр  пачули  пион  повседневный  полынь  праздничный  \\\n",
       "0          0          0       1     0             0       0            0   \n",
       "1          0          0       0     0             1       0            0   \n",
       "2          0          0       0     0             0       0            0   \n",
       "3          0          0       0     0             0       0            0   \n",
       "4          0          0       0     0             0       0            0   \n",
       "5          0          0       1     0             0       0            0   \n",
       "6          0          0       0     0             0       0            0   \n",
       "7          0          0       0     0             0       0            0   \n",
       "8          0          0       0     0             0       0            0   \n",
       "9          0          0       0     0             1       0            0   \n",
       "10         0          1       0     0             0       0            0   \n",
       "11         0          0       0     0             0       0            0   \n",
       "12         1          0       0     0             0       0            0   \n",
       "13         0          0       1     0             0       0            0   \n",
       "14         1          0       0     1             1       0            0   \n",
       "15         0          0       0     0             1       0            0   \n",
       "16         0          0       0     0             1       1            0   \n",
       "17         0          0       1     0             0       0            1   \n",
       "18         0          0       0     0             0       0            0   \n",
       "19         0          0       0     0             1       0            0   \n",
       "20         0          0       1     0             0       0            0   \n",
       "21         0          0       1     0             1       0            0   \n",
       "22         0          0       0     0             0       0            0   \n",
       "23         0          0       1     0             0       0            0   \n",
       "\n",
       "    ревень  роза  розмарин  розовый перец  сандал  сахар  свежий  сексуальный  \\\n",
       "0        0     1         0              0       0      0       0            0   \n",
       "1        1     0         0              1       0      0       1            0   \n",
       "2        0     0         0              0       1      0       1            0   \n",
       "3        0     0         0              0       0      1       1            0   \n",
       "4        0     0         0              0       0      0       1            0   \n",
       "5        0     0         0              0       1      0       1            0   \n",
       "6        0     0         0              0       0      0       1            0   \n",
       "7        0     0         0              0       0      0       1            0   \n",
       "8        0     0         0              0       1      0       0            0   \n",
       "9        0     0         1              0       1      0       0            0   \n",
       "10       0     1         0              0       0      0       1            1   \n",
       "11       0     1         0              0       1      0       0            0   \n",
       "12       0     1         0              0       0      0       0            0   \n",
       "13       0     1         0              0       0      0       1            0   \n",
       "14       0     0         0              0       0      0       1            0   \n",
       "15       0     0         0              1       1      0       0            0   \n",
       "16       0     0         0              0       1      0       0            0   \n",
       "17       0     0         0              0       0      0       1            0   \n",
       "18       0     1         0              0       0      0       0            0   \n",
       "19       0     1         0              0       0      0       1            0   \n",
       "20       0     1         0              0       0      0       1            1   \n",
       "21       0     0         0              1       0      0       1            0   \n",
       "22       0     0         0              0       0      0       1            0   \n",
       "23       0     0         0              0       0      0       1            0   \n",
       "\n",
       "    силколид  сирень  сладкая вата  сладкий  слива  специи  спортивный  \\\n",
       "0          0       0             0        0      0       0           0   \n",
       "1          0       0             0        1      0       0           0   \n",
       "2          0       0             0        1      0       1           0   \n",
       "3          0       0             0        1      0       0           0   \n",
       "4          0       0             0        1      0       0           0   \n",
       "5          0       0             0        1      1       0           0   \n",
       "6          0       0             0        1      0       0           0   \n",
       "7          0       0             0        0      0       0           1   \n",
       "8          0       0             0        1      0       0           0   \n",
       "9          0       0             0        1      0       0           0   \n",
       "10         0       0             0        1      0       1           0   \n",
       "11         0       0             0        1      0       0           0   \n",
       "12         0       0             0        0      0       0           0   \n",
       "13         0       0             0        1      0       0           0   \n",
       "14         0       1             0        1      0       0           0   \n",
       "15         1       0             0        1      0       0           0   \n",
       "16         0       0             0        1      0       0           0   \n",
       "17         0       0             0        1      0       0           0   \n",
       "18         0       0             0        0      0       0           0   \n",
       "19         0       0             0        1      0       0           0   \n",
       "20         0       0             0        1      0       0           0   \n",
       "21         0       0             0        1      0       0           0   \n",
       "22         0       0             0        1      0       0           0   \n",
       "23         0       0             1        1      0       0           0   \n",
       "\n",
       "    стойкий  тиаре  тимьян  тмин  тропические фрукты  тубероза  уд  фиалка  \\\n",
       "0         0      0       0     0                   0         0   0       0   \n",
       "1         0      0       0     0                   1         0   0       0   \n",
       "2         0      0       0     0                   0         0   0       0   \n",
       "3         0      1       0     0                   0         0   0       0   \n",
       "4         0      0       0     0                   0         0   0       0   \n",
       "5         0      0       0     0                   0         0   0       0   \n",
       "6         0      0       0     0                   0         0   0       1   \n",
       "7         0      0       0     0                   0         0   0       0   \n",
       "8         0      0       0     0                   0         0   0       0   \n",
       "9         0      0       0     0                   0         1   0       0   \n",
       "10        0      0       1     0                   0         0   0       0   \n",
       "11        0      0       0     0                   0         0   0       1   \n",
       "12        0      0       0     0                   0         0   1       0   \n",
       "13        0      0       0     0                   0         0   0       0   \n",
       "14        0      0       0     0                   0         0   0       0   \n",
       "15        0      0       0     0                   0         0   0       0   \n",
       "16        0      0       0     1                   0         0   0       0   \n",
       "17        0      0       0     0                   0         0   0       0   \n",
       "18        0      0       0     0                   0         0   0       0   \n",
       "19        0      0       0     0                   0         0   0       0   \n",
       "20        0      0       0     0                   0         0   0       1   \n",
       "21        0      0       0     0                   0         0   0       0   \n",
       "22        1      0       0     0                   0         0   0       0   \n",
       "23        0      0       0     0                   0         0   0       0   \n",
       "\n",
       "    франжипани  цвет персика  цибетин  цикламен  цитрусы  чай  \\\n",
       "0            0             0        1         0        1    0   \n",
       "1            0             0        0         1        0    0   \n",
       "2            0             0        0         0        0    0   \n",
       "3            0             0        0         0        0    0   \n",
       "4            0             0        0         0        0    0   \n",
       "5            0             0        0         0        0    0   \n",
       "6            0             0        0         0        0    0   \n",
       "7            0             0        0         0        0    1   \n",
       "8            0             0        0         0        0    0   \n",
       "9            0             0        0         0        0    0   \n",
       "10           0             0        0         0        0    0   \n",
       "11           0             1        0         0        0    0   \n",
       "12           0             0        0         0        0    0   \n",
       "13           0             0        0         0        0    0   \n",
       "14           0             1        0         0        0    1   \n",
       "15           0             0        0         0        0    0   \n",
       "16           0             0        0         0        0    1   \n",
       "17           0             0        1         0        0    0   \n",
       "18           0             0        0         0        0    0   \n",
       "19           0             0        0         0        0    0   \n",
       "20           0             0        0         0        0    0   \n",
       "21           1             0        0         0        0    0   \n",
       "22           0             0        0         0        0    0   \n",
       "23           0             0        0         0        0    0   \n",
       "\n",
       "    черная смородина  черника  черный перец  чистый  шалфей  шафран  элеми  \\\n",
       "0                  0        0             0       0       0       0      0   \n",
       "1                  0        0             0       0       0       0      0   \n",
       "2                  0        0             0       0       0       0      0   \n",
       "3                  0        0             0       0       0       0      0   \n",
       "4                  0        0             0       0       0       0      0   \n",
       "5                  1        0             0       0       0       0      0   \n",
       "6                  1        0             0       0       0       0      0   \n",
       "7                  0        0             0       0       0       0      0   \n",
       "8                  0        0             1       0       1       0      0   \n",
       "9                  0        0             0       0       0       0      0   \n",
       "10                 0        0             0       0       0       1      0   \n",
       "11                 0        0             0       0       0       0      0   \n",
       "12                 0        0             1       0       0       1      0   \n",
       "13                 1        0             0       0       0       0      0   \n",
       "14                 0        0             0       1       0       0      0   \n",
       "15                 0        0             0       0       0       0      1   \n",
       "16                 0        0             1       0       0       0      0   \n",
       "17                 0        0             0       1       0       0      0   \n",
       "18                 0        0             0       0       0       0      0   \n",
       "19                 0        0             0       1       0       0      0   \n",
       "20                 0        0             0       0       0       0      0   \n",
       "21                 0        0             0       0       0       0      0   \n",
       "22                 0        0             0       0       0       0      0   \n",
       "23                 1        1             0       0       0       0      0   \n",
       "\n",
       "    яблоко  янтарь  ароматические семейства  пряные семейства  \\\n",
       "0        0       0                        0                 1   \n",
       "1        0       0                        0                 0   \n",
       "2        0       0                        0                 0   \n",
       "3        0       0                        0                 0   \n",
       "4        0       0                        0                 0   \n",
       "5        1       0                        0                 0   \n",
       "6        0       0                        0                 0   \n",
       "7        0       0                        1                 0   \n",
       "8        0       1                        0                 1   \n",
       "9        0       0                        0                 0   \n",
       "10       0       0                        0                 0   \n",
       "11       0       0                        0                 0   \n",
       "12       0       0                        0                 0   \n",
       "13       0       0                        0                 0   \n",
       "14       0       0                        0                 0   \n",
       "15       0       0                        0                 1   \n",
       "16       0       0                        0                 1   \n",
       "17       0       0                        0                 0   \n",
       "18       0       0                        0                 0   \n",
       "19       0       0                        0                 0   \n",
       "20       0       0                        0                 0   \n",
       "21       0       0                        0                 0   \n",
       "22       1       0                        0                 0   \n",
       "23       0       0                        0                 0   \n",
       "\n",
       "    фужерные семейства  цитрусовые семейства  амбровые семейства  \\\n",
       "0                    0                     0                   0   \n",
       "1                    0                     0                   0   \n",
       "2                    0                     0                   0   \n",
       "3                    0                     0                   0   \n",
       "4                    0                     0                   0   \n",
       "5                    0                     0                   0   \n",
       "6                    0                     0                   0   \n",
       "7                    0                     1                   0   \n",
       "8                    0                     0                   0   \n",
       "9                    1                     0                   0   \n",
       "10                   0                     0                   0   \n",
       "11                   0                     0                   0   \n",
       "12                   0                     0                   1   \n",
       "13                   0                     0                   0   \n",
       "14                   0                     0                   0   \n",
       "15                   0                     0                   0   \n",
       "16                   0                     0                   0   \n",
       "17                   0                     0                   0   \n",
       "18                   0                     0                   1   \n",
       "19                   0                     0                   0   \n",
       "20                   0                     0                   0   \n",
       "21                   0                     0                   0   \n",
       "22                   0                     0                   0   \n",
       "23                   0                     0                   0   \n",
       "\n",
       "    водные семейства  восточные семейства  ванильные семейства  \\\n",
       "0                  0                    1                    0   \n",
       "1                  1                    0                    0   \n",
       "2                  0                    0                    0   \n",
       "3                  0                    0                    0   \n",
       "4                  0                    0                    0   \n",
       "5                  0                    0                    0   \n",
       "6                  0                    0                    0   \n",
       "7                  0                    0                    0   \n",
       "8                  0                    0                    0   \n",
       "9                  0                    0                    0   \n",
       "10                 0                    1                    0   \n",
       "11                 0                    1                    0   \n",
       "12                 0                    1                    1   \n",
       "13                 0                    1                    1   \n",
       "14                 0                    0                    0   \n",
       "15                 0                    0                    0   \n",
       "16                 0                    0                    0   \n",
       "17                 0                    0                    0   \n",
       "18                 0                    1                    1   \n",
       "19                 0                    1                    0   \n",
       "20                 0                    1                    0   \n",
       "21                 0                    0                    0   \n",
       "22                 0                    0                    0   \n",
       "23                 0                    0                    0   \n",
       "\n",
       "    сладкие семейства  цветочные семейства  древесные семейства  \\\n",
       "0                   0                    0                    0   \n",
       "1                   0                    1                    0   \n",
       "2                   0                    1                    1   \n",
       "3                   1                    1                    0   \n",
       "4                   1                    1                    0   \n",
       "5                   0                    1                    1   \n",
       "6                   0                    1                    0   \n",
       "7                   0                    0                    0   \n",
       "8                   0                    0                    1   \n",
       "9                   0                    0                    1   \n",
       "10                  0                    1                    0   \n",
       "11                  0                    0                    1   \n",
       "12                  0                    0                    0   \n",
       "13                  0                    0                    0   \n",
       "14                  0                    1                    0   \n",
       "15                  0                    0                    1   \n",
       "16                  0                    0                    1   \n",
       "17                  0                    1                    0   \n",
       "18                  0                    0                    0   \n",
       "19                  0                    1                    0   \n",
       "20                  0                    1                    0   \n",
       "21                  0                    1                    0   \n",
       "22                  0                    1                    0   \n",
       "23                  0                    1                    0   \n",
       "\n",
       "    мускусные семейства  шипровые семейства  фруктовые семейства  активный  \\\n",
       "0                     0                   0                    0         1   \n",
       "1                     0                   0                    0         0   \n",
       "2                     1                   0                    0         0   \n",
       "3                     0                   0                    1         0   \n",
       "4                     0                   0                    0         0   \n",
       "5                     0                   1                    0         0   \n",
       "6                     0                   0                    0         0   \n",
       "7                     0                   0                    0         0   \n",
       "8                     0                   0                    0         1   \n",
       "9                     0                   0                    0         0   \n",
       "10                    0                   0                    0         0   \n",
       "11                    0                   0                    0         0   \n",
       "12                    0                   0                    0         0   \n",
       "13                    0                   0                    1         0   \n",
       "14                    0                   0                    1         0   \n",
       "15                    0                   0                    0         1   \n",
       "16                    0                   0                    0         1   \n",
       "17                    0                   0                    0         0   \n",
       "18                    0                   0                    0         0   \n",
       "19                    0                   0                    0         0   \n",
       "20                    0                   0                    0         0   \n",
       "21                    0                   0                    1         0   \n",
       "22                    0                   0                    1         0   \n",
       "23                    0                   0                    1         0   \n",
       "\n",
       "    белый чай  благовоние  бодрящий  виноград  горный воздух  древесный  дым  \\\n",
       "0           0           1         0         0              0          1    1   \n",
       "1           0           0         0         0              0          0    0   \n",
       "2           0           0         0         0              0          1    1   \n",
       "3           0           0         0         0              0          0    0   \n",
       "4           0           0         0         0              0          0    0   \n",
       "5           0           0         0         0              0          1    1   \n",
       "6           0           0         0         0              0          0    0   \n",
       "7           0           0         1         1              0          0    0   \n",
       "8           0           0         0         0              0          1    1   \n",
       "9           0           0         0         0              0          1    1   \n",
       "10          0           1         0         0              0          1    1   \n",
       "11          0           1         0         0              0          1    1   \n",
       "12          0           1         0         0              0          1    1   \n",
       "13          0           1         0         0              0          1    1   \n",
       "14          0           0         0         0              0          0    0   \n",
       "15          0           0         0         0              0          1    1   \n",
       "16          0           0         0         0              0          1    1   \n",
       "17          0           0         0         0              0          0    0   \n",
       "18          0           1         0         0              0          1    1   \n",
       "19          0           1         0         0              0          1    1   \n",
       "20          0           1         0         0              0          1    1   \n",
       "21          0           0         0         0              0          0    0   \n",
       "22          0           0         0         0              0          0    0   \n",
       "23          0           0         0         0              0          0    0   \n",
       "\n",
       "    жизнерадостный  зеленый чай  земля  игривый  интенсивный  куркума  лайм  \\\n",
       "0                0            0      0        0            1        1     0   \n",
       "1                0            0      0        0            0        0     0   \n",
       "2                0            0      1        0            0        0     0   \n",
       "3                0            0      0        1            0        0     0   \n",
       "4                0            0      0        0            0        0     0   \n",
       "5                0            0      1        0            0        0     0   \n",
       "6                0            0      0        0            0        0     0   \n",
       "7                1            0      0        0            1        0     1   \n",
       "8                0            0      1        0            0        1     0   \n",
       "9                0            0      1        0            0        0     0   \n",
       "10               0            0      0        0            1        0     0   \n",
       "11               0            0      1        0            1        0     0   \n",
       "12               0            0      0        0            1        0     0   \n",
       "13               0            0      0        1            1        0     0   \n",
       "14               0            0      0        1            0        0     0   \n",
       "15               0            0      1        0            0        1     0   \n",
       "16               0            0      1        0            0        1     0   \n",
       "17               0            0      0        0            0        0     0   \n",
       "18               0            0      0        0            1        0     0   \n",
       "19               0            0      0        0            1        0     0   \n",
       "20               0            0      0        0            1        0     0   \n",
       "21               0            0      0        1            0        0     0   \n",
       "22               0            0      0        1            0        0     0   \n",
       "23               0            0      0        1            0        0     0   \n",
       "\n",
       "    легкий  листья  массивный  металл  морозная свежесть  морской  мягкий  \\\n",
       "0        0       0          0       0                  0        0       0   \n",
       "1        1       0          1       0                  0        0       0   \n",
       "2        1       0          1       1                  0        0       1   \n",
       "3        1       0          1       0                  0        0       0   \n",
       "4        1       0          1       0                  0        0       0   \n",
       "5        1       0          1       1                  0        0       0   \n",
       "6        1       0          1       0                  0        0       0   \n",
       "7        1       0          0       0                  0        0       0   \n",
       "8        0       0          0       1                  0        0       0   \n",
       "9        0       1          0       1                  0        0       0   \n",
       "10       1       0          1       0                  0        0       0   \n",
       "11       0       0          0       1                  0        0       0   \n",
       "12       0       0          0       0                  0        0       0   \n",
       "13       0       0          0       0                  0        0       0   \n",
       "14       1       0          1       0                  0        0       0   \n",
       "15       0       0          0       1                  0        0       0   \n",
       "16       0       0          0       1                  0        0       0   \n",
       "17       1       0          1       0                  0        0       0   \n",
       "18       0       0          0       0                  0        0       0   \n",
       "19       1       0          1       0                  0        0       0   \n",
       "20       1       0          1       0                  0        0       0   \n",
       "21       1       0          1       0                  0        0       0   \n",
       "22       1       0          1       0                  0        0       0   \n",
       "23       1       0          1       0                  0        0       0   \n",
       "\n",
       "    насыщенный  ненавязчивый  необычный  огурец  орех  острый  папоротник  \\\n",
       "0            1             0          0       0     1       1           0   \n",
       "1            0             0          0       0     0       0           0   \n",
       "2            0             1          0       0     0       0           1   \n",
       "3            0             0          1       0     0       0           0   \n",
       "4            0             0          0       0     0       0           0   \n",
       "5            0             0          0       0     0       0           1   \n",
       "6            0             0          0       0     0       0           0   \n",
       "7            0             0          0       0     0       0           0   \n",
       "8            0             0          0       0     1       1           1   \n",
       "9            0             0          0       0     0       0           1   \n",
       "10           1             0          0       0     0       0           0   \n",
       "11           1             0          0       0     0       0           1   \n",
       "12           1             0          0       0     0       0           0   \n",
       "13           1             0          1       0     0       0           0   \n",
       "14           0             0          1       0     0       0           0   \n",
       "15           0             0          0       0     1       1           1   \n",
       "16           0             0          0       0     1       1           1   \n",
       "17           0             0          0       0     0       0           0   \n",
       "18           1             0          0       0     0       0           0   \n",
       "19           1             0          0       0     0       0           0   \n",
       "20           1             0          0       0     0       0           0   \n",
       "21           0             0          1       0     0       0           0   \n",
       "22           0             0          1       0     0       0           0   \n",
       "23           0             0          1       0     0       0           0   \n",
       "\n",
       "    перец  персик  плотный  притягательный  пряно-горький  пряный  роскошный  \\\n",
       "0       1       0        1               0              0       1          1   \n",
       "1       0       0        0               0              0       0          0   \n",
       "2       0       0        0               1              0       1          0   \n",
       "3       0       0        0               0              0       0          0   \n",
       "4       0       0        0               0              0       0          0   \n",
       "5       0       0        0               0              0       0          0   \n",
       "6       0       0        0               0              0       0          0   \n",
       "7       0       1        0               0              0       0          0   \n",
       "8       1       0        0               0              0       0          0   \n",
       "9       0       0        0               0              1       0          0   \n",
       "10      0       0        1               0              0       1          1   \n",
       "11      0       0        1               0              0       1          1   \n",
       "12      0       0        1               0              0       1          1   \n",
       "13      0       0        1               0              0       1          1   \n",
       "14      0       0        0               0              0       0          0   \n",
       "15      1       0        0               0              0       0          0   \n",
       "16      1       0        0               0              0       0          0   \n",
       "17      0       0        0               0              0       0          0   \n",
       "18      0       0        1               0              0       1          1   \n",
       "19      0       0        1               0              0       1          1   \n",
       "20      0       0        1               0              0       1          1   \n",
       "21      0       0        0               0              0       0          0   \n",
       "22      0       0        0               0              0       0          0   \n",
       "23      0       0        0               0              0       0          0   \n",
       "\n",
       "    сливочный  смола  согревающий  спокойный  сухая трава  сухой  табак  \\\n",
       "0           0      1            1          0            0      1      1   \n",
       "1           0      0            0          0            0      0      0   \n",
       "2           1      1            1          0            0      0      0   \n",
       "3           0      0            0          0            0      0      0   \n",
       "4           0      0            0          0            0      0      0   \n",
       "5           1      1            1          0            0      0      0   \n",
       "6           0      0            0          0            0      0      0   \n",
       "7           0      0            0          0            0      0      0   \n",
       "8           1      1            1          0            0      0      0   \n",
       "9           1      1            1          0            1      0      0   \n",
       "10          0      1            0          0            0      1      1   \n",
       "11          1      1            1          0            0      1      1   \n",
       "12          0      1            0          0            0      1      1   \n",
       "13          0      1            0          0            0      1      1   \n",
       "14          0      0            0          0            0      0      0   \n",
       "15          1      1            1          0            0      0      0   \n",
       "16          1      1            1          0            0      0      0   \n",
       "17          0      0            0          0            0      0      0   \n",
       "18          0      1            0          0            0      1      1   \n",
       "19          0      1            0          0            0      1      1   \n",
       "20          0      1            0          0            0      1      1   \n",
       "21          0      0            0          0            0      0      0   \n",
       "22          0      0            0          0            0      0      0   \n",
       "23          0      0            0          0            0      0      0   \n",
       "\n",
       "    таинственный  телесный  теплый  терпкий  томный  тонизирующий  тонкий  \\\n",
       "0              0         0       0        0       1             0       0   \n",
       "1              0         0       0        0       0             0       0   \n",
       "2              1         1       1        0       0             0       0   \n",
       "3              0         0       0        0       0             0       0   \n",
       "4              0         0       0        0       0             0       0   \n",
       "5              1         0       1        0       0             0       0   \n",
       "6              0         0       0        0       0             0       0   \n",
       "7              0         0       0        0       0             1       0   \n",
       "8              1         0       1        0       0             0       0   \n",
       "9              1         0       1        1       0             0       0   \n",
       "10             0         0       0        0       1             0       0   \n",
       "11             1         0       1        0       1             0       0   \n",
       "12             0         0       0        0       1             0       0   \n",
       "13             0         0       0        0       1             0       0   \n",
       "14             0         0       0        0       0             0       0   \n",
       "15             1         0       1        0       0             0       0   \n",
       "16             1         0       1        0       0             0       0   \n",
       "17             0         0       0        0       0             0       0   \n",
       "18             0         0       0        0       1             0       0   \n",
       "19             0         0       0        0       1             0       0   \n",
       "20             0         0       0        0       1             0       0   \n",
       "21             0         0       0        0       0             0       0   \n",
       "22             0         0       0        0       0             0       0   \n",
       "23             0         0       0        0       0             0       0   \n",
       "\n",
       "    торжественный  трава  тяжелый  черный чай  чувственный  шоколад  \\\n",
       "0               1      0        1           1            1        1   \n",
       "1               0      0        0           0            0        0   \n",
       "2               0      0        0           0            1        0   \n",
       "3               0      0        0           0            0        0   \n",
       "4               0      0        0           0            0        0   \n",
       "5               0      0        0           0            1        0   \n",
       "6               0      0        0           0            0        0   \n",
       "7               0      0        0           0            0        0   \n",
       "8               0      0        0           0            1        0   \n",
       "9               0      1        0           0            1        0   \n",
       "10              1      0        1           1            1        1   \n",
       "11              1      0        1           1            1        1   \n",
       "12              1      0        1           1            1        1   \n",
       "13              1      0        1           1            1        1   \n",
       "14              0      0        0           0            0        0   \n",
       "15              0      0        0           0            1        0   \n",
       "16              0      0        0           0            1        0   \n",
       "17              0      0        0           0            0        0   \n",
       "18              1      0        1           1            1        1   \n",
       "19              1      0        1           1            1        1   \n",
       "20              1      0        1           1            1        1   \n",
       "21              0      0        0           0            0        0   \n",
       "22              0      0        0           0            0        0   \n",
       "23              0      0        0           0            0        0   \n",
       "\n",
       "    энергичный  яркий  \n",
       "0            0      0  \n",
       "1            0      0  \n",
       "2            0      0  \n",
       "3            0      0  \n",
       "4            0      0  \n",
       "5            0      0  \n",
       "6            0      0  \n",
       "7            1      1  \n",
       "8            0      0  \n",
       "9            0      0  \n",
       "10           0      0  \n",
       "11           0      0  \n",
       "12           0      0  \n",
       "13           0      0  \n",
       "14           0      0  \n",
       "15           0      0  \n",
       "16           0      0  \n",
       "17           0      0  \n",
       "18           0      0  \n",
       "19           0      0  \n",
       "20           0      0  \n",
       "21           0      0  \n",
       "22           0      0  \n",
       "23           0      0  "
      ]
     },
     "metadata": {},
     "output_type": "display_data"
    }
   ],
   "source": [
    "display(df)"
   ]
  },
  {
   "cell_type": "code",
   "execution_count": 894,
   "metadata": {},
   "outputs": [],
   "source": [
    "del df[\"название\"]"
   ]
  },
  {
   "cell_type": "markdown",
   "metadata": {},
   "source": [
    "#### Матрица смежности для семейств (1 уровень)"
   ]
  },
  {
   "cell_type": "code",
   "execution_count": 895,
   "metadata": {},
   "outputs": [],
   "source": [
    "layer1 = {\"восточные\": 0, \"древесные\": 1, \"цветочные\": 2, \"цитрусовые\": 3}\n",
    "\n",
    "treeLayer1 = np.zeros((len(layer1), len(layer1)))\n",
    "treeLayer1[layer1[\"восточные\"]][layer1[\"древесные\"]] = treeLayer1[layer1[\"древесные\"]][layer1[\"восточные\"]] = 0.5\n",
    "treeLayer1[layer1[\"восточные\"]][layer1[\"цветочные\"]] = treeLayer1[layer1[\"цветочные\"]][layer1[\"восточные\"]] = 0.7\n",
    "treeLayer1[layer1[\"восточные\"]][layer1[\"цитрусовые\"]] = treeLayer1[layer1[\"цитрусовые\"]][layer1[\"восточные\"]] = 0.9\n",
    "treeLayer1[layer1[\"древесные\"]][layer1[\"цветочные\"]] = treeLayer1[layer1[\"цветочные\"]][layer1[\"древесные\"]] = 0.7\n",
    "treeLayer1[layer1[\"древесные\"]][layer1[\"цитрусовые\"]] = treeLayer1[layer1[\"цитрусовые\"]][layer1[\"древесные\"]] = 0.9\n",
    "treeLayer1[layer1[\"цветочные\"]][layer1[\"цитрусовые\"]] = treeLayer1[layer1[\"цитрусовые\"]][layer1[\"цветочные\"]] = 0.7"
   ]
  },
  {
   "cell_type": "markdown",
   "metadata": {},
   "source": [
    "#### Матрица смежности для семейств (2 уровень)"
   ]
  },
  {
   "cell_type": "code",
   "execution_count": 896,
   "metadata": {},
   "outputs": [],
   "source": [
    "layer2 = {\"цветочные\": 0, \"древесные\": 1, \"пряные\": 2, \"ванильные\": 3, \"фужерные\": 4, \"водные\": 5, \"свежие\": 6, \"фруктовые\": 7, \"сладкие\": 8, \"ароматические\": 9}\n",
    "\n",
    "treeLayer2 = np.zeros((len(layer2), len(layer2)))\n",
    "treeLayer2[layer2[\"цветочные\"]][layer2[\"древесные\"]] = treeLayer2[layer2[\"древесные\"]][layer2[\"цветочные\"]] = 0.5\n",
    "treeLayer2[layer2[\"цветочные\"]][layer2[\"пряные\"]] = treeLayer2[layer2[\"пряные\"]][layer2[\"цветочные\"]] = 0.5\n",
    "treeLayer2[layer2[\"цветочные\"]][layer2[\"ванильные\"]] = treeLayer2[layer2[\"ванильные\"]][layer2[\"цветочные\"]] = 0.3\n",
    "treeLayer2[layer2[\"цветочные\"]][layer2[\"фужерные\"]] = treeLayer2[layer2[\"фужерные\"]][layer2[\"цветочные\"]] = 0.6\n",
    "treeLayer2[layer2[\"цветочные\"]][layer2[\"водные\"]] = treeLayer2[layer2[\"водные\"]][layer2[\"цветочные\"]] = 0.5\n",
    "treeLayer2[layer2[\"цветочные\"]][layer2[\"свежие\"]] = treeLayer2[layer2[\"свежие\"]][layer2[\"цветочные\"]] = 0.3\n",
    "treeLayer2[layer2[\"цветочные\"]][layer2[\"фруктовые\"]] = treeLayer2[layer2[\"фруктовые\"]][layer2[\"цветочные\"]] = 0.3\n",
    "treeLayer2[layer2[\"цветочные\"]][layer2[\"сладкие\"]] = treeLayer2[layer2[\"сладкие\"]][layer2[\"цветочные\"]] = 0.2\n",
    "treeLayer2[layer2[\"цветочные\"]][layer2[\"ароматические\"]] = treeLayer2[layer2[\"ароматические\"]][layer2[\"цветочные\"]] = 0.3\n",
    "\n",
    "treeLayer2[layer2[\"древесные\"]][layer2[\"пряные\"]] = treeLayer2[layer2[\"пряные\"]][layer2[\"древесные\"]] = 0.4\n",
    "treeLayer2[layer2[\"древесные\"]][layer2[\"ванильные\"]] = treeLayer2[layer2[\"ванильные\"]][layer2[\"древесные\"]] = 0.5\n",
    "treeLayer2[layer2[\"древесные\"]][layer2[\"фужерные\"]] = treeLayer2[layer2[\"фужерные\"]][layer2[\"древесные\"]] = 0.3\n",
    "treeLayer2[layer2[\"древесные\"]][layer2[\"водные\"]] = treeLayer2[layer2[\"водные\"]][layer2[\"древесные\"]] = 0.6\n",
    "treeLayer2[layer2[\"древесные\"]][layer2[\"свежие\"]] = treeLayer2[layer2[\"свежие\"]][layer2[\"древесные\"]] = 0.5\n",
    "treeLayer2[layer2[\"древесные\"]][layer2[\"фруктовые\"]] = treeLayer2[layer2[\"фруктовые\"]][layer2[\"древесные\"]] = 0.6\n",
    "treeLayer2[layer2[\"древесные\"]][layer2[\"сладкие\"]] = treeLayer2[layer2[\"сладкие\"]][layer2[\"древесные\"]] = 0.4\n",
    "treeLayer2[layer2[\"древесные\"]][layer2[\"ароматические\"]] = treeLayer2[layer2[\"ароматические\"]][layer2[\"древесные\"]] = 0.4\n",
    "\n",
    "treeLayer2[layer2[\"пряные\"]][layer2[\"ванильные\"]] = treeLayer2[layer2[\"ванильные\"]][layer2[\"пряные\"]] = 0.5\n",
    "treeLayer2[layer2[\"пряные\"]][layer2[\"фужерные\"]] = treeLayer2[layer2[\"фужерные\"]][layer2[\"пряные\"]] = 0.3\n",
    "treeLayer2[layer2[\"пряные\"]][layer2[\"водные\"]] = treeLayer2[layer2[\"водные\"]][layer2[\"пряные\"]] = 0.6\n",
    "treeLayer2[layer2[\"пряные\"]][layer2[\"свежие\"]] = treeLayer2[layer2[\"свежие\"]][layer2[\"пряные\"]] = 0.6\n",
    "treeLayer2[layer2[\"пряные\"]][layer2[\"фруктовые\"]] = treeLayer2[layer2[\"фруктовые\"]][layer2[\"пряные\"]] = 0.6\n",
    "treeLayer2[layer2[\"пряные\"]][layer2[\"сладкие\"]] = treeLayer2[layer2[\"сладкие\"]][layer2[\"пряные\"]] = 0.3\n",
    "treeLayer2[layer2[\"пряные\"]][layer2[\"ароматические\"]] = treeLayer2[layer2[\"ароматические\"]][layer2[\"пряные\"]] = 0.3\n",
    "\n",
    "treeLayer2[layer2[\"ванильные\"]][layer2[\"фужерные\"]] = treeLayer2[layer2[\"фужерные\"]][layer2[\"ванильные\"]] = 0.5\n",
    "treeLayer2[layer2[\"ванильные\"]][layer2[\"водные\"]] = treeLayer2[layer2[\"водные\"]][layer2[\"ванильные\"]] = 0.7\n",
    "treeLayer2[layer2[\"ванильные\"]][layer2[\"свежие\"]] = treeLayer2[layer2[\"свежие\"]][layer2[\"ванильные\"]] = 0.6\n",
    "treeLayer2[layer2[\"ванильные\"]][layer2[\"фруктовые\"]] = treeLayer2[layer2[\"фруктовые\"]][layer2[\"ванильные\"]] = 0.4\n",
    "treeLayer2[layer2[\"ванильные\"]][layer2[\"сладкие\"]] = treeLayer2[layer2[\"сладкие\"]][layer2[\"ванильные\"]] = 0.3\n",
    "treeLayer2[layer2[\"ванильные\"]][layer2[\"ароматические\"]] = treeLayer2[layer2[\"ароматические\"]][layer2[\"ванильные\"]] = 0.5\n",
    "\n",
    "treeLayer2[layer2[\"фужерные\"]][layer2[\"водные\"]] = treeLayer2[layer2[\"водные\"]][layer2[\"фужерные\"]] = 0.7\n",
    "treeLayer2[layer2[\"фужерные\"]][layer2[\"свежие\"]] = treeLayer2[layer2[\"свежие\"]][layer2[\"фужерные\"]] = 0.7\n",
    "treeLayer2[layer2[\"фужерные\"]][layer2[\"фруктовые\"]] = treeLayer2[layer2[\"фруктовые\"]][layer2[\"фужерные\"]] = 0.7\n",
    "treeLayer2[layer2[\"фужерные\"]][layer2[\"сладкие\"]] = treeLayer2[layer2[\"сладкие\"]][layer2[\"фужерные\"]] = 0.5\n",
    "treeLayer2[layer2[\"фужерные\"]][layer2[\"ароматические\"]] = treeLayer2[layer2[\"ароматические\"]][layer2[\"фужерные\"]] = 0.5\n",
    "\n",
    "treeLayer2[layer2[\"водные\"]][layer2[\"свежие\"]] = treeLayer2[layer2[\"свежие\"]][layer2[\"водные\"]] = 0.3\n",
    "treeLayer2[layer2[\"водные\"]][layer2[\"фруктовые\"]] = treeLayer2[layer2[\"фруктовые\"]][layer2[\"водные\"]] = 0.7\n",
    "treeLayer2[layer2[\"водные\"]][layer2[\"сладкие\"]] = treeLayer2[layer2[\"сладкие\"]][layer2[\"водные\"]] = 0.6\n",
    "treeLayer2[layer2[\"водные\"]][layer2[\"ароматические\"]] = treeLayer2[layer2[\"ароматические\"]][layer2[\"водные\"]] = 0.6\n",
    "\n",
    "treeLayer2[layer2[\"свежие\"]][layer2[\"фруктовые\"]] = treeLayer2[layer2[\"фруктовые\"]][layer2[\"свежие\"]] = 0.5\n",
    "treeLayer2[layer2[\"свежие\"]][layer2[\"сладкие\"]] = treeLayer2[layer2[\"сладкие\"]][layer2[\"свежие\"]] = 0.6\n",
    "treeLayer2[layer2[\"свежие\"]][layer2[\"ароматические\"]] = treeLayer2[layer2[\"ароматические\"]][layer2[\"свежие\"]] = 0.3\n",
    "\n",
    "treeLayer2[layer2[\"фруктовые\"]][layer2[\"сладкие\"]] = treeLayer2[layer2[\"сладкие\"]][layer2[\"фруктовые\"]] = 0.3\n",
    "treeLayer2[layer2[\"фруктовые\"]][layer2[\"ароматические\"]] = treeLayer2[layer2[\"ароматические\"]][layer2[\"фруктовые\"]] = 0.3\n",
    "\n",
    "treeLayer2[layer2[\"сладкие\"]][layer2[\"ароматические\"]] = treeLayer2[layer2[\"ароматические\"]][layer2[\"сладкие\"]] = 0.6"
   ]
  },
  {
   "cell_type": "markdown",
   "metadata": {},
   "source": [
    "#### Матрица смежности для семейств (3 уровень)"
   ]
  },
  {
   "cell_type": "code",
   "execution_count": 897,
   "metadata": {},
   "outputs": [],
   "source": [
    "layer3 = {\"свежие\": 0, \"сладкие\": 1, \"мускусные\": 2, \"шипровые\": 3, \"амбровые\": 4, \"фруктовые\": 5, \"-\": 6}\n",
    "\n",
    "treeLayer3 = np.zeros((len(layer3), len(layer3)))\n",
    "treeLayer3[layer3[\"свежие\"]][layer3[\"сладкие\"]] = treeLayer3[layer3[\"сладкие\"]][layer3[\"свежие\"]] = 0.6\n",
    "treeLayer3[layer3[\"свежие\"]][layer3[\"мускусные\"]] = treeLayer3[layer3[\"мускусные\"]][layer3[\"свежие\"]] = 0.7\n",
    "treeLayer3[layer3[\"свежие\"]][layer3[\"шипровые\"]] = treeLayer3[layer3[\"шипровые\"]][layer3[\"свежие\"]] = 0.7\n",
    "treeLayer3[layer3[\"свежие\"]][layer3[\"амбровые\"]] = treeLayer3[layer3[\"амбровые\"]][layer3[\"свежие\"]] = 0.7\n",
    "treeLayer3[layer3[\"свежие\"]][layer3[\"фруктовые\"]] = treeLayer3[layer3[\"фруктовые\"]][layer3[\"свежие\"]] = 0.6\n",
    "treeLayer3[layer3[\"свежие\"]][layer3[\"-\"]] = treeLayer3[layer3[\"-\"]][layer3[\"свежие\"]] = 1\n",
    "\n",
    "treeLayer3[layer3[\"сладкие\"]][layer3[\"мускусные\"]] = treeLayer3[layer3[\"мускусные\"]][layer3[\"сладкие\"]] = 0.4\n",
    "treeLayer3[layer3[\"сладкие\"]][layer3[\"шипровые\"]] = treeLayer3[layer3[\"шипровые\"]][layer3[\"сладкие\"]] = 0.4\n",
    "treeLayer3[layer3[\"сладкие\"]][layer3[\"амбровые\"]] = treeLayer3[layer3[\"амбровые\"]][layer3[\"сладкие\"]] = 0.4\n",
    "treeLayer3[layer3[\"сладкие\"]][layer3[\"фруктовые\"]] = treeLayer3[layer3[\"фруктовые\"]][layer3[\"сладкие\"]] = 0.4\n",
    "treeLayer3[layer3[\"сладкие\"]][layer3[\"-\"]] = treeLayer3[layer3[\"-\"]][layer3[\"сладкие\"]] = 1\n",
    "\n",
    "treeLayer3[layer3[\"мускусные\"]][layer3[\"шипровые\"]] = treeLayer3[layer3[\"шипровые\"]][layer3[\"мускусные\"]] = 0.2\n",
    "treeLayer3[layer3[\"мускусные\"]][layer3[\"амбровые\"]] = treeLayer3[layer3[\"амбровые\"]][layer3[\"мускусные\"]] = 0.6\n",
    "treeLayer3[layer3[\"мускусные\"]][layer3[\"фруктовые\"]] = treeLayer3[layer3[\"фруктовые\"]][layer3[\"мускусные\"]] = 0.6\n",
    "treeLayer3[layer3[\"мускусные\"]][layer3[\"-\"]] = treeLayer3[layer3[\"-\"]][layer3[\"мускусные\"]] = 1\n",
    "\n",
    "treeLayer3[layer3[\"шипровые\"]][layer3[\"амбровые\"]] = treeLayer3[layer3[\"амбровые\"]][layer3[\"шипровые\"]] = 0.6\n",
    "treeLayer3[layer3[\"шипровые\"]][layer3[\"фруктовые\"]] = treeLayer3[layer3[\"фруктовые\"]][layer3[\"шипровые\"]] = 0.6\n",
    "treeLayer3[layer3[\"шипровые\"]][layer3[\"-\"]] = treeLayer3[layer3[\"-\"]][layer3[\"шипровые\"]] = 1\n",
    "\n",
    "treeLayer3[layer3[\"амбровые\"]][layer3[\"фруктовые\"]] = treeLayer3[layer3[\"фруктовые\"]][layer3[\"амбровые\"]] = 0.7\n",
    "treeLayer3[layer3[\"амбровые\"]][layer3[\"-\"]] = treeLayer3[layer3[\"-\"]][layer3[\"амбровые\"]] = 1\n",
    "\n",
    "treeLayer3[layer3[\"фруктовые\"]][layer3[\"-\"]] = treeLayer3[layer3[\"-\"]][layer3[\"фруктовые\"]] = 1"
   ]
  },
  {
   "cell_type": "code",
   "execution_count": 898,
   "metadata": {},
   "outputs": [],
   "source": [
    "layer = [layer1, layer2, layer3]\n",
    "tree = [treeLayer1, treeLayer2, treeLayer3]"
   ]
  },
  {
   "cell_type": "markdown",
   "metadata": {},
   "source": [
    "### Данные"
   ]
  },
  {
   "cell_type": "code",
   "execution_count": 899,
   "metadata": {},
   "outputs": [],
   "source": [
    "excludeFields = [\"стойкость минимум (ч)\", \"стойкость максимум (ч)\", \"возраст (до 18)\", \"возраст (до 26)\", \"возраст (до 35)\", \n",
    "                 \"возраст (до 45)\", \"возраст (после 45)\", \"цена за 1 мл\", \"пол\", \"бренд\", \n",
    "                 \"страна\", \"сегмент\", \"концентрация\"]\n",
    "\n",
    "def getDataFrameAroma(df):\n",
    "    dfNew = df.copy()\n",
    "    for elem in excludeFields:\n",
    "        del dfNew[elem]\n",
    "    \n",
    "    return dfNew\n",
    "\n",
    "def getDataFrameStat(df):\n",
    "    dfStatParams = pd.DataFrame(columns=excludeFields, data=df[excludeFields].values)\n",
    "    del dfStatParams[\"бренд\"]\n",
    "    del dfStatParams[\"страна\"]\n",
    "\n",
    "    return dfStatParams"
   ]
  },
  {
   "cell_type": "markdown",
   "metadata": {},
   "source": [
    "#### Получение расстояний"
   ]
  },
  {
   "cell_type": "code",
   "execution_count": 900,
   "metadata": {},
   "outputs": [],
   "source": [
    "def _complete(v1, v2):\n",
    "    for i in range(len(v1) - len(v2)):\n",
    "        v2.append(\"-\")\n",
    "    return v2\n",
    "\n",
    "def complete(v1, v2):\n",
    "    n1, n2 = len(v1), len(v2)\n",
    "    if n1 > n2:\n",
    "        v2 = _complete(v1, v2)\n",
    "    elif n1 < n2:\n",
    "        v1 = _complete(v2, v1)\n",
    "    return v1, v2\n",
    "\n",
    "# Расстояния\n",
    "def getDistance(v1, v2, nPow):\n",
    "    res = 0\n",
    "    for i in range(len(v1)):\n",
    "        if isnan(v1[i]) or isnan(v2[i]):\n",
    "            continue\n",
    "        res += pow(abs(v1[i] - v2[i]), nPow)\n",
    "    return pow(res, 1 / nPow)\n",
    "\n",
    "# Манхэттенское расстояние\n",
    "def getManhattanDistance(v1, v2):\n",
    "    return getDistance(v1, v2, 1)\n",
    "\n",
    "# Евклидово расстояние\n",
    "def getEuclideanDistance(v1, v2):\n",
    "    return getDistance(v1, v2, 2)\n",
    "\n",
    "# Косинусное \n",
    "def getCos(v1, v2):\n",
    "    v1T, v2T = v1.copy(), v2.copy()\n",
    "    n = len(v1)\n",
    "    indArr = [i for i, (elem1, elem2) in enumerate(zip(v1T, v2T)) if isnan(elem1) or isnan(elem2)]\n",
    "    v1T[:] = [elem for i, elem in enumerate(v1T) if i not in indArr]\n",
    "    v2T[:] = [elem for i, elem in enumerate(v2T) if i not in indArr]\n",
    "    return dot(v1T, v2T) / (norm(v1T) * norm(v2T))\n",
    "\n",
    "# Расстояние по дереву\n",
    "def getTreeDistance(v1, v2):\n",
    "    res = 0\n",
    "    resArr = []\n",
    "    v1T, v2T = v1, v2\n",
    "    if len(v1) != len(v2):\n",
    "        v1T, v2T = complete(v1, v2)\n",
    "    for i in range(len(v1T)):\n",
    "        res += tree[i][layer[i][v1T[i]]][layer[i][v2T[i]]]\n",
    "    \n",
    "    return res / len(tree)\n",
    "\n",
    "# Сравнение брендов\n",
    "def getBrandDistance(v1, v2):\n",
    "    return 0 if v1[0] == v2[0] else 1\n",
    "\n",
    "# Сравнение стран\n",
    "def getCountryDistance(v1, v2):\n",
    "    return countryMatr[countryDict[v1]][countryDict[v2]]\n",
    "\n",
    "# Найти все похожие\n",
    "def getSimilarity(id, matr, nameArr):\n",
    "    data = matr[id]\n",
    "    res = pd.DataFrame(zip(data, nameArr), index=np.arange(len(matr)), columns=[\"расстояние\", \"название\"])\n",
    "    return res.sort_values(\"расстояние\")"
   ]
  },
  {
   "cell_type": "code",
   "execution_count": 901,
   "metadata": {},
   "outputs": [],
   "source": [
    "def calcDistance(f, df):\n",
    "    matrData = df.values.tolist()\n",
    "    n = len(matrData)\n",
    "    matrRes = np.zeros((n, n))\n",
    "    for i in range(n):\n",
    "        for j in range(i, n):\n",
    "            matrRes[i][j] = matrRes[j][i] = f(matrData[i], matrData[j])\n",
    "    return matrRes / matrRes.max()   \n",
    "\n",
    "\n",
    "def calcDistanceCompined(df, dfTree):\n",
    "    dfTree = dfTree[\"семейства\"]\n",
    "    dfMan = getDataFrameAroma(df)\n",
    "    dfStatParams = getDataFrameStat(df)\n",
    "    \n",
    "    matrTree = calcDistance(getTreeDistance, dfTree)\n",
    "    # matrCos = 1 - calcDistance(getCos, dfMan)\n",
    "    matrEucl = calcDistance(getEuclideanDistance, dfStatParams)\n",
    "    matrMan = calcDistance(getManhattanDistance, dfMan)\n",
    "    matrBrand = calcDistance(getBrandDistance, df[\"бренд\"])\n",
    "    matrCountry = calcDistance(getCountryDistance, df[\"страна\"])\n",
    "\n",
    "    xTree = matrTree.max()\n",
    "    # xCos = matrCos.max()\n",
    "    xEuci = matrEucl.max()\n",
    "    xMan = matrMan.max()\n",
    "    xBrand = matrBrand.max()\n",
    "    xCountry = matrCountry.max()\n",
    "\n",
    "\n",
    "    kMan, kTree, kEuci, kBrand, kCountry = 2, 0.5, 10, 2, 2\n",
    "\n",
    "    return (kMan * matrMan + kTree * matrTree + matrEucl + kBrand * matrBrand + kCountry * matrCountry) / (kMan * xMan + kTree * xTree + xEuci + kBrand * xBrand + kCountry * xCountry)"
   ]
  },
  {
   "cell_type": "markdown",
   "metadata": {},
   "source": [
    "#### Графическое изображение"
   ]
  },
  {
   "cell_type": "code",
   "execution_count": 902,
   "metadata": {},
   "outputs": [],
   "source": [
    "def draw(matrRes, nameArr, title, color='Inferno'):\n",
    "    fig = px.imshow(matrRes, x=nameArr, y=nameArr, color_continuous_scale=color, title=title)\n",
    "    fig.update_layout(width=1000, height=1200)\n",
    "    fig.update_traces(text=nameArr)\n",
    "    fig.update_xaxes(side=\"top\")\n",
    "    fig.show()"
   ]
  },
  {
   "cell_type": "markdown",
   "metadata": {},
   "source": [
    "### Демонстрация расстояний"
   ]
  },
  {
   "cell_type": "markdown",
   "metadata": {},
   "source": [
    "#### Манхэттонское"
   ]
  },
  {
   "cell_type": "code",
   "execution_count": 903,
   "metadata": {},
   "outputs": [
    {
     "data": {
      "application/vnd.plotly.v1+json": {
       "config": {
        "plotlyServerURL": "https://plot.ly"
       },
       "data": [
        {
         "coloraxis": "coloraxis",
         "hovertemplate": "x: %{x}<br>y: %{y}<br>color: %{z}<extra></extra>",
         "name": "0",
         "text": [
          "Shalimar",
          "3 L'Imperatrice",
          "1001 Nights",
          "Sabina",
          "Resolute Gold",
          "Oath for Him",
          "Twist",
          "CK Everyone",
          "Bad Boy",
          "Eau de Lacoste L.12.12 Blanc",
          "Ange ou Demon",
          "Samsara Eau de Parfum",
          "New Your Amber",
          "Renata",
          "Lanvin Eclat D Arpege",
          "MOSCHINO Toy Boy",
          "Cartier Declaration D Un Soir",
          "Channel №5",
          "Prada Day For Night",
          "Escentric Molecules Escentric 02",
          "The Only One",
          "Flora by Gucci Gorgeous Gardenia",
          "La Petite Robe Noire Ma Robe Cocktail",
          "La Petite Robe Noire Ma Robe Sous le Vent"
         ],
         "type": "heatmap",
         "x": [
          "Shalimar",
          "3 L'Imperatrice",
          "1001 Nights",
          "Sabina",
          "Resolute Gold",
          "Oath for Him",
          "Twist",
          "CK Everyone",
          "Bad Boy",
          "Eau de Lacoste L.12.12 Blanc",
          "Ange ou Demon",
          "Samsara Eau de Parfum",
          "New Your Amber",
          "Renata",
          "Lanvin Eclat D Arpege",
          "MOSCHINO Toy Boy",
          "Cartier Declaration D Un Soir",
          "Channel №5",
          "Prada Day For Night",
          "Escentric Molecules Escentric 02",
          "The Only One",
          "Flora by Gucci Gorgeous Gardenia",
          "La Petite Robe Noire Ma Robe Cocktail",
          "La Petite Robe Noire Ma Robe Sous le Vent"
         ],
         "xaxis": "x",
         "y": [
          "Shalimar",
          "3 L'Imperatrice",
          "1001 Nights",
          "Sabina",
          "Resolute Gold",
          "Oath for Him",
          "Twist",
          "CK Everyone",
          "Bad Boy",
          "Eau de Lacoste L.12.12 Blanc",
          "Ange ou Demon",
          "Samsara Eau de Parfum",
          "New Your Amber",
          "Renata",
          "Lanvin Eclat D Arpege",
          "MOSCHINO Toy Boy",
          "Cartier Declaration D Un Soir",
          "Channel №5",
          "Prada Day For Night",
          "Escentric Molecules Escentric 02",
          "The Only One",
          "Flora by Gucci Gorgeous Gardenia",
          "La Petite Robe Noire Ma Robe Cocktail",
          "La Petite Robe Noire Ma Robe Sous le Vent"
         ],
         "yaxis": "y",
         "z": [
          [
           0,
           0.8723404255319149,
           0.8936170212765957,
           0.851063829787234,
           0.7943262411347518,
           0.8368794326241135,
           0.7553191489361702,
           0.9361702127659575,
           0.6524822695035462,
           0.9787234042553191,
           0.48936170212765956,
           0.49645390070921985,
           0.38652482269503546,
           0.4397163120567376,
           0.9219858156028369,
           0.7375886524822695,
           0.7375886524822695,
           0.7375886524822695,
           0.2978723404255319,
           0.425531914893617,
           0.36879432624113473,
           0.8794326241134752,
           0.8687943262411347,
           0.7943262411347518
          ],
          [
           0.8723404255319149,
           0,
           0.48936170212765956,
           0.24822695035460993,
           0.2198581560283688,
           0.48936170212765956,
           0.17375886524822695,
           0.41843971631205673,
           0.6737588652482269,
           0.6312056737588653,
           0.6950354609929078,
           0.8297872340425532,
           0.7127659574468085,
           0.7446808510638298,
           0.2624113475177305,
           0.6453900709219859,
           0.7304964539007093,
           0.3333333333333333,
           0.6595744680851063,
           0.5319148936170213,
           0.6170212765957447,
           0.2198581560283688,
           0.2872340425531915,
           0.3049645390070922
          ],
          [
           0.8936170212765957,
           0.48936170212765956,
           0,
           0.49645390070921985,
           0.3829787234042553,
           0.2553191489361702,
           0.40070921985815605,
           0.6382978723404256,
           0.41134751773049644,
           0.45390070921985815,
           0.7021276595744681,
           0.5957446808510638,
           0.7695035460992907,
           0.7659574468085106,
           0.5106382978723404,
           0.46808510638297873,
           0.524822695035461,
           0.524822695035461,
           0.6808510638297872,
           0.6382978723404256,
           0.6382978723404256,
           0.49645390070921985,
           0.4858156028368794,
           0.49645390070921985
          ],
          [
           0.851063829787234,
           0.24822695035460993,
           0.49645390070921985,
           0,
           0.22695035460992907,
           0.524822695035461,
           0.1879432624113475,
           0.425531914893617,
           0.624113475177305,
           0.6666666666666666,
           0.6879432624113475,
           0.8368794326241135,
           0.6985815602836879,
           0.6382978723404256,
           0.2127659574468085,
           0.6808510638297872,
           0.7659574468085106,
           0.3120567375886525,
           0.6099290780141844,
           0.5957446808510638,
           0.5673758865248227,
           0.19858156028368795,
           0.24468085106382978,
           0.22695035460992907
          ],
          [
           0.7943262411347518,
           0.2198581560283688,
           0.3829787234042553,
           0.22695035460992907,
           0,
           0.41134751773049644,
           0.13120567375886524,
           0.3971631205673759,
           0.5957446808510638,
           0.6382978723404256,
           0.6312056737588653,
           0.7801418439716312,
           0.6134751773049646,
           0.6666666666666666,
           0.2695035460992908,
           0.624113475177305,
           0.7092198581560284,
           0.2553191489361702,
           0.5815602836879432,
           0.5106382978723404,
           0.5390070921985816,
           0.2553191489361702,
           0.21631205673758866,
           0.22695035460992907
          ],
          [
           0.8368794326241135,
           0.48936170212765956,
           0.2553191489361702,
           0.524822695035461,
           0.41134751773049644,
           0,
           0.3723404255319149,
           0.6382978723404256,
           0.4397163120567376,
           0.425531914893617,
           0.7872340425531915,
           0.5957446808510638,
           0.7978723404255319,
           0.7659574468085106,
           0.5390070921985816,
           0.46808510638297873,
           0.49645390070921985,
           0.4397163120567376,
           0.7375886524822695,
           0.6382978723404256,
           0.6382978723404256,
           0.49645390070921985,
           0.4574468085106383,
           0.4397163120567376
          ],
          [
           0.7553191489361702,
           0.17375886524822695,
           0.40070921985815605,
           0.1879432624113475,
           0.13120567375886524,
           0.3723404255319149,
           0,
           0.35815602836879434,
           0.5567375886524822,
           0.599290780141844,
           0.5851063829787234,
           0.6843971631205674,
           0.5957446808510638,
           0.6276595744680851,
           0.23049645390070922,
           0.6134751773049646,
           0.6985815602836879,
           0.21631205673758866,
           0.5425531914893617,
           0.5,
           0.4716312056737589,
           0.21631205673758866,
           0.19858156028368795,
           0.1595744680851064
          ],
          [
           0.9361702127659575,
           0.41843971631205673,
           0.6382978723404256,
           0.425531914893617,
           0.3971631205673759,
           0.6382978723404256,
           0.35815602836879434,
           0,
           0.7659574468085106,
           0.723404255319149,
           0.8297872340425532,
           0.9219858156028369,
           0.7836879432624113,
           0.8085106382978723,
           0.41134751773049644,
           0.7943262411347518,
           0.8226950354609929,
           0.5106382978723404,
           0.6950354609929078,
           0.7092198581560284,
           0.7375886524822695,
           0.425531914893617,
           0.4716312056737589,
           0.48226950354609927
          ],
          [
           0.6524822695035462,
           0.6737588652482269,
           0.41134751773049644,
           0.624113475177305,
           0.5957446808510638,
           0.4397163120567376,
           0.5567375886524822,
           0.7659574468085106,
           0,
           0.524822695035461,
           0.8865248226950354,
           0.6382978723404256,
           0.7836879432624113,
           0.8652482269503546,
           0.6950354609929078,
           0.2553191489361702,
           0.3120567375886525,
           0.6524822695035462,
           0.723404255319149,
           0.851063829787234,
           0.7943262411347518,
           0.6808510638297872,
           0.6702127659574468,
           0.624113475177305
          ],
          [
           0.9787234042553191,
           0.6312056737588653,
           0.45390070921985815,
           0.6666666666666666,
           0.6382978723404256,
           0.425531914893617,
           0.599290780141844,
           0.723404255319149,
           0.524822695035461,
           0,
           0.9574468085106383,
           0.6808510638297872,
           0.9113475177304965,
           0.9361702127659575,
           0.6524822695035462,
           0.49645390070921985,
           0.49645390070921985,
           0.6950354609929078,
           0.7943262411347518,
           0.8368794326241135,
           0.8936170212765957,
           0.6382978723404256,
           0.7127659574468085,
           0.723404255319149
          ],
          [
           0.48936170212765956,
           0.6950354609929078,
           0.7021276595744681,
           0.6879432624113475,
           0.6312056737588653,
           0.7872340425531915,
           0.5851063829787234,
           0.8297872340425532,
           0.8865248226950354,
           0.9574468085106383,
           0,
           0.475177304964539,
           0.35815602836879434,
           0.3617021276595745,
           0.7304964539007093,
           1,
           1,
           0.6595744680851063,
           0.3049645390070922,
           0.2907801418439716,
           0.23404255319148937,
           0.7163120567375887,
           0.6985815602836879,
           0.6595744680851063
          ],
          [
           0.49645390070921985,
           0.8297872340425532,
           0.5957446808510638,
           0.8368794326241135,
           0.7801418439716312,
           0.5957446808510638,
           0.6843971631205674,
           0.9219858156028369,
           0.6382978723404256,
           0.6808510638297872,
           0.475177304964539,
           0,
           0.42907801418439717,
           0.5106382978723404,
           0.851063829787234,
           0.723404255319149,
           0.7801418439716312,
           0.8085106382978723,
           0.36879432624113473,
           0.41134751773049644,
           0.3829787234042553,
           0.8652482269503546,
           0.8262411347517731,
           0.8085106382978723
          ],
          [
           0.38652482269503546,
           0.7127659574468085,
           0.7695035460992907,
           0.6985815602836879,
           0.6134751773049646,
           0.7978723404255319,
           0.5957446808510638,
           0.7836879432624113,
           0.7836879432624113,
           0.9113475177304965,
           0.35815602836879434,
           0.42907801418439717,
           0,
           0.31560283687943264,
           0.7411347517730497,
           0.8687943262411347,
           0.9539007092198581,
           0.6985815602836879,
           0.11702127659574468,
           0.30141843971631205,
           0.2730496453900709,
           0.7553191489361702,
           0.7092198581560284,
           0.6985815602836879
          ],
          [
           0.4397163120567376,
           0.7446808510638298,
           0.7659574468085106,
           0.6382978723404256,
           0.6666666666666666,
           0.7659574468085106,
           0.6276595744680851,
           0.8085106382978723,
           0.8652482269503546,
           0.9361702127659575,
           0.3617021276595745,
           0.5106382978723404,
           0.31560283687943264,
           0,
           0.6808510638297872,
           0.8936170212765957,
           0.9787234042553191,
           0.723404255319149,
           0.22695035460992907,
           0.3262411347517731,
           0.2695035460992908,
           0.6099290780141844,
           0.6560283687943262,
           0.6099290780141844
          ],
          [
           0.9219858156028369,
           0.2624113475177305,
           0.5106382978723404,
           0.2127659574468085,
           0.2695035460992908,
           0.5390070921985816,
           0.23049645390070922,
           0.41134751773049644,
           0.6950354609929078,
           0.6524822695035462,
           0.7304964539007093,
           0.851063829787234,
           0.7411347517730497,
           0.6808510638297872,
           0,
           0.6950354609929078,
           0.723404255319149,
           0.3546099290780142,
           0.6808510638297872,
           0.5531914893617021,
           0.6382978723404256,
           0.18439716312056736,
           0.25886524822695034,
           0.2695035460992908
          ],
          [
           0.7375886524822695,
           0.6453900709219859,
           0.46808510638297873,
           0.6808510638297872,
           0.624113475177305,
           0.46808510638297873,
           0.6134751773049646,
           0.7943262411347518,
           0.2553191489361702,
           0.49645390070921985,
           1,
           0.723404255319149,
           0.8687943262411347,
           0.8936170212765957,
           0.6950354609929078,
           0,
           0.3404255319148936,
           0.7092198581560284,
           0.8085106382978723,
           0.8794326241134752,
           0.851063829787234,
           0.624113475177305,
           0.7269503546099291,
           0.7375886524822695
          ],
          [
           0.7375886524822695,
           0.7304964539007093,
           0.524822695035461,
           0.7659574468085106,
           0.7092198581560284,
           0.49645390070921985,
           0.6985815602836879,
           0.8226950354609929,
           0.3120567375886525,
           0.49645390070921985,
           1,
           0.7801418439716312,
           0.9539007092198581,
           0.9787234042553191,
           0.723404255319149,
           0.3404255319148936,
           0,
           0.7092198581560284,
           0.8652482269503546,
           0.8794326241134752,
           0.9361702127659575,
           0.7375886524822695,
           0.7836879432624113,
           0.7943262411347518
          ],
          [
           0.7375886524822695,
           0.3333333333333333,
           0.524822695035461,
           0.3120567375886525,
           0.2553191489361702,
           0.4397163120567376,
           0.21631205673758866,
           0.5106382978723404,
           0.6524822695035462,
           0.6950354609929078,
           0.6595744680851063,
           0.8085106382978723,
           0.6985815602836879,
           0.723404255319149,
           0.3546099290780142,
           0.7092198581560284,
           0.7092198581560284,
           0,
           0.6382978723404256,
           0.5673758865248227,
           0.5390070921985816,
           0.3404255319148936,
           0.32978723404255317,
           0.28368794326241137
          ],
          [
           0.2978723404255319,
           0.6595744680851063,
           0.6808510638297872,
           0.6099290780141844,
           0.5815602836879432,
           0.7375886524822695,
           0.5425531914893617,
           0.6950354609929078,
           0.723404255319149,
           0.7943262411347518,
           0.3049645390070922,
           0.36879432624113473,
           0.11702127659574468,
           0.22695035460992907,
           0.6808510638297872,
           0.8085106382978723,
           0.8652482269503546,
           0.6382978723404256,
           0,
           0.24113475177304963,
           0.18439716312056736,
           0.6666666666666666,
           0.6560283687943262,
           0.6382978723404256
          ],
          [
           0.425531914893617,
           0.5319148936170213,
           0.6382978723404256,
           0.5957446808510638,
           0.5106382978723404,
           0.6382978723404256,
           0.5,
           0.7092198581560284,
           0.851063829787234,
           0.8368794326241135,
           0.2907801418439716,
           0.41134751773049644,
           0.30141843971631205,
           0.3262411347517731,
           0.5531914893617021,
           0.8794326241134752,
           0.8794326241134752,
           0.5673758865248227,
           0.24113475177304963,
           0,
           0.1702127659574468,
           0.5673758865248227,
           0.5851063829787234,
           0.5957446808510638
          ],
          [
           0.36879432624113473,
           0.6170212765957447,
           0.6382978723404256,
           0.5673758865248227,
           0.5390070921985816,
           0.6382978723404256,
           0.4716312056737589,
           0.7375886524822695,
           0.7943262411347518,
           0.8936170212765957,
           0.23404255319148937,
           0.3829787234042553,
           0.2730496453900709,
           0.2695035460992908,
           0.6382978723404256,
           0.851063829787234,
           0.9361702127659575,
           0.5390070921985816,
           0.18439716312056736,
           0.1702127659574468,
           0,
           0.5673758865248227,
           0.6134751773049646,
           0.5673758865248227
          ],
          [
           0.8794326241134752,
           0.2198581560283688,
           0.49645390070921985,
           0.19858156028368795,
           0.2553191489361702,
           0.49645390070921985,
           0.21631205673758866,
           0.425531914893617,
           0.6808510638297872,
           0.6382978723404256,
           0.7163120567375887,
           0.8652482269503546,
           0.7553191489361702,
           0.6099290780141844,
           0.18439716312056736,
           0.624113475177305,
           0.7375886524822695,
           0.3404255319148936,
           0.6666666666666666,
           0.5673758865248227,
           0.5673758865248227,
           0,
           0.24468085106382978,
           0.22695035460992907
          ],
          [
           0.8687943262411347,
           0.2872340425531915,
           0.4858156028368794,
           0.24468085106382978,
           0.21631205673758866,
           0.4574468085106383,
           0.19858156028368795,
           0.4716312056737589,
           0.6702127659574468,
           0.7127659574468085,
           0.6985815602836879,
           0.8262411347517731,
           0.7092198581560284,
           0.6560283687943262,
           0.25886524822695034,
           0.7269503546099291,
           0.7836879432624113,
           0.32978723404255317,
           0.6560283687943262,
           0.5851063829787234,
           0.6134751773049646,
           0.24468085106382978,
           0,
           0.21631205673758866
          ],
          [
           0.7943262411347518,
           0.3049645390070922,
           0.49645390070921985,
           0.22695035460992907,
           0.22695035460992907,
           0.4397163120567376,
           0.1595744680851064,
           0.48226950354609927,
           0.624113475177305,
           0.723404255319149,
           0.6595744680851063,
           0.8085106382978723,
           0.6985815602836879,
           0.6099290780141844,
           0.2695035460992908,
           0.7375886524822695,
           0.7943262411347518,
           0.28368794326241137,
           0.6382978723404256,
           0.5957446808510638,
           0.5673758865248227,
           0.22695035460992907,
           0.21631205673758866,
           0
          ]
         ]
        }
       ],
       "layout": {
        "coloraxis": {
         "colorscale": [
          [
           0,
           "#000004"
          ],
          [
           0.1111111111111111,
           "#1b0c41"
          ],
          [
           0.2222222222222222,
           "#4a0c6b"
          ],
          [
           0.3333333333333333,
           "#781c6d"
          ],
          [
           0.4444444444444444,
           "#a52c60"
          ],
          [
           0.5555555555555556,
           "#cf4446"
          ],
          [
           0.6666666666666666,
           "#ed6925"
          ],
          [
           0.7777777777777778,
           "#fb9b06"
          ],
          [
           0.8888888888888888,
           "#f7d13d"
          ],
          [
           1,
           "#fcffa4"
          ]
         ]
        },
        "height": 1200,
        "template": {
         "data": {
          "bar": [
           {
            "error_x": {
             "color": "#2a3f5f"
            },
            "error_y": {
             "color": "#2a3f5f"
            },
            "marker": {
             "line": {
              "color": "#E5ECF6",
              "width": 0.5
             },
             "pattern": {
              "fillmode": "overlay",
              "size": 10,
              "solidity": 0.2
             }
            },
            "type": "bar"
           }
          ],
          "barpolar": [
           {
            "marker": {
             "line": {
              "color": "#E5ECF6",
              "width": 0.5
             },
             "pattern": {
              "fillmode": "overlay",
              "size": 10,
              "solidity": 0.2
             }
            },
            "type": "barpolar"
           }
          ],
          "carpet": [
           {
            "aaxis": {
             "endlinecolor": "#2a3f5f",
             "gridcolor": "white",
             "linecolor": "white",
             "minorgridcolor": "white",
             "startlinecolor": "#2a3f5f"
            },
            "baxis": {
             "endlinecolor": "#2a3f5f",
             "gridcolor": "white",
             "linecolor": "white",
             "minorgridcolor": "white",
             "startlinecolor": "#2a3f5f"
            },
            "type": "carpet"
           }
          ],
          "choropleth": [
           {
            "colorbar": {
             "outlinewidth": 0,
             "ticks": ""
            },
            "type": "choropleth"
           }
          ],
          "contour": [
           {
            "colorbar": {
             "outlinewidth": 0,
             "ticks": ""
            },
            "colorscale": [
             [
              0,
              "#0d0887"
             ],
             [
              0.1111111111111111,
              "#46039f"
             ],
             [
              0.2222222222222222,
              "#7201a8"
             ],
             [
              0.3333333333333333,
              "#9c179e"
             ],
             [
              0.4444444444444444,
              "#bd3786"
             ],
             [
              0.5555555555555556,
              "#d8576b"
             ],
             [
              0.6666666666666666,
              "#ed7953"
             ],
             [
              0.7777777777777778,
              "#fb9f3a"
             ],
             [
              0.8888888888888888,
              "#fdca26"
             ],
             [
              1,
              "#f0f921"
             ]
            ],
            "type": "contour"
           }
          ],
          "contourcarpet": [
           {
            "colorbar": {
             "outlinewidth": 0,
             "ticks": ""
            },
            "type": "contourcarpet"
           }
          ],
          "heatmap": [
           {
            "colorbar": {
             "outlinewidth": 0,
             "ticks": ""
            },
            "colorscale": [
             [
              0,
              "#0d0887"
             ],
             [
              0.1111111111111111,
              "#46039f"
             ],
             [
              0.2222222222222222,
              "#7201a8"
             ],
             [
              0.3333333333333333,
              "#9c179e"
             ],
             [
              0.4444444444444444,
              "#bd3786"
             ],
             [
              0.5555555555555556,
              "#d8576b"
             ],
             [
              0.6666666666666666,
              "#ed7953"
             ],
             [
              0.7777777777777778,
              "#fb9f3a"
             ],
             [
              0.8888888888888888,
              "#fdca26"
             ],
             [
              1,
              "#f0f921"
             ]
            ],
            "type": "heatmap"
           }
          ],
          "heatmapgl": [
           {
            "colorbar": {
             "outlinewidth": 0,
             "ticks": ""
            },
            "colorscale": [
             [
              0,
              "#0d0887"
             ],
             [
              0.1111111111111111,
              "#46039f"
             ],
             [
              0.2222222222222222,
              "#7201a8"
             ],
             [
              0.3333333333333333,
              "#9c179e"
             ],
             [
              0.4444444444444444,
              "#bd3786"
             ],
             [
              0.5555555555555556,
              "#d8576b"
             ],
             [
              0.6666666666666666,
              "#ed7953"
             ],
             [
              0.7777777777777778,
              "#fb9f3a"
             ],
             [
              0.8888888888888888,
              "#fdca26"
             ],
             [
              1,
              "#f0f921"
             ]
            ],
            "type": "heatmapgl"
           }
          ],
          "histogram": [
           {
            "marker": {
             "pattern": {
              "fillmode": "overlay",
              "size": 10,
              "solidity": 0.2
             }
            },
            "type": "histogram"
           }
          ],
          "histogram2d": [
           {
            "colorbar": {
             "outlinewidth": 0,
             "ticks": ""
            },
            "colorscale": [
             [
              0,
              "#0d0887"
             ],
             [
              0.1111111111111111,
              "#46039f"
             ],
             [
              0.2222222222222222,
              "#7201a8"
             ],
             [
              0.3333333333333333,
              "#9c179e"
             ],
             [
              0.4444444444444444,
              "#bd3786"
             ],
             [
              0.5555555555555556,
              "#d8576b"
             ],
             [
              0.6666666666666666,
              "#ed7953"
             ],
             [
              0.7777777777777778,
              "#fb9f3a"
             ],
             [
              0.8888888888888888,
              "#fdca26"
             ],
             [
              1,
              "#f0f921"
             ]
            ],
            "type": "histogram2d"
           }
          ],
          "histogram2dcontour": [
           {
            "colorbar": {
             "outlinewidth": 0,
             "ticks": ""
            },
            "colorscale": [
             [
              0,
              "#0d0887"
             ],
             [
              0.1111111111111111,
              "#46039f"
             ],
             [
              0.2222222222222222,
              "#7201a8"
             ],
             [
              0.3333333333333333,
              "#9c179e"
             ],
             [
              0.4444444444444444,
              "#bd3786"
             ],
             [
              0.5555555555555556,
              "#d8576b"
             ],
             [
              0.6666666666666666,
              "#ed7953"
             ],
             [
              0.7777777777777778,
              "#fb9f3a"
             ],
             [
              0.8888888888888888,
              "#fdca26"
             ],
             [
              1,
              "#f0f921"
             ]
            ],
            "type": "histogram2dcontour"
           }
          ],
          "mesh3d": [
           {
            "colorbar": {
             "outlinewidth": 0,
             "ticks": ""
            },
            "type": "mesh3d"
           }
          ],
          "parcoords": [
           {
            "line": {
             "colorbar": {
              "outlinewidth": 0,
              "ticks": ""
             }
            },
            "type": "parcoords"
           }
          ],
          "pie": [
           {
            "automargin": true,
            "type": "pie"
           }
          ],
          "scatter": [
           {
            "marker": {
             "colorbar": {
              "outlinewidth": 0,
              "ticks": ""
             }
            },
            "type": "scatter"
           }
          ],
          "scatter3d": [
           {
            "line": {
             "colorbar": {
              "outlinewidth": 0,
              "ticks": ""
             }
            },
            "marker": {
             "colorbar": {
              "outlinewidth": 0,
              "ticks": ""
             }
            },
            "type": "scatter3d"
           }
          ],
          "scattercarpet": [
           {
            "marker": {
             "colorbar": {
              "outlinewidth": 0,
              "ticks": ""
             }
            },
            "type": "scattercarpet"
           }
          ],
          "scattergeo": [
           {
            "marker": {
             "colorbar": {
              "outlinewidth": 0,
              "ticks": ""
             }
            },
            "type": "scattergeo"
           }
          ],
          "scattergl": [
           {
            "marker": {
             "colorbar": {
              "outlinewidth": 0,
              "ticks": ""
             }
            },
            "type": "scattergl"
           }
          ],
          "scattermapbox": [
           {
            "marker": {
             "colorbar": {
              "outlinewidth": 0,
              "ticks": ""
             }
            },
            "type": "scattermapbox"
           }
          ],
          "scatterpolar": [
           {
            "marker": {
             "colorbar": {
              "outlinewidth": 0,
              "ticks": ""
             }
            },
            "type": "scatterpolar"
           }
          ],
          "scatterpolargl": [
           {
            "marker": {
             "colorbar": {
              "outlinewidth": 0,
              "ticks": ""
             }
            },
            "type": "scatterpolargl"
           }
          ],
          "scatterternary": [
           {
            "marker": {
             "colorbar": {
              "outlinewidth": 0,
              "ticks": ""
             }
            },
            "type": "scatterternary"
           }
          ],
          "surface": [
           {
            "colorbar": {
             "outlinewidth": 0,
             "ticks": ""
            },
            "colorscale": [
             [
              0,
              "#0d0887"
             ],
             [
              0.1111111111111111,
              "#46039f"
             ],
             [
              0.2222222222222222,
              "#7201a8"
             ],
             [
              0.3333333333333333,
              "#9c179e"
             ],
             [
              0.4444444444444444,
              "#bd3786"
             ],
             [
              0.5555555555555556,
              "#d8576b"
             ],
             [
              0.6666666666666666,
              "#ed7953"
             ],
             [
              0.7777777777777778,
              "#fb9f3a"
             ],
             [
              0.8888888888888888,
              "#fdca26"
             ],
             [
              1,
              "#f0f921"
             ]
            ],
            "type": "surface"
           }
          ],
          "table": [
           {
            "cells": {
             "fill": {
              "color": "#EBF0F8"
             },
             "line": {
              "color": "white"
             }
            },
            "header": {
             "fill": {
              "color": "#C8D4E3"
             },
             "line": {
              "color": "white"
             }
            },
            "type": "table"
           }
          ]
         },
         "layout": {
          "annotationdefaults": {
           "arrowcolor": "#2a3f5f",
           "arrowhead": 0,
           "arrowwidth": 1
          },
          "autotypenumbers": "strict",
          "coloraxis": {
           "colorbar": {
            "outlinewidth": 0,
            "ticks": ""
           }
          },
          "colorscale": {
           "diverging": [
            [
             0,
             "#8e0152"
            ],
            [
             0.1,
             "#c51b7d"
            ],
            [
             0.2,
             "#de77ae"
            ],
            [
             0.3,
             "#f1b6da"
            ],
            [
             0.4,
             "#fde0ef"
            ],
            [
             0.5,
             "#f7f7f7"
            ],
            [
             0.6,
             "#e6f5d0"
            ],
            [
             0.7,
             "#b8e186"
            ],
            [
             0.8,
             "#7fbc41"
            ],
            [
             0.9,
             "#4d9221"
            ],
            [
             1,
             "#276419"
            ]
           ],
           "sequential": [
            [
             0,
             "#0d0887"
            ],
            [
             0.1111111111111111,
             "#46039f"
            ],
            [
             0.2222222222222222,
             "#7201a8"
            ],
            [
             0.3333333333333333,
             "#9c179e"
            ],
            [
             0.4444444444444444,
             "#bd3786"
            ],
            [
             0.5555555555555556,
             "#d8576b"
            ],
            [
             0.6666666666666666,
             "#ed7953"
            ],
            [
             0.7777777777777778,
             "#fb9f3a"
            ],
            [
             0.8888888888888888,
             "#fdca26"
            ],
            [
             1,
             "#f0f921"
            ]
           ],
           "sequentialminus": [
            [
             0,
             "#0d0887"
            ],
            [
             0.1111111111111111,
             "#46039f"
            ],
            [
             0.2222222222222222,
             "#7201a8"
            ],
            [
             0.3333333333333333,
             "#9c179e"
            ],
            [
             0.4444444444444444,
             "#bd3786"
            ],
            [
             0.5555555555555556,
             "#d8576b"
            ],
            [
             0.6666666666666666,
             "#ed7953"
            ],
            [
             0.7777777777777778,
             "#fb9f3a"
            ],
            [
             0.8888888888888888,
             "#fdca26"
            ],
            [
             1,
             "#f0f921"
            ]
           ]
          },
          "colorway": [
           "#636efa",
           "#EF553B",
           "#00cc96",
           "#ab63fa",
           "#FFA15A",
           "#19d3f3",
           "#FF6692",
           "#B6E880",
           "#FF97FF",
           "#FECB52"
          ],
          "font": {
           "color": "#2a3f5f"
          },
          "geo": {
           "bgcolor": "white",
           "lakecolor": "white",
           "landcolor": "#E5ECF6",
           "showlakes": true,
           "showland": true,
           "subunitcolor": "white"
          },
          "hoverlabel": {
           "align": "left"
          },
          "hovermode": "closest",
          "mapbox": {
           "style": "light"
          },
          "paper_bgcolor": "white",
          "plot_bgcolor": "#E5ECF6",
          "polar": {
           "angularaxis": {
            "gridcolor": "white",
            "linecolor": "white",
            "ticks": ""
           },
           "bgcolor": "#E5ECF6",
           "radialaxis": {
            "gridcolor": "white",
            "linecolor": "white",
            "ticks": ""
           }
          },
          "scene": {
           "xaxis": {
            "backgroundcolor": "#E5ECF6",
            "gridcolor": "white",
            "gridwidth": 2,
            "linecolor": "white",
            "showbackground": true,
            "ticks": "",
            "zerolinecolor": "white"
           },
           "yaxis": {
            "backgroundcolor": "#E5ECF6",
            "gridcolor": "white",
            "gridwidth": 2,
            "linecolor": "white",
            "showbackground": true,
            "ticks": "",
            "zerolinecolor": "white"
           },
           "zaxis": {
            "backgroundcolor": "#E5ECF6",
            "gridcolor": "white",
            "gridwidth": 2,
            "linecolor": "white",
            "showbackground": true,
            "ticks": "",
            "zerolinecolor": "white"
           }
          },
          "shapedefaults": {
           "line": {
            "color": "#2a3f5f"
           }
          },
          "ternary": {
           "aaxis": {
            "gridcolor": "white",
            "linecolor": "white",
            "ticks": ""
           },
           "baxis": {
            "gridcolor": "white",
            "linecolor": "white",
            "ticks": ""
           },
           "bgcolor": "#E5ECF6",
           "caxis": {
            "gridcolor": "white",
            "linecolor": "white",
            "ticks": ""
           }
          },
          "title": {
           "x": 0.05
          },
          "xaxis": {
           "automargin": true,
           "gridcolor": "white",
           "linecolor": "white",
           "ticks": "",
           "title": {
            "standoff": 15
           },
           "zerolinecolor": "white",
           "zerolinewidth": 2
          },
          "yaxis": {
           "automargin": true,
           "gridcolor": "white",
           "linecolor": "white",
           "ticks": "",
           "title": {
            "standoff": 15
           },
           "zerolinecolor": "white",
           "zerolinewidth": 2
          }
         }
        },
        "title": {
         "text": "Манхэттенское расстояние"
        },
        "width": 1000,
        "xaxis": {
         "anchor": "y",
         "constrain": "domain",
         "domain": [
          0,
          1
         ],
         "scaleanchor": "y",
         "side": "top"
        },
        "yaxis": {
         "anchor": "x",
         "autorange": "reversed",
         "constrain": "domain",
         "domain": [
          0,
          1
         ]
        }
       }
      }
     },
     "metadata": {},
     "output_type": "display_data"
    }
   ],
   "source": [
    "matrRes = calcDistance(getManhattanDistance, getDataFrameAroma(df))\n",
    "draw(matrRes, nameArr, \"Манхэттенское расстояние\")\n",
    "# getDifference(11, matrRes, nameArr)"
   ]
  },
  {
   "cell_type": "markdown",
   "metadata": {},
   "source": [
    "#### Евклидово расстояние"
   ]
  },
  {
   "cell_type": "code",
   "execution_count": 904,
   "metadata": {},
   "outputs": [
    {
     "data": {
      "application/vnd.plotly.v1+json": {
       "config": {
        "plotlyServerURL": "https://plot.ly"
       },
       "data": [
        {
         "coloraxis": "coloraxis",
         "hovertemplate": "x: %{x}<br>y: %{y}<br>color: %{z}<extra></extra>",
         "name": "0",
         "text": [
          "Shalimar",
          "3 L'Imperatrice",
          "1001 Nights",
          "Sabina",
          "Resolute Gold",
          "Oath for Him",
          "Twist",
          "CK Everyone",
          "Bad Boy",
          "Eau de Lacoste L.12.12 Blanc",
          "Ange ou Demon",
          "Samsara Eau de Parfum",
          "New Your Amber",
          "Renata",
          "Lanvin Eclat D Arpege",
          "MOSCHINO Toy Boy",
          "Cartier Declaration D Un Soir",
          "Channel №5",
          "Prada Day For Night",
          "Escentric Molecules Escentric 02",
          "The Only One",
          "Flora by Gucci Gorgeous Gardenia",
          "La Petite Robe Noire Ma Robe Cocktail",
          "La Petite Robe Noire Ma Robe Sous le Vent"
         ],
         "type": "heatmap",
         "x": [
          "Shalimar",
          "3 L'Imperatrice",
          "1001 Nights",
          "Sabina",
          "Resolute Gold",
          "Oath for Him",
          "Twist",
          "CK Everyone",
          "Bad Boy",
          "Eau de Lacoste L.12.12 Blanc",
          "Ange ou Demon",
          "Samsara Eau de Parfum",
          "New Your Amber",
          "Renata",
          "Lanvin Eclat D Arpege",
          "MOSCHINO Toy Boy",
          "Cartier Declaration D Un Soir",
          "Channel №5",
          "Prada Day For Night",
          "Escentric Molecules Escentric 02",
          "The Only One",
          "Flora by Gucci Gorgeous Gardenia",
          "La Petite Robe Noire Ma Robe Cocktail",
          "La Petite Robe Noire Ma Robe Sous le Vent"
         ],
         "xaxis": "x",
         "y": [
          "Shalimar",
          "3 L'Imperatrice",
          "1001 Nights",
          "Sabina",
          "Resolute Gold",
          "Oath for Him",
          "Twist",
          "CK Everyone",
          "Bad Boy",
          "Eau de Lacoste L.12.12 Blanc",
          "Ange ou Demon",
          "Samsara Eau de Parfum",
          "New Your Amber",
          "Renata",
          "Lanvin Eclat D Arpege",
          "MOSCHINO Toy Boy",
          "Cartier Declaration D Un Soir",
          "Channel №5",
          "Prada Day For Night",
          "Escentric Molecules Escentric 02",
          "The Only One",
          "Flora by Gucci Gorgeous Gardenia",
          "La Petite Robe Noire Ma Robe Cocktail",
          "La Petite Robe Noire Ma Robe Sous le Vent"
         ],
         "yaxis": "y",
         "z": [
          [
           0,
           0.5180465941830621,
           0.12261841350912144,
           0.5802256131644549,
           0.7901074621583742,
           0.9374184679892225,
           0.5851455805747166,
           0.7043962868017952,
           0.7779971978740272,
           0.8664486715481692,
           0.5008878202659383,
           0.9126079355427029,
           0.8980515683889145,
           0.5851263753798348,
           0.7361734534602133,
           0.38906430714510865,
           0.6780469211714408,
           0.9119401026485937,
           0.9746967772144729,
           0.2861308746562823,
           0.7666597495792358,
           0.5181326930275368,
           0.18004914803612806,
           0.4005157726888998
          ],
          [
           0.5180465941830621,
           0,
           0.49389196524593754,
           0.7365719309011534,
           0.7900499344265196,
           0.9374131028146251,
           0.7243803059836692,
           0.8472950563646277,
           0.9094068728651801,
           0.9861556682307068,
           0.07639900061203071,
           0.766660176809786,
           0.996357366006956,
           0.7243720695500661,
           0.544804858887218,
           0.6295896917813282,
           0.8255875672733359,
           0.7813869111534842,
           0.8864685894208165,
           0.5362308121427775,
           0.9126106107135957,
           0.015852933010130684,
           0.4376340207496555,
           0.5855212276791557
          ],
          [
           0.12261841350912144,
           0.49389196524593754,
           0,
           0.5777657659314274,
           0.8009979307337255,
           0.9467055413073368,
           0.5921349935881909,
           0.7309688276824372,
           0.8021436795642747,
           0.8882274899249051,
           0.4635690150839277,
           0.8926310162838783,
           0.9071556731631756,
           0.5921347479242156,
           0.7111789154959597,
           0.42174902583537854,
           0.7057800532489497,
           0.8862765777216435,
           0.9686734102718638,
           0.2803452651142196,
           0.7838585409665279,
           0.4943274080426779,
           0.22889982176215593,
           0.41089212233128475
          ],
          [
           0.5802256131644549,
           0.7365719309011534,
           0.5777657659314274,
           0,
           0.665555379985876,
           0.7902351566337695,
           0.8567007131995089,
           0.7362723734287829,
           0.8069597310558291,
           0.8924997259851778,
           0.724521995237492,
           0.7246004745801039,
           0.6777812061156557,
           0.3897893445285389,
           0.7247564423558226,
           0.698762667401312,
           0.8923681945951049,
           0.7222909432834077,
           0.8162869275968601,
           0.572488353457862,
           0.5852274525402525,
           0.7363159941811457,
           0.5925071294795199,
           0.4335613357072134
          ],
          [
           0.7901074621583742,
           0.7900499344265196,
           0.8009979307337255,
           0.665555379985876,
           0,
           0.5721957924278244,
           0.9343026155021228,
           0.8127253322446281,
           0.7900351204225399,
           0.6918808593529302,
           0.7864028799537427,
           0.5721865855704815,
           0.6876281060186488,
           0.5394209126533609,
           0.7863352833423549,
           0.6876365361779614,
           0.8774021584722064,
           0.5826412178008622,
           0.6032152830177454,
           0.7900489900236533,
           0.7864113373145184,
           0.7903360218450614,
           0.7900412861120689,
           0.6876857795786677
          ],
          [
           0.9374184679892225,
           0.9374131028146251,
           0.9467055413073368,
           0.7902351566337695,
           0.5721957924278244,
           0,
           0.7863722532202192,
           0.5772216031314598,
           0.5448007443206438,
           0.38898257016616783,
           0.9343062062034272,
           0.5394203166254778,
           0.5981207483774283,
           0.7863626041494388,
           0.7628780095065176,
           0.8529095743056185,
           0.6650736907869695,
           0.5494596603224219,
           0.19076446681602022,
           0.8977751753501628,
           0.5394293937955909,
           0.9375205488183379,
           0.9374158565638738,
           0.8528982823666954
          ],
          [
           0.5851455805747166,
           0.7243803059836692,
           0.5921349935881909,
           0.8567007131995089,
           0.9343026155021228,
           0.7863722532202192,
           0,
           0.4828681194975357,
           0.5850482912674397,
           0.6984259102126186,
           0.720400691649739,
           0.8999405239616207,
           0.9535560328023848,
           0.7628555874318116,
           0.7203272737533245,
           0.6942217603542857,
           0.4438311787100893,
           0.9066210371031661,
           0.8126892962714856,
           0.6918743532129427,
           0.5801451207883334,
           0.724691630287245,
           0.5772270949295084,
           0.6876853729609452
          ],
          [
           0.7043962868017952,
           0.8472950563646277,
           0.7309688276824372,
           0.7362723734287829,
           0.8127253322446281,
           0.5772216031314598,
           0.4828681194975357,
           0,
           0.19071476157466943,
           0.6876365851965871,
           0.8507465328329001,
           0.8507256847669784,
           0.7941113716434027,
           0.7239678240238991,
           0.6578362634516944,
           0.691846724961676,
           0.42659054634538424,
           0.8642610209143028,
           0.6908537788538308,
           0.7107868702996396,
           0.4332859155918313,
           0.8474971404539554,
           0.6942156085206294,
           0.5850595989438243
          ],
          [
           0.7779971978740272,
           0.9094068728651801,
           0.8021436795642747,
           0.8069597310558291,
           0.7900351204225399,
           0.5448007443206438,
           0.5850482912674397,
           0.19071476157466943,
           0,
           0.6606575862623156,
           0.9126206055449665,
           0.9126034386573246,
           0.816400103240718,
           0.7957688071496292,
           0.7361154765344063,
           0.6650418256363615,
           0.3815682438643023,
           0.9251848779772409,
           0.716686768684779,
           0.7359256922789498,
           0.5448326497086735,
           0.9095841864078587,
           0.7687969550377006,
           0.6718656438667159
          ],
          [
           0.8664486715481692,
           0.9861556682307068,
           0.8882274899249051,
           0.8924997259851778,
           0.6918808593529302,
           0.38898257016616783,
           0.6984259102126186,
           0.6876365851965871,
           0.6606575862623156,
           0,
           0.9891083458907214,
           0.8290648395329535,
           0.7203665394134657,
           0.8824735122228383,
           0.9891138725320883,
           0.7666675199234737,
           0.5394731133644095,
           0.8426555216936037,
           0.6067248171182353,
           0.8288965125946642,
           0.6650549881740989,
           0.9862744152345227,
           0.8582176487639719,
           0.9422552979225266
          ],
          [
           0.5008878202659383,
           0.07639900061203071,
           0.4635690150839277,
           0.724521995237492,
           0.7864028799537427,
           0.9343062062034272,
           0.720400691649739,
           0.8507465328329001,
           0.9126206055449665,
           0.9891083458907214,
           0,
           0.7628619744633421,
           0.9918683106523646,
           0.7203864513638406,
           0.5394872994525634,
           0.6249843360872599,
           0.829074207250711,
           0.7697505877744051,
           0.8831617566524996,
           0.5197147082501539,
           0.9094043072975966,
           0.0771759541307931,
           0.4442637250909416,
           0.5805269540703419
          ],
          [
           0.9126079355427029,
           0.766660176809786,
           0.8926310162838783,
           0.7246004745801039,
           0.5721865855704815,
           0.5394203166254778,
           0.8999405239616207,
           0.8507256847669784,
           0.9126034386573246,
           0.8290648395329535,
           0.7628619744633421,
           0,
           0.8338337082251013,
           0.7203508981670845,
           0.5394453368634867,
           0.986162858543532,
           0.9891282267101483,
           0.1050347256253327,
           0.44502787335069466,
           0.9230566696988612,
           0.7321593114028707,
           0.7668059606490931,
           0.8827759896602414,
           0.7924554789453705
          ],
          [
           0.8980515683889145,
           0.996357366006956,
           0.9071556731631756,
           0.6777812061156557,
           0.6876281060186488,
           0.5981207483774283,
           0.9535560328023848,
           0.7941113716434027,
           0.816400103240718,
           0.7203665394134657,
           0.9918683106523646,
           0.8338337082251013,
           0,
           0.7858179869612357,
           0.9950895861865748,
           0.8981603962423158,
           0.8968173512537376,
           0.8076347859097507,
           0.6849951507522523,
           0.8535523774391154,
           0.7141082598812467,
           0.9904981786235121,
           0.895600663538786,
           0.8049697277243906
          ],
          [
           0.5851263753798348,
           0.7243720695500661,
           0.5921347479242156,
           0.3897893445285389,
           0.5394209126533609,
           0.7863626041494388,
           0.7628555874318116,
           0.7239678240238991,
           0.7957688071496292,
           0.8824735122228383,
           0.7203864513638406,
           0.7203508981670845,
           0.7858179869612357,
           0,
           0.7203252410129428,
           0.6942175157402434,
           0.8825559617361142,
           0.7285775818009516,
           0.8126743777186464,
           0.6918659070256066,
           0.5801263436518646,
           0.7246608423257695,
           0.5772188855965532,
           0.4265209757881926
          ],
          [
           0.7361734534602133,
           0.544804858887218,
           0.7111789154959597,
           0.7247564423558226,
           0.7863352833423549,
           0.7628780095065176,
           0.7203272737533245,
           0.6578362634516944,
           0.7361154765344063,
           0.9891138725320883,
           0.5394872994525634,
           0.5394453368634867,
           0.9950895861865748,
           0.7203252410129428,
           0,
           0.8255489001219871,
           0.8291587744975325,
           0.5502640448407689,
           0.6993600754113541,
           0.7490506499959463,
           0.7322060210751726,
           0.5451624467726879,
           0.6988028849440485,
           0.5805662445061206
          ],
          [
           0.38906430714510865,
           0.6295896917813282,
           0.42174902583537854,
           0.698762667401312,
           0.6876365361779614,
           0.8529095743056185,
           0.6942217603542857,
           0.691846724961676,
           0.6650418256363615,
           0.7666675199234737,
           0.6249843360872599,
           0.986162858543532,
           0.8981603962423158,
           0.6942175157402434,
           0.8255489001219871,
           0,
           0.5448993583751016,
           0.9920175449480237,
           0.971747303136892,
           0.29609268555560675,
           0.8529325198965721,
           0.6298629625363243,
           0.40051148836156875,
           0.5478175928101132
          ],
          [
           0.6780469211714408,
           0.8255875672733359,
           0.7057800532489497,
           0.8923681945951049,
           0.8774021584722064,
           0.6650736907869695,
           0.4438311787100893,
           0.42659054634538424,
           0.3815682438643023,
           0.5394731133644095,
           0.829074207250711,
           0.9891282267101483,
           0.8968173512537376,
           0.8825559617361142,
           0.8291587744975325,
           0.5448993583751016,
           0,
           1,
           0.8118274956690207,
           0.629414855672992,
           0.665049862254263,
           0.825583877418496,
           0.6675682823365348,
           0.7725916640292595
          ],
          [
           0.9119401026485937,
           0.7813869111534842,
           0.8862765777216435,
           0.7222909432834077,
           0.5826412178008622,
           0.5494596603224219,
           0.9066210371031661,
           0.8642610209143028,
           0.9251848779772409,
           0.8426555216936037,
           0.7697505877744051,
           0.1050347256253327,
           0.8076347859097507,
           0.7285775818009516,
           0.5502640448407689,
           0.9920175449480237,
           1,
           0,
           0.45644947813740266,
           0.922805809671977,
           0.7392739306540955,
           0.7800640363860133,
           0.89569138816303,
           0.7992327213499063
          ],
          [
           0.9746967772144729,
           0.8864685894208165,
           0.9686734102718638,
           0.8162869275968601,
           0.6032152830177454,
           0.19076446681602022,
           0.8126892962714856,
           0.6908537788538308,
           0.716686768684779,
           0.6067248171182353,
           0.8831617566524996,
           0.44502787335069466,
           0.6849951507522523,
           0.8126743777186464,
           0.6993600754113541,
           0.971747303136892,
           0.8118274956690207,
           0.45644947813740266,
           0,
           0.9595685882929988,
           0.6018865617905584,
           0.8865035343004796,
           0.959575990421627,
           0.8771772676950002
          ],
          [
           0.2861308746562823,
           0.5362308121427775,
           0.2803452651142196,
           0.572488353457862,
           0.7900489900236533,
           0.8977751753501628,
           0.6918743532129427,
           0.7107868702996396,
           0.7359256922789498,
           0.8288965125946642,
           0.5197147082501539,
           0.9230566696988612,
           0.8535523774391154,
           0.6918659070256066,
           0.7490506499959463,
           0.29609268555560675,
           0.629414855672992,
           0.922805809671977,
           0.9595685882929988,
           0,
           0.8183120153129926,
           0.5364686103069316,
           0.30987497496498073,
           0.4733466633761859
          ],
          [
           0.7666597495792358,
           0.9126106107135957,
           0.7838585409665279,
           0.5852274525402525,
           0.7864113373145184,
           0.5394293937955909,
           0.5801451207883334,
           0.4332859155918313,
           0.5448326497086735,
           0.6650549881740989,
           0.9094043072975966,
           0.7321593114028707,
           0.7141082598812467,
           0.5801263436518646,
           0.7322060210751726,
           0.8529325198965721,
           0.665049862254263,
           0.7392739306540955,
           0.6018865617905584,
           0.8183120153129926,
           0,
           0.9126652892648055,
           0.7725948183719432,
           0.667507015091508
          ],
          [
           0.5181326930275368,
           0.015852933010130684,
           0.4943274080426779,
           0.7363159941811457,
           0.7903360218450614,
           0.9375205488183379,
           0.724691630287245,
           0.8474971404539554,
           0.9095841864078587,
           0.9862744152345227,
           0.0771759541307931,
           0.7668059606490931,
           0.9904981786235121,
           0.7246608423257695,
           0.5451624467726879,
           0.6298629625363243,
           0.825583877418496,
           0.7800640363860133,
           0.8865035343004796,
           0.5364686103069316,
           0.9126652892648055,
           0,
           0.43796415809148104,
           0.5856661675949832
          ],
          [
           0.18004914803612806,
           0.4376340207496555,
           0.22889982176215593,
           0.5925071294795199,
           0.7900412861120689,
           0.9374158565638738,
           0.5772270949295084,
           0.6942156085206294,
           0.7687969550377006,
           0.8582176487639719,
           0.4442637250909416,
           0.8827759896602414,
           0.895600663538786,
           0.5772188855965532,
           0.6988028849440485,
           0.40051148836156875,
           0.6675682823365348,
           0.89569138816303,
           0.959575990421627,
           0.30987497496498073,
           0.7725948183719432,
           0.43796415809148104,
           0,
           0.38899940058333704
          ],
          [
           0.4005157726888998,
           0.5855212276791557,
           0.41089212233128475,
           0.4335613357072134,
           0.6876857795786677,
           0.8528982823666954,
           0.6876853729609452,
           0.5850595989438243,
           0.6718656438667159,
           0.9422552979225266,
           0.5805269540703419,
           0.7924554789453705,
           0.8049697277243906,
           0.4265209757881926,
           0.5805662445061206,
           0.5478175928101132,
           0.7725916640292595,
           0.7992327213499063,
           0.8771772676950002,
           0.4733466633761859,
           0.667507015091508,
           0.5856661675949832,
           0.38899940058333704,
           0
          ]
         ]
        }
       ],
       "layout": {
        "coloraxis": {
         "colorscale": [
          [
           0,
           "#000004"
          ],
          [
           0.1111111111111111,
           "#1b0c41"
          ],
          [
           0.2222222222222222,
           "#4a0c6b"
          ],
          [
           0.3333333333333333,
           "#781c6d"
          ],
          [
           0.4444444444444444,
           "#a52c60"
          ],
          [
           0.5555555555555556,
           "#cf4446"
          ],
          [
           0.6666666666666666,
           "#ed6925"
          ],
          [
           0.7777777777777778,
           "#fb9b06"
          ],
          [
           0.8888888888888888,
           "#f7d13d"
          ],
          [
           1,
           "#fcffa4"
          ]
         ]
        },
        "height": 1200,
        "template": {
         "data": {
          "bar": [
           {
            "error_x": {
             "color": "#2a3f5f"
            },
            "error_y": {
             "color": "#2a3f5f"
            },
            "marker": {
             "line": {
              "color": "#E5ECF6",
              "width": 0.5
             },
             "pattern": {
              "fillmode": "overlay",
              "size": 10,
              "solidity": 0.2
             }
            },
            "type": "bar"
           }
          ],
          "barpolar": [
           {
            "marker": {
             "line": {
              "color": "#E5ECF6",
              "width": 0.5
             },
             "pattern": {
              "fillmode": "overlay",
              "size": 10,
              "solidity": 0.2
             }
            },
            "type": "barpolar"
           }
          ],
          "carpet": [
           {
            "aaxis": {
             "endlinecolor": "#2a3f5f",
             "gridcolor": "white",
             "linecolor": "white",
             "minorgridcolor": "white",
             "startlinecolor": "#2a3f5f"
            },
            "baxis": {
             "endlinecolor": "#2a3f5f",
             "gridcolor": "white",
             "linecolor": "white",
             "minorgridcolor": "white",
             "startlinecolor": "#2a3f5f"
            },
            "type": "carpet"
           }
          ],
          "choropleth": [
           {
            "colorbar": {
             "outlinewidth": 0,
             "ticks": ""
            },
            "type": "choropleth"
           }
          ],
          "contour": [
           {
            "colorbar": {
             "outlinewidth": 0,
             "ticks": ""
            },
            "colorscale": [
             [
              0,
              "#0d0887"
             ],
             [
              0.1111111111111111,
              "#46039f"
             ],
             [
              0.2222222222222222,
              "#7201a8"
             ],
             [
              0.3333333333333333,
              "#9c179e"
             ],
             [
              0.4444444444444444,
              "#bd3786"
             ],
             [
              0.5555555555555556,
              "#d8576b"
             ],
             [
              0.6666666666666666,
              "#ed7953"
             ],
             [
              0.7777777777777778,
              "#fb9f3a"
             ],
             [
              0.8888888888888888,
              "#fdca26"
             ],
             [
              1,
              "#f0f921"
             ]
            ],
            "type": "contour"
           }
          ],
          "contourcarpet": [
           {
            "colorbar": {
             "outlinewidth": 0,
             "ticks": ""
            },
            "type": "contourcarpet"
           }
          ],
          "heatmap": [
           {
            "colorbar": {
             "outlinewidth": 0,
             "ticks": ""
            },
            "colorscale": [
             [
              0,
              "#0d0887"
             ],
             [
              0.1111111111111111,
              "#46039f"
             ],
             [
              0.2222222222222222,
              "#7201a8"
             ],
             [
              0.3333333333333333,
              "#9c179e"
             ],
             [
              0.4444444444444444,
              "#bd3786"
             ],
             [
              0.5555555555555556,
              "#d8576b"
             ],
             [
              0.6666666666666666,
              "#ed7953"
             ],
             [
              0.7777777777777778,
              "#fb9f3a"
             ],
             [
              0.8888888888888888,
              "#fdca26"
             ],
             [
              1,
              "#f0f921"
             ]
            ],
            "type": "heatmap"
           }
          ],
          "heatmapgl": [
           {
            "colorbar": {
             "outlinewidth": 0,
             "ticks": ""
            },
            "colorscale": [
             [
              0,
              "#0d0887"
             ],
             [
              0.1111111111111111,
              "#46039f"
             ],
             [
              0.2222222222222222,
              "#7201a8"
             ],
             [
              0.3333333333333333,
              "#9c179e"
             ],
             [
              0.4444444444444444,
              "#bd3786"
             ],
             [
              0.5555555555555556,
              "#d8576b"
             ],
             [
              0.6666666666666666,
              "#ed7953"
             ],
             [
              0.7777777777777778,
              "#fb9f3a"
             ],
             [
              0.8888888888888888,
              "#fdca26"
             ],
             [
              1,
              "#f0f921"
             ]
            ],
            "type": "heatmapgl"
           }
          ],
          "histogram": [
           {
            "marker": {
             "pattern": {
              "fillmode": "overlay",
              "size": 10,
              "solidity": 0.2
             }
            },
            "type": "histogram"
           }
          ],
          "histogram2d": [
           {
            "colorbar": {
             "outlinewidth": 0,
             "ticks": ""
            },
            "colorscale": [
             [
              0,
              "#0d0887"
             ],
             [
              0.1111111111111111,
              "#46039f"
             ],
             [
              0.2222222222222222,
              "#7201a8"
             ],
             [
              0.3333333333333333,
              "#9c179e"
             ],
             [
              0.4444444444444444,
              "#bd3786"
             ],
             [
              0.5555555555555556,
              "#d8576b"
             ],
             [
              0.6666666666666666,
              "#ed7953"
             ],
             [
              0.7777777777777778,
              "#fb9f3a"
             ],
             [
              0.8888888888888888,
              "#fdca26"
             ],
             [
              1,
              "#f0f921"
             ]
            ],
            "type": "histogram2d"
           }
          ],
          "histogram2dcontour": [
           {
            "colorbar": {
             "outlinewidth": 0,
             "ticks": ""
            },
            "colorscale": [
             [
              0,
              "#0d0887"
             ],
             [
              0.1111111111111111,
              "#46039f"
             ],
             [
              0.2222222222222222,
              "#7201a8"
             ],
             [
              0.3333333333333333,
              "#9c179e"
             ],
             [
              0.4444444444444444,
              "#bd3786"
             ],
             [
              0.5555555555555556,
              "#d8576b"
             ],
             [
              0.6666666666666666,
              "#ed7953"
             ],
             [
              0.7777777777777778,
              "#fb9f3a"
             ],
             [
              0.8888888888888888,
              "#fdca26"
             ],
             [
              1,
              "#f0f921"
             ]
            ],
            "type": "histogram2dcontour"
           }
          ],
          "mesh3d": [
           {
            "colorbar": {
             "outlinewidth": 0,
             "ticks": ""
            },
            "type": "mesh3d"
           }
          ],
          "parcoords": [
           {
            "line": {
             "colorbar": {
              "outlinewidth": 0,
              "ticks": ""
             }
            },
            "type": "parcoords"
           }
          ],
          "pie": [
           {
            "automargin": true,
            "type": "pie"
           }
          ],
          "scatter": [
           {
            "marker": {
             "colorbar": {
              "outlinewidth": 0,
              "ticks": ""
             }
            },
            "type": "scatter"
           }
          ],
          "scatter3d": [
           {
            "line": {
             "colorbar": {
              "outlinewidth": 0,
              "ticks": ""
             }
            },
            "marker": {
             "colorbar": {
              "outlinewidth": 0,
              "ticks": ""
             }
            },
            "type": "scatter3d"
           }
          ],
          "scattercarpet": [
           {
            "marker": {
             "colorbar": {
              "outlinewidth": 0,
              "ticks": ""
             }
            },
            "type": "scattercarpet"
           }
          ],
          "scattergeo": [
           {
            "marker": {
             "colorbar": {
              "outlinewidth": 0,
              "ticks": ""
             }
            },
            "type": "scattergeo"
           }
          ],
          "scattergl": [
           {
            "marker": {
             "colorbar": {
              "outlinewidth": 0,
              "ticks": ""
             }
            },
            "type": "scattergl"
           }
          ],
          "scattermapbox": [
           {
            "marker": {
             "colorbar": {
              "outlinewidth": 0,
              "ticks": ""
             }
            },
            "type": "scattermapbox"
           }
          ],
          "scatterpolar": [
           {
            "marker": {
             "colorbar": {
              "outlinewidth": 0,
              "ticks": ""
             }
            },
            "type": "scatterpolar"
           }
          ],
          "scatterpolargl": [
           {
            "marker": {
             "colorbar": {
              "outlinewidth": 0,
              "ticks": ""
             }
            },
            "type": "scatterpolargl"
           }
          ],
          "scatterternary": [
           {
            "marker": {
             "colorbar": {
              "outlinewidth": 0,
              "ticks": ""
             }
            },
            "type": "scatterternary"
           }
          ],
          "surface": [
           {
            "colorbar": {
             "outlinewidth": 0,
             "ticks": ""
            },
            "colorscale": [
             [
              0,
              "#0d0887"
             ],
             [
              0.1111111111111111,
              "#46039f"
             ],
             [
              0.2222222222222222,
              "#7201a8"
             ],
             [
              0.3333333333333333,
              "#9c179e"
             ],
             [
              0.4444444444444444,
              "#bd3786"
             ],
             [
              0.5555555555555556,
              "#d8576b"
             ],
             [
              0.6666666666666666,
              "#ed7953"
             ],
             [
              0.7777777777777778,
              "#fb9f3a"
             ],
             [
              0.8888888888888888,
              "#fdca26"
             ],
             [
              1,
              "#f0f921"
             ]
            ],
            "type": "surface"
           }
          ],
          "table": [
           {
            "cells": {
             "fill": {
              "color": "#EBF0F8"
             },
             "line": {
              "color": "white"
             }
            },
            "header": {
             "fill": {
              "color": "#C8D4E3"
             },
             "line": {
              "color": "white"
             }
            },
            "type": "table"
           }
          ]
         },
         "layout": {
          "annotationdefaults": {
           "arrowcolor": "#2a3f5f",
           "arrowhead": 0,
           "arrowwidth": 1
          },
          "autotypenumbers": "strict",
          "coloraxis": {
           "colorbar": {
            "outlinewidth": 0,
            "ticks": ""
           }
          },
          "colorscale": {
           "diverging": [
            [
             0,
             "#8e0152"
            ],
            [
             0.1,
             "#c51b7d"
            ],
            [
             0.2,
             "#de77ae"
            ],
            [
             0.3,
             "#f1b6da"
            ],
            [
             0.4,
             "#fde0ef"
            ],
            [
             0.5,
             "#f7f7f7"
            ],
            [
             0.6,
             "#e6f5d0"
            ],
            [
             0.7,
             "#b8e186"
            ],
            [
             0.8,
             "#7fbc41"
            ],
            [
             0.9,
             "#4d9221"
            ],
            [
             1,
             "#276419"
            ]
           ],
           "sequential": [
            [
             0,
             "#0d0887"
            ],
            [
             0.1111111111111111,
             "#46039f"
            ],
            [
             0.2222222222222222,
             "#7201a8"
            ],
            [
             0.3333333333333333,
             "#9c179e"
            ],
            [
             0.4444444444444444,
             "#bd3786"
            ],
            [
             0.5555555555555556,
             "#d8576b"
            ],
            [
             0.6666666666666666,
             "#ed7953"
            ],
            [
             0.7777777777777778,
             "#fb9f3a"
            ],
            [
             0.8888888888888888,
             "#fdca26"
            ],
            [
             1,
             "#f0f921"
            ]
           ],
           "sequentialminus": [
            [
             0,
             "#0d0887"
            ],
            [
             0.1111111111111111,
             "#46039f"
            ],
            [
             0.2222222222222222,
             "#7201a8"
            ],
            [
             0.3333333333333333,
             "#9c179e"
            ],
            [
             0.4444444444444444,
             "#bd3786"
            ],
            [
             0.5555555555555556,
             "#d8576b"
            ],
            [
             0.6666666666666666,
             "#ed7953"
            ],
            [
             0.7777777777777778,
             "#fb9f3a"
            ],
            [
             0.8888888888888888,
             "#fdca26"
            ],
            [
             1,
             "#f0f921"
            ]
           ]
          },
          "colorway": [
           "#636efa",
           "#EF553B",
           "#00cc96",
           "#ab63fa",
           "#FFA15A",
           "#19d3f3",
           "#FF6692",
           "#B6E880",
           "#FF97FF",
           "#FECB52"
          ],
          "font": {
           "color": "#2a3f5f"
          },
          "geo": {
           "bgcolor": "white",
           "lakecolor": "white",
           "landcolor": "#E5ECF6",
           "showlakes": true,
           "showland": true,
           "subunitcolor": "white"
          },
          "hoverlabel": {
           "align": "left"
          },
          "hovermode": "closest",
          "mapbox": {
           "style": "light"
          },
          "paper_bgcolor": "white",
          "plot_bgcolor": "#E5ECF6",
          "polar": {
           "angularaxis": {
            "gridcolor": "white",
            "linecolor": "white",
            "ticks": ""
           },
           "bgcolor": "#E5ECF6",
           "radialaxis": {
            "gridcolor": "white",
            "linecolor": "white",
            "ticks": ""
           }
          },
          "scene": {
           "xaxis": {
            "backgroundcolor": "#E5ECF6",
            "gridcolor": "white",
            "gridwidth": 2,
            "linecolor": "white",
            "showbackground": true,
            "ticks": "",
            "zerolinecolor": "white"
           },
           "yaxis": {
            "backgroundcolor": "#E5ECF6",
            "gridcolor": "white",
            "gridwidth": 2,
            "linecolor": "white",
            "showbackground": true,
            "ticks": "",
            "zerolinecolor": "white"
           },
           "zaxis": {
            "backgroundcolor": "#E5ECF6",
            "gridcolor": "white",
            "gridwidth": 2,
            "linecolor": "white",
            "showbackground": true,
            "ticks": "",
            "zerolinecolor": "white"
           }
          },
          "shapedefaults": {
           "line": {
            "color": "#2a3f5f"
           }
          },
          "ternary": {
           "aaxis": {
            "gridcolor": "white",
            "linecolor": "white",
            "ticks": ""
           },
           "baxis": {
            "gridcolor": "white",
            "linecolor": "white",
            "ticks": ""
           },
           "bgcolor": "#E5ECF6",
           "caxis": {
            "gridcolor": "white",
            "linecolor": "white",
            "ticks": ""
           }
          },
          "title": {
           "x": 0.05
          },
          "xaxis": {
           "automargin": true,
           "gridcolor": "white",
           "linecolor": "white",
           "ticks": "",
           "title": {
            "standoff": 15
           },
           "zerolinecolor": "white",
           "zerolinewidth": 2
          },
          "yaxis": {
           "automargin": true,
           "gridcolor": "white",
           "linecolor": "white",
           "ticks": "",
           "title": {
            "standoff": 15
           },
           "zerolinecolor": "white",
           "zerolinewidth": 2
          }
         }
        },
        "title": {
         "text": "Евклидово расстояние"
        },
        "width": 1000,
        "xaxis": {
         "anchor": "y",
         "constrain": "domain",
         "domain": [
          0,
          1
         ],
         "scaleanchor": "y",
         "side": "top"
        },
        "yaxis": {
         "anchor": "x",
         "autorange": "reversed",
         "constrain": "domain",
         "domain": [
          0,
          1
         ]
        }
       }
      }
     },
     "metadata": {},
     "output_type": "display_data"
    }
   ],
   "source": [
    "matrRes = calcDistance(getEuclideanDistance, getDataFrameStat(df))\n",
    "draw(matrRes, nameArr, \"Евклидово расстояние\")"
   ]
  },
  {
   "cell_type": "markdown",
   "metadata": {},
   "source": [
    "#### Расстояние по брендам"
   ]
  },
  {
   "cell_type": "code",
   "execution_count": 905,
   "metadata": {},
   "outputs": [
    {
     "data": {
      "application/vnd.plotly.v1+json": {
       "config": {
        "plotlyServerURL": "https://plot.ly"
       },
       "data": [
        {
         "coloraxis": "coloraxis",
         "hovertemplate": "x: %{x}<br>y: %{y}<br>color: %{z}<extra></extra>",
         "name": "0",
         "text": [
          "Shalimar",
          "3 L'Imperatrice",
          "1001 Nights",
          "Sabina",
          "Resolute Gold",
          "Oath for Him",
          "Twist",
          "CK Everyone",
          "Bad Boy",
          "Eau de Lacoste L.12.12 Blanc",
          "Ange ou Demon",
          "Samsara Eau de Parfum",
          "New Your Amber",
          "Renata",
          "Lanvin Eclat D Arpege",
          "MOSCHINO Toy Boy",
          "Cartier Declaration D Un Soir",
          "Channel №5",
          "Prada Day For Night",
          "Escentric Molecules Escentric 02",
          "The Only One",
          "Flora by Gucci Gorgeous Gardenia",
          "La Petite Robe Noire Ma Robe Cocktail",
          "La Petite Robe Noire Ma Robe Sous le Vent"
         ],
         "type": "heatmap",
         "x": [
          "Shalimar",
          "3 L'Imperatrice",
          "1001 Nights",
          "Sabina",
          "Resolute Gold",
          "Oath for Him",
          "Twist",
          "CK Everyone",
          "Bad Boy",
          "Eau de Lacoste L.12.12 Blanc",
          "Ange ou Demon",
          "Samsara Eau de Parfum",
          "New Your Amber",
          "Renata",
          "Lanvin Eclat D Arpege",
          "MOSCHINO Toy Boy",
          "Cartier Declaration D Un Soir",
          "Channel №5",
          "Prada Day For Night",
          "Escentric Molecules Escentric 02",
          "The Only One",
          "Flora by Gucci Gorgeous Gardenia",
          "La Petite Robe Noire Ma Robe Cocktail",
          "La Petite Robe Noire Ma Robe Sous le Vent"
         ],
         "xaxis": "x",
         "y": [
          "Shalimar",
          "3 L'Imperatrice",
          "1001 Nights",
          "Sabina",
          "Resolute Gold",
          "Oath for Him",
          "Twist",
          "CK Everyone",
          "Bad Boy",
          "Eau de Lacoste L.12.12 Blanc",
          "Ange ou Demon",
          "Samsara Eau de Parfum",
          "New Your Amber",
          "Renata",
          "Lanvin Eclat D Arpege",
          "MOSCHINO Toy Boy",
          "Cartier Declaration D Un Soir",
          "Channel №5",
          "Prada Day For Night",
          "Escentric Molecules Escentric 02",
          "The Only One",
          "Flora by Gucci Gorgeous Gardenia",
          "La Petite Robe Noire Ma Robe Cocktail",
          "La Petite Robe Noire Ma Robe Sous le Vent"
         ],
         "yaxis": "y",
         "z": [
          [
           0,
           1,
           1,
           1,
           1,
           1,
           1,
           1,
           1,
           1,
           0,
           0,
           1,
           1,
           1,
           1,
           1,
           1,
           1,
           1,
           1,
           0,
           0,
           0
          ],
          [
           1,
           0,
           1,
           1,
           1,
           1,
           1,
           1,
           1,
           1,
           1,
           1,
           1,
           1,
           1,
           1,
           1,
           1,
           1,
           1,
           0,
           1,
           1,
           1
          ],
          [
           1,
           1,
           0,
           0,
           1,
           0,
           1,
           1,
           1,
           1,
           1,
           1,
           1,
           1,
           1,
           1,
           1,
           1,
           1,
           1,
           1,
           1,
           1,
           1
          ],
          [
           1,
           1,
           0,
           0,
           1,
           0,
           1,
           1,
           1,
           1,
           1,
           1,
           1,
           1,
           1,
           1,
           1,
           1,
           1,
           1,
           1,
           1,
           1,
           1
          ],
          [
           1,
           1,
           1,
           1,
           0,
           1,
           1,
           1,
           1,
           1,
           1,
           1,
           1,
           1,
           1,
           1,
           1,
           1,
           1,
           1,
           1,
           1,
           1,
           1
          ],
          [
           1,
           1,
           0,
           0,
           1,
           0,
           1,
           1,
           1,
           1,
           1,
           1,
           1,
           1,
           1,
           1,
           1,
           1,
           1,
           1,
           1,
           1,
           1,
           1
          ],
          [
           1,
           1,
           1,
           1,
           1,
           1,
           0,
           1,
           1,
           1,
           1,
           1,
           1,
           1,
           1,
           1,
           1,
           1,
           1,
           0,
           1,
           1,
           1,
           1
          ],
          [
           1,
           1,
           1,
           1,
           1,
           1,
           1,
           0,
           0,
           1,
           1,
           1,
           1,
           1,
           1,
           1,
           0,
           0,
           1,
           1,
           1,
           1,
           1,
           1
          ],
          [
           1,
           1,
           1,
           1,
           1,
           1,
           1,
           0,
           0,
           1,
           1,
           1,
           1,
           1,
           1,
           1,
           0,
           0,
           1,
           1,
           1,
           1,
           1,
           1
          ],
          [
           1,
           1,
           1,
           1,
           1,
           1,
           1,
           1,
           1,
           0,
           1,
           1,
           1,
           1,
           0,
           1,
           1,
           1,
           1,
           1,
           1,
           1,
           1,
           1
          ],
          [
           0,
           1,
           1,
           1,
           1,
           1,
           1,
           1,
           1,
           1,
           0,
           0,
           1,
           1,
           1,
           1,
           1,
           1,
           1,
           1,
           1,
           0,
           0,
           0
          ],
          [
           0,
           1,
           1,
           1,
           1,
           1,
           1,
           1,
           1,
           1,
           0,
           0,
           1,
           1,
           1,
           1,
           1,
           1,
           1,
           1,
           1,
           0,
           0,
           0
          ],
          [
           1,
           1,
           1,
           1,
           1,
           1,
           1,
           1,
           1,
           1,
           1,
           1,
           0,
           1,
           1,
           1,
           1,
           1,
           1,
           1,
           1,
           1,
           1,
           1
          ],
          [
           1,
           1,
           1,
           1,
           1,
           1,
           1,
           1,
           1,
           1,
           1,
           1,
           1,
           0,
           1,
           1,
           1,
           1,
           1,
           1,
           1,
           1,
           1,
           1
          ],
          [
           1,
           1,
           1,
           1,
           1,
           1,
           1,
           1,
           1,
           0,
           1,
           1,
           1,
           1,
           0,
           1,
           1,
           1,
           1,
           1,
           1,
           1,
           1,
           1
          ],
          [
           1,
           1,
           1,
           1,
           1,
           1,
           1,
           1,
           1,
           1,
           1,
           1,
           1,
           1,
           1,
           0,
           1,
           1,
           1,
           1,
           1,
           1,
           1,
           1
          ],
          [
           1,
           1,
           1,
           1,
           1,
           1,
           1,
           0,
           0,
           1,
           1,
           1,
           1,
           1,
           1,
           1,
           0,
           0,
           1,
           1,
           1,
           1,
           1,
           1
          ],
          [
           1,
           1,
           1,
           1,
           1,
           1,
           1,
           0,
           0,
           1,
           1,
           1,
           1,
           1,
           1,
           1,
           0,
           0,
           1,
           1,
           1,
           1,
           1,
           1
          ],
          [
           1,
           1,
           1,
           1,
           1,
           1,
           1,
           1,
           1,
           1,
           1,
           1,
           1,
           1,
           1,
           1,
           1,
           1,
           0,
           1,
           1,
           1,
           1,
           1
          ],
          [
           1,
           1,
           1,
           1,
           1,
           1,
           0,
           1,
           1,
           1,
           1,
           1,
           1,
           1,
           1,
           1,
           1,
           1,
           1,
           0,
           1,
           1,
           1,
           1
          ],
          [
           1,
           0,
           1,
           1,
           1,
           1,
           1,
           1,
           1,
           1,
           1,
           1,
           1,
           1,
           1,
           1,
           1,
           1,
           1,
           1,
           0,
           1,
           1,
           1
          ],
          [
           0,
           1,
           1,
           1,
           1,
           1,
           1,
           1,
           1,
           1,
           0,
           0,
           1,
           1,
           1,
           1,
           1,
           1,
           1,
           1,
           1,
           0,
           0,
           0
          ],
          [
           0,
           1,
           1,
           1,
           1,
           1,
           1,
           1,
           1,
           1,
           0,
           0,
           1,
           1,
           1,
           1,
           1,
           1,
           1,
           1,
           1,
           0,
           0,
           0
          ],
          [
           0,
           1,
           1,
           1,
           1,
           1,
           1,
           1,
           1,
           1,
           0,
           0,
           1,
           1,
           1,
           1,
           1,
           1,
           1,
           1,
           1,
           0,
           0,
           0
          ]
         ]
        }
       ],
       "layout": {
        "coloraxis": {
         "colorscale": [
          [
           0,
           "#000004"
          ],
          [
           0.1111111111111111,
           "#1b0c41"
          ],
          [
           0.2222222222222222,
           "#4a0c6b"
          ],
          [
           0.3333333333333333,
           "#781c6d"
          ],
          [
           0.4444444444444444,
           "#a52c60"
          ],
          [
           0.5555555555555556,
           "#cf4446"
          ],
          [
           0.6666666666666666,
           "#ed6925"
          ],
          [
           0.7777777777777778,
           "#fb9b06"
          ],
          [
           0.8888888888888888,
           "#f7d13d"
          ],
          [
           1,
           "#fcffa4"
          ]
         ]
        },
        "height": 1200,
        "template": {
         "data": {
          "bar": [
           {
            "error_x": {
             "color": "#2a3f5f"
            },
            "error_y": {
             "color": "#2a3f5f"
            },
            "marker": {
             "line": {
              "color": "#E5ECF6",
              "width": 0.5
             },
             "pattern": {
              "fillmode": "overlay",
              "size": 10,
              "solidity": 0.2
             }
            },
            "type": "bar"
           }
          ],
          "barpolar": [
           {
            "marker": {
             "line": {
              "color": "#E5ECF6",
              "width": 0.5
             },
             "pattern": {
              "fillmode": "overlay",
              "size": 10,
              "solidity": 0.2
             }
            },
            "type": "barpolar"
           }
          ],
          "carpet": [
           {
            "aaxis": {
             "endlinecolor": "#2a3f5f",
             "gridcolor": "white",
             "linecolor": "white",
             "minorgridcolor": "white",
             "startlinecolor": "#2a3f5f"
            },
            "baxis": {
             "endlinecolor": "#2a3f5f",
             "gridcolor": "white",
             "linecolor": "white",
             "minorgridcolor": "white",
             "startlinecolor": "#2a3f5f"
            },
            "type": "carpet"
           }
          ],
          "choropleth": [
           {
            "colorbar": {
             "outlinewidth": 0,
             "ticks": ""
            },
            "type": "choropleth"
           }
          ],
          "contour": [
           {
            "colorbar": {
             "outlinewidth": 0,
             "ticks": ""
            },
            "colorscale": [
             [
              0,
              "#0d0887"
             ],
             [
              0.1111111111111111,
              "#46039f"
             ],
             [
              0.2222222222222222,
              "#7201a8"
             ],
             [
              0.3333333333333333,
              "#9c179e"
             ],
             [
              0.4444444444444444,
              "#bd3786"
             ],
             [
              0.5555555555555556,
              "#d8576b"
             ],
             [
              0.6666666666666666,
              "#ed7953"
             ],
             [
              0.7777777777777778,
              "#fb9f3a"
             ],
             [
              0.8888888888888888,
              "#fdca26"
             ],
             [
              1,
              "#f0f921"
             ]
            ],
            "type": "contour"
           }
          ],
          "contourcarpet": [
           {
            "colorbar": {
             "outlinewidth": 0,
             "ticks": ""
            },
            "type": "contourcarpet"
           }
          ],
          "heatmap": [
           {
            "colorbar": {
             "outlinewidth": 0,
             "ticks": ""
            },
            "colorscale": [
             [
              0,
              "#0d0887"
             ],
             [
              0.1111111111111111,
              "#46039f"
             ],
             [
              0.2222222222222222,
              "#7201a8"
             ],
             [
              0.3333333333333333,
              "#9c179e"
             ],
             [
              0.4444444444444444,
              "#bd3786"
             ],
             [
              0.5555555555555556,
              "#d8576b"
             ],
             [
              0.6666666666666666,
              "#ed7953"
             ],
             [
              0.7777777777777778,
              "#fb9f3a"
             ],
             [
              0.8888888888888888,
              "#fdca26"
             ],
             [
              1,
              "#f0f921"
             ]
            ],
            "type": "heatmap"
           }
          ],
          "heatmapgl": [
           {
            "colorbar": {
             "outlinewidth": 0,
             "ticks": ""
            },
            "colorscale": [
             [
              0,
              "#0d0887"
             ],
             [
              0.1111111111111111,
              "#46039f"
             ],
             [
              0.2222222222222222,
              "#7201a8"
             ],
             [
              0.3333333333333333,
              "#9c179e"
             ],
             [
              0.4444444444444444,
              "#bd3786"
             ],
             [
              0.5555555555555556,
              "#d8576b"
             ],
             [
              0.6666666666666666,
              "#ed7953"
             ],
             [
              0.7777777777777778,
              "#fb9f3a"
             ],
             [
              0.8888888888888888,
              "#fdca26"
             ],
             [
              1,
              "#f0f921"
             ]
            ],
            "type": "heatmapgl"
           }
          ],
          "histogram": [
           {
            "marker": {
             "pattern": {
              "fillmode": "overlay",
              "size": 10,
              "solidity": 0.2
             }
            },
            "type": "histogram"
           }
          ],
          "histogram2d": [
           {
            "colorbar": {
             "outlinewidth": 0,
             "ticks": ""
            },
            "colorscale": [
             [
              0,
              "#0d0887"
             ],
             [
              0.1111111111111111,
              "#46039f"
             ],
             [
              0.2222222222222222,
              "#7201a8"
             ],
             [
              0.3333333333333333,
              "#9c179e"
             ],
             [
              0.4444444444444444,
              "#bd3786"
             ],
             [
              0.5555555555555556,
              "#d8576b"
             ],
             [
              0.6666666666666666,
              "#ed7953"
             ],
             [
              0.7777777777777778,
              "#fb9f3a"
             ],
             [
              0.8888888888888888,
              "#fdca26"
             ],
             [
              1,
              "#f0f921"
             ]
            ],
            "type": "histogram2d"
           }
          ],
          "histogram2dcontour": [
           {
            "colorbar": {
             "outlinewidth": 0,
             "ticks": ""
            },
            "colorscale": [
             [
              0,
              "#0d0887"
             ],
             [
              0.1111111111111111,
              "#46039f"
             ],
             [
              0.2222222222222222,
              "#7201a8"
             ],
             [
              0.3333333333333333,
              "#9c179e"
             ],
             [
              0.4444444444444444,
              "#bd3786"
             ],
             [
              0.5555555555555556,
              "#d8576b"
             ],
             [
              0.6666666666666666,
              "#ed7953"
             ],
             [
              0.7777777777777778,
              "#fb9f3a"
             ],
             [
              0.8888888888888888,
              "#fdca26"
             ],
             [
              1,
              "#f0f921"
             ]
            ],
            "type": "histogram2dcontour"
           }
          ],
          "mesh3d": [
           {
            "colorbar": {
             "outlinewidth": 0,
             "ticks": ""
            },
            "type": "mesh3d"
           }
          ],
          "parcoords": [
           {
            "line": {
             "colorbar": {
              "outlinewidth": 0,
              "ticks": ""
             }
            },
            "type": "parcoords"
           }
          ],
          "pie": [
           {
            "automargin": true,
            "type": "pie"
           }
          ],
          "scatter": [
           {
            "marker": {
             "colorbar": {
              "outlinewidth": 0,
              "ticks": ""
             }
            },
            "type": "scatter"
           }
          ],
          "scatter3d": [
           {
            "line": {
             "colorbar": {
              "outlinewidth": 0,
              "ticks": ""
             }
            },
            "marker": {
             "colorbar": {
              "outlinewidth": 0,
              "ticks": ""
             }
            },
            "type": "scatter3d"
           }
          ],
          "scattercarpet": [
           {
            "marker": {
             "colorbar": {
              "outlinewidth": 0,
              "ticks": ""
             }
            },
            "type": "scattercarpet"
           }
          ],
          "scattergeo": [
           {
            "marker": {
             "colorbar": {
              "outlinewidth": 0,
              "ticks": ""
             }
            },
            "type": "scattergeo"
           }
          ],
          "scattergl": [
           {
            "marker": {
             "colorbar": {
              "outlinewidth": 0,
              "ticks": ""
             }
            },
            "type": "scattergl"
           }
          ],
          "scattermapbox": [
           {
            "marker": {
             "colorbar": {
              "outlinewidth": 0,
              "ticks": ""
             }
            },
            "type": "scattermapbox"
           }
          ],
          "scatterpolar": [
           {
            "marker": {
             "colorbar": {
              "outlinewidth": 0,
              "ticks": ""
             }
            },
            "type": "scatterpolar"
           }
          ],
          "scatterpolargl": [
           {
            "marker": {
             "colorbar": {
              "outlinewidth": 0,
              "ticks": ""
             }
            },
            "type": "scatterpolargl"
           }
          ],
          "scatterternary": [
           {
            "marker": {
             "colorbar": {
              "outlinewidth": 0,
              "ticks": ""
             }
            },
            "type": "scatterternary"
           }
          ],
          "surface": [
           {
            "colorbar": {
             "outlinewidth": 0,
             "ticks": ""
            },
            "colorscale": [
             [
              0,
              "#0d0887"
             ],
             [
              0.1111111111111111,
              "#46039f"
             ],
             [
              0.2222222222222222,
              "#7201a8"
             ],
             [
              0.3333333333333333,
              "#9c179e"
             ],
             [
              0.4444444444444444,
              "#bd3786"
             ],
             [
              0.5555555555555556,
              "#d8576b"
             ],
             [
              0.6666666666666666,
              "#ed7953"
             ],
             [
              0.7777777777777778,
              "#fb9f3a"
             ],
             [
              0.8888888888888888,
              "#fdca26"
             ],
             [
              1,
              "#f0f921"
             ]
            ],
            "type": "surface"
           }
          ],
          "table": [
           {
            "cells": {
             "fill": {
              "color": "#EBF0F8"
             },
             "line": {
              "color": "white"
             }
            },
            "header": {
             "fill": {
              "color": "#C8D4E3"
             },
             "line": {
              "color": "white"
             }
            },
            "type": "table"
           }
          ]
         },
         "layout": {
          "annotationdefaults": {
           "arrowcolor": "#2a3f5f",
           "arrowhead": 0,
           "arrowwidth": 1
          },
          "autotypenumbers": "strict",
          "coloraxis": {
           "colorbar": {
            "outlinewidth": 0,
            "ticks": ""
           }
          },
          "colorscale": {
           "diverging": [
            [
             0,
             "#8e0152"
            ],
            [
             0.1,
             "#c51b7d"
            ],
            [
             0.2,
             "#de77ae"
            ],
            [
             0.3,
             "#f1b6da"
            ],
            [
             0.4,
             "#fde0ef"
            ],
            [
             0.5,
             "#f7f7f7"
            ],
            [
             0.6,
             "#e6f5d0"
            ],
            [
             0.7,
             "#b8e186"
            ],
            [
             0.8,
             "#7fbc41"
            ],
            [
             0.9,
             "#4d9221"
            ],
            [
             1,
             "#276419"
            ]
           ],
           "sequential": [
            [
             0,
             "#0d0887"
            ],
            [
             0.1111111111111111,
             "#46039f"
            ],
            [
             0.2222222222222222,
             "#7201a8"
            ],
            [
             0.3333333333333333,
             "#9c179e"
            ],
            [
             0.4444444444444444,
             "#bd3786"
            ],
            [
             0.5555555555555556,
             "#d8576b"
            ],
            [
             0.6666666666666666,
             "#ed7953"
            ],
            [
             0.7777777777777778,
             "#fb9f3a"
            ],
            [
             0.8888888888888888,
             "#fdca26"
            ],
            [
             1,
             "#f0f921"
            ]
           ],
           "sequentialminus": [
            [
             0,
             "#0d0887"
            ],
            [
             0.1111111111111111,
             "#46039f"
            ],
            [
             0.2222222222222222,
             "#7201a8"
            ],
            [
             0.3333333333333333,
             "#9c179e"
            ],
            [
             0.4444444444444444,
             "#bd3786"
            ],
            [
             0.5555555555555556,
             "#d8576b"
            ],
            [
             0.6666666666666666,
             "#ed7953"
            ],
            [
             0.7777777777777778,
             "#fb9f3a"
            ],
            [
             0.8888888888888888,
             "#fdca26"
            ],
            [
             1,
             "#f0f921"
            ]
           ]
          },
          "colorway": [
           "#636efa",
           "#EF553B",
           "#00cc96",
           "#ab63fa",
           "#FFA15A",
           "#19d3f3",
           "#FF6692",
           "#B6E880",
           "#FF97FF",
           "#FECB52"
          ],
          "font": {
           "color": "#2a3f5f"
          },
          "geo": {
           "bgcolor": "white",
           "lakecolor": "white",
           "landcolor": "#E5ECF6",
           "showlakes": true,
           "showland": true,
           "subunitcolor": "white"
          },
          "hoverlabel": {
           "align": "left"
          },
          "hovermode": "closest",
          "mapbox": {
           "style": "light"
          },
          "paper_bgcolor": "white",
          "plot_bgcolor": "#E5ECF6",
          "polar": {
           "angularaxis": {
            "gridcolor": "white",
            "linecolor": "white",
            "ticks": ""
           },
           "bgcolor": "#E5ECF6",
           "radialaxis": {
            "gridcolor": "white",
            "linecolor": "white",
            "ticks": ""
           }
          },
          "scene": {
           "xaxis": {
            "backgroundcolor": "#E5ECF6",
            "gridcolor": "white",
            "gridwidth": 2,
            "linecolor": "white",
            "showbackground": true,
            "ticks": "",
            "zerolinecolor": "white"
           },
           "yaxis": {
            "backgroundcolor": "#E5ECF6",
            "gridcolor": "white",
            "gridwidth": 2,
            "linecolor": "white",
            "showbackground": true,
            "ticks": "",
            "zerolinecolor": "white"
           },
           "zaxis": {
            "backgroundcolor": "#E5ECF6",
            "gridcolor": "white",
            "gridwidth": 2,
            "linecolor": "white",
            "showbackground": true,
            "ticks": "",
            "zerolinecolor": "white"
           }
          },
          "shapedefaults": {
           "line": {
            "color": "#2a3f5f"
           }
          },
          "ternary": {
           "aaxis": {
            "gridcolor": "white",
            "linecolor": "white",
            "ticks": ""
           },
           "baxis": {
            "gridcolor": "white",
            "linecolor": "white",
            "ticks": ""
           },
           "bgcolor": "#E5ECF6",
           "caxis": {
            "gridcolor": "white",
            "linecolor": "white",
            "ticks": ""
           }
          },
          "title": {
           "x": 0.05
          },
          "xaxis": {
           "automargin": true,
           "gridcolor": "white",
           "linecolor": "white",
           "ticks": "",
           "title": {
            "standoff": 15
           },
           "zerolinecolor": "white",
           "zerolinewidth": 2
          },
          "yaxis": {
           "automargin": true,
           "gridcolor": "white",
           "linecolor": "white",
           "ticks": "",
           "title": {
            "standoff": 15
           },
           "zerolinecolor": "white",
           "zerolinewidth": 2
          }
         }
        },
        "title": {
         "text": "Расстояние по брендам"
        },
        "width": 1000,
        "xaxis": {
         "anchor": "y",
         "constrain": "domain",
         "domain": [
          0,
          1
         ],
         "scaleanchor": "y",
         "side": "top"
        },
        "yaxis": {
         "anchor": "x",
         "autorange": "reversed",
         "constrain": "domain",
         "domain": [
          0,
          1
         ]
        }
       }
      }
     },
     "metadata": {},
     "output_type": "display_data"
    }
   ],
   "source": [
    "matrRes = calcDistance(getBrandDistance, df[\"бренд\"])\n",
    "draw(matrRes, nameArr, \"Расстояние по брендам\")"
   ]
  },
  {
   "cell_type": "markdown",
   "metadata": {},
   "source": [
    "#### Расстояние по парфюмерным школам"
   ]
  },
  {
   "cell_type": "code",
   "execution_count": 906,
   "metadata": {},
   "outputs": [
    {
     "data": {
      "application/vnd.plotly.v1+json": {
       "config": {
        "plotlyServerURL": "https://plot.ly"
       },
       "data": [
        {
         "coloraxis": "coloraxis",
         "hovertemplate": "x: %{x}<br>y: %{y}<br>color: %{z}<extra></extra>",
         "name": "0",
         "text": [
          "Shalimar",
          "3 L'Imperatrice",
          "1001 Nights",
          "Sabina",
          "Resolute Gold",
          "Oath for Him",
          "Twist",
          "CK Everyone",
          "Bad Boy",
          "Eau de Lacoste L.12.12 Blanc",
          "Ange ou Demon",
          "Samsara Eau de Parfum",
          "New Your Amber",
          "Renata",
          "Lanvin Eclat D Arpege",
          "MOSCHINO Toy Boy",
          "Cartier Declaration D Un Soir",
          "Channel №5",
          "Prada Day For Night",
          "Escentric Molecules Escentric 02",
          "The Only One",
          "Flora by Gucci Gorgeous Gardenia",
          "La Petite Robe Noire Ma Robe Cocktail",
          "La Petite Robe Noire Ma Robe Sous le Vent"
         ],
         "type": "heatmap",
         "x": [
          "Shalimar",
          "3 L'Imperatrice",
          "1001 Nights",
          "Sabina",
          "Resolute Gold",
          "Oath for Him",
          "Twist",
          "CK Everyone",
          "Bad Boy",
          "Eau de Lacoste L.12.12 Blanc",
          "Ange ou Demon",
          "Samsara Eau de Parfum",
          "New Your Amber",
          "Renata",
          "Lanvin Eclat D Arpege",
          "MOSCHINO Toy Boy",
          "Cartier Declaration D Un Soir",
          "Channel №5",
          "Prada Day For Night",
          "Escentric Molecules Escentric 02",
          "The Only One",
          "Flora by Gucci Gorgeous Gardenia",
          "La Petite Robe Noire Ma Robe Cocktail",
          "La Petite Robe Noire Ma Robe Sous le Vent"
         ],
         "xaxis": "x",
         "y": [
          "Shalimar",
          "3 L'Imperatrice",
          "1001 Nights",
          "Sabina",
          "Resolute Gold",
          "Oath for Him",
          "Twist",
          "CK Everyone",
          "Bad Boy",
          "Eau de Lacoste L.12.12 Blanc",
          "Ange ou Demon",
          "Samsara Eau de Parfum",
          "New Your Amber",
          "Renata",
          "Lanvin Eclat D Arpege",
          "MOSCHINO Toy Boy",
          "Cartier Declaration D Un Soir",
          "Channel №5",
          "Prada Day For Night",
          "Escentric Molecules Escentric 02",
          "The Only One",
          "Flora by Gucci Gorgeous Gardenia",
          "La Petite Robe Noire Ma Robe Cocktail",
          "La Petite Robe Noire Ma Robe Sous le Vent"
         ],
         "yaxis": "y",
         "z": [
          [
           0,
           0.5,
           0.9,
           0.9,
           0.9,
           0.9,
           0.9,
           0.9,
           0.9,
           0,
           0,
           0,
           0.9,
           0.8,
           0,
           0.5,
           0,
           0,
           0.5,
           1,
           0.5,
           0.5,
           0,
           0
          ],
          [
           0.5,
           0,
           0.8,
           0.8,
           0.8,
           0.8,
           0.8,
           0.5,
           0.5,
           0.5,
           0.5,
           0.5,
           0.5,
           0.9,
           0.5,
           0,
           0.5,
           0.5,
           0,
           1,
           0,
           0,
           0.5,
           0.5
          ],
          [
           0.9,
           0.8,
           0,
           0,
           0,
           0,
           0,
           0.9,
           0.9,
           0.9,
           0.9,
           0.9,
           0.9,
           0.8,
           0.9,
           0.8,
           0.9,
           0.9,
           0.8,
           1,
           0.8,
           0.8,
           0.9,
           0.9
          ],
          [
           0.9,
           0.8,
           0,
           0,
           0,
           0,
           0,
           0.9,
           0.9,
           0.9,
           0.9,
           0.9,
           0.9,
           0.8,
           0.9,
           0.8,
           0.9,
           0.9,
           0.8,
           1,
           0.8,
           0.8,
           0.9,
           0.9
          ],
          [
           0.9,
           0.8,
           0,
           0,
           0,
           0,
           0,
           0.9,
           0.9,
           0.9,
           0.9,
           0.9,
           0.9,
           0.8,
           0.9,
           0.8,
           0.9,
           0.9,
           0.8,
           1,
           0.8,
           0.8,
           0.9,
           0.9
          ],
          [
           0.9,
           0.8,
           0,
           0,
           0,
           0,
           0,
           0.9,
           0.9,
           0.9,
           0.9,
           0.9,
           0.9,
           0.8,
           0.9,
           0.8,
           0.9,
           0.9,
           0.8,
           1,
           0.8,
           0.8,
           0.9,
           0.9
          ],
          [
           0.9,
           0.8,
           0,
           0,
           0,
           0,
           0,
           0.9,
           0.9,
           0.9,
           0.9,
           0.9,
           0.9,
           0.8,
           0.9,
           0.8,
           0.9,
           0.9,
           0.8,
           1,
           0.8,
           0.8,
           0.9,
           0.9
          ],
          [
           0.9,
           0.5,
           0.9,
           0.9,
           0.9,
           0.9,
           0.9,
           0,
           0,
           0.9,
           0.9,
           0.9,
           0,
           0.7,
           0.9,
           0.5,
           0.9,
           0.9,
           0.5,
           1,
           0.5,
           0.5,
           0.9,
           0.9
          ],
          [
           0.9,
           0.5,
           0.9,
           0.9,
           0.9,
           0.9,
           0.9,
           0,
           0,
           0.9,
           0.9,
           0.9,
           0,
           0.7,
           0.9,
           0.5,
           0.9,
           0.9,
           0.5,
           1,
           0.5,
           0.5,
           0.9,
           0.9
          ],
          [
           0,
           0.5,
           0.9,
           0.9,
           0.9,
           0.9,
           0.9,
           0.9,
           0.9,
           0,
           0,
           0,
           0.9,
           0.8,
           0,
           0.5,
           0,
           0,
           0.5,
           1,
           0.5,
           0.5,
           0,
           0
          ],
          [
           0,
           0.5,
           0.9,
           0.9,
           0.9,
           0.9,
           0.9,
           0.9,
           0.9,
           0,
           0,
           0,
           0.9,
           0.8,
           0,
           0.5,
           0,
           0,
           0.5,
           1,
           0.5,
           0.5,
           0,
           0
          ],
          [
           0,
           0.5,
           0.9,
           0.9,
           0.9,
           0.9,
           0.9,
           0.9,
           0.9,
           0,
           0,
           0,
           0.9,
           0.8,
           0,
           0.5,
           0,
           0,
           0.5,
           1,
           0.5,
           0.5,
           0,
           0
          ],
          [
           0.9,
           0.5,
           0.9,
           0.9,
           0.9,
           0.9,
           0.9,
           0,
           0,
           0.9,
           0.9,
           0.9,
           0,
           0.7,
           0.9,
           0.5,
           0.9,
           0.9,
           0.5,
           1,
           0.5,
           0.5,
           0.9,
           0.9
          ],
          [
           0.8,
           0.9,
           0.8,
           0.8,
           0.8,
           0.8,
           0.8,
           0.7,
           0.7,
           0.8,
           0.8,
           0.8,
           0.7,
           0,
           0.8,
           0.9,
           0.8,
           0.8,
           0.9,
           1,
           0.9,
           0.9,
           0.8,
           0.8
          ],
          [
           0,
           0.5,
           0.9,
           0.9,
           0.9,
           0.9,
           0.9,
           0.9,
           0.9,
           0,
           0,
           0,
           0.9,
           0.8,
           0,
           0.5,
           0,
           0,
           0.5,
           1,
           0.5,
           0.5,
           0,
           0
          ],
          [
           0.5,
           0,
           0.8,
           0.8,
           0.8,
           0.8,
           0.8,
           0.5,
           0.5,
           0.5,
           0.5,
           0.5,
           0.5,
           0.9,
           0.5,
           0,
           0.5,
           0.5,
           0,
           1,
           0,
           0,
           0.5,
           0.5
          ],
          [
           0,
           0.5,
           0.9,
           0.9,
           0.9,
           0.9,
           0.9,
           0.9,
           0.9,
           0,
           0,
           0,
           0.9,
           0.8,
           0,
           0.5,
           0,
           0,
           0.5,
           1,
           0.5,
           0.5,
           0,
           0
          ],
          [
           0,
           0.5,
           0.9,
           0.9,
           0.9,
           0.9,
           0.9,
           0.9,
           0.9,
           0,
           0,
           0,
           0.9,
           0.8,
           0,
           0.5,
           0,
           0,
           0.5,
           1,
           0.5,
           0.5,
           0,
           0
          ],
          [
           0.5,
           0,
           0.8,
           0.8,
           0.8,
           0.8,
           0.8,
           0.5,
           0.5,
           0.5,
           0.5,
           0.5,
           0.5,
           0.9,
           0.5,
           0,
           0.5,
           0.5,
           0,
           1,
           0,
           0,
           0.5,
           0.5
          ],
          [
           1,
           1,
           1,
           1,
           1,
           1,
           1,
           1,
           1,
           1,
           1,
           1,
           1,
           1,
           1,
           1,
           1,
           1,
           1,
           0,
           1,
           1,
           1,
           1
          ],
          [
           0.5,
           0,
           0.8,
           0.8,
           0.8,
           0.8,
           0.8,
           0.5,
           0.5,
           0.5,
           0.5,
           0.5,
           0.5,
           0.9,
           0.5,
           0,
           0.5,
           0.5,
           0,
           1,
           0,
           0,
           0.5,
           0.5
          ],
          [
           0.5,
           0,
           0.8,
           0.8,
           0.8,
           0.8,
           0.8,
           0.5,
           0.5,
           0.5,
           0.5,
           0.5,
           0.5,
           0.9,
           0.5,
           0,
           0.5,
           0.5,
           0,
           1,
           0,
           0,
           0.5,
           0.5
          ],
          [
           0,
           0.5,
           0.9,
           0.9,
           0.9,
           0.9,
           0.9,
           0.9,
           0.9,
           0,
           0,
           0,
           0.9,
           0.8,
           0,
           0.5,
           0,
           0,
           0.5,
           1,
           0.5,
           0.5,
           0,
           0
          ],
          [
           0,
           0.5,
           0.9,
           0.9,
           0.9,
           0.9,
           0.9,
           0.9,
           0.9,
           0,
           0,
           0,
           0.9,
           0.8,
           0,
           0.5,
           0,
           0,
           0.5,
           1,
           0.5,
           0.5,
           0,
           0
          ]
         ]
        }
       ],
       "layout": {
        "coloraxis": {
         "colorscale": [
          [
           0,
           "#000004"
          ],
          [
           0.1111111111111111,
           "#1b0c41"
          ],
          [
           0.2222222222222222,
           "#4a0c6b"
          ],
          [
           0.3333333333333333,
           "#781c6d"
          ],
          [
           0.4444444444444444,
           "#a52c60"
          ],
          [
           0.5555555555555556,
           "#cf4446"
          ],
          [
           0.6666666666666666,
           "#ed6925"
          ],
          [
           0.7777777777777778,
           "#fb9b06"
          ],
          [
           0.8888888888888888,
           "#f7d13d"
          ],
          [
           1,
           "#fcffa4"
          ]
         ]
        },
        "height": 1200,
        "template": {
         "data": {
          "bar": [
           {
            "error_x": {
             "color": "#2a3f5f"
            },
            "error_y": {
             "color": "#2a3f5f"
            },
            "marker": {
             "line": {
              "color": "#E5ECF6",
              "width": 0.5
             },
             "pattern": {
              "fillmode": "overlay",
              "size": 10,
              "solidity": 0.2
             }
            },
            "type": "bar"
           }
          ],
          "barpolar": [
           {
            "marker": {
             "line": {
              "color": "#E5ECF6",
              "width": 0.5
             },
             "pattern": {
              "fillmode": "overlay",
              "size": 10,
              "solidity": 0.2
             }
            },
            "type": "barpolar"
           }
          ],
          "carpet": [
           {
            "aaxis": {
             "endlinecolor": "#2a3f5f",
             "gridcolor": "white",
             "linecolor": "white",
             "minorgridcolor": "white",
             "startlinecolor": "#2a3f5f"
            },
            "baxis": {
             "endlinecolor": "#2a3f5f",
             "gridcolor": "white",
             "linecolor": "white",
             "minorgridcolor": "white",
             "startlinecolor": "#2a3f5f"
            },
            "type": "carpet"
           }
          ],
          "choropleth": [
           {
            "colorbar": {
             "outlinewidth": 0,
             "ticks": ""
            },
            "type": "choropleth"
           }
          ],
          "contour": [
           {
            "colorbar": {
             "outlinewidth": 0,
             "ticks": ""
            },
            "colorscale": [
             [
              0,
              "#0d0887"
             ],
             [
              0.1111111111111111,
              "#46039f"
             ],
             [
              0.2222222222222222,
              "#7201a8"
             ],
             [
              0.3333333333333333,
              "#9c179e"
             ],
             [
              0.4444444444444444,
              "#bd3786"
             ],
             [
              0.5555555555555556,
              "#d8576b"
             ],
             [
              0.6666666666666666,
              "#ed7953"
             ],
             [
              0.7777777777777778,
              "#fb9f3a"
             ],
             [
              0.8888888888888888,
              "#fdca26"
             ],
             [
              1,
              "#f0f921"
             ]
            ],
            "type": "contour"
           }
          ],
          "contourcarpet": [
           {
            "colorbar": {
             "outlinewidth": 0,
             "ticks": ""
            },
            "type": "contourcarpet"
           }
          ],
          "heatmap": [
           {
            "colorbar": {
             "outlinewidth": 0,
             "ticks": ""
            },
            "colorscale": [
             [
              0,
              "#0d0887"
             ],
             [
              0.1111111111111111,
              "#46039f"
             ],
             [
              0.2222222222222222,
              "#7201a8"
             ],
             [
              0.3333333333333333,
              "#9c179e"
             ],
             [
              0.4444444444444444,
              "#bd3786"
             ],
             [
              0.5555555555555556,
              "#d8576b"
             ],
             [
              0.6666666666666666,
              "#ed7953"
             ],
             [
              0.7777777777777778,
              "#fb9f3a"
             ],
             [
              0.8888888888888888,
              "#fdca26"
             ],
             [
              1,
              "#f0f921"
             ]
            ],
            "type": "heatmap"
           }
          ],
          "heatmapgl": [
           {
            "colorbar": {
             "outlinewidth": 0,
             "ticks": ""
            },
            "colorscale": [
             [
              0,
              "#0d0887"
             ],
             [
              0.1111111111111111,
              "#46039f"
             ],
             [
              0.2222222222222222,
              "#7201a8"
             ],
             [
              0.3333333333333333,
              "#9c179e"
             ],
             [
              0.4444444444444444,
              "#bd3786"
             ],
             [
              0.5555555555555556,
              "#d8576b"
             ],
             [
              0.6666666666666666,
              "#ed7953"
             ],
             [
              0.7777777777777778,
              "#fb9f3a"
             ],
             [
              0.8888888888888888,
              "#fdca26"
             ],
             [
              1,
              "#f0f921"
             ]
            ],
            "type": "heatmapgl"
           }
          ],
          "histogram": [
           {
            "marker": {
             "pattern": {
              "fillmode": "overlay",
              "size": 10,
              "solidity": 0.2
             }
            },
            "type": "histogram"
           }
          ],
          "histogram2d": [
           {
            "colorbar": {
             "outlinewidth": 0,
             "ticks": ""
            },
            "colorscale": [
             [
              0,
              "#0d0887"
             ],
             [
              0.1111111111111111,
              "#46039f"
             ],
             [
              0.2222222222222222,
              "#7201a8"
             ],
             [
              0.3333333333333333,
              "#9c179e"
             ],
             [
              0.4444444444444444,
              "#bd3786"
             ],
             [
              0.5555555555555556,
              "#d8576b"
             ],
             [
              0.6666666666666666,
              "#ed7953"
             ],
             [
              0.7777777777777778,
              "#fb9f3a"
             ],
             [
              0.8888888888888888,
              "#fdca26"
             ],
             [
              1,
              "#f0f921"
             ]
            ],
            "type": "histogram2d"
           }
          ],
          "histogram2dcontour": [
           {
            "colorbar": {
             "outlinewidth": 0,
             "ticks": ""
            },
            "colorscale": [
             [
              0,
              "#0d0887"
             ],
             [
              0.1111111111111111,
              "#46039f"
             ],
             [
              0.2222222222222222,
              "#7201a8"
             ],
             [
              0.3333333333333333,
              "#9c179e"
             ],
             [
              0.4444444444444444,
              "#bd3786"
             ],
             [
              0.5555555555555556,
              "#d8576b"
             ],
             [
              0.6666666666666666,
              "#ed7953"
             ],
             [
              0.7777777777777778,
              "#fb9f3a"
             ],
             [
              0.8888888888888888,
              "#fdca26"
             ],
             [
              1,
              "#f0f921"
             ]
            ],
            "type": "histogram2dcontour"
           }
          ],
          "mesh3d": [
           {
            "colorbar": {
             "outlinewidth": 0,
             "ticks": ""
            },
            "type": "mesh3d"
           }
          ],
          "parcoords": [
           {
            "line": {
             "colorbar": {
              "outlinewidth": 0,
              "ticks": ""
             }
            },
            "type": "parcoords"
           }
          ],
          "pie": [
           {
            "automargin": true,
            "type": "pie"
           }
          ],
          "scatter": [
           {
            "marker": {
             "colorbar": {
              "outlinewidth": 0,
              "ticks": ""
             }
            },
            "type": "scatter"
           }
          ],
          "scatter3d": [
           {
            "line": {
             "colorbar": {
              "outlinewidth": 0,
              "ticks": ""
             }
            },
            "marker": {
             "colorbar": {
              "outlinewidth": 0,
              "ticks": ""
             }
            },
            "type": "scatter3d"
           }
          ],
          "scattercarpet": [
           {
            "marker": {
             "colorbar": {
              "outlinewidth": 0,
              "ticks": ""
             }
            },
            "type": "scattercarpet"
           }
          ],
          "scattergeo": [
           {
            "marker": {
             "colorbar": {
              "outlinewidth": 0,
              "ticks": ""
             }
            },
            "type": "scattergeo"
           }
          ],
          "scattergl": [
           {
            "marker": {
             "colorbar": {
              "outlinewidth": 0,
              "ticks": ""
             }
            },
            "type": "scattergl"
           }
          ],
          "scattermapbox": [
           {
            "marker": {
             "colorbar": {
              "outlinewidth": 0,
              "ticks": ""
             }
            },
            "type": "scattermapbox"
           }
          ],
          "scatterpolar": [
           {
            "marker": {
             "colorbar": {
              "outlinewidth": 0,
              "ticks": ""
             }
            },
            "type": "scatterpolar"
           }
          ],
          "scatterpolargl": [
           {
            "marker": {
             "colorbar": {
              "outlinewidth": 0,
              "ticks": ""
             }
            },
            "type": "scatterpolargl"
           }
          ],
          "scatterternary": [
           {
            "marker": {
             "colorbar": {
              "outlinewidth": 0,
              "ticks": ""
             }
            },
            "type": "scatterternary"
           }
          ],
          "surface": [
           {
            "colorbar": {
             "outlinewidth": 0,
             "ticks": ""
            },
            "colorscale": [
             [
              0,
              "#0d0887"
             ],
             [
              0.1111111111111111,
              "#46039f"
             ],
             [
              0.2222222222222222,
              "#7201a8"
             ],
             [
              0.3333333333333333,
              "#9c179e"
             ],
             [
              0.4444444444444444,
              "#bd3786"
             ],
             [
              0.5555555555555556,
              "#d8576b"
             ],
             [
              0.6666666666666666,
              "#ed7953"
             ],
             [
              0.7777777777777778,
              "#fb9f3a"
             ],
             [
              0.8888888888888888,
              "#fdca26"
             ],
             [
              1,
              "#f0f921"
             ]
            ],
            "type": "surface"
           }
          ],
          "table": [
           {
            "cells": {
             "fill": {
              "color": "#EBF0F8"
             },
             "line": {
              "color": "white"
             }
            },
            "header": {
             "fill": {
              "color": "#C8D4E3"
             },
             "line": {
              "color": "white"
             }
            },
            "type": "table"
           }
          ]
         },
         "layout": {
          "annotationdefaults": {
           "arrowcolor": "#2a3f5f",
           "arrowhead": 0,
           "arrowwidth": 1
          },
          "autotypenumbers": "strict",
          "coloraxis": {
           "colorbar": {
            "outlinewidth": 0,
            "ticks": ""
           }
          },
          "colorscale": {
           "diverging": [
            [
             0,
             "#8e0152"
            ],
            [
             0.1,
             "#c51b7d"
            ],
            [
             0.2,
             "#de77ae"
            ],
            [
             0.3,
             "#f1b6da"
            ],
            [
             0.4,
             "#fde0ef"
            ],
            [
             0.5,
             "#f7f7f7"
            ],
            [
             0.6,
             "#e6f5d0"
            ],
            [
             0.7,
             "#b8e186"
            ],
            [
             0.8,
             "#7fbc41"
            ],
            [
             0.9,
             "#4d9221"
            ],
            [
             1,
             "#276419"
            ]
           ],
           "sequential": [
            [
             0,
             "#0d0887"
            ],
            [
             0.1111111111111111,
             "#46039f"
            ],
            [
             0.2222222222222222,
             "#7201a8"
            ],
            [
             0.3333333333333333,
             "#9c179e"
            ],
            [
             0.4444444444444444,
             "#bd3786"
            ],
            [
             0.5555555555555556,
             "#d8576b"
            ],
            [
             0.6666666666666666,
             "#ed7953"
            ],
            [
             0.7777777777777778,
             "#fb9f3a"
            ],
            [
             0.8888888888888888,
             "#fdca26"
            ],
            [
             1,
             "#f0f921"
            ]
           ],
           "sequentialminus": [
            [
             0,
             "#0d0887"
            ],
            [
             0.1111111111111111,
             "#46039f"
            ],
            [
             0.2222222222222222,
             "#7201a8"
            ],
            [
             0.3333333333333333,
             "#9c179e"
            ],
            [
             0.4444444444444444,
             "#bd3786"
            ],
            [
             0.5555555555555556,
             "#d8576b"
            ],
            [
             0.6666666666666666,
             "#ed7953"
            ],
            [
             0.7777777777777778,
             "#fb9f3a"
            ],
            [
             0.8888888888888888,
             "#fdca26"
            ],
            [
             1,
             "#f0f921"
            ]
           ]
          },
          "colorway": [
           "#636efa",
           "#EF553B",
           "#00cc96",
           "#ab63fa",
           "#FFA15A",
           "#19d3f3",
           "#FF6692",
           "#B6E880",
           "#FF97FF",
           "#FECB52"
          ],
          "font": {
           "color": "#2a3f5f"
          },
          "geo": {
           "bgcolor": "white",
           "lakecolor": "white",
           "landcolor": "#E5ECF6",
           "showlakes": true,
           "showland": true,
           "subunitcolor": "white"
          },
          "hoverlabel": {
           "align": "left"
          },
          "hovermode": "closest",
          "mapbox": {
           "style": "light"
          },
          "paper_bgcolor": "white",
          "plot_bgcolor": "#E5ECF6",
          "polar": {
           "angularaxis": {
            "gridcolor": "white",
            "linecolor": "white",
            "ticks": ""
           },
           "bgcolor": "#E5ECF6",
           "radialaxis": {
            "gridcolor": "white",
            "linecolor": "white",
            "ticks": ""
           }
          },
          "scene": {
           "xaxis": {
            "backgroundcolor": "#E5ECF6",
            "gridcolor": "white",
            "gridwidth": 2,
            "linecolor": "white",
            "showbackground": true,
            "ticks": "",
            "zerolinecolor": "white"
           },
           "yaxis": {
            "backgroundcolor": "#E5ECF6",
            "gridcolor": "white",
            "gridwidth": 2,
            "linecolor": "white",
            "showbackground": true,
            "ticks": "",
            "zerolinecolor": "white"
           },
           "zaxis": {
            "backgroundcolor": "#E5ECF6",
            "gridcolor": "white",
            "gridwidth": 2,
            "linecolor": "white",
            "showbackground": true,
            "ticks": "",
            "zerolinecolor": "white"
           }
          },
          "shapedefaults": {
           "line": {
            "color": "#2a3f5f"
           }
          },
          "ternary": {
           "aaxis": {
            "gridcolor": "white",
            "linecolor": "white",
            "ticks": ""
           },
           "baxis": {
            "gridcolor": "white",
            "linecolor": "white",
            "ticks": ""
           },
           "bgcolor": "#E5ECF6",
           "caxis": {
            "gridcolor": "white",
            "linecolor": "white",
            "ticks": ""
           }
          },
          "title": {
           "x": 0.05
          },
          "xaxis": {
           "automargin": true,
           "gridcolor": "white",
           "linecolor": "white",
           "ticks": "",
           "title": {
            "standoff": 15
           },
           "zerolinecolor": "white",
           "zerolinewidth": 2
          },
          "yaxis": {
           "automargin": true,
           "gridcolor": "white",
           "linecolor": "white",
           "ticks": "",
           "title": {
            "standoff": 15
           },
           "zerolinecolor": "white",
           "zerolinewidth": 2
          }
         }
        },
        "title": {
         "text": "Расстояние по парфюмерным школам"
        },
        "width": 1000,
        "xaxis": {
         "anchor": "y",
         "constrain": "domain",
         "domain": [
          0,
          1
         ],
         "scaleanchor": "y",
         "side": "top"
        },
        "yaxis": {
         "anchor": "x",
         "autorange": "reversed",
         "constrain": "domain",
         "domain": [
          0,
          1
         ]
        }
       }
      }
     },
     "metadata": {},
     "output_type": "display_data"
    }
   ],
   "source": [
    "matrRes = calcDistance(getCountryDistance, df[\"страна\"])\n",
    "draw(matrRes, nameArr, \"Расстояние по парфюмерным школам\")"
   ]
  },
  {
   "cell_type": "markdown",
   "metadata": {},
   "source": [
    "#### Косинусное сходство"
   ]
  },
  {
   "cell_type": "code",
   "execution_count": 907,
   "metadata": {},
   "outputs": [
    {
     "data": {
      "application/vnd.plotly.v1+json": {
       "config": {
        "plotlyServerURL": "https://plot.ly"
       },
       "data": [
        {
         "coloraxis": "coloraxis",
         "hovertemplate": "x: %{x}<br>y: %{y}<br>color: %{z}<extra></extra>",
         "name": "0",
         "text": [
          "Shalimar",
          "3 L'Imperatrice",
          "1001 Nights",
          "Sabina",
          "Resolute Gold",
          "Oath for Him",
          "Twist",
          "CK Everyone",
          "Bad Boy",
          "Eau de Lacoste L.12.12 Blanc",
          "Ange ou Demon",
          "Samsara Eau de Parfum",
          "New Your Amber",
          "Renata",
          "Lanvin Eclat D Arpege",
          "MOSCHINO Toy Boy",
          "Cartier Declaration D Un Soir",
          "Channel №5",
          "Prada Day For Night",
          "Escentric Molecules Escentric 02",
          "The Only One",
          "Flora by Gucci Gorgeous Gardenia",
          "La Petite Robe Noire Ma Robe Cocktail",
          "La Petite Robe Noire Ma Robe Sous le Vent"
         ],
         "type": "heatmap",
         "x": [
          "Shalimar",
          "3 L'Imperatrice",
          "1001 Nights",
          "Sabina",
          "Resolute Gold",
          "Oath for Him",
          "Twist",
          "CK Everyone",
          "Bad Boy",
          "Eau de Lacoste L.12.12 Blanc",
          "Ange ou Demon",
          "Samsara Eau de Parfum",
          "New Your Amber",
          "Renata",
          "Lanvin Eclat D Arpege",
          "MOSCHINO Toy Boy",
          "Cartier Declaration D Un Soir",
          "Channel №5",
          "Prada Day For Night",
          "Escentric Molecules Escentric 02",
          "The Only One",
          "Flora by Gucci Gorgeous Gardenia",
          "La Petite Robe Noire Ma Robe Cocktail",
          "La Petite Robe Noire Ma Robe Sous le Vent"
         ],
         "xaxis": "x",
         "y": [
          "Shalimar",
          "3 L'Imperatrice",
          "1001 Nights",
          "Sabina",
          "Resolute Gold",
          "Oath for Him",
          "Twist",
          "CK Everyone",
          "Bad Boy",
          "Eau de Lacoste L.12.12 Blanc",
          "Ange ou Demon",
          "Samsara Eau de Parfum",
          "New Your Amber",
          "Renata",
          "Lanvin Eclat D Arpege",
          "MOSCHINO Toy Boy",
          "Cartier Declaration D Un Soir",
          "Channel №5",
          "Prada Day For Night",
          "Escentric Molecules Escentric 02",
          "The Only One",
          "Flora by Gucci Gorgeous Gardenia",
          "La Petite Robe Noire Ma Robe Cocktail",
          "La Petite Robe Noire Ma Robe Sous le Vent"
         ],
         "yaxis": "y",
         "z": [
          [
           0.9999999999999998,
           0.052925612402496304,
           0.17106843599969934,
           0.07881104062391005,
           0.05421667071936294,
           0.24466854359793078,
           0.10631127985856037,
           0.039448422360929235,
           0.4352034887499428,
           0.17517942427074784,
           0.6250541102117804,
           0.6335425870976354,
           0.6826797520283002,
           0.6477905427948532,
           0.00851349073731328,
           0.38733729950423124,
           0.41338049972162944,
           0.24039295346263026,
           0.7472309574747615,
           0.6495348560917109,
           0.6972071391076162,
           0.0437839114577278,
           0.049151734271851655,
           0.14886529895627454
          ],
          [
           0.052925612402496304,
           0.9999999999999998,
           0.2509741561779514,
           0.4963635881027161,
           0.47001599194042154,
           0.28663301140657527,
           0.5783541827789478,
           0.23676013879409533,
           0.0630915175301304,
           0.18127338626492115,
           0.21938172723813912,
           0.1222066741131823,
           0.07019329771955513,
           0.09557242498741926,
           0.4825730124331105,
           0.17882363330352083,
           0.13216960960863816,
           0.3593134953348082,
           0.022048693185121173,
           0.33777797401776155,
           0.218562218482081,
           0.5547593043500945,
           0.4022688153188416,
           0.37957215560795937
          ],
          [
           0.17106843599969934,
           0.2509741561779514,
           0.9999999999999997,
           0.23782391693748436,
           0.35058596825972593,
           0.6927126394461033,
           0.3111615180038052,
           0.09183195389610789,
           0.5302104882846229,
           0.5077970035017281,
           0.3261837159835047,
           0.46723053170314693,
           0.16724429063323448,
           0.21500365266442487,
           0.23121640421660833,
           0.500934566390852,
           0.4760276318117719,
           0.2251306941420724,
           0.1795921657823231,
           0.3159741111080759,
           0.3159741111080759,
           0.23782391693748436,
           0.24848850137329023,
           0.23782391693748436
          ],
          [
           0.07881104062391005,
           0.4963635881027161,
           0.23782391693748436,
           0.9999999999999998,
           0.4486515850484711,
           0.2298275377091957,
           0.5463665640046447,
           0.22198054491067581,
           0.13570410542043743,
           0.12996751218242406,
           0.23593505280820395,
           0.11265232318399149,
           0.09456950645999586,
           0.2371933589521656,
           0.5776940324050737,
           0.12821111371481106,
           0.08434823356732997,
           0.39785799524194654,
           0.09849751616108388,
           0.24655983406694434,
           0.28600940751765547,
           0.5942028985507245,
           0.4954813592993989,
           0.536231884057971
          ],
          [
           0.05421667071936294,
           0.47001599194042154,
           0.35058596825972593,
           0.4486515850484711,
           0.9999999999999997,
           0.338798178409059,
           0.584817778730714,
           0.14552137502179976,
           0.06463056119412343,
           0.061898446059017266,
           0.24720661623652204,
           0.09657341699694755,
           0.11710337475865945,
           0.10573610652753618,
           0.36639674581314957,
           0.10991149581709674,
           0.05802588531856593,
           0.4247059928646878,
           0.013551927136362359,
           0.3053097106030465,
           0.25646015690655904,
           0.3768673314407157,
           0.46702591742554256,
           0.4486515850484711
          ],
          [
           0.24466854359793078,
           0.28663301140657527,
           0.6927126394461033,
           0.2298275377091957,
           0.338798178409059,
           0.9999999999999998,
           0.4125874125874125,
           0.12818617962011497,
           0.5123831638097072,
           0.5511200026657288,
           0.2603961612262503,
           0.47769590731504263,
           0.1616210177980595,
           0.23643312187173013,
           0.22344219010170377,
           0.5138818410528526,
           0.5166402083981014,
           0.38332193900060024,
           0.14049586776859502,
           0.3351403311214256,
           0.3351403311214256,
           0.27360421155856635,
           0.32948556266548285,
           0.3611575592573076
          ],
          [
           0.10631127985856037,
           0.5783541827789478,
           0.3111615180038052,
           0.5463665640046447,
           0.584817778730714,
           0.4125874125874125,
           0.9999999999999998,
           0.22527393696552753,
           0.12673145708429442,
           0.12137416286315839,
           0.3131079347538314,
           0.23809290217072202,
           0.13039549020916782,
           0.16368446898812086,
           0.45916142361558904,
           0.11973389607585974,
           0.06587298758289808,
           0.517205693162972,
           0.07692307692307691,
           0.32139098420362355,
           0.3718052562355645,
           0.4722829621057098,
           0.4961614405197297,
           0.6204501659035796
          ],
          [
           0.039448422360929235,
           0.23676013879409533,
           0.09183195389610789,
           0.22198054491067581,
           0.14552137502179976,
           0.12818617962011497,
           0.22527393696552753,
           0.9999999999999998,
           0.009405128133399415,
           0.11709811076887167,
           0.11446223952935249,
           0.07026748215974729,
           0.049329338226396235,
           0.07693431805669283,
           0.26659279127121194,
           0.04442908889446309,
           0.07599605956573481,
           0.1112468401110025,
           0.0493023767769673,
           0.15105890224117452,
           0.11551563112560403,
           0.22198054491067581,
           0.12659635488402618,
           0.11751911201153425
          ],
          [
           0.4352034887499428,
           0.0630915175301304,
           0.5302104882846229,
           0.13570410542043743,
           0.06463056119412343,
           0.5123831638097072,
           0.12673145708429442,
           0.009405128133399415,
           0.9999999999999996,
           0.4680621627831003,
           0.19608261960600074,
           0.45563637199711776,
           0.21151845136150899,
           0.17084459758390708,
           0.050743772789152396,
           0.745882373916174,
           0.7087964055337805,
           0.1284612575751281,
           0.1970704476191181,
           0.14917647478323479,
           0.20600560803399087,
           0.05219388670016824,
           0.058592756204037325,
           0.13570410542043743
          ],
          [
           0.17517942427074784,
           0.18127338626492115,
           0.5077970035017281,
           0.12996751218242406,
           0.061898446059017266,
           0.5511200026657288,
           0.12137416286315839,
           0.11709811076887167,
           0.4680621627831003,
           0.9999999999999998,
           0.16275450289674365,
           0.43637534431859953,
           0.12017278061240774,
           0.1374429144140893,
           0.16523554993609288,
           0.523858011222736,
           0.5495319562599504,
           0.1230308398344929,
           0.15854137062986717,
           0.19729717305791353,
           0.1428703666971098,
           0.16995751593086225,
           0.056115876024213196,
           0.04998750468554771
          ],
          [
           0.6250541102117804,
           0.21938172723813912,
           0.3261837159835047,
           0.23593505280820395,
           0.24720661623652204,
           0.2603961612262503,
           0.3131079347538314,
           0.11446223952935249,
           0.19608261960600074,
           0.16275450289674365,
           0.9999999999999998,
           0.6402462138266491,
           0.6918607726062582,
           0.7009914733695921,
           0.194090785141161,
           0.1358542448321957,
           0.17604469755488256,
           0.29206345641622095,
           0.7263682392100668,
           0.7533735395239942,
           0.8027750830993382,
           0.19963735237617258,
           0.21299948864078283,
           0.2722327532402354
          ],
          [
           0.6335425870976354,
           0.1222066741131823,
           0.46723053170314693,
           0.11265232318399149,
           0.09657341699694755,
           0.47769590731504263,
           0.23809290217072202,
           0.07026748215974729,
           0.45563637199711776,
           0.43637534431859953,
           0.6402462138266491,
           1,
           0.6517597358598969,
           0.5956589979268496,
           0.10952247960871253,
           0.40689026753493845,
           0.38665930334459786,
           0.1722642975901014,
           0.6870968529873902,
           0.66635652509345,
           0.6899443666896783,
           0.07799006989660949,
           0.11938841119037363,
           0.1473145764713735
          ],
          [
           0.6826797520283002,
           0.07019329771955513,
           0.16724429063323448,
           0.09456950645999586,
           0.11710337475865945,
           0.1616210177980595,
           0.13039549020916782,
           0.049329338226396235,
           0.21151845136150899,
           0.12017278061240774,
           0.6918607726062582,
           0.6517597358598969,
           1,
           0.7135973749734786,
           0.05322961463779129,
           0.1727424635085974,
           0.13840397088111,
           0.12721562869323946,
           0.8832776554079995,
           0.7146796039277264,
           0.7417764609486829,
           0.01493202733578882,
           0.0634949431466216,
           0.09456950645999586
          ],
          [
           0.6477905427948532,
           0.09557242498741926,
           0.21500365266442487,
           0.2371933589521656,
           0.10573610652753618,
           0.23643312187173013,
           0.16368446898812086,
           0.07693431805669283,
           0.17084459758390708,
           0.1374429144140893,
           0.7009914733695921,
           0.5956589979268496,
           0.7135973749734786,
           0.9999999999999998,
           0.1937068267332089,
           0.18723710848844688,
           0.15338577978496218,
           0.15268297755504046,
           0.7809457661823813,
           0.7037532698358865,
           0.7554048859706304,
           0.2751442963845121,
           0.20817692085384143,
           0.2751442963845121
          ],
          [
           0.00851349073731328,
           0.4825730124331105,
           0.23121640421660833,
           0.5776940324050737,
           0.36639674581314957,
           0.22344219010170377,
           0.45916142361558904,
           0.26659279127121194,
           0.050743772789152396,
           0.16523554993609288,
           0.194090785141161,
           0.10952247960871253,
           0.05322961463779129,
           0.1937068267332089,
           1,
           0.12464899693640907,
           0.15489789617658975,
           0.33345191509920935,
           0.010640104290557324,
           0.31641668453088456,
           0.20135607197419927,
           0.6340544258104467,
           0.48171529478121883,
           0.4649732455943275
          ],
          [
           0.38733729950423124,
           0.17882363330352083,
           0.500934566390852,
           0.12821111371481106,
           0.10991149581709674,
           0.5138818410528526,
           0.11973389607585974,
           0.04442908889446309,
           0.745882373916174,
           0.523858011222736,
           0.1358542448321957,
           0.40689026753493845,
           0.1727424635085974,
           0.18723710848844688,
           0.12464899693640907,
           1,
           0.6951705918107637,
           0.12136818449143197,
           0.15639882118999862,
           0.16778523489932887,
           0.19463087248322145,
           0.20711026061623325,
           0.055357518516228076,
           0.04931196681338887
          ],
          [
           0.41338049972162944,
           0.13216960960863816,
           0.4760276318117719,
           0.08434823356732997,
           0.05802588531856593,
           0.5166402083981014,
           0.06587298758289808,
           0.07599605956573481,
           0.7087964055337805,
           0.5495319562599504,
           0.17604469755488256,
           0.38665930334459786,
           0.13840397088111,
           0.15338577978496218,
           0.15489789617658975,
           0.6951705918107637,
           0.9999999999999998,
           0.18630819574471993,
           0.14862252570356344,
           0.21046449109867157,
           0.1594427962868724,
           0.12183633737503217,
           0.05260509098446913,
           0.046860129759627764
          ],
          [
           0.24039295346263026,
           0.3593134953348082,
           0.2251306941420724,
           0.39785799524194654,
           0.4247059928646878,
           0.38332193900060024,
           0.517205693162972,
           0.1112468401110025,
           0.1284612575751281,
           0.1230308398344929,
           0.29206345641622095,
           0.1722642975901014,
           0.12721562869323946,
           0.15268297755504046,
           0.33345191509920935,
           0.12136818449143197,
           0.18630819574471993,
           0.9999999999999996,
           0.09324047164879466,
           0.30808846832440423,
           0.3454325250909987,
           0.3429810303809884,
           0.35702767071676234,
           0.4527349601029047
          ],
          [
           0.7472309574747615,
           0.022048693185121173,
           0.1795921657823231,
           0.09849751616108388,
           0.013551927136362359,
           0.14049586776859502,
           0.07692307692307691,
           0.0493023767769673,
           0.1970704476191181,
           0.15854137062986717,
           0.7263682392100668,
           0.6870968529873902,
           0.8832776554079995,
           0.7809457661823813,
           0.010640104290557324,
           0.15639882118999862,
           0.14862252570356344,
           0.09324047164879466,
           0.9999999999999998,
           0.7522038542947552,
           0.8117843576052308,
           0.010944168462342653,
           0.016753503186380483,
           0.054720842311713265
          ],
          [
           0.6495348560917109,
           0.33777797401776155,
           0.3159741111080759,
           0.24655983406694434,
           0.3053097106030465,
           0.3351403311214256,
           0.32139098420362355,
           0.15105890224117452,
           0.14917647478323479,
           0.19729717305791353,
           0.7533735395239942,
           0.66635652509345,
           0.7146796039277264,
           0.7037532698358865,
           0.31641668453088456,
           0.16778523489932887,
           0.21046449109867157,
           0.30808846832440423,
           0.7522038542947552,
           1,
           0.8389261744966442,
           0.28600940751765547,
           0.25665758584796655,
           0.24655983406694434
          ],
          [
           0.6972071391076162,
           0.218562218482081,
           0.3159741111080759,
           0.28600940751765547,
           0.25646015690655904,
           0.3351403311214256,
           0.3718052562355645,
           0.11551563112560403,
           0.20600560803399087,
           0.1428703666971098,
           0.8027750830993382,
           0.6899443666896783,
           0.7417764609486829,
           0.7554048859706304,
           0.20135607197419927,
           0.19463087248322145,
           0.1594427962868724,
           0.3454325250909987,
           0.8117843576052308,
           0.8389261744966442,
           1,
           0.28600940751765547,
           0.21639757238161883,
           0.28600940751765547
          ],
          [
           0.0437839114577278,
           0.5547593043500945,
           0.23782391693748436,
           0.5942028985507245,
           0.3768673314407157,
           0.27360421155856635,
           0.4722829621057098,
           0.22198054491067581,
           0.05219388670016824,
           0.16995751593086225,
           0.19963735237617258,
           0.07799006989660949,
           0.01493202733578882,
           0.2751442963845121,
           0.6340544258104467,
           0.20711026061623325,
           0.12183633737503217,
           0.3429810303809884,
           0.010944168462342653,
           0.28600940751765547,
           0.28600940751765547,
           0.9999999999999998,
           0.4954813592993989,
           0.536231884057971
          ],
          [
           0.049151734271851655,
           0.4022688153188416,
           0.24848850137329023,
           0.4954813592993989,
           0.46702591742554256,
           0.32948556266548285,
           0.4961614405197297,
           0.12659635488402618,
           0.058592756204037325,
           0.056115876024213196,
           0.21299948864078283,
           0.11938841119037363,
           0.0634949431466216,
           0.20817692085384143,
           0.48171529478121883,
           0.055357518516228076,
           0.05260509098446913,
           0.35702767071676234,
           0.016753503186380483,
           0.25665758584796655,
           0.21639757238161883,
           0.4954813592993989,
           0.9999999999999998,
           0.5546433126485809
          ],
          [
           0.14886529895627454,
           0.37957215560795937,
           0.23782391693748436,
           0.536231884057971,
           0.4486515850484711,
           0.3611575592573076,
           0.6204501659035796,
           0.11751911201153425,
           0.13570410542043743,
           0.04998750468554771,
           0.2722327532402354,
           0.1473145764713735,
           0.09456950645999586,
           0.2751442963845121,
           0.4649732455943275,
           0.04931196681338887,
           0.046860129759627764,
           0.4527349601029047,
           0.054720842311713265,
           0.24655983406694434,
           0.28600940751765547,
           0.536231884057971,
           0.5546433126485809,
           0.9999999999999998
          ]
         ]
        }
       ],
       "layout": {
        "coloraxis": {
         "colorscale": [
          [
           0,
           "#fcffa4"
          ],
          [
           0.1111111111111111,
           "#f7d13d"
          ],
          [
           0.2222222222222222,
           "#fb9b06"
          ],
          [
           0.3333333333333333,
           "#ed6925"
          ],
          [
           0.4444444444444444,
           "#cf4446"
          ],
          [
           0.5555555555555556,
           "#a52c60"
          ],
          [
           0.6666666666666666,
           "#781c6d"
          ],
          [
           0.7777777777777778,
           "#4a0c6b"
          ],
          [
           0.8888888888888888,
           "#1b0c41"
          ],
          [
           1,
           "#000004"
          ]
         ]
        },
        "height": 1200,
        "template": {
         "data": {
          "bar": [
           {
            "error_x": {
             "color": "#2a3f5f"
            },
            "error_y": {
             "color": "#2a3f5f"
            },
            "marker": {
             "line": {
              "color": "#E5ECF6",
              "width": 0.5
             },
             "pattern": {
              "fillmode": "overlay",
              "size": 10,
              "solidity": 0.2
             }
            },
            "type": "bar"
           }
          ],
          "barpolar": [
           {
            "marker": {
             "line": {
              "color": "#E5ECF6",
              "width": 0.5
             },
             "pattern": {
              "fillmode": "overlay",
              "size": 10,
              "solidity": 0.2
             }
            },
            "type": "barpolar"
           }
          ],
          "carpet": [
           {
            "aaxis": {
             "endlinecolor": "#2a3f5f",
             "gridcolor": "white",
             "linecolor": "white",
             "minorgridcolor": "white",
             "startlinecolor": "#2a3f5f"
            },
            "baxis": {
             "endlinecolor": "#2a3f5f",
             "gridcolor": "white",
             "linecolor": "white",
             "minorgridcolor": "white",
             "startlinecolor": "#2a3f5f"
            },
            "type": "carpet"
           }
          ],
          "choropleth": [
           {
            "colorbar": {
             "outlinewidth": 0,
             "ticks": ""
            },
            "type": "choropleth"
           }
          ],
          "contour": [
           {
            "colorbar": {
             "outlinewidth": 0,
             "ticks": ""
            },
            "colorscale": [
             [
              0,
              "#0d0887"
             ],
             [
              0.1111111111111111,
              "#46039f"
             ],
             [
              0.2222222222222222,
              "#7201a8"
             ],
             [
              0.3333333333333333,
              "#9c179e"
             ],
             [
              0.4444444444444444,
              "#bd3786"
             ],
             [
              0.5555555555555556,
              "#d8576b"
             ],
             [
              0.6666666666666666,
              "#ed7953"
             ],
             [
              0.7777777777777778,
              "#fb9f3a"
             ],
             [
              0.8888888888888888,
              "#fdca26"
             ],
             [
              1,
              "#f0f921"
             ]
            ],
            "type": "contour"
           }
          ],
          "contourcarpet": [
           {
            "colorbar": {
             "outlinewidth": 0,
             "ticks": ""
            },
            "type": "contourcarpet"
           }
          ],
          "heatmap": [
           {
            "colorbar": {
             "outlinewidth": 0,
             "ticks": ""
            },
            "colorscale": [
             [
              0,
              "#0d0887"
             ],
             [
              0.1111111111111111,
              "#46039f"
             ],
             [
              0.2222222222222222,
              "#7201a8"
             ],
             [
              0.3333333333333333,
              "#9c179e"
             ],
             [
              0.4444444444444444,
              "#bd3786"
             ],
             [
              0.5555555555555556,
              "#d8576b"
             ],
             [
              0.6666666666666666,
              "#ed7953"
             ],
             [
              0.7777777777777778,
              "#fb9f3a"
             ],
             [
              0.8888888888888888,
              "#fdca26"
             ],
             [
              1,
              "#f0f921"
             ]
            ],
            "type": "heatmap"
           }
          ],
          "heatmapgl": [
           {
            "colorbar": {
             "outlinewidth": 0,
             "ticks": ""
            },
            "colorscale": [
             [
              0,
              "#0d0887"
             ],
             [
              0.1111111111111111,
              "#46039f"
             ],
             [
              0.2222222222222222,
              "#7201a8"
             ],
             [
              0.3333333333333333,
              "#9c179e"
             ],
             [
              0.4444444444444444,
              "#bd3786"
             ],
             [
              0.5555555555555556,
              "#d8576b"
             ],
             [
              0.6666666666666666,
              "#ed7953"
             ],
             [
              0.7777777777777778,
              "#fb9f3a"
             ],
             [
              0.8888888888888888,
              "#fdca26"
             ],
             [
              1,
              "#f0f921"
             ]
            ],
            "type": "heatmapgl"
           }
          ],
          "histogram": [
           {
            "marker": {
             "pattern": {
              "fillmode": "overlay",
              "size": 10,
              "solidity": 0.2
             }
            },
            "type": "histogram"
           }
          ],
          "histogram2d": [
           {
            "colorbar": {
             "outlinewidth": 0,
             "ticks": ""
            },
            "colorscale": [
             [
              0,
              "#0d0887"
             ],
             [
              0.1111111111111111,
              "#46039f"
             ],
             [
              0.2222222222222222,
              "#7201a8"
             ],
             [
              0.3333333333333333,
              "#9c179e"
             ],
             [
              0.4444444444444444,
              "#bd3786"
             ],
             [
              0.5555555555555556,
              "#d8576b"
             ],
             [
              0.6666666666666666,
              "#ed7953"
             ],
             [
              0.7777777777777778,
              "#fb9f3a"
             ],
             [
              0.8888888888888888,
              "#fdca26"
             ],
             [
              1,
              "#f0f921"
             ]
            ],
            "type": "histogram2d"
           }
          ],
          "histogram2dcontour": [
           {
            "colorbar": {
             "outlinewidth": 0,
             "ticks": ""
            },
            "colorscale": [
             [
              0,
              "#0d0887"
             ],
             [
              0.1111111111111111,
              "#46039f"
             ],
             [
              0.2222222222222222,
              "#7201a8"
             ],
             [
              0.3333333333333333,
              "#9c179e"
             ],
             [
              0.4444444444444444,
              "#bd3786"
             ],
             [
              0.5555555555555556,
              "#d8576b"
             ],
             [
              0.6666666666666666,
              "#ed7953"
             ],
             [
              0.7777777777777778,
              "#fb9f3a"
             ],
             [
              0.8888888888888888,
              "#fdca26"
             ],
             [
              1,
              "#f0f921"
             ]
            ],
            "type": "histogram2dcontour"
           }
          ],
          "mesh3d": [
           {
            "colorbar": {
             "outlinewidth": 0,
             "ticks": ""
            },
            "type": "mesh3d"
           }
          ],
          "parcoords": [
           {
            "line": {
             "colorbar": {
              "outlinewidth": 0,
              "ticks": ""
             }
            },
            "type": "parcoords"
           }
          ],
          "pie": [
           {
            "automargin": true,
            "type": "pie"
           }
          ],
          "scatter": [
           {
            "marker": {
             "colorbar": {
              "outlinewidth": 0,
              "ticks": ""
             }
            },
            "type": "scatter"
           }
          ],
          "scatter3d": [
           {
            "line": {
             "colorbar": {
              "outlinewidth": 0,
              "ticks": ""
             }
            },
            "marker": {
             "colorbar": {
              "outlinewidth": 0,
              "ticks": ""
             }
            },
            "type": "scatter3d"
           }
          ],
          "scattercarpet": [
           {
            "marker": {
             "colorbar": {
              "outlinewidth": 0,
              "ticks": ""
             }
            },
            "type": "scattercarpet"
           }
          ],
          "scattergeo": [
           {
            "marker": {
             "colorbar": {
              "outlinewidth": 0,
              "ticks": ""
             }
            },
            "type": "scattergeo"
           }
          ],
          "scattergl": [
           {
            "marker": {
             "colorbar": {
              "outlinewidth": 0,
              "ticks": ""
             }
            },
            "type": "scattergl"
           }
          ],
          "scattermapbox": [
           {
            "marker": {
             "colorbar": {
              "outlinewidth": 0,
              "ticks": ""
             }
            },
            "type": "scattermapbox"
           }
          ],
          "scatterpolar": [
           {
            "marker": {
             "colorbar": {
              "outlinewidth": 0,
              "ticks": ""
             }
            },
            "type": "scatterpolar"
           }
          ],
          "scatterpolargl": [
           {
            "marker": {
             "colorbar": {
              "outlinewidth": 0,
              "ticks": ""
             }
            },
            "type": "scatterpolargl"
           }
          ],
          "scatterternary": [
           {
            "marker": {
             "colorbar": {
              "outlinewidth": 0,
              "ticks": ""
             }
            },
            "type": "scatterternary"
           }
          ],
          "surface": [
           {
            "colorbar": {
             "outlinewidth": 0,
             "ticks": ""
            },
            "colorscale": [
             [
              0,
              "#0d0887"
             ],
             [
              0.1111111111111111,
              "#46039f"
             ],
             [
              0.2222222222222222,
              "#7201a8"
             ],
             [
              0.3333333333333333,
              "#9c179e"
             ],
             [
              0.4444444444444444,
              "#bd3786"
             ],
             [
              0.5555555555555556,
              "#d8576b"
             ],
             [
              0.6666666666666666,
              "#ed7953"
             ],
             [
              0.7777777777777778,
              "#fb9f3a"
             ],
             [
              0.8888888888888888,
              "#fdca26"
             ],
             [
              1,
              "#f0f921"
             ]
            ],
            "type": "surface"
           }
          ],
          "table": [
           {
            "cells": {
             "fill": {
              "color": "#EBF0F8"
             },
             "line": {
              "color": "white"
             }
            },
            "header": {
             "fill": {
              "color": "#C8D4E3"
             },
             "line": {
              "color": "white"
             }
            },
            "type": "table"
           }
          ]
         },
         "layout": {
          "annotationdefaults": {
           "arrowcolor": "#2a3f5f",
           "arrowhead": 0,
           "arrowwidth": 1
          },
          "autotypenumbers": "strict",
          "coloraxis": {
           "colorbar": {
            "outlinewidth": 0,
            "ticks": ""
           }
          },
          "colorscale": {
           "diverging": [
            [
             0,
             "#8e0152"
            ],
            [
             0.1,
             "#c51b7d"
            ],
            [
             0.2,
             "#de77ae"
            ],
            [
             0.3,
             "#f1b6da"
            ],
            [
             0.4,
             "#fde0ef"
            ],
            [
             0.5,
             "#f7f7f7"
            ],
            [
             0.6,
             "#e6f5d0"
            ],
            [
             0.7,
             "#b8e186"
            ],
            [
             0.8,
             "#7fbc41"
            ],
            [
             0.9,
             "#4d9221"
            ],
            [
             1,
             "#276419"
            ]
           ],
           "sequential": [
            [
             0,
             "#0d0887"
            ],
            [
             0.1111111111111111,
             "#46039f"
            ],
            [
             0.2222222222222222,
             "#7201a8"
            ],
            [
             0.3333333333333333,
             "#9c179e"
            ],
            [
             0.4444444444444444,
             "#bd3786"
            ],
            [
             0.5555555555555556,
             "#d8576b"
            ],
            [
             0.6666666666666666,
             "#ed7953"
            ],
            [
             0.7777777777777778,
             "#fb9f3a"
            ],
            [
             0.8888888888888888,
             "#fdca26"
            ],
            [
             1,
             "#f0f921"
            ]
           ],
           "sequentialminus": [
            [
             0,
             "#0d0887"
            ],
            [
             0.1111111111111111,
             "#46039f"
            ],
            [
             0.2222222222222222,
             "#7201a8"
            ],
            [
             0.3333333333333333,
             "#9c179e"
            ],
            [
             0.4444444444444444,
             "#bd3786"
            ],
            [
             0.5555555555555556,
             "#d8576b"
            ],
            [
             0.6666666666666666,
             "#ed7953"
            ],
            [
             0.7777777777777778,
             "#fb9f3a"
            ],
            [
             0.8888888888888888,
             "#fdca26"
            ],
            [
             1,
             "#f0f921"
            ]
           ]
          },
          "colorway": [
           "#636efa",
           "#EF553B",
           "#00cc96",
           "#ab63fa",
           "#FFA15A",
           "#19d3f3",
           "#FF6692",
           "#B6E880",
           "#FF97FF",
           "#FECB52"
          ],
          "font": {
           "color": "#2a3f5f"
          },
          "geo": {
           "bgcolor": "white",
           "lakecolor": "white",
           "landcolor": "#E5ECF6",
           "showlakes": true,
           "showland": true,
           "subunitcolor": "white"
          },
          "hoverlabel": {
           "align": "left"
          },
          "hovermode": "closest",
          "mapbox": {
           "style": "light"
          },
          "paper_bgcolor": "white",
          "plot_bgcolor": "#E5ECF6",
          "polar": {
           "angularaxis": {
            "gridcolor": "white",
            "linecolor": "white",
            "ticks": ""
           },
           "bgcolor": "#E5ECF6",
           "radialaxis": {
            "gridcolor": "white",
            "linecolor": "white",
            "ticks": ""
           }
          },
          "scene": {
           "xaxis": {
            "backgroundcolor": "#E5ECF6",
            "gridcolor": "white",
            "gridwidth": 2,
            "linecolor": "white",
            "showbackground": true,
            "ticks": "",
            "zerolinecolor": "white"
           },
           "yaxis": {
            "backgroundcolor": "#E5ECF6",
            "gridcolor": "white",
            "gridwidth": 2,
            "linecolor": "white",
            "showbackground": true,
            "ticks": "",
            "zerolinecolor": "white"
           },
           "zaxis": {
            "backgroundcolor": "#E5ECF6",
            "gridcolor": "white",
            "gridwidth": 2,
            "linecolor": "white",
            "showbackground": true,
            "ticks": "",
            "zerolinecolor": "white"
           }
          },
          "shapedefaults": {
           "line": {
            "color": "#2a3f5f"
           }
          },
          "ternary": {
           "aaxis": {
            "gridcolor": "white",
            "linecolor": "white",
            "ticks": ""
           },
           "baxis": {
            "gridcolor": "white",
            "linecolor": "white",
            "ticks": ""
           },
           "bgcolor": "#E5ECF6",
           "caxis": {
            "gridcolor": "white",
            "linecolor": "white",
            "ticks": ""
           }
          },
          "title": {
           "x": 0.05
          },
          "xaxis": {
           "automargin": true,
           "gridcolor": "white",
           "linecolor": "white",
           "ticks": "",
           "title": {
            "standoff": 15
           },
           "zerolinecolor": "white",
           "zerolinewidth": 2
          },
          "yaxis": {
           "automargin": true,
           "gridcolor": "white",
           "linecolor": "white",
           "ticks": "",
           "title": {
            "standoff": 15
           },
           "zerolinecolor": "white",
           "zerolinewidth": 2
          }
         }
        },
        "title": {
         "text": "Косинусное подобие"
        },
        "width": 1000,
        "xaxis": {
         "anchor": "y",
         "constrain": "domain",
         "domain": [
          0,
          1
         ],
         "scaleanchor": "y",
         "side": "top"
        },
        "yaxis": {
         "anchor": "x",
         "autorange": "reversed",
         "constrain": "domain",
         "domain": [
          0,
          1
         ]
        }
       }
      }
     },
     "metadata": {},
     "output_type": "display_data"
    }
   ],
   "source": [
    "matrRes = calcDistance(getCos, getDataFrameAroma(df))\n",
    "draw(matrRes, nameArr, \"Косинусное подобие\", \"Inferno_r\")"
   ]
  },
  {
   "cell_type": "markdown",
   "metadata": {},
   "source": [
    "#### Расстояние по дереву"
   ]
  },
  {
   "cell_type": "code",
   "execution_count": 908,
   "metadata": {},
   "outputs": [
    {
     "data": {
      "application/vnd.plotly.v1+json": {
       "config": {
        "plotlyServerURL": "https://plot.ly"
       },
       "data": [
        {
         "coloraxis": "coloraxis",
         "hovertemplate": "x: %{x}<br>y: %{y}<br>color: %{z}<extra></extra>",
         "name": "0",
         "text": [
          "Shalimar",
          "3 L'Imperatrice",
          "1001 Nights",
          "Sabina",
          "Resolute Gold",
          "Oath for Him",
          "Twist",
          "CK Everyone",
          "Bad Boy",
          "Eau de Lacoste L.12.12 Blanc",
          "Ange ou Demon",
          "Samsara Eau de Parfum",
          "New Your Amber",
          "Renata",
          "Lanvin Eclat D Arpege",
          "MOSCHINO Toy Boy",
          "Cartier Declaration D Un Soir",
          "Channel №5",
          "Prada Day For Night",
          "Escentric Molecules Escentric 02",
          "The Only One",
          "Flora by Gucci Gorgeous Gardenia",
          "La Petite Robe Noire Ma Robe Cocktail",
          "La Petite Robe Noire Ma Robe Sous le Vent"
         ],
         "type": "heatmap",
         "x": [
          "Shalimar",
          "3 L'Imperatrice",
          "1001 Nights",
          "Sabina",
          "Resolute Gold",
          "Oath for Him",
          "Twist",
          "CK Everyone",
          "Bad Boy",
          "Eau de Lacoste L.12.12 Blanc",
          "Ange ou Demon",
          "Samsara Eau de Parfum",
          "New Your Amber",
          "Renata",
          "Lanvin Eclat D Arpege",
          "MOSCHINO Toy Boy",
          "Cartier Declaration D Un Soir",
          "Channel №5",
          "Prada Day For Night",
          "Escentric Molecules Escentric 02",
          "The Only One",
          "Flora by Gucci Gorgeous Gardenia",
          "La Petite Robe Noire Ma Robe Cocktail",
          "La Petite Robe Noire Ma Robe Sous le Vent"
         ],
         "xaxis": "x",
         "y": [
          "Shalimar",
          "3 L'Imperatrice",
          "1001 Nights",
          "Sabina",
          "Resolute Gold",
          "Oath for Him",
          "Twist",
          "CK Everyone",
          "Bad Boy",
          "Eau de Lacoste L.12.12 Blanc",
          "Ange ou Demon",
          "Samsara Eau de Parfum",
          "New Your Amber",
          "Renata",
          "Lanvin Eclat D Arpege",
          "MOSCHINO Toy Boy",
          "Cartier Declaration D Un Soir",
          "Channel №5",
          "Prada Day For Night",
          "Escentric Molecules Escentric 02",
          "The Only One",
          "Flora by Gucci Gorgeous Gardenia",
          "La Petite Robe Noire Ma Robe Cocktail",
          "La Petite Robe Noire Ma Robe Sous le Vent"
         ],
         "yaxis": "y",
         "z": [
          [
           0,
           0.5416666666666666,
           0.8750000000000001,
           0.9583333333333334,
           0.4166666666666667,
           0.8750000000000001,
           0.5,
           0.5,
           0.20833333333333334,
           0.33333333333333337,
           0.20833333333333334,
           0.16666666666666669,
           0.625,
           0.625,
           0.5416666666666666,
           0.20833333333333334,
           0.20833333333333334,
           0.5,
           0.625,
           0.20833333333333334,
           0.20833333333333334,
           0.5416666666666666,
           0.5416666666666666,
           0.5416666666666666
          ],
          [
           0.5416666666666666,
           0,
           0.6666666666666667,
           0.7083333333333334,
           0.25,
           0.6666666666666667,
           0.20833333333333334,
           0.5416666666666666,
           0.5416666666666666,
           0.5833333333333334,
           0.5,
           0.5416666666666666,
           1,
           1,
           0.2916666666666667,
           0.5416666666666666,
           0.5416666666666666,
           0.20833333333333334,
           1,
           0.5,
           0.5,
           0.2916666666666667,
           0.2916666666666667,
           0.2916666666666667
          ],
          [
           0.8750000000000001,
           0.6666666666666667,
           0,
           0.4166666666666667,
           0.5833333333333334,
           0.08333333333333334,
           0.625,
           0.8750000000000001,
           0.8750000000000001,
           0.8333333333333334,
           0.9166666666666669,
           0.7083333333333334,
           0.75,
           0.75,
           0.6666666666666667,
           0.8750000000000001,
           0.8750000000000001,
           0.625,
           0.75,
           0.9166666666666669,
           0.9166666666666669,
           0.6666666666666667,
           0.6666666666666667,
           0.6666666666666667
          ],
          [
           0.9583333333333334,
           0.7083333333333334,
           0.4166666666666667,
           0,
           0.5416666666666667,
           0.4166666666666667,
           0.5416666666666667,
           0.8333333333333334,
           0.9583333333333334,
           1,
           0.8333333333333334,
           0.9583333333333334,
           0.625,
           0.625,
           0.4166666666666667,
           0.9583333333333334,
           0.9583333333333334,
           0.5416666666666667,
           0.625,
           0.8333333333333334,
           0.8333333333333334,
           0.4166666666666667,
           0.4166666666666667,
           0.4166666666666667
          ],
          [
           0.4166666666666667,
           0.25,
           0.5833333333333334,
           0.5416666666666667,
           0,
           0.5833333333333334,
           0.08333333333333334,
           0.5416666666666666,
           0.4166666666666667,
           0.5,
           0.375,
           0.4583333333333334,
           0.8333333333333334,
           0.8333333333333334,
           0.125,
           0.4166666666666667,
           0.4166666666666667,
           0.08333333333333334,
           0.8333333333333334,
           0.375,
           0.375,
           0.125,
           0.125,
           0.125
          ],
          [
           0.8750000000000001,
           0.6666666666666667,
           0.08333333333333334,
           0.4166666666666667,
           0.5833333333333334,
           0,
           0.625,
           0.8750000000000001,
           0.8750000000000001,
           0.8333333333333334,
           0.9166666666666669,
           0.7083333333333334,
           0.75,
           0.75,
           0.6666666666666667,
           0.8750000000000001,
           0.8750000000000001,
           0.625,
           0.75,
           0.9166666666666669,
           0.9166666666666669,
           0.6666666666666667,
           0.6666666666666667,
           0.6666666666666667
          ],
          [
           0.5,
           0.20833333333333334,
           0.625,
           0.5416666666666667,
           0.08333333333333334,
           0.625,
           0,
           0.4166666666666667,
           0.5,
           0.5416666666666666,
           0.2916666666666667,
           0.5,
           0.8333333333333334,
           0.8333333333333334,
           0.125,
           0.5,
           0.5,
           0,
           0.8333333333333334,
           0.2916666666666667,
           0.2916666666666667,
           0.125,
           0.125,
           0.125
          ],
          [
           0.5,
           0.5416666666666666,
           0.8750000000000001,
           0.8333333333333334,
           0.5416666666666666,
           0.8750000000000001,
           0.4166666666666667,
           0,
           0.5,
           0.5833333333333334,
           0.5,
           0.5416666666666667,
           1,
           1,
           0.4166666666666667,
           0.5,
           0.5,
           0.4166666666666667,
           1,
           0.5,
           0.5,
           0.4166666666666667,
           0.4166666666666667,
           0.4166666666666667
          ],
          [
           0.20833333333333334,
           0.5416666666666666,
           0.8750000000000001,
           0.9583333333333334,
           0.4166666666666667,
           0.8750000000000001,
           0.5,
           0.5,
           0,
           0.125,
           0.4166666666666667,
           0.375,
           0.8333333333333334,
           0.8333333333333334,
           0.5416666666666666,
           0,
           0,
           0.5,
           0.8333333333333334,
           0.4166666666666667,
           0.4166666666666667,
           0.5416666666666666,
           0.5416666666666666,
           0.5416666666666666
          ],
          [
           0.33333333333333337,
           0.5833333333333334,
           0.8333333333333334,
           1,
           0.5,
           0.8333333333333334,
           0.5416666666666666,
           0.5833333333333334,
           0.125,
           0,
           0.4583333333333334,
           0.33333333333333337,
           0.8333333333333334,
           0.8333333333333334,
           0.5833333333333334,
           0.125,
           0.125,
           0.5416666666666666,
           0.8333333333333334,
           0.4583333333333334,
           0.4583333333333334,
           0.5833333333333334,
           0.5833333333333334,
           0.5833333333333334
          ],
          [
           0.20833333333333334,
           0.5,
           0.9166666666666669,
           0.8333333333333334,
           0.375,
           0.9166666666666669,
           0.2916666666666667,
           0.5,
           0.4166666666666667,
           0.4583333333333334,
           0,
           0.20833333333333334,
           0.5416666666666667,
           0.5416666666666667,
           0.4166666666666667,
           0.4166666666666667,
           0.4166666666666667,
           0.2916666666666667,
           0.5416666666666667,
           0,
           0,
           0.4166666666666667,
           0.4166666666666667,
           0.4166666666666667
          ],
          [
           0.16666666666666669,
           0.5416666666666666,
           0.7083333333333334,
           0.9583333333333334,
           0.4583333333333334,
           0.7083333333333334,
           0.5,
           0.5416666666666667,
           0.375,
           0.33333333333333337,
           0.20833333333333334,
           0,
           0.625,
           0.625,
           0.5416666666666666,
           0.375,
           0.375,
           0.5,
           0.625,
           0.20833333333333334,
           0.20833333333333334,
           0.5416666666666666,
           0.5416666666666666,
           0.5416666666666666
          ],
          [
           0.625,
           1,
           0.75,
           0.625,
           0.8333333333333334,
           0.75,
           0.8333333333333334,
           1,
           0.8333333333333334,
           0.8333333333333334,
           0.5416666666666667,
           0.625,
           0,
           0.2916666666666667,
           0.8750000000000001,
           0.8333333333333334,
           0.8333333333333334,
           0.8333333333333334,
           0,
           0.5416666666666667,
           0.5416666666666667,
           0.8750000000000001,
           0.8750000000000001,
           0.8750000000000001
          ],
          [
           0.625,
           1,
           0.75,
           0.625,
           0.8333333333333334,
           0.75,
           0.8333333333333334,
           1,
           0.8333333333333334,
           0.8333333333333334,
           0.5416666666666667,
           0.625,
           0.2916666666666667,
           0,
           0.8750000000000001,
           0.8333333333333334,
           0.8333333333333334,
           0.8333333333333334,
           0.2916666666666667,
           0.5416666666666667,
           0.5416666666666667,
           0.8750000000000001,
           0.8750000000000001,
           0.8750000000000001
          ],
          [
           0.5416666666666666,
           0.2916666666666667,
           0.6666666666666667,
           0.4166666666666667,
           0.125,
           0.6666666666666667,
           0.125,
           0.4166666666666667,
           0.5416666666666666,
           0.5833333333333334,
           0.4166666666666667,
           0.5416666666666666,
           0.8750000000000001,
           0.8750000000000001,
           0,
           0.5416666666666666,
           0.5416666666666666,
           0.125,
           0.8750000000000001,
           0.4166666666666667,
           0.4166666666666667,
           0,
           0,
           0
          ],
          [
           0.20833333333333334,
           0.5416666666666666,
           0.8750000000000001,
           0.9583333333333334,
           0.4166666666666667,
           0.8750000000000001,
           0.5,
           0.5,
           0,
           0.125,
           0.4166666666666667,
           0.375,
           0.8333333333333334,
           0.8333333333333334,
           0.5416666666666666,
           0,
           0,
           0.5,
           0.8333333333333334,
           0.4166666666666667,
           0.4166666666666667,
           0.5416666666666666,
           0.5416666666666666,
           0.5416666666666666
          ],
          [
           0.20833333333333334,
           0.5416666666666666,
           0.8750000000000001,
           0.9583333333333334,
           0.4166666666666667,
           0.8750000000000001,
           0.5,
           0.5,
           0,
           0.125,
           0.4166666666666667,
           0.375,
           0.8333333333333334,
           0.8333333333333334,
           0.5416666666666666,
           0,
           0,
           0.5,
           0.8333333333333334,
           0.4166666666666667,
           0.4166666666666667,
           0.5416666666666666,
           0.5416666666666666,
           0.5416666666666666
          ],
          [
           0.5,
           0.20833333333333334,
           0.625,
           0.5416666666666667,
           0.08333333333333334,
           0.625,
           0,
           0.4166666666666667,
           0.5,
           0.5416666666666666,
           0.2916666666666667,
           0.5,
           0.8333333333333334,
           0.8333333333333334,
           0.125,
           0.5,
           0.5,
           0,
           0.8333333333333334,
           0.2916666666666667,
           0.2916666666666667,
           0.125,
           0.125,
           0.125
          ],
          [
           0.625,
           1,
           0.75,
           0.625,
           0.8333333333333334,
           0.75,
           0.8333333333333334,
           1,
           0.8333333333333334,
           0.8333333333333334,
           0.5416666666666667,
           0.625,
           0,
           0.2916666666666667,
           0.8750000000000001,
           0.8333333333333334,
           0.8333333333333334,
           0.8333333333333334,
           0,
           0.5416666666666667,
           0.5416666666666667,
           0.8750000000000001,
           0.8750000000000001,
           0.8750000000000001
          ],
          [
           0.20833333333333334,
           0.5,
           0.9166666666666669,
           0.8333333333333334,
           0.375,
           0.9166666666666669,
           0.2916666666666667,
           0.5,
           0.4166666666666667,
           0.4583333333333334,
           0,
           0.20833333333333334,
           0.5416666666666667,
           0.5416666666666667,
           0.4166666666666667,
           0.4166666666666667,
           0.4166666666666667,
           0.2916666666666667,
           0.5416666666666667,
           0,
           0,
           0.4166666666666667,
           0.4166666666666667,
           0.4166666666666667
          ],
          [
           0.20833333333333334,
           0.5,
           0.9166666666666669,
           0.8333333333333334,
           0.375,
           0.9166666666666669,
           0.2916666666666667,
           0.5,
           0.4166666666666667,
           0.4583333333333334,
           0,
           0.20833333333333334,
           0.5416666666666667,
           0.5416666666666667,
           0.4166666666666667,
           0.4166666666666667,
           0.4166666666666667,
           0.2916666666666667,
           0.5416666666666667,
           0,
           0,
           0.4166666666666667,
           0.4166666666666667,
           0.4166666666666667
          ],
          [
           0.5416666666666666,
           0.2916666666666667,
           0.6666666666666667,
           0.4166666666666667,
           0.125,
           0.6666666666666667,
           0.125,
           0.4166666666666667,
           0.5416666666666666,
           0.5833333333333334,
           0.4166666666666667,
           0.5416666666666666,
           0.8750000000000001,
           0.8750000000000001,
           0,
           0.5416666666666666,
           0.5416666666666666,
           0.125,
           0.8750000000000001,
           0.4166666666666667,
           0.4166666666666667,
           0,
           0,
           0
          ],
          [
           0.5416666666666666,
           0.2916666666666667,
           0.6666666666666667,
           0.4166666666666667,
           0.125,
           0.6666666666666667,
           0.125,
           0.4166666666666667,
           0.5416666666666666,
           0.5833333333333334,
           0.4166666666666667,
           0.5416666666666666,
           0.8750000000000001,
           0.8750000000000001,
           0,
           0.5416666666666666,
           0.5416666666666666,
           0.125,
           0.8750000000000001,
           0.4166666666666667,
           0.4166666666666667,
           0,
           0,
           0
          ],
          [
           0.5416666666666666,
           0.2916666666666667,
           0.6666666666666667,
           0.4166666666666667,
           0.125,
           0.6666666666666667,
           0.125,
           0.4166666666666667,
           0.5416666666666666,
           0.5833333333333334,
           0.4166666666666667,
           0.5416666666666666,
           0.8750000000000001,
           0.8750000000000001,
           0,
           0.5416666666666666,
           0.5416666666666666,
           0.125,
           0.8750000000000001,
           0.4166666666666667,
           0.4166666666666667,
           0,
           0,
           0
          ]
         ]
        }
       ],
       "layout": {
        "coloraxis": {
         "colorscale": [
          [
           0,
           "#000004"
          ],
          [
           0.1111111111111111,
           "#1b0c41"
          ],
          [
           0.2222222222222222,
           "#4a0c6b"
          ],
          [
           0.3333333333333333,
           "#781c6d"
          ],
          [
           0.4444444444444444,
           "#a52c60"
          ],
          [
           0.5555555555555556,
           "#cf4446"
          ],
          [
           0.6666666666666666,
           "#ed6925"
          ],
          [
           0.7777777777777778,
           "#fb9b06"
          ],
          [
           0.8888888888888888,
           "#f7d13d"
          ],
          [
           1,
           "#fcffa4"
          ]
         ]
        },
        "height": 1200,
        "template": {
         "data": {
          "bar": [
           {
            "error_x": {
             "color": "#2a3f5f"
            },
            "error_y": {
             "color": "#2a3f5f"
            },
            "marker": {
             "line": {
              "color": "#E5ECF6",
              "width": 0.5
             },
             "pattern": {
              "fillmode": "overlay",
              "size": 10,
              "solidity": 0.2
             }
            },
            "type": "bar"
           }
          ],
          "barpolar": [
           {
            "marker": {
             "line": {
              "color": "#E5ECF6",
              "width": 0.5
             },
             "pattern": {
              "fillmode": "overlay",
              "size": 10,
              "solidity": 0.2
             }
            },
            "type": "barpolar"
           }
          ],
          "carpet": [
           {
            "aaxis": {
             "endlinecolor": "#2a3f5f",
             "gridcolor": "white",
             "linecolor": "white",
             "minorgridcolor": "white",
             "startlinecolor": "#2a3f5f"
            },
            "baxis": {
             "endlinecolor": "#2a3f5f",
             "gridcolor": "white",
             "linecolor": "white",
             "minorgridcolor": "white",
             "startlinecolor": "#2a3f5f"
            },
            "type": "carpet"
           }
          ],
          "choropleth": [
           {
            "colorbar": {
             "outlinewidth": 0,
             "ticks": ""
            },
            "type": "choropleth"
           }
          ],
          "contour": [
           {
            "colorbar": {
             "outlinewidth": 0,
             "ticks": ""
            },
            "colorscale": [
             [
              0,
              "#0d0887"
             ],
             [
              0.1111111111111111,
              "#46039f"
             ],
             [
              0.2222222222222222,
              "#7201a8"
             ],
             [
              0.3333333333333333,
              "#9c179e"
             ],
             [
              0.4444444444444444,
              "#bd3786"
             ],
             [
              0.5555555555555556,
              "#d8576b"
             ],
             [
              0.6666666666666666,
              "#ed7953"
             ],
             [
              0.7777777777777778,
              "#fb9f3a"
             ],
             [
              0.8888888888888888,
              "#fdca26"
             ],
             [
              1,
              "#f0f921"
             ]
            ],
            "type": "contour"
           }
          ],
          "contourcarpet": [
           {
            "colorbar": {
             "outlinewidth": 0,
             "ticks": ""
            },
            "type": "contourcarpet"
           }
          ],
          "heatmap": [
           {
            "colorbar": {
             "outlinewidth": 0,
             "ticks": ""
            },
            "colorscale": [
             [
              0,
              "#0d0887"
             ],
             [
              0.1111111111111111,
              "#46039f"
             ],
             [
              0.2222222222222222,
              "#7201a8"
             ],
             [
              0.3333333333333333,
              "#9c179e"
             ],
             [
              0.4444444444444444,
              "#bd3786"
             ],
             [
              0.5555555555555556,
              "#d8576b"
             ],
             [
              0.6666666666666666,
              "#ed7953"
             ],
             [
              0.7777777777777778,
              "#fb9f3a"
             ],
             [
              0.8888888888888888,
              "#fdca26"
             ],
             [
              1,
              "#f0f921"
             ]
            ],
            "type": "heatmap"
           }
          ],
          "heatmapgl": [
           {
            "colorbar": {
             "outlinewidth": 0,
             "ticks": ""
            },
            "colorscale": [
             [
              0,
              "#0d0887"
             ],
             [
              0.1111111111111111,
              "#46039f"
             ],
             [
              0.2222222222222222,
              "#7201a8"
             ],
             [
              0.3333333333333333,
              "#9c179e"
             ],
             [
              0.4444444444444444,
              "#bd3786"
             ],
             [
              0.5555555555555556,
              "#d8576b"
             ],
             [
              0.6666666666666666,
              "#ed7953"
             ],
             [
              0.7777777777777778,
              "#fb9f3a"
             ],
             [
              0.8888888888888888,
              "#fdca26"
             ],
             [
              1,
              "#f0f921"
             ]
            ],
            "type": "heatmapgl"
           }
          ],
          "histogram": [
           {
            "marker": {
             "pattern": {
              "fillmode": "overlay",
              "size": 10,
              "solidity": 0.2
             }
            },
            "type": "histogram"
           }
          ],
          "histogram2d": [
           {
            "colorbar": {
             "outlinewidth": 0,
             "ticks": ""
            },
            "colorscale": [
             [
              0,
              "#0d0887"
             ],
             [
              0.1111111111111111,
              "#46039f"
             ],
             [
              0.2222222222222222,
              "#7201a8"
             ],
             [
              0.3333333333333333,
              "#9c179e"
             ],
             [
              0.4444444444444444,
              "#bd3786"
             ],
             [
              0.5555555555555556,
              "#d8576b"
             ],
             [
              0.6666666666666666,
              "#ed7953"
             ],
             [
              0.7777777777777778,
              "#fb9f3a"
             ],
             [
              0.8888888888888888,
              "#fdca26"
             ],
             [
              1,
              "#f0f921"
             ]
            ],
            "type": "histogram2d"
           }
          ],
          "histogram2dcontour": [
           {
            "colorbar": {
             "outlinewidth": 0,
             "ticks": ""
            },
            "colorscale": [
             [
              0,
              "#0d0887"
             ],
             [
              0.1111111111111111,
              "#46039f"
             ],
             [
              0.2222222222222222,
              "#7201a8"
             ],
             [
              0.3333333333333333,
              "#9c179e"
             ],
             [
              0.4444444444444444,
              "#bd3786"
             ],
             [
              0.5555555555555556,
              "#d8576b"
             ],
             [
              0.6666666666666666,
              "#ed7953"
             ],
             [
              0.7777777777777778,
              "#fb9f3a"
             ],
             [
              0.8888888888888888,
              "#fdca26"
             ],
             [
              1,
              "#f0f921"
             ]
            ],
            "type": "histogram2dcontour"
           }
          ],
          "mesh3d": [
           {
            "colorbar": {
             "outlinewidth": 0,
             "ticks": ""
            },
            "type": "mesh3d"
           }
          ],
          "parcoords": [
           {
            "line": {
             "colorbar": {
              "outlinewidth": 0,
              "ticks": ""
             }
            },
            "type": "parcoords"
           }
          ],
          "pie": [
           {
            "automargin": true,
            "type": "pie"
           }
          ],
          "scatter": [
           {
            "marker": {
             "colorbar": {
              "outlinewidth": 0,
              "ticks": ""
             }
            },
            "type": "scatter"
           }
          ],
          "scatter3d": [
           {
            "line": {
             "colorbar": {
              "outlinewidth": 0,
              "ticks": ""
             }
            },
            "marker": {
             "colorbar": {
              "outlinewidth": 0,
              "ticks": ""
             }
            },
            "type": "scatter3d"
           }
          ],
          "scattercarpet": [
           {
            "marker": {
             "colorbar": {
              "outlinewidth": 0,
              "ticks": ""
             }
            },
            "type": "scattercarpet"
           }
          ],
          "scattergeo": [
           {
            "marker": {
             "colorbar": {
              "outlinewidth": 0,
              "ticks": ""
             }
            },
            "type": "scattergeo"
           }
          ],
          "scattergl": [
           {
            "marker": {
             "colorbar": {
              "outlinewidth": 0,
              "ticks": ""
             }
            },
            "type": "scattergl"
           }
          ],
          "scattermapbox": [
           {
            "marker": {
             "colorbar": {
              "outlinewidth": 0,
              "ticks": ""
             }
            },
            "type": "scattermapbox"
           }
          ],
          "scatterpolar": [
           {
            "marker": {
             "colorbar": {
              "outlinewidth": 0,
              "ticks": ""
             }
            },
            "type": "scatterpolar"
           }
          ],
          "scatterpolargl": [
           {
            "marker": {
             "colorbar": {
              "outlinewidth": 0,
              "ticks": ""
             }
            },
            "type": "scatterpolargl"
           }
          ],
          "scatterternary": [
           {
            "marker": {
             "colorbar": {
              "outlinewidth": 0,
              "ticks": ""
             }
            },
            "type": "scatterternary"
           }
          ],
          "surface": [
           {
            "colorbar": {
             "outlinewidth": 0,
             "ticks": ""
            },
            "colorscale": [
             [
              0,
              "#0d0887"
             ],
             [
              0.1111111111111111,
              "#46039f"
             ],
             [
              0.2222222222222222,
              "#7201a8"
             ],
             [
              0.3333333333333333,
              "#9c179e"
             ],
             [
              0.4444444444444444,
              "#bd3786"
             ],
             [
              0.5555555555555556,
              "#d8576b"
             ],
             [
              0.6666666666666666,
              "#ed7953"
             ],
             [
              0.7777777777777778,
              "#fb9f3a"
             ],
             [
              0.8888888888888888,
              "#fdca26"
             ],
             [
              1,
              "#f0f921"
             ]
            ],
            "type": "surface"
           }
          ],
          "table": [
           {
            "cells": {
             "fill": {
              "color": "#EBF0F8"
             },
             "line": {
              "color": "white"
             }
            },
            "header": {
             "fill": {
              "color": "#C8D4E3"
             },
             "line": {
              "color": "white"
             }
            },
            "type": "table"
           }
          ]
         },
         "layout": {
          "annotationdefaults": {
           "arrowcolor": "#2a3f5f",
           "arrowhead": 0,
           "arrowwidth": 1
          },
          "autotypenumbers": "strict",
          "coloraxis": {
           "colorbar": {
            "outlinewidth": 0,
            "ticks": ""
           }
          },
          "colorscale": {
           "diverging": [
            [
             0,
             "#8e0152"
            ],
            [
             0.1,
             "#c51b7d"
            ],
            [
             0.2,
             "#de77ae"
            ],
            [
             0.3,
             "#f1b6da"
            ],
            [
             0.4,
             "#fde0ef"
            ],
            [
             0.5,
             "#f7f7f7"
            ],
            [
             0.6,
             "#e6f5d0"
            ],
            [
             0.7,
             "#b8e186"
            ],
            [
             0.8,
             "#7fbc41"
            ],
            [
             0.9,
             "#4d9221"
            ],
            [
             1,
             "#276419"
            ]
           ],
           "sequential": [
            [
             0,
             "#0d0887"
            ],
            [
             0.1111111111111111,
             "#46039f"
            ],
            [
             0.2222222222222222,
             "#7201a8"
            ],
            [
             0.3333333333333333,
             "#9c179e"
            ],
            [
             0.4444444444444444,
             "#bd3786"
            ],
            [
             0.5555555555555556,
             "#d8576b"
            ],
            [
             0.6666666666666666,
             "#ed7953"
            ],
            [
             0.7777777777777778,
             "#fb9f3a"
            ],
            [
             0.8888888888888888,
             "#fdca26"
            ],
            [
             1,
             "#f0f921"
            ]
           ],
           "sequentialminus": [
            [
             0,
             "#0d0887"
            ],
            [
             0.1111111111111111,
             "#46039f"
            ],
            [
             0.2222222222222222,
             "#7201a8"
            ],
            [
             0.3333333333333333,
             "#9c179e"
            ],
            [
             0.4444444444444444,
             "#bd3786"
            ],
            [
             0.5555555555555556,
             "#d8576b"
            ],
            [
             0.6666666666666666,
             "#ed7953"
            ],
            [
             0.7777777777777778,
             "#fb9f3a"
            ],
            [
             0.8888888888888888,
             "#fdca26"
            ],
            [
             1,
             "#f0f921"
            ]
           ]
          },
          "colorway": [
           "#636efa",
           "#EF553B",
           "#00cc96",
           "#ab63fa",
           "#FFA15A",
           "#19d3f3",
           "#FF6692",
           "#B6E880",
           "#FF97FF",
           "#FECB52"
          ],
          "font": {
           "color": "#2a3f5f"
          },
          "geo": {
           "bgcolor": "white",
           "lakecolor": "white",
           "landcolor": "#E5ECF6",
           "showlakes": true,
           "showland": true,
           "subunitcolor": "white"
          },
          "hoverlabel": {
           "align": "left"
          },
          "hovermode": "closest",
          "mapbox": {
           "style": "light"
          },
          "paper_bgcolor": "white",
          "plot_bgcolor": "#E5ECF6",
          "polar": {
           "angularaxis": {
            "gridcolor": "white",
            "linecolor": "white",
            "ticks": ""
           },
           "bgcolor": "#E5ECF6",
           "radialaxis": {
            "gridcolor": "white",
            "linecolor": "white",
            "ticks": ""
           }
          },
          "scene": {
           "xaxis": {
            "backgroundcolor": "#E5ECF6",
            "gridcolor": "white",
            "gridwidth": 2,
            "linecolor": "white",
            "showbackground": true,
            "ticks": "",
            "zerolinecolor": "white"
           },
           "yaxis": {
            "backgroundcolor": "#E5ECF6",
            "gridcolor": "white",
            "gridwidth": 2,
            "linecolor": "white",
            "showbackground": true,
            "ticks": "",
            "zerolinecolor": "white"
           },
           "zaxis": {
            "backgroundcolor": "#E5ECF6",
            "gridcolor": "white",
            "gridwidth": 2,
            "linecolor": "white",
            "showbackground": true,
            "ticks": "",
            "zerolinecolor": "white"
           }
          },
          "shapedefaults": {
           "line": {
            "color": "#2a3f5f"
           }
          },
          "ternary": {
           "aaxis": {
            "gridcolor": "white",
            "linecolor": "white",
            "ticks": ""
           },
           "baxis": {
            "gridcolor": "white",
            "linecolor": "white",
            "ticks": ""
           },
           "bgcolor": "#E5ECF6",
           "caxis": {
            "gridcolor": "white",
            "linecolor": "white",
            "ticks": ""
           }
          },
          "title": {
           "x": 0.05
          },
          "xaxis": {
           "automargin": true,
           "gridcolor": "white",
           "linecolor": "white",
           "ticks": "",
           "title": {
            "standoff": 15
           },
           "zerolinecolor": "white",
           "zerolinewidth": 2
          },
          "yaxis": {
           "automargin": true,
           "gridcolor": "white",
           "linecolor": "white",
           "ticks": "",
           "title": {
            "standoff": 15
           },
           "zerolinecolor": "white",
           "zerolinewidth": 2
          }
         }
        },
        "title": {
         "text": "Расстояние по дереву"
        },
        "width": 1000,
        "xaxis": {
         "anchor": "y",
         "constrain": "domain",
         "domain": [
          0,
          1
         ],
         "scaleanchor": "y",
         "side": "top"
        },
        "yaxis": {
         "anchor": "x",
         "autorange": "reversed",
         "constrain": "domain",
         "domain": [
          0,
          1
         ]
        }
       }
      }
     },
     "metadata": {},
     "output_type": "display_data"
    }
   ],
   "source": [
    "matrRes = calcDistance(getTreeDistance, dfTree[\"семейства\"])\n",
    "draw(matrRes, nameArr, \"Расстояние по дереву\")\n"
   ]
  },
  {
   "cell_type": "markdown",
   "metadata": {},
   "source": [
    "#### Кобинированная мера"
   ]
  },
  {
   "cell_type": "code",
   "execution_count": 909,
   "metadata": {},
   "outputs": [
    {
     "data": {
      "application/vnd.plotly.v1+json": {
       "config": {
        "plotlyServerURL": "https://plot.ly"
       },
       "data": [
        {
         "coloraxis": "coloraxis",
         "hovertemplate": "x: %{x}<br>y: %{y}<br>color: %{z}<extra></extra>",
         "name": "0",
         "text": [
          "Shalimar",
          "3 L'Imperatrice",
          "1001 Nights",
          "Sabina",
          "Resolute Gold",
          "Oath for Him",
          "Twist",
          "CK Everyone",
          "Bad Boy",
          "Eau de Lacoste L.12.12 Blanc",
          "Ange ou Demon",
          "Samsara Eau de Parfum",
          "New Your Amber",
          "Renata",
          "Lanvin Eclat D Arpege",
          "MOSCHINO Toy Boy",
          "Cartier Declaration D Un Soir",
          "Channel №5",
          "Prada Day For Night",
          "Escentric Molecules Escentric 02",
          "The Only One",
          "Flora by Gucci Gorgeous Gardenia",
          "La Petite Robe Noire Ma Robe Cocktail",
          "La Petite Robe Noire Ma Robe Sous le Vent"
         ],
         "type": "heatmap",
         "x": [
          "Shalimar",
          "3 L'Imperatrice",
          "1001 Nights",
          "Sabina",
          "Resolute Gold",
          "Oath for Him",
          "Twist",
          "CK Everyone",
          "Bad Boy",
          "Eau de Lacoste L.12.12 Blanc",
          "Ange ou Demon",
          "Samsara Eau de Parfum",
          "New Your Amber",
          "Renata",
          "Lanvin Eclat D Arpege",
          "MOSCHINO Toy Boy",
          "Cartier Declaration D Un Soir",
          "Channel №5",
          "Prada Day For Night",
          "Escentric Molecules Escentric 02",
          "The Only One",
          "Flora by Gucci Gorgeous Gardenia",
          "La Petite Robe Noire Ma Robe Cocktail",
          "La Petite Robe Noire Ma Robe Sous le Vent"
         ],
         "xaxis": "x",
         "y": [
          "Shalimar",
          "3 L'Imperatrice",
          "1001 Nights",
          "Sabina",
          "Resolute Gold",
          "Oath for Him",
          "Twist",
          "CK Everyone",
          "Bad Boy",
          "Eau de Lacoste L.12.12 Blanc",
          "Ange ou Demon",
          "Samsara Eau de Parfum",
          "New Your Amber",
          "Renata",
          "Lanvin Eclat D Arpege",
          "MOSCHINO Toy Boy",
          "Cartier Declaration D Un Soir",
          "Channel №5",
          "Prada Day For Night",
          "Escentric Molecules Escentric 02",
          "The Only One",
          "Flora by Gucci Gorgeous Gardenia",
          "La Petite Robe Noire Ma Robe Cocktail",
          "La Petite Robe Noire Ma Robe Sous le Vent"
         ],
         "yaxis": "y",
         "z": [
          [
           0,
           0.7378081038106967,
           0.8196469941416417,
           0.8748693252540786,
           0.851612437034828,
           0.9131569777649933,
           0.8194378504596076,
           0.8835648949778281,
           0.7982837871397048,
           0.6654082862300632,
           0.21117038549172318,
           0.26517987603926346,
           0.7711468285038647,
           0.7169411999324412,
           0.6467971223998961,
           0.6624544371701753,
           0.567652119040353,
           0.6182823210150843,
           0.6510588610754049,
           0.6988481828146911,
           0.6144553424970897,
           0.4730441699450427,
           0.2917961511802308,
           0.30133354510556487
          ],
          [
           0.7378081038106967,
           0,
           0.7207931603779454,
           0.6916256664369388,
           0.6606354995311009,
           0.7799293120537703,
           0.6368086270862388,
           0.6606677096429433,
           0.7370343915593289,
           0.7386978243220139,
           0.6288626563463795,
           0.7596090637637635,
           0.7895852374534098,
           0.8684978362236967,
           0.562061451634135,
           0.5588270889278177,
           0.740988507787745,
           0.606962699264909,
           0.6274156700788038,
           0.7800080799169093,
           0.3195537551873447,
           0.3468536771200269,
           0.5543913918919163,
           0.5788378185368899
          ],
          [
           0.8196469941416417,
           0.7207931603779454,
           0,
           0.23720092009109336,
           0.5144829392278537,
           0.19986806744617916,
           0.4941404577739338,
           0.832675276315105,
           0.781645162003369,
           0.8016927433375051,
           0.8168210223421596,
           0.8317716059536896,
           0.8828217020482343,
           0.8132066188721649,
           0.7821051792765298,
           0.7193892318135116,
           0.799056725775983,
           0.806456262372342,
           0.8407167383908584,
           0.8020365790837871,
           0.8158383491974284,
           0.7227424723725934,
           0.7111819147692331,
           0.738284434277741
          ],
          [
           0.8748693252540786,
           0.6916256664369388,
           0.23720092009109336,
           0,
           0.45203858967187566,
           0.27309518400507,
           0.46712274284740496,
           0.773867049317691,
           0.8445804464102807,
           0.8701110745758014,
           0.8422766915635804,
           0.8903368008659996,
           0.8249925768910708,
           0.7438513452279186,
           0.6878162254110365,
           0.8186175282303405,
           0.8937933006505057,
           0.7222983669058728,
           0.7931526778166972,
           0.8240859175768875,
           0.764886118967542,
           0.658908326410914,
           0.6786936219920683,
           0.6527727171013873
          ],
          [
           0.851612437034828,
           0.6606354995311009,
           0.5144829392278537,
           0.45203858967187566,
           0,
           0.4915409992740645,
           0.43178408395820267,
           0.7570513208950285,
           0.7986477087277334,
           0.8024635472045041,
           0.8048418969961963,
           0.8215515920240547,
           0.8174993503060326,
           0.7852561216871147,
           0.6917123167387916,
           0.7658929093154538,
           0.8405566944156795,
           0.6579928243119826,
           0.7710670022747065,
           0.7998434114357778,
           0.7535900695615576,
           0.6617965759623203,
           0.6780220532782995,
           0.6672115318398035
          ],
          [
           0.9131569777649933,
           0.7799293120537703,
           0.19986806744617916,
           0.27309518400507,
           0.4915409992740645,
           0,
           0.5124737472378732,
           0.8121756463749747,
           0.7548977824578826,
           0.7275617422160091,
           0.9022810166190857,
           0.7846768459992363,
           0.8491820572304655,
           0.8391036663688615,
           0.7965634036316018,
           0.7768773049428769,
           0.7860641989607212,
           0.7388523045914529,
           0.7521255695707413,
           0.8843605671152464,
           0.7832477962413035,
           0.7818348911426815,
           0.7980857075891311,
           0.7820885653084672
          ],
          [
           0.8194378504596076,
           0.6368086270862388,
           0.4941404577739338,
           0.46712274284740496,
           0.43178408395820267,
           0.5124737472378732,
           0,
           0.6943351346091278,
           0.7664697958096539,
           0.7957121071772852,
           0.7781929054587359,
           0.842497980027034,
           0.8482282748228239,
           0.8046455204046197,
           0.6725093575406323,
           0.7694896153285619,
           0.7854659065703287,
           0.6852326867437791,
           0.7885949794555834,
           0.5116943582061702,
           0.7025654487292246,
           0.642642099168323,
           0.6449186953995846,
           0.6492445745508211
          ],
          [
           0.8835648949778281,
           0.6606677096429433,
           0.832675276315105,
           0.773867049317691,
           0.7570513208950285,
           0.8121756463749747,
           0.6943351346091278,
           0,
           0.26301728735889207,
           0.830148235000207,
           0.8747094667890675,
           0.9020707532407981,
           0.6481983010890967,
           0.8321318800826191,
           0.7318486176328027,
           0.7373998942974906,
           0.5495974156356493,
           0.5191827933323089,
           0.7441232934452862,
           0.8505635448815595,
           0.6877950960741828,
           0.6542525738099364,
           0.7527748470935307,
           0.7410575919159142
          ],
          [
           0.7982837871397048,
           0.7370343915593289,
           0.781645162003369,
           0.8445804464102807,
           0.7986477087277334,
           0.7548977824578826,
           0.7664697958096539,
           0.26301728735889207,
           0,
           0.7430403968444317,
           0.8925338112357827,
           0.8235598911117566,
           0.6400590208576277,
           0.8457242570289341,
           0.8262692975804741,
           0.5567573498011602,
           0.37409089587221434,
           0.5706865889312444,
           0.7440215927986326,
           0.8861848913582335,
           0.7122424620415347,
           0.7389492863201021,
           0.8240074427047903,
           0.7987901236739545
          ],
          [
           0.6654082862300632,
           0.7386978243220139,
           0.8016927433375051,
           0.8701110745758014,
           0.8024635472045041,
           0.7275617422160091,
           0.7957121071772852,
           0.830148235000207,
           0.7430403968444317,
           0,
           0.6844224839438219,
           0.580991151181226,
           0.9012970988721499,
           0.9028640805895226,
           0.3447660104274463,
           0.6429433761789217,
           0.4793174553043799,
           0.6004746369350336,
           0.748272528807254,
           0.8975762726012744,
           0.7575274263191943,
           0.7406049102109388,
           0.6100554973765674,
           0.6240973966969989
          ],
          [
           0.21117038549172318,
           0.6288626563463795,
           0.8168210223421596,
           0.8422766915635804,
           0.8048418969961963,
           0.9022810166190857,
           0.7781929054587359,
           0.8747094667890675,
           0.8925338112357827,
           0.6844224839438219,
           0,
           0.24231776680787825,
           0.7705351600964382,
           0.7086165386688431,
           0.5611751387449753,
           0.7777756892560791,
           0.6716543387445394,
           0.5646310476370602,
           0.635189889066669,
           0.6801699989250796,
           0.58366525515741,
           0.36241778679190717,
           0.27330135719888676,
           0.28106789647651836
          ],
          [
           0.26517987603926346,
           0.7596090637637635,
           0.8317716059536896,
           0.8903368008659996,
           0.8215515920240547,
           0.7846768459992363,
           0.842497980027034,
           0.9020707532407981,
           0.8235598911117566,
           0.580991151181226,
           0.24231776680787825,
           0,
           0.773931964879186,
           0.7538836658549021,
           0.6016541773028384,
           0.7493961825575773,
           0.6315882552871215,
           0.5296074669628104,
           0.5993488701110619,
           0.7799891162435361,
           0.6136377899837397,
           0.5024180997177514,
           0.37414554566628283,
           0.3573746785165931
          ],
          [
           0.7711468285038647,
           0.7895852374534098,
           0.8828217020482343,
           0.8249925768910708,
           0.8174993503060326,
           0.8491820572304655,
           0.8482282748228239,
           0.6481983010890967,
           0.6400590208576277,
           0.9012970988721499,
           0.7705351600964382,
           0.773931964879186,
           0,
           0.6617142658737911,
           0.89531454529769,
           0.806988762052167,
           0.9361713915146826,
           0.8561952764191724,
           0.5225383605258322,
           0.7636296786940097,
           0.6041387845326296,
           0.7918181968661137,
           0.8735387173134457,
           0.8586177131055688
          ],
          [
           0.7169411999324412,
           0.8684978362236967,
           0.8132066188721649,
           0.7438513452279186,
           0.7852561216871147,
           0.8391036663688615,
           0.8046455204046197,
           0.8321318800826191,
           0.8457242570289341,
           0.9028640805895226,
           0.7086165386688431,
           0.7538836658549021,
           0.6617142658737911,
           0,
           0.8159369824896691,
           0.8930824299946801,
           0.9142225915884559,
           0.8256070345474555,
           0.6949877893695784,
           0.7486908679816648,
           0.691995569224504,
           0.8242691997805518,
           0.7902367497580275,
           0.7578505509088748
          ],
          [
           0.6467971223998961,
           0.562061451634135,
           0.7821051792765298,
           0.6878162254110365,
           0.6917123167387916,
           0.7965634036316018,
           0.6725093575406323,
           0.7318486176328027,
           0.8262692975804741,
           0.3447660104274463,
           0.5611751387449753,
           0.6016541773028384,
           0.89531454529769,
           0.8159369824896691,
           0,
           0.7315270873921516,
           0.6062400824625551,
           0.44293118706623963,
           0.7331416270761238,
           0.8085022616070245,
           0.6956180132119143,
           0.5218609030685096,
           0.42887111751972656,
           0.41594311156062697
          ],
          [
           0.6624544371701753,
           0.5588270889278177,
           0.7193892318135116,
           0.8186175282303405,
           0.7658929093154538,
           0.7768773049428769,
           0.7694896153285619,
           0.7373998942974906,
           0.5567573498011602,
           0.6429433761789217,
           0.7777756892560791,
           0.7493961825575773,
           0.806988762052167,
           0.8930824299946801,
           0.7315270873921516,
           0,
           0.5634333896273186,
           0.7547276348346774,
           0.6673913661865737,
           0.8351055022821188,
           0.6351191350405831,
           0.5531897661632357,
           0.6833660707886348,
           0.7058437641477314
          ],
          [
           0.567652119040353,
           0.740988507787745,
           0.799056725775983,
           0.8937933006505057,
           0.8405566944156795,
           0.7860641989607212,
           0.7854659065703287,
           0.5495974156356493,
           0.37409089587221434,
           0.4793174553043799,
           0.6716543387445394,
           0.6315882552871215,
           0.9361713915146826,
           0.9142225915884559,
           0.6062400824625551,
           0.5634333896273186,
           0,
           0.3557919621749409,
           0.7945320821648529,
           0.8795484582977701,
           0.7660964828159348,
           0.7428792687621825,
           0.6007703336259588,
           0.6176103306176128
          ],
          [
           0.6182823210150843,
           0.606962699264909,
           0.806456262372342,
           0.7222983669058728,
           0.6579928243119826,
           0.7388523045914529,
           0.6852326867437791,
           0.5191827933323089,
           0.5706865889312444,
           0.6004746369350336,
           0.5646310476370602,
           0.5296074669628104,
           0.8561952764191724,
           0.8256070345474555,
           0.44293118706623963,
           0.7547276348346774,
           0.3557919621749409,
           0,
           0.6866282519313227,
           0.8271187888073274,
           0.6617495264512789,
           0.6031220133621067,
           0.4823687808330848,
           0.4572144810499639
          ],
          [
           0.6510588610754049,
           0.6274156700788038,
           0.8407167383908584,
           0.7931526778166972,
           0.7710670022747065,
           0.7521255695707413,
           0.7885949794555834,
           0.7441232934452862,
           0.7440215927986326,
           0.748272528807254,
           0.635189889066669,
           0.5993488701110619,
           0.5225383605258322,
           0.6949877893695784,
           0.7331416270761238,
           0.6673913661865737,
           0.7945320821648529,
           0.6866282519313227,
           0,
           0.7616895233563241,
           0.4322018961820035,
           0.6209782490178417,
           0.7612176970680373,
           0.7455030683167801
          ],
          [
           0.6988481828146911,
           0.7800080799169093,
           0.8020365790837871,
           0.8240859175768875,
           0.7998434114357778,
           0.8843605671152464,
           0.5116943582061702,
           0.8505635448815595,
           0.8861848913582335,
           0.8975762726012744,
           0.6801699989250796,
           0.7799891162435361,
           0.7636296786940097,
           0.7486908679816648,
           0.8085022616070245,
           0.8351055022821188,
           0.8795484582977701,
           0.8271187888073274,
           0.7616895233563241,
           0,
           0.6878316729637182,
           0.7839404955586547,
           0.7584561432341014,
           0.7830892477882195
          ],
          [
           0.6144553424970897,
           0.3195537551873447,
           0.8158383491974284,
           0.764886118967542,
           0.7535900695615576,
           0.7832477962413035,
           0.7025654487292246,
           0.6877950960741828,
           0.7122424620415347,
           0.7575274263191943,
           0.58366525515741,
           0.6136377899837397,
           0.6041387845326296,
           0.691995569224504,
           0.6956180132119143,
           0.6351191350405831,
           0.7660964828159348,
           0.6617495264512789,
           0.4322018961820035,
           0.6878316729637182,
           0,
           0.5674333860863712,
           0.6943838008420274,
           0.6680789495299315
          ],
          [
           0.4730441699450427,
           0.3468536771200269,
           0.7227424723725934,
           0.658908326410914,
           0.6617965759623203,
           0.7818348911426815,
           0.642642099168323,
           0.6542525738099364,
           0.7389492863201021,
           0.7406049102109388,
           0.36241778679190717,
           0.5024180997177514,
           0.7918181968661137,
           0.8242691997805518,
           0.5218609030685096,
           0.5531897661632357,
           0.7428792687621825,
           0.6031220133621067,
           0.6209782490178417,
           0.7839404955586547,
           0.5674333860863712,
           0,
           0.2569767813625521,
           0.2719422502419789
          ],
          [
           0.2917961511802308,
           0.5543913918919163,
           0.7111819147692331,
           0.6786936219920683,
           0.6780220532782995,
           0.7980857075891311,
           0.6449186953995846,
           0.7527748470935307,
           0.8240074427047903,
           0.6100554973765674,
           0.27330135719888676,
           0.37414554566628283,
           0.8735387173134457,
           0.7902367497580275,
           0.42887111751972656,
           0.6833660707886348,
           0.6007703336259588,
           0.4823687808330848,
           0.7612176970680373,
           0.7584561432341014,
           0.6943838008420274,
           0.2569767813625521,
           0,
           0.10954980187446858
          ],
          [
           0.30133354510556487,
           0.5788378185368899,
           0.738284434277741,
           0.6527727171013873,
           0.6672115318398035,
           0.7820885653084672,
           0.6492445745508211,
           0.7410575919159142,
           0.7987901236739545,
           0.6240973966969989,
           0.28106789647651836,
           0.3573746785165931,
           0.8586177131055688,
           0.7578505509088748,
           0.41594311156062697,
           0.7058437641477314,
           0.6176103306176128,
           0.4572144810499639,
           0.7455030683167801,
           0.7830892477882195,
           0.6680789495299315,
           0.2719422502419789,
           0.10954980187446858,
           0
          ]
         ]
        }
       ],
       "layout": {
        "coloraxis": {
         "colorscale": [
          [
           0,
           "#000004"
          ],
          [
           0.1111111111111111,
           "#1b0c41"
          ],
          [
           0.2222222222222222,
           "#4a0c6b"
          ],
          [
           0.3333333333333333,
           "#781c6d"
          ],
          [
           0.4444444444444444,
           "#a52c60"
          ],
          [
           0.5555555555555556,
           "#cf4446"
          ],
          [
           0.6666666666666666,
           "#ed6925"
          ],
          [
           0.7777777777777778,
           "#fb9b06"
          ],
          [
           0.8888888888888888,
           "#f7d13d"
          ],
          [
           1,
           "#fcffa4"
          ]
         ]
        },
        "height": 1200,
        "template": {
         "data": {
          "bar": [
           {
            "error_x": {
             "color": "#2a3f5f"
            },
            "error_y": {
             "color": "#2a3f5f"
            },
            "marker": {
             "line": {
              "color": "#E5ECF6",
              "width": 0.5
             },
             "pattern": {
              "fillmode": "overlay",
              "size": 10,
              "solidity": 0.2
             }
            },
            "type": "bar"
           }
          ],
          "barpolar": [
           {
            "marker": {
             "line": {
              "color": "#E5ECF6",
              "width": 0.5
             },
             "pattern": {
              "fillmode": "overlay",
              "size": 10,
              "solidity": 0.2
             }
            },
            "type": "barpolar"
           }
          ],
          "carpet": [
           {
            "aaxis": {
             "endlinecolor": "#2a3f5f",
             "gridcolor": "white",
             "linecolor": "white",
             "minorgridcolor": "white",
             "startlinecolor": "#2a3f5f"
            },
            "baxis": {
             "endlinecolor": "#2a3f5f",
             "gridcolor": "white",
             "linecolor": "white",
             "minorgridcolor": "white",
             "startlinecolor": "#2a3f5f"
            },
            "type": "carpet"
           }
          ],
          "choropleth": [
           {
            "colorbar": {
             "outlinewidth": 0,
             "ticks": ""
            },
            "type": "choropleth"
           }
          ],
          "contour": [
           {
            "colorbar": {
             "outlinewidth": 0,
             "ticks": ""
            },
            "colorscale": [
             [
              0,
              "#0d0887"
             ],
             [
              0.1111111111111111,
              "#46039f"
             ],
             [
              0.2222222222222222,
              "#7201a8"
             ],
             [
              0.3333333333333333,
              "#9c179e"
             ],
             [
              0.4444444444444444,
              "#bd3786"
             ],
             [
              0.5555555555555556,
              "#d8576b"
             ],
             [
              0.6666666666666666,
              "#ed7953"
             ],
             [
              0.7777777777777778,
              "#fb9f3a"
             ],
             [
              0.8888888888888888,
              "#fdca26"
             ],
             [
              1,
              "#f0f921"
             ]
            ],
            "type": "contour"
           }
          ],
          "contourcarpet": [
           {
            "colorbar": {
             "outlinewidth": 0,
             "ticks": ""
            },
            "type": "contourcarpet"
           }
          ],
          "heatmap": [
           {
            "colorbar": {
             "outlinewidth": 0,
             "ticks": ""
            },
            "colorscale": [
             [
              0,
              "#0d0887"
             ],
             [
              0.1111111111111111,
              "#46039f"
             ],
             [
              0.2222222222222222,
              "#7201a8"
             ],
             [
              0.3333333333333333,
              "#9c179e"
             ],
             [
              0.4444444444444444,
              "#bd3786"
             ],
             [
              0.5555555555555556,
              "#d8576b"
             ],
             [
              0.6666666666666666,
              "#ed7953"
             ],
             [
              0.7777777777777778,
              "#fb9f3a"
             ],
             [
              0.8888888888888888,
              "#fdca26"
             ],
             [
              1,
              "#f0f921"
             ]
            ],
            "type": "heatmap"
           }
          ],
          "heatmapgl": [
           {
            "colorbar": {
             "outlinewidth": 0,
             "ticks": ""
            },
            "colorscale": [
             [
              0,
              "#0d0887"
             ],
             [
              0.1111111111111111,
              "#46039f"
             ],
             [
              0.2222222222222222,
              "#7201a8"
             ],
             [
              0.3333333333333333,
              "#9c179e"
             ],
             [
              0.4444444444444444,
              "#bd3786"
             ],
             [
              0.5555555555555556,
              "#d8576b"
             ],
             [
              0.6666666666666666,
              "#ed7953"
             ],
             [
              0.7777777777777778,
              "#fb9f3a"
             ],
             [
              0.8888888888888888,
              "#fdca26"
             ],
             [
              1,
              "#f0f921"
             ]
            ],
            "type": "heatmapgl"
           }
          ],
          "histogram": [
           {
            "marker": {
             "pattern": {
              "fillmode": "overlay",
              "size": 10,
              "solidity": 0.2
             }
            },
            "type": "histogram"
           }
          ],
          "histogram2d": [
           {
            "colorbar": {
             "outlinewidth": 0,
             "ticks": ""
            },
            "colorscale": [
             [
              0,
              "#0d0887"
             ],
             [
              0.1111111111111111,
              "#46039f"
             ],
             [
              0.2222222222222222,
              "#7201a8"
             ],
             [
              0.3333333333333333,
              "#9c179e"
             ],
             [
              0.4444444444444444,
              "#bd3786"
             ],
             [
              0.5555555555555556,
              "#d8576b"
             ],
             [
              0.6666666666666666,
              "#ed7953"
             ],
             [
              0.7777777777777778,
              "#fb9f3a"
             ],
             [
              0.8888888888888888,
              "#fdca26"
             ],
             [
              1,
              "#f0f921"
             ]
            ],
            "type": "histogram2d"
           }
          ],
          "histogram2dcontour": [
           {
            "colorbar": {
             "outlinewidth": 0,
             "ticks": ""
            },
            "colorscale": [
             [
              0,
              "#0d0887"
             ],
             [
              0.1111111111111111,
              "#46039f"
             ],
             [
              0.2222222222222222,
              "#7201a8"
             ],
             [
              0.3333333333333333,
              "#9c179e"
             ],
             [
              0.4444444444444444,
              "#bd3786"
             ],
             [
              0.5555555555555556,
              "#d8576b"
             ],
             [
              0.6666666666666666,
              "#ed7953"
             ],
             [
              0.7777777777777778,
              "#fb9f3a"
             ],
             [
              0.8888888888888888,
              "#fdca26"
             ],
             [
              1,
              "#f0f921"
             ]
            ],
            "type": "histogram2dcontour"
           }
          ],
          "mesh3d": [
           {
            "colorbar": {
             "outlinewidth": 0,
             "ticks": ""
            },
            "type": "mesh3d"
           }
          ],
          "parcoords": [
           {
            "line": {
             "colorbar": {
              "outlinewidth": 0,
              "ticks": ""
             }
            },
            "type": "parcoords"
           }
          ],
          "pie": [
           {
            "automargin": true,
            "type": "pie"
           }
          ],
          "scatter": [
           {
            "marker": {
             "colorbar": {
              "outlinewidth": 0,
              "ticks": ""
             }
            },
            "type": "scatter"
           }
          ],
          "scatter3d": [
           {
            "line": {
             "colorbar": {
              "outlinewidth": 0,
              "ticks": ""
             }
            },
            "marker": {
             "colorbar": {
              "outlinewidth": 0,
              "ticks": ""
             }
            },
            "type": "scatter3d"
           }
          ],
          "scattercarpet": [
           {
            "marker": {
             "colorbar": {
              "outlinewidth": 0,
              "ticks": ""
             }
            },
            "type": "scattercarpet"
           }
          ],
          "scattergeo": [
           {
            "marker": {
             "colorbar": {
              "outlinewidth": 0,
              "ticks": ""
             }
            },
            "type": "scattergeo"
           }
          ],
          "scattergl": [
           {
            "marker": {
             "colorbar": {
              "outlinewidth": 0,
              "ticks": ""
             }
            },
            "type": "scattergl"
           }
          ],
          "scattermapbox": [
           {
            "marker": {
             "colorbar": {
              "outlinewidth": 0,
              "ticks": ""
             }
            },
            "type": "scattermapbox"
           }
          ],
          "scatterpolar": [
           {
            "marker": {
             "colorbar": {
              "outlinewidth": 0,
              "ticks": ""
             }
            },
            "type": "scatterpolar"
           }
          ],
          "scatterpolargl": [
           {
            "marker": {
             "colorbar": {
              "outlinewidth": 0,
              "ticks": ""
             }
            },
            "type": "scatterpolargl"
           }
          ],
          "scatterternary": [
           {
            "marker": {
             "colorbar": {
              "outlinewidth": 0,
              "ticks": ""
             }
            },
            "type": "scatterternary"
           }
          ],
          "surface": [
           {
            "colorbar": {
             "outlinewidth": 0,
             "ticks": ""
            },
            "colorscale": [
             [
              0,
              "#0d0887"
             ],
             [
              0.1111111111111111,
              "#46039f"
             ],
             [
              0.2222222222222222,
              "#7201a8"
             ],
             [
              0.3333333333333333,
              "#9c179e"
             ],
             [
              0.4444444444444444,
              "#bd3786"
             ],
             [
              0.5555555555555556,
              "#d8576b"
             ],
             [
              0.6666666666666666,
              "#ed7953"
             ],
             [
              0.7777777777777778,
              "#fb9f3a"
             ],
             [
              0.8888888888888888,
              "#fdca26"
             ],
             [
              1,
              "#f0f921"
             ]
            ],
            "type": "surface"
           }
          ],
          "table": [
           {
            "cells": {
             "fill": {
              "color": "#EBF0F8"
             },
             "line": {
              "color": "white"
             }
            },
            "header": {
             "fill": {
              "color": "#C8D4E3"
             },
             "line": {
              "color": "white"
             }
            },
            "type": "table"
           }
          ]
         },
         "layout": {
          "annotationdefaults": {
           "arrowcolor": "#2a3f5f",
           "arrowhead": 0,
           "arrowwidth": 1
          },
          "autotypenumbers": "strict",
          "coloraxis": {
           "colorbar": {
            "outlinewidth": 0,
            "ticks": ""
           }
          },
          "colorscale": {
           "diverging": [
            [
             0,
             "#8e0152"
            ],
            [
             0.1,
             "#c51b7d"
            ],
            [
             0.2,
             "#de77ae"
            ],
            [
             0.3,
             "#f1b6da"
            ],
            [
             0.4,
             "#fde0ef"
            ],
            [
             0.5,
             "#f7f7f7"
            ],
            [
             0.6,
             "#e6f5d0"
            ],
            [
             0.7,
             "#b8e186"
            ],
            [
             0.8,
             "#7fbc41"
            ],
            [
             0.9,
             "#4d9221"
            ],
            [
             1,
             "#276419"
            ]
           ],
           "sequential": [
            [
             0,
             "#0d0887"
            ],
            [
             0.1111111111111111,
             "#46039f"
            ],
            [
             0.2222222222222222,
             "#7201a8"
            ],
            [
             0.3333333333333333,
             "#9c179e"
            ],
            [
             0.4444444444444444,
             "#bd3786"
            ],
            [
             0.5555555555555556,
             "#d8576b"
            ],
            [
             0.6666666666666666,
             "#ed7953"
            ],
            [
             0.7777777777777778,
             "#fb9f3a"
            ],
            [
             0.8888888888888888,
             "#fdca26"
            ],
            [
             1,
             "#f0f921"
            ]
           ],
           "sequentialminus": [
            [
             0,
             "#0d0887"
            ],
            [
             0.1111111111111111,
             "#46039f"
            ],
            [
             0.2222222222222222,
             "#7201a8"
            ],
            [
             0.3333333333333333,
             "#9c179e"
            ],
            [
             0.4444444444444444,
             "#bd3786"
            ],
            [
             0.5555555555555556,
             "#d8576b"
            ],
            [
             0.6666666666666666,
             "#ed7953"
            ],
            [
             0.7777777777777778,
             "#fb9f3a"
            ],
            [
             0.8888888888888888,
             "#fdca26"
            ],
            [
             1,
             "#f0f921"
            ]
           ]
          },
          "colorway": [
           "#636efa",
           "#EF553B",
           "#00cc96",
           "#ab63fa",
           "#FFA15A",
           "#19d3f3",
           "#FF6692",
           "#B6E880",
           "#FF97FF",
           "#FECB52"
          ],
          "font": {
           "color": "#2a3f5f"
          },
          "geo": {
           "bgcolor": "white",
           "lakecolor": "white",
           "landcolor": "#E5ECF6",
           "showlakes": true,
           "showland": true,
           "subunitcolor": "white"
          },
          "hoverlabel": {
           "align": "left"
          },
          "hovermode": "closest",
          "mapbox": {
           "style": "light"
          },
          "paper_bgcolor": "white",
          "plot_bgcolor": "#E5ECF6",
          "polar": {
           "angularaxis": {
            "gridcolor": "white",
            "linecolor": "white",
            "ticks": ""
           },
           "bgcolor": "#E5ECF6",
           "radialaxis": {
            "gridcolor": "white",
            "linecolor": "white",
            "ticks": ""
           }
          },
          "scene": {
           "xaxis": {
            "backgroundcolor": "#E5ECF6",
            "gridcolor": "white",
            "gridwidth": 2,
            "linecolor": "white",
            "showbackground": true,
            "ticks": "",
            "zerolinecolor": "white"
           },
           "yaxis": {
            "backgroundcolor": "#E5ECF6",
            "gridcolor": "white",
            "gridwidth": 2,
            "linecolor": "white",
            "showbackground": true,
            "ticks": "",
            "zerolinecolor": "white"
           },
           "zaxis": {
            "backgroundcolor": "#E5ECF6",
            "gridcolor": "white",
            "gridwidth": 2,
            "linecolor": "white",
            "showbackground": true,
            "ticks": "",
            "zerolinecolor": "white"
           }
          },
          "shapedefaults": {
           "line": {
            "color": "#2a3f5f"
           }
          },
          "ternary": {
           "aaxis": {
            "gridcolor": "white",
            "linecolor": "white",
            "ticks": ""
           },
           "baxis": {
            "gridcolor": "white",
            "linecolor": "white",
            "ticks": ""
           },
           "bgcolor": "#E5ECF6",
           "caxis": {
            "gridcolor": "white",
            "linecolor": "white",
            "ticks": ""
           }
          },
          "title": {
           "x": 0.05
          },
          "xaxis": {
           "automargin": true,
           "gridcolor": "white",
           "linecolor": "white",
           "ticks": "",
           "title": {
            "standoff": 15
           },
           "zerolinecolor": "white",
           "zerolinewidth": 2
          },
          "yaxis": {
           "automargin": true,
           "gridcolor": "white",
           "linecolor": "white",
           "ticks": "",
           "title": {
            "standoff": 15
           },
           "zerolinecolor": "white",
           "zerolinewidth": 2
          }
         }
        },
        "title": {
         "text": "Комбинированная мера"
        },
        "width": 1000,
        "xaxis": {
         "anchor": "y",
         "constrain": "domain",
         "domain": [
          0,
          1
         ],
         "scaleanchor": "y",
         "side": "top"
        },
        "yaxis": {
         "anchor": "x",
         "autorange": "reversed",
         "constrain": "domain",
         "domain": [
          0,
          1
         ]
        }
       }
      }
     },
     "metadata": {},
     "output_type": "display_data"
    }
   ],
   "source": [
    "draw(calcDistanceCompined(df, dfTree), nameArr, \"Комбинированная мера\")"
   ]
  },
  {
   "cell_type": "markdown",
   "metadata": {},
   "source": [
    "## Лабораторная работа 3"
   ]
  },
  {
   "cell_type": "markdown",
   "metadata": {},
   "source": [
    "#### Требуемые параметры"
   ]
  },
  {
   "cell_type": "code",
   "execution_count": 910,
   "metadata": {},
   "outputs": [],
   "source": [
    "matrSimilarity = calcDistanceCompined(df, dfTree)"
   ]
  },
  {
   "cell_type": "markdown",
   "metadata": {},
   "source": [
    "### Задача 1"
   ]
  },
  {
   "cell_type": "markdown",
   "metadata": {},
   "source": [
    "**Вход**: 1 объект (затравочный). \n",
    "\n",
    "**Выход**: список рекомендаций, ранжированный по убыванию близости с затравкой. Примените Вашу обобщающую меру близости."
   ]
  },
  {
   "cell_type": "code",
   "execution_count": 911,
   "metadata": {},
   "outputs": [
    {
     "name": "stdout",
     "output_type": "stream",
     "text": [
      "    расстояние                                   название\n",
      "23    0.109550  La Petite Robe Noire Ma Robe Sous le Vent\n",
      "21    0.256977           Flora by Gucci Gorgeous Gardenia\n",
      "10    0.273301                              Ange ou Demon\n",
      "0     0.291796                                   Shalimar\n",
      "11    0.374146                      Samsara Eau de Parfum\n",
      "14    0.428871                      Lanvin Eclat D Arpege\n",
      "17    0.482369                                 Channel №5\n",
      "1     0.554391                            3 L'Imperatrice\n",
      "16    0.600770              Cartier Declaration D Un Soir\n",
      "9     0.610055               Eau de Lacoste L.12.12 Blanc\n",
      "6     0.644919                                      Twist\n",
      "4     0.678022                              Resolute Gold\n",
      "3     0.678694                                     Sabina\n",
      "15    0.683366                           MOSCHINO Toy Boy\n",
      "20    0.694384                               The Only One\n",
      "2     0.711182                                1001 Nights\n",
      "7     0.752775                                CK Everyone\n",
      "19    0.758456           Escentric Molecules Escentric 02\n",
      "18    0.761218                        Prada Day For Night\n",
      "13    0.790237                                     Renata\n",
      "5     0.798086                               Oath for Him\n",
      "8     0.824007                                    Bad Boy\n",
      "12    0.873539                             New Your Amber\n"
     ]
    }
   ],
   "source": [
    "def _findSimilar(name):\n",
    "    ind = df0[F_NAME].tolist().index(name)\n",
    "    \n",
    "    listSimilarity = getSimilarity(ind, matrSimilarity, nameArr)\n",
    "    return listSimilarity\n",
    "\n",
    "\n",
    "def findSimilar(name):\n",
    "    listSimilarity = _findSimilar(name)\n",
    "\n",
    "    return listSimilarity[listSimilarity[F_NAME] != name]\n",
    "    \n",
    "res = findSimilar(\"La Petite Robe Noire Ma Robe Cocktail\")\n",
    "print(res)"
   ]
  },
  {
   "cell_type": "markdown",
   "metadata": {},
   "source": [
    "### Задача 2"
   ]
  },
  {
   "cell_type": "markdown",
   "metadata": {},
   "source": [
    "**Вход**: массив объектов (лайков). \n",
    "\n",
    "**Выход**: сформированный ранжированный список рекомендаций."
   ]
  },
  {
   "cell_type": "code",
   "execution_count": 916,
   "metadata": {},
   "outputs": [
    {
     "name": "stdout",
     "output_type": "stream",
     "text": [
      "[[0.10954980187446858 'La Petite Robe Noire Ma Robe Sous le Vent']\n",
      " [0.2569767813625521 'Flora by Gucci Gorgeous Gardenia']\n",
      " [0.27330135719888676 'Ange ou Demon']\n",
      " [0.2917961511802308 'Shalimar']\n",
      " [0.37414554566628283 'Samsara Eau de Parfum']\n",
      " [0.42887111751972656 'Lanvin Eclat D Arpege']\n",
      " [0.4823687808330848 'Channel №5']\n",
      " [0.5543913918919163 \"3 L'Imperatrice\"]\n",
      " [0.6007703336259588 'Cartier Declaration D Un Soir']\n",
      " [0.6100554973765674 'Eau de Lacoste L.12.12 Blanc']\n",
      " [0.6780220532782995 'Resolute Gold']\n",
      " [0.6786936219920683 'Sabina']\n",
      " [0.6833660707886348 'MOSCHINO Toy Boy']\n",
      " [0.6943838008420274 'The Only One']\n",
      " [0.7111819147692331 '1001 Nights']\n",
      " [0.7527748470935307 'CK Everyone']\n",
      " [0.7584561432341014 'Escentric Molecules Escentric 02']\n",
      " [0.7612176970680373 'Prada Day For Night']\n",
      " [0.7902367497580275 'Renata']\n",
      " [0.7980857075891311 'Oath for Him']\n",
      " [0.8240074427047903 'Bad Boy']\n",
      " [0.8735387173134457 'New Your Amber']]\n",
      "-----\n",
      "[[0.43178408395820267 'Resolute Gold']\n",
      " [0.46712274284740496 'Sabina']\n",
      " [0.4941404577739338 '1001 Nights']\n",
      " [0.5116943582061702 'Escentric Molecules Escentric 02']\n",
      " [0.5124737472378732 'Oath for Him']\n",
      " [0.6368086270862388 \"3 L'Imperatrice\"]\n",
      " [0.642642099168323 'Flora by Gucci Gorgeous Gardenia']\n",
      " [0.6492445745508211 'La Petite Robe Noire Ma Robe Sous le Vent']\n",
      " [0.6725093575406323 'Lanvin Eclat D Arpege']\n",
      " [0.6852326867437791 'Channel №5']\n",
      " [0.6943351346091278 'CK Everyone']\n",
      " [0.7025654487292246 'The Only One']\n",
      " [0.7664697958096539 'Bad Boy']\n",
      " [0.7694896153285619 'MOSCHINO Toy Boy']\n",
      " [0.7781929054587359 'Ange ou Demon']\n",
      " [0.7854659065703287 'Cartier Declaration D Un Soir']\n",
      " [0.7885949794555834 'Prada Day For Night']\n",
      " [0.7957121071772852 'Eau de Lacoste L.12.12 Blanc']\n",
      " [0.8046455204046197 'Renata']\n",
      " [0.8194378504596076 'Shalimar']\n",
      " [0.842497980027034 'Samsara Eau de Parfum']\n",
      " [0.8482282748228239 'New Your Amber']]\n",
      "-----\n",
      "(1000.0, None)\n"
     ]
    }
   ],
   "source": [
    "# def findSimilarMany(nameArr):\n",
    "#     recList = []\n",
    "#     for name in nameArr:\n",
    "#         rec = _findSimilar(name)\n",
    "#         recList.append(rec.loc[rec[F_NAME].isin(nameArr) == False])\n",
    "\n",
    "#     dist, nameObj = 1e3, None\n",
    "#     for rec in recList:\n",
    "#         print(rec.values)\n",
    "        \n",
    "#         # distT = rec.iloc[0][F_DIST]\n",
    "#         # nameObjT = rec.iloc[0][F_NAME]\n",
    "#         # if distT < dist:\n",
    "#         #     dist, nameObj = distT, nameObjT\n",
    "\n",
    "#     return dist, nameObj\n",
    "\n",
    "# print(findSimilarMany([\"La Petite Robe Noire Ma Robe Cocktail\",\n",
    "#                         \"Twist\"]))"
   ]
  }
 ],
 "metadata": {
  "kernelspec": {
   "display_name": "Python 3.7.2 64-bit",
   "language": "python",
   "name": "python3"
  },
  "language_info": {
   "codemirror_mode": {
    "name": "ipython",
    "version": 3
   },
   "file_extension": ".py",
   "mimetype": "text/x-python",
   "name": "python",
   "nbconvert_exporter": "python",
   "pygments_lexer": "ipython3",
   "version": "3.7.2"
  },
  "orig_nbformat": 4,
  "vscode": {
   "interpreter": {
    "hash": "282f4042d0d2d9a0200af20cb2beb9f26be992824fb63627345c0d962f0cf16d"
   }
  }
 },
 "nbformat": 4,
 "nbformat_minor": 2
}
